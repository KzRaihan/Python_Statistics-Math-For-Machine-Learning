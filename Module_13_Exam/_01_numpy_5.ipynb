{
 "cells": [
  {
   "cell_type": "markdown",
   "id": "c0eedfa3",
   "metadata": {},
   "source": [
    "<!-- 1) NumPy — 5 Questions -->\n",
    "\n",
    "    - Q1. Create NumPy arrays from the ages and salaries data generated above. Print both arrays and display their dtype, ndim, shape, and size.\n",
    "\n",
    "    - Q2. Using the salaries array, find and print the highest and lowest salary values. Also, calculate and print the average salary and age using NumPy functions.\n",
    "\n",
    "    - Q3. From the ages array, filter and print all ages greater than 30 using a boolean condition. Then count and print how many employees are older than 30.\n",
    "\n",
    "    - Q4. Create a new NumPy array that increases every employee’s age by 5 years (without modifying the original array). Print the new updated ages array.\n",
    "\n",
    "    - Q5. Using NumPy, calculate the total salary expense (sum of all salaries) and the difference between the maximum and minimum salary. Print both results."
   ]
  },
  {
   "cell_type": "code",
   "execution_count": 12,
   "id": "65657caa",
   "metadata": {},
   "outputs": [],
   "source": [
    "import numpy as np\n",
    "np.random.seed(42)\n",
    "\n",
    "ids = np.arange(1, 11)\n",
    "ages = np.random.randint(18, 60, 10)\n",
    "salaries = np.random.randint(30000, 90000, 10)\n",
    "departments = np.array([\"HR\", \"IT\", \"Finance\", \"IT\", \"HR\", \"Sales\", \"Finance\", \"IT\", \"Sales\", \"HR\"])\n"
   ]
  },
  {
   "cell_type": "markdown",
   "id": "b6a20f09",
   "metadata": {},
   "source": [
    "### Solve: Q1. Create NumPy arrays from the ages and salaries data generated above. Print both arrays and display their dtype, ndim, shape, and size."
   ]
  },
  {
   "cell_type": "code",
   "execution_count": 15,
   "id": "3144dfe1",
   "metadata": {},
   "outputs": [
    {
     "name": "stdout",
     "output_type": "stream",
     "text": [
      "Salary Array:  [77191 74131 46023 71090 31685 30769 89735 86101 32433 35311]\n",
      "type:  <class 'numpy.ndarray'>\n",
      "Ages:  [56 46 32 25 38 56 36 40 28 28]\n",
      "type:  <class 'numpy.ndarray'>\n"
     ]
    }
   ],
   "source": [
    "ages = np.array(ages)\n",
    "salaries = np.array(salaries)\n",
    "\n",
    "print(\"Salary Array: \", salaries)\n",
    "print(\"type: \", type(salaries))\n",
    "\n",
    "\n",
    "print(\"Ages: \", ages)\n",
    "print(\"type: \", type(salaries))"
   ]
  },
  {
   "cell_type": "code",
   "execution_count": 17,
   "id": "a783dfff",
   "metadata": {},
   "outputs": [
    {
     "name": "stdout",
     "output_type": "stream",
     "text": [
      "For ages ndarray: \n",
      "\n",
      "Data type:  int32\n",
      "Dimension:  1\n",
      "Shape    :  (10,)\n",
      "Size     :  10\n",
      "For salaries ndarray: \n",
      "\n",
      "Data type:  int32\n",
      "Dimension:  1\n",
      "Shape    :  (10,)\n",
      "Size     :  10\n"
     ]
    }
   ],
   "source": [
    "#  dtype, ndim, shape, and size.\n",
    "\n",
    "print(\"For ages ndarray: \\n\")\n",
    "\n",
    "print(\"Data type: \", ages.dtype)\n",
    "print(\"Dimension: \", ages.ndim)\n",
    "print(\"Shape    : \", ages.shape)\n",
    "print(\"Size     : \", ages.size)\n",
    "\n",
    "\n",
    "\n",
    "print(\"For salaries ndarray: \\n\")\n",
    "\n",
    "print(\"Data type: \", salaries.dtype)\n",
    "print(\"Dimension: \", salaries.ndim)\n",
    "print(\"Shape    : \", salaries.shape)\n",
    "print(\"Size     : \", salaries.size)\n"
   ]
  },
  {
   "cell_type": "markdown",
   "id": "d9a08215",
   "metadata": {},
   "source": [
    "###  Q2. Using the salaries array, find and print the highest and lowest salary values. Also, calculate and print the average salary and age using NumPy functions."
   ]
  },
  {
   "cell_type": "code",
   "execution_count": 47,
   "id": "40a77be2",
   "metadata": {},
   "outputs": [
    {
     "name": "stdout",
     "output_type": "stream",
     "text": [
      "Highest Salary:  89735\n",
      "Lowest Salary :  30769\n",
      "Average Salary:  57446.9\n",
      "Average Age:  38.5\n"
     ]
    }
   ],
   "source": [
    "highest_salary = np.max(salaries)\n",
    "\n",
    "lowest_salary = np.min(salaries)\n",
    "\n",
    "avg_salary = np.mean(salaries)\n",
    "\n",
    "avg_age = np.mean(ages)\n",
    "\n",
    "\n",
    "\n",
    "print(\"Highest Salary: \", highest_salary)\n",
    "print(\"Lowest Salary : \", lowest_salary)\n",
    "print(\"Average Salary: \", avg_salary)\n",
    "print(\"Average Age: \", avg_age)\n",
    "\n"
   ]
  },
  {
   "cell_type": "markdown",
   "id": "f5b8f642",
   "metadata": {},
   "source": [
    "#### Q3. From the ages array, filter and print all ages greater than 30 using a boolean condition. Then count and print how many employees are older than 30.\n"
   ]
  },
  {
   "cell_type": "code",
   "execution_count": null,
   "id": "71bc3a5e",
   "metadata": {},
   "outputs": [
    {
     "name": "stdout",
     "output_type": "stream",
     "text": [
      "Ages Greater than 30:  [56 46 32 38 56 36 40]\n",
      "Total Employees  older than 30:  7\n",
      "Total Employees  older than 30:  7\n"
     ]
    }
   ],
   "source": [
    "# solution:\n",
    "greater_30 = ages[ages > 30]\n",
    "print(\"Ages Greater than 30: \", greater_30)\n",
    "\n",
    "\n",
    "count = np.sum(greater_30 > 30)\n",
    "\n",
    "# count1 = np.count_nonzero(ages > 30)\n",
    "\n",
    "print(\"Total Employees  older than 30: \", count)\n",
    "\n",
    "# print(\"Total Employees  older than 30: \", count1)\n",
    "\n"
   ]
  },
  {
   "cell_type": "markdown",
   "id": "3ae8f13f",
   "metadata": {},
   "source": [
    "#### Q4. Create a new NumPy array that increases every employee’s age by 5 years (without modifying the original array). Print the new updated ages array."
   ]
  },
  {
   "cell_type": "code",
   "execution_count": 49,
   "id": "89e2f8e0",
   "metadata": {},
   "outputs": [
    {
     "name": "stdout",
     "output_type": "stream",
     "text": [
      "Original age:  [56 46 32 25 38 56 36 40 28 28]\n",
      "Updated age:  [61 51 37 30 43 61 41 45 33 33]\n"
     ]
    }
   ],
   "source": [
    "print(\"Original age: \", ages)\n",
    "\n",
    "new_age = ages + 5\n",
    "\n",
    "print(\"Updated age: \", new_age)"
   ]
  },
  {
   "cell_type": "markdown",
   "id": "b7af5e9e",
   "metadata": {},
   "source": [
    "#### Q5. Using NumPy, calculate the total salary expense (sum of all salaries) and the difference between the maximum and minimum salary. Print both results."
   ]
  },
  {
   "cell_type": "code",
   "execution_count": 43,
   "id": "6a5c15ed",
   "metadata": {},
   "outputs": [
    {
     "name": "stdout",
     "output_type": "stream",
     "text": [
      "Total Salary:  574469\n",
      "Differnt:  58966\n"
     ]
    }
   ],
   "source": [
    "total_salary = np.sum(salaries)\n",
    "\n",
    "print(\"Total Salary: \", total_salary)\n",
    "\n",
    "# min and max\n",
    "min_salary = np.min(salaries)\n",
    "\n",
    "max_salary = np.max(salaries)\n",
    "\n",
    "dffn = max_salary - min_salary\n",
    "\n",
    "print(\"Differnt: \", dffn)"
   ]
  },
  {
   "cell_type": "code",
   "execution_count": null,
   "id": "748c1c1b",
   "metadata": {},
   "outputs": [
    {
     "name": "stdout",
     "output_type": "stream",
     "text": [
      "574469\n"
     ]
    }
   ],
   "source": [
    "# total = 0\n",
    "\n",
    "# for i in salaries:\n",
    "#     total += i\n",
    "\n",
    "# print(total)"
   ]
  },
  {
   "cell_type": "code",
   "execution_count": null,
   "id": "6ca29fe1",
   "metadata": {},
   "outputs": [],
   "source": []
  }
 ],
 "metadata": {
  "kernelspec": {
   "display_name": "base",
   "language": "python",
   "name": "python3"
  },
  "language_info": {
   "codemirror_mode": {
    "name": "ipython",
    "version": 3
   },
   "file_extension": ".py",
   "mimetype": "text/x-python",
   "name": "python",
   "nbconvert_exporter": "python",
   "pygments_lexer": "ipython3",
   "version": "3.13.5"
  }
 },
 "nbformat": 4,
 "nbformat_minor": 5
}
