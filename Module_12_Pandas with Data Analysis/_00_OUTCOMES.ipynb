{
 "cells": [
  {
   "cell_type": "markdown",
   "id": "6d9067dc",
   "metadata": {},
   "source": [
    "## Topic: Data Analysic With Pandas"
   ]
  },
  {
   "cell_type": "markdown",
   "id": "2914413f",
   "metadata": {},
   "source": [
    "### OUTCOMES\n",
    "\n",
    "- 1. Pandas intro\n",
    "\n",
    "- 2. DataFram and Serices\n",
    "\n",
    "- 3. Working with Different file type (csv, excel etc)\n",
    "\n",
    "- 4. Basic Functionality\n",
    "\n",
    "- 5. DataFrame From In-build Data Structure (list, tuple, dic)\n",
    "\n",
    "- 6. Changing indexing and columns\n",
    "\n",
    "- 7. Deleteing rows and columns\n",
    "\n",
    "- 8. Sorting a DataFram (DF)\n",
    "\n",
    "- 9. Filtering DF based on condition\n",
    "\n",
    "- 10. Problem Solving on LeeCode"
   ]
  }
 ],
 "metadata": {
  "language_info": {
   "name": "python"
  }
 },
 "nbformat": 4,
 "nbformat_minor": 5
}
