{
 "cells": [
  {
   "cell_type": "markdown",
   "id": "6d9067dc",
   "metadata": {},
   "source": [
    "## Topic: Data Analysic With Pandas"
   ]
  },
  {
   "cell_type": "markdown",
   "id": "2914413f",
   "metadata": {},
   "source": [
    "### OUTCOMES\n",
    "\n",
    "- 1. Pandas intro\n",
    "\n",
    "- 2. DataFram and Serices\n",
    "\n",
    "- 3. Working with Different file type (csv, excel etc)\n",
    "\n",
    "- 4. Basic Functionality\n",
    "\n",
    "- 5. DataFrame From In-build Data Structure (list, tuple, dic)\n",
    "\n",
    "- 6. Accesing Data with index and columns of a df\n",
    "\n",
    "- 7. Changing indexing and columns\n",
    "\n",
    "- 8. Deleting, Assigning, and Iterating in df\n",
    "\n",
    "- 9. Sorting a DataFram (DF)\n",
    "\n",
    "- 10. Filtering DF based on condition\n",
    "\n",
    "- 11. Problem Solving on LeeCode"
   ]
  }
 ],
 "metadata": {
  "language_info": {
   "name": "python"
  }
 },
 "nbformat": 4,
 "nbformat_minor": 5
}
