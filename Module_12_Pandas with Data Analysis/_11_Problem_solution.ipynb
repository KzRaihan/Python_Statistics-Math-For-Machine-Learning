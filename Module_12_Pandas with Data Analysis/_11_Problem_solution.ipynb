{
 "cells": [
  {
   "cell_type": "markdown",
   "id": "ea22dec0",
   "metadata": {},
   "source": [
    "### Problem : 595: Big Countries\n",
    "\n",
    "- link: https://leetcode.com/problems/big-countries/description/"
   ]
  },
  {
   "cell_type": "markdown",
   "id": "71b154ab",
   "metadata": {},
   "source": [
    "-  A country is big if:\n",
    "\n",
    "    - it has an area of at least three million (i.e., 3000000 km2), or\n",
    "    - it has a population of at least twenty-five million (i.e., 25000000).\n",
    "    - Write a solution to find the name, population, and area of the big countries.\n",
    "\n",
    "Return the result table in any order."
   ]
  },
  {
   "cell_type": "markdown",
   "id": "799f08aa",
   "metadata": {},
   "source": [
    "#### Analysis and Extract our need information: \n",
    "\n",
    "- Condition of Big country:\n",
    "    - 1. area >= 3000000\n",
    "             or\n",
    "    - 2. population >= 25000000\n",
    "\n",
    "\n",
    "- output format: only name, population and area column"
   ]
  },
  {
   "cell_type": "markdown",
   "id": "22603f3c",
   "metadata": {},
   "source": [
    "Example 1:\n",
    "\n",
    "Input: \n",
    "World table:\n",
    "+-------------+-----------+---------+------------+--------------+\n",
    "| name        | continent | area    | population | gdp          |\n",
    "+-------------+-----------+---------+------------+--------------+\n",
    "| Afghanistan | Asia      | 652230  | 25500100   | 20343000000  |\n",
    "| Albania     | Europe    | 28748   | 2831741    | 12960000000  |\n",
    "| Algeria     | Africa    | 2381741 | 37100000   | 188681000000 |\n",
    "| Andorra     | Europe    | 468     | 78115      | 3712000000   |\n",
    "| Angola      | Africa    | 1246700 | 20609294   | 100990000000 |\n",
    "+-------------+-----------+---------+------------+--------------+\n",
    "Output: \n",
    "+-------------+------------+---------+\n",
    "| name        | population | area    |\n",
    "+-------------+------------+---------+\n",
    "| Afghanistan | 25500100   | 652230  |\n",
    "| Algeria     | 37100000   | 2381741 |\n",
    "+-------------+------------+---------+"
   ]
  },
  {
   "cell_type": "code",
   "execution_count": null,
   "id": "db2812ca",
   "metadata": {},
   "outputs": [],
   "source": [
    "# Table name : World\n",
    "\n",
    "World_population_country = World.loc[\n",
    "    (World[\"area\"] >= 3000000) |\n",
    "    (World[\"population\"] >= 25000000),\n",
    "    [\"name\", \"population\", \"area\"]\n",
    "]\n",
    "\n"
   ]
  },
  {
   "cell_type": "code",
   "execution_count": null,
   "id": "5288a4ec",
   "metadata": {},
   "outputs": [
    {
     "ename": "_IncompleteInputError",
     "evalue": "incomplete input (3567458266.py, line 6)",
     "output_type": "error",
     "traceback": [
      "\u001b[1;36m  Cell \u001b[1;32mIn[1], line 6\u001b[1;36m\u001b[0m\n\u001b[1;33m    \u001b[0m\n\u001b[1;37m    ^\u001b[0m\n\u001b[1;31m_IncompleteInputError\u001b[0m\u001b[1;31m:\u001b[0m incomplete input\n"
     ]
    }
   ],
   "source": [
    "\n",
    "\n",
    "\n"
   ]
  },
  {
   "cell_type": "code",
   "execution_count": null,
   "id": "b2dd84ce",
   "metadata": {},
   "outputs": [],
   "source": []
  }
 ],
 "metadata": {
  "kernelspec": {
   "display_name": "base",
   "language": "python",
   "name": "python3"
  },
  "language_info": {
   "codemirror_mode": {
    "name": "ipython",
    "version": 3
   },
   "file_extension": ".py",
   "mimetype": "text/x-python",
   "name": "python",
   "nbconvert_exporter": "python",
   "pygments_lexer": "ipython3",
   "version": "3.13.5"
  }
 },
 "nbformat": 4,
 "nbformat_minor": 5
}
