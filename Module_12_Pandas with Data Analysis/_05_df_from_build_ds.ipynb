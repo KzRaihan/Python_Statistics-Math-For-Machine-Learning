{
 "cells": [
  {
   "cell_type": "markdown",
   "id": "89116038",
   "metadata": {},
   "source": [
    "## Topic: 5. DataFrame From In-build Data Structure (list, tuple, dic)"
   ]
  },
  {
   "cell_type": "markdown",
   "id": "3671004b",
   "metadata": {},
   "source": [
    "### OUTCOMES\n",
    "\n",
    "- 1. Transforming to df form list.\n",
    "\n",
    "- 2. Transforming to df from tuple\n",
    "\n",
    "- 3. Transforming to df from dic\n",
    "\n",
    "- 4. Transforming to df from list of list"
   ]
  },
  {
   "cell_type": "code",
   "execution_count": 2,
   "id": "90512cb0",
   "metadata": {},
   "outputs": [],
   "source": [
    "import pandas as pd"
   ]
  },
  {
   "cell_type": "markdown",
   "id": "8a8f1b60",
   "metadata": {},
   "source": [
    "- Basic syntax for Transforming:\n",
    "    - df = pd.DataFram(sequence)\n",
    "    - eg:\n",
    "        - df = pd.DataFram(list)"
   ]
  },
  {
   "cell_type": "markdown",
   "id": "7ca1ead9",
   "metadata": {},
   "source": [
    "### 1. Transforming to df form list"
   ]
  },
  {
   "cell_type": "code",
   "execution_count": null,
   "id": "bfde97e3",
   "metadata": {},
   "outputs": [
    {
     "name": "stdout",
     "output_type": "stream",
     "text": [
      "Type:  <class 'list'>\n",
      "Type :  <class 'pandas.core.frame.DataFrame'>\n"
     ]
    },
    {
     "data": {
      "text/html": [
       "<div>\n",
       "<style scoped>\n",
       "    .dataframe tbody tr th:only-of-type {\n",
       "        vertical-align: middle;\n",
       "    }\n",
       "\n",
       "    .dataframe tbody tr th {\n",
       "        vertical-align: top;\n",
       "    }\n",
       "\n",
       "    .dataframe thead th {\n",
       "        text-align: right;\n",
       "    }\n",
       "</style>\n",
       "<table border=\"1\" class=\"dataframe\">\n",
       "  <thead>\n",
       "    <tr style=\"text-align: right;\">\n",
       "      <th></th>\n",
       "      <th>0</th>\n",
       "      <th>1</th>\n",
       "      <th>2</th>\n",
       "    </tr>\n",
       "  </thead>\n",
       "  <tbody>\n",
       "    <tr>\n",
       "      <th>0</th>\n",
       "      <td>10</td>\n",
       "      <td>20</td>\n",
       "      <td>30</td>\n",
       "    </tr>\n",
       "    <tr>\n",
       "      <th>1</th>\n",
       "      <td>40</td>\n",
       "      <td>50</td>\n",
       "      <td>60</td>\n",
       "    </tr>\n",
       "    <tr>\n",
       "      <th>2</th>\n",
       "      <td>70</td>\n",
       "      <td>80</td>\n",
       "      <td>90</td>\n",
       "    </tr>\n",
       "    <tr>\n",
       "      <th>3</th>\n",
       "      <td>21</td>\n",
       "      <td>32</td>\n",
       "      <td>42</td>\n",
       "    </tr>\n",
       "  </tbody>\n",
       "</table>\n",
       "</div>"
      ],
      "text/plain": [
       "    0   1   2\n",
       "0  10  20  30\n",
       "1  40  50  60\n",
       "2  70  80  90\n",
       "3  21  32  42"
      ]
     },
     "execution_count": 6,
     "metadata": {},
     "output_type": "execute_result"
    }
   ],
   "source": [
    "# Example: df from Nested list\n",
    "\n",
    "lst = [\n",
    "    [10, 20, 30], \n",
    "    [40, 50, 60], \n",
    "    [70, 80, 90],\n",
    "    [21, 32, 42]\n",
    "]\n",
    "\n",
    "print(\"Type: \", type(lst))  # list\n",
    "\n",
    "# convert to DataFrame\n",
    "\n",
    "df = pd.DataFrame(lst)\n",
    "\n",
    "print(\"Type : \", type(df))\n",
    "\n",
    "df\n",
    "\n",
    "# NOTE -> indices are automatically generated"
   ]
  },
  {
   "cell_type": "markdown",
   "id": "6f3f5dfc",
   "metadata": {},
   "source": [
    "- Rename the column name\n",
    "\n",
    "- synatax: pd.DataFrame(sequenc, columns = ['c1', 'c2' , 'c3'])"
   ]
  },
  {
   "cell_type": "code",
   "execution_count": 7,
   "id": "6fc1a52d",
   "metadata": {},
   "outputs": [
    {
     "data": {
      "text/html": [
       "<div>\n",
       "<style scoped>\n",
       "    .dataframe tbody tr th:only-of-type {\n",
       "        vertical-align: middle;\n",
       "    }\n",
       "\n",
       "    .dataframe tbody tr th {\n",
       "        vertical-align: top;\n",
       "    }\n",
       "\n",
       "    .dataframe thead th {\n",
       "        text-align: right;\n",
       "    }\n",
       "</style>\n",
       "<table border=\"1\" class=\"dataframe\">\n",
       "  <thead>\n",
       "    <tr style=\"text-align: right;\">\n",
       "      <th></th>\n",
       "      <th>Math_Mark</th>\n",
       "      <th>English Mark</th>\n",
       "      <th>DSA Mark</th>\n",
       "    </tr>\n",
       "  </thead>\n",
       "  <tbody>\n",
       "    <tr>\n",
       "      <th>0</th>\n",
       "      <td>10</td>\n",
       "      <td>20</td>\n",
       "      <td>30</td>\n",
       "    </tr>\n",
       "    <tr>\n",
       "      <th>1</th>\n",
       "      <td>40</td>\n",
       "      <td>50</td>\n",
       "      <td>60</td>\n",
       "    </tr>\n",
       "    <tr>\n",
       "      <th>2</th>\n",
       "      <td>70</td>\n",
       "      <td>80</td>\n",
       "      <td>90</td>\n",
       "    </tr>\n",
       "    <tr>\n",
       "      <th>3</th>\n",
       "      <td>21</td>\n",
       "      <td>32</td>\n",
       "      <td>42</td>\n",
       "    </tr>\n",
       "  </tbody>\n",
       "</table>\n",
       "</div>"
      ],
      "text/plain": [
       "   Math_Mark  English Mark  DSA Mark\n",
       "0         10            20        30\n",
       "1         40            50        60\n",
       "2         70            80        90\n",
       "3         21            32        42"
      ]
     },
     "execution_count": 7,
     "metadata": {},
     "output_type": "execute_result"
    }
   ],
   "source": [
    "# Rename the column\n",
    "\n",
    "df = pd.DataFrame(lst,columns = [\"Math_Mark\", \"English Mark\", \"DSA Mark\"])\n",
    "df"
   ]
  },
  {
   "cell_type": "markdown",
   "id": "4e93f66a",
   "metadata": {},
   "source": [
    "Question?"
   ]
  },
  {
   "cell_type": "code",
   "execution_count": null,
   "id": "8ac25fee",
   "metadata": {},
   "outputs": [
    {
     "name": "stdout",
     "output_type": "stream",
     "text": [
      "Type:  <class 'numpy.ndarray'>\n",
      "[[38 32 31]\n",
      " [34 11 16]\n",
      " [28 12 10]\n",
      " [33 14 24]]\n",
      "Type:  <class 'pandas.core.frame.DataFrame'>\n"
     ]
    },
    {
     "data": {
      "text/html": [
       "<div>\n",
       "<style scoped>\n",
       "    .dataframe tbody tr th:only-of-type {\n",
       "        vertical-align: middle;\n",
       "    }\n",
       "\n",
       "    .dataframe tbody tr th {\n",
       "        vertical-align: top;\n",
       "    }\n",
       "\n",
       "    .dataframe thead th {\n",
       "        text-align: right;\n",
       "    }\n",
       "</style>\n",
       "<table border=\"1\" class=\"dataframe\">\n",
       "  <thead>\n",
       "    <tr style=\"text-align: right;\">\n",
       "      <th></th>\n",
       "      <th>Sub1</th>\n",
       "      <th>Sub2</th>\n",
       "      <th>Sub3</th>\n",
       "    </tr>\n",
       "  </thead>\n",
       "  <tbody>\n",
       "    <tr>\n",
       "      <th>1</th>\n",
       "      <td>38</td>\n",
       "      <td>32</td>\n",
       "      <td>31</td>\n",
       "    </tr>\n",
       "    <tr>\n",
       "      <th>2</th>\n",
       "      <td>34</td>\n",
       "      <td>11</td>\n",
       "      <td>16</td>\n",
       "    </tr>\n",
       "    <tr>\n",
       "      <th>3</th>\n",
       "      <td>28</td>\n",
       "      <td>12</td>\n",
       "      <td>10</td>\n",
       "    </tr>\n",
       "    <tr>\n",
       "      <th>4</th>\n",
       "      <td>33</td>\n",
       "      <td>14</td>\n",
       "      <td>24</td>\n",
       "    </tr>\n",
       "  </tbody>\n",
       "</table>\n",
       "</div>"
      ],
      "text/plain": [
       "   Sub1  Sub2  Sub3\n",
       "1    38    32    31\n",
       "2    34    11    16\n",
       "3    28    12    10\n",
       "4    33    14    24"
      ]
     },
     "execution_count": 19,
     "metadata": {},
     "output_type": "execute_result"
    }
   ],
   "source": [
    "# Example: 2-d to df\n",
    "\n",
    "import numpy as np\n",
    "\n",
    "# create 2-d\n",
    "arr2 = np.random.randint(10, 40, size = (4,3))\n",
    "\n",
    "print(\"Type: \", type(arr2))\n",
    "print(arr2)\n",
    "\n",
    "# convert into df and Rename the column and rows idx \n",
    "\n",
    "df = pd.DataFrame(arr2, columns = [\"Sub1\", \"Sub2\", \"Sub3\"], index = [1,2,3,4])\n",
    "\n",
    "print(\"Type: \", type(df))\n",
    "\n",
    "# Rename the idx of rows\n",
    "# df = pd.DataFrame(df, index = [1,2,3,4])\n",
    "\n",
    "df"
   ]
  },
  {
   "cell_type": "markdown",
   "id": "5d50a0d0",
   "metadata": {},
   "source": [
    "### 2. Transforming to df form tuple"
   ]
  },
  {
   "cell_type": "code",
   "execution_count": null,
   "id": "00978844",
   "metadata": {},
   "outputs": [
    {
     "name": "stdout",
     "output_type": "stream",
     "text": [
      "Tuple:  (('name', 'Kz'), ('age', 23), ('mark', 55))\n",
      "Type:  <class 'tuple'>\n"
     ]
    },
    {
     "data": {
      "text/html": [
       "<div>\n",
       "<style scoped>\n",
       "    .dataframe tbody tr th:only-of-type {\n",
       "        vertical-align: middle;\n",
       "    }\n",
       "\n",
       "    .dataframe tbody tr th {\n",
       "        vertical-align: top;\n",
       "    }\n",
       "\n",
       "    .dataframe thead th {\n",
       "        text-align: right;\n",
       "    }\n",
       "</style>\n",
       "<table border=\"1\" class=\"dataframe\">\n",
       "  <thead>\n",
       "    <tr style=\"text-align: right;\">\n",
       "      <th></th>\n",
       "      <th>Name</th>\n",
       "      <th>Propertices</th>\n",
       "    </tr>\n",
       "  </thead>\n",
       "  <tbody>\n",
       "    <tr>\n",
       "      <th>8</th>\n",
       "      <td>name</td>\n",
       "      <td>Kz</td>\n",
       "    </tr>\n",
       "    <tr>\n",
       "      <th>4</th>\n",
       "      <td>age</td>\n",
       "      <td>23</td>\n",
       "    </tr>\n",
       "    <tr>\n",
       "      <th>6</th>\n",
       "      <td>mark</td>\n",
       "      <td>55</td>\n",
       "    </tr>\n",
       "  </tbody>\n",
       "</table>\n",
       "</div>"
      ],
      "text/plain": [
       "   Name Propertices\n",
       "8  name          Kz\n",
       "4   age          23\n",
       "6  mark          55"
      ]
     },
     "execution_count": 31,
     "metadata": {},
     "output_type": "execute_result"
    }
   ],
   "source": [
    "# df from tuple (Nested)\n",
    "\n",
    "tpl = ((\"name\", \"Kz\"), (\"age\", 23), (\"mark\", 55))\n",
    "\n",
    "print(\"Tuple: \", tpl)\n",
    "print(\"Type: \", type(tpl))\n",
    "\n",
    "# convert to df and rename the columns and rows\n",
    "\n",
    "df = pd.DataFrame(tpl, columns = [\"Name\", \"Propertices\"], index = [8,4,6])\n",
    "\n",
    "\n",
    "df\n"
   ]
  },
  {
   "cell_type": "markdown",
   "id": "0c336ab5",
   "metadata": {},
   "source": [
    "### 3. Transforming to df form dict"
   ]
  },
  {
   "cell_type": "code",
   "execution_count": null,
   "id": "e3075c67",
   "metadata": {},
   "outputs": [
    {
     "name": "stdout",
     "output_type": "stream",
     "text": [
      "Type:  <class 'dict'>\n"
     ]
    },
    {
     "data": {
      "text/html": [
       "<div>\n",
       "<style scoped>\n",
       "    .dataframe tbody tr th:only-of-type {\n",
       "        vertical-align: middle;\n",
       "    }\n",
       "\n",
       "    .dataframe tbody tr th {\n",
       "        vertical-align: top;\n",
       "    }\n",
       "\n",
       "    .dataframe thead th {\n",
       "        text-align: right;\n",
       "    }\n",
       "</style>\n",
       "<table border=\"1\" class=\"dataframe\">\n",
       "  <thead>\n",
       "    <tr style=\"text-align: right;\">\n",
       "      <th></th>\n",
       "      <th>Name</th>\n",
       "      <th>age</th>\n",
       "    </tr>\n",
       "  </thead>\n",
       "  <tbody>\n",
       "    <tr>\n",
       "      <th>0</th>\n",
       "      <td>Kz</td>\n",
       "      <td>24</td>\n",
       "    </tr>\n",
       "    <tr>\n",
       "      <th>1</th>\n",
       "      <td>Ra</td>\n",
       "      <td>35</td>\n",
       "    </tr>\n",
       "    <tr>\n",
       "      <th>2</th>\n",
       "      <td>KzRaihan</td>\n",
       "      <td>30</td>\n",
       "    </tr>\n",
       "  </tbody>\n",
       "</table>\n",
       "</div>"
      ],
      "text/plain": [
       "       Name  age\n",
       "0        Kz   24\n",
       "1        Ra   35\n",
       "2  KzRaihan   30"
      ]
     },
     "execution_count": 33,
     "metadata": {},
     "output_type": "execute_result"
    }
   ],
   "source": [
    "# Example: df from dic \n",
    "\n",
    "my_dict = {\n",
    "    \"Name\": [\"Kz\", \"Ra\", \"KzRaihan\"],\n",
    "    \"age\" : [24,35, 30]\n",
    "}\n",
    "\n",
    "print(\"Type: \", type(my_dict))\n",
    "\n",
    "\n",
    "# convert to df\n",
    "\n",
    "df = pd.DataFrame(my_dict)\n",
    "\n",
    "df\n",
    "\n",
    "# NOTE -> Dictionaries all keys are convert to columns name automatically.\n"
   ]
  },
  {
   "cell_type": "markdown",
   "id": "de5dd056",
   "metadata": {},
   "source": [
    "### 4. Transforming to df form list of dic"
   ]
  },
  {
   "cell_type": "code",
   "execution_count": null,
   "id": "177c1697",
   "metadata": {},
   "outputs": [
    {
     "name": "stdout",
     "output_type": "stream",
     "text": [
      "Type:  <class 'list'>\n"
     ]
    },
    {
     "data": {
      "text/html": [
       "<div>\n",
       "<style scoped>\n",
       "    .dataframe tbody tr th:only-of-type {\n",
       "        vertical-align: middle;\n",
       "    }\n",
       "\n",
       "    .dataframe tbody tr th {\n",
       "        vertical-align: top;\n",
       "    }\n",
       "\n",
       "    .dataframe thead th {\n",
       "        text-align: right;\n",
       "    }\n",
       "</style>\n",
       "<table border=\"1\" class=\"dataframe\">\n",
       "  <thead>\n",
       "    <tr style=\"text-align: right;\">\n",
       "      <th></th>\n",
       "      <th>Name</th>\n",
       "      <th>age</th>\n",
       "      <th>City</th>\n",
       "    </tr>\n",
       "  </thead>\n",
       "  <tbody>\n",
       "    <tr>\n",
       "      <th>0</th>\n",
       "      <td>Kz</td>\n",
       "      <td>25</td>\n",
       "      <td>New York</td>\n",
       "    </tr>\n",
       "    <tr>\n",
       "      <th>1</th>\n",
       "      <td>Ra</td>\n",
       "      <td>24</td>\n",
       "      <td>Paris</td>\n",
       "    </tr>\n",
       "    <tr>\n",
       "      <th>2</th>\n",
       "      <td>KzRaihan</td>\n",
       "      <td>21</td>\n",
       "      <td>NaN</td>\n",
       "    </tr>\n",
       "  </tbody>\n",
       "</table>\n",
       "</div>"
      ],
      "text/plain": [
       "       Name  age      City\n",
       "0        Kz   25  New York\n",
       "1        Ra   24     Paris\n",
       "2  KzRaihan   21       NaN"
      ]
     },
     "execution_count": 9,
     "metadata": {},
     "output_type": "execute_result"
    }
   ],
   "source": [
    "# list of dictionary to df\n",
    "\n",
    "lst_dict = [\n",
    "\n",
    "    {\n",
    "        \"Name\": \"Kz\", \n",
    "        \"age\" : 25,\n",
    "        \"City\": \"New York\"\n",
    "    },\n",
    "    {\n",
    "        \"Name\": \"Ra\",\n",
    "        \"age\": 24,\n",
    "        \"City\": \"Paris\",\n",
    "        # \"Home\": \"ABC\"\n",
    "\n",
    "    },\n",
    "\n",
    "    {\n",
    "        \"Name\": \"KzRaihan\", \n",
    "        \"age\" : 21,\n",
    "    # here city is missing\n",
    "\n",
    "    }\n",
    " \n",
    "\n",
    "]\n",
    "\n",
    "print(\"Type: \", type(lst_dict))\n",
    "\n",
    "\n",
    "df = pd.DataFrame(lst_dict)\n",
    "df\n",
    "\n",
    "\n",
    "# Missing Value with Replace with NaN"
   ]
  },
  {
   "cell_type": "code",
   "execution_count": null,
   "id": "bd5bbb60",
   "metadata": {},
   "outputs": [],
   "source": []
  }
 ],
 "metadata": {
  "kernelspec": {
   "display_name": "base",
   "language": "python",
   "name": "python3"
  },
  "language_info": {
   "codemirror_mode": {
    "name": "ipython",
    "version": 3
   },
   "file_extension": ".py",
   "mimetype": "text/x-python",
   "name": "python",
   "nbconvert_exporter": "python",
   "pygments_lexer": "ipython3",
   "version": "3.13.5"
  }
 },
 "nbformat": 4,
 "nbformat_minor": 5
}
