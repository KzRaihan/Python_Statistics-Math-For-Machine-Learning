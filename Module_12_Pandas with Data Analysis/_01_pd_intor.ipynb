{
 "cells": [
  {
   "cell_type": "markdown",
   "id": "f8257b83",
   "metadata": {},
   "source": [
    "## Topic: Introdunction of Pandas"
   ]
  },
  {
   "cell_type": "markdown",
   "id": "86b31a0e",
   "metadata": {},
   "source": [
    "- Pandas is fast and powerful library for data manipulation and analysis\n",
    "\n",
    "- Eg:\n",
    "    - we are build an ml model form real world data.\n",
    "\n",
    "    - real world data contains (garbage, null values, outliers, etc). so clearing this noise we use pandas.\n",
    "\n",
    "    - pandas performs\n",
    "        - Data Clearing (garbages, null values, outliers)\n",
    "        - Preprocessing (grouping)\n",
    "        - Analysis of data\n",
    "\n",
    "    - After removing (Perprocessing) data then we build a ML model"
   ]
  },
  {
   "cell_type": "code",
   "execution_count": null,
   "id": "4be005e1",
   "metadata": {},
   "outputs": [],
   "source": [
    "# diagram\n",
    "\n",
    "''' \n",
    "\n",
    "Rew_data ---------> Preprocessing ---------------> Model Train -----------> Prediction\n",
    "\n",
    "# for Preprocessing phrase we use pandas as a Tools\n",
    "\n",
    "\n",
    "'''"
   ]
  },
  {
   "cell_type": "markdown",
   "id": "9d7946b4",
   "metadata": {},
   "source": [
    "- Pandas has two objects\n",
    "    - Series\n",
    "    - DataFram"
   ]
  }
 ],
 "metadata": {
  "kernelspec": {
   "display_name": "base",
   "language": "python",
   "name": "python3"
  },
  "language_info": {
   "name": "python",
   "version": "3.13.5"
  }
 },
 "nbformat": 4,
 "nbformat_minor": 5
}
