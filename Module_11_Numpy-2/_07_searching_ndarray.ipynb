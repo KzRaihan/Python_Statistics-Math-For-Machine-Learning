{
 "cells": [
  {
   "cell_type": "markdown",
   "id": "43aabd3f",
   "metadata": {},
   "source": [
    "## Topic: Searching ndarray"
   ]
  },
  {
   "cell_type": "markdown",
   "id": "f8c9d07f",
   "metadata": {},
   "source": [
    "### OUTCOMES\n"
   ]
  }
 ],
 "metadata": {
  "language_info": {
   "name": "python"
  }
 },
 "nbformat": 4,
 "nbformat_minor": 5
}
