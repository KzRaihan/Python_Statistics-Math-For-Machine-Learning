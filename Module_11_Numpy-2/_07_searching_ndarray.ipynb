{
 "cells": [
  {
   "cell_type": "markdown",
   "id": "43aabd3f",
   "metadata": {},
   "source": [
    "## Topic: Searching ndarray"
   ]
  },
  {
   "cell_type": "markdown",
   "id": "f8c9d07f",
   "metadata": {},
   "source": [
    "### OUTCOMES\n",
    "\n",
    "- 1. Definition\n",
    "\n",
    "- 2. np.where()\n",
    "\n",
    "- 3. np.nonzero()\n",
    "\n",
    "- 4. np.argmax()\n",
    "\n",
    "- 5. np.argmin()\n",
    "\n"
   ]
  },
  {
   "cell_type": "markdown",
   "id": "b9297295",
   "metadata": {},
   "source": [
    "### 1. Definition"
   ]
  },
  {
   "cell_type": "markdown",
   "id": "b5659057",
   "metadata": {},
   "source": [
    "- Searching in numpy means finding the indices or positions of elements in an array that satisfy a given condition (like greater then , equal to etc.)"
   ]
  },
  {
   "cell_type": "markdown",
   "id": "c94036fa",
   "metadata": {},
   "source": [
    "### 2. np.where()"
   ]
  },
  {
   "cell_type": "markdown",
   "id": "852ea49c",
   "metadata": {},
   "source": [
    "- basic syntax:\n",
    "    - np.where(condition)\n",
    "\n",
    "    - returns indices where condition is True.\n",
    "\n",
    "- another syntax:\n",
    "\n",
    "    - np.where(condition, x,y)\n",
    "\n",
    "        - x = True_value if cds is true.\n",
    "        - y = False value if the condition it false"
   ]
  },
  {
   "cell_type": "code",
   "execution_count": 1,
   "id": "2e9c04d6",
   "metadata": {},
   "outputs": [],
   "source": [
    "import numpy as np"
   ]
  },
  {
   "cell_type": "code",
   "execution_count": null,
   "id": "7177682e",
   "metadata": {},
   "outputs": [
    {
     "name": "stdout",
     "output_type": "stream",
     "text": [
      "Arr1: \n",
      " [14 16 17 13  7 19  5  8]\n",
      "Greater than 10 all indices:  (array([0, 1, 2, 3, 5]),)\n",
      "Greater than 10 all elements:  [14 16 17 13 19]\n"
     ]
    }
   ],
   "source": [
    "# np.where(condition) \n",
    "\n",
    "# 1-d:\n",
    "\n",
    "arr1 = np.random.randint(4,20, size = (8,))\n",
    "\n",
    "print(\"Arr1: \\n\", arr1)\n",
    "\n",
    "# return index\n",
    "idxs = np.where(arr1 > 10)  # greater then 10 only true indices are return\n",
    "\n",
    "print(\"Greater than 10 all indices: \", idxs)\n",
    "\n",
    "# access values\n",
    "print(\"Greater than 10 all elements: \", arr1[idxs])\n"
   ]
  },
  {
   "cell_type": "code",
   "execution_count": null,
   "id": "bd1eb812",
   "metadata": {},
   "outputs": [
    {
     "name": "stdout",
     "output_type": "stream",
     "text": [
      "[ 1  2  3  4  5  6  7  8  9 10 11 12]\n",
      "Less than 5 elements idxs:  (array([0, 1, 2, 3]),)\n",
      "Not equal 10 element idxs:  (array([ 0,  1,  2,  3,  4,  5,  6,  7,  8, 10, 11]),)\n",
      "Greater than or equal 8 element idxs:  (array([ 7,  8,  9, 10, 11]),)\n"
     ]
    }
   ],
   "source": [
    "# np.where(condition)\n",
    "# 1-d:\n",
    "\n",
    "arr1 = np.arange(1,13)\n",
    "\n",
    "print(arr1)\n",
    "\n",
    "less_than_5_idx = np.where(arr1 < 5)\n",
    "\n",
    "not_equal_10_idx = np.where(arr1 != 10)\n",
    "\n",
    "greater_than_equal_8_idx = np.where(arr1 >=8)\n",
    "\n",
    "\n",
    "\n",
    "print(\"Less than 5 elements idxs: \", less_than_5_idx)\n",
    "\n",
    "print(\"Not equal 10 element idxs: \", not_equal_10_idx)\n",
    "\n",
    "print(\"Greater than or equal 8 element idxs: \", greater_than_equal_8_idx)\n",
    "\n",
    "# NOTE-> Return indices of the elments"
   ]
  },
  {
   "cell_type": "markdown",
   "id": "5124da1a",
   "metadata": {},
   "source": [
    "- Second form:\n",
    "\n",
    "    - np.where(condition, x,y)\n",
    "\n",
    "        - x = True_value if cds is true.\n",
    "        - y = False value if the condition it false"
   ]
  },
  {
   "cell_type": "code",
   "execution_count": null,
   "id": "aa71cd77",
   "metadata": {},
   "outputs": [
    {
     "name": "stdout",
     "output_type": "stream",
     "text": [
      "Original Array: \n",
      " [0 0 1 1 1 0 0 0 0 0]\n",
      "Replace zero vlaues to 100: \n",
      " [100 100   1   1   1 100 100 100 100 100]\n"
     ]
    }
   ],
   "source": [
    "# 1-d: Replace zero values with 100\n",
    "\n",
    "arr1 = np.random.randint(0,2, size=(10,))\n",
    "\n",
    "print(\"Original Array: \\n\", arr1)\n",
    "\n",
    "\n",
    "remove_zero_arr = np.where(arr1 <= 0, 100, arr1)\n",
    "\n",
    "print(\"Replace zero vlaues to 100: \\n\", remove_zero_arr)\n",
    "\n"
   ]
  },
  {
   "cell_type": "code",
   "execution_count": 40,
   "id": "bfb95f64",
   "metadata": {},
   "outputs": [
    {
     "name": "stdout",
     "output_type": "stream",
     "text": [
      "Original array: \n",
      " [54 57 64 42 41 49 69 78 76 48 50 45 81 48 48 78 75 54 74 62]\n",
      "['Pass' 'Pass' 'Pass' 'Fail' 'Fail' 'Fail' 'Pass' 'Pass' 'Pass' 'Fail'\n",
      " 'Pass' 'Fail' 'Pass' 'Fail' 'Fail' 'Pass' 'Pass' 'Pass' 'Pass' 'Pass']\n"
     ]
    }
   ],
   "source": [
    "# for categorize value : np.where()\n",
    "\n",
    "marks_arr = np.random.randint(40,90, size = (20,))\n",
    "\n",
    "print(\"Original array: \\n\", marks_arr)\n",
    "\n",
    "# if marks_arr values is less then 50 \"Fail\", else \"Pass\"\n",
    "\n",
    "grades = np.where(marks_arr < 50, \"Fail\", \"Pass\")\n",
    "\n",
    "print(grades)\n",
    "\n"
   ]
  },
  {
   "cell_type": "code",
   "execution_count": null,
   "id": "cb98eefb",
   "metadata": {},
   "outputs": [
    {
     "name": "stdout",
     "output_type": "stream",
     "text": [
      "(array([0, 1, 1, 1, 2]), array([1, 1, 2, 3, 0]))\n"
     ]
    }
   ],
   "source": [
    "# np.where(condition) for 2-d:\n",
    "\n",
    "# - return indices(row, col) of all elements where given condition is True.\n",
    "\n",
    "arr2 = np.array([\n",
    "    [10, 11, 4, 6],\n",
    "    [9, 21, 98,65],\n",
    "    [21, 2, 1, 5]\n",
    "    ])\n",
    "\n",
    "# find indices\n",
    "idxs = np.where(arr2 > 10)\n",
    "print(idxs)\n",
    "\n",
    "# find the idx values\n",
    "\n",
    "vals = arr2[idxs]\n",
    "print(vals)"
   ]
  },
  {
   "cell_type": "code",
   "execution_count": null,
   "id": "26f20270",
   "metadata": {},
   "outputs": [],
   "source": [
    "'''  \n",
    "what is the meaning this output?\n",
    "(array([0, 1, 1, 1, 2]), array([1, 1, 2, 3, 0]))\n",
    "\n",
    "- [0, 1, 1, 1, 2] represent x-axis(rows) indices\n",
    "\n",
    "- [1, 1, 2, 3, 0] represent y-axis(column) idxs\n",
    "\n",
    "so [row,col]\n",
    "\n",
    " - [0,1] => position element that greater than 10\n",
    " - [1,1] => element is greater than 10\n",
    " - [1,2] => elment is greater than 10\n",
    " - [1,3] => element is greater than 10\n",
    " - [2,0] => element is greater than 10\n",
    "\n",
    "\n",
    "\n",
    "'''"
   ]
  },
  {
   "cell_type": "code",
   "execution_count": null,
   "id": "6c78687d",
   "metadata": {},
   "outputs": [
    {
     "name": "stdout",
     "output_type": "stream",
     "text": [
      "Original Images: \n",
      " [[143  70  22 205 217 242]\n",
      " [200 216 253 105 113 159]\n",
      " [130 202  71 241 148  63]\n",
      " [166 151 214  23 192  85]]\n",
      "Binary Mask: \n",
      " [[1 0 0 1 1 1]\n",
      " [1 1 1 1 1 1]\n",
      " [1 1 0 1 1 0]\n",
      " [1 1 1 0 1 0]]\n"
     ]
    }
   ],
   "source": [
    "# 2-d : where(condition, x, y)\n",
    "#       x = True values\n",
    "#       y = False values\n",
    "\n",
    "\n",
    "images = np.random.randint(20,255, size = (4,6))\n",
    "\n",
    "print(\"Original Images: \\n\", images)\n",
    "\n",
    "theshold = 100\n",
    "\n",
    "\n",
    "binary_mask = np.where(images > theshold, 1, 0)\n",
    "\n",
    "print(\"Binary Mask: \\n\", binary_mask)\n",
    "\n",
    "# replace : 100 > images with 1\n",
    "#  less then 100 with 0"
   ]
  },
  {
   "cell_type": "markdown",
   "id": "21091518",
   "metadata": {},
   "source": [
    "### 3. np.nonzero()"
   ]
  },
  {
   "cell_type": "markdown",
   "id": "15fe66f2",
   "metadata": {},
   "source": [
    "- Returns the indices of all elements that are non-zero."
   ]
  },
  {
   "cell_type": "code",
   "execution_count": null,
   "id": "a62ef1a8",
   "metadata": {},
   "outputs": [
    {
     "name": "stdout",
     "output_type": "stream",
     "text": [
      "Arr: \n",
      " [[1 0 1]\n",
      " [0 1 1]\n",
      " [0 1 1]\n",
      " [0 0 1]]\n",
      "All Zero Element idx:  (array([0, 0, 1, 1, 2, 2, 3]), array([0, 2, 1, 2, 1, 2, 2]))\n",
      "All Row idx   :  [1 0 1]\n",
      "All Column idx:  [0 1 1]\n",
      "Find zero:  0\n"
     ]
    }
   ],
   "source": [
    "# 2-d array:\n",
    "\n",
    "arr = np.random.randint(0,2, size = (4,3))\n",
    "\n",
    "print(\"Arr: \\n\", arr)\n",
    "\n",
    "idx_zero = np.nonzero(arr)\n",
    "\n",
    "print(\"All Zero Element idx: \", idx_zero)\n",
    "\n",
    "\n",
    "print(\"All Row idx   : \", arr[0])\n",
    "print(\"All Column idx: \", arr[1])\n",
    "\n",
    "print(\"Find zero: \", arr[0][1]) # 0 present row 0 and coluns 1\n",
    "\n"
   ]
  },
  {
   "cell_type": "markdown",
   "id": "9f4261e3",
   "metadata": {},
   "source": [
    "### 4. np.argmax()"
   ]
  },
  {
   "cell_type": "markdown",
   "id": "24f04b70",
   "metadata": {},
   "source": [
    "- return the max values index of first occurence"
   ]
  },
  {
   "cell_type": "code",
   "execution_count": 53,
   "id": "5b3ca479",
   "metadata": {},
   "outputs": [
    {
     "name": "stdout",
     "output_type": "stream",
     "text": [
      "Max idx:  2\n"
     ]
    }
   ],
   "source": [
    "arr = np.array(\n",
    "    [10, 30, 90, 50, 66, 90, 45]\n",
    ")\n",
    "\n",
    "print(\"Max idx: \", np.argmax(arr))"
   ]
  },
  {
   "cell_type": "markdown",
   "id": "565566b4",
   "metadata": {},
   "source": [
    "### 5. np.argmin()"
   ]
  },
  {
   "cell_type": "markdown",
   "id": "8d777fea",
   "metadata": {},
   "source": [
    "- return the minimun elements idx"
   ]
  },
  {
   "cell_type": "code",
   "execution_count": 55,
   "id": "01c7faff",
   "metadata": {},
   "outputs": [
    {
     "name": "stdout",
     "output_type": "stream",
     "text": [
      "Minmul Element idx:  4\n"
     ]
    }
   ],
   "source": [
    "arr = np.array(\n",
    "    [60, 70, 90, 50, 6, 90, 45]\n",
    ")\n",
    "\n",
    "min_idx = np.argmin(arr)\n",
    "\n",
    "print(\"Minmul Element idx: \", min_idx)"
   ]
  }
 ],
 "metadata": {
  "kernelspec": {
   "display_name": "base",
   "language": "python",
   "name": "python3"
  },
  "language_info": {
   "codemirror_mode": {
    "name": "ipython",
    "version": 3
   },
   "file_extension": ".py",
   "mimetype": "text/x-python",
   "name": "python",
   "nbconvert_exporter": "python",
   "pygments_lexer": "ipython3",
   "version": "3.13.5"
  }
 },
 "nbformat": 4,
 "nbformat_minor": 5
}
