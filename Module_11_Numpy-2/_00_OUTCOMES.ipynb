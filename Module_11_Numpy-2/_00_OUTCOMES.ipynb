{
 "cells": [
  {
   "cell_type": "markdown",
   "id": "7ffa9415",
   "metadata": {},
   "source": [
    "## Topic: Data Analysis wiht Numpy_02"
   ]
  },
  {
   "cell_type": "markdown",
   "id": "4256ea28",
   "metadata": {},
   "source": [
    "### OUTCOMES\n",
    "\n",
    "- 1. ndarray Manipulation_1\n",
    "\n",
    "- 2. ndarray Manipulation_2\n",
    "\n",
    "- 3. ndarray Arithemetic Operators and Mathematical function\n",
    "\n",
    "- 4. Numpy Broadcasting\n",
    "\n",
    "- 5. Numpy Comparison opration and logical function\n",
    "\n",
    "- 6. ndarray sorting\n",
    "\n",
    "- 7. ndarray searching\n",
    "\n",
    "- 8. ndarray counting\n",
    "\n",
    "- 9. Statistical function\n",
    "\n",
    "- 10. Linear Algebra with Numpy\n",
    "\n",
    "- 11. Problem Solving in DEEP ML"
   ]
  }
 ],
 "metadata": {
  "language_info": {
   "name": "python"
  }
 },
 "nbformat": 4,
 "nbformat_minor": 5
}
