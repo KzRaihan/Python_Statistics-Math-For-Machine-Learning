{
 "cells": [
  {
   "cell_type": "markdown",
   "id": "663563df",
   "metadata": {},
   "source": [
    "### Topic: 4. Numpy Broadcasting"
   ]
  },
  {
   "cell_type": "markdown",
   "id": "24850c0f",
   "metadata": {},
   "source": []
  },
  {
   "cell_type": "markdown",
   "id": "040133ab",
   "metadata": {},
   "source": [
    "- performing arithmetic operations on arrays of different shapes or sizes.\n",
    "\n",
    "- Rules\n",
    "    - 2d column size and 1-d size same (for 1-d and 2d)  "
   ]
  },
  {
   "cell_type": "code",
   "execution_count": 2,
   "id": "b7b9a654",
   "metadata": {},
   "outputs": [],
   "source": [
    "import numpy as np"
   ]
  },
  {
   "cell_type": "code",
   "execution_count": null,
   "id": "61b87080",
   "metadata": {},
   "outputs": [
    {
     "name": "stdout",
     "output_type": "stream",
     "text": [
      "Arr: \n",
      " [10 20 30 40 50 60]\n",
      "Result: \n",
      " [12 22 32 42 52 62]\n"
     ]
    }
   ],
   "source": [
    "# Example of broadcasting\n",
    "\n",
    "arr = np.array([10, 20, 30, 40, 50, 60])\n",
    "\n",
    "result = arr + 2\n",
    "\n",
    "print(\"Arr: \\n\", arr)\n",
    "\n",
    "print(\"Result: \\n\", result)"
   ]
  },
  {
   "cell_type": "code",
   "execution_count": null,
   "id": "24fc9ce3",
   "metadata": {},
   "outputs": [
    {
     "name": "stdout",
     "output_type": "stream",
     "text": [
      "[[11 22 33]\n",
      " [16 27 38]\n",
      " [41 52 63]]\n"
     ]
    }
   ],
   "source": [
    "# Example: broadcasting 1-d and 2d\n",
    "\n",
    "scalar = np.array([1,2,3])\n",
    "\n",
    "matrix = np.array([\n",
    "    [10, 20, 30],\n",
    "    [15, 25, 35], \n",
    "    [40, 50, 60]\n",
    "])\n",
    "\n",
    "# result = matrix + scalar\n",
    "\n",
    "result = scalar + matrix \n",
    "\n",
    "\n",
    "print(result)\n"
   ]
  },
  {
   "cell_type": "code",
   "execution_count": null,
   "id": "4e08d2ab",
   "metadata": {},
   "outputs": [
    {
     "name": "stdout",
     "output_type": "stream",
     "text": [
      "[[20 30 40]\n",
      " [35 45 55]]\n"
     ]
    }
   ],
   "source": [
    "# Example: column broadcastin\n",
    "\n",
    "arr1 = np.array([\n",
    "    [10, 20, 30],\n",
    "    [15, 25, 35] \n",
    "])\n",
    "\n",
    "arr2 = np.array([\n",
    "    [10],\n",
    "    [20]\n",
    "]    \n",
    ")\n",
    "\n",
    "result = arr1 + arr2\n",
    "\n",
    "print(result)\n"
   ]
  },
  {
   "cell_type": "code",
   "execution_count": null,
   "id": "18c8db69",
   "metadata": {},
   "outputs": [
    {
     "ename": "ValueError",
     "evalue": "operands could not be broadcast together with shapes (2,3) (2,2) ",
     "output_type": "error",
     "traceback": [
      "\u001b[1;31m---------------------------------------------------------------------------\u001b[0m",
      "\u001b[1;31mValueError\u001b[0m                                Traceback (most recent call last)",
      "Cell \u001b[1;32mIn[11], line 16\u001b[0m\n\u001b[0;32m      4\u001b[0m arr1 \u001b[38;5;241m=\u001b[39m np\u001b[38;5;241m.\u001b[39marray([\n\u001b[0;32m      5\u001b[0m     [\u001b[38;5;241m10\u001b[39m, \u001b[38;5;241m20\u001b[39m, \u001b[38;5;241m30\u001b[39m],\n\u001b[0;32m      6\u001b[0m     [\u001b[38;5;241m15\u001b[39m, \u001b[38;5;241m25\u001b[39m, \u001b[38;5;241m35\u001b[39m] \n\u001b[0;32m      7\u001b[0m ])\n\u001b[0;32m      9\u001b[0m arr2 \u001b[38;5;241m=\u001b[39m np\u001b[38;5;241m.\u001b[39marray([\n\u001b[0;32m     10\u001b[0m     [\u001b[38;5;241m10\u001b[39m, \u001b[38;5;241m20\u001b[39m],\n\u001b[0;32m     11\u001b[0m     [\u001b[38;5;241m30\u001b[39m, \u001b[38;5;241m40\u001b[39m]\n\u001b[0;32m     12\u001b[0m     \n\u001b[0;32m     13\u001b[0m ]    \n\u001b[0;32m     14\u001b[0m )\n\u001b[1;32m---> 16\u001b[0m result \u001b[38;5;241m=\u001b[39m arr1 \u001b[38;5;241m+\u001b[39m arr2\n\u001b[0;32m     18\u001b[0m \u001b[38;5;28mprint\u001b[39m(result)\n",
      "\u001b[1;31mValueError\u001b[0m: operands could not be broadcast together with shapes (2,3) (2,2) "
     ]
    }
   ],
   "source": [
    "# Error case\n",
    "# when row or column shape don't match\n",
    "\n",
    "arr1 = np.array([\n",
    "    [10, 20, 30],\n",
    "    [15, 25, 35] \n",
    "])\n",
    "\n",
    "arr2 = np.array([\n",
    "    [10, 20],\n",
    "    [30, 40]\n",
    "    \n",
    "]    \n",
    ")\n",
    "\n",
    "result = arr1 + arr2\n",
    "\n",
    "print(result)"
   ]
  },
  {
   "cell_type": "code",
   "execution_count": 20,
   "id": "00a7a537",
   "metadata": {},
   "outputs": [
    {
     "name": "stdout",
     "output_type": "stream",
     "text": [
      "celsius  temp: \n",
      " [[26. 23. 22. 20.]\n",
      " [26. 15. 23. 16.]\n",
      " [28. 28. 21. 17.]]\n",
      "Fahrenheit temp: \n",
      " [[78.8 73.4 71.6 68. ]\n",
      " [78.8 59.  73.4 60.8]\n",
      " [82.4 82.4 69.8 62.6]]\n"
     ]
    }
   ],
   "source": [
    "# real Example\n",
    "# Temperature conversion cel to far: (celsius * 9/5 + 32)\n",
    "\n",
    "cel_temp = np.random.randint(15, 30, size= (3,4))\n",
    "\n",
    "cel_temp = cel_temp.astype(np.float32)\n",
    "\n",
    "print(\"celsius  temp: \\n\", cel_temp)\n",
    "\n",
    "\n",
    "# conversion\n",
    "\n",
    "far_temp = cel_temp * 9/5 + 32\n",
    "\n",
    "print(\"Fahrenheit temp: \\n\", far_temp)\n",
    "\n"
   ]
  },
  {
   "cell_type": "code",
   "execution_count": null,
   "id": "0376d0db",
   "metadata": {},
   "outputs": [],
   "source": []
  }
 ],
 "metadata": {
  "kernelspec": {
   "display_name": "base",
   "language": "python",
   "name": "python3"
  },
  "language_info": {
   "codemirror_mode": {
    "name": "ipython",
    "version": 3
   },
   "file_extension": ".py",
   "mimetype": "text/x-python",
   "name": "python",
   "nbconvert_exporter": "python",
   "pygments_lexer": "ipython3",
   "version": "3.13.5"
  }
 },
 "nbformat": 4,
 "nbformat_minor": 5
}
