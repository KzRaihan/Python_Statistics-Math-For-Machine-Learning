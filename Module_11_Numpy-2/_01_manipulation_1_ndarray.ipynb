{
 "cells": [
  {
   "cell_type": "markdown",
   "id": "ded98ecd",
   "metadata": {},
   "source": [
    "## Topic: Numpy Array Manipulation_1"
   ]
  },
  {
   "cell_type": "markdown",
   "id": "4dd053d0",
   "metadata": {},
   "source": [
    "### OUTCOMES\n",
    "- 1. Reshape\n",
    "    - arr.reshape(new_size)\n",
    "\n",
    "- 2. Convert array \n",
    "    - arr.flattern()\n",
    "    - np.ravel(arr,order= \"F\")\n",
    "\n",
    "- 3. Concatenation\n",
    "    - np.concatenate(arr1,arr2)\n"
   ]
  },
  {
   "cell_type": "markdown",
   "id": "b6703c27",
   "metadata": {},
   "source": [
    "### 1. Reshape"
   ]
  },
  {
   "cell_type": "markdown",
   "id": "203bf487",
   "metadata": {},
   "source": [
    "- Changing the structure of an array without changing it's data.\n",
    "\n",
    "- use reshape() function\n",
    "\n",
    "- syntax of reshape():\n",
    "    - arr_name.reshape(new_size)"
   ]
  },
  {
   "cell_type": "code",
   "execution_count": 1,
   "id": "4c91f177",
   "metadata": {},
   "outputs": [],
   "source": [
    "import numpy as np"
   ]
  },
  {
   "cell_type": "code",
   "execution_count": 4,
   "id": "2fd92deb",
   "metadata": {},
   "outputs": [
    {
     "name": "stdout",
     "output_type": "stream",
     "text": [
      "Original array:  [1 2 3 4 5 6 7 8 9]\n",
      "Shape:  (9,)\n",
      "Dimension:  1\n",
      "Reshape or new array:\n",
      " [[1 2 3]\n",
      " [4 5 6]\n",
      " [7 8 9]]\n",
      "Shape:  (3, 3)\n",
      "Dimension:  2\n"
     ]
    }
   ],
   "source": [
    "# Example: reshape(new_shape)\n",
    "# - change the original shape\n",
    "\n",
    "# convert 1-d array to 2-d array\n",
    "arr1 = np.array([1, 2, 3, 4, 5, 6, 7,8, 9])\n",
    "\n",
    "print(\"Original array: \", arr1)\n",
    "print(\"Shape: \", arr1.shape)\n",
    "print(\"Dimension: \", arr1.ndim)\n",
    "\n",
    "\n",
    "# convert 1-d to 2-d\n",
    "\n",
    "arr2 = arr1.reshape(3,3)\n",
    "\n",
    "print(\"Reshape or new array:\\n\", arr2)\n",
    "print(\"Shape: \", arr2.shape)\n",
    "print(\"Dimension: \", arr2.ndim)"
   ]
  },
  {
   "cell_type": "code",
   "execution_count": 5,
   "id": "8cce2c31",
   "metadata": {},
   "outputs": [
    {
     "ename": "ValueError",
     "evalue": "cannot reshape array of size 9 into shape (2,3)",
     "output_type": "error",
     "traceback": [
      "\u001b[1;31m---------------------------------------------------------------------------\u001b[0m",
      "\u001b[1;31mValueError\u001b[0m                                Traceback (most recent call last)",
      "Cell \u001b[1;32mIn[5], line 3\u001b[0m\n\u001b[0;32m      1\u001b[0m \u001b[38;5;66;03m# if we try....\u001b[39;00m\n\u001b[1;32m----> 3\u001b[0m arr_error \u001b[38;5;241m=\u001b[39m arr1\u001b[38;5;241m.\u001b[39mreshape(\u001b[38;5;241m2\u001b[39m,\u001b[38;5;241m3\u001b[39m)\n\u001b[0;32m      4\u001b[0m \u001b[38;5;28mprint\u001b[39m(arr_error)\n",
      "\u001b[1;31mValueError\u001b[0m: cannot reshape array of size 9 into shape (2,3)"
     ]
    }
   ],
   "source": [
    "# if we try....\n",
    "\n",
    "arr_error = arr1.reshape(2,3)\n",
    "print(arr_error)\n",
    "\n",
    "\n",
    "# NOTE\n",
    "# - before and after reshaping the total numbers of elements are same.\n",
    "\n",
    "# After reshape if we can't get the same numbers of elements the it will generate error.\n"
   ]
  },
  {
   "cell_type": "code",
   "execution_count": 64,
   "id": "73efe536",
   "metadata": {},
   "outputs": [
    {
     "name": "stdout",
     "output_type": "stream",
     "text": [
      "[[1 2 3]\n",
      " [4 5 6]\n",
      " [7 8 9]]\n",
      "Auto detect: \n",
      " [[1 2 3]\n",
      " [4 5 6]\n",
      " [7 8 9]]\n"
     ]
    }
   ],
   "source": [
    "# using (-1) Reshape\n",
    "\n",
    "arr1 = np.array([1, 2, 3, 4, 5, 6, 7,8, 9])\n",
    "\n",
    "\n",
    "arr2 = arr1.reshape(3,-1)  # -1 means automatical calculate the column numbers\n",
    "                           \n",
    "print(arr2)\n",
    "\n",
    "# -1 : must be one parameter either row or column\n",
    "\n",
    "arr = arr1.reshape(-1,3)\n",
    "print(\"Auto detect: \\n\", arr)"
   ]
  },
  {
   "cell_type": "code",
   "execution_count": null,
   "id": "5960802f",
   "metadata": {},
   "outputs": [
    {
     "name": "stdout",
     "output_type": "stream",
     "text": [
      "2-D array: \n",
      " [[ 8 10  2]\n",
      " [16  6  4]\n",
      " [ 9 12 12]\n",
      " [15 13 11]]\n",
      "Shape:  (4, 3)\n",
      "1-d: \n",
      " [ 8 10  2 16  6  4  9 12 12 15 13 11]\n",
      "Shape:  (12,)\n"
     ]
    }
   ],
   "source": [
    "# Reshape 2-d to 1-d\n",
    "\n",
    "arr2 = np.random.randint(1,20, size = (4,3))\n",
    "\n",
    "print(\"2-D array: \\n\", arr2)\n",
    "\n",
    "print(\"Shape: \", arr2.shape)\n",
    "\n",
    "# reshape 1d\n",
    "arr1 = arr2.reshape(12)\n",
    "\n",
    "print(\"1-d: \\n\", arr1)\n",
    "print(\"Shape: \", arr1.shape)\n"
   ]
  },
  {
   "cell_type": "markdown",
   "id": "9fadb4c5",
   "metadata": {},
   "source": [
    "### 2. Convert array (2-d to 1-d)"
   ]
  },
  {
   "cell_type": "code",
   "execution_count": 14,
   "id": "ee2efc32",
   "metadata": {},
   "outputs": [
    {
     "name": "stdout",
     "output_type": "stream",
     "text": [
      "2-d Array: \n",
      " [[8 2 4 5]\n",
      " [5 8 4 8]\n",
      " [1 1 7 7]]\n",
      "1-d Array: \n",
      " [8 2 4 5 5 8 4 8 1 1 7 7]\n"
     ]
    }
   ],
   "source": [
    "# convert one dimension to another dimension\n",
    "\n",
    "# 2-d to 1-d using -> arr.flatten()\n",
    "\n",
    "arr2 = np.random.randint(1,10, size = (3,4))\n",
    "\n",
    "print(\"2-d Array: \\n\", arr2)\n",
    "\n",
    "# now convert 2-d to 1-d\n",
    "\n",
    "flattern_1d_array = arr2.flatten()\n",
    "\n",
    "print(\"1-d Array: \\n\", flattern_1d_array)\n",
    "\n",
    "\n",
    "# NOTE - > arr.flatten(): convert 2-d to 1-d array in rows wise."
   ]
  },
  {
   "cell_type": "code",
   "execution_count": null,
   "id": "f1239aa0",
   "metadata": {},
   "outputs": [
    {
     "name": "stdout",
     "output_type": "stream",
     "text": [
      "2-d Array: \n",
      " [[ 1  2  3  4]\n",
      " [ 5  6  7  8]\n",
      " [ 9 10 11 12]\n",
      " [13 14 15 16]\n",
      " [17 18 19 20]]\n",
      "1-d Array Row wise: \n",
      " [ 1  2  3  4  5  6  7  8  9 10 11 12 13 14 15 16 17 18 19 20]\n",
      "1-d Array Column wise: \n",
      " [ 1  5  9 13 17  2  6 10 14 18  3  7 11 15 19  4  8 12 16 20]\n"
     ]
    }
   ],
   "source": [
    "# method-02: np.ravel(arr,order = \"F\")\n",
    "# order : \"F\" means conver 2-d to 1-d in the form columns wise \n",
    "# order : \"C\" means conver 2-d to 1-d in the form rows wise (default)\n",
    "\n",
    "\n",
    "arr2 = np.arange(1,21).reshape(5,4)\n",
    "\n",
    "print(\"2-d Array: \\n\", arr2)\n",
    "\n",
    "# convert 2-d to 1-d in rows wise (default)\n",
    "\n",
    "row_wise_1d = np.ravel(arr2,order = \"C\")\n",
    "# row_wise_1d = np.ravel(arr2)  # default count row-wise\n",
    "\n",
    "print(\"1-d Array Row wise: \\n\", row_wise_1d)\n",
    "\n",
    "\n",
    "# convert 2-d to 1-d in column wise \n",
    "col_wise_1d  = np.ravel(arr2, order=\"F\")\n",
    "\n",
    "print(\"1-d Array Column wise: \\n\", col_wise_1d)\n"
   ]
  },
  {
   "cell_type": "markdown",
   "id": "20df638e",
   "metadata": {},
   "source": [
    "### 3. Concatenation"
   ]
  },
  {
   "cell_type": "markdown",
   "id": "540e1261",
   "metadata": {},
   "source": [
    "- Add (concatenate) two or more ndarray in Elements wise \n",
    "\n",
    "- Two method:\n",
    "    - 1. rows-wise concatenate\n",
    "    - 2. column-wise concatenate\n",
    "\n",
    "- Condition for concatenate\n",
    "    - To concatenate arrays, both must have the same number of dimensions.\n",
    "    - for rows-wise: numbers of columns are same both array.\n",
    "    - for coln-wise: number of rows are same both array.\n",
    "\n",
    "- syntax of np.concatenate((arr1,arr2), axis = 0)\n",
    "    - first argument two array in tuple format\n",
    "    - 1 = rows wise concatenate\n",
    "    - 0 = column wise concatenate"
   ]
  },
  {
   "cell_type": "code",
   "execution_count": 30,
   "id": "395c474d",
   "metadata": {},
   "outputs": [
    {
     "name": "stdout",
     "output_type": "stream",
     "text": [
      "Shape:  (5,)\n",
      "Shape:  (5,)\n",
      "Arr1: \n",
      " [10 20 30 40 50]\n",
      "Arr2: \n",
      " [15 25 35 45 55]\n",
      "Row Con Array: \n",
      " [10 20 30 40 50 15 25 35 45 55]\n"
     ]
    }
   ],
   "source": [
    "arr1 = np.array([10, 20, 30, 40, 50])\n",
    "\n",
    "arr2 = np.array([15, 25, 35, 45, 55])\n",
    "\n",
    "\n",
    "# 1. rows-wise concatenate\n",
    "print(\"Shape: \", arr1.shape)  #  here two array same shape (allow to concatenate in rows wise)\n",
    "print(\"Shape: \", arr2.shape)\n",
    "\n",
    "\n",
    "# concatenate : axis = 1 menas rows\n",
    "con = np.concatenate((arr1,arr2), axis=0)\n",
    "\n",
    "print(\"Arr1: \\n\", arr1)\n",
    "print(\"Arr2: \\n\", arr2)\n",
    "\n",
    "print(\"Row Con Array: \\n\", con)\n",
    "\n"
   ]
  },
  {
   "cell_type": "code",
   "execution_count": 31,
   "id": "622ae3a3",
   "metadata": {},
   "outputs": [
    {
     "ename": "AxisError",
     "evalue": "axis 1 is out of bounds for array of dimension 1",
     "output_type": "error",
     "traceback": [
      "\u001b[1;31m---------------------------------------------------------------------------\u001b[0m",
      "\u001b[1;31mAxisError\u001b[0m                                 Traceback (most recent call last)",
      "Cell \u001b[1;32mIn[31], line 2\u001b[0m\n\u001b[0;32m      1\u001b[0m \u001b[38;5;66;03m# 2. column-wise concatenate\u001b[39;00m\n\u001b[1;32m----> 2\u001b[0m con_col \u001b[38;5;241m=\u001b[39m np\u001b[38;5;241m.\u001b[39mconcatenate((arr1,arr2), axis\u001b[38;5;241m=\u001b[39m\u001b[38;5;241m1\u001b[39m)\n\u001b[0;32m      3\u001b[0m \u001b[38;5;28mprint\u001b[39m(\u001b[38;5;124m\"\u001b[39m\u001b[38;5;124mColumn Con Array: \u001b[39m\u001b[38;5;124m\"\u001b[39m, con_col)\n",
      "\u001b[1;31mAxisError\u001b[0m: axis 1 is out of bounds for array of dimension 1"
     ]
    }
   ],
   "source": [
    "# 2. column-wise concatenate\n",
    "con_col = np.concatenate((arr1,arr2), axis=1)\n",
    "print(\"Column Con Array: \", con_col)\n",
    "\n",
    "# here both array are 1-d (vector) there is no columns "
   ]
  },
  {
   "cell_type": "code",
   "execution_count": 47,
   "id": "2d1af198",
   "metadata": {},
   "outputs": [
    {
     "name": "stdout",
     "output_type": "stream",
     "text": [
      "Shape of Vector:  (5, 1)\n",
      "vector: \n",
      " [[10]\n",
      " [20]\n",
      " [30]\n",
      " [40]\n",
      " [50]]\n",
      "Shape of Matrix:  (5, 3)\n",
      "Matrix: \n",
      " [[4 7 6]\n",
      " [6 4 7]\n",
      " [3 6 4]\n",
      " [9 3 2]\n",
      " [7 2 1]]\n",
      "Column Wise concatenate: \n",
      " [[10  4  7  6]\n",
      " [20  6  4  7]\n",
      " [30  3  6  4]\n",
      " [40  9  3  2]\n",
      " [50  7  2  1]]\n"
     ]
    }
   ],
   "source": [
    "# Example: concatenation : vector and matrix\n",
    "\n",
    "vector = np.array([10, 20, 30, 40, 50]).reshape(5,1)  # To concatenate arrays, both must have the same number of dimensions.\n",
    "\n",
    "print(\"Shape of Vector: \", vector.shape)\n",
    "print(\"vector: \\n\", vector)\n",
    "\n",
    "matrix = np.random.randint(1,10, size=(5,3))\n",
    "print(\"Shape of Matrix: \", matrix.shape)\n",
    "print(\"Matrix: \\n\", matrix)\n",
    "\n",
    "# concatenate\n",
    "\n",
    "con_arr = np.concatenate((vector,matrix),axis=1)\n",
    "\n",
    "print(\"Column Wise concatenate: \\n\", con_arr)"
   ]
  },
  {
   "cell_type": "code",
   "execution_count": 50,
   "id": "8d132b75",
   "metadata": {},
   "outputs": [
    {
     "name": "stdout",
     "output_type": "stream",
     "text": [
      "Arr1 : \n",
      " [[27 26 14 22 29 18]\n",
      " [11 15 25 10 19 13]\n",
      " [19 22 13 19 16 27]\n",
      " [24 29 28 29 17 22]\n",
      " [25 29 24 21 26 23]]\n",
      "Arr2 : \n",
      " [[51 46 48 41 59]\n",
      " [44 54 42 55 49]\n",
      " [42 42 54 57 42]\n",
      " [51 50 52 57 43]\n",
      " [41 56 40 49 51]\n",
      " [54 49 50 55 41]]\n",
      "Shape of arr1:  (5, 6)\n",
      "Shape O arr2:  (6, 5)\n"
     ]
    },
    {
     "ename": "ValueError",
     "evalue": "all the input array dimensions except for the concatenation axis must match exactly, but along dimension 1, the array at index 0 has size 6 and the array at index 1 has size 5",
     "output_type": "error",
     "traceback": [
      "\u001b[1;31m---------------------------------------------------------------------------\u001b[0m",
      "\u001b[1;31mValueError\u001b[0m                                Traceback (most recent call last)",
      "Cell \u001b[1;32mIn[50], line 18\u001b[0m\n\u001b[0;32m     13\u001b[0m \u001b[38;5;28mprint\u001b[39m(\u001b[38;5;124m\"\u001b[39m\u001b[38;5;124mShape O arr2: \u001b[39m\u001b[38;5;124m\"\u001b[39m, arr2\u001b[38;5;241m.\u001b[39mshape)\n\u001b[0;32m     16\u001b[0m \u001b[38;5;66;03m# rows wise concatenate(axis = 0) | no. of columns are same\u001b[39;00m\n\u001b[1;32m---> 18\u001b[0m con_row \u001b[38;5;241m=\u001b[39m np\u001b[38;5;241m.\u001b[39mconcatenate((arr1,arr2), axis\u001b[38;5;241m=\u001b[39m\u001b[38;5;241m0\u001b[39m)\n\u001b[0;32m     20\u001b[0m \u001b[38;5;28mprint\u001b[39m(con_row)\n",
      "\u001b[1;31mValueError\u001b[0m: all the input array dimensions except for the concatenation axis must match exactly, but along dimension 1, the array at index 0 has size 6 and the array at index 1 has size 5"
     ]
    }
   ],
   "source": [
    "# Example : concatenates\n",
    "\n",
    "arr1 = np.random.randint(10,30, size= (5,6))\n",
    "arr2 = np.random.randint(40,60, size= (6,5))\n",
    "\n",
    "\n",
    "print(\"Arr1 : \\n\", arr1)\n",
    "print(\"Arr2 : \\n\", arr2)\n",
    "\n",
    "\n",
    "# concate in rows wise \n",
    "print(\"Shape of arr1: \", arr1.shape)\n",
    "print(\"Shape O arr2: \", arr2.shape)\n",
    "\n",
    "\n",
    "# rows wise concatenate(axis = 1) | no. of columns are same of both array\n",
    "\n",
    "con_row = np.concatenate((arr1,arr2), axis=0)\n",
    "\n",
    "print(con_row)  # here no of column are not same both array"
   ]
  },
  {
   "cell_type": "code",
   "execution_count": 51,
   "id": "348eb53b",
   "metadata": {},
   "outputs": [
    {
     "ename": "ValueError",
     "evalue": "all the input array dimensions except for the concatenation axis must match exactly, but along dimension 0, the array at index 0 has size 5 and the array at index 1 has size 6",
     "output_type": "error",
     "traceback": [
      "\u001b[1;31m---------------------------------------------------------------------------\u001b[0m",
      "\u001b[1;31mValueError\u001b[0m                                Traceback (most recent call last)",
      "Cell \u001b[1;32mIn[51], line 3\u001b[0m\n\u001b[0;32m      1\u001b[0m \u001b[38;5;66;03m# rows wise concatenate(axis = 1) | no. of rows are same\u001b[39;00m\n\u001b[1;32m----> 3\u001b[0m con_col \u001b[38;5;241m=\u001b[39m np\u001b[38;5;241m.\u001b[39mconcatenate((arr1,arr2), axis\u001b[38;5;241m=\u001b[39m\u001b[38;5;241m1\u001b[39m)\n",
      "\u001b[1;31mValueError\u001b[0m: all the input array dimensions except for the concatenation axis must match exactly, but along dimension 0, the array at index 0 has size 5 and the array at index 1 has size 6"
     ]
    }
   ],
   "source": [
    "# rows wise concatenate(axis = 1) | no. of columns are same\n",
    "\n",
    "con_col = np.concatenate((arr1,arr2), axis=1)\n",
    "\n",
    "# ValueError: because here number of rows are not same both array"
   ]
  },
  {
   "cell_type": "code",
   "execution_count": 55,
   "id": "634220a7",
   "metadata": {},
   "outputs": [
    {
     "name": "stdout",
     "output_type": "stream",
     "text": [
      "Arr1: \n",
      " [[8 7 9 8]\n",
      " [8 8 5 8]\n",
      " [7 8 4 1]]\n",
      "Shape:  (3, 4)\n",
      "Arr1: \n",
      " [[19 14 17 16]\n",
      " [18 12 15 15]]\n",
      "Shape:  (2, 4)\n",
      "Row Wise array: \n",
      " [[ 8  7  9  8]\n",
      " [ 8  8  5  8]\n",
      " [ 7  8  4  1]\n",
      " [19 14 17 16]\n",
      " [18 12 15 15]]\n"
     ]
    }
   ],
   "source": [
    "# Example where no.of column are same\n",
    "\n",
    "arr1 = np.random.randint(1,10, size = (3,4))\n",
    "\n",
    "print(\"Arr1: \\n\", arr1)\n",
    "print(\"Shape: \", arr1.shape)\n",
    "\n",
    "\n",
    "\n",
    "arr2 = np.random.randint(11,20, size = (2,4))\n",
    "print(\"Arr1: \\n\", arr2)\n",
    "print(\"Shape: \", arr2.shape)\n",
    "\n",
    "\n",
    "# only concatenate in column-wise\n",
    "\n",
    "con_rows = np.concatenate((arr1,arr2), axis=0)\n",
    "\n",
    "print(\"Row Wise array: \\n\", con_rows)\n"
   ]
  },
  {
   "cell_type": "code",
   "execution_count": 59,
   "id": "24393675",
   "metadata": {},
   "outputs": [
    {
     "name": "stdout",
     "output_type": "stream",
     "text": [
      "Arr1: \n",
      " [[9 4]\n",
      " [6 3]\n",
      " [3 5]]\n",
      "Shape:  (3, 2)\n",
      "Arr1: \n",
      " [[17 17 19 11]\n",
      " [18 15 14 19]\n",
      " [17 14 18 12]]\n",
      "Shape:  (3, 4)\n",
      "Row Wise array: \n",
      " [[ 9  4 17 17 19 11]\n",
      " [ 6  3 18 15 14 19]\n",
      " [ 3  5 17 14 18 12]]\n"
     ]
    }
   ],
   "source": [
    "# Example where no.of rows are same\n",
    "\n",
    "arr1 = np.random.randint(1,10, size = (3,2))\n",
    "\n",
    "print(\"Arr1: \\n\", arr1)\n",
    "print(\"Shape: \", arr1.shape)\n",
    "\n",
    "\n",
    "\n",
    "arr2 = np.random.randint(11,20, size = (3,4))\n",
    "print(\"Arr1: \\n\", arr2)\n",
    "print(\"Shape: \", arr2.shape)\n",
    "\n",
    "\n",
    "# only concatenate in row-wise\n",
    "\n",
    "con_rows = np.concatenate((arr1,arr2), axis=1)\n",
    "\n",
    "print(\"Row Wise array: \\n\", con_rows)\n"
   ]
  },
  {
   "cell_type": "code",
   "execution_count": 62,
   "id": "164902cc",
   "metadata": {},
   "outputs": [
    {
     "name": "stdout",
     "output_type": "stream",
     "text": [
      "Arr1: \n",
      " [[2 5 2 9]\n",
      " [9 9 1 3]\n",
      " [4 1 3 7]]\n",
      "Shape:  (3, 4)\n",
      "Arr1: \n",
      " [[14 16 12 12]\n",
      " [14 18 14 16]\n",
      " [18 15 17 18]]\n",
      "Shape:  (3, 4)\n",
      "Row Wise array: \n",
      " [[ 2  5  2  9 14 16 12 12]\n",
      " [ 9  9  1  3 14 18 14 16]\n",
      " [ 4  1  3  7 18 15 17 18]]\n",
      "Column wise array: \n",
      " [[ 2  5  2  9]\n",
      " [ 9  9  1  3]\n",
      " [ 4  1  3  7]\n",
      " [14 16 12 12]\n",
      " [14 18 14 16]\n",
      " [18 15 17 18]]\n"
     ]
    }
   ],
   "source": [
    "# when row and column are same\n",
    "\n",
    "arr1 = np.random.randint(1,10, size = (3,4))\n",
    "\n",
    "print(\"Arr1: \\n\", arr1)\n",
    "print(\"Shape: \", arr1.shape)\n",
    "\n",
    "\n",
    "\n",
    "arr2 = np.random.randint(11,20, size = (3,4))\n",
    "print(\"Arr1: \\n\", arr2)\n",
    "print(\"Shape: \", arr2.shape)\n",
    "\n",
    "\n",
    "# concatenate in row-wise\n",
    "\n",
    "con_rows = np.concatenate((arr1,arr2), axis=1)\n",
    "\n",
    "print(\"Row Wise array: \\n\", con_rows)\n",
    "\n",
    "\n",
    "# concatenate in column wise\n",
    "con_column = np.concatenate((arr1, arr2),axis= 0)\n",
    "print(\"Column wise array: \\n\", con_column)\n",
    "\n",
    "\n"
   ]
  }
 ],
 "metadata": {
  "kernelspec": {
   "display_name": "base",
   "language": "python",
   "name": "python3"
  },
  "language_info": {
   "codemirror_mode": {
    "name": "ipython",
    "version": 3
   },
   "file_extension": ".py",
   "mimetype": "text/x-python",
   "name": "python",
   "nbconvert_exporter": "python",
   "pygments_lexer": "ipython3",
   "version": "3.13.5"
  }
 },
 "nbformat": 4,
 "nbformat_minor": 5
}
