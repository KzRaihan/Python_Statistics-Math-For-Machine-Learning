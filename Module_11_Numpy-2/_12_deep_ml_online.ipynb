{
 "cells": [
  {
   "cell_type": "markdown",
   "id": "0aedf783",
   "metadata": {},
   "source": [
    "### Topic: Online judge"
   ]
  },
  {
   "cell_type": "markdown",
   "id": "faebd0df",
   "metadata": {},
   "source": [
    "Proble_01: Easy: Reshape Matrix\n",
    "https://www.deep-ml.com/problems/3\n",
    "\n",
    "- input: \n",
    "    a = [[1,2,3,4],[5,6,7,8]], new_shape = (4, 2)\n",
    "\n",
    "- output:\n",
    "    [[1, 2], [3, 4], [5, 6], [7, 8]]"
   ]
  },
  {
   "cell_type": "code",
   "execution_count": null,
   "id": "8cf3d6b0",
   "metadata": {},
   "outputs": [],
   "source": [
    "import numpy as np"
   ]
  },
  {
   "cell_type": "markdown",
   "id": "9eaa6a19",
   "metadata": {},
   "source": [
    "- Q.n: \n",
    "Write a Python function that reshapes a given matrix into a specified shape. if it cant be reshaped return back an empty list [ ]"
   ]
  },
  {
   "cell_type": "code",
   "execution_count": 17,
   "id": "ee134a47",
   "metadata": {},
   "outputs": [
    {
     "name": "stdout",
     "output_type": "stream",
     "text": [
      "[[1, 2], [3, 4], [5, 6], [7, 8]]\n"
     ]
    }
   ],
   "source": [
    "# Solution:\n",
    "\n",
    "def reshape_matrix(a, new_shape):\n",
    "    arr = np.array(a)\n",
    "\n",
    "    arr1 = arr.reshape(new_shape)\n",
    "\n",
    "    size_arr = arr.size\n",
    "\n",
    "    size_arr1 = arr1.size\n",
    "\n",
    "    # print(\"arr1: \", size_arr)\n",
    "    # print(\"arr2: \", size_arr1)\n",
    "\n",
    "    if size_arr == size_arr1:\n",
    "        return arr1.tolist()\n",
    "    else:\n",
    "        return []\n",
    "\n",
    "\n",
    "a = [[1,2,3,4],\n",
    "    [5,6,7,8]]\n",
    "\n",
    "# print(a, type(a))\n",
    "new_shape = (4, 2)\n",
    "\n",
    "new_reshape_matrix = reshape_matrix(a, new_shape)\n",
    "print(new_reshape_matrix)\n",
    "\n",
    "\n"
   ]
  },
  {
   "cell_type": "code",
   "execution_count": null,
   "id": "a22329e5",
   "metadata": {},
   "outputs": [],
   "source": [
    "    size_arr = arr.size\n",
    "\n",
    "    arr2 = np.array(new_shape)\n",
    "    size_shape = arr2.size\n",
    "\n",
    "    print(size_arr, size_shape)"
   ]
  },
  {
   "cell_type": "markdown",
   "id": "502ffaaf",
   "metadata": {},
   "source": [
    "Problem_02: Easy\n",
    "https://www.deep-ml.com/problems/5"
   ]
  },
  {
   "cell_type": "code",
   "execution_count": null,
   "id": "f586a1c4",
   "metadata": {},
   "outputs": [],
   "source": [
    "\n",
    "\n",
    "- Input:\n",
    "matrix = [[1, 2], [3, 4]], scalar = 2\n",
    "\n",
    "\n",
    "- Output:\n",
    "    [[2, 4], [6, 8]]\n"
   ]
  },
  {
   "cell_type": "markdown",
   "id": "11b072d0",
   "metadata": {},
   "source": [
    "#### Scalar Multiplication of a Matrix\n",
    "\n",
    "- Write a Python function that multiplies a matrix by a scalar and returns the result."
   ]
  },
  {
   "cell_type": "code",
   "execution_count": 19,
   "id": "acca9989",
   "metadata": {},
   "outputs": [
    {
     "name": "stdout",
     "output_type": "stream",
     "text": [
      "[[2, 4], [6, 8]]\n"
     ]
    }
   ],
   "source": [
    "# Solution_02\n",
    "\n",
    "def scalar_multiply(matrix, scalar):\n",
    "    arr = np.array(matrix)\n",
    "\t\n",
    "    # multiplication\n",
    "    result = np.dot(arr, scalar)  \n",
    "    \n",
    "    return result.tolist()\n",
    "\n",
    "\n",
    "matrix = [[1, 2], \n",
    "          [3, 4]]\n",
    "\n",
    "scalar = 2\n",
    "\n",
    "ans = scalar_multiply(matrix, scalar)\n",
    "\n",
    "print(ans)\n"
   ]
  },
  {
   "cell_type": "markdown",
   "id": "5aef2301",
   "metadata": {},
   "source": [
    "Problem -03: Easy\n",
    "https://www.deep-ml.com/problems/35"
   ]
  },
  {
   "cell_type": "markdown",
   "id": "6282b6e8",
   "metadata": {},
   "source": [
    "\n",
    "\n",
    "- Input:\n",
    "x = np.array([1, 2, 3])\n",
    "    output = make_diagonal(x)\n",
    "    print(output)\n",
    "Output:\n",
    "    [[1. 0. 0.]\n",
    "        [0. 2. 0.]\n",
    "        [0. 0. 3.]]"
   ]
  },
  {
   "cell_type": "markdown",
   "id": "d8d9f119",
   "metadata": {},
   "source": [
    "#### Convert Vector to Diagonal Matrix\n",
    "\n",
    "- Write a Python function to convert a 1D numpy array into a diagonal matrix. The function should take in a 1D numpy array x and return a 2D numpy array representing the diagonal matrix."
   ]
  },
  {
   "cell_type": "code",
   "execution_count": null,
   "id": "67bb4391",
   "metadata": {},
   "outputs": [
    {
     "data": {
      "text/plain": [
       "array([[1, 0, 0],\n",
       "       [0, 2, 0],\n",
       "       [0, 0, 3]])"
      ]
     },
     "execution_count": 20,
     "metadata": {},
     "output_type": "execute_result"
    }
   ],
   "source": [
    "import numpy as np\n",
    "\n",
    "def make_diagonal(x):\n",
    "\toutput = np.diag(x)\n",
    "\n",
    "\treturn output\n",
    "\t\n",
    "\t\n",
    "x = np.array([1, 2, 3])\n",
    "\n",
    "make_diagonal(x)"
   ]
  },
  {
   "cell_type": "markdown",
   "id": "f19ead60",
   "metadata": {},
   "source": [
    "Problem - 04: Easy\n",
    "https://www.deep-ml.com/problems/83\n"
   ]
  },
  {
   "cell_type": "markdown",
   "id": "7c60a502",
   "metadata": {},
   "source": [
    "\n",
    "- Input:\n",
    "    vec1 = np.array([1, 2, 3]), vec2 = np.array([4, 5, 6])\n",
    "\n",
    "- Output:\n",
    "    32"
   ]
  },
  {
   "cell_type": "markdown",
   "id": "beb82a9d",
   "metadata": {},
   "source": [
    "#### Dot Product Calculator\n",
    "\n",
    "Write a Python function to calculate the dot product of two vectors. The function should take two 1D NumPy arrays as input and return the dot product as a single number.\n",
    "\n",
    "\n"
   ]
  },
  {
   "cell_type": "code",
   "execution_count": 21,
   "id": "c344d7ca",
   "metadata": {},
   "outputs": [
    {
     "name": "stdout",
     "output_type": "stream",
     "text": [
      "32\n"
     ]
    }
   ],
   "source": [
    "def calculate_dot_product(vec1, vec2):\n",
    "    product = np.dot(vec1, vec2)\n",
    "\n",
    "    return product\n",
    "\n",
    "\n",
    "\n",
    "vec1 = np.array([1, 2, 3])\n",
    "\n",
    "vec2 = np.array([4, 5, 6])\n",
    "\n",
    "result = calculate_dot_product(vec1, vec2)\n",
    "\n",
    "print(result)"
   ]
  },
  {
   "cell_type": "markdown",
   "id": "d3cf0b48",
   "metadata": {},
   "source": [
    "Easy\n",
    "https://www.deep-ml.com/problems/121"
   ]
  },
  {
   "cell_type": "markdown",
   "id": "e49675b7",
   "metadata": {},
   "source": [
    "\n",
    "\n",
    "- Input:\n",
    "    a = [1, 3], b = [4, 5]\n",
    "- Output:\n",
    "    [5, 8]"
   ]
  },
  {
   "cell_type": "markdown",
   "id": "a7d60551",
   "metadata": {},
   "source": [
    "#### Vector Element-wise Sum\n",
    "\n",
    "Write a Python function that computes the element-wise sum of two vectors. The function should return a new vector representing the resulting sum if the operation is valid, or -1 if the vectors have incompatible dimensions. Two vectors (lists) can be summed element-wise only if they are of the same length.\n"
   ]
  },
  {
   "cell_type": "code",
   "execution_count": 29,
   "id": "7088ebf7",
   "metadata": {},
   "outputs": [
    {
     "name": "stdout",
     "output_type": "stream",
     "text": [
      "[5, 8]\n"
     ]
    }
   ],
   "source": [
    "def vector_sum(a, b):\n",
    "    len_a = len(a)\n",
    "    len_b = len(b)\n",
    "    \n",
    "    arr_a = np.array(a)\n",
    "    arr_b = np.array(b)\n",
    "\n",
    "    if len_a != len_b:\n",
    "        return -1\n",
    "    else:\n",
    "        return (arr_a + arr_b).tolist()\n",
    "    \n",
    "a = [1, 3]\n",
    "b = [4, 5]\n",
    "\n",
    "ans = vector_sum(a,b)\n",
    "\n",
    "print(ans)"
   ]
  },
  {
   "cell_type": "code",
   "execution_count": null,
   "id": "3ba75034",
   "metadata": {},
   "outputs": [],
   "source": [
    "What will be the output?\n",
    "\n",
    "nums = [2,4,6,8,10]\n",
    "\n",
    "nums[2] = nums[2] * nums[0]\n",
    "\n",
    "print(nums)\n",
    "\n"
   ]
  }
 ],
 "metadata": {
  "kernelspec": {
   "display_name": "base",
   "language": "python",
   "name": "python3"
  },
  "language_info": {
   "codemirror_mode": {
    "name": "ipython",
    "version": 3
   },
   "file_extension": ".py",
   "mimetype": "text/x-python",
   "name": "python",
   "nbconvert_exporter": "python",
   "pygments_lexer": "ipython3",
   "version": "3.13.5"
  }
 },
 "nbformat": 4,
 "nbformat_minor": 5
}
