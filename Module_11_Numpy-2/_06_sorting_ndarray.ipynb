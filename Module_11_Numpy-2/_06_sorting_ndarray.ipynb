{
 "cells": [
  {
   "cell_type": "markdown",
   "id": "83f7f2fe",
   "metadata": {},
   "source": [
    "## Topic: Sorting ndarray Elements"
   ]
  },
  {
   "cell_type": "markdown",
   "id": "591467f3",
   "metadata": {},
   "source": [
    "### OUTCOMES\n",
    "\n",
    "- 1. Introductio of Sorting\n",
    "\n",
    "    - Definition\n",
    "\n",
    "    - Predifine method/function\n",
    "\n",
    "    - Application/why need in ML?\n",
    "\n",
    "\n",
    "- 2. Sorting Rules \n",
    "    - copy sort\n",
    "    - In-place sort\n",
    "    - Axis control\n",
    "\n",
    "- 3. Sorting Indices\n",
    "    - np.argsor\n",
    "\n",
    "- 4. Decending sort\n",
    "\n",
    "- 5. Practices with Real-life Examples"
   ]
  },
  {
   "cell_type": "code",
   "execution_count": 1,
   "id": "2c8f39d8",
   "metadata": {},
   "outputs": [],
   "source": [
    "import numpy as np"
   ]
  },
  {
   "cell_type": "markdown",
   "id": "0d98f613",
   "metadata": {},
   "source": [
    "### 1. Introductio of Sorting"
   ]
  },
  {
   "cell_type": "markdown",
   "id": "15cb319f",
   "metadata": {},
   "source": [
    "- Definition\n",
    "    - Sorting in NumPy means arranging array elements in ascending or descending order along a specified axis.\n",
    "\n",
    "- Predifine method/function\n",
    "\n",
    "    - 1. arr.sort()    -> function based (In-place sort)\n",
    "    \n",
    "    - 2. np.sort()   -> Method based (Copy sort)\n",
    "    \n",
    "    - 3. np.argsort()  -> indix based\n",
    "\n",
    "\n",
    "\n",
    "- Application/why need in ML?\n",
    "    - Get Top K-Selection (values)\n",
    "    - Feature Ranking (Sort features by importance score)\n"
   ]
  },
  {
   "cell_type": "markdown",
   "id": "58c2e36c",
   "metadata": {},
   "source": [
    "### 2. Sorting Rules "
   ]
  },
  {
   "cell_type": "markdown",
   "id": "a11fa6ac",
   "metadata": {},
   "source": [
    "- Copy sort\n",
    "    - np.arr() Return a 'new' sorted array\n",
    "\n",
    "- In-place sort\n",
    "    - arr.sort(): Sort the 'original' array in place.\n",
    "\n",
    "\n",
    "- Axis control\n",
    "\n",
    "    - Case_1: axis = 1 (sort rows wise)\n",
    "        - Sorts each row independently, left to right(<<----).\n",
    "        - eg: np.sort(arr, axis=1)\n",
    "\n",
    "    \n",
    "    - Case_2: axis = 0 (sort columns wise)\n",
    "        - Sort each column Top to bottom.\n",
    "\n",
    "    \n",
    "    - Case_3: axis = 0 (Sort the Entire array)\n",
    "        - flattern into 1-d array\n",
    "        - eg: np.sort(arr, axis= None)\n"
   ]
  },
  {
   "cell_type": "markdown",
   "id": "0e192def",
   "metadata": {},
   "source": [
    "#### Copy sort -> np.sort(arr, axis=)"
   ]
  },
  {
   "cell_type": "code",
   "execution_count": 5,
   "id": "f53cccd1",
   "metadata": {},
   "outputs": [
    {
     "name": "stdout",
     "output_type": "stream",
     "text": [
      "Original Array: \n",
      " [13 13  6  1 11 14  9  8  7 13]\n",
      "Copy sort: \n",
      " [ 1  6  7  8  9 11 13 13 13 14]\n",
      "Original Array: \n",
      " [13 13  6  1 11 14  9  8  7 13]\n"
     ]
    }
   ],
   "source": [
    "## 1-d: Copy sort\n",
    "\n",
    "arr1 = np.random.randint(1,15, size=(10,))\n",
    "\n",
    "print(\"Original Array: \\n\", arr1)\n",
    "\n",
    "# copy sort: return a new sorted array\n",
    "\n",
    "new_copy_arr = np.sort(arr1)\n",
    "\n",
    "print(\"Copy sort: \\n\", new_copy_arr)\n",
    "\n",
    "print(\"Original Array: \\n\", arr1)  # Not change \n",
    "\n",
    "\n",
    "# NOTE -> 1-d array don't exist axis "
   ]
  },
  {
   "cell_type": "code",
   "execution_count": null,
   "id": "9ca88d8e",
   "metadata": {},
   "outputs": [
    {
     "name": "stdout",
     "output_type": "stream",
     "text": [
      "Original Array: \n",
      " [[19 11 11  7  8 16]\n",
      " [19  8 12 13 18  7]\n",
      " [13  8  6  5 10  5]\n",
      " [12 15  8 13 19  8]\n",
      " [19 19 17 14  7 10]]\n",
      "Sorted Array: \n",
      " [[ 7  8 11 11 16 19]\n",
      " [ 7  8 12 13 18 19]\n",
      " [ 5  5  6  8 10 13]\n",
      " [ 8  8 12 13 15 19]\n",
      " [ 7 10 14 17 19 19]]\n",
      "Original Array: \n",
      " [[19 11 11  7  8 16]\n",
      " [19  8 12 13 18  7]\n",
      " [13  8  6  5 10  5]\n",
      " [12 15  8 13 19  8]\n",
      " [19 19 17 14  7 10]]\n"
     ]
    }
   ],
   "source": [
    "## 2-d : copy sort :-> np.sort(arr, axix = 1)\n",
    "# Case_01: sort into rows-wise\n",
    "\n",
    "arr2 = np.random.randint(5,20, size = (5,6))\n",
    "\n",
    "print(\"Original Array: \\n\", arr2)\n",
    "\n",
    "\n",
    "# Apply copy sort\n",
    "\n",
    "new_sort_arr = np.sort(arr2, axis = 1)\n",
    "\n",
    "print(\"Sorted Array: \\n\", new_sort_arr)\n",
    "\n",
    "\n",
    "print(\"Original Array: \\n\", arr2)\n",
    "\n",
    "\n",
    "# NOTE -> copy sort can't change the main or original array"
   ]
  },
  {
   "cell_type": "code",
   "execution_count": 15,
   "id": "2053960d",
   "metadata": {},
   "outputs": [
    {
     "name": "stdout",
     "output_type": "stream",
     "text": [
      "Original Array: \n",
      " [[ 6 14 16  5]\n",
      " [ 6 16  6 15]\n",
      " [13  7 15 10]\n",
      " [13  8 16  6]\n",
      " [ 9  5 19 11]]\n",
      "Sorted Array: \n",
      " [[ 6  5  6  5]\n",
      " [ 6  7 15  6]\n",
      " [ 9  8 16 10]\n",
      " [13 14 16 11]\n",
      " [13 16 19 15]]\n",
      "Original Array: \n",
      " [[ 6 14 16  5]\n",
      " [ 6 16  6 15]\n",
      " [13  7 15 10]\n",
      " [13  8 16  6]\n",
      " [ 9  5 19 11]]\n"
     ]
    }
   ],
   "source": [
    "## 2-d : copy sort :-> np.sort(arr, axix = 0)\n",
    "# Case_01: sort into column-wise\n",
    "\n",
    "arr2 = np.random.randint(5,20, size = (5,4))\n",
    "\n",
    "print(\"Original Array: \\n\", arr2)\n",
    "\n",
    "\n",
    "# Apply copy sort\n",
    "\n",
    "new_sort_arr = np.sort(arr2, axis = 0)\n",
    "\n",
    "print(\"Sorted Array: \\n\", new_sort_arr)\n",
    "\n",
    "\n",
    "print(\"Original Array: \\n\", arr2)\n",
    "\n",
    "\n",
    "# NOTE -> copy sort can't change the main or original array"
   ]
  },
  {
   "cell_type": "code",
   "execution_count": null,
   "id": "7c895a14",
   "metadata": {},
   "outputs": [
    {
     "name": "stdout",
     "output_type": "stream",
     "text": [
      "Original Array: \n",
      " [[10  5 10 16 18  8  8 16]\n",
      " [14  6 11 14 15 14 14 11]\n",
      " [19 13 15 15  7  9 18 14]\n",
      " [13  8 18  8  5 11  8  5]\n",
      " [ 7 19 11  5 10 13  8 17]\n",
      " [ 6 10  8 19 19 15 19  5]\n",
      " [ 6 13 19 16 18  7 14 10]\n",
      " [11 19  5 19 14  8 18  6]]\n",
      "Sorted Array: \n",
      " [ 5  5  5  5  5  5  6  6  6  6  7  7  7  8  8  8  8  8  8  8  8  9 10 10\n",
      " 10 10 10 11 11 11 11 11 13 13 13 13 14 14 14 14 14 14 14 15 15 15 15 16\n",
      " 16 16 17 18 18 18 18 18 19 19 19 19 19 19 19 19]\n",
      "Original Array: \n",
      " [[10  5 10 16 18  8  8 16]\n",
      " [14  6 11 14 15 14 14 11]\n",
      " [19 13 15 15  7  9 18 14]\n",
      " [13  8 18  8  5 11  8  5]\n",
      " [ 7 19 11  5 10 13  8 17]\n",
      " [ 6 10  8 19 19 15 19  5]\n",
      " [ 6 13 19 16 18  7 14 10]\n",
      " [11 19  5 19 14  8 18  6]]\n"
     ]
    }
   ],
   "source": [
    "## 2-d : copy sort :-> np.sort(arr, axix = None)\n",
    "# Case_01: sort into elements wise and convert inot 1-d array\n",
    "\n",
    "arr2 = np.random.randint(5,20, size = (8,8))\n",
    "\n",
    "print(\"Original Array: \\n\", arr2)\n",
    "\n",
    "\n",
    "# Apply copy sort\n",
    "\n",
    "new_sort_arr = np.sort(arr2, axis = None)\n",
    "\n",
    "print(\"Sorted Array: \\n\", new_sort_arr)\n",
    "\n",
    "\n",
    "print(\"Original Array: \\n\", arr2)\n",
    "\n",
    "\n",
    "# NOTE -> axis = None\n",
    "    # sort and conver 1-d array"
   ]
  },
  {
   "cell_type": "markdown",
   "id": "210014f7",
   "metadata": {},
   "source": [
    "#### In-place sort (arr.sort())"
   ]
  },
  {
   "cell_type": "code",
   "execution_count": null,
   "id": "b4c684d4",
   "metadata": {},
   "outputs": [
    {
     "name": "stdout",
     "output_type": "stream",
     "text": [
      "Orginal Array: \n",
      " [10 13 11 14 13  6  9 11  6 10 12 13]\n",
      "Sorted Array: \n",
      " [ 6  6  9 10 10 11 11 12 13 13 13 14]\n",
      "Orginal Array: \n",
      " [ 6  6  9 10 10 11 11 12 13 13 13 14]\n"
     ]
    }
   ],
   "source": [
    "# 1-d: In-place sort\n",
    "\n",
    "arr1 = np.random.randint(5,15, size = (12))\n",
    "\n",
    "print(\"Orginal Array: \\n\", arr1)\n",
    "\n",
    "# Apply in-place sort\n",
    "\n",
    "arr1.sort()\n",
    "# arr1 = arr1.sort()\n",
    "\n",
    "\n",
    "print(\"Sorted Array: \\n\",arr1)\n",
    "\n",
    "\n",
    "print(\"Orginal Array: \\n\", arr1)\n",
    "\n",
    "\n",
    "# NOTE -> In-place sort: sorted the main or original array\n"
   ]
  },
  {
   "cell_type": "code",
   "execution_count": 28,
   "id": "ec350828",
   "metadata": {},
   "outputs": [
    {
     "name": "stdout",
     "output_type": "stream",
     "text": [
      "Original Array: \n",
      " [[17  8  8 11 12]\n",
      " [17 16 17  6  9]\n",
      " [15  5  6 18 10]\n",
      " [10 13 13 18 19]]\n",
      "Original Array: \n",
      " [[ 8  8 11 12 17]\n",
      " [ 6  9 16 17 17]\n",
      " [ 5  6 10 15 18]\n",
      " [10 13 13 18 19]]\n"
     ]
    }
   ],
   "source": [
    "## 2-d : copy sort :-> np.sort(arr, axix = None)\n",
    "\n",
    "\n",
    "arr2 = np.random.randint(5,20, size = (4,5))\n",
    "\n",
    "print(\"Original Array: \\n\", arr2)\n",
    "\n",
    "\n",
    "# Apply in-place sort\n",
    "\n",
    "arr2.sort()\n",
    "\n",
    "\n",
    "print(\"Original Array: \\n\", arr2)\n",
    "\n",
    "\n",
    "# NOTE -> axis = None\n",
    "    # sort and conver 1-d array"
   ]
  },
  {
   "cell_type": "markdown",
   "id": "8f82d84f",
   "metadata": {},
   "source": [
    "### 3. Sorting Indices"
   ]
  },
  {
   "cell_type": "markdown",
   "id": "5761b25a",
   "metadata": {},
   "source": [
    "-  np.argsort(arr)\n",
    "\n",
    "- return the sorted indeces of the given array"
   ]
  },
  {
   "cell_type": "code",
   "execution_count": 39,
   "id": "559f88d5",
   "metadata": {},
   "outputs": [
    {
     "name": "stdout",
     "output_type": "stream",
     "text": [
      "Original Array: \n",
      " [4 6 7 6 3 2 8 6]\n",
      "The Index position of sorted Elements:  [5 4 0 1 7 3 2 6]\n",
      "The sorted elements:  [2 4 5 8 8 8 8 9]\n"
     ]
    }
   ],
   "source": [
    "# 1-d:  np.argsort()\n",
    "\n",
    "arr1 = np.random.randint(2,10, size = (8,))\n",
    "\n",
    "print(\"Original Array: \\n\", arr1)\n",
    "\n",
    "# apply np.argsort(arr)\n",
    "\n",
    "idxs = np.argsort(arr1)\n",
    "\n",
    "# idx of sorted elements\n",
    "print(\"The Index position of sorted Elements: \", idxs)\n",
    "\n",
    "\n",
    "# vals = idxs[]\n",
    "\n",
    "print(\"The sorted elements: \", vals)\n"
   ]
  },
  {
   "cell_type": "code",
   "execution_count": null,
   "id": "6af62198",
   "metadata": {},
   "outputs": [],
   "source": []
  },
  {
   "cell_type": "code",
   "execution_count": null,
   "id": "feb2d9ef",
   "metadata": {},
   "outputs": [
    {
     "name": "stdout",
     "output_type": "stream",
     "text": [
      "Original Array: \n",
      " [[ 9 10 17  5  9]\n",
      " [ 5  5  9  8  6]\n",
      " [14 17 14 13 15]\n",
      " [ 9  5 15 11 17]]\n",
      "The sorted Element index position in main array: \n",
      " [[3 0 4 1 2]\n",
      " [0 1 4 3 2]\n",
      " [3 0 2 4 1]\n",
      " [1 0 3 2 4]]\n",
      "Shape arr1:  (4, 5)\n"
     ]
    },
    {
     "ename": "IndexError",
     "evalue": "index 4 is out of bounds for axis 0 with size 4",
     "output_type": "error",
     "traceback": [
      "\u001b[1;31m---------------------------------------------------------------------------\u001b[0m",
      "\u001b[1;31mIndexError\u001b[0m                                Traceback (most recent call last)",
      "Cell \u001b[1;32mIn[44], line 21\u001b[0m\n\u001b[0;32m     14\u001b[0m \u001b[38;5;66;03m# find the Elements\u001b[39;00m\n\u001b[0;32m     16\u001b[0m \u001b[38;5;28mprint\u001b[39m(\u001b[38;5;124m\"\u001b[39m\u001b[38;5;124mShape arr1: \u001b[39m\u001b[38;5;124m\"\u001b[39m, arr2\u001b[38;5;241m.\u001b[39mshape)  \u001b[38;5;66;03m# (4,5)\u001b[39;00m\n\u001b[1;32m---> 21\u001b[0m \u001b[38;5;28mprint\u001b[39m(\u001b[38;5;124m\"\u001b[39m\u001b[38;5;124mSorted Elements : \u001b[39m\u001b[38;5;130;01m\\n\u001b[39;00m\u001b[38;5;124m\"\u001b[39m, idxs[\u001b[38;5;241m4\u001b[39m,\u001b[38;5;241m5\u001b[39m])\n",
      "\u001b[1;31mIndexError\u001b[0m: index 4 is out of bounds for axis 0 with size 4"
     ]
    }
   ],
   "source": [
    "# 2-d: np.argsort(arr)\n",
    "\n",
    "# arr2 = np.random.randint(5,20, size = (4,5))\n",
    "\n",
    "# print(\"Original Array: \\n\", arr2)\n",
    "\n",
    "# # apply np.argsort(arr) \n",
    "\n",
    "# idxs = np.argsort(arr2)\n",
    "\n",
    "# print(\"The sorted Element index position in main array: \\n\", idxs)\n",
    "\n",
    "\n",
    "# # find the Elements\n",
    "\n",
    "# print(\"Shape arr1: \", arr2.shape)  # (4,5)\n",
    "\n",
    "# print(\"Sorted Elements : \\n\", idxs[4,5])\n",
    "\n",
    "\n"
   ]
  },
  {
   "cell_type": "code",
   "execution_count": null,
   "id": "ebfad46c",
   "metadata": {},
   "outputs": [],
   "source": []
  },
  {
   "cell_type": "markdown",
   "id": "9b6f0a9b",
   "metadata": {},
   "source": [
    "### 4. Decending sort"
   ]
  },
  {
   "cell_type": "markdown",
   "id": "01556dc0",
   "metadata": {},
   "source": []
  },
  {
   "cell_type": "code",
   "execution_count": null,
   "id": "f5db0c7a",
   "metadata": {},
   "outputs": [],
   "source": []
  },
  {
   "cell_type": "code",
   "execution_count": null,
   "id": "c83d584d",
   "metadata": {},
   "outputs": [],
   "source": []
  },
  {
   "cell_type": "code",
   "execution_count": null,
   "id": "eb5770f7",
   "metadata": {},
   "outputs": [],
   "source": []
  },
  {
   "cell_type": "markdown",
   "id": "66329e03",
   "metadata": {},
   "source": [
    "### 5. Practices with Real-life Examples"
   ]
  },
  {
   "cell_type": "code",
   "execution_count": null,
   "id": "5263687b",
   "metadata": {},
   "outputs": [],
   "source": []
  },
  {
   "cell_type": "code",
   "execution_count": null,
   "id": "29d3de53",
   "metadata": {},
   "outputs": [],
   "source": []
  },
  {
   "cell_type": "code",
   "execution_count": null,
   "id": "09c558c1",
   "metadata": {},
   "outputs": [],
   "source": []
  }
 ],
 "metadata": {
  "kernelspec": {
   "display_name": "base",
   "language": "python",
   "name": "python3"
  },
  "language_info": {
   "codemirror_mode": {
    "name": "ipython",
    "version": 3
   },
   "file_extension": ".py",
   "mimetype": "text/x-python",
   "name": "python",
   "nbconvert_exporter": "python",
   "pygments_lexer": "ipython3",
   "version": "3.13.5"
  }
 },
 "nbformat": 4,
 "nbformat_minor": 5
}
