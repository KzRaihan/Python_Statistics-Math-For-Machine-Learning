{
 "cells": [
  {
   "cell_type": "markdown",
   "id": "119ba30f",
   "metadata": {},
   "source": [
    "## Topic: ndarray Arithemetic Operators and Mathematical function"
   ]
  },
  {
   "cell_type": "markdown",
   "id": "60e0be03",
   "metadata": {},
   "source": [
    "### OUTCOMES\n",
    "\n",
    "- 1. Basic Mathematical Operation\n",
    "\n",
    "- 2. Trigonometic Opertion\n",
    "\n",
    "- 3. Conversion (degree to radian and vice-versa)\n",
    "\n",
    "- 4. log \n",
    "\n",
    "- 5. Squrt Calculation\n",
    "\n",
    "- 6. Cumlative sumation"
   ]
  },
  {
   "cell_type": "code",
   "execution_count": 2,
   "id": "f051a625",
   "metadata": {},
   "outputs": [],
   "source": [
    "import numpy as np"
   ]
  },
  {
   "cell_type": "markdown",
   "id": "03f010cc",
   "metadata": {},
   "source": [
    "### 1. Basic Mathematical Operation"
   ]
  },
  {
   "cell_type": "markdown",
   "id": "3782d0fe",
   "metadata": {},
   "source": [
    "- Rules:\n",
    "    - Dimension of two array must be same\n",
    "    - size must be same"
   ]
  },
  {
   "cell_type": "code",
   "execution_count": null,
   "id": "ebd91f24",
   "metadata": {},
   "outputs": [
    {
     "name": "stdout",
     "output_type": "stream",
     "text": [
      "Arr1: \n",
      " [[10 13 10]\n",
      " [12  4  6]\n",
      " [ 1  5  3]\n",
      " [ 3 14  3]]\n",
      "Arr2: \n",
      " [[18 12 11]\n",
      " [ 8 14 15]\n",
      " [ 7 16  2]\n",
      " [18  5 17]]\n",
      "Addition: \n",
      " [[28 25 21]\n",
      " [20 18 21]\n",
      " [ 8 21  5]\n",
      " [21 19 20]]\n",
      "\n",
      "Another Addition: \n",
      " [[28 25 21]\n",
      " [20 18 21]\n",
      " [ 8 21  5]\n",
      " [21 19 20]]\n"
     ]
    }
   ],
   "source": [
    "# addition (elements) waise two ndarray \n",
    "\n",
    "arr1 = np.random.randint(1,15, size= (4,3))\n",
    "\n",
    "print(\"Arr1: \\n\", arr1)\n",
    "\n",
    "arr2 = np.random.randint(1,20, size=(4,3))\n",
    "\n",
    "print(\"Arr2: \\n\", arr2)\n",
    "\n",
    "\n",
    "# addition operation\n",
    "add = arr1 + arr2\n",
    "\n",
    "print(\"Addition: \\n\", add)\n",
    "\n",
    "\n",
    "# other way\n",
    "\n",
    "add_other = np.add(arr1,arr2)\n",
    "print(\"\\nAnother Addition: \\n\", add_other)\n"
   ]
  },
  {
   "cell_type": "code",
   "execution_count": 15,
   "id": "5c483554",
   "metadata": {},
   "outputs": [
    {
     "name": "stdout",
     "output_type": "stream",
     "text": [
      "Arr1: \n",
      " [[10 13 10]\n",
      " [12  4  6]\n",
      " [ 1  5  3]\n",
      " [ 3 14  3]]\n",
      "Arr2: \n",
      " [[14 18 14]\n",
      " [19  5 18]\n",
      " [ 1  3 18]\n",
      " [16  6  6]]\n",
      "substruction: \n",
      " [[ -8  -3  -9]\n",
      " [ -2  -5 -11]\n",
      " [-13  -1  -7]\n",
      " [-15  -4  -7]]\n"
     ]
    }
   ],
   "source": [
    "# Substruction\n",
    "sub = arr1 - arr2   # Element ways sub\n",
    "\n",
    "\n",
    "print(\"Arr1: \\n\", arr1)\n",
    "\n",
    "arr2 = np.random.randint(1,20, size=(4,3))\n",
    "\n",
    "print(\"Arr2: \\n\", arr2)\n",
    "\n",
    "print(\"substruction: \\n\", sub)\n",
    "\n",
    "\n"
   ]
  },
  {
   "cell_type": "code",
   "execution_count": 16,
   "id": "c128ff95",
   "metadata": {},
   "outputs": [
    {
     "name": "stdout",
     "output_type": "stream",
     "text": [
      "Arr1: \n",
      " [[10 13 10]\n",
      " [12  4  6]\n",
      " [ 1  5  3]\n",
      " [ 3 14  3]]\n",
      "Arr2: \n",
      " [[12 12  8]\n",
      " [10 15  1]\n",
      " [ 8 16  9]\n",
      " [ 8  7  8]]\n",
      "substruction: \n",
      " [[140 234 140]\n",
      " [228  20 108]\n",
      " [  1  15  54]\n",
      " [ 48  84  18]]\n"
     ]
    }
   ],
   "source": [
    "# multiplication\n",
    "mul = arr1 * arr2   # Element ways sub\n",
    "\n",
    "\n",
    "print(\"Arr1: \\n\", arr1)\n",
    "\n",
    "arr2 = np.random.randint(1,20, size=(4,3))\n",
    "\n",
    "print(\"Arr2: \\n\", arr2)\n",
    "\n",
    "print(\"substruction: \\n\", mul)\n",
    "\n"
   ]
  },
  {
   "cell_type": "code",
   "execution_count": 17,
   "id": "36eeb9fa",
   "metadata": {},
   "outputs": [
    {
     "name": "stdout",
     "output_type": "stream",
     "text": [
      "Arr1: \n",
      " [[10 13 10]\n",
      " [12  4  6]\n",
      " [ 1  5  3]\n",
      " [ 3 14  3]]\n",
      "Arr2: \n",
      " [[12  8  6]\n",
      " [11 15  7]\n",
      " [19  4  9]\n",
      " [10  8 16]]\n",
      "substruction: \n",
      " [[0.83333333 1.08333333 1.25      ]\n",
      " [1.2        0.26666667 6.        ]\n",
      " [0.125      0.3125     0.33333333]\n",
      " [0.375      2.         0.375     ]]\n"
     ]
    }
   ],
   "source": [
    "# Division\n",
    "div = arr1 / arr2   # Element ways sub\n",
    "\n",
    "\n",
    "print(\"Arr1: \\n\", arr1)\n",
    "\n",
    "arr2 = np.random.randint(1,20, size=(4,3))\n",
    "\n",
    "print(\"Arr2: \\n\", arr2)\n",
    "\n",
    "print(\"substruction: \\n\", div)\n",
    "\n"
   ]
  },
  {
   "cell_type": "markdown",
   "id": "94e1c7cf",
   "metadata": {},
   "source": [
    "### 2. Trigonometic Opertion"
   ]
  },
  {
   "cell_type": "markdown",
   "id": "f393a7c0",
   "metadata": {},
   "source": []
  },
  {
   "cell_type": "code",
   "execution_count": 20,
   "id": "1f9f39ef",
   "metadata": {},
   "outputs": [
    {
     "name": "stdout",
     "output_type": "stream",
     "text": [
      "Arr2: \n",
      " [[ 2  7  4 13 13 14  6 12]\n",
      " [13  3  2 10 14  7  6  1]\n",
      " [12  6 12  1  4 11 12 13]\n",
      " [ 8  4  4  3 13 10  1  4]]\n",
      "Arr2 sin values: \n",
      " [[ 0.90929743  0.6569866  -0.7568025   0.42016704  0.42016704  0.99060736\n",
      "  -0.2794155  -0.53657292]\n",
      " [ 0.42016704  0.14112001  0.90929743 -0.54402111  0.99060736  0.6569866\n",
      "  -0.2794155   0.84147098]\n",
      " [-0.53657292 -0.2794155  -0.53657292  0.84147098 -0.7568025  -0.99999021\n",
      "  -0.53657292  0.42016704]\n",
      " [ 0.98935825 -0.7568025  -0.7568025   0.14112001  0.42016704 -0.54402111\n",
      "   0.84147098 -0.7568025 ]]\n"
     ]
    }
   ],
   "source": [
    "arr2 = np.random.randint(1,15, size = (4,8))\n",
    "\n",
    "print(\"Arr2: \\n\", arr2)\n",
    "\n",
    "\n",
    "# sin\n",
    "sin_val = np.sin(arr2)\n",
    "\n",
    "print(\"Arr2 sin values: \\n\", sin_val)"
   ]
  },
  {
   "cell_type": "code",
   "execution_count": 22,
   "id": "72b3ae1c",
   "metadata": {},
   "outputs": [
    {
     "name": "stdout",
     "output_type": "stream",
     "text": [
      "Arr2 cos values: \n",
      " [[-0.41614684  0.75390225 -0.65364362  0.90744678  0.90744678  0.13673722\n",
      "   0.96017029  0.84385396]\n",
      " [ 0.90744678 -0.9899925  -0.41614684 -0.83907153  0.13673722  0.75390225\n",
      "   0.96017029  0.54030231]\n",
      " [ 0.84385396  0.96017029  0.84385396  0.54030231 -0.65364362  0.0044257\n",
      "   0.84385396  0.90744678]\n",
      " [-0.14550003 -0.65364362 -0.65364362 -0.9899925   0.90744678 -0.83907153\n",
      "   0.54030231 -0.65364362]]\n"
     ]
    }
   ],
   "source": [
    "# cos\n",
    "cos_vals = np.cos(arr2)\n",
    "\n",
    "print(\"Arr2 cos values: \\n\", cos_vals)"
   ]
  },
  {
   "cell_type": "code",
   "execution_count": 21,
   "id": "6ce9f72d",
   "metadata": {},
   "outputs": [
    {
     "name": "stdout",
     "output_type": "stream",
     "text": [
      "Arr2 tan values: \n",
      " [[-2.18503986e+00  8.71447983e-01  1.15782128e+00  4.63021133e-01\n",
      "   4.63021133e-01  7.24460662e+00 -2.91006191e-01 -6.35859929e-01]\n",
      " [ 4.63021133e-01 -1.42546543e-01 -2.18503986e+00  6.48360827e-01\n",
      "   7.24460662e+00  8.71447983e-01 -2.91006191e-01  1.55740772e+00]\n",
      " [-6.35859929e-01 -2.91006191e-01 -6.35859929e-01  1.55740772e+00\n",
      "   1.15782128e+00 -2.25950846e+02 -6.35859929e-01  4.63021133e-01]\n",
      " [-6.79971146e+00  1.15782128e+00  1.15782128e+00 -1.42546543e-01\n",
      "   4.63021133e-01  6.48360827e-01  1.55740772e+00  1.15782128e+00]]\n"
     ]
    }
   ],
   "source": [
    "# tan \n",
    "tan_vals = np.tan(arr2)\n",
    "\n",
    "print(\"Arr2 tan values: \\n\", tan_vals)"
   ]
  },
  {
   "cell_type": "markdown",
   "id": "2f42062c",
   "metadata": {},
   "source": [
    "### 3. Conversion (degree to radian and vice-versa)"
   ]
  },
  {
   "cell_type": "code",
   "execution_count": 28,
   "id": "695f110a",
   "metadata": {},
   "outputs": [
    {
     "name": "stdout",
     "output_type": "stream",
     "text": [
      "Arr2: \n",
      " [[17 17 13 12  3]\n",
      " [ 8 20 10 22 17]\n",
      " [ 5 24 14 21 11]]\n",
      "Arr2 degree values: \n",
      " [[ 974.02825172  974.02825172  744.84513367  687.54935416  171.88733854]\n",
      " [ 458.3662361  1145.91559026  572.95779513 1260.50714929  974.02825172]\n",
      " [ 286.47889757 1375.09870831  802.14091318 1203.21136977  630.25357464]]\n"
     ]
    }
   ],
   "source": [
    "# radian(default) to degree\n",
    "\n",
    "arr2 = np.random.randint(1,25, size = (3,5))\n",
    "\n",
    "print(\"Arr2: \\n\", arr2)\n",
    "\n",
    "\n",
    "# red2deg\n",
    "deg_vals = np.rad2deg(arr2)\n",
    "\n",
    "print(\"Arr2 degree values: \\n\", deg_vals)\n",
    "\n"
   ]
  },
  {
   "cell_type": "code",
   "execution_count": 29,
   "id": "8bf41aea",
   "metadata": {},
   "outputs": [
    {
     "name": "stdout",
     "output_type": "stream",
     "text": [
      "Arr2: \n",
      " [[ 6  4 17 19  9]\n",
      " [15 13 10 10 17]\n",
      " [10  8  3 21 23]]\n",
      "Arr2 degree values: \n",
      " [[0.10471976 0.06981317 0.29670597 0.33161256 0.15707963]\n",
      " [0.26179939 0.2268928  0.17453293 0.17453293 0.29670597]\n",
      " [0.17453293 0.13962634 0.05235988 0.36651914 0.40142573]]\n"
     ]
    }
   ],
   "source": [
    "# degree to radian\n",
    "\n",
    "arr2 = np.random.randint(1,25, size = (3,5))\n",
    "\n",
    "print(\"Arr2: \\n\", arr2)\n",
    "\n",
    "\n",
    "# deg2rad\n",
    "rad_vals = np.deg2rad(arr2)\n",
    "\n",
    "print(\"Arr2 degree values: \\n\", rad_vals)\n",
    "\n"
   ]
  },
  {
   "cell_type": "markdown",
   "id": "398ce4f6",
   "metadata": {},
   "source": [
    "### 4. log "
   ]
  },
  {
   "cell_type": "code",
   "execution_count": null,
   "id": "5188ee74",
   "metadata": {},
   "outputs": [
    {
     "name": "stdout",
     "output_type": "stream",
     "text": [
      "[1 2 3 8 5]\n",
      "[0.         0.30103    0.47712125 0.90308999 0.69897   ]\n"
     ]
    }
   ],
   "source": [
    "# log 10 base \n",
    "arr1 = np.array([1,2,3,8,5])\n",
    "\n",
    "base_10_log = np.log10(arr1)\n",
    "\n",
    "print(\"Original Array: \\n\", arr1)\n",
    "print(\"Log 10 base: \\n\", base_10_log)"
   ]
  },
  {
   "cell_type": "code",
   "execution_count": 30,
   "id": "dc40e026",
   "metadata": {},
   "outputs": [
    {
     "name": "stdout",
     "output_type": "stream",
     "text": [
      "[0.         1.         1.5849625  3.         2.32192809]\n"
     ]
    }
   ],
   "source": [
    "# log 2 base\n",
    "two_base_log = np.log2(arr1)\n",
    "\n",
    "print(two_base_log)"
   ]
  },
  {
   "cell_type": "markdown",
   "id": "c48de420",
   "metadata": {},
   "source": [
    "### 5. Squrt Calculation"
   ]
  },
  {
   "cell_type": "code",
   "execution_count": 33,
   "id": "6c900b81",
   "metadata": {},
   "outputs": [
    {
     "name": "stdout",
     "output_type": "stream",
     "text": [
      "Squar Root: \n",
      " [1.         1.41421356 1.73205081 2.82842712 2.23606798]\n"
     ]
    }
   ],
   "source": [
    "# squart root\n",
    "arr1 = np.array([1,2,3,8,5])\n",
    "\n",
    "sqrt_arr = np.sqrt(arr1)\n",
    "\n",
    "print(\"Squar Root: \\n\", sqrt_arr)"
   ]
  },
  {
   "cell_type": "markdown",
   "id": "66c54f4f",
   "metadata": {},
   "source": [
    "### 6. Cumlative summation"
   ]
  },
  {
   "cell_type": "code",
   "execution_count": 36,
   "id": "b8402573",
   "metadata": {},
   "outputs": [
    {
     "name": "stdout",
     "output_type": "stream",
     "text": [
      "Cumlative summation: \n",
      " [ 1  3  6 14 19]\n"
     ]
    }
   ],
   "source": [
    "# cumlative sum\n",
    "arr1 = np.array([1,2,3,8,5])\n",
    "\n",
    "cum_sum = np.cumsum(arr1)\n",
    "\n",
    "print(\"Cumlative summation: \\n\", cum_sum)\n"
   ]
  }
 ],
 "metadata": {
  "kernelspec": {
   "display_name": "base",
   "language": "python",
   "name": "python3"
  },
  "language_info": {
   "codemirror_mode": {
    "name": "ipython",
    "version": 3
   },
   "file_extension": ".py",
   "mimetype": "text/x-python",
   "name": "python",
   "nbconvert_exporter": "python",
   "pygments_lexer": "ipython3",
   "version": "3.13.5"
  }
 },
 "nbformat": 4,
 "nbformat_minor": 5
}
