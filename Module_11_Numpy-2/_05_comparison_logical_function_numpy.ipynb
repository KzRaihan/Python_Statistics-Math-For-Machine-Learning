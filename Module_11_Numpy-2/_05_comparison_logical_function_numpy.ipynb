{
 "cells": [
  {
   "cell_type": "markdown",
   "id": "8e9621d8",
   "metadata": {},
   "source": [
    "## Topic: Numpy Comparison opration and logical function"
   ]
  },
  {
   "cell_type": "markdown",
   "id": "568467ed",
   "metadata": {},
   "source": [
    "### OUTCOMES\n",
    "\n",
    "- 1. Comparison Opertors\n",
    "\n",
    "- 2. Logical Operators\n",
    "    - np.all()\n",
    "    - np.any()"
   ]
  },
  {
   "cell_type": "code",
   "execution_count": null,
   "id": "9b6f0fca",
   "metadata": {},
   "outputs": [],
   "source": []
  },
  {
   "cell_type": "code",
   "execution_count": 2,
   "id": "612e6999",
   "metadata": {},
   "outputs": [],
   "source": [
    "import numpy as np"
   ]
  },
  {
   "cell_type": "markdown",
   "id": "bf375ee5",
   "metadata": {},
   "source": [
    "### Comparison Operator"
   ]
  },
  {
   "cell_type": "markdown",
   "id": "47af18b2",
   "metadata": {},
   "source": [
    "- Return Boolean values (True or False)"
   ]
  },
  {
   "cell_type": "code",
   "execution_count": 8,
   "id": "585e1c57",
   "metadata": {},
   "outputs": [
    {
     "name": "stdout",
     "output_type": "stream",
     "text": [
      "less than:  [False False  True  True False]\n"
     ]
    }
   ],
   "source": [
    "# less then (<):\n",
    "\n",
    "arr1 = np.array([1, 2, 3, 8, 6])\n",
    "\n",
    "arr2 = np.array([5, 6, 2, 7, 6])\n",
    "\n",
    "less_than = arr1 > arr2\n",
    "\n",
    "print(\"less than: \", less_than)\n",
    "\n",
    "# To check Each element-wise\n",
    "# so, number of element must be same both array"
   ]
  },
  {
   "cell_type": "code",
   "execution_count": 9,
   "id": "c400530d",
   "metadata": {},
   "outputs": [
    {
     "name": "stdout",
     "output_type": "stream",
     "text": [
      "Equal:  [False False False False  True]\n"
     ]
    }
   ],
   "source": [
    "# euqel (==)\n",
    "\n",
    "equal = arr1 == arr2\n",
    "\n",
    "print(\"Equal: \", equal)\n",
    "\n"
   ]
  },
  {
   "cell_type": "code",
   "execution_count": 10,
   "id": "67af301f",
   "metadata": {},
   "outputs": [
    {
     "name": "stdout",
     "output_type": "stream",
     "text": [
      "NOt equal :  [ True  True  True  True False]\n"
     ]
    }
   ],
   "source": [
    "# not equal(!=)\n",
    "\n",
    "not_equal = arr1 != arr2\n",
    "print(\"NOt equal : \", not_equal)\n"
   ]
  },
  {
   "cell_type": "code",
   "execution_count": null,
   "id": "70e9a81b",
   "metadata": {},
   "outputs": [],
   "source": []
  },
  {
   "cell_type": "code",
   "execution_count": null,
   "id": "b2627a93",
   "metadata": {},
   "outputs": [],
   "source": []
  },
  {
   "cell_type": "markdown",
   "id": "7d44c7f1",
   "metadata": {},
   "source": [
    "### Logical FunctioN"
   ]
  },
  {
   "cell_type": "markdown",
   "id": "1410c80b",
   "metadata": {},
   "source": [
    "#### np.all()\n",
    "\n",
    "- similar to 'AND' operator\n",
    "\n",
    "- Returns True only if all elements in the array (or along a specified axis) are True."
   ]
  },
  {
   "cell_type": "code",
   "execution_count": null,
   "id": "dd6b9b9b",
   "metadata": {},
   "outputs": [
    {
     "name": "stdout",
     "output_type": "stream",
     "text": [
      "False\n"
     ]
    }
   ],
   "source": [
    "arr1 = np.array([1, 2, 3, 8, 6])\n",
    "\n",
    "arr2 = np.array([5, 6, 2, 7, 6])\n",
    "\n",
    "res = np.all(arr1 == arr2)\n",
    "print(res)\n",
    "\n",
    "# check every elements is equal or not\n"
   ]
  },
  {
   "cell_type": "code",
   "execution_count": null,
   "id": "812792bd",
   "metadata": {},
   "outputs": [],
   "source": []
  },
  {
   "cell_type": "markdown",
   "id": "53cbc113",
   "metadata": {},
   "source": [
    "#### np.any()\n",
    "\n",
    "- similar to 'OR' operator\n",
    "\n",
    "- Returns True if at least one element in the array (or along a specified axis) is True.\n",
    "\n"
   ]
  },
  {
   "cell_type": "code",
   "execution_count": null,
   "id": "ed2ad143",
   "metadata": {},
   "outputs": [
    {
     "name": "stdout",
     "output_type": "stream",
     "text": [
      "True\n"
     ]
    }
   ],
   "source": [
    "arr1 = np.array([1, 2, 3, 8, 6])\n",
    "\n",
    "arr2 = np.array([5, 6, 2, 7, 6])\n",
    "\n",
    "res = np.any(arr1 == arr2)\n",
    "print(res)\n",
    "\n",
    "# To check element-wise is equal or not?\n",
    "# if any elements equal then return True else False"
   ]
  },
  {
   "cell_type": "code",
   "execution_count": null,
   "id": "45bdc1df",
   "metadata": {},
   "outputs": [],
   "source": []
  }
 ],
 "metadata": {
  "kernelspec": {
   "display_name": "base",
   "language": "python",
   "name": "python3"
  },
  "language_info": {
   "codemirror_mode": {
    "name": "ipython",
    "version": 3
   },
   "file_extension": ".py",
   "mimetype": "text/x-python",
   "name": "python",
   "nbconvert_exporter": "python",
   "pygments_lexer": "ipython3",
   "version": "3.13.5"
  }
 },
 "nbformat": 4,
 "nbformat_minor": 5
}
