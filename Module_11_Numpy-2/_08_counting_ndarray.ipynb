{
 "cells": [
  {
   "cell_type": "markdown",
   "id": "37fc3cf6",
   "metadata": {},
   "source": [
    "## Counting NdArray Elements\n"
   ]
  },
  {
   "cell_type": "markdown",
   "id": "a42b5698",
   "metadata": {},
   "source": [
    "### OUTCOMES\n"
   ]
  }
 ],
 "metadata": {
  "language_info": {
   "name": "python"
  }
 },
 "nbformat": 4,
 "nbformat_minor": 5
}
