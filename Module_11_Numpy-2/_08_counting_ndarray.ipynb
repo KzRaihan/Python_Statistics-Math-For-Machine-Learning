{
 "cells": [
  {
   "cell_type": "markdown",
   "id": "37fc3cf6",
   "metadata": {},
   "source": [
    "## Topic: Counting & Unique Elements in NumPy\n"
   ]
  },
  {
   "cell_type": "markdown",
   "id": "a42b5698",
   "metadata": {},
   "source": [
    "### OUTCOMES\n",
    "\n",
    "- 1. np.count_nonzero()\n",
    "\n",
    "- 2. np.unique()\n"
   ]
  },
  {
   "cell_type": "code",
   "execution_count": 1,
   "id": "7a9adf4f",
   "metadata": {},
   "outputs": [],
   "source": [
    "import numpy as np"
   ]
  },
  {
   "cell_type": "markdown",
   "id": "b7e0108a",
   "metadata": {},
   "source": [
    "### 1. np.count_nonzero(arr)"
   ]
  },
  {
   "cell_type": "markdown",
   "id": "a6fffbbf",
   "metadata": {},
   "source": [
    "- count how many elements in the array are non-zero.\n",
    "- ignores zeros and False values -> 0"
   ]
  },
  {
   "cell_type": "code",
   "execution_count": null,
   "id": "a38f26be",
   "metadata": {},
   "outputs": [
    {
     "name": "stdout",
     "output_type": "stream",
     "text": [
      "Total nonZero:  7\n"
     ]
    }
   ],
   "source": [
    "# 1-d : counting \n",
    "\n",
    "arr1 = np.array([1, 2, 4, 5, 0, 6, 4, 3,0])\n",
    "\n",
    "count = np.count_nonzero(arr1)\n",
    "\n",
    "print(\"Total nonZero: \", count)\n"
   ]
  },
  {
   "cell_type": "code",
   "execution_count": 7,
   "id": "fd997645",
   "metadata": {},
   "outputs": [
    {
     "name": "stdout",
     "output_type": "stream",
     "text": [
      "Arr: \n",
      " [10 10 12 10  6  1  4  6 12 12  8  9 14 13  9  7  5 10  3  9  3  7 11 13\n",
      "  5  2 10 10 13  7 14  2  1 11 14  8  4  9 12  5 13  5  1 10  8  4 11  5\n",
      "  3  6]\n",
      "Total Element greater than 20:  0\n",
      "Total Element less than 10:  29\n"
     ]
    }
   ],
   "source": [
    "# conditional counting\n",
    "\n",
    "arr = np.random.randint(1,15, size= (50,))\n",
    "\n",
    "\n",
    "print(\"Arr: \\n\", arr)\n",
    "\n",
    "count = np.count_nonzero(arr > 20)\n",
    "\n",
    "print(\"Total Element greater than 20: \", count)\n",
    "\n",
    "count1 = np.count_nonzero(arr < 10)\n",
    "print(\"Total Element less than 10: \", count1)"
   ]
  },
  {
   "cell_type": "code",
   "execution_count": null,
   "id": "4136c772",
   "metadata": {},
   "outputs": [
    {
     "name": "stdout",
     "output_type": "stream",
     "text": [
      "Arr: \n",
      " [[40 42 10 42]\n",
      " [37 24 37 27]\n",
      " [26 49 26 12]]\n",
      "Total non zero Element:  12\n",
      "Less then 30:  6\n"
     ]
    }
   ],
   "source": [
    "# for 2-d array: counting\n",
    "arr = np.random.randint(10,50, size= (3,4))\n",
    "\n",
    "print(\"Arr: \\n\", arr)\n",
    "\n",
    "total_non_zero = np.count_nonzero(arr)\n",
    "\n",
    "print(\"Total non zero Element: \", total_non_zero)\n",
    "\n",
    "less_than_30 = np.count_nonzero(arr < 30)\n",
    "\n",
    "print(\"Less then 30: \", less_than_30)\n",
    "\n"
   ]
  },
  {
   "cell_type": "code",
   "execution_count": null,
   "id": "dc37d1e2",
   "metadata": {},
   "outputs": [
    {
     "name": "stdout",
     "output_type": "stream",
     "text": [
      "Total non zero element in arr :  14\n",
      "Total non zero element in rows:  [3 3 4 4]\n",
      "Total non zero element in col :  [4 3 4 3]\n"
     ]
    }
   ],
   "source": [
    "# 2-d array:\n",
    "\n",
    "arr2 = np.array([\n",
    "    [12, 0, 3, 6],\n",
    "    [21, 44, 9, 0],\n",
    "    [5, 22, 5, 33],\n",
    "    [7, 5, 3, 3]\n",
    "])\n",
    "\n",
    "total_no_zero = np.count_nonzero(arr2)\n",
    "\n",
    "total_no_zero_row = np.count_nonzero(arr2, axis = 1)\n",
    "total_no_zero_col = np.count_nonzero(arr2, axis = 0)\n",
    "\n",
    "\n",
    "\n",
    "print(\"Total non zero element in arr : \", total_no_zero)\n",
    "print(\"Total non zero per elements rows: \", total_no_zero_row)\n",
    "print(\"Total non zero elements per cols : \", total_no_zero_col)\n",
    "\n"
   ]
  },
  {
   "cell_type": "code",
   "execution_count": 19,
   "id": "ef46c5d4",
   "metadata": {},
   "outputs": [
    {
     "name": "stdout",
     "output_type": "stream",
     "text": [
      "Per rows greater than 10 elemnt  [1 2 2 0]\n"
     ]
    }
   ],
   "source": [
    "greater_than_10 = np.count_nonzero(arr2 > 10, axis = 1)\n",
    "\n",
    "print(\"Per rows greater than 10 elemnt \", greater_than_10)"
   ]
  },
  {
   "cell_type": "markdown",
   "id": "7c30b705",
   "metadata": {},
   "source": [
    "### 2. np.unique()\n"
   ]
  },
  {
   "cell_type": "markdown",
   "id": "621a7a56",
   "metadata": {},
   "source": [
    "- Find all unique elements in an array and can also return counts, indices "
   ]
  },
  {
   "cell_type": "code",
   "execution_count": 20,
   "id": "16c31025",
   "metadata": {},
   "outputs": [
    {
     "name": "stdout",
     "output_type": "stream",
     "text": [
      "Unique Value:  [10 20 30 40]\n"
     ]
    }
   ],
   "source": [
    "# Example : np.unique()\n",
    "\n",
    "arr = np.array([10, 20, 40, 30, 10, 20])\n",
    "\n",
    "unique_vals = np.unique(arr)\n",
    "\n",
    "print(\"Unique Value: \", unique_vals)\n"
   ]
  },
  {
   "cell_type": "code",
   "execution_count": null,
   "id": "84244bc2",
   "metadata": {},
   "outputs": [
    {
     "name": "stdout",
     "output_type": "stream",
     "text": [
      "Unique values:  [10 20 30 40 50 60 70]\n",
      "Total uniques values:  [2 2 1 1 1 1 1]\n"
     ]
    }
   ],
   "source": [
    "# np.unique() with counts\n",
    "# np.unique(arr, return_counts = True)\n",
    "#    - return two values:\n",
    "#            first unique values and second counts of unique values\n",
    "\n",
    "arr = np.array([10, 20, 30, 40, 50, 60, 70, 10, 20])\n",
    "\n",
    "\n",
    "vals,count = np.unique(arr,return_counts = True)\n",
    "\n",
    "print(\"Unique values: \", vals)\n",
    "print(\"Total of uniques values: \", count)\n",
    "\n",
    "# here, \n",
    "#  10 is present -> 2\n",
    "# 20 is present -> 2\n",
    "# rest of values are -> 1"
   ]
  },
  {
   "cell_type": "code",
   "execution_count": null,
   "id": "a494bfcb",
   "metadata": {},
   "outputs": [],
   "source": []
  }
 ],
 "metadata": {
  "kernelspec": {
   "display_name": "base",
   "language": "python",
   "name": "python3"
  },
  "language_info": {
   "codemirror_mode": {
    "name": "ipython",
    "version": 3
   },
   "file_extension": ".py",
   "mimetype": "text/x-python",
   "name": "python",
   "nbconvert_exporter": "python",
   "pygments_lexer": "ipython3",
   "version": "3.13.5"
  }
 },
 "nbformat": 4,
 "nbformat_minor": 5
}
