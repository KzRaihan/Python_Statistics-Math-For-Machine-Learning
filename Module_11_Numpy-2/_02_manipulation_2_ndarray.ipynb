{
 "cells": [
  {
   "cell_type": "markdown",
   "id": "448d6b53",
   "metadata": {},
   "source": [
    "## Topic: Numpy Array Manipulation_2"
   ]
  },
  {
   "cell_type": "markdown",
   "id": "a2fdb3dd",
   "metadata": {},
   "source": [
    "### OUTCOMES\n",
    "\n",
    "- 1. Transpose\n",
    "    - np.transpose(arr)\n",
    "    - arr.T\n",
    "\n",
    "- 2. Split\n",
    "    - np.split(arr,split_size,axis=0)\n",
    "    - np.array_split(arr,split_size,axis=0)\n",
    "\n",
    "- 3. Differnce between Transpose and Split"
   ]
  },
  {
   "cell_type": "markdown",
   "id": "ad556986",
   "metadata": {},
   "source": [
    "### 1. Transpose"
   ]
  },
  {
   "cell_type": "markdown",
   "id": "38dfd701",
   "metadata": {},
   "source": [
    "- Swap it's rows with it's column (vice-versa)\n",
    "\n",
    "- functions : \n",
    "    - arr.T\n",
    "    - transpose(arr)\n",
    "\n",
    "- Ex: \n",
    "    - A.shape(m,n)\n",
    "    - A.T shape(n,m)\n"
   ]
  },
  {
   "cell_type": "code",
   "execution_count": 1,
   "id": "23275ee2",
   "metadata": {},
   "outputs": [],
   "source": [
    "import numpy as np"
   ]
  },
  {
   "cell_type": "code",
   "execution_count": null,
   "id": "127a5ff7",
   "metadata": {},
   "outputs": [
    {
     "name": "stdout",
     "output_type": "stream",
     "text": [
      "Original Array:  [10 20 30 40 50 60]\n",
      "Shape:  (6,)\n",
      "Dimension:  1\n",
      "\n",
      "Transpose of arr1: \n",
      " [10 20 30 40 50 60]\n",
      "Shape:  (6,)\n",
      "Dimension:  1\n"
     ]
    }
   ],
   "source": [
    "# Example of Transpose Matrix\n",
    "\n",
    "# 1-d : \n",
    "arr1 = np.array([10, 20, 30, 40, 50, 60])\n",
    "\n",
    "print(\"Original Array: \", arr1)\n",
    "print(\"Shape: \", arr1.shape)\n",
    "print(\"Dimension: \", arr1.ndim)\n",
    "\n",
    "# Trnaspose\n",
    "tranpose_arr1 = arr1.T\n",
    "\n",
    "print(\"\\nTranspose of arr1: \\n\", tranpose_arr1) \n",
    "print(\"Shape: \", tranpose_arr1.shape)\n",
    "print(\"Dimension: \", tranpose_arr1.ndim)"
   ]
  },
  {
   "cell_type": "code",
   "execution_count": 53,
   "id": "9df722ad",
   "metadata": {},
   "outputs": [
    {
     "name": "stdout",
     "output_type": "stream",
     "text": [
      "Arr2: \n",
      " [[19  7  5]\n",
      " [ 9 13  9]\n",
      " [ 6  8  8]\n",
      " [11 15 17]\n",
      " [19 18  9]]\n",
      "Dimension:  2\n",
      "Shape:  (5, 3)\n",
      "\n",
      "Transpose Arr2: \n",
      " [[19  9  6 11 19]\n",
      " [ 7 13  8 15 18]\n",
      " [ 5  9  8 17  9]]\n",
      "Dimension:  2\n",
      "Shape:  (3, 5)\n"
     ]
    }
   ],
   "source": [
    "# Example Transpose of 2-d\n",
    "\n",
    "arr2 = np.random.randint(5,20, size=(5,3))\n",
    "\n",
    "print(\"Arr2: \\n\", arr2)\n",
    "print(\"Dimension: \",arr2.ndim)\n",
    "print(\"Shape: \", arr2.shape)\n",
    "\n",
    "\n",
    "# Transpose\n",
    "tp_arr2 = arr2.T\n",
    "\n",
    "print(\"\\nTranspose Arr2: \\n\", tp_arr2)\n",
    "print(\"Dimension: \",tp_arr2.ndim)\n",
    "print(\"Shape: \", tp_arr2.shape)  # change shape: 3,5\n"
   ]
  },
  {
   "cell_type": "code",
   "execution_count": 54,
   "id": "9f5753be",
   "metadata": {},
   "outputs": [
    {
     "name": "stdout",
     "output_type": "stream",
     "text": [
      "Arr2: \n",
      " [[17  9 18]\n",
      " [10  9  8]\n",
      " [10  6  7]\n",
      " [ 9  6  7]]\n",
      "Dimension:  2\n",
      "Shape:  (4, 3)\n",
      "\n",
      "Transpose Arr2: \n",
      " [[17 10 10  9]\n",
      " [ 9  9  6  6]\n",
      " [18  8  7  7]]\n",
      "Dimension:  2\n",
      "Shape:  (3, 4)\n"
     ]
    }
   ],
   "source": [
    "# Example Transpose of 2-d : -> using np.transpose(arr)\n",
    "\n",
    "arr2 = np.random.randint(5,20, size=(4,3))\n",
    "\n",
    "print(\"Arr2: \\n\", arr2)\n",
    "print(\"Dimension: \",arr2.ndim)\n",
    "print(\"Shape: \", arr2.shape)\n",
    "\n",
    "\n",
    "# Transpose\n",
    "tp_arr2 = np.transpose(arr2)\n",
    "\n",
    "print(\"\\nTranspose Arr2: \\n\", tp_arr2)\n",
    "print(\"Dimension: \",tp_arr2.ndim)\n",
    "print(\"Shape: \", tp_arr2.shape)  # change shape: 3,5\n"
   ]
  },
  {
   "cell_type": "code",
   "execution_count": 15,
   "id": "1a44187d",
   "metadata": {},
   "outputs": [
    {
     "name": "stdout",
     "output_type": "stream",
     "text": [
      "Arr1: \n",
      " [[17 19]\n",
      " [15 13]]\n",
      "Shape:  (2, 2)\n",
      "square_tranpose: \n",
      " [[17 15]\n",
      " [19 13]]\n",
      "square_tranpose:  (2, 2)\n"
     ]
    }
   ],
   "source": [
    "# for square matrix: \n",
    "\n",
    "arr1 = np.random.randint(10,20, size=(2,2))\n",
    "\n",
    "print(\"Arr1: \\n\", arr1)\n",
    "print(\"Shape: \", arr1.shape)\n",
    "\n",
    "\n",
    "# transpose\n",
    "square_tranpose = np.transpose(arr1)\n",
    "\n",
    "print(\"square_tranpose: \\n\", square_tranpose)\n",
    "print(\"square_tranpose: \", square_tranpose.shape)\n"
   ]
  },
  {
   "cell_type": "markdown",
   "id": "dd8bb33d",
   "metadata": {},
   "source": [
    "### 2. Split"
   ]
  },
  {
   "cell_type": "markdown",
   "id": "6845c1b8",
   "metadata": {},
   "source": [
    "- refers to dividing a large array into multiple smaller sub array.\n",
    "\n",
    "- Two way:\n",
    "    - 1. np.split(arr,section,axis=0)\n",
    "\n",
    "    - 2. np.array_split(arr,split_size,axis=0)"
   ]
  },
  {
   "cell_type": "markdown",
   "id": "3c134960",
   "metadata": {},
   "source": [
    "#### 1. np.split(arr,section,axis=0)"
   ]
  },
  {
   "cell_type": "markdown",
   "id": "df5a2bb3",
   "metadata": {},
   "source": [
    "- np.split(arr,section,axis=0)\n",
    "- section = how many part to split\n",
    "- axis    => rows or columns wise split\n"
   ]
  },
  {
   "cell_type": "code",
   "execution_count": null,
   "id": "58d691ba",
   "metadata": {},
   "outputs": [
    {
     "name": "stdout",
     "output_type": "stream",
     "text": [
      "Array1: \n",
      " [6 6 6 9 3 5 8 4 2]\n",
      "Shape:  (9,)\n",
      "Dimension:  1\n",
      "[array([6, 6, 6], dtype=int32), array([9, 3, 5], dtype=int32), array([8, 4, 2], dtype=int32)]\n"
     ]
    }
   ],
   "source": [
    "#  Example\n",
    "\n",
    "# split with row # split into row wise\n",
    "arr1 = np.random.randint(1,10, size=(9,))\n",
    "\n",
    "print(\"Array1: \\n\", arr1)\n",
    "print(\"Shape: \", arr1.shape)\n",
    "print(\"Dimension: \", arr1.ndim)\n",
    "\n",
    "\n",
    "# split into row wise (axis = 0)\n",
    "split_arr = np.split(arr1,3,axis = 0)\n",
    "\n",
    "print(split_arr)\n"
   ]
  },
  {
   "cell_type": "code",
   "execution_count": null,
   "id": "7174241e",
   "metadata": {},
   "outputs": [
    {
     "name": "stdout",
     "output_type": "stream",
     "text": [
      "Array1: \n",
      " [1 9 5 4 7 4 3 7 1 8]\n",
      "Shape:  (10,)\n",
      "Dimension:  1\n"
     ]
    },
    {
     "ename": "ValueError",
     "evalue": "array split does not result in an equal division",
     "output_type": "error",
     "traceback": [
      "\u001b[1;31m---------------------------------------------------------------------------\u001b[0m",
      "\u001b[1;31mValueError\u001b[0m                                Traceback (most recent call last)",
      "Cell \u001b[1;32mIn[25], line 15\u001b[0m\n\u001b[0;32m     11\u001b[0m \u001b[38;5;28mprint\u001b[39m(\u001b[38;5;124m\"\u001b[39m\u001b[38;5;124mDimension: \u001b[39m\u001b[38;5;124m\"\u001b[39m, arr1\u001b[38;5;241m.\u001b[39mndim)\n\u001b[0;32m     14\u001b[0m \u001b[38;5;66;03m# split into row wise (axis = 0)\u001b[39;00m\n\u001b[1;32m---> 15\u001b[0m split_arr \u001b[38;5;241m=\u001b[39m np\u001b[38;5;241m.\u001b[39msplit(arr1,\u001b[38;5;241m3\u001b[39m,axis \u001b[38;5;241m=\u001b[39m \u001b[38;5;241m0\u001b[39m)\n\u001b[0;32m     17\u001b[0m \u001b[38;5;28mprint\u001b[39m(split_arr)\n",
      "File \u001b[1;32mc:\\Users\\HP\\anaconda3\\Lib\\site-packages\\numpy\\lib\\_shape_base_impl.py:889\u001b[0m, in \u001b[0;36msplit\u001b[1;34m(ary, indices_or_sections, axis)\u001b[0m\n\u001b[0;32m    887\u001b[0m     N \u001b[38;5;241m=\u001b[39m ary\u001b[38;5;241m.\u001b[39mshape[axis]\n\u001b[0;32m    888\u001b[0m     \u001b[38;5;28;01mif\u001b[39;00m N \u001b[38;5;241m%\u001b[39m sections:\n\u001b[1;32m--> 889\u001b[0m         \u001b[38;5;28;01mraise\u001b[39;00m \u001b[38;5;167;01mValueError\u001b[39;00m(\n\u001b[0;32m    890\u001b[0m             \u001b[38;5;124m'\u001b[39m\u001b[38;5;124marray split does not result in an equal division\u001b[39m\u001b[38;5;124m'\u001b[39m) \u001b[38;5;28;01mfrom\u001b[39;00m\u001b[38;5;250m \u001b[39m\u001b[38;5;28;01mNone\u001b[39;00m\n\u001b[0;32m    891\u001b[0m \u001b[38;5;28;01mreturn\u001b[39;00m array_split(ary, indices_or_sections, axis)\n",
      "\u001b[1;31mValueError\u001b[0m: array split does not result in an equal division"
     ]
    }
   ],
   "source": [
    "# split with row \n",
    "\n",
    "# 1-d array\n",
    "arr1 = np.random.randint(1,10, size=(10,))\n",
    "\n",
    "print(\"Array1: \\n\", arr1)\n",
    "print(\"Shape: \", arr1.shape)\n",
    "print(\"Dimension: \", arr1.ndim)\n",
    "\n",
    "\n",
    "# split into row wise (axis = 0)\n",
    "split_arr = np.split(arr1,3,axis = 0)\n",
    "\n",
    "print(split_arr)\n",
    "\n",
    "# NOTE -> np.split() function split the elements into equal division otherwise ValueError"
   ]
  },
  {
   "cell_type": "code",
   "execution_count": null,
   "id": "486b9b41",
   "metadata": {},
   "outputs": [
    {
     "name": "stdout",
     "output_type": "stream",
     "text": [
      "Array1: \n",
      " [[ 3  4 10  6  7]\n",
      " [ 9 13  8 14  7]\n",
      " [11  3  4  1 12]\n",
      " [12  6  8  6 11]]\n",
      "Shape:  (4, 5)\n",
      "[array([[ 3,  4, 10,  6,  7]], dtype=int32), array([[ 9, 13,  8, 14,  7]], dtype=int32), array([[11,  3,  4,  1, 12]], dtype=int32), array([[12,  6,  8,  6, 11]], dtype=int32)]\n"
     ]
    }
   ],
   "source": [
    "# split 2-d array - row wise\n",
    "\n",
    "arr2 = np.random.randint(1,15, size=(4,5))\n",
    "\n",
    "print(\"Array1: \\n\", arr2)\n",
    "print(\"Shape: \", arr2.shape)\n",
    "\n",
    "\n",
    "# split into row wise (axis = 0)\n",
    "split_arr = np.split(arr2,4,axis = 0)\n",
    "\n",
    "print(split_arr)\n",
    "\n",
    "# here 20 elements can divide into 4 equal division (in rows wise)"
   ]
  },
  {
   "cell_type": "code",
   "execution_count": null,
   "id": "70e4f94b",
   "metadata": {},
   "outputs": [
    {
     "name": "stdout",
     "output_type": "stream",
     "text": [
      "Array1: \n",
      " [[ 5  8 11  2 14]\n",
      " [ 4 10  5  4  5]\n",
      " [ 7  5 10 12 14]\n",
      " [14  6 10  6  1]]\n",
      "Shape:  (4, 5)\n"
     ]
    },
    {
     "ename": "ValueError",
     "evalue": "array split does not result in an equal division",
     "output_type": "error",
     "traceback": [
      "\u001b[1;31m---------------------------------------------------------------------------\u001b[0m",
      "\u001b[1;31mValueError\u001b[0m                                Traceback (most recent call last)",
      "Cell \u001b[1;32mIn[33], line 10\u001b[0m\n\u001b[0;32m      6\u001b[0m \u001b[38;5;28mprint\u001b[39m(\u001b[38;5;124m\"\u001b[39m\u001b[38;5;124mShape: \u001b[39m\u001b[38;5;124m\"\u001b[39m, arr2\u001b[38;5;241m.\u001b[39mshape)\n\u001b[0;32m      9\u001b[0m \u001b[38;5;66;03m# split into column wise (axis = 1)\u001b[39;00m\n\u001b[1;32m---> 10\u001b[0m split_arr \u001b[38;5;241m=\u001b[39m np\u001b[38;5;241m.\u001b[39msplit(arr2,\u001b[38;5;241m4\u001b[39m,axis \u001b[38;5;241m=\u001b[39m \u001b[38;5;241m1\u001b[39m)\n\u001b[0;32m     12\u001b[0m \u001b[38;5;28mprint\u001b[39m(split_arr)\n",
      "File \u001b[1;32mc:\\Users\\HP\\anaconda3\\Lib\\site-packages\\numpy\\lib\\_shape_base_impl.py:889\u001b[0m, in \u001b[0;36msplit\u001b[1;34m(ary, indices_or_sections, axis)\u001b[0m\n\u001b[0;32m    887\u001b[0m     N \u001b[38;5;241m=\u001b[39m ary\u001b[38;5;241m.\u001b[39mshape[axis]\n\u001b[0;32m    888\u001b[0m     \u001b[38;5;28;01mif\u001b[39;00m N \u001b[38;5;241m%\u001b[39m sections:\n\u001b[1;32m--> 889\u001b[0m         \u001b[38;5;28;01mraise\u001b[39;00m \u001b[38;5;167;01mValueError\u001b[39;00m(\n\u001b[0;32m    890\u001b[0m             \u001b[38;5;124m'\u001b[39m\u001b[38;5;124marray split does not result in an equal division\u001b[39m\u001b[38;5;124m'\u001b[39m) \u001b[38;5;28;01mfrom\u001b[39;00m\u001b[38;5;250m \u001b[39m\u001b[38;5;28;01mNone\u001b[39;00m\n\u001b[0;32m    891\u001b[0m \u001b[38;5;28;01mreturn\u001b[39;00m array_split(ary, indices_or_sections, axis)\n",
      "\u001b[1;31mValueError\u001b[0m: array split does not result in an equal division"
     ]
    }
   ],
   "source": [
    "# split 2-d array -> column wise\n",
    "\n",
    "arr2 = np.random.randint(1,15, size=(4,5))\n",
    "\n",
    "print(\"Array1: \\n\", arr2)\n",
    "print(\"Shape: \", arr2.shape)\n",
    "\n",
    "\n",
    "# split into column wise (axis = 1)\n",
    "split_arr = np.split(arr2,4,axis = 1)\n",
    "\n",
    "print(split_arr)\n",
    "\n",
    "# here 20 elements can not divide into 4 equal division in columns wise"
   ]
  },
  {
   "cell_type": "code",
   "execution_count": null,
   "id": "d4dc7bff",
   "metadata": {},
   "outputs": [
    {
     "name": "stdout",
     "output_type": "stream",
     "text": [
      "Array1: \n",
      " [[10  6]\n",
      " [12  4]\n",
      " [ 7 11]\n",
      " [13  2]\n",
      " [10  6]]\n",
      "Shape:  (5, 2)\n"
     ]
    },
    {
     "ename": "ValueError",
     "evalue": "array split does not result in an equal division",
     "output_type": "error",
     "traceback": [
      "\u001b[1;31m---------------------------------------------------------------------------\u001b[0m",
      "\u001b[1;31mValueError\u001b[0m                                Traceback (most recent call last)",
      "Cell \u001b[1;32mIn[28], line 14\u001b[0m\n\u001b[0;32m     10\u001b[0m \u001b[38;5;28mprint\u001b[39m(\u001b[38;5;124m\"\u001b[39m\u001b[38;5;124mShape: \u001b[39m\u001b[38;5;124m\"\u001b[39m, arr2\u001b[38;5;241m.\u001b[39mshape)\n\u001b[0;32m     13\u001b[0m \u001b[38;5;66;03m# split into row wise (axis = 0)\u001b[39;00m\n\u001b[1;32m---> 14\u001b[0m split_arr \u001b[38;5;241m=\u001b[39m np\u001b[38;5;241m.\u001b[39msplit(arr2,\u001b[38;5;241m3\u001b[39m,axis \u001b[38;5;241m=\u001b[39m \u001b[38;5;241m0\u001b[39m)\n\u001b[0;32m     16\u001b[0m \u001b[38;5;28mprint\u001b[39m(split_arr)\n",
      "File \u001b[1;32mc:\\Users\\HP\\anaconda3\\Lib\\site-packages\\numpy\\lib\\_shape_base_impl.py:889\u001b[0m, in \u001b[0;36msplit\u001b[1;34m(ary, indices_or_sections, axis)\u001b[0m\n\u001b[0;32m    887\u001b[0m     N \u001b[38;5;241m=\u001b[39m ary\u001b[38;5;241m.\u001b[39mshape[axis]\n\u001b[0;32m    888\u001b[0m     \u001b[38;5;28;01mif\u001b[39;00m N \u001b[38;5;241m%\u001b[39m sections:\n\u001b[1;32m--> 889\u001b[0m         \u001b[38;5;28;01mraise\u001b[39;00m \u001b[38;5;167;01mValueError\u001b[39;00m(\n\u001b[0;32m    890\u001b[0m             \u001b[38;5;124m'\u001b[39m\u001b[38;5;124marray split does not result in an equal division\u001b[39m\u001b[38;5;124m'\u001b[39m) \u001b[38;5;28;01mfrom\u001b[39;00m\u001b[38;5;250m \u001b[39m\u001b[38;5;28;01mNone\u001b[39;00m\n\u001b[0;32m    891\u001b[0m \u001b[38;5;28;01mreturn\u001b[39;00m array_split(ary, indices_or_sections, axis)\n",
      "\u001b[1;31mValueError\u001b[0m: array split does not result in an equal division"
     ]
    }
   ],
   "source": [
    "# np.split(arr,section,axis=0) for 2-d array\n",
    "\n",
    "\n",
    "# split with row # split into row wise\n",
    "arr2 = np.random.randint(1,15, size=(5,2))\n",
    "\n",
    "print(\"Array1: \\n\", arr2)\n",
    "print(\"Shape: \", arr2.shape)\n",
    "\n",
    "\n",
    "# split into row wise (axis = 0)\n",
    "split_arr = np.split(arr2,3,axis = 0)\n",
    "\n",
    "print(split_arr)\n",
    "\n",
    "\n",
    "# # NOTE -> np.split() function split the elements into equal division other wise ValueError\n",
    "# here shape(5,2) mesns total elements are 10\n",
    "# 10 elements can't divide into 3 equal division "
   ]
  },
  {
   "cell_type": "code",
   "execution_count": 42,
   "id": "bea0589e",
   "metadata": {},
   "outputs": [
    {
     "name": "stdout",
     "output_type": "stream",
     "text": [
      "Arr2: \n",
      " [[17 41 22 46 14 19]\n",
      " [22 11  9 39  7 33]\n",
      " [16 27 10 10 32 30]\n",
      " [ 5 13 30 46  9 26]]\n",
      "Split array: \n",
      " [array([[17, 41, 22, 46, 14, 19],\n",
      "       [22, 11,  9, 39,  7, 33]], dtype=int32), array([[16, 27, 10, 10, 32, 30],\n",
      "       [ 5, 13, 30, 46,  9, 26]], dtype=int32)]\n",
      "Column split: \n",
      " [array([[17, 41],\n",
      "       [22, 11],\n",
      "       [16, 27],\n",
      "       [ 5, 13]], dtype=int32), array([[22, 46],\n",
      "       [ 9, 39],\n",
      "       [10, 10],\n",
      "       [30, 46]], dtype=int32), array([[14, 19],\n",
      "       [ 7, 33],\n",
      "       [32, 30],\n",
      "       [ 9, 26]], dtype=int32)]\n"
     ]
    }
   ],
   "source": [
    "# np.split(arr,split_size,axis=0) use when we to equal divison\n",
    "\n",
    "arr2 = np.random.randint(5,50, size=(4,6))\n",
    "\n",
    "print(\"Arr2: \\n\", arr2)\n",
    "\n",
    "# row-wise equal divion\n",
    "split_row_equal = np.split(arr2,2,axis=0)\n",
    "\n",
    "print(\"Split array: \\n\", split_row_equal)\n",
    "\n",
    "\n",
    "# column wise split\n",
    "split_col = np.split(arr2,3,axis=1)\n",
    "print(\"Column split: \\n\", split_col)\n",
    "\n"
   ]
  },
  {
   "cell_type": "markdown",
   "id": "f1cddafe",
   "metadata": {},
   "source": [
    "#### 2. np.array_split(arr,split_size,axis=0)"
   ]
  },
  {
   "cell_type": "markdown",
   "id": "805def00",
   "metadata": {},
   "source": [
    "- unequal split of the element into .\n",
    "\n",
    "- syntax: np.split_array(arr,split_size,axis=0)\n",
    "\n",
    "    - axis = 0 means rows split\n",
    "    - axis = 1 mens columns split\n"
   ]
  },
  {
   "cell_type": "code",
   "execution_count": null,
   "id": "1fc35d0e",
   "metadata": {},
   "outputs": [
    {
     "name": "stdout",
     "output_type": "stream",
     "text": [
      "Arr1: \n",
      " [7 4 1 1 7 6 5 8 7 7]\n",
      "Shape:  (10,)\n",
      "Split Array: \n",
      " [array([7, 4, 1], dtype=int32), array([1, 7, 6], dtype=int32), array([5, 8], dtype=int32), array([7, 7], dtype=int32)]\n"
     ]
    }
   ],
   "source": [
    "# np.array_split(arr,split_size, axis=0)\n",
    "\n",
    "# 1-d\n",
    "arr1 = np.random.randint(1,10, size=(10,))\n",
    "\n",
    "print(\"Arr1: \\n\", arr1)\n",
    "print(\"Shape: \", arr1.shape)\n",
    "\n",
    "# unequal split into row wise\n",
    "\n",
    "split_row = np.array_split(arr1,4,axis=0)\n",
    "\n",
    "print(\"Split Array: \\n\", split_row)\n",
    "\n",
    "\n",
    "\n",
    "# first split into equaly way if elemets are remain then again split first to last\n"
   ]
  },
  {
   "cell_type": "code",
   "execution_count": 51,
   "id": "80f8a621",
   "metadata": {},
   "outputs": [
    {
     "name": "stdout",
     "output_type": "stream",
     "text": [
      "Array: \n",
      " [[10  1  9 15  6]\n",
      " [16 16 10 18 11]\n",
      " [ 9  9  2 11  4]\n",
      " [10 17  3 16  4]]\n",
      "Column Split: \n",
      " [array([[10,  1],\n",
      "       [16, 16],\n",
      "       [ 9,  9],\n",
      "       [10, 17]], dtype=int32), array([[ 9, 15],\n",
      "       [10, 18],\n",
      "       [ 2, 11],\n",
      "       [ 3, 16]], dtype=int32), array([[ 6],\n",
      "       [11],\n",
      "       [ 4],\n",
      "       [ 4]], dtype=int32)]\n"
     ]
    }
   ],
   "source": [
    "# Example: np.array_split(arr, split_size, axix = 1)\n",
    "\n",
    "arr2 = np.random.randint(1,20, size = (4,5))\n",
    "\n",
    "print(\"Array: \\n\", arr2)\n",
    "\n",
    "# split into column wise\n",
    "\n",
    "col_split = np.array_split(arr2, 3, axis = 1)\n",
    "\n",
    "print(\"Column Split: \\n\", col_split)\n",
    "\n",
    "\n"
   ]
  },
  {
   "cell_type": "markdown",
   "id": "1b3652e5",
   "metadata": {},
   "source": [
    "### 3. Differnce between Transpose and Split"
   ]
  }
 ],
 "metadata": {
  "kernelspec": {
   "display_name": "base",
   "language": "python",
   "name": "python3"
  },
  "language_info": {
   "codemirror_mode": {
    "name": "ipython",
    "version": 3
   },
   "file_extension": ".py",
   "mimetype": "text/x-python",
   "name": "python",
   "nbconvert_exporter": "python",
   "pygments_lexer": "ipython3",
   "version": "3.13.5"
  }
 },
 "nbformat": 4,
 "nbformat_minor": 5
}
