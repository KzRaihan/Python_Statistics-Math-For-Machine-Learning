{
 "cells": [
  {
   "cell_type": "markdown",
   "id": "a6d80364",
   "metadata": {},
   "source": [
    "### Practices_Problem in Nummpy"
   ]
  },
  {
   "cell_type": "code",
   "execution_count": 1,
   "id": "d9441eea",
   "metadata": {},
   "outputs": [],
   "source": [
    "import numpy as np"
   ]
  },
  {
   "cell_type": "markdown",
   "id": "0e6281f2",
   "metadata": {},
   "source": [
    "### Array Creation and Manipulation"
   ]
  },
  {
   "cell_type": "markdown",
   "id": "806e2e58",
   "metadata": {},
   "source": [
    "1. Create a NumPy array of shape (5, 5) filled with random integers between 1 and 20. Replace all the elements in the third column with 1."
   ]
  },
  {
   "cell_type": "code",
   "execution_count": 16,
   "id": "83582884",
   "metadata": {},
   "outputs": [
    {
     "name": "stdout",
     "output_type": "stream",
     "text": [
      "Array: \n",
      " [[14  9  5  7 19]\n",
      " [13 15 12  5 20]\n",
      " [14 18 10  8  5]\n",
      " [ 7  2 11 15 17]\n",
      " [11  8 13  6 12]]\n",
      "After Replace: \n",
      " [[14  9  1  7 19]\n",
      " [13 15  1  5 20]\n",
      " [14 18  1  8  5]\n",
      " [ 7  2  1 15 17]\n",
      " [11  8  1  6 12]]\n"
     ]
    }
   ],
   "source": [
    "# Solve - 1:\n",
    "\n",
    "arr = np.random.randint(1,21, size=(5,5))\n",
    "\n",
    "print(\"Array: \\n\", arr)\n",
    "\n",
    "# Replace all the element in the third column with 1\n",
    "\n",
    "# access and replace\n",
    "\n",
    "arr[: , [2]] = 1    # or -> arr[0:, 2] = 1\n",
    "# arr[0:, 2:3] = 1\n",
    "\n",
    "print(\"After Replace: \\n\", arr)\n",
    "\n"
   ]
  },
  {
   "cell_type": "markdown",
   "id": "806687aa",
   "metadata": {},
   "source": [
    "2. Create a NumPy array of shape (4, 4) with values from 1 to 16. Replace the diagonal elements with 0."
   ]
  },
  {
   "cell_type": "code",
   "execution_count": 21,
   "id": "edd510be",
   "metadata": {},
   "outputs": [
    {
     "name": "stdout",
     "output_type": "stream",
     "text": [
      "Array: \n",
      " [[16  2 10  2]\n",
      " [ 8  6  3 11]\n",
      " [ 9  8  4  5]\n",
      " [ 5 10 10 16]]\n",
      "After Replace diagonal element: \n",
      " [[ 0  2 10  2]\n",
      " [ 8  0  3 11]\n",
      " [ 9  8  0  5]\n",
      " [ 5 10 10  0]]\n"
     ]
    }
   ],
   "source": [
    "arr = np.random.randint(1,17, size = (4,4))\n",
    "\n",
    "print(\"Array: \\n\", arr)\n",
    "\n",
    "# Replace diagonal elements\n",
    "np.fill_diagonal(arr,0)\n",
    "\n",
    "\n",
    "print(\"After Replace diagonal element: \\n\", arr)"
   ]
  },
  {
   "cell_type": "markdown",
   "id": "e5068883",
   "metadata": {},
   "source": [
    "### Array Indexing and Slicing"
   ]
  },
  {
   "cell_type": "markdown",
   "id": "508a67ae",
   "metadata": {},
   "source": [
    "1. Create a NumPy array of shape (6, 6) with values from 1 to 36. Extract the sub-array consisting of the 3rd to 5th rows and 2nd to 4th columns."
   ]
  },
  {
   "cell_type": "code",
   "execution_count": null,
   "id": "c3abee79",
   "metadata": {},
   "outputs": [
    {
     "name": "stdout",
     "output_type": "stream",
     "text": [
      "Arrray: \n",
      " [[35 15 12 35  1 21]\n",
      " [20  6 28 19 32 10]\n",
      " [32 22 16  4 30 28]\n",
      " [11 36 25 23  4  8]\n",
      " [25 34 11 25 36 24]\n",
      " [13 32 28 16 31  8]]\n",
      "Sub Array: \n",
      " [[22 16  4]\n",
      " [36 25 23]\n",
      " [34 11 25]]\n"
     ]
    }
   ],
   "source": [
    "arr = np.random.randint(1,37, size = (6,6))\n",
    "\n",
    "print(\"Arrray: \\n\", arr)\n",
    "\n",
    "sub_arr = arr[2:5 , 1:4]\n",
    "\n",
    "print(\"Sub Array: \\n\", sub_arr)\n"
   ]
  },
  {
   "cell_type": "markdown",
   "id": "bf8982d1",
   "metadata": {},
   "source": [
    "\n",
    "2. Create a NumPy array of shape (5, 5) with random integers. Extract the elements on the border."
   ]
  },
  {
   "cell_type": "code",
   "execution_count": null,
   "id": "fa8271ad",
   "metadata": {},
   "outputs": [
    {
     "name": "stdout",
     "output_type": "stream",
     "text": [
      "Array: \n",
      " [[17  4 16  1  7]\n",
      " [ 8 17  5  7 13]\n",
      " [17  8  8  2 10]\n",
      " [17 12 16  1 13]\n",
      " [14  1  8  2 12]]\n",
      "\n",
      "\n",
      "First Row border [17  4 16  1  7]\n",
      "\n",
      "Last Row border :  [14  1  8  2 12]\n",
      "\n",
      "First Col border:  [ 8 17 17]\n",
      "\n",
      "Last Col border [13 10 13]\n",
      "[17  4 16  1  7  8 17 17 14  1  8  2 12 13 10 13]\n",
      "Corner border Elements: \n",
      " [[11 19]\n",
      " [14  2]]\n"
     ]
    }
   ],
   "source": [
    "arr = np.random.randint(1, 20, size=(5,5))\n",
    "\n",
    "print(\"Array: \\n\",arr)\n",
    "print()\n",
    "\n",
    "# Extract elements on the border\n",
    "borders_row1 = arr[0,0:]\n",
    "borders_row2 = arr[-1,0:]\n",
    "\n",
    "border_in_col1 = arr[1:-1 , 0]\n",
    "border_in_col2 = arr[1:-1 , 4]\n",
    "\n",
    "print(\"\\nFirst Row border\", borders_row1)\n",
    "\n",
    "print(\"\\nLast Row border : \", borders_row2)\n",
    "\n",
    "print(\"\\nFirst Col border: \", border_in_col1)\n",
    "\n",
    "print(\"\\nLast Col border\", border_in_col2)\n",
    "\n",
    "# print(np.concatenate((borders_row1, borders_row2, border_in_col1,border_in_col2)))\n",
    "\n",
    "print(np.concatenate((borders_row1, border_in_col1,borders_row2, border_in_col2)))\n",
    "\n",
    "corner_border_elements = arr[0:6:4, 0:5:4]\n",
    "print(\"Corner border Elements: \\n\", border_elements)\n"
   ]
  },
  {
   "cell_type": "markdown",
   "id": "a7dd1cfb",
   "metadata": {},
   "source": [
    "### Array Operations"
   ]
  },
  {
   "cell_type": "markdown",
   "id": "12dacf92",
   "metadata": {},
   "source": [
    "1. Create two NumPy arrays of shape (3, 4) filled with random integers. Perform element-wise addition, subtraction, multiplication, and division."
   ]
  },
  {
   "cell_type": "code",
   "execution_count": null,
   "id": "1c0bd8e4",
   "metadata": {},
   "outputs": [
    {
     "name": "stdout",
     "output_type": "stream",
     "text": [
      "Array1: \n",
      " [[4 5 7 5]\n",
      " [4 8 7 2]\n",
      " [1 2 5 1]]\n",
      "Array2: \n",
      " [[19 11 11 17]\n",
      " [10 10 18 17]\n",
      " [15 17 16 15]]\n",
      "Addition: \n",
      " [[23 16 18 22]\n",
      " [14 18 25 19]\n",
      " [16 19 21 16]]\n",
      "subtraction: \n",
      " [[-15  -6  -4 -12]\n",
      " [ -6  -2 -11 -15]\n",
      " [-14 -15 -11 -14]]\n",
      "Multiplication: \n",
      " [[ 76  55  77  85]\n",
      " [ 40  80 126  34]\n",
      " [ 15  34  80  15]]\n",
      "division: \n",
      " [[0.21052632 0.45454545 0.63636364 0.29411765]\n",
      " [0.4        0.8        0.38888889 0.11764706]\n",
      " [0.06666667 0.11764706 0.3125     0.06666667]]\n"
     ]
    }
   ],
   "source": [
    "arr1 = np.random.randint(1,10, size = (3,4))\n",
    "arr2 = np.random.randint(10,20, size = (3,4))\n",
    "\n",
    "print(\"Array1: \\n\", arr1)\n",
    "print(\"Array2: \\n\", arr2)\n",
    "\n",
    "# element wise Perfom\n",
    "## Addition\n",
    "add = arr1 + arr2\n",
    "print(\"Addition: \\n\", add)\n",
    "\n",
    "## subtraction\n",
    "sub = arr1 - arr2\n",
    "print(\"subtraction: \\n\", sub)\n",
    "\n",
    "## Multiplication\n",
    "mul = arr1 * arr2\n",
    "print(\"Multiplication: \\n\", mul)\n",
    "\n",
    "\n",
    "## division\n",
    "div = arr1 / arr2\n",
    "print(\"division: \\n\", div)\n"
   ]
  },
  {
   "cell_type": "markdown",
   "id": "348afce9",
   "metadata": {},
   "source": [
    "2. Create a NumPy array of shape (4, 4) with values from 1 to 16. Compute the row-wise and column-wise sum."
   ]
  },
  {
   "cell_type": "code",
   "execution_count": 74,
   "id": "f14117b4",
   "metadata": {},
   "outputs": [
    {
     "name": "stdout",
     "output_type": "stream",
     "text": [
      "Array: \n",
      " [[ 1  2  3  4]\n",
      " [ 5  6  7  8]\n",
      " [ 9 10 11 12]\n",
      " [13 14 15 16]]\n",
      "Rows wise sum:  [10 26 42 58]\n",
      "Column Wise sum:  [28 32 36 40]\n"
     ]
    }
   ],
   "source": [
    "arr = np.arange(1,17).reshape(4,4)\n",
    "\n",
    "print(\"Array: \\n\", arr)\n",
    "\n",
    "# row-wise sum\n",
    "\n",
    "row_sum = np.sum(arr, axis = 1)\n",
    "\n",
    "print(\"Rows wise sum: \", row_sum)\n",
    "\n",
    "\n",
    "# column wise sum\n",
    "\n",
    "coln_sum = np.sum(arr, axis = 0)\n",
    "\n",
    "print(\"Column Wise sum: \", coln_sum)\n"
   ]
  },
  {
   "cell_type": "markdown",
   "id": "ee7ecf9e",
   "metadata": {},
   "source": [
    "### Statistical Operations"
   ]
  },
  {
   "cell_type": "markdown",
   "id": "d2cf3381",
   "metadata": {},
   "source": [
    "1. Create a NumPy array of shape (5, 5) filled with random integers. Compute the mean, median, standard deviation, and variance of the array."
   ]
  },
  {
   "cell_type": "code",
   "execution_count": 78,
   "id": "51d2512b",
   "metadata": {},
   "outputs": [
    {
     "name": "stdout",
     "output_type": "stream",
     "text": [
      "Array: \n",
      " [[13  9 15 20 22]\n",
      " [18 23  6  4  2]\n",
      " [24 20 10 14  8]\n",
      " [ 5 12 17 24 16]\n",
      " [24 17 11  6  8]]\n",
      "Mean:  13.92\n",
      "Median:  13.92\n",
      "Standard Deviation: 6.74\n",
      "Variance: 45.434\n"
     ]
    }
   ],
   "source": [
    "arr = np.random.randint(1,25, size = (5,5))\n",
    "\n",
    "print(\"Array: \\n\", arr)\n",
    "\n",
    "# mean\n",
    "mean_arr = np.mean(arr)\n",
    "print(\"Mean: \", mean_arr)\n",
    "\n",
    "# median\n",
    "median_arr = np.median(arr)\n",
    "print(\"Median: \", mean_arr)\n",
    "\n",
    "# standard deviation\n",
    "std_arr = np.std(arr)\n",
    "print(f\"Standard Deviation: {std_arr:.2f}\")\n",
    "\n",
    "# variance\n",
    "var_arr = np.var(arr)\n",
    "print(f\"Variance: {var_arr:.3f}\") "
   ]
  },
  {
   "cell_type": "markdown",
   "id": "b4c23869",
   "metadata": {},
   "source": [
    "### Broadcasting"
   ]
  },
  {
   "cell_type": "markdown",
   "id": "a01a2e81",
   "metadata": {},
   "source": [
    "1. Create a NumPy array of shape (3, 3) filled with random integers. Add a 1D array of shape (3,) to each row of the 2D array using broadcasting."
   ]
  },
  {
   "cell_type": "code",
   "execution_count": 98,
   "id": "d318d876",
   "metadata": {},
   "outputs": [
    {
     "name": "stdout",
     "output_type": "stream",
     "text": [
      "\n",
      "Array (2-d): \n",
      " [[17 25 13]\n",
      " [40 14 44]\n",
      " [44 22 31]]\n",
      "\n",
      "Array (1-d): \n",
      " [ 7  1 19]\n",
      "\n",
      "Addition of each row-wise: \n",
      " [[24 26 32]\n",
      " [47 15 63]\n",
      " [51 23 50]]\n"
     ]
    }
   ],
   "source": [
    "arr_2 = np.random.randint(5,50, size = (3,3))\n",
    "\n",
    "print(\"\\nArray (2-d): \\n\", arr_2)\n",
    "\n",
    "# 1-d array\n",
    "arr_1 = np.random.randint(1,20, size = (3,))\n",
    "print(\"\\nArray (1-d): \\n\", arr_1)\n",
    "\n",
    "\n",
    "# addition \n",
    "print(\"\\nAddition of each row-wise: \\n\", arr_2 + arr_1)\n",
    "# print(\"\\nAddition: \\n\", arr_1 + arr_2)\n",
    "\n"
   ]
  },
  {
   "cell_type": "markdown",
   "id": "0138a184",
   "metadata": {},
   "source": [
    "2. Create a NumPy array of shape (4, 4) filled with random integers. Subtract a 1D array of shape (4,) from each column of the 2D array using broadcasting."
   ]
  },
  {
   "cell_type": "code",
   "execution_count": 97,
   "id": "b7b9e14b",
   "metadata": {},
   "outputs": [
    {
     "name": "stdout",
     "output_type": "stream",
     "text": [
      "\n",
      "Array 2d: \n",
      " [[18 13 19 13]\n",
      " [ 5  4 17 11]\n",
      " [11 11 18 14]\n",
      " [14 19 18  4]]\n",
      "Arr21: \n",
      " [[17]\n",
      " [10]\n",
      " [18]\n",
      " [10]]\n",
      "\n",
      "Subtract of Each Column-wise: \n",
      " [[ 1 -4  2 -4]\n",
      " [-5 -6  7  1]\n",
      " [-7 -7  0 -4]\n",
      " [ 4  9  8 -6]]\n"
     ]
    }
   ],
   "source": [
    "arr2 = np.random.randint(2,20, size = (4,4))\n",
    "\n",
    "print(\"\\nArray 2d: \\n\", arr2)\n",
    "\n",
    "\n",
    "# 1-d array\n",
    "arr_1 = np.random.randint(1,20, size = (4,))\n",
    "\n",
    "# reshape\n",
    "arr21 = arr_1.reshape(4,1)\n",
    "\n",
    "print(\"Arr21: \\n\", arr21)\n",
    "\n",
    "# Substraction \n",
    "print(\"\\nSubtract of Each Column-wise: \\n\", arr2 - arr21)\n",
    "\n"
   ]
  },
  {
   "cell_type": "markdown",
   "id": "d5c6760b",
   "metadata": {},
   "source": [
    "### Linear Algebra"
   ]
  },
  {
   "cell_type": "markdown",
   "id": "f9d2270b",
   "metadata": {},
   "source": [
    "1. Create two NumPy arrays of shape (2, 3) and (3, 2). Perform matrix multiplication on these arrays."
   ]
  },
  {
   "cell_type": "code",
   "execution_count": 99,
   "id": "3c3922be",
   "metadata": {},
   "outputs": [
    {
     "name": "stdout",
     "output_type": "stream",
     "text": [
      "Matrix Multiplication: \n",
      " [[50 66]\n",
      " [37 51]]\n"
     ]
    }
   ],
   "source": [
    "arr1 = np.array(\n",
    "    [[2, 4, 6],\n",
    "    [1, 3, 5]]\n",
    "    )\n",
    "arr2 = np.array(\n",
    "    [[4, 2],\n",
    "    [6, 8],\n",
    "    [3, 5]]\n",
    "    )\n",
    "\n",
    "# Matrix Multiplication\n",
    "\n",
    "matrix_mul = np.dot(arr1, arr2)\n",
    "\n",
    "\n",
    "print(\"Matrix Multiplication: \\n\", matrix_mul)\n"
   ]
  },
  {
   "cell_type": "markdown",
   "id": "8ae6a8ba",
   "metadata": {},
   "source": [
    "### Advanced Array Manipulation"
   ]
  },
  {
   "cell_type": "markdown",
   "id": "899641df",
   "metadata": {},
   "source": [
    "1. Create a NumPy array of shape (3, 3) with values from 1 to 9. Reshape the array to shape (1, 9) and then to shape (9, 1)."
   ]
  },
  {
   "cell_type": "code",
   "execution_count": 103,
   "id": "f8b9631a",
   "metadata": {},
   "outputs": [
    {
     "name": "stdout",
     "output_type": "stream",
     "text": [
      "Array: \n",
      " [[1 2 3]\n",
      " [4 5 6]\n",
      " [7 8 9]]\n",
      "Array2: \n",
      " [[1 2 3 4 5 6 7 8 9]]\n",
      "Array3: \n",
      " [[1]\n",
      " [2]\n",
      " [3]\n",
      " [4]\n",
      " [5]\n",
      " [6]\n",
      " [7]\n",
      " [8]\n",
      " [9]]\n"
     ]
    }
   ],
   "source": [
    "arr1 = np.arange(1,10).reshape(3,3)\n",
    "\n",
    "print(\"Array: \\n\", arr1)\n",
    "\n",
    "arr2 = arr1.reshape(1,9)\n",
    "\n",
    "print(\"Array2: \\n\", arr2)\n",
    "\n",
    "arr3 = arr2.reshape(9,1)\n",
    "\n",
    "print(\"Array3: \\n\", arr3)"
   ]
  },
  {
   "cell_type": "markdown",
   "id": "dfcca3b6",
   "metadata": {},
   "source": [
    "\n",
    "2. Create a NumPy array of shape (5, 5) filled with random integers. Flatten the array and then reshape it back to (5, 5)."
   ]
  },
  {
   "cell_type": "code",
   "execution_count": null,
   "id": "142aed4d",
   "metadata": {},
   "outputs": [
    {
     "name": "stdout",
     "output_type": "stream",
     "text": [
      "Array1: \n",
      " [[17 14  8 14 19]\n",
      " [ 6 18  5 15 10]\n",
      " [17  6  9 19  6]\n",
      " [13  9 11 16 14]\n",
      " [13 11  8 12 15]]\n",
      "Array Flattern: \n",
      " [17 14  8 14 19  6 18  5 15 10 17  6  9 19  6 13  9 11 16 14 13 11  8 12\n",
      " 15]\n",
      "Array3: \n",
      " [[17 14  8 14 19]\n",
      " [ 6 18  5 15 10]\n",
      " [17  6  9 19  6]\n",
      " [13  9 11 16 14]\n",
      " [13 11  8 12 15]]\n"
     ]
    }
   ],
   "source": [
    "arr1 = np.random.randint(5,20, size = (5,5))\n",
    "\n",
    "print(\"Array1: \\n\", arr1)\n",
    "\n",
    "# Flattern\n",
    "arr2 = arr1.flatten()\n",
    "\n",
    "print(\"Array Flattern: \\n\", arr2)\n",
    "\n",
    "# again Reshape\n",
    "arr3 = arr2.reshape(5,5)\n",
    "\n",
    "print(\"Array3: \\n\", arr3)\n"
   ]
  },
  {
   "cell_type": "markdown",
   "id": "b4433fb0",
   "metadata": {},
   "source": [
    "### **Boolean Indexing**"
   ]
  },
  {
   "cell_type": "markdown",
   "id": "0fe5657b",
   "metadata": {},
   "source": [
    "1. Create a NumPy array of shape (4, 4) filled with random integers. Use boolean indexing to set all elements greater than 10 to 10."
   ]
  },
  {
   "cell_type": "code",
   "execution_count": 115,
   "id": "a9df6237",
   "metadata": {},
   "outputs": [
    {
     "name": "stdout",
     "output_type": "stream",
     "text": [
      "Array: \n",
      " [[ 7 43 25  3]\n",
      " [41  4 33 45]\n",
      " [43 23 36  8]\n",
      " [23 14  7 27]]\n",
      "Array's element Greater than 10: \n",
      " [[ 7 10 10  3]\n",
      " [10  4 10 10]\n",
      " [10 10 10  8]\n",
      " [10 10  7 10]]\n"
     ]
    }
   ],
   "source": [
    "arr = np.random.randint(1, 50, size = (4,4))\n",
    "\n",
    "print(\"Array: \\n\", arr)\n",
    "\n",
    "\n",
    "# use boolean indexing\n",
    "\n",
    "arr[arr > 10] = 10\n",
    "\n",
    "print(\"Array's element Greater than 10: \\n\", arr)\n",
    "\n"
   ]
  },
  {
   "cell_type": "code",
   "execution_count": null,
   "id": "a0bf045d",
   "metadata": {},
   "outputs": [],
   "source": []
  }
 ],
 "metadata": {
  "kernelspec": {
   "display_name": "base",
   "language": "python",
   "name": "python3"
  },
  "language_info": {
   "codemirror_mode": {
    "name": "ipython",
    "version": 3
   },
   "file_extension": ".py",
   "mimetype": "text/x-python",
   "name": "python",
   "nbconvert_exporter": "python",
   "pygments_lexer": "ipython3",
   "version": "3.13.5"
  }
 },
 "nbformat": 4,
 "nbformat_minor": 5
}
