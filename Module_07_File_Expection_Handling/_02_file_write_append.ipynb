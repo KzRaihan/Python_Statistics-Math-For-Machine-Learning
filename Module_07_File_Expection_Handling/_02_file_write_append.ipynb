{
 "cells": [
  {
   "cell_type": "markdown",
   "id": "6c9b0a12",
   "metadata": {},
   "source": [
    "## Topics: File Write and Append in Python"
   ]
  },
  {
   "cell_type": "markdown",
   "id": "95cbb061",
   "metadata": {},
   "source": [
    "### OUTCOMES\n",
    "\n",
    "- 1. Create a new file and Writing\n",
    "\n",
    "- 2. Overwriting Existing Content\n",
    "\n",
    "- 3. Basic Append Operations\n",
    "\n",
    "- 4. "
   ]
  },
  {
   "cell_type": "markdown",
   "id": "c3621b15",
   "metadata": {},
   "source": [
    "### 1. Create a new file and Writing"
   ]
  },
  {
   "cell_type": "markdown",
   "id": "3890e6cf",
   "metadata": {},
   "source": [
    "#### \n",
    "- There are Two way to write on files\n",
    "    - mode_01: 'w' (write)\n",
    "    - mode_02: 'a' (append)"
   ]
  },
  {
   "cell_type": "code",
   "execution_count": 1,
   "id": "f7fb685c",
   "metadata": {},
   "outputs": [],
   "source": [
    "## Mode_01: 'w' or write\n",
    "\n",
    "# - create a new file (if the file is not present)\n",
    "\n",
    "with open(\"mode_01.txt\",\"w\") as file:\n",
    "    file.write(\"Hello My name is Kz\")\n",
    "    "
   ]
  },
  {
   "cell_type": "code",
   "execution_count": 19,
   "id": "afa627eb",
   "metadata": {},
   "outputs": [],
   "source": [
    "## Mode_01: Writing Multiple Lines\n",
    "\n",
    "with open(\"mode_02.txt\",\"w\") as file:\n",
    "    file.write(\"Welcome to this Module 07\\n\")\n",
    "    file.write(\"We will discuss the file handing\\n\")\n",
    "    file.write(\"And Solve Practices Problems\")"
   ]
  },
  {
   "cell_type": "code",
   "execution_count": 20,
   "id": "14c67a9f",
   "metadata": {},
   "outputs": [],
   "source": [
    "## Mode_01: Writing Multiple Lines using writelines()\n",
    "# - Writing list of string items\n",
    "\n",
    "lst = [\"Hello\", \"Hi\", \"Good\", \"GoodBye\"]\n",
    "with open(\"mode_03.txt\",\"w\") as file:\n",
    "    \n",
    "    # file.writelines(lst)  # write without spaces\n",
    "    \n",
    "    file.writelines([f\"{ls}\\t\" for ls in lst])\n",
    "\n",
    "    # for item in lst:\n",
    "    #     file.writelines(item + \"\\n\")\n",
    "    "
   ]
  },
  {
   "cell_type": "markdown",
   "id": "3d396ddf",
   "metadata": {},
   "source": [
    "### 2. Overwriting Existing Content"
   ]
  },
  {
   "cell_type": "code",
   "execution_count": null,
   "id": "14042a37",
   "metadata": {},
   "outputs": [],
   "source": [
    "## Mode_01: Problem of '(w' mode)\n",
    "\n",
    "with open(\"mode_01.txt\", \"w\") as file:\n",
    "    file.write(\"This Replace the previous all content of mode_01.txt\")\n",
    "\n",
    "# To solve this problem we use mode 'a' (append)"
   ]
  },
  {
   "cell_type": "markdown",
   "id": "66a93ea5",
   "metadata": {},
   "source": [
    "### 3. Basic Append Operations"
   ]
  },
  {
   "cell_type": "markdown",
   "id": "15e7189f",
   "metadata": {},
   "source": [
    "- New data is added to the end of the file.\n",
    "\n",
    "- Existing content remains unchanged."
   ]
  },
  {
   "cell_type": "code",
   "execution_count": 28,
   "id": "fc56d3ce",
   "metadata": {},
   "outputs": [],
   "source": [
    "## Mode_02: 'a' (append)\n",
    "\n",
    "# Create a file that is not exist \n",
    "\n",
    "with open(\"Data.txt\",\"a\") as file:\n",
    "    \n",
    "    file.write(\"Data is create\")\n",
    "\n",
    "\n",
    "# now add more content\n",
    "with open(\"Data.txt\", \"a\") as file:\n",
    "    file.write(\"\\nData is add before Data is create\")"
   ]
  },
  {
   "cell_type": "code",
   "execution_count": null,
   "id": "bfe588dd",
   "metadata": {},
   "outputs": [],
   "source": [
    "## Mode_02: 'a' (append)\n",
    "\n",
    "# - Appending from User Input\n",
    "\n",
    "user_text = input(\"Enter Your text: \")\n",
    "\n",
    "with open(\"User_input.txt\", \"a\") as file:\n",
    "    file.write(user_text + \"\\n\")\n",
    "\n"
   ]
  },
  {
   "cell_type": "code",
   "execution_count": null,
   "id": "a8dd6e35",
   "metadata": {},
   "outputs": [],
   "source": []
  },
  {
   "cell_type": "code",
   "execution_count": null,
   "id": "dcc4c44a",
   "metadata": {},
   "outputs": [],
   "source": []
  }
 ],
 "metadata": {
  "kernelspec": {
   "display_name": "base",
   "language": "python",
   "name": "python3"
  },
  "language_info": {
   "codemirror_mode": {
    "name": "ipython",
    "version": 3
   },
   "file_extension": ".py",
   "mimetype": "text/x-python",
   "name": "python",
   "nbconvert_exporter": "python",
   "pygments_lexer": "ipython3",
   "version": "3.13.5"
  }
 },
 "nbformat": 4,
 "nbformat_minor": 5
}
