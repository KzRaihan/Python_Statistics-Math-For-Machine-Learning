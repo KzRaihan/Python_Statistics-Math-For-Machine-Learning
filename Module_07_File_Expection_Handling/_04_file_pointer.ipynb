{
 "cells": [
  {
   "cell_type": "markdown",
   "id": "7f00c366",
   "metadata": {},
   "source": [
    "## Topic: File Pointer (Curson)"
   ]
  },
  {
   "cell_type": "markdown",
   "id": "ae1b9a5b",
   "metadata": {},
   "source": [
    "### OUTCOMES\n",
    "\n",
    "- 1. Intro of File Pointer\n",
    "\n",
    "- 2. file.tell() Method\n",
    "\n",
    "- 3. file.seek() Method\n",
    "\n",
    "- 4. file."
   ]
  },
  {
   "cell_type": "markdown",
   "id": "938acc31",
   "metadata": {},
   "source": [
    "###  1. Intro of File Pointer"
   ]
  },
  {
   "cell_type": "markdown",
   "id": "9e36f398",
   "metadata": {},
   "source": [
    "- A file pointer is like a cursor that tells Python where in the file it is currently reading or writing.\n",
    "\n",
    "- The pointer starts at the beginning (byte 0)."
   ]
  },
  {
   "cell_type": "markdown",
   "id": "daaa0398",
   "metadata": {},
   "source": [
    "### 2. file.tell() Method"
   ]
  },
  {
   "cell_type": "markdown",
   "id": "c8bcfcc2",
   "metadata": {},
   "source": [
    "- tell() -> Returns the current position of the file pointer."
   ]
  },
  {
   "cell_type": "code",
   "execution_count": 11,
   "id": "0ccfa5b3",
   "metadata": {},
   "outputs": [
    {
     "name": "stdout",
     "output_type": "stream",
     "text": [
      "Initial Cursor Position: 0\n",
      "This\n",
      "After Read 4 characters Cursor Position: 4\n",
      " is Kz\n",
      "After Read 6 characters file pointer Position: 10\n"
     ]
    }
   ],
   "source": [
    "# Example: file.tell() Method with \n",
    "\n",
    "with open(\"Demo.txt\", \"r\") as file:\n",
    "    pos = file.tell()\n",
    "    print(f\"Initial Cursor Position: {pos}\")\n",
    "\n",
    "    # read\n",
    "    print(file.read(4))\n",
    "\n",
    "    # after read 4 characters\n",
    "    print(f\"After Read 4 characters Cursor Position: {file.tell()}\")\n",
    "\n",
    "    # read\n",
    "    print(file.read(6))\n",
    "\n",
    "    # again read 5 characters\n",
    "    print(f\"After Read 6 characters file pointer Position: {file.tell()}\")\n",
    "    "
   ]
  },
  {
   "cell_type": "markdown",
   "id": "bc324542",
   "metadata": {},
   "source": [
    "### 3. file.seek() Method"
   ]
  },
  {
   "cell_type": "markdown",
   "id": "ba98a181",
   "metadata": {},
   "source": [
    "- Used to move the file pointer to a new position.\n",
    "\n",
    "- Basic syntax: \n",
    "    - file.seek(new position)"
   ]
  },
  {
   "cell_type": "markdown",
   "id": "8f9af2ac",
   "metadata": {},
   "source": [
    "#### file pointer with read Mode ('w')"
   ]
  },
  {
   "cell_type": "code",
   "execution_count": null,
   "id": "c43b0380",
   "metadata": {},
   "outputs": [
    {
     "name": "stdout",
     "output_type": "stream",
     "text": [
      "0\n",
      "4\n",
      " is \n",
      "8\n",
      "0\n",
      "This is KzRaihan\n"
     ]
    }
   ],
   "source": [
    "## Example: file.seek() with Read Mode ('r')\n",
    "\n",
    "with open(\"Demo.txt\", \"r\") as file:\n",
    "\n",
    "    # now file pointer position\n",
    "    print(file.tell())  # 0 \n",
    "\n",
    "    # move file pointer 4 bytes\n",
    "    file.seek(4)\n",
    "\n",
    "    # now new poistion file pointer\n",
    "    print(file.tell())  # 4\n",
    "\n",
    "    # read \n",
    "    print(file.read(4)) # read after 4 characters.\n",
    "\n",
    "    # check the file pointer position\n",
    "    print(file.tell())  # 8\n",
    "\n",
    "    # move file pointer at initial \n",
    "\n",
    "    file.seek(0)\n",
    "\n",
    "    # check the file pointer position\n",
    "    print(file.tell())  # 0\n",
    "\n",
    "    # read file\n",
    "    print(file.read()) # read entire file from first to end.\n"
   ]
  },
  {
   "cell_type": "markdown",
   "id": "a17e4f06",
   "metadata": {},
   "source": [
    "#### file pointer with Write Mode ('w')"
   ]
  },
  {
   "cell_type": "code",
   "execution_count": null,
   "id": "9dc3d262",
   "metadata": {},
   "outputs": [
    {
     "name": "stdout",
     "output_type": "stream",
     "text": [
      "0\n",
      "10\n",
      "6\n",
      "10\n",
      "3\n",
      "4\n"
     ]
    }
   ],
   "source": [
    "with open(\"Demo.txt\",\"w\") as file:\n",
    "    \n",
    "    # initial cursor position\n",
    "    print(file.tell()) # 0\n",
    "\n",
    "    # wrtie \n",
    "    file.write(\"Bangladesh\")\n",
    "\n",
    "    # now cursor position\n",
    "    print(file.tell())  # 10 (at the end)\n",
    "\n",
    "    # change the cursor position\n",
    "    file.seek(6)\n",
    "\n",
    "    # now cursor position\n",
    "    print(file.tell())  # 6\n",
    "\n",
    "    # wrtie\n",
    "    file.write(\"DESH\")  # BanglaDESH (overwrite characters after 5 position)\n",
    "\n",
    "    # now cursor positoin at the end\n",
    "    print(file.tell())  # 10\n",
    "\n",
    "    # again change the cursor position\n",
    "    file.seek(3)\n",
    "\n",
    "    # cursor position -> 3\n",
    "    print(file.tell())\n",
    "\n",
    "    # again wrtie then tell me what is the ouput? (current: BangalDESH)\n",
    "    file.write('3')    # i think o/p: Ban3galDESH\n",
    "\n",
    "    # again tell what is the file pointer positon?\n",
    "    print(file.tell()) # I think o/p: 4\n"
   ]
  },
  {
   "cell_type": "markdown",
   "id": "e76885ca",
   "metadata": {},
   "source": [
    "#### File Pointer with Append Mode ('a')"
   ]
  },
  {
   "cell_type": "code",
   "execution_count": null,
   "id": "08c02537",
   "metadata": {},
   "outputs": [
    {
     "name": "stdout",
     "output_type": "stream",
     "text": [
      "29\n",
      "36\n"
     ]
    }
   ],
   "source": [
    "with open(\"Demo.txt\",\"a\") as file:\n",
    "\n",
    "    file.write(\"\\nBeautiful country\")\n",
    "\n",
    "    # file pointer(at the end)\n",
    "    print(file.tell())  # 29\n",
    "\n",
    "    # change position\n",
    "    file.seek(0)  \n",
    "\n",
    "    # append\n",
    "    file.write(\"English\") # what is the output?\n",
    "\n",
    "    # cursor position\n",
    "    print(file.tell()) \n"
   ]
  },
  {
   "cell_type": "code",
   "execution_count": null,
   "id": "0c9327ac",
   "metadata": {},
   "outputs": [],
   "source": [
    "# Explin the above code\n",
    "\n",
    "'''  \n",
    "Demo.txt content: Ban3laDESH\n",
    "\n",
    "- Step_01: file.write(\"\\nBeautiful country\") at the end of file because file mode append ('a').\n",
    "\n",
    "- Step_02: print(file.tell())  # 11 + 18 => 29\n",
    "\n",
    "- Step_03: file.seek(0) \n",
    "    - here, change file pointer at first\n",
    "\n",
    "- Step_04: file.write(\"English\") \n",
    "    - here, write file but file mode in append mode\n",
    "    - Even though seek(0) moves the pointer, in append mode, the write position is always forced to EOF (end of file).\n",
    "\n",
    "    in Demo.txt: \n",
    "    - Ban3laDESH\n",
    "    - Beautiful countryEnglish\n",
    "\n",
    " - Step_05:  print(file.tell()) : and pointer position at the end\n",
    "    - 29 + 7 => 36\n",
    "'''"
   ]
  },
  {
   "cell_type": "code",
   "execution_count": 1,
   "id": "bdac5bc3",
   "metadata": {},
   "outputs": [
    {
     "name": "stdout",
     "output_type": "stream",
     "text": [
      "Hello\n",
      "5\n",
      "5\n",
      " Everyone My name is Kz\n",
      "\n"
     ]
    }
   ],
   "source": [
    "## Example: file.seek() with Read Mode ('r')\n",
    "\n",
    "with open(\"User_input.txt\", \"r\") as file:\n",
    "\n",
    "    # read \n",
    "    print(file.read(5))  # read first 5 characters\n",
    "\n",
    "    # check the file pointer position\n",
    "    print(file.tell())  # 5\n",
    "\n",
    "    # move file pointer at initial \n",
    "\n",
    "    file.seek(5)\n",
    "\n",
    "    # check the file pointer position\n",
    "    print(file.tell())  # 0\n",
    "\n",
    "    # read file\n",
    "    print(file.read()) # read entire file from first to end.\n"
   ]
  },
  {
   "cell_type": "code",
   "execution_count": null,
   "id": "c38edac3",
   "metadata": {},
   "outputs": [],
   "source": [
    "# what is the output?\n",
    "\n",
    "with open(\"Kz.txt\", \"w\") as file:\n",
    "    file.write(\"I am Kz\")\n",
    "    file.seek(0)\n",
    "    file.write(\"\\nI am Kz\")\n"
   ]
  },
  {
   "cell_type": "code",
   "execution_count": null,
   "id": "ddcfc5f0",
   "metadata": {},
   "outputs": [],
   "source": [
    "with open(\"Kz.txt\", \"w\") as file:\n",
    "    file.write(\"I am Kz\")\n",
    "\n",
    "# What is the output?"
   ]
  }
 ],
 "metadata": {
  "kernelspec": {
   "display_name": "base",
   "language": "python",
   "name": "python3"
  },
  "language_info": {
   "codemirror_mode": {
    "name": "ipython",
    "version": 3
   },
   "file_extension": ".py",
   "mimetype": "text/x-python",
   "name": "python",
   "nbconvert_exporter": "python",
   "pygments_lexer": "ipython3",
   "version": "3.13.5"
  }
 },
 "nbformat": 4,
 "nbformat_minor": 5
}
