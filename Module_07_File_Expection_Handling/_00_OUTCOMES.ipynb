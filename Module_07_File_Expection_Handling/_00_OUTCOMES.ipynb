{
 "cells": [
  {
   "cell_type": "markdown",
   "id": "6e806c54",
   "metadata": {},
   "source": [
    "## Topic: Files and Expections Handling"
   ]
  },
  {
   "cell_type": "markdown",
   "id": "5c37ed02",
   "metadata": {},
   "source": [
    "### OUTCOMES\n",
    "\n",
    "- File Handling Part\n",
    "    - 1. File Handling Basics.\n",
    "\n",
    "    - 2. File Write and Append\n",
    "\n",
    "    - 3. File Read\n",
    "\n",
    "    - 4. File Pointer\n",
    "\n",
    "    - 5. Practice Problem on File"
   ]
  }
 ],
 "metadata": {
  "language_info": {
   "name": "python"
  }
 },
 "nbformat": 4,
 "nbformat_minor": 5
}
