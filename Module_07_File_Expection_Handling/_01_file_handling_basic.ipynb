{
 "cells": [
  {
   "cell_type": "markdown",
   "id": "965f8760",
   "metadata": {},
   "source": [
    "## Topic: Introduction to File Handling"
   ]
  },
  {
   "cell_type": "markdown",
   "id": "de354c2d",
   "metadata": {},
   "source": [
    "### OUTCOMES\n",
    "\n",
    "- 1. Define File Handling\n",
    "\n",
    "- 2. Differentiate File Types\n",
    "\n",
    "- 3. Common Modes\n",
    "\n",
    "- 4. Understand File Operation Workflow\n",
    "\n",
    "- 5. Apply the with Statement\n",
    "\n",
    "- 6. Common Interview Questions"
   ]
  },
  {
   "cell_type": "markdown",
   "id": "0238314d",
   "metadata": {},
   "source": [
    "### 1. Define File Handling"
   ]
  },
  {
   "cell_type": "markdown",
   "id": "e83cda83",
   "metadata": {},
   "source": [
    "- File handling is the process of creating, reading, writing, and deleting files using Python programs."
   ]
  },
  {
   "cell_type": "markdown",
   "id": "d604e8a0",
   "metadata": {},
   "source": [
    "### 2. Differentiate File Types"
   ]
  },
  {
   "cell_type": "markdown",
   "id": "f58ccf2f",
   "metadata": {},
   "source": [
    "- 1. Text File: Stores data as readable text (characters).\n",
    "\n",
    "    - .txt\n",
    "    - .csv\n",
    "    - .json\n",
    "\n",
    "- 2. Binary File : Stores data in binary format (0s and 1s)\n",
    "\t\n",
    "    - .jpg\n",
    "    - .mp3\n",
    "    - .exe"
   ]
  },
  {
   "cell_type": "code",
   "execution_count": null,
   "id": "8a69c213",
   "metadata": {},
   "outputs": [],
   "source": [
    "### Basic syntax: \n",
    "\n",
    "'''   \n",
    "file_object = open(filename, mode)\n",
    "\n",
    "'''\n",
    "# filename = file path"
   ]
  },
  {
   "cell_type": "markdown",
   "id": "d3712e81",
   "metadata": {},
   "source": [
    "### 3. Common Modes"
   ]
  },
  {
   "cell_type": "code",
   "execution_count": null,
   "id": "0b1d184c",
   "metadata": {},
   "outputs": [],
   "source": [
    "'''  \n",
    "Mode      |    meaning \n",
    "------------------------------------------ \n",
    "- 'r'     |   Opens file for reading. \n",
    "------------------------------------------ \n",
    "- 'w'     | Creates new file or overwrites if exists.\n",
    "------------------------------------------ \n",
    "- 'a'     | Adds new data at end of file.\n",
    "------------------------------------------ \n",
    "\n",
    "'''\n",
    "\n",
    "# Example of syntax: \n",
    "# - file = open(\"demo.txt\", \"w\")\n"
   ]
  },
  {
   "cell_type": "code",
   "execution_count": null,
   "id": "a85fac53",
   "metadata": {},
   "outputs": [],
   "source": [
    "# Example_01: Create or write an file  \n",
    "# case_01: if the file is not present\n",
    "\n",
    "file = open(\"Demo.txt\", \"w\")\n",
    "\n",
    "file.write(\"Hello Everyone!\")\n",
    "\n",
    "file.close()\n",
    "\n",
    "# after close the file if we try to write() then it's give us error(ValueError)\n",
    "# file.write(\"Hi\")"
   ]
  },
  {
   "cell_type": "markdown",
   "id": "09b7a4a9",
   "metadata": {},
   "source": [
    "### 4. Understand File Operation Workflow"
   ]
  },
  {
   "cell_type": "code",
   "execution_count": null,
   "id": "d5c9ea2a",
   "metadata": {},
   "outputs": [],
   "source": [
    "'''   \n",
    "- open a file -------> read/write  --------> close file\n",
    "\n",
    "'''\n",
    "\n",
    "# how exactly open() works?\n",
    "'''  \n",
    "- Step_01: \n",
    "    - initial file is present in ROM (secondary memory).\n",
    "\n",
    "- Step_02: \n",
    "    - when use use open(\"Demo.txt\", \"w\") then file is go to RAM(main memory) form ROM.\n",
    "    - then perfom operations inside RAM.\n",
    "\n",
    "- Step_03: \n",
    "    - file.close() then close the file and file is store in ROM(or file is delete on RAM)\n",
    "\n",
    "\n",
    "'''"
   ]
  },
  {
   "cell_type": "markdown",
   "id": "c17a382f",
   "metadata": {},
   "source": [
    "### 5. Apply the with Statement"
   ]
  },
  {
   "cell_type": "code",
   "execution_count": null,
   "id": "98d1a698",
   "metadata": {},
   "outputs": [],
   "source": [
    "### This automatically closes the file after work.\n",
    "\n",
    "# case_02: if the file is already present\n",
    "\n",
    "with open(\"Demo.txt\", \"w\") as file:\n",
    "    file.write(\"This is KzRaihan\")\n",
    "\n",
    "# here, No need to call file.close()\n",
    "# Overwrite the previous content in Demo.txt file"
   ]
  },
  {
   "cell_type": "markdown",
   "id": "f19db1e8",
   "metadata": {},
   "source": [
    "- File Object Methods\n",
    "\n",
    "    - 1. read() - Read Entire File\n",
    "    \n",
    "    - 2. file.read(size) - Reads specified bytes.\n",
    "\n",
    "    - 3. readline() - Read Single Line\n",
    "\n",
    "    - 4. readlines() - Read All Lines as List\n",
    "\n",
    "    - 5. write() - Write String to File\n",
    "\n",
    "    - 6. writelines() - Write List of Strings\n",
    "\n",
    "    - 7. file.close() - Closes the file\n",
    "\n",
    "    - 8. tell() - Get current file pointer position\n",
    "\n",
    "    - 7. seek() - Move to specific position in file\n",
    "\n",
    "    - 8. truncate() - Resize File"
   ]
  },
  {
   "cell_type": "markdown",
   "id": "592b151f",
   "metadata": {},
   "source": [
    "### 6. Common Interview Questions"
   ]
  },
  {
   "cell_type": "markdown",
   "id": "679f6e2b",
   "metadata": {},
   "source": [
    "- 1. What is file handling in Python?\n",
    "\n",
    "- Answer:  It’s the process of reading from and writing to files using Python functions."
   ]
  },
  {
   "cell_type": "markdown",
   "id": "af3d70f5",
   "metadata": {},
   "source": [
    "- 2. What does 'w' mode do if the file already exists?\n",
    "\n",
    "- Answer: It overwrites the file completely."
   ]
  },
  {
   "cell_type": "markdown",
   "id": "36ecc7f4",
   "metadata": {},
   "source": [
    "- 3. Why use with open() instead of open()?\n",
    "\n",
    "- Answer: It automatically closes the file after use, even if an error occurs."
   ]
  },
  {
   "cell_type": "markdown",
   "id": "19a378ab",
   "metadata": {},
   "source": [
    "- 4. What is the default mode in open()?\n",
    "\n",
    "- Answer: r' (read mode, text)."
   ]
  },
  {
   "cell_type": "markdown",
   "id": "f4bc7812",
   "metadata": {},
   "source": [
    "- 5. What’s the difference between text and binary files?\n",
    "\n",
    "- Answer: Text files store characters (human-readable), binary files store bytes (machine-readable)"
   ]
  }
 ],
 "metadata": {
  "kernelspec": {
   "display_name": "base",
   "language": "python",
   "name": "python3"
  },
  "language_info": {
   "codemirror_mode": {
    "name": "ipython",
    "version": 3
   },
   "file_extension": ".py",
   "mimetype": "text/x-python",
   "name": "python",
   "nbconvert_exporter": "python",
   "pygments_lexer": "ipython3",
   "version": "3.13.5"
  }
 },
 "nbformat": 4,
 "nbformat_minor": 5
}
