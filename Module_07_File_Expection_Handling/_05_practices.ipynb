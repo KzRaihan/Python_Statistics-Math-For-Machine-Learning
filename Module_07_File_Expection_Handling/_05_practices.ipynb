{
 "cells": [
  {
   "cell_type": "markdown",
   "id": "8574e4b4",
   "metadata": {},
   "source": [
    "## Topic: Practices of File Handling"
   ]
  },
  {
   "cell_type": "markdown",
   "id": "dff356d5",
   "metadata": {},
   "source": [
    "### Problem_01: \n",
    "Practice 1 :\n",
    "\n",
    "Get the text from sample.txt , and count the following\n",
    "\n",
    "    - 1. Number of lines\n",
    "\n",
    "    - 2. Number of words\n",
    "\n",
    "    - 3. Number of characters (without new line and whitespaces)\n",
    "\n",
    "    - 4. and save it to the counter_of_string.txt file"
   ]
  },
  {
   "cell_type": "code",
   "execution_count": null,
   "id": "b2f3f88d",
   "metadata": {},
   "outputs": [],
   "source": [
    "# with open(\"sample.txt\",\"w\") as file:\n",
    "#     file.write(\"\")"
   ]
  },
  {
   "cell_type": "code",
   "execution_count": null,
   "id": "5638f91e",
   "metadata": {},
   "outputs": [
    {
     "name": "stdout",
     "output_type": "stream",
     "text": [
      "[13, 22, 21]\n",
      "56\n"
     ]
    }
   ],
   "source": [
    "from functools import reduce\n",
    "\n",
    "with open(\"sample.txt\", \"r\") as file:\n",
    "    \n",
    "    # NOTE: slove_01: Number of lines\n",
    "\n",
    "    lst_str = file.readlines()\n",
    "    # print(lst_str)\n",
    "\n",
    "    total_no_lines = len(lst_str)\n",
    "    # print(total_no_lines)\n",
    "\n",
    "    # NOTE: slove_02: Number of words\n",
    "\n",
    "      # - find the nums of words in each line\n",
    "    lst_nums = list(map(lambda x: len(x.split()),lst_str))\n",
    "    # print(lst_nums)\n",
    "\n",
    "    # - find to total numbers of words\n",
    "    total_no_words = reduce(lambda x,y: x+y,lst_nums)\n",
    "    # print(total_no_words)\n",
    "\n",
    "    # NOTE: solve_03: Number of characters (without new line and whitespaces)\n",
    "\n",
    "    # remove new line by using str.strip() method\n",
    "    # print(lst_str)\n",
    "\n",
    "    cls_char = list(map(str.strip, lst_str))\n",
    "    # print(cls_char)\n",
    "\n",
    "    # Replace without whitespce \n",
    "\n",
    "    cls_char = list(map(lambda x: x.replace(\" \", \"\"),cls_char))\n",
    "    # print(cls_char)\n",
    "\n",
    "    cls_char_nums = list(map(lambda x: len(x),cls_char))\n",
    "    # print(cls_char_nums)\n",
    "\n",
    "    total_no_chars = reduce(lambda x,y: x+y,cls_char_nums)\n",
    "\n",
    "    # print(total_no_chars)\n"
   ]
  },
  {
   "cell_type": "code",
   "execution_count": 23,
   "id": "b4241ba4",
   "metadata": {},
   "outputs": [],
   "source": [
    "# 4. and save it to the counter_of_string.txt file\n",
    "\n",
    "with open(\"counter_of_string.txt\",\"w\") as file:\n",
    "    file.write(f\"Total no of lines - {total_no_lines}\\nTotal no of words - {total_no_words}\\nTotal no of characters - {total_no_chars}\")\n"
   ]
  },
  {
   "cell_type": "markdown",
   "id": "2e507417",
   "metadata": {},
   "source": [
    "### Problem_02 Practice 2\n",
    "Write then read with one open"
   ]
  },
  {
   "cell_type": "code",
   "execution_count": 33,
   "id": "85b357b8",
   "metadata": {},
   "outputs": [
    {
     "name": "stdout",
     "output_type": "stream",
     "text": [
      "11\n",
      "\n",
      "Hello Dear!\n",
      "11\n",
      "\n",
      "11\n",
      "Hello\n"
     ]
    }
   ],
   "source": [
    "# 'w+' mode -> read and write \n",
    "\n",
    "with open(\"writeandREAD.txt\",\"w+\") as file:\n",
    "\n",
    "    # write file\n",
    "    file.write(\"Hello Dear!\")\n",
    "\n",
    "    # check the curson positon\n",
    "    print(file.tell()) # at the end: 11\n",
    "\n",
    "    # read file\n",
    "    print(file.read()) # nothing is read because cursor positon at the end of content.\n",
    "\n",
    "    # change to the curson position\n",
    "    file.seek(0) \n",
    "\n",
    "    print(file.read()) # entire content reads\n",
    "\n",
    "    print(file.tell())\n",
    "\n",
    "    file.truncate(5) # \n",
    "    print(file.read())\n",
    "\n",
    "    print(file.tell())\n",
    "\n",
    "    file.seek(0)\n",
    "\n",
    "    print(file.read())\n",
    "\n"
   ]
  },
  {
   "cell_type": "code",
   "execution_count": null,
   "id": "401df0b2",
   "metadata": {},
   "outputs": [],
   "source": []
  },
  {
   "cell_type": "markdown",
   "id": "d9a807ed",
   "metadata": {},
   "source": []
  },
  {
   "cell_type": "code",
   "execution_count": null,
   "metadata": {},
   "outputs": [],
   "source": []
  },
  {
   "cell_type": "code",
   "execution_count": null,
   "metadata": {},
   "outputs": [],
   "source": []
  },
  {
   "cell_type": "code",
   "execution_count": null,
   "id": "e377c3ac",
   "metadata": {},
   "outputs": [],
   "source": []
  },
  {
   "cell_type": "code",
   "execution_count": null,
   "id": "69f0e812",
   "metadata": {},
   "outputs": [],
   "source": []
  },
  {
   "cell_type": "code",
   "execution_count": null,
   "metadata": {},
   "outputs": [],
   "source": []
  }
 ],
 "metadata": {
  "kernelspec": {
   "display_name": "base",
   "language": "python",
   "name": "python3"
  },
  "language_info": {
   "codemirror_mode": {
    "name": "ipython",
    "version": 3
   },
   "file_extension": ".py",
   "mimetype": "text/x-python",
   "name": "python",
   "nbconvert_exporter": "python",
   "pygments_lexer": "ipython3",
   "version": "3.13.5"
  }
 },
 "nbformat": 4,
 "nbformat_minor": 5
}
