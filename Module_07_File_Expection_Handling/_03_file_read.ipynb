{
 "cells": [
  {
   "cell_type": "markdown",
   "id": "382126cf",
   "metadata": {},
   "source": [
    "## Topic: File Read in Python"
   ]
  },
  {
   "cell_type": "markdown",
   "id": "8f7aaf11",
   "metadata": {},
   "source": [
    "### OUTCOMES\n",
    "\n",
    "- 1. Intro and syntax\n",
    "\n",
    "- 2. Opening a File for Reading\n",
    "\n",
    "- 3. Methods for Reading Files\n",
    "\n",
    "- 4. Best Practices Example"
   ]
  },
  {
   "cell_type": "markdown",
   "id": "c0632065",
   "metadata": {},
   "source": [
    "### 1. Intro and syntax"
   ]
  },
  {
   "cell_type": "markdown",
   "id": "4f0a5d25",
   "metadata": {},
   "source": [
    "- To read a file, open it using the mode 'r' (read mode)\n",
    "\n",
    "- syntax:\n",
    "    - with open(\"file_path\", \"r\") as file:\n",
    "\n",
    "- with = keyword\n",
    "- file = object"
   ]
  },
  {
   "cell_type": "markdown",
   "id": "1bb65c93",
   "metadata": {},
   "source": [
    "### 2. Opening a File for Reading"
   ]
  },
  {
   "cell_type": "code",
   "execution_count": 1,
   "id": "f2fd3676",
   "metadata": {},
   "outputs": [
    {
     "ename": "FileNotFoundError",
     "evalue": "[Errno 2] No such file or directory: 'read.txt'",
     "output_type": "error",
     "traceback": [
      "\u001b[1;31m---------------------------------------------------------------------------\u001b[0m",
      "\u001b[1;31mFileNotFoundError\u001b[0m                         Traceback (most recent call last)",
      "Cell \u001b[1;32mIn[1], line 3\u001b[0m\n\u001b[0;32m      1\u001b[0m \u001b[38;5;66;03m# Case_01: if the file is not exist\u001b[39;00m\n\u001b[1;32m----> 3\u001b[0m \u001b[38;5;28;01mwith\u001b[39;00m \u001b[38;5;28mopen\u001b[39m(\u001b[38;5;124m\"\u001b[39m\u001b[38;5;124mread.txt\u001b[39m\u001b[38;5;124m\"\u001b[39m,\u001b[38;5;124m\"\u001b[39m\u001b[38;5;124mr\u001b[39m\u001b[38;5;124m\"\u001b[39m) \u001b[38;5;28;01mas\u001b[39;00m file:\n\u001b[0;32m      4\u001b[0m     content \u001b[38;5;241m=\u001b[39m file\u001b[38;5;241m.\u001b[39mread()\n\u001b[0;32m      6\u001b[0m     \u001b[38;5;28mprint\u001b[39m(content)\n",
      "File \u001b[1;32mc:\\Users\\HP\\anaconda3\\Lib\\site-packages\\IPython\\core\\interactiveshell.py:324\u001b[0m, in \u001b[0;36m_modified_open\u001b[1;34m(file, *args, **kwargs)\u001b[0m\n\u001b[0;32m    317\u001b[0m \u001b[38;5;28;01mif\u001b[39;00m file \u001b[38;5;129;01min\u001b[39;00m {\u001b[38;5;241m0\u001b[39m, \u001b[38;5;241m1\u001b[39m, \u001b[38;5;241m2\u001b[39m}:\n\u001b[0;32m    318\u001b[0m     \u001b[38;5;28;01mraise\u001b[39;00m \u001b[38;5;167;01mValueError\u001b[39;00m(\n\u001b[0;32m    319\u001b[0m         \u001b[38;5;124mf\u001b[39m\u001b[38;5;124m\"\u001b[39m\u001b[38;5;124mIPython won\u001b[39m\u001b[38;5;124m'\u001b[39m\u001b[38;5;124mt let you open fd=\u001b[39m\u001b[38;5;132;01m{\u001b[39;00mfile\u001b[38;5;132;01m}\u001b[39;00m\u001b[38;5;124m by default \u001b[39m\u001b[38;5;124m\"\u001b[39m\n\u001b[0;32m    320\u001b[0m         \u001b[38;5;124m\"\u001b[39m\u001b[38;5;124mas it is likely to crash IPython. If you know what you are doing, \u001b[39m\u001b[38;5;124m\"\u001b[39m\n\u001b[0;32m    321\u001b[0m         \u001b[38;5;124m\"\u001b[39m\u001b[38;5;124myou can use builtins\u001b[39m\u001b[38;5;124m'\u001b[39m\u001b[38;5;124m open.\u001b[39m\u001b[38;5;124m\"\u001b[39m\n\u001b[0;32m    322\u001b[0m     )\n\u001b[1;32m--> 324\u001b[0m \u001b[38;5;28;01mreturn\u001b[39;00m io_open(file, \u001b[38;5;241m*\u001b[39margs, \u001b[38;5;241m*\u001b[39m\u001b[38;5;241m*\u001b[39mkwargs)\n",
      "\u001b[1;31mFileNotFoundError\u001b[0m: [Errno 2] No such file or directory: 'read.txt'"
     ]
    }
   ],
   "source": [
    "# Case_01: if the file is not exist\n",
    "\n",
    "with open(\"read.txt\",\"r\") as file:\n",
    "    content = file.read()\n",
    "\n",
    "    print(content)\n",
    "\n",
    "# then it generate error (FileNotFoundError)"
   ]
  },
  {
   "cell_type": "code",
   "execution_count": 2,
   "id": "288f2cac",
   "metadata": {},
   "outputs": [
    {
     "name": "stdout",
     "output_type": "stream",
     "text": [
      "Hello Everyone My name is Kz\n",
      "\n"
     ]
    }
   ],
   "source": [
    "# case_02: if the file is exist\n",
    "\n",
    "with open(\"User_input.txt\",\"r\") as file:\n",
    "    content = file.read()\n",
    "\n",
    "    print(content)\n"
   ]
  },
  {
   "cell_type": "markdown",
   "id": "689d551b",
   "metadata": {},
   "source": [
    "### 3. Methods for Reading Files"
   ]
  },
  {
   "cell_type": "markdown",
   "id": "9d8c95a6",
   "metadata": {},
   "source": [
    "- 1. read() – Read Entire File\n",
    "\n",
    "- 2. readline() – Read One Line at a Time\n",
    "\n",
    "- 3. readlines() – Read All Lines as a List of string.\n",
    "\n",
    "- 4. read(size) – Read Limited Characters"
   ]
  },
  {
   "cell_type": "markdown",
   "id": "9074eb37",
   "metadata": {},
   "source": [
    "#### 1. read() – Read Entire File"
   ]
  },
  {
   "cell_type": "code",
   "execution_count": 3,
   "id": "34a36047",
   "metadata": {},
   "outputs": [
    {
     "name": "stdout",
     "output_type": "stream",
     "text": [
      "This is KzRaihan\n"
     ]
    }
   ],
   "source": [
    "# Example: read()\n",
    "\n",
    "with open(\"Demo.txt\",\"r\") as file:\n",
    "\n",
    "    inside_file = file.read()\n",
    "\n",
    "    print(inside_file)"
   ]
  },
  {
   "cell_type": "markdown",
   "id": "9a92e703",
   "metadata": {},
   "source": [
    "#### 2. readline() – Read One Line at a Time"
   ]
  },
  {
   "cell_type": "code",
   "execution_count": null,
   "id": "e3d48073",
   "metadata": {},
   "outputs": [
    {
     "name": "stdout",
     "output_type": "stream",
     "text": [
      "Welcome to this Module 07\n",
      "\n",
      "We will discuss the file handing\n",
      "\n"
     ]
    }
   ],
   "source": [
    "# Example: readline()\n",
    "\n",
    "with open(\"mode_02.txt\", \"r\") as file:\n",
    "\n",
    "    first_line = file.readline() # now cursion position at the end of first line or second line\n",
    "    second_line = file.readline()  \n",
    "    \n",
    "    print(first_line)\n",
    "    print(second_line)"
   ]
  },
  {
   "cell_type": "markdown",
   "id": "94ea6d05",
   "metadata": {},
   "source": [
    "- output of readline() provide two new line\n",
    "    - one for : readline() itself (because this method read line based on new line.\n",
    "    - for print()"
   ]
  },
  {
   "cell_type": "code",
   "execution_count": 3,
   "id": "cb1b0abe",
   "metadata": {},
   "outputs": [
    {
     "name": "stdout",
     "output_type": "stream",
     "text": [
      "Welcome to this Module 07\n",
      "We will discuss the file handing\n",
      "\n"
     ]
    }
   ],
   "source": [
    "# To solve the new line issus in readline()\n",
    "print(first_line, end = \"\")\n",
    "print(second_line)"
   ]
  },
  {
   "cell_type": "code",
   "execution_count": null,
   "id": "5b1cc1b4",
   "metadata": {},
   "outputs": [
    {
     "name": "stdout",
     "output_type": "stream",
     "text": [
      "Welcome to this Module 07\n",
      "We will discuss the file handing\n",
      "Welcome to this Module 07\n",
      "\n"
     ]
    }
   ],
   "source": [
    "## To solve the new line issue using strip() Method\n",
    "# Example: readline()\n",
    "\n",
    "with open(\"mode_02.txt\", \"r\") as file:\n",
    "\n",
    "    first_line = file.readline()\n",
    "    second_line = file.readline()\n",
    "    \n",
    "    content = first_line.strip()\n",
    "\n",
    "    print(first_line.strip())  # remove the new line in the string\n",
    "    print(second_line.strip())\n",
    "\n",
    "    \n",
    "\n",
    "# here only one new for print()"
   ]
  },
  {
   "cell_type": "markdown",
   "id": "cd60b216",
   "metadata": {},
   "source": [
    "##### strip() method"
   ]
  },
  {
   "cell_type": "markdown",
   "id": "e476a993",
   "metadata": {},
   "source": [
    "- The strip() method removes leading (beginning) and trailing (ending) characters — by default.\n",
    "\n",
    "- Also remove in string\n",
    "    - spaces (\" \")\n",
    "\n",
    "    - newlines (\"\\n\")\n",
    "\n",
    "    - tabs (\"\\t\")\n",
    "\n",
    "    - Remove Specific Characters\n",
    "\n",
    "- Syntax:\n",
    "    - string.strip()"
   ]
  },
  {
   "cell_type": "code",
   "execution_count": 7,
   "id": "169d3392",
   "metadata": {},
   "outputs": [
    {
     "name": "stdout",
     "output_type": "stream",
     "text": [
      "  Here is the Beauti of nature    \n",
      "Here is the Beauti of nature\n"
     ]
    }
   ],
   "source": [
    "# Example: strip() with Remove Whitespace (defalut characteristic)\n",
    "\n",
    "text = \"  Here is the Beauti of nature    \"\n",
    "\n",
    "clear_whitspace = text.strip()\n",
    "\n",
    "print(text)\n",
    "\n",
    "print(clear_whitspace)\n",
    "\n",
    "# Note:\n",
    "# - remove only begining and ending whitespace characters."
   ]
  },
  {
   "cell_type": "code",
   "execution_count": 11,
   "id": "cc56fede",
   "metadata": {},
   "outputs": [
    {
     "name": "stdout",
     "output_type": "stream",
     "text": [
      "['Hello', 'hi', 'good']\n"
     ]
    }
   ],
   "source": [
    "# Example: str.strip() -> Removing new line(\\n)\n",
    "\n",
    "data = [\"Hello\\n\", \"hi\\n\", \"good\"]\n",
    "\n",
    "# for i in data:\n",
    "#     print(i.strip(),end = \" \")\n",
    "\n",
    "new_data = []\n",
    "\n",
    "for i in data:\n",
    "    i = i.strip()\n",
    "    new_data.append(i)\n",
    "\n",
    "print(new_data)\n"
   ]
  },
  {
   "cell_type": "code",
   "execution_count": 13,
   "id": "fb770c7c",
   "metadata": {},
   "outputs": [
    {
     "name": "stdout",
     "output_type": "stream",
     "text": [
      "Bangladesh \n",
      " is nice\n"
     ]
    }
   ],
   "source": [
    "line = \"  Bangladesh \\n is nice\\n  \"\n",
    "\n",
    "clear_line = line.strip()\n",
    "\n",
    "print(clear_line)\n",
    "\n",
    "# only work first and end items"
   ]
  },
  {
   "cell_type": "code",
   "execution_count": 15,
   "id": "0a32e8cf",
   "metadata": {},
   "outputs": [
    {
     "name": "stdout",
     "output_type": "stream",
     "text": [
      " Bangladesh is nice \n"
     ]
    }
   ],
   "source": [
    "# str.strip() -> Remove Specific Characters \n",
    "line = \"@@@ Bangladesh is nice @@@@\"\n",
    "\n",
    "clr_line = line.strip(\"@\")\n",
    "\n",
    "print(clr_line)\n",
    "\n"
   ]
  },
  {
   "cell_type": "code",
   "execution_count": 16,
   "id": "e4a4d899",
   "metadata": {},
   "outputs": [
    {
     "name": "stdout",
     "output_type": "stream",
     "text": [
      "[' apple', '\\nbanana', 'mango\\t']\n",
      "['apple', 'banana', 'mango']\n"
     ]
    }
   ],
   "source": [
    "# str.strip() method\n",
    "\n",
    "raw_data = [\" apple\", \"\\nbanana\", \"mango\\t\"]\n",
    "\n",
    "clr_data = [data.strip() for data in raw_data]\n",
    "\n",
    "print(raw_data)\n",
    "print(clr_data)"
   ]
  },
  {
   "cell_type": "markdown",
   "id": "6b2f8106",
   "metadata": {},
   "source": [
    "#### 3. readlines() – Read All Lines as a List"
   ]
  },
  {
   "cell_type": "code",
   "execution_count": 21,
   "id": "c5931e76",
   "metadata": {},
   "outputs": [
    {
     "name": "stdout",
     "output_type": "stream",
     "text": [
      "['Welcome to this Module 07\\n', 'We will discuss the file handing\\n', 'And Solve Practices Problems']\n",
      "<class 'list'>\n"
     ]
    }
   ],
   "source": [
    "# Example: readlines()\n",
    "with open(\"mode_02.txt\", \"r\") as file:\n",
    "\n",
    "    entire_content = file.readlines()\n",
    "\n",
    "    print(entire_content)\n",
    "\n",
    "    print(type(entire_content))\n",
    "\n",
    "# note:\n",
    "# readlines return a list of string"
   ]
  },
  {
   "cell_type": "code",
   "execution_count": null,
   "id": "32a850b5",
   "metadata": {},
   "outputs": [
    {
     "name": "stdout",
     "output_type": "stream",
     "text": [
      "['Welcome to this Module 07', 'We will discuss the file handing', 'And Solve Practices Problems']\n"
     ]
    }
   ],
   "source": [
    "# another way to clear new line for above program.\n",
    "new_lst_str = []\n",
    "for i in entire_content:\n",
    "    i = i.strip()\n",
    "\n",
    "    new_lst_str.append(i)\n",
    "\n",
    "print(new_lst_str)\n"
   ]
  },
  {
   "cell_type": "code",
   "execution_count": 20,
   "id": "d329550b",
   "metadata": {},
   "outputs": [
    {
     "name": "stdout",
     "output_type": "stream",
     "text": [
      "Welcome to this Module 07 We will discuss the file handing And Solve Practices Problems "
     ]
    }
   ],
   "source": [
    "# clear the new line of the file\n",
    "\n",
    "with open(\"mode_02.txt\", \"r\") as file:\n",
    "\n",
    "    entire_content = file.readlines()\n",
    "\n",
    "    for item in entire_content:\n",
    "        item = item.strip()\n",
    "        print(item, end = \" \")\n"
   ]
  },
  {
   "cell_type": "markdown",
   "id": "33639c4e",
   "metadata": {},
   "source": [
    "#### 4. read(size) – Read Limited Characters"
   ]
  },
  {
   "cell_type": "code",
   "execution_count": null,
   "id": "3562e98b",
   "metadata": {},
   "outputs": [
    {
     "name": "stdout",
     "output_type": "stream",
     "text": [
      "This Repla\n",
      "ce the previous\n"
     ]
    }
   ],
   "source": [
    "# Example: read(size)\n",
    "\n",
    "with open(\"mode_01.txt\",\"r\") as file:\n",
    "\n",
    "    first_10_char = file.read(10)\n",
    "\n",
    "    print(first_10_char)  # o/p: first 10 characters\n",
    "\n",
    "    print(file.read(15)) # o/p: 15 characters after first 10 characters\n",
    "\n"
   ]
  },
  {
   "cell_type": "code",
   "execution_count": null,
   "id": "e7bacefc",
   "metadata": {},
   "outputs": [],
   "source": [
    "# Benefit of thos techinque : read(size)\n",
    "\n",
    "big_data = [\"Hello dear \" for i in range(1,100)]\n",
    "\n",
    "# write this big_data\n",
    "with open(\"Big_Data.txt\", \"w\") as file:\n",
    "    file.writelines(big_data)\n",
    "\n",
    "# read this big_data\n",
    "# we want to see 11 data load first iteration in this process...\n",
    "\n",
    "with open(\"Big_Data.txt\", \"r\") as file:\n",
    "    chunk_size = 11\n",
    "\n",
    "    data = file.read(chunk_size)  # first time : chunk_size = 11\n",
    "\n",
    "    while len(data) > 0:\n",
    "        print(data, end = \"** \")\n",
    "\n",
    "        data = file.read(chunk_size)\n",
    "\n",
    "\n",
    "# note: when we discuss the cursion topic then this concept will more easily understand"
   ]
  },
  {
   "cell_type": "markdown",
   "id": "5bdbce4d",
   "metadata": {},
   "source": [
    "### 5. Best Practices Example"
   ]
  },
  {
   "cell_type": "code",
   "execution_count": null,
   "id": "8417dcfe",
   "metadata": {},
   "outputs": [],
   "source": []
  },
  {
   "cell_type": "markdown",
   "id": "3b38775c",
   "metadata": {},
   "source": [
    "#### Example_02: Reading Text Data"
   ]
  },
  {
   "cell_type": "markdown",
   "id": "f9422cda",
   "metadata": {},
   "source": [
    "- problem: count the customier positive and negative reviews in a file.\n",
    "\n",
    "- step_01: first create a file and write and store\n",
    "\n",
    "    I love this product\n",
    "    The quality is amazing\n",
    "    Not worth the price\n",
    "    Totally recommend\n",
    "\n",
    "- step_02: then read the file and count the positive and nagative reviews\n"
   ]
  },
  {
   "cell_type": "code",
   "execution_count": 65,
   "id": "976f3f32",
   "metadata": {},
   "outputs": [],
   "source": [
    "# solve: \n",
    "# step_01: first create a file and write and store\n",
    "\n",
    "with open(\"Reviews.txt\", \"w\") as file:\n",
    "\n",
    "    file.write(\"I love this product\\n\")\n",
    "    file.write(\"The quality is amazing\\n\")\n",
    "    file.write(\"Not worth the price\\n\")\n",
    "    file.write(\"Totally recommend\")"
   ]
  },
  {
   "cell_type": "code",
   "execution_count": 72,
   "id": "f946ba9b",
   "metadata": {},
   "outputs": [],
   "source": [
    "# Step_02: read the file\n",
    "\n",
    "with open(\"Reviews.txt\", \"r\") as file:\n",
    "\n",
    "    all_reviews = file.readlines()\n"
   ]
  },
  {
   "cell_type": "code",
   "execution_count": 73,
   "id": "c6bf8301",
   "metadata": {},
   "outputs": [
    {
     "name": "stdout",
     "output_type": "stream",
     "text": [
      "Total Positive Reviews:  3\n",
      "Total Negativer Reviews:  1\n"
     ]
    }
   ],
   "source": [
    "positive_reviews = [r for r in all_reviews if \"love\" in r or \"amazing\" in r or \"recommend\" in r]\n",
    "\n",
    "negative_reviews = [r for r in all_reviews if \"Not\" in r or \"bad\" in r]\n",
    "\n",
    "print(\"Total Positive Reviews: \", len(positive_reviews))\n",
    "\n",
    "print(\"Total Negativer Reviews: \", len(negative_reviews))"
   ]
  }
 ],
 "metadata": {
  "kernelspec": {
   "display_name": "base",
   "language": "python",
   "name": "python3"
  },
  "language_info": {
   "codemirror_mode": {
    "name": "ipython",
    "version": 3
   },
   "file_extension": ".py",
   "mimetype": "text/x-python",
   "name": "python",
   "nbconvert_exporter": "python",
   "pygments_lexer": "ipython3",
   "version": "3.13.5"
  }
 },
 "nbformat": 4,
 "nbformat_minor": 5
}
