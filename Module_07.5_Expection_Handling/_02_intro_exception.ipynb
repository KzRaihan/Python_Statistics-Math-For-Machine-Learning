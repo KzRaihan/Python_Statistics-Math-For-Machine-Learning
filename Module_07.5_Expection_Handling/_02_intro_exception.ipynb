{
 "cells": [
  {
   "cell_type": "markdown",
   "id": "069282f7",
   "metadata": {},
   "source": [
    "## TOPIC: Introdunction of Expection handling"
   ]
  },
  {
   "cell_type": "markdown",
   "id": "04ff4c04",
   "metadata": {},
   "source": [
    "### OUTCOMES\n",
    "\n",
    "- 1. Definition of expection handling\n",
    "\n",
    "- 2. Perspective of Ml on Expection handling \n",
    "\n",
    "- 3. Syntax of Expection handling in python"
   ]
  },
  {
   "cell_type": "markdown",
   "id": "cde12afe",
   "metadata": {},
   "source": [
    "### 1. Definition of expection handling"
   ]
  },
  {
   "cell_type": "markdown",
   "id": "adc088c4",
   "metadata": {},
   "source": [
    "- Exception Handling in Python is the process of detecting and managing runtime errors to prevent a program from crashing unexpectedly.\n",
    "\n",
    "- Why It’s Important\n",
    "\n",
    "    - Prevents program crashes.\n",
    "\n",
    "    - Makes code more reliable and professional.\n",
    "\n",
    "    - Helps provide meaningful error messages to users."
   ]
  },
  {
   "cell_type": "markdown",
   "id": "dca0c629",
   "metadata": {},
   "source": [
    "### 2. Perspective of Ml on Expection handling "
   ]
  },
  {
   "cell_type": "markdown",
   "metadata": {},
   "source": [
    "- Errors Occures Area\n",
    "\n",
    "    - File load (if file is not exist)\n",
    "\n",
    "    - load big numbers of data (50 GB) but machine can't require space(4GM).\n",
    "\n",
    "    - Missiong key in json file format data\n",
    "\n",
    "    - imoport pandas without install. \n",
    "\n",
    "- To handle above case we use Expection handling on ML"
   ]
  },
  {
   "cell_type": "markdown",
   "id": "95823ae7",
   "metadata": {},
   "source": [
    "### 3. Syntax of Expection handling in python"
   ]
  },
  {
   "cell_type": "code",
   "execution_count": null,
   "id": "3a679757",
   "metadata": {},
   "outputs": [],
   "source": [
    "'''  \n",
    "\n",
    "try:\n",
    "    - here, The statement that's  errors must be arise(occure)\n",
    "\n",
    "except:\n",
    "    - here, handle the error that occure in try block (handle specific exception)\n",
    "\n",
    "else:\n",
    "    - here, if error is not arise in try block. (without raising an exception)\n",
    "\n",
    "finally:\n",
    "    - here, always run (if error is arise or not)\n",
    "    - ideal for cleanup (closing files, releasing resources).\n",
    "\n",
    "'''"
   ]
  },
  {
   "cell_type": "code",
   "execution_count": 2,
   "metadata": {},
   "outputs": [
    {
     "name": "stdout",
     "output_type": "stream",
     "text": [
      "Here num2 is zero. so can't divide by zero.\n",
      "Stop Execution\n"
     ]
    }
   ],
   "source": [
    "# Example: Expection handling\n",
    "\n",
    "try:\n",
    "    num2 = int(input(\"Enter second number: \"))\n",
    "\n",
    "    num1 = 10\n",
    "\n",
    "    div = num1/num2\n",
    "    \n",
    "except ZeroDivisionError:\n",
    "    print(\"Here num2 is zero. so can't divide by zero.\")\n",
    "\n",
    "else:\n",
    "    print(\"Answer: \", div)\n",
    "\n",
    "finally:\n",
    "    print(\"Stop Execution\")"
   ]
  }
 ],
 "metadata": {
  "kernelspec": {
   "display_name": "base",
   "language": "python",
   "name": "python3"
  },
  "language_info": {
   "codemirror_mode": {
    "name": "ipython",
    "version": 3
   },
   "file_extension": ".py",
   "mimetype": "text/x-python",
   "name": "python",
   "nbconvert_exporter": "python",
   "pygments_lexer": "ipython3",
   "version": "3.13.5"
  }
 },
 "nbformat": 4,
 "nbformat_minor": 5
}
