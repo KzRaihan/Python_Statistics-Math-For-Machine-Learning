{
 "cells": [
  {
   "cell_type": "markdown",
   "id": "354b4fe5",
   "metadata": {},
   "source": [
    "### Topic: How to Handle Expection in Python"
   ]
  },
  {
   "cell_type": "code",
   "execution_count": null,
   "id": "b6e9141c",
   "metadata": {},
   "outputs": [],
   "source": [
    "# Basic syntax \n",
    "\n",
    "'''   \n",
    "try:\n",
    "    - arise error or Expection\n",
    "\n",
    "except 1:\n",
    "    - user frieldly message to handle Expection\n",
    "\n",
    "except 2:\n",
    "    - user frieldly message to handle Expection\n",
    "\n",
    "...........\n",
    "...........\n",
    "\n",
    "else:   # optional\n",
    "    when try block can't arise any errors\n",
    "\n",
    "'''\n",
    "\n",
    "\n",
    "# try block contain:\n",
    "# - External Resource (like access file)\n",
    "# - DataBase connection\n",
    "\n",
    "# except:\n",
    "# except expection_name:\n",
    "#    - message-\n",
    "\n"
   ]
  },
  {
   "cell_type": "code",
   "execution_count": 3,
   "id": "764bb4a5",
   "metadata": {},
   "outputs": [
    {
     "name": "stdout",
     "output_type": "stream",
     "text": [
      "Your file is not found\n"
     ]
    }
   ],
   "source": [
    "# Example_01: To read a file that is not exist \n",
    "\n",
    "try:\n",
    "    with open(\"sample.txt\", \"r\") as f:\n",
    "        f.read()\n",
    "        \n",
    "except FileNotFoundError :\n",
    "    print(\"Your file is not found\")\n"
   ]
  },
  {
   "cell_type": "code",
   "execution_count": 4,
   "id": "7a19e57f",
   "metadata": {},
   "outputs": [],
   "source": [
    "# create a file\n",
    "with open(\"sample.txt\", \"w+\") as f:\n",
    "    f.write(\"This is simple file\")"
   ]
  },
  {
   "cell_type": "code",
   "execution_count": 8,
   "id": "b53eeda2",
   "metadata": {},
   "outputs": [
    {
     "name": "stdout",
     "output_type": "stream",
     "text": [
      "This is simple file\n"
     ]
    }
   ],
   "source": [
    "# if file is exist\n",
    "try:\n",
    "    f = open(\"sample.txt\", \"r+\")\n",
    "    \n",
    "except FileNotFoundError :\n",
    "    print(\"Your file is missing\")\n",
    "\n",
    "else:\n",
    "    print(f.read())\n",
    "\n"
   ]
  },
  {
   "cell_type": "markdown",
   "id": "ed228eb5",
   "metadata": {},
   "source": [
    "### How to Catch/Expect specific Exception"
   ]
  },
  {
   "cell_type": "code",
   "execution_count": 13,
   "id": "64a19323",
   "metadata": {},
   "outputs": [
    {
     "name": "stdout",
     "output_type": "stream",
     "text": [
      "Some Errors try again...\n"
     ]
    }
   ],
   "source": [
    "# case_01\n",
    "try:\n",
    "    f = open(\"sample1.txt\", \"r\")\n",
    "\n",
    "    print(f.read())  \n",
    "\n",
    "    print(n)\n",
    "\n",
    "except:\n",
    "    print(\"Some Errors try again...\")\n",
    "\n",
    "# here\n",
    "# first Expection : file is not exist \n",
    "# second Expection: n is not define\n",
    "\n",
    "# for both Expection show output: Some Errors try again...\n",
    "# this is not a good way to handle exception"
   ]
  },
  {
   "cell_type": "code",
   "execution_count": 23,
   "id": "57be19c3",
   "metadata": {},
   "outputs": [
    {
     "name": "stdout",
     "output_type": "stream",
     "text": [
      "Variable not define\n"
     ]
    }
   ],
   "source": [
    "# Case_02: to solve that Expection with specific message\n",
    "\n",
    "try:\n",
    "    # f = open(\"sample1.txt\", \"r\")\n",
    "\n",
    "    print(nnnn)\n",
    "\n",
    "except FileNotFoundError:\n",
    "    print(\"Your File is Missing\")\n",
    "\n",
    "except NameError:\n",
    "    print(\"Variable not define\")\n",
    "\n"
   ]
  },
  {
   "cell_type": "code",
   "execution_count": 12,
   "id": "578b90b2",
   "metadata": {},
   "outputs": [
    {
     "name": "stdout",
     "output_type": "stream",
     "text": [
      "Enter Valid integer\n"
     ]
    }
   ],
   "source": [
    "# Example: Expection handling\n",
    "\n",
    "try:\n",
    "    num1 = 10\n",
    "    num2 = int(input(\"Enter 2nd number: \"))\n",
    "\n",
    "    div = num1 / num2\n",
    "\n",
    "except ZeroDivisionError:\n",
    "    print(\"Can't divide by num2 which is zero\")\n",
    "\n",
    "except ValueError:\n",
    "    print(\"Enter Valid integer\")\n",
    "\n",
    "\n"
   ]
  },
  {
   "cell_type": "markdown",
   "id": "29a2f166",
   "metadata": {},
   "source": [
    "- except Exception as e:\n",
    "    print(e)\n",
    "\n",
    "- here\n",
    "    - Excpetion  => is a class that can catch any error type\n",
    "\n",
    "    -       e    => is an object (instance) that holds the error message.\n",
    "\n",
    "- It's used at the end of all exception blocks.\n",
    "\n",
    "- It helps catch unexpected or unknown errors."
   ]
  },
  {
   "cell_type": "code",
   "execution_count": 30,
   "id": "fb69ed6f",
   "metadata": {},
   "outputs": [
    {
     "name": "stdout",
     "output_type": "stream",
     "text": [
      "division by zero\n"
     ]
    }
   ],
   "source": [
    "# Example: Expection handling with Exception class\n",
    "\n",
    "\n",
    "try:\n",
    "    # val = int('a')\n",
    "    num = 10/0\n",
    "\n",
    "except ValueError:\n",
    "    print(f\"val an inappropriate type\")\n",
    "\n",
    "# except ZeroDivisionError as zd:\n",
    "#     print(zd)\n",
    "\n",
    "except Exception as e:\n",
    "    print(e)\n",
    "\n"
   ]
  },
  {
   "cell_type": "code",
   "execution_count": 41,
   "id": "7e7fcada",
   "metadata": {},
   "outputs": [
    {
     "name": "stdout",
     "output_type": "stream",
     "text": [
      "name 'n' is not defined\n",
      "<built-in method with_traceback of NameError object at 0x000001E81A9C94E0>\n"
     ]
    }
   ],
   "source": [
    "# Example : Expection hanlding with Exception\n",
    "\n",
    "try:\n",
    "    nm = n\n",
    "\n",
    "\n",
    "except Exception as e:\n",
    "    print(e)  # this give us : the origional message \n",
    "    print(e.with_traceback) # this line give us: the expection(error) type and it's location\n",
    "    \n",
    "\n",
    "## NOTE:\n",
    "# - when we don't know the which type of execution then we use Exception class to find the error(execution) name"
   ]
  },
  {
   "cell_type": "code",
   "execution_count": 51,
   "id": "c1816138",
   "metadata": {},
   "outputs": [
    {
     "name": "stdout",
     "output_type": "stream",
     "text": [
      "variable name is not define\n",
      "Stop program.\n"
     ]
    }
   ],
   "source": [
    "# Example : Expection hanlding with Exception cls, else, finally\n",
    "\n",
    "lst = [10, 20, 30]\n",
    "\n",
    "try:\n",
    "    nn = num    # NameError\n",
    "\n",
    "    x = int('a') # ValueError\n",
    "\n",
    "    ans = 'a' + 10 # TypeError\n",
    "\n",
    "    idx = lst[20]  # indexError\n",
    "\n",
    "    att = lst.lower() # attributeError\n",
    "\n",
    "    div = 10/0   # ZeroDivisionError\n",
    "\n",
    "\n",
    "except NameError:\n",
    "    print(\"variable name is not define\")\n",
    "\n",
    "except ValueError:\n",
    "    print(\"Can't convert string to integer\")\n",
    "\n",
    "except TypeError:\n",
    "    print(\"We can't perfrom add operation str and nums\")\n",
    "\n",
    "except IndexError:\n",
    "    print(\"idx is not valid\")\n",
    "\n",
    "except AttributeError:\n",
    "    print(\"List can't have lower() Method\")\n",
    "\n",
    "except ZeroDivisionError:\n",
    "    print(\"Can't divide by zero\")\n",
    "\n",
    "except Exception as e:\n",
    "    print(e)\n",
    "\n",
    "else:\n",
    "    print(\"Program is run..\")\n",
    "\n",
    "\n",
    "finally:\n",
    "    print(\"Stop program.\")\n",
    "\n"
   ]
  }
 ],
 "metadata": {
  "kernelspec": {
   "display_name": "base",
   "language": "python",
   "name": "python3"
  },
  "language_info": {
   "codemirror_mode": {
    "name": "ipython",
    "version": 3
   },
   "file_extension": ".py",
   "mimetype": "text/x-python",
   "name": "python",
   "nbconvert_exporter": "python",
   "pygments_lexer": "ipython3",
   "version": "3.13.5"
  }
 },
 "nbformat": 4,
 "nbformat_minor": 5
}
