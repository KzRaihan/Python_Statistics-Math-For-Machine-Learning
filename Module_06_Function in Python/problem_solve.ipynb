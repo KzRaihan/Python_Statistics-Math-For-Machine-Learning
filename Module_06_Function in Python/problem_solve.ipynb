{
 "cells": [
  {
   "cell_type": "markdown",
   "id": "9c74f6d5",
   "metadata": {},
   "source": [
    "## Problem solving using python function"
   ]
  },
  {
   "cell_type": "markdown",
   "id": "c5b3cdaa",
   "metadata": {},
   "source": [
    "### 1. Given an array A of size N. Print the minimum and the maximum number in the array.\n",
    "# problem link: https://codeforces.com/group/MWSDmqGsZm/contest/223205/problem/G\n",
    "\n",
    "Note: Solve this problem using function.\n",
    "\n",
    "Output\n",
    "Print the minimum and the maximum number separated by a space.\n",
    "\n",
    "Example\n",
    "Input\n",
    "5\n",
    "10 13 95 1 3\n",
    "Output\n",
    "1 95"
   ]
  },
  {
   "cell_type": "code",
   "execution_count": null,
   "id": "e7931067",
   "metadata": {},
   "outputs": [
    {
     "name": "stdout",
     "output_type": "stream",
     "text": [
      "1 95\n"
     ]
    }
   ],
   "source": [
    "# way_01: To solve general funtion\n",
    "\n",
    "def min_max(lst):\n",
    "\n",
    "    # let assume\n",
    "    min = lst[0]\n",
    "    max = lst[0]\n",
    "\n",
    "    # find min\n",
    "    for i in lst:\n",
    "        if i < min:\n",
    "            min = i\n",
    "        elif i > max:\n",
    "            max = i\n",
    "    \n",
    "    return min, max\n",
    "\n",
    "\n",
    "user_data = input() # str\n",
    "\n",
    "# str to int\n",
    "int_n = int(user_data)\n",
    "\n",
    "\n",
    "# for input in_n numbers of string\n",
    "second_input = input()\n",
    "\n",
    "# conver n numbers into str of list of string\n",
    "str_lst = second_input.split()\n",
    "\n",
    "# convert string of list to number (int)\n",
    "nums_lst = []\n",
    "\n",
    "for i in str_lst:\n",
    "    i = int(i)\n",
    "\n",
    "    nums_lst.append(i)\n",
    "\n",
    "\n",
    "min_val , max_val = min_max(nums_lst)\n",
    "\n",
    "print(min_val, max_val)\n",
    "\n"
   ]
  },
  {
   "cell_type": "code",
   "execution_count": 33,
   "id": "277cb6b9",
   "metadata": {},
   "outputs": [
    {
     "name": "stdout",
     "output_type": "stream",
     "text": [
      "2 45\n"
     ]
    }
   ],
   "source": [
    "## way_02: To solve using lambda function\n",
    "from functools import reduce\n",
    "\n",
    "user_data = input() \n",
    "int_n = int(user_data)\n",
    "\n",
    "second_input = input()\n",
    "str_lst = second_input.split()\n",
    "\n",
    "nums_lst = []\n",
    "\n",
    "for i in str_lst:\n",
    "    i = int(i)\n",
    "\n",
    "    nums_lst.append(i)\n",
    "\n",
    "\n",
    "min_val = reduce(lambda x,y: x if x < y else y, nums_lst)\n",
    "\n",
    "max_val = reduce(lambda x,y: x if x > y else y, nums_lst)\n",
    "\n",
    "print(min_val, max_val)\n",
    "\n"
   ]
  },
  {
   "cell_type": "markdown",
   "id": "040b0231",
   "metadata": {},
   "source": [
    "### J. Average\n",
    "- link: https://codeforces.com/group/MWSDmqGsZm/contest/223205/problem/J"
   ]
  },
  {
   "cell_type": "markdown",
   "id": "b8c09d8a",
   "metadata": {},
   "source": [
    "Given an array A\n",
    " of size N\n",
    ". Print the average(mean) of the array numbers.\n",
    "\n",
    "Note: Solve this problem using function.\n",
    "\n",
    "Input\n",
    "4\n",
    "1.0 7.0 4.0 9.0\n",
    "Output\n",
    "5.2500000"
   ]
  },
  {
   "cell_type": "code",
   "execution_count": null,
   "id": "9cb777f5",
   "metadata": {},
   "outputs": [
    {
     "name": "stdout",
     "output_type": "stream",
     "text": [
      "5.2500000\n"
     ]
    }
   ],
   "source": [
    "# way_01 : to solution\n",
    "\n",
    "from functools import reduce\n",
    "\n",
    "# 1st input\n",
    "inp_n = input()\n",
    "\n",
    "# 2nd input\n",
    "user_ips = input()\n",
    "\n",
    "str_lst = user_ips.split()\n",
    "\n",
    "nums = []\n",
    "\n",
    "for i in str_lst:\n",
    "    i = float(i)\n",
    "\n",
    "    nums.append(i)\n",
    "\n",
    "summation = reduce(lambda x,y:x+y, nums)\n",
    "\n",
    "length = len(nums)\n",
    "\n",
    "avg = summation/length\n",
    "\n",
    "print(f\"{avg:.7f}\")\n",
    "\n",
    "\n",
    "### NOTE:\n",
    "'''  \n",
    "\n",
    "# 2nd input : this logic is not posible is this case . because second input format.\n",
    "\n",
    "i = 0\n",
    "\n",
    "while i < nums_inp:\n",
    "\n",
    "    user_ips = input()\n",
    "\n",
    "    str_lst = user_ips.split()\n",
    "\n",
    "    nums = []\n",
    "\n",
    "    for j in str_lst:\n",
    "        j = int(i)\n",
    "\n",
    "        nums.append(j)\n",
    "\n",
    "    i += 1\n",
    "\n",
    "\n",
    "\n",
    "\n",
    "'''"
   ]
  },
  {
   "cell_type": "markdown",
   "id": "47d1512b",
   "metadata": {},
   "source": [
    "### L. New Array\n",
    "\n",
    "- problem link: https://codeforces.com/group/MWSDmqGsZm/contest/223205/problem/L"
   ]
  },
  {
   "cell_type": "markdown",
   "id": "f8fef756",
   "metadata": {},
   "source": [
    "Given two arrays A\n",
    " and B\n",
    " of size N\n",
    ". Print a new array C\n",
    " that holds the concatenation of array B\n",
    " followed by array A\n",
    ".\n",
    "\n",
    "Note: Solve this problem using function.\n",
    "\n",
    "Input\n",
    "First line will contain a number N\n",
    " (1≤N≤103)\n",
    ".\n",
    "\n",
    "Second line will contain N\n",
    " numbers (1≤Ai≤105)\n",
    " array A\n",
    " elements.\n",
    "\n",
    "Third line will contain N\n",
    " numbers (1≤Bi≤105)\n",
    " array B\n",
    " elements.\n",
    "\n",
    "Output\n",
    "Print array C\n",
    " elements separated by space.\n",
    "\n",
    "Example\n",
    "InputCopy\n",
    "2\n",
    "1 2\n",
    "3 4\n",
    "OutputCopy\n",
    "3 4 1 2 "
   ]
  },
  {
   "cell_type": "code",
   "execution_count": null,
   "id": "451ffa92",
   "metadata": {},
   "outputs": [
    {
     "name": "stdout",
     "output_type": "stream",
     "text": [
      "3 4 1 2\n"
     ]
    }
   ],
   "source": [
    "# solve :  L. New Array\n",
    "def input_array_nums(): \n",
    "    # input \n",
    "    arr1 = input()\n",
    "    # convert to lst of str\n",
    "    str_arr = arr1.split()\n",
    "\n",
    "    # convert to list of nums\n",
    "    num_lst = []\n",
    "\n",
    "    for i in str_arr:\n",
    "        i = int(i)\n",
    "        num_lst.append(i)\n",
    "\n",
    "    return num_lst\n",
    "\n",
    "\n",
    "# 1st input\n",
    "inp_n = input()\n",
    "\n",
    "arr_a = input_array_nums()\n",
    "\n",
    "arr_b = input_array_nums()\n",
    "\n",
    "arr_c = arr_b + arr_a\n",
    "\n",
    "# convert to str\n",
    "str_c = []\n",
    "for i in arr_c:\n",
    "    i = str(i)\n",
    "    str_c.append(i)\n",
    "\n",
    "result = \" \".join(str_c)\n",
    "\n",
    "\n",
    "print(result)\n"
   ]
  },
  {
   "cell_type": "markdown",
   "id": "1a98d34a",
   "metadata": {},
   "source": [
    "Problem_001:\n",
    "- link: https://www.hackerrank.com/challenges/python-print/problem?isFullScreen=true"
   ]
  },
  {
   "cell_type": "markdown",
   "id": "3d4b8b33",
   "metadata": {},
   "source": [
    "### Input Format\n",
    "The first line contains an integer.\n",
    "\n",
    "Output Format\n",
    "Print the list of integers from  through  as a string, without spaces.\n",
    "\n",
    "3\n",
    "123"
   ]
  },
  {
   "cell_type": "code",
   "execution_count": null,
   "id": "c1da6d2f",
   "metadata": {},
   "outputs": [
    {
     "name": "stdout",
     "output_type": "stream",
     "text": [
      "123"
     ]
    }
   ],
   "source": [
    "# solve Problem_001:\n",
    "def str_nums(n):\n",
    "    i = 1\n",
    "    while i <= n:\n",
    "        print(i, end = \"\")\n",
    "        i += 1\n",
    "        \n",
    "n = int(input())  # 3\n",
    "str_nums(n)\n",
    "\n",
    "\n"
   ]
  },
  {
   "cell_type": "code",
   "execution_count": null,
   "id": "4d8e4385",
   "metadata": {},
   "outputs": [],
   "source": []
  }
 ],
 "metadata": {
  "kernelspec": {
   "display_name": "base",
   "language": "python",
   "name": "python3"
  },
  "language_info": {
   "codemirror_mode": {
    "name": "ipython",
    "version": 3
   },
   "file_extension": ".py",
   "mimetype": "text/x-python",
   "name": "python",
   "nbconvert_exporter": "python",
   "pygments_lexer": "ipython3",
   "version": "3.13.5"
  }
 },
 "nbformat": 4,
 "nbformat_minor": 5
}
