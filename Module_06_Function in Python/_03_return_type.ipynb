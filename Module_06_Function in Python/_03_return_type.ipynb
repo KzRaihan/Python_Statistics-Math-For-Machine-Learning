{
 "cells": [
  {
   "cell_type": "markdown",
   "id": "e36ae9af",
   "metadata": {},
   "source": [
    "## Topic: Function Return Type "
   ]
  },
  {
   "cell_type": "code",
   "execution_count": 1,
   "id": "ede015ba",
   "metadata": {},
   "outputs": [
    {
     "name": "stdout",
     "output_type": "stream",
     "text": [
      "<class 'int'>\n"
     ]
    }
   ],
   "source": [
    "# Funtion Return as integer\n",
    "\n",
    "def int_function():\n",
    "\n",
    "    return 10\n",
    "\n",
    "print(type(int_function()))"
   ]
  },
  {
   "cell_type": "code",
   "execution_count": 3,
   "id": "974266aa",
   "metadata": {},
   "outputs": [
    {
     "name": "stdout",
     "output_type": "stream",
     "text": [
      "<class 'float'>\n"
     ]
    }
   ],
   "source": [
    "# Funtion Return as float\n",
    "\n",
    "def float_function():\n",
    "\n",
    "    num1 = 10; num2 = 20\n",
    "\n",
    "    div = num1/num2\n",
    "\n",
    "    return div\n",
    "\n",
    "print(type(float_function()))"
   ]
  },
  {
   "cell_type": "code",
   "execution_count": 4,
   "id": "def0d158",
   "metadata": {},
   "outputs": [
    {
     "name": "stdout",
     "output_type": "stream",
     "text": [
      "Hello - {name}\n",
      "<class 'str'>\n"
     ]
    }
   ],
   "source": [
    "# Funtion Return as string\n",
    "\n",
    "def str_function(name):\n",
    "    \n",
    "    print(\"Hello - {name}\")\n",
    "\n",
    "    return name\n",
    "\n",
    "print(type(str_function(\"Kz\")))"
   ]
  },
  {
   "cell_type": "code",
   "execution_count": null,
   "id": "00ecc0d3",
   "metadata": {},
   "outputs": [
    {
     "name": "stdout",
     "output_type": "stream",
     "text": [
      "<class 'tuple'>\n"
     ]
    }
   ],
   "source": [
    "# Return tuple\n",
    "def tpl_function():\n",
    "\n",
    "    return 10,20,30\n",
    "\n",
    "print(type(tpl_function()))"
   ]
  },
  {
   "cell_type": "code",
   "execution_count": null,
   "id": "9bdd2366",
   "metadata": {},
   "outputs": [
    {
     "name": "stdout",
     "output_type": "stream",
     "text": [
      "10\n",
      "20\n",
      "30\n",
      "<class 'int'>\n",
      "<class 'tuple'>\n"
     ]
    }
   ],
   "source": [
    "# Tuple Packing and unpacking \n",
    "# Return tuple\n",
    "def tpl_function():\n",
    "\n",
    "    return 10,20,30   # packing as tuple\n",
    "\n",
    "num1, num2, num3 = tpl_function()   # unpacking \n",
    "\n",
    "print(num1)\n",
    "print(num2)\n",
    "print(num3)\n",
    "\n",
    "print(type(num1))\n",
    "print(type(tpl_function()))\n",
    "\n",
    "\n",
    "### NOTE:\n",
    "# we can see packing and unpacking case in train,test split in scikit-learn package."
   ]
  },
  {
   "cell_type": "code",
   "execution_count": 11,
   "id": "245294ad",
   "metadata": {},
   "outputs": [
    {
     "name": "stdout",
     "output_type": "stream",
     "text": [
      "<class 'list'>\n"
     ]
    }
   ],
   "source": [
    "# Function Return as list\n",
    "\n",
    "def lst_funtion():\n",
    "    \n",
    "    lst = [10, 20, 30]\n",
    "\n",
    "    return lst\n",
    "\n",
    "print(type(lst_funtion()))\n"
   ]
  },
  {
   "cell_type": "code",
   "execution_count": null,
   "id": "9bc0f99d",
   "metadata": {},
   "outputs": [
    {
     "name": "stdout",
     "output_type": "stream",
     "text": [
      "<class 'tuple'>\n",
      "[10, 20, 30] [40, 50, 60] <class 'list'>\n"
     ]
    }
   ],
   "source": [
    "# Function Return as list\n",
    "\n",
    "def lst_funtion():\n",
    "    \n",
    "    lst_1 = [10, 20, 30]\n",
    "    \n",
    "    lst_2 = [40, 50, 60]\n",
    "\n",
    "    return lst_1, lst_2  # packing as tuple of list.\n",
    "\n",
    "print(type(lst_funtion()))\n",
    "\n",
    "item_1, item_2 = lst_funtion()  # unpacking tuple to list\n",
    "\n",
    "print(item_1, item_2, type(item_1))"
   ]
  },
  {
   "cell_type": "code",
   "execution_count": null,
   "id": "d4cd0ada",
   "metadata": {},
   "outputs": [
    {
     "name": "stdout",
     "output_type": "stream",
     "text": [
      "{10, 20, 30} <class 'set'>\n"
     ]
    }
   ],
   "source": [
    "# Function Return as set\n",
    "\n",
    "def set_a(st):\n",
    "    st.add(40)\n",
    "\n",
    "    return st\n",
    "\n",
    "st = {10, 20, 30}\n",
    "\n",
    "print(st, type(st))\n"
   ]
  },
  {
   "cell_type": "code",
   "execution_count": null,
   "id": "2ca3bcb8",
   "metadata": {},
   "outputs": [
    {
     "name": "stdout",
     "output_type": "stream",
     "text": [
      "<class 'set'>\n"
     ]
    },
    {
     "data": {
      "text/plain": [
       "dict_values(['Kz', 10, [20, 30, 40], {10, 20, 30}])"
      ]
     },
     "execution_count": 19,
     "metadata": {},
     "output_type": "execute_result"
    }
   ],
   "source": [
    "# Function Return as dictionary\n",
    "\n",
    "def dic_func():\n",
    "    dic = {\n",
    "        \"name\": \"Kz\",\n",
    "        \"class\": 10,\n",
    "        \"mark\" : [20, 30, 40],\n",
    "        \"seta\" : {10,10,20,30}\n",
    "    }\n",
    "    # print(type(dic[\"seta\"]))\n",
    "\n",
    "    return dic.values()\n",
    "\n",
    "dic_func()\n",
    "\n"
   ]
  },
  {
   "cell_type": "code",
   "execution_count": 21,
   "id": "48fcde36",
   "metadata": {},
   "outputs": [
    {
     "name": "stdout",
     "output_type": "stream",
     "text": [
      "outter function\n",
      "inner function\n"
     ]
    }
   ],
   "source": [
    "# functioin return function\n",
    "\n",
    "def fun_01():\n",
    "    print(\"outter function\")\n",
    "\n",
    "    def fun_02():\n",
    "        print(\"inner function\")\n",
    "    \n",
    "    return fun_02()\n",
    "\n",
    "fun_01()"
   ]
  }
 ],
 "metadata": {
  "kernelspec": {
   "display_name": "base",
   "language": "python",
   "name": "python3"
  },
  "language_info": {
   "codemirror_mode": {
    "name": "ipython",
    "version": 3
   },
   "file_extension": ".py",
   "mimetype": "text/x-python",
   "name": "python",
   "nbconvert_exporter": "python",
   "pygments_lexer": "ipython3",
   "version": "3.13.5"
  }
 },
 "nbformat": 4,
 "nbformat_minor": 5
}
