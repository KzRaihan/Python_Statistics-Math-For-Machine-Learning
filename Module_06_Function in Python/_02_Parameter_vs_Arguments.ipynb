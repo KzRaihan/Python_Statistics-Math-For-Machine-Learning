{
 "cells": [
  {
   "cell_type": "markdown",
   "id": "82714ba8",
   "metadata": {},
   "source": [
    "## Topic: Parameter and Arguments in python"
   ]
  },
  {
   "cell_type": "markdown",
   "id": "07d69a86",
   "metadata": {},
   "source": [
    "### OUTCOMES\n",
    "\n",
    "- 1. Introducntion of parameter and arguments \n",
    "\n",
    "- 2. Type of arguments\n",
    "\n",
    "    - Positional Arguments\n",
    "\n",
    "    - Keyword Arguments \n",
    "\n",
    "    - Default Arguments\n",
    "\n",
    "    - variable length of positonal arguments\n",
    "\n",
    "    - variable length of keyword arguments"
   ]
  },
  {
   "cell_type": "markdown",
   "id": "e25e92ff",
   "metadata": {},
   "source": [
    "### 1. Introducntion of parameter and arguments "
   ]
  },
  {
   "cell_type": "markdown",
   "id": "b625caa6",
   "metadata": {},
   "source": [
    "- Parameters:\n",
    "    - input of the function is called Parameters\n",
    "\n",
    "    - postion of parameter: when declaration the function wihtin the parenthesis ().\n",
    "\n",
    "- Arguments:\n",
    "    - Arguments pass the to parameters.\n",
    "\n",
    "    - position of argument: when call the function within the parenthesis()."
   ]
  },
  {
   "cell_type": "code",
   "execution_count": 2,
   "id": "6fb1eba6",
   "metadata": {},
   "outputs": [
    {
     "name": "stdout",
     "output_type": "stream",
     "text": [
      "num1 + num2: 30\n"
     ]
    }
   ],
   "source": [
    "## Example of Argument and parameter\n",
    "\n",
    "def addition(num1, num2):  # here num1, num2 is parameters(like variable)\n",
    "    print(f\"num1 + num2: {num1 + num2}\")\n",
    "\n",
    "addition(10, 20)  # here, 10 and 20 is argument(like real numbers)"
   ]
  },
  {
   "cell_type": "markdown",
   "id": "5ad84419",
   "metadata": {},
   "source": [
    "### 2. Type of arguments"
   ]
  },
  {
   "cell_type": "markdown",
   "id": "b24bace4",
   "metadata": {},
   "source": [
    "- 1. Positional Arguments\n",
    "\n",
    "- 2. Keyword Arguments \n",
    "\n",
    "- 3. Default Arguments\n",
    "\n",
    "- 4. variable length of positonal arguments\n",
    "\n",
    "- 5. variable length of keyword arguments"
   ]
  },
  {
   "cell_type": "markdown",
   "id": "5a648db5",
   "metadata": {},
   "source": [
    "#### 1. Positional Arguments"
   ]
  },
  {
   "cell_type": "markdown",
   "id": "672b0901",
   "metadata": {},
   "source": [
    "- Positional Arguments depends on the position of argument"
   ]
  },
  {
   "cell_type": "code",
   "execution_count": null,
   "id": "141fde65",
   "metadata": {},
   "outputs": [
    {
     "name": "stdout",
     "output_type": "stream",
     "text": [
      "27510\n"
     ]
    }
   ],
   "source": [
    "# Example: calculate the summation square of numbers then add 10\n",
    "\n",
    "def square_nums(num1, num2, num3):\n",
    "\n",
    "    num1 = num1 ** 2\n",
    "    num2 = num2 ** 2\n",
    "    num3 = num3 ** 3\n",
    "\n",
    "    summation = num1 + num2 + num3\n",
    "\n",
    "    return summation + 10\n",
    "\n",
    "ans = square_nums(10, 20, 30)\n",
    "\n",
    "print(ans)\n",
    "\n",
    "\n",
    "'''  \n",
    "here how to work\n",
    "    - First arguement(10) pass to the value in First parameter(num1)\n",
    "    \n",
    "    - then second arguments(20) pass to the value in second parameter(num2)\n",
    "\n",
    "    - then Third arguments(30) pass to the value in second parameter(num3)\n",
    "\n",
    "    - in this sequence all arguements pass the values into parameters so, it's depence on the position of that way it's positional arguments.\n",
    "\n",
    "\n",
    "'''\n",
    "# Here, parameter depands on the arguments position"
   ]
  },
  {
   "cell_type": "code",
   "execution_count": 6,
   "id": "f9ec6aff",
   "metadata": {},
   "outputs": [
    {
     "name": "stdout",
     "output_type": "stream",
     "text": [
      "Area of Circle - 200.96\n"
     ]
    }
   ],
   "source": [
    "# Example : Create an user define function to calculate Area of Circle.\n",
    "\n",
    "def circle_area(redius):\n",
    "    area = 3.14 * redius * redius\n",
    "\n",
    "    return area\n",
    "\n",
    "ans = circle_area(8)\n",
    "\n",
    "print(f\"Area of Circle - {ans}\")"
   ]
  },
  {
   "cell_type": "markdown",
   "id": "3bf7eadb",
   "metadata": {},
   "source": [
    "#### 2. Keyword Arguments "
   ]
  },
  {
   "cell_type": "markdown",
   "id": "aac21823",
   "metadata": {},
   "source": [
    "- When Parameters can't depands on the position of the argument then we use keyword arguments."
   ]
  },
  {
   "cell_type": "code",
   "execution_count": null,
   "id": "c997e56a",
   "metadata": {},
   "outputs": [
    {
     "name": "stdout",
     "output_type": "stream",
     "text": [
      "Num1 - 20, Num2 - 30 and Num3 - 10\n",
      "2310\n"
     ]
    }
   ],
   "source": [
    "def square_nums(num1, num2, num3):\n",
    "\n",
    "    print(f\"Num1 - {num1}, Num2 - {num2} and Num3 - {num3}\")\n",
    "\n",
    "    num1 = num1 ** 2\n",
    "    num2 = num2 ** 2\n",
    "    num3 = num3 ** 3\n",
    "\n",
    "    summation = num1 + num2 + num3\n",
    "\n",
    "    return summation + 10\n",
    "\n",
    "ans = square_nums(num3 = 10, num1 =20, num2 = 30)\n",
    "\n",
    "print(ans)\n",
    "\n",
    "\n",
    "### NOTE\n",
    "'''  \n",
    "    - Pass the argument values according to parameter names\n",
    "'''"
   ]
  },
  {
   "cell_type": "code",
   "execution_count": null,
   "id": "6709688f",
   "metadata": {},
   "outputs": [
    {
     "ename": "TypeError",
     "evalue": "square_nums() missing 1 required positional argument: 'num2'",
     "output_type": "error",
     "traceback": [
      "\u001b[1;31m---------------------------------------------------------------------------\u001b[0m",
      "\u001b[1;31mTypeError\u001b[0m                                 Traceback (most recent call last)",
      "Cell \u001b[1;32mIn[7], line 15\u001b[0m\n\u001b[0;32m     11\u001b[0m     summation \u001b[38;5;241m=\u001b[39m num1 \u001b[38;5;241m+\u001b[39m num2 \u001b[38;5;241m+\u001b[39m num3\n\u001b[0;32m     13\u001b[0m     \u001b[38;5;28;01mreturn\u001b[39;00m summation \u001b[38;5;241m+\u001b[39m \u001b[38;5;241m10\u001b[39m\n\u001b[1;32m---> 15\u001b[0m ans \u001b[38;5;241m=\u001b[39m square_nums(num3 \u001b[38;5;241m=\u001b[39m \u001b[38;5;241m10\u001b[39m, num1 \u001b[38;5;241m=\u001b[39m\u001b[38;5;241m20\u001b[39m)\n\u001b[0;32m     17\u001b[0m \u001b[38;5;28mprint\u001b[39m(ans)\n",
      "\u001b[1;31mTypeError\u001b[0m: square_nums() missing 1 required positional argument: 'num2'"
     ]
    }
   ],
   "source": [
    "# if function need three parameter but pass two\n",
    "\n",
    "def square_nums(num1, num2, num3):\n",
    "\n",
    "    print(f\"Num1 - {num1}, Num2 - {num2} and Num3 - {num3}\")\n",
    "\n",
    "    num1 = num1 ** 2\n",
    "    num2 = num2 ** 2\n",
    "    num3 = num3 ** 3\n",
    "\n",
    "    summation = num1 + num2 + num3\n",
    "\n",
    "    return summation + 10\n",
    "\n",
    "ans = square_nums(num3 = 10, num1 =20)\n",
    "\n",
    "print(ans)\n",
    "\n",
    "# then it's generate error \n",
    "# To solve this error by using Default Arguments"
   ]
  },
  {
   "cell_type": "markdown",
   "id": "0b198520",
   "metadata": {},
   "source": [
    "#### 3. Default Arguments"
   ]
  },
  {
   "cell_type": "code",
   "execution_count": null,
   "id": "7a0e6bdd",
   "metadata": {},
   "outputs": [
    {
     "name": "stdout",
     "output_type": "stream",
     "text": [
      "Num1 - 10, Num2 - 20 and Num3 - 30\n",
      "27510\n"
     ]
    }
   ],
   "source": [
    "# Example: Default Argument\n",
    "\n",
    "def square_nums(num1, num2, num3 =30): \n",
    "\n",
    "    print(f\"Num1 - {num1}, Num2 - {num2} and Num3 - {num3}\")\n",
    "\n",
    "    num1 = num1 ** 2\n",
    "    num2 = num2 ** 2\n",
    "    num3 = num3 ** 3\n",
    "\n",
    "    summation = num1 + num2 + num3\n",
    "\n",
    "    return summation + 10\n",
    "\n",
    "ans = square_nums(10, 20)\n",
    "\n",
    "print(ans)\n",
    "\n",
    "# Note: default parameter define always right side (or at the end parameter)\n",
    "\n",
    "# order :\n",
    "#  positiona argument > keyword > default argument"
   ]
  },
  {
   "cell_type": "markdown",
   "id": "35d648cf",
   "metadata": {},
   "source": [
    "#### 4. variable length of positonal arguments."
   ]
  },
  {
   "cell_type": "markdown",
   "id": "b99e9660",
   "metadata": {},
   "source": [
    "- when the numbers of postional arguments is very long(to many) then we use var-lenth-positional-argument.\n",
    "\n",
    "- parameters store the arguments in a tuple format."
   ]
  },
  {
   "cell_type": "code",
   "execution_count": null,
   "id": "580f9818",
   "metadata": {},
   "outputs": [
    {
     "name": "stdout",
     "output_type": "stream",
     "text": [
      "Type:  <class 'tuple'>\n"
     ]
    },
    {
     "data": {
      "text/plain": [
       "816"
      ]
     },
     "execution_count": 15,
     "metadata": {},
     "output_type": "execute_result"
    }
   ],
   "source": [
    "# Exmaple: first square each number then addition of all numbers.\n",
    "def square_addition(*args):\n",
    "\n",
    "    print(\"Type: \", type(args))\n",
    "\n",
    "    summation = 0 \n",
    "    \n",
    "    for i in args:\n",
    "\n",
    "        i = i ** 2\n",
    "        summation += i\n",
    "    return summation\n",
    "\n",
    "square_addition(2,4,6,8,10,12,14,16)"
   ]
  },
  {
   "cell_type": "markdown",
   "id": "c56e0d21",
   "metadata": {},
   "source": [
    "#### variable length of keyword arguments"
   ]
  },
  {
   "cell_type": "markdown",
   "id": "35cd3706",
   "metadata": {},
   "source": [
    "- when the numbers of keyword arguments is very long(to many) then we use var-lenth-keword-argument.\n",
    "\n",
    "- parameters store the arguments in a dictionary format."
   ]
  },
  {
   "cell_type": "code",
   "execution_count": null,
   "id": "0ec32b26",
   "metadata": {},
   "outputs": [
    {
     "name": "stdout",
     "output_type": "stream",
     "text": [
      "Type:  <class 'dict'>\n",
      "name - Kz\n",
      "cls - 10\n",
      "roll - 20\n",
      "marks - 50.55\n"
     ]
    }
   ],
   "source": [
    "# Example: var-len-keyword-argument\n",
    "\n",
    "def student(**kwargs):\n",
    "    print(\"Type: \", type(kwargs))\n",
    "\n",
    "    for keys, vals in kwargs.items():\n",
    "        print(f\"{keys} - {vals}\")\n",
    "\n",
    "\n",
    "student(name= \"Kz\", cls = 10, roll = 20, marks= 50.55)"
   ]
  },
  {
   "cell_type": "code",
   "execution_count": 21,
   "id": "4d81ae0c",
   "metadata": {},
   "outputs": [
    {
     "name": "stdout",
     "output_type": "stream",
     "text": [
      "name - Kz\n",
      "clss - 10\n",
      "roll - 4\n",
      "address - Dhaka\n",
      "80 90 70 87 92 98 "
     ]
    }
   ],
   "source": [
    "# Example: combine of *args and **kwargs\n",
    "\n",
    "# Argument values pass order: args > kwargs (To pass argument values into parameters)\n",
    "\n",
    "\n",
    "def student_info(*args, **kwargs):\n",
    "    \n",
    "    # first access the kwargs values (dic value)\n",
    "    for key,val in kwargs.items():\n",
    "        print(f\"{key} - {val}\")\n",
    "\n",
    "    # second access args values (tuple valus)\n",
    "    for mark in args:\n",
    "        print(f\"{mark}\", end = \" \")\n",
    "\n",
    "student_info(80,90,70,87,92,98, name = \"Kz\", clss = 10, roll = 4, address = \"Dhaka\")\n"
   ]
  }
 ],
 "metadata": {
  "kernelspec": {
   "display_name": "base",
   "language": "python",
   "name": "python3"
  },
  "language_info": {
   "codemirror_mode": {
    "name": "ipython",
    "version": 3
   },
   "file_extension": ".py",
   "mimetype": "text/x-python",
   "name": "python",
   "nbconvert_exporter": "python",
   "pygments_lexer": "ipython3",
   "version": "3.13.5"
  }
 },
 "nbformat": 4,
 "nbformat_minor": 5
}
