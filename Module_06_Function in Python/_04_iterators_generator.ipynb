{
 "cells": [
  {
   "cell_type": "markdown",
   "id": "387ab07d",
   "metadata": {},
   "source": [
    "## Topic: Iterator and Generator"
   ]
  },
  {
   "cell_type": "markdown",
   "id": "adcde36f",
   "metadata": {},
   "source": [
    "### OUTCOMES\n",
    "\n",
    "- 1. Definition of iterable and iterator\n",
    "\n",
    "- 2. Syntax of iterator\n",
    "\n",
    "- 3. Create iterator\n",
    "\n",
    "- 4. Understand how for loops works\n",
    "\n",
    "- 5. Benefits of iterator\n",
    "\n",
    "- 5. Definition of Generator\n",
    "\n",
    "- 6. how to work generator\n",
    "\n"
   ]
  },
  {
   "cell_type": "markdown",
   "id": "9b3c4622",
   "metadata": {},
   "source": [
    "### 1. Definition of iterable and iterator"
   ]
  },
  {
   "cell_type": "markdown",
   "id": "33348f0d",
   "metadata": {},
   "source": [
    "- Iterable\n",
    "    - iterable is an object(like, list, tuple, dic etc)\n",
    "    - iterable generates an iterator when passed to iter() method\n",
    "\n",
    "- Iterator:\n",
    "    - An iterator is an object that allows you to iterate (loop) over a sequence  of data without having to store the entire data in memory.(one element at a time)\n",
    "\n",
    "    - iterator helps for iteration of an iterable object.\n",
    "\n",
    "    "
   ]
  },
  {
   "cell_type": "markdown",
   "id": "413310b2",
   "metadata": {},
   "source": [
    "### 2. Syntax of iterator"
   ]
  },
  {
   "cell_type": "code",
   "execution_count": null,
   "id": "fa1a572d",
   "metadata": {},
   "outputs": [],
   "source": [
    "## Syntax of iterator\n",
    "\n",
    "'''  \n",
    "iterator_name = iter(iterable_object)\n",
    "\n",
    "# Access elements\n",
    "next(iterator_name)\n",
    "next(iterator_name)\n",
    "\n",
    "'''\n",
    "\n",
    "## first fetch or call iter() method\n",
    "# - next(iterator) -> give us the location of iterator"
   ]
  },
  {
   "cell_type": "markdown",
   "id": "5b0114ee",
   "metadata": {},
   "source": [
    "### 3. Create iterator\n"
   ]
  },
  {
   "cell_type": "code",
   "execution_count": 63,
   "metadata": {},
   "outputs": [
    {
     "name": "stdout",
     "output_type": "stream",
     "text": [
      "<class 'list_iterator'>\n",
      "10\n",
      "20\n",
      "30\n",
      "40\n"
     ]
    }
   ],
   "source": [
    "# Create iterator\n",
    "\n",
    "lst = [10, 20, 30, 40]\n",
    "\n",
    "lst_iter = iter(lst)\n",
    "\n",
    "print(type(lst_iter))\n",
    "\n",
    "# Access \n",
    "\n",
    "print(next(lst_iter))   # first element\n",
    "print(next(lst_iter))   # 2nd element\n",
    "print(next(lst_iter))   # 3th element\n",
    "print(next(lst_iter))   # 4th or last element\n",
    "\n",
    "# print(next(lst_iter))  # StopIteration Error"
   ]
  },
  {
   "cell_type": "code",
   "execution_count": null,
   "id": "aa41e63f",
   "metadata": {},
   "outputs": [
    {
     "name": "stdout",
     "output_type": "stream",
     "text": [
      "name\n",
      "cls\n",
      "Kz\n",
      "10\n",
      "4\n",
      "('name', 'Kz')\n",
      "('cls', 10)\n",
      "('roll', 4)\n"
     ]
    }
   ],
   "source": [
    "# iterator for dictionary\n",
    "\n",
    "info_dic = {\n",
    "    \"name\": \"Kz\",\n",
    "    \"cls\" : 10,\n",
    "    \"roll\": 4,\n",
    "    \"marks\": [10, 20, 30]\n",
    "}\n",
    "\n",
    "# access dictionary element using iterator\n",
    "iter_dic = iter(info_dic)\n",
    "\n",
    "# access first element\n",
    "print(next(iter_dic)) # name (why -> Default iterator Dictionary Key only)\n",
    "print(next(iter_dic)) # cls\n",
    "\n",
    "# access only values (first fetch the iterator)\n",
    "iter_dic = iter(info_dic.values())\n",
    "\n",
    "# now access only values\n",
    "print(next(iter_dic)) # Kz\n",
    "print(next(iter_dic)) # 10\n",
    "print(next(iter_dic)) # 4\n",
    "\n",
    "# access keys and values in dictionary\n",
    "iter_dic = iter(info_dic.items())\n",
    "\n",
    "# now access key-value pair\n",
    "print(next(iter_dic)) # (name Kz)\n",
    "print(next(iter_dic)) # (clss, 10)\n",
    "print(next(iter_dic)) # (roll,4)\n",
    "\n"
   ]
  },
  {
   "cell_type": "markdown",
   "id": "b6c53c18",
   "metadata": {},
   "source": [
    "### 4. Understand how for loops works"
   ]
  },
  {
   "cell_type": "code",
   "execution_count": null,
   "metadata": {},
   "outputs": [
    {
     "name": "stdout",
     "output_type": "stream",
     "text": [
      "50\n",
      "20\n",
      "40\n",
      "10\n",
      "30\n",
      "----use iterator ---------\n",
      "50\n",
      "20\n",
      "40\n",
      "10\n",
      "30\n"
     ]
    }
   ],
   "source": [
    "# for loop : \n",
    "#  -> 1st call or fetch the iterator(iter()).\n",
    "#  -> 2nd : iter() call the next()\n",
    "\n",
    "set_a = {10, 20, 30, 40, 50}\n",
    "\n",
    "for i in set_a:\n",
    "    print(i)\n",
    "\n",
    "print(\"----use iterator ---------\")\n",
    "# first loop call the iter()\n",
    "i = iter(set_a)\n",
    "\n",
    "# then iter() call the next() method\n",
    "\n",
    "print(next(i))\n",
    "print(next(i))\n",
    "print(next(i))\n",
    "print(next(i))\n",
    "print(next(i))\n",
    "# print(next(i))\n",
    "\n",
    "# NOTE:\n",
    "# - the output is same for both (or loop internal work like that)\n"
   ]
  },
  {
   "cell_type": "code",
   "execution_count": 29,
   "id": "bf18a341",
   "metadata": {},
   "outputs": [
    {
     "name": "stdout",
     "output_type": "stream",
     "text": [
      "10\n",
      "20\n",
      "30\n",
      "Completed\n",
      "50\n",
      "90\n",
      "30\n",
      "Completed\n",
      "0\n",
      "1\n",
      "2\n",
      "Completed\n"
     ]
    }
   ],
   "source": [
    "# To create own loops\n",
    "\n",
    "def own_loop(iterable):\n",
    "    my_iterator = iter(iterable)\n",
    "\n",
    "    while True:\n",
    "        try:\n",
    "            print(next(my_iterator))\n",
    "        except StopIteration:\n",
    "            break\n",
    "    return \"Completed\"\n",
    "\n",
    "lst = [10, 20, 30]\n",
    "set_a = {50, 30, 90}\n",
    "dic_l = {0:1, 1:2, 2:4}\n",
    "\n",
    "print(own_loop(lst))\n",
    "print(own_loop(set_a))\n",
    "print(own_loop(dic_l))\n"
   ]
  },
  {
   "cell_type": "markdown",
   "id": "8606a0d9",
   "metadata": {},
   "source": [
    "### 5. Benefits of iterator"
   ]
  },
  {
   "cell_type": "code",
   "execution_count": null,
   "id": "134bc384",
   "metadata": {},
   "outputs": [
    {
     "name": "stdout",
     "output_type": "stream",
     "text": [
      "50\n",
      "20\n",
      "40\n",
      "10\n"
     ]
    }
   ],
   "source": [
    "# 1. Top benefits to iterating(to access one by element without indexing)\n",
    "\n",
    "# For set(set have no index)\n",
    "# Apply iterator concept in set to access sets element\n",
    "\n",
    "set_a = {10,20,30,40,50,60}\n",
    "\n",
    "# first fetch the iterator\n",
    "\n",
    "set_iter = iter(set_a)\n",
    "\n",
    "# access the element\n",
    "print(next(set_iter))  # set one element (set is an unorder that way the element in not a sequence)\n",
    "print(next(set_iter))  # set other element\n",
    "print(next(set_iter))\n",
    "print(next(set_iter))\n"
   ]
  },
  {
   "cell_type": "code",
   "execution_count": null,
   "id": "7d6bd424",
   "metadata": {},
   "outputs": [
    {
     "name": "stdout",
     "output_type": "stream",
     "text": [
      "Memory Size in byte:  104\n",
      "Memory Size 0.1015625 MB\n",
      "range(1, 100000)\n",
      "\n",
      "Memory Size in byte:  48\n",
      "Memory Size 0.046875 MB\n"
     ]
    }
   ],
   "source": [
    "# 2. Memory Efficient\n",
    "lst = [10, 20, 30, 40, 50] \n",
    "\n",
    "# memory occupied lst\n",
    "import sys\n",
    "print(\"Memory Size in byte: \", sys.getsizeof(lst))\n",
    "print(f\"Memory Size {sys.getsizeof(lst)/1024} MB\")\n",
    "\n",
    "# range() similar to iterator\n",
    "x = range(1,100000)\n",
    "print(x)\n",
    "print(\"\\nMemory Size in byte: \", sys.getsizeof(x))\n",
    "print(f\"Memory Size {sys.getsizeof(x)/1024} MB\")\n"
   ]
  },
  {
   "cell_type": "markdown",
   "id": "615fc259",
   "metadata": {},
   "source": [
    "### 5. Definition of Generator"
   ]
  },
  {
   "cell_type": "markdown",
   "id": "113048fb",
   "metadata": {},
   "source": [
    "- A generator is a special type of function that returns an iterator using the yield keyword instead of return.\n",
    "\n",
    "- generator are a simple way to creating iterators.\n",
    "\n",
    "\n",
    "- Diagram:\n",
    "    - Generator Function with yield statement\n",
    "    - Automatic creation of iter() and next() methods"
   ]
  },
  {
   "cell_type": "markdown",
   "id": "bbd48db1",
   "metadata": {},
   "source": [
    "### 6. how to work generator"
   ]
  },
  {
   "cell_type": "code",
   "execution_count": null,
   "id": "4b48b16d",
   "metadata": {},
   "outputs": [
    {
     "name": "stdout",
     "output_type": "stream",
     "text": [
      "<class 'generator'>\n",
      "First Statement\n",
      "Second Statement\n",
      "Third Statement\n"
     ]
    },
    {
     "ename": "StopIteration",
     "evalue": "",
     "output_type": "error",
     "traceback": [
      "\u001b[1;31m---------------------------------------------------------------------------\u001b[0m",
      "\u001b[1;31mStopIteration\u001b[0m                             Traceback (most recent call last)",
      "Cell \u001b[1;32mIn[40], line 16\u001b[0m\n\u001b[0;32m     14\u001b[0m \u001b[38;5;28mprint\u001b[39m(\u001b[38;5;28mnext\u001b[39m(gen))\n\u001b[0;32m     15\u001b[0m \u001b[38;5;28mprint\u001b[39m(\u001b[38;5;28mnext\u001b[39m(gen))\n\u001b[1;32m---> 16\u001b[0m \u001b[38;5;28mprint\u001b[39m(\u001b[38;5;28mnext\u001b[39m(gen))\n",
      "\u001b[1;31mStopIteration\u001b[0m: "
     ]
    }
   ],
   "source": [
    "# Create generator\n",
    "\n",
    "def gen_demo():\n",
    "\n",
    "    yield \"First Statement\"\n",
    "    yield \"Second Statement\"\n",
    "    yield(\"Third Statement\")\n",
    "\n",
    "gen = gen_demo()\n",
    "\n",
    "print(type(gen))  # generator (because gen_demo has yield )\n",
    "\n",
    "# access to the next element\n",
    "print(next(gen))\n",
    "print(next(gen))\n",
    "print(next(gen))\n",
    "# print(next(gen))  # StopIteration\n"
   ]
  },
  {
   "cell_type": "code",
   "execution_count": 53,
   "id": "d3159535",
   "metadata": {},
   "outputs": [
    {
     "name": "stdout",
     "output_type": "stream",
     "text": [
      "1\n",
      "4\n",
      "9\n",
      "16\n",
      "25\n",
      "36\n",
      "49\n",
      "64\n",
      "81\n",
      "100\n"
     ]
    }
   ],
   "source": [
    "## yield memorize the previous iterator item\n",
    "\n",
    "def square(num):\n",
    "    for i in range(1,num+1):\n",
    "        yield i ** 2\n",
    "\n",
    "gen = square(10)\n",
    "\n",
    "print(next(gen)) # 1\n",
    "print(next(gen)) # 4\n",
    "print(next(gen)) # 9\n",
    "\n",
    "# how to memorize: \n",
    "for i in gen:\n",
    "    print(i)\n",
    "\n",
    "# for loop not start at first again here yield memorize the provious iteration (3-> 9) then yield run and execute the next (4, 5,6,7,8,9,10) items"
   ]
  },
  {
   "cell_type": "markdown",
   "id": "77c315bc",
   "metadata": {},
   "source": [
    "#### Benefit of generator"
   ]
  },
  {
   "cell_type": "code",
   "execution_count": null,
   "id": "1813651e",
   "metadata": {},
   "outputs": [
    {
     "name": "stdout",
     "output_type": "stream",
     "text": [
      "[1, 2, 3, 4, 5]\n",
      "[6, 7, 8, 9, 10]\n",
      "[11, 12, 13, 14, 15]\n"
     ]
    }
   ],
   "source": [
    "# Senario_01: my machine(laptop) RAM size -> 4 GB but given a data set which size is -> 10 GB\n",
    "# then how to load in my laptop\n",
    "\n",
    "# in this case we use generator \n",
    "\n",
    "# generator() workflow:\n",
    "\n",
    "    # step_01: Call the generator with create chunk_size for each iteration.\n",
    "    # step_02: according to the chunk_size load into RAM(memory) and perform opertion.\n",
    "    # step_03: then memorize the step_02, if again call generator then it's run and perform next opertion.\n",
    "\n",
    "\n",
    "def data_loader(chunk_size, lst):\n",
    "    \n",
    "    for i in range(0,len(lst),chunk_size):\n",
    "        yield lst[i:i + chunk_size]\n",
    "\n",
    "\n",
    "lst = [x for x in range(1,1000)]  # dataset\n",
    "\n",
    "gen = data_loader(5,lst)  # chunk size = 5\n",
    "\n",
    "print(next(gen))\n",
    "print(next(gen))\n",
    "print(next(gen))"
   ]
  },
  {
   "cell_type": "code",
   "execution_count": null,
   "id": "ad7a1621",
   "metadata": {},
   "outputs": [],
   "source": [
    "# Example the code\n",
    "'''   \n",
    "step_01: lst create 1 to 1000 \n",
    "    lst = [1,2,3,4.----------,1000]\n",
    "\n",
    "step_02: call the data_loader(5,lst) # here 5 is the size of chunk(at a time how many data is load in RAM)\n",
    "\n",
    "\n",
    "# step_03: data_loader(chunk_size, lst):\n",
    "    # how to data show or load at a time (1-5 it's a range)\n",
    "    \n",
    "    for i in range(0,len(lst),chunk_size):\n",
    "         yield lst[i:i + chunk_size]\n",
    "        \n",
    "\n",
    "    here, start idx = 0\n",
    "          end idx = len(lst) [not include or before len]\n",
    "          step = chunk_size\n",
    "    \n",
    "\n",
    "    here, yield lst[i:i + chunk_size]\n",
    "\n",
    "        - for each iteration yield return lst i = start and , end = i + chunk_size\n",
    "    \n",
    "\n",
    "'''"
   ]
  }
 ],
 "metadata": {
  "kernelspec": {
   "display_name": "base",
   "language": "python",
   "name": "python3"
  },
  "language_info": {
   "codemirror_mode": {
    "name": "ipython",
    "version": 3
   },
   "file_extension": ".py",
   "mimetype": "text/x-python",
   "name": "python",
   "nbconvert_exporter": "python",
   "pygments_lexer": "ipython3",
   "version": "3.13.5"
  }
 },
 "nbformat": 4,
 "nbformat_minor": 5
}
