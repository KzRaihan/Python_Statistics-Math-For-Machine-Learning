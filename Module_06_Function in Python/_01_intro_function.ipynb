{
 "cells": [
  {
   "cell_type": "markdown",
   "id": "79c29f95",
   "metadata": {},
   "source": [
    "## Topic: Function in Python"
   ]
  },
  {
   "cell_type": "markdown",
   "id": "6f53737d",
   "metadata": {},
   "source": [
    "### OUTCOMES\n",
    "- 1. Introdunction of function\n",
    "\n",
    "- 2. Benefix of function\n",
    "\n",
    "- 3. syntax of function\n",
    "\n",
    "- 4. function creation"
   ]
  },
  {
   "cell_type": "markdown",
   "id": "0bab5041",
   "metadata": {},
   "source": [
    "### 1. Introdunction of function"
   ]
  },
  {
   "cell_type": "markdown",
   "id": "df7fd29d",
   "metadata": {},
   "source": [
    "- A Function is block of statements that perfoms specific task.\n",
    "\n",
    "- Diagram:\n",
    "\n",
    "    - input----> |function(process)|------> output\n"
   ]
  },
  {
   "cell_type": "markdown",
   "id": "d33cbf76",
   "metadata": {},
   "source": [
    "### 2. Benefix of function"
   ]
  },
  {
   "cell_type": "markdown",
   "id": "bfa134f3",
   "metadata": {},
   "source": [
    "- Code Reusability\n",
    "\n",
    "- Code Modularity\n",
    "\n",
    "- Code Readability"
   ]
  },
  {
   "cell_type": "markdown",
   "id": "9772a911",
   "metadata": {},
   "source": [
    "### 3. syntax of function"
   ]
  },
  {
   "cell_type": "code",
   "execution_count": null,
   "id": "d279ddcf",
   "metadata": {},
   "outputs": [],
   "source": [
    "### syntax\n",
    "\"\"\"  \n",
    "# function declaration\n",
    "\n",
    "def function_name(parameters):\n",
    "    - docstring----\n",
    "    # body of function---\n",
    "\n",
    "    return expression(work)\n",
    "\n",
    "    \n",
    "# Call the function\n",
    "function_name(arguments)\n",
    "\n",
    "\"\"\""
   ]
  },
  {
   "cell_type": "markdown",
   "id": "817e3a86",
   "metadata": {},
   "source": [
    "### 4. function creation"
   ]
  },
  {
   "cell_type": "code",
   "execution_count": 9,
   "id": "66d09400",
   "metadata": {},
   "outputs": [
    {
     "name": "stdout",
     "output_type": "stream",
     "text": [
      "Hello  Kz\n"
     ]
    }
   ],
   "source": [
    "# function creation\n",
    "\n",
    "def greet(name):\n",
    "    print(f\"Hello  {name}\")\n",
    "\n",
    "greet(\"Kz\")\n"
   ]
  },
  {
   "cell_type": "code",
   "execution_count": null,
   "id": "b1dab99e",
   "metadata": {},
   "outputs": [
    {
     "name": "stdout",
     "output_type": "stream",
     "text": [
      "False\n",
      "11\n"
     ]
    }
   ],
   "source": [
    "# function declaration\n",
    "def even_num(num):\n",
    "    if num % 2== 0:\n",
    "        print(\"True\")       # <--- This is the body of function\n",
    "    else:\n",
    "        print(\"False\")\n",
    "\n",
    "    return num   # return statement\n",
    "\n",
    "# call the function\n",
    "ans = even_num(11) \n",
    "\n",
    "print(ans)\n"
   ]
  },
  {
   "cell_type": "code",
   "execution_count": null,
   "id": "05ca81f4",
   "metadata": {},
   "outputs": [
    {
     "name": "stdout",
     "output_type": "stream",
     "text": [
      "1 is odd\n",
      "2 is even\n",
      "3 is odd\n",
      "4 is even\n",
      "5 is odd\n"
     ]
    }
   ],
   "source": [
    "# Creating function\n",
    "\n",
    "def even_odd(nums):\n",
    "\n",
    "    for num in nums:\n",
    "        if num% 2 == 0:\n",
    "            print(f\"{num} is even\")\n",
    "        else:\n",
    "            print(f\"{num} is odd\")\n",
    "\n",
    "\n",
    "lst = [1, 2, 3, 4, 5]\n",
    "even_odd(lst)"
   ]
  },
  {
   "cell_type": "markdown",
   "id": "a4fab5fc",
   "metadata": {},
   "source": [
    "#### Note :  Every Function return Null (by default)"
   ]
  }
 ],
 "metadata": {
  "kernelspec": {
   "display_name": "base",
   "language": "python",
   "name": "python3"
  },
  "language_info": {
   "codemirror_mode": {
    "name": "ipython",
    "version": 3
   },
   "file_extension": ".py",
   "mimetype": "text/x-python",
   "name": "python",
   "nbconvert_exporter": "python",
   "pygments_lexer": "ipython3",
   "version": "3.13.5"
  }
 },
 "nbformat": 4,
 "nbformat_minor": 5
}
