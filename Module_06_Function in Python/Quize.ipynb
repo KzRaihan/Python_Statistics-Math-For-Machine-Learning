{
 "cells": [
  {
   "cell_type": "markdown",
   "id": "d5246e30",
   "metadata": {},
   "source": [
    "1. What is a function in Python?"
   ]
  },
  {
   "cell_type": "markdown",
   "id": "deb07cb9",
   "metadata": {},
   "source": [
    "2. Which keyword is used to define a function in Python?"
   ]
  },
  {
   "cell_type": "code",
   "execution_count": 1,
   "id": "28d90840",
   "metadata": {},
   "outputs": [
    {
     "name": "stdout",
     "output_type": "stream",
     "text": [
      "5\n"
     ]
    }
   ],
   "source": [
    "# 3. What will be the output of the following code?\n",
    "\n",
    "def add(a,b=2):\n",
    "    return a + b\n",
    "\n",
    "print(add(3))"
   ]
  },
  {
   "cell_type": "markdown",
   "id": "002fdda1",
   "metadata": {},
   "source": [
    "4. What is the purpose of the return statement in Python functions?"
   ]
  },
  {
   "cell_type": "markdown",
   "metadata": {},
   "source": [
    "5. What is an iterator in Python?"
   ]
  },
  {
   "cell_type": "markdown",
   "metadata": {},
   "source": [
    "6. What is a lambda function in Python?"
   ]
  },
  {
   "cell_type": "markdown",
   "metadata": {},
   "source": [
    "7. Which of the following defines a lambda that doubles a number?"
   ]
  },
  {
   "cell_type": "markdown",
   "id": "4bcae2f5",
   "metadata": {},
   "source": [
    "8. What does the map() function do?"
   ]
  },
  {
   "cell_type": "markdown",
   "id": "40538a9f",
   "metadata": {},
   "source": []
  }
 ],
 "metadata": {
  "kernelspec": {
   "display_name": "base",
   "language": "python",
   "name": "python3"
  },
  "language_info": {
   "codemirror_mode": {
    "name": "ipython",
    "version": 3
   },
   "file_extension": ".py",
   "mimetype": "text/x-python",
   "name": "python",
   "nbconvert_exporter": "python",
   "pygments_lexer": "ipython3",
   "version": "3.13.5"
  }
 },
 "nbformat": 4,
 "nbformat_minor": 5
}
