{
 "cells": [
  {
   "cell_type": "markdown",
   "id": "ee9a07be",
   "metadata": {},
   "source": [
    "## Topic: Function in Python"
   ]
  },
  {
   "cell_type": "markdown",
   "id": "444d132b",
   "metadata": {},
   "source": [
    "### OUTCOMES\n",
    "\n",
    "- 1. Introduction of Function\n",
    "\n",
    "- 2. Function Parameter vs Arguments\n",
    "\n",
    "- 3. Function Return Type\n",
    "\n",
    "- 4. Iterator and Generator\n",
    "\n",
    "- 5. Lamba Function\n",
    " \n",
    "- 6. Map Function\n",
    "\n",
    "- 7. Filter Function\n",
    "\n",
    "- 8. Reduce Function\n",
    "\n",
    "- 9. Problem Solve\n"
   ]
  }
 ],
 "metadata": {
  "language_info": {
   "name": "python"
  }
 },
 "nbformat": 4,
 "nbformat_minor": 5
}
