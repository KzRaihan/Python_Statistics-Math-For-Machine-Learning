{
  "cells": [
    {
      "cell_type": "markdown",
      "metadata": {
        "id": "GE5ZKpNgBB2W"
      },
      "source": [
        "# Module_01 python core and fundamentals"
      ]
    },
    {
      "cell_type": "markdown",
      "metadata": {
        "id": "vipTuPv_dcVx"
      },
      "source": [
        "# OUtCOMES\n",
        "- 1. Basic of Python\n",
        "- 2. Fundamental Data Structure\n",
        "- 3. slice and loop\n",
        "- 4. control flow\n",
        "- 5. control flow list Comprehension.\n",
        "- 6. Comprehension Explain\n",
        "- 7. List Comprehension\n",
        "- 8. Quiz"
      ]
    },
    {
      "cell_type": "markdown",
      "metadata": {
        "id": "9ywJObKCesKX"
      },
      "source": [
        "# 1. Basic of Python\n",
        "- Variable\n",
        "- primitive data types"
      ]
    },
    {
      "cell_type": "code",
      "execution_count": null,
      "metadata": {
        "colab": {
          "base_uri": "https://localhost:8080/"
        },
        "id": "ij5_pfEceWQb",
        "outputId": "77694b31-a377-40ea-c1c3-b95e56bb9088"
      },
      "outputs": [
        {
          "name": "stdout",
          "output_type": "stream",
          "text": [
            "Hello Everyone\n",
            "My name is : KzRaihan\n",
            "Age:  24\n",
            "Height:  5.6\n",
            "Weight 68.05\n",
            "Is Student:  True\n"
          ]
        }
      ],
      "source": [
        "var = \"Hello Everyone\"\n",
        "name = \"KzRaihan\"\n",
        "age = 24\n",
        "height = 5.6\n",
        "weight = 68.05\n",
        "is_student = True\n",
        "\n",
        "# Display\n",
        "print(var)\n",
        "print(f\"My name is : {name}\")\n",
        "\n",
        "print(\"Age: \", age)\n",
        "print(\"Height: \", height)\n",
        "print(\"Weight\", weight)\n",
        "print(\"Is Student: \", is_student)"
      ]
    },
    {
      "cell_type": "markdown",
      "metadata": {
        "id": "s_VJi7XFeLU4"
      },
      "source": [
        "## Data type in Python\n",
        " - Python detect the data type dynamically(in runtime)\n",
        "\n",
        "\n"
      ]
    },
    {
      "cell_type": "code",
      "execution_count": null,
      "metadata": {
        "colab": {
          "base_uri": "https://localhost:8080/"
        },
        "id": "dINUxymZeehn",
        "outputId": "73ca180b-3a4f-420e-bba6-0d9083ca1532"
      },
      "outputs": [
        {
          "name": "stdout",
          "output_type": "stream",
          "text": [
            "I am from Bangladesh\n",
            "<class 'str'>\n",
            "148460\n",
            "<class 'int'>\n",
            "175.7\n",
            "<class 'float'>\n"
          ]
        }
      ],
      "source": [
        "var = \"I am from Bangladesh\"\n",
        "area = 148460   # km²\n",
        "population = 175.7    # million in 2025\n",
        "\n",
        "print(var)\n",
        "print(type(var))\n",
        "\n",
        "print(area)\n",
        "print(type(area))\n",
        "\n",
        "print(population)\n",
        "print(type(population))"
      ]
    },
    {
      "cell_type": "markdown",
      "metadata": {
        "id": "kjEtvbrqWafz"
      },
      "source": [
        " # 2. Fundamental Data Structure\n",
        " - list\n",
        " - tuple\n",
        " - dictionary\n",
        " - set"
      ]
    },
    {
      "cell_type": "code",
      "execution_count": null,
      "metadata": {
        "colab": {
          "base_uri": "https://localhost:8080/"
        },
        "id": "noNRN8Y4VuaT",
        "outputId": "29c0c930-8968-4b18-dfc9-82bc0a4adc7c"
      },
      "outputs": [
        {
          "name": "stdout",
          "output_type": "stream",
          "text": [
            "[10, 20, 30, ['Math', 'Physic', 'Chemistry'], 'Kz']\n",
            "<class 'list'>\n",
            "first element in lst:  10\n",
            "Third element:  ['Math', 'Physic', 'Chemistry']\n",
            "last element in lst:  Kz\n"
          ]
        }
      ],
      "source": [
        "# list\n",
        "# list is a mutable data structure in python\n",
        "# it can be change and modify the value.\n",
        "\n",
        "# syntax of list\n",
        "# list_name = [values]\n",
        "# values = value can be any type\n",
        "\n",
        "lst = [10, 20, 30, [\"Math\", \"Physic\", \"Chemistry\"], \"Kz\"]\n",
        "print(lst)\n",
        "print(type(lst))   # here note that: lst is an object of list class\n",
        "\n",
        "# additional functionality\n",
        "# indexing: to access the value of list\n",
        "# list follow the 0-base indexing\n",
        "\n",
        "first_ele = lst[0]\n",
        "print(\"first element in lst: \", first_ele)\n",
        "\n",
        "\n",
        "\n",
        "fourth_ele = lst[3]\n",
        "print(\"Third element: \", fourth_ele)\n",
        "\n",
        "last_ele = lst[-1] # negative idx\n",
        "print(\"last element in lst: \", last_ele)"
      ]
    },
    {
      "cell_type": "code",
      "execution_count": null,
      "metadata": {
        "colab": {
          "base_uri": "https://localhost:8080/"
        },
        "id": "glDcvyeEXKNA",
        "outputId": "49aaf1a4-edac-4b09-b20b-4ab81a2325d5"
      },
      "outputs": [
        {
          "name": "stdout",
          "output_type": "stream",
          "text": [
            "(11, 12, 13, 14, 15, ('Kz', 3.14, 100), ['Bangla', 87, 90.99], 16)\n",
            "<class 'tuple'>\n"
          ]
        }
      ],
      "source": [
        "# Tuple\n",
        "# tuple is a immutable data structure\n",
        "# It can't be change\n",
        "\n",
        "# syntax of tuple:\n",
        "# tuple name = (values)\n",
        "\n",
        "tpl = (11, 12, 13, 14, 15, (\"Kz\", 3.14, 100), [\"Bangla\",87, 90.99], 16)\n",
        "\n",
        "print(tpl)\n",
        "print(type(tpl))  # note that: tpl is an object of tuple class"
      ]
    },
    {
      "cell_type": "code",
      "execution_count": null,
      "metadata": {
        "colab": {
          "base_uri": "https://localhost:8080/"
        },
        "id": "7JggVWfOZSOi",
        "outputId": "d98fd7bc-75d0-4509-de1a-293adaec2164"
      },
      "outputs": [
        {
          "name": "stdout",
          "output_type": "stream",
          "text": [
            "{'name': 'KzRaihan', 'age': 24, 'height': 5.6, 'weight': 68.05, 'is_student': True}\n",
            "<class 'dict'>\n",
            "Name:  KzRaihan\n",
            "Age:  24\n"
          ]
        }
      ],
      "source": [
        "# dictionary\n",
        "# Dictionary is mutable data structure that store item in the key-value pair format.\n",
        "\n",
        "# syntax of dictionary\n",
        "# dic_name = {\"key\": value}\n",
        "# key can't be mutable or key always immutable\n",
        "# value can be any type\n",
        "\n",
        "dct = {\n",
        "    \"name\": \"KzRaihan\",\n",
        "    \"age\": 24,\n",
        "    \"height\": 5.6,\n",
        "    \"weight\": 68.05,\n",
        "    \"is_student\": True\n",
        "}\n",
        "print(dct)\n",
        "print(type(dct))  # here dct is an object of dictionary class\n",
        "\n",
        "# access the dct element using key\n",
        "\n",
        "name = dct[\"name\"]\n",
        "print(\"Name: \", name)\n",
        "\n",
        "age = dct[\"age\"]\n",
        "print(\"Age: \", age)\n"
      ]
    },
    {
      "cell_type": "code",
      "execution_count": null,
      "metadata": {
        "colab": {
          "base_uri": "https://localhost:8080/"
        },
        "id": "lnJuvEuNajCR",
        "outputId": "70e6f7cd-b440-4b54-accd-44539f2c0cc3"
      },
      "outputs": [
        {
          "name": "stdout",
          "output_type": "stream",
          "text": [
            "The entire dictionary:  {'Kz': {'Email': 'kmaruzzamanraihan00@gmail.com', 'phone': 17000}, 'Raihan': {'Email': 'raihan00@gmail.com', 'phone': 18000}, 'Bob': {'Email': 'bob@gmail.com', 'phone': 16000}}\n",
            "{'Email': 'kmaruzzamanraihan00@gmail.com', 'phone': 17000}\n",
            "16000\n"
          ]
        }
      ],
      "source": [
        "# Nested Dictionary\n",
        "# dictionary like phonebook\n",
        "\n",
        "phonebook = {\n",
        "    \"Kz\":\n",
        "    {\n",
        "        \"Email\": \"kmaruzzamanraihan00@gmail.com\",\n",
        "        \"phone\": 17000\n",
        "    },\n",
        "\n",
        "    \"Raihan\":\n",
        "    {\n",
        "        \"Email\": \"raihan00@gmail.com\",\n",
        "        \"phone\": 18000\n",
        "    },\n",
        "\n",
        "    \"Bob\":\n",
        "    {\n",
        "        \"Email\": \"bob@gmail.com\",\n",
        "        \"phone\": 16000\n",
        "    },\n",
        "\n",
        "}\n",
        "\n",
        "print(\"The entire dictionary: \", phonebook)\n",
        "\n",
        "# see the first person details\n",
        "\n",
        "print(phonebook[\"Kz\"])\n",
        "\n",
        "# see the last person(Bob) only the contract number\n",
        "print(phonebook[\"Bob\"][\"phone\"])"
      ]
    },
    {
      "cell_type": "code",
      "execution_count": null,
      "metadata": {
        "colab": {
          "base_uri": "https://localhost:8080/"
        },
        "id": "5xAAZWnMbTVh",
        "outputId": "c770087c-210a-4cd4-d7ef-1f59bf949657"
      },
      "outputs": [
        {
          "name": "stdout",
          "output_type": "stream",
          "text": [
            "{50, 20, 40, 10, 30}\n",
            "<class 'set'>\n"
          ]
        }
      ],
      "source": [
        "# set\n",
        "# set only store the unique value\n",
        "\n",
        "# syntax of set\n",
        "# set_name = {values}\n",
        "\n",
        "st = {10, 20, 30, 40, 50, 40}\n",
        "print(st)          # only display the unique value\n",
        "print(type(st))   # st is an object of set class"
      ]
    },
    {
      "cell_type": "markdown",
      "metadata": {
        "id": "rzfcln9Jfmk5"
      },
      "source": [
        "# 3. slice and loop\n",
        "- slicing means: access and modify the sequence data structure elements."
      ]
    },
    {
      "cell_type": "code",
      "execution_count": null,
      "metadata": {
        "colab": {
          "base_uri": "https://localhost:8080/"
        },
        "id": "H6HD_g8Kf3D2",
        "outputId": "74355b15-0138-42ff-dbd7-9a10d86d8e95"
      },
      "outputs": [
        {
          "name": "stdout",
          "output_type": "stream",
          "text": [
            "first slc:  [20, 30, 40, 50, 60]\n",
            "second slc:  [20, 40, 60, 80, 100]\n",
            "third slc:  [20, 50, 80]\n",
            "fourth slc:  [40, 50, 60, 70]\n",
            "fifth slc:  [100, 80, 60, 40, 20]\n"
          ]
        }
      ],
      "source": [
        "# slicing\n",
        "lst = [10, 20, 30, 40, 50, 60, 70, 80, 90, 100]\n",
        "\n",
        "first_slc = lst[1:6:1]\n",
        "print(\"first slc: \", first_slc)\n",
        "\n",
        "second_slc = lst[1:10:2]\n",
        "print(\"second slc: \", second_slc)\n",
        "\n",
        "third_slc = lst[1:10:3]\n",
        "print(\"third slc: \", third_slc)\n",
        "\n",
        "# using negative idx\n",
        "fourth_slc = lst[3:-3]\n",
        "print(\"fourth slc: \", fourth_slc)\n",
        "\n",
        "fifth_slc = lst[-1:-10:-2]\n",
        "print(\"fifth slc: \", fifth_slc)"
      ]
    },
    {
      "cell_type": "code",
      "execution_count": null,
      "metadata": {
        "colab": {
          "base_uri": "https://localhost:8080/"
        },
        "id": "vdZkuxhDgfaP",
        "outputId": "4f23e56e-73c6-47cd-89d8-7680b9f2a022"
      },
      "outputs": [
        {
          "name": "stdout",
          "output_type": "stream",
          "text": [
            "1\n",
            "2\n",
            "3\n",
            "4\n",
            "5\n",
            "6\n",
            "7\n",
            "8\n",
            "9\n",
            "10\n"
          ]
        }
      ],
      "source": [
        "# loop\n",
        "# use to repetition work\n",
        "\n",
        "# for loop with range()\n",
        "\n",
        "for i in range(1,11):\n",
        "  print(i)"
      ]
    },
    {
      "cell_type": "code",
      "execution_count": null,
      "metadata": {
        "colab": {
          "base_uri": "https://localhost:8080/"
        },
        "id": "svcGyTaihyZ_",
        "outputId": "23b5521d-ece1-474f-91ae-0fa40fe87298"
      },
      "outputs": [
        {
          "name": "stdout",
          "output_type": "stream",
          "text": [
            "item1- 1 and item2 - 5\n",
            "item1- 1 and item2 - 6\n",
            "item1- 1 and item2 - 7\n",
            "item1- 1 and item2 - 8\n",
            "item1- 1 and item2 - 9\n",
            "item1- 1 and item2 - 10\n",
            "item1- 2 and item2 - 5\n",
            "item1- 2 and item2 - 6\n",
            "item1- 2 and item2 - 7\n",
            "item1- 2 and item2 - 8\n",
            "item1- 2 and item2 - 9\n",
            "item1- 2 and item2 - 10\n",
            "item1- 3 and item2 - 5\n",
            "item1- 3 and item2 - 6\n",
            "item1- 3 and item2 - 7\n",
            "item1- 3 and item2 - 8\n",
            "item1- 3 and item2 - 9\n",
            "item1- 3 and item2 - 10\n",
            "item1- 4 and item2 - 5\n",
            "item1- 4 and item2 - 6\n",
            "item1- 4 and item2 - 7\n",
            "item1- 4 and item2 - 8\n",
            "item1- 4 and item2 - 9\n",
            "item1- 4 and item2 - 10\n",
            "item1- 5 and item2 - 5\n",
            "item1- 5 and item2 - 6\n",
            "item1- 5 and item2 - 7\n",
            "item1- 5 and item2 - 8\n",
            "item1- 5 and item2 - 9\n",
            "item1- 5 and item2 - 10\n",
            "item1- 6 and item2 - 5\n",
            "item1- 6 and item2 - 6\n",
            "item1- 6 and item2 - 7\n",
            "item1- 6 and item2 - 8\n",
            "item1- 6 and item2 - 9\n",
            "item1- 6 and item2 - 10\n",
            "item1- 7 and item2 - 5\n",
            "item1- 7 and item2 - 6\n",
            "item1- 7 and item2 - 7\n",
            "item1- 7 and item2 - 8\n",
            "item1- 7 and item2 - 9\n",
            "item1- 7 and item2 - 10\n",
            "item1- 8 and item2 - 5\n",
            "item1- 8 and item2 - 6\n",
            "item1- 8 and item2 - 7\n",
            "item1- 8 and item2 - 8\n",
            "item1- 8 and item2 - 9\n",
            "item1- 8 and item2 - 10\n",
            "item1- 9 and item2 - 5\n",
            "item1- 9 and item2 - 6\n",
            "item1- 9 and item2 - 7\n",
            "item1- 9 and item2 - 8\n",
            "item1- 9 and item2 - 9\n",
            "item1- 9 and item2 - 10\n",
            "item1- 10 and item2 - 5\n",
            "item1- 10 and item2 - 6\n",
            "item1- 10 and item2 - 7\n",
            "item1- 10 and item2 - 8\n",
            "item1- 10 and item2 - 9\n",
            "item1- 10 and item2 - 10\n"
          ]
        }
      ],
      "source": [
        "# nested for loops\n",
        "# loop inside another loops\n",
        "\n",
        "for item1 in range(1,11):\n",
        "  for item2 in range(5,11):\n",
        "    print(f\"item1- {item1} and item2 - {item2}\")"
      ]
    },
    {
      "cell_type": "markdown",
      "metadata": {
        "id": "viZ29jAliHxT"
      },
      "source": [
        "#  4. control flow\n",
        "- control flow to control our code or use to make decision.\n"
      ]
    },
    {
      "cell_type": "code",
      "execution_count": null,
      "metadata": {
        "colab": {
          "base_uri": "https://localhost:8080/"
        },
        "id": "DsD3ccFBiSUt",
        "outputId": "e2858445-5793-4e16-d252-9218eca874de"
      },
      "outputs": [
        {
          "name": "stdout",
          "output_type": "stream",
          "text": [
            "They are adult\n"
          ]
        }
      ],
      "source": [
        "# if, elif, else conditional statement\n",
        "\n",
        "age = 24\n",
        "\n",
        "if age>18:\n",
        "  print(\"They are adult\")\n",
        "elif age>13:\n",
        "  print(\"They are teenager\")\n",
        "else:\n",
        "  print(\"They are child\")"
      ]
    },
    {
      "cell_type": "code",
      "execution_count": null,
      "metadata": {
        "colab": {
          "base_uri": "https://localhost:8080/"
        },
        "id": "wf3O2J5Linpy",
        "outputId": "d2bfb54e-3380-491f-e6fe-48cab6380cdb"
      },
      "outputs": [
        {
          "name": "stdout",
          "output_type": "stream",
          "text": [
            "0 is False\n",
            "1 is True\n",
            " is False\n",
            "text is True\n",
            "[] is False\n",
            "[1] is True\n",
            "{} is False\n",
            "{'k': 1} is True\n",
            "None is False\n"
          ]
        }
      ],
      "source": [
        "samples = [0, 1, \"\", \"text\", [], [1], {}, {\"k\": 1}, None]\n",
        "\n",
        "for item in samples:\n",
        "  if item:\n",
        "    print(f\"{item} is True\")\n",
        "  else:\n",
        "    print(f\"{item} is False\")"
      ]
    },
    {
      "cell_type": "markdown",
      "metadata": {
        "id": "tz4Hyvj4jr9Q"
      },
      "source": [
        "# 5. control flow list Comprehension."
      ]
    },
    {
      "cell_type": "code",
      "execution_count": null,
      "metadata": {
        "colab": {
          "base_uri": "https://localhost:8080/"
        },
        "id": "hVXTG3bhjutF",
        "outputId": "c38b6010-9267-4bb9-cc80-8120ac2edbc7"
      },
      "outputs": [
        {
          "name": "stdout",
          "output_type": "stream",
          "text": [
            "2\n",
            "4\n",
            "6\n",
            "8\n",
            "10\n"
          ]
        }
      ],
      "source": [
        "# list comprehensioin\n",
        "\n",
        "# To create problem\n",
        "\n",
        "# print only even number form 1 to 11\n",
        "\n",
        "for i in range(1, 11):\n",
        "  if i%2 == 0:\n",
        "    print(i)\n",
        "  else:\n",
        "    continue\n",
        "\n",
        "\n",
        "\n"
      ]
    },
    {
      "cell_type": "code",
      "execution_count": null,
      "metadata": {
        "colab": {
          "base_uri": "https://localhost:8080/"
        },
        "id": "KLfjKOyDlfLI",
        "outputId": "7007bf14-9509-4fe6-f4b4-8592a70eeb96"
      },
      "outputs": [
        {
          "name": "stdout",
          "output_type": "stream",
          "text": [
            "0 is zero\n",
            "1 is odd\n",
            "2 is even\n",
            "3 is odd\n",
            "4 is even\n",
            "5 is odd\n",
            "6 is even\n",
            "7 is odd\n",
            "8 is even\n",
            "9 is odd\n",
            "10 is even\n"
          ]
        }
      ],
      "source": [
        "# print 'even' if the given number is even else 'odd'\n",
        "\n",
        "for item in range(11):\n",
        "  if item == 0:\n",
        "    level = \"zero\"\n",
        "\n",
        "  elif item%2== 0:\n",
        "    level = \"even\"\n",
        "\n",
        "  else:\n",
        "    level = \"odd\"\n",
        "\n",
        "  print(f\"{item} is {level}\")"
      ]
    },
    {
      "cell_type": "code",
      "execution_count": null,
      "metadata": {
        "colab": {
          "base_uri": "https://localhost:8080/"
        },
        "id": "qimnOiQEkKQJ",
        "outputId": "6b0dce6d-8a08-4eb0-8c58-ec479cb16eee"
      },
      "outputs": [
        {
          "name": "stdout",
          "output_type": "stream",
          "text": [
            "[2, 4, 6, 8, 10]\n"
          ]
        }
      ],
      "source": [
        "# comprehension : to concise the multiple statements\n",
        "# sytax:\n",
        "# [expression for in sequnce if condition]\n",
        "\n",
        "lst = [item for item in range(1, 11) if item%2 == 0]\n",
        "print(lst)"
      ]
    },
    {
      "cell_type": "code",
      "execution_count": null,
      "metadata": {
        "colab": {
          "base_uri": "https://localhost:8080/"
        },
        "id": "OiZZIPnrkrM9",
        "outputId": "0630c7f4-e2de-4b2c-b095-b001d0cccbfd"
      },
      "outputs": [
        {
          "name": "stdout",
          "output_type": "stream",
          "text": [
            "32°C is 89.6°F\n",
            "40°C is 104.0°F\n",
            "35°C is 95.0°F\n",
            "39°C is 102.2°F\n",
            "45°C is 113.0°F\n",
            "50°C is 122.0°F\n"
          ]
        }
      ],
      "source": [
        "# convert to celsius to fahrenheit\n",
        "# formula: clesious_temp * 9/5 + 32\n",
        "\n",
        "c_temp = [32, 40, 35, 39, 45, 50]\n",
        "\n",
        "for temp in c_temp:\n",
        "  # use formula to convert\n",
        "\n",
        "  fahren_temp = temp * 9/5 + 32\n",
        "  print(f\"{temp}°C is {fahren_temp}°F\")"
      ]
    },
    {
      "cell_type": "code",
      "execution_count": null,
      "metadata": {
        "colab": {
          "base_uri": "https://localhost:8080/"
        },
        "id": "lMIpXz-coBEP",
        "outputId": "5edcaf5e-75dd-4cbe-b2f7-f4db3f61516f"
      },
      "outputs": [
        {
          "name": "stdout",
          "output_type": "stream",
          "text": [
            "[89.6, 104.0, 95.0, 102.2, 113.0, 122.0]\n"
          ]
        }
      ],
      "source": [
        "# using list comprehension\n",
        "\n",
        "c_temp = [32, 40, 35, 39, 45, 50]\n",
        "\n",
        "f_temp = [temp*9/5+32 for temp in c_temp]\n",
        "print(f_temp)"
      ]
    },
    {
      "cell_type": "code",
      "execution_count": null,
      "metadata": {
        "colab": {
          "base_uri": "https://localhost:8080/"
        },
        "id": "uAJR6XIBok4b",
        "outputId": "eff11d27-f5e8-499d-aadf-efc45ded9e68"
      },
      "outputs": [
        {
          "name": "stdout",
          "output_type": "stream",
          "text": [
            "[2, 4, 6, 8, 10]\n"
          ]
        }
      ],
      "source": [
        "# another example of list comprehension\n",
        "square = [item for item in range(1,11) if item%2==0]\n",
        "print(square)"
      ]
    },
    {
      "cell_type": "code",
      "execution_count": null,
      "metadata": {
        "colab": {
          "base_uri": "https://localhost:8080/"
        },
        "id": "ctlFVxAVpXvd",
        "outputId": "b18966fa-ed10-4b66-eda1-d7915f83e063"
      },
      "outputs": [
        {
          "name": "stdout",
          "output_type": "stream",
          "text": [
            "Nested Squares: [[4, 16], [16, 36, 64], [64, 100]]\n"
          ]
        }
      ],
      "source": [
        "# nested list comprehension\n",
        "# syntax : [[expression for i in sequence if codition] for i in sequcne]]\n",
        "\n",
        "\n",
        "nested_squares = [[x**2 for x in range(i, i+5) if x % 2 == 0] for i in range(1, 10, 3)]\n",
        "print(\"Nested Squares:\", nested_squares)"
      ]
    },
    {
      "cell_type": "markdown",
      "metadata": {
        "id": "ozIi9bH0qWtl"
      },
      "source": [
        "# Explain the nested list comprehension example:\n",
        "\n",
        "# Execution process..\n",
        "\n",
        "# outter loop\n",
        "step_1st: for i in range(1, 10, 3)\n",
        "\n",
        "# inner loop\n",
        "step_2nd:  for x in range(i, i+5)\n",
        "\n",
        "# inside inner loop cds\n",
        "step_3th: if x % 2 == 0       \n",
        "\n",
        "# inside inner loop expression\n",
        "step_4th: x**2   \n",
        "-----------------------------------------------------------------\n",
        "\n",
        "# Explain start here:\n",
        "\n",
        "iteration_01 for outtter loop:\n",
        "---------------------------------\n",
        "# outter loop\n",
        "step_1st: for i in range(1, 10, 3)\n",
        "        : i = 1\n",
        "\n",
        "iteration_01 for inner loop:\n",
        "---------------------------------\n",
        "i = 1\n",
        "\n",
        "# inner loop\n",
        "step_2nd:  for x in range(1, 1+5)  \n",
        "        : x = 1\n",
        "\n",
        "# inside inner loop cds\n",
        "step_3th: if x % 2 == 0       \n",
        "        :  1 % 2 == 0 (False)\n",
        "\n",
        " # inside inner loop expression\n",
        "step_4th: x**2  (this is not execute)\n",
        "\n",
        "but x is increment or x = 1 + 1\n",
        "                        = 2\n",
        "-----------------------iteration_01 for inner loop end--------------\n",
        "\n",
        "\n",
        "\n",
        "iteration_01 for outter loop but iteration_02 for inner loop:\n",
        "------------------------------------------------------------\n",
        "# inner loop\n",
        "step_2nd:  for x in range(2, 6)  \n",
        "        : x = 2\n",
        "\n",
        "# inside inner loop cds\n",
        "step_3th: if x % 2 == 0       \n",
        "        :  2 % 2 == 0 (True)\n",
        "\n",
        "# inside inner loop expression\n",
        "step_4th:\n",
        " nested_squares = x**2\n",
        "                = 2 ** 2\n",
        "                = 4\n",
        "\n",
        "nested_squares = [4]\n",
        "\n",
        "-> x = x + 1\n",
        "     = 2 + 1\n",
        "     = 3\n",
        "-----------------------iteration_02 for inner loop end--------------\n",
        "\n",
        "\n",
        "iteration_01 for outter loop but iteration_03 for inner loop:\n",
        "------------------------------------------------------------\n",
        "x = 3\n",
        "# inner loop\n",
        "step_2nd:  for x in range(3, 6)  \n",
        "        : x = 3\n",
        "\n",
        "# inside inner loop cds\n",
        "step_3th: if x % 2 == 0       \n",
        "        :  3 % 2 == 0 (False)\n",
        "                \n",
        "nested_squares = [4]\n",
        "\n",
        "-> x = x + 1\n",
        "     = 3 + 1\n",
        "     = 4\n",
        "\n",
        "-----------------------iteration_03 for inner loop end--------------\n",
        "\n",
        "\n",
        "\n",
        "iteration_01 for outter loop but iteration_04 for inner loop:\n",
        "------------------------------------------------------------\n",
        "x = 4\n",
        "# inner loop\n",
        "step_2nd:  for x in range(4, 6)  \n",
        "        : x = 4\n",
        "\n",
        "# inside inner loop cds\n",
        "step_3th: if x % 2 == 0       \n",
        "        :  4 % 2 == 0 (True)\n",
        "\n",
        "# inside inner loop expression\n",
        "step_4th:\n",
        " nested_squares = x**2\n",
        "                = 4 ** 2\n",
        "                = 16\n",
        "\n",
        "                \n",
        "nested_squares = [4,16]\n",
        "\n",
        "-> x = x + 1\n",
        "     = 4 + 1\n",
        "     = 5\n",
        "\n",
        "-----------------------iteration_04 for inner loop end--------------\n",
        "\n",
        "\n",
        "iteration_01 for outter loop but iteration_05 for inner loop:\n",
        "------------------------------------------------------------\n",
        "x = 5\n",
        "# inner loop\n",
        "step_2nd:  for x in range(5, 6)  \n",
        "        : x = 5\n",
        "\n",
        "# inside inner loop cds\n",
        "step_3th: if x % 2 == 0       \n",
        "        :  5 % 2 == 0 (False)\n",
        "\n",
        "                \n",
        "nested_squares = [4,16]\n",
        "\n",
        "-> x = x + 1\n",
        "     = 5 + 1\n",
        "     = 6\n",
        "\n",
        "-----------------------iteration_05 for inner loop end--------------\n",
        "\n",
        "\n",
        "iteration_01 for outter loop but iteration_06 for inner loop:\n",
        "------------------------------------------------------------\n",
        "x = 6\n",
        "# inner loop\n",
        "step_2nd:  for x in range(6, 6) # False cds\n",
        "\n",
        "-----------------------iteration_06 for inner loop end--------------\n",
        "\n",
        "After iteration_01 for outter loop and all iteration for inner loop we get:\n",
        "    nested_squares = [4,16]\n",
        "\n",
        "\n",
        "-----------------------iteration_01 for *outter loop* end------------------------------------------------------------\n",
        "\n",
        "\n",
        "\n",
        "iteration_02 for outtter loop:\n",
        "---------------------------------\n",
        "# note: here step size = 3 so i = 1 + 3 => 4\n",
        "step_1st: for i in range(4, 10, 3) # outter loop\n",
        "        : i = 4\n",
        "\n",
        "iteration_02 for outter loop and iteration_01 for inner loop:\n",
        "------------------------------------------------------------\n",
        "\n",
        "# inner loop\n",
        "i = 4\n",
        "step_2nd:  for x in range(4,9)  \n",
        "        : x = 4\n",
        "\n",
        "# inside inner loop cds\n",
        "step_3th: if x % 2 == 0       \n",
        "        :  4 % 2 == 0 (True)\n",
        "\n",
        "# inside inner loop expression\n",
        "step_4th:\n",
        " nested_squares = x**2\n",
        "                = 4 ** 2\n",
        "                = 16\n",
        "\n",
        "nested_squares = [16]\n",
        "\n",
        "\n",
        "previous result nested_squares = [4, 16]\n",
        "\n",
        "overall result:\n",
        "nested_squares = [4, 16],[16]\n",
        "\n",
        "\n",
        "but x is increment or x = 4 + 1\n",
        "                        = 5\n",
        "-----------------------iteration_01 for inner loop end--------------\n",
        "\n",
        "\n",
        "iteration_02 for outter loop and iteration_02 for inner loop:\n",
        "---------------------------------------------------------------\n",
        "\n",
        "# inner loop\n",
        "step_2nd:  for x in range(5, 9)  \n",
        "        : x = 5\n",
        "\n",
        "# inside inner loop cds\n",
        "step_3th: if x % 2 == 0       \n",
        "        :  5 % 2 == 0 (False)\n",
        "\n",
        "overall result:\n",
        "nested_squares = [4, 16],[16]\n",
        "\n",
        "\n",
        "but x is increment or x = 5 + 1\n",
        "                        = 6\n",
        "-----------------------iteration_02 for inner loop end--------------\n",
        "\n",
        "\n",
        "iteration_02 for outter loop and iteration_03 for inner loop:\n",
        "------------------------------------------------------------\n",
        "\n",
        "# inner loop\n",
        "x = 6\n",
        "step_2nd:  for x in range(6, 9)  \n",
        "        : x = 6\n",
        "\n",
        "# inside inner loop cds\n",
        "step_3th: if x % 2 == 0       \n",
        "        :  6 % 2 == 0 (True)\n",
        "\n",
        "# inside inner loop expression\n",
        "step_4th:\n",
        " nested_squares = x**2\n",
        "                = 6 ** 2\n",
        "                = 36\n",
        "\n",
        "nested_squares = [16,36]\n",
        "\n",
        "\n",
        "previous result nested_squares = [4, 16]\n",
        "\n",
        "overall result:\n",
        "nested_squares = [4, 16],[16,36]\n",
        "\n",
        "\n",
        "but x is increment or x = 6 + 1\n",
        "                        = 7\n",
        "-----------------------iteration_03 for inner loop end--------------\n",
        "\n",
        "\n",
        "iteration_02 for outter loop and iteration_04 for inner loop:\n",
        "---------------------------------------------------------------\n",
        "\n",
        "# inner loop\n",
        "step_2nd:  for x in range(7, 9)  \n",
        "        : x = 7\n",
        "\n",
        "# inside inner loop cds\n",
        "step_3th: if x % 2 == 0       \n",
        "        :  7 % 2 == 0 (False)\n",
        "\n",
        "overall result:\n",
        "nested_squares = [4, 16],[16.36]\n",
        "\n",
        "\n",
        "but x is increment or x = 7 + 1\n",
        "                        = 8\n",
        "-----------------------iteration_04 for inner loop end-------------\n",
        "\n",
        "\n",
        "\n",
        "iteration_02 for outter loop and iteration_05 for inner loop:\n",
        "------------------------------------------------------------\n",
        "\n",
        "# inner loop\n",
        "x = 8\n",
        "step_2nd:  for x in range(8, 9)  \n",
        "        : x = 8\n",
        "\n",
        "# inside inner loop cds\n",
        "step_3th: if x % 2 == 0       \n",
        "        :  8 % 2 == 0 (True)\n",
        "\n",
        "# inside inner loop expression\n",
        "step_4th:\n",
        " nested_squares = x**2\n",
        "                = 8 ** 2\n",
        "                = 36\n",
        "\n",
        "nested_squares = [16,36,64]\n",
        "\n",
        "\n",
        "previous result nested_squares = [4, 16]\n",
        "\n",
        "overall result:\n",
        "nested_squares = [4, 16],[16,36,64]\n",
        "\n",
        "\n",
        "but x is increment or x = 8 + 1\n",
        "                        = 9\n",
        "-----------------------iteration_05 for inner loop end--------------\n",
        "\n",
        "\n",
        "\n",
        "iteration_02 for outter loop and iteration_06 for inner loop:\n",
        "---------------------------------------------------------------\n",
        "\n",
        "# inner loop\n",
        "step_2nd:  for x in range(9, 9) # (False)\n",
        "        \n",
        "-----------------------iteration_06 for inner loop end-------------\n",
        "\n",
        "-----------------------iteration_02 for outter loop end-------------\n",
        "\n",
        "\n",
        "After iteration_02 for outter loop and all iteration for inner loop we get\n",
        " nested_squares = [4, 16],[16,36,64]\n",
        "\n",
        "-- this process is continue untill the we get the below result\n",
        "Nested Squares: [[4, 16], [16, 36, 64], [64, 100]\n",
        "\n",
        "\n",
        "\n",
        "\n",
        "\n"
      ]
    }
  ],
  "metadata": {
    "colab": {
      "collapsed_sections": [
        "9ywJObKCesKX",
        "s_VJi7XFeLU4"
      ],
      "provenance": [],
      "toc_visible": true
    },
    "kernelspec": {
      "display_name": "Python 3",
      "name": "python3"
    },
    "language_info": {
      "name": "python"
    }
  },
  "nbformat": 4,
  "nbformat_minor": 0
}
