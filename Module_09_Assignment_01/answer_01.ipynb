{
 "cells": [
  {
   "cell_type": "markdown",
   "id": "3db81c9f",
   "metadata": {},
   "source": [
    "Quesntion_01: \n",
    "\n",
    "- Using filter() and lambda, extract even numbers from a given list.\n",
    "\n",
    "\n",
    "- Input Format:\n",
    "    Integers separated by space.\n",
    "- Output Format:\n",
    "    List of even integers.\n",
    "\n",
    "\n",
    "- Example:\n",
    "    Input: 5 6 7 8 9 10  \n",
    "    Output: [6, 8, 10]\n"
   ]
  },
  {
   "cell_type": "code",
   "execution_count": null,
   "id": "8dec4cca",
   "metadata": {},
   "outputs": [
    {
     "name": "stdout",
     "output_type": "stream",
     "text": [
      "[6, 8, 10]\n"
     ]
    }
   ],
   "source": [
    "# solve_01:\n",
    "user_ip = input()\n",
    "\n",
    "# conver str to list of string\n",
    "lst_str = []\n",
    "\n",
    "lst_str = user_ip.split()\n",
    "\n",
    "# print(lst_str)\n",
    "\n",
    "# conver to list of string to list of nubers(integer)\n",
    "\n",
    "nums_lst = []\n",
    "\n",
    "for i in lst_str:\n",
    "    i = int(i)\n",
    "    nums_lst.append(i)\n",
    "\n",
    "# print(nums_lst, type(nums_lst[0]))\n",
    "\n",
    "# List of even integers Using filter() and lambda\n",
    "\n",
    "lst_even = list(filter(lambda x: x%2==0,nums_lst))\n",
    "\n",
    "print(lst_even)\n",
    "\n"
   ]
  },
  {
   "cell_type": "markdown",
   "id": "d2dc5d62",
   "metadata": {},
   "source": [
    "- Question_02:\n",
    "\n",
    "- Write a function safe_divide(a,b) that performs a/b and handles division by zero using try–except.\n",
    " \n",
    "- Print \"Division by zero\" if b = 0.\n",
    "\n",
    "\n",
    "- Input Format:\n",
    "     Two integers a b.\n",
    "\n",
    "- Output Format:\n",
    "    Result or error message.\n",
    "\n",
    "- Example:\n",
    "\n",
    "    Input: 10 0  \n",
    "    Output: Division by zero\n"
   ]
  },
  {
   "cell_type": "code",
   "execution_count": 67,
   "metadata": {},
   "outputs": [
    {
     "name": "stdout",
     "output_type": "stream",
     "text": [
      "5.67\n"
     ]
    }
   ],
   "source": [
    "# solve_02:\n",
    "\n",
    "def safe_divide(a,b):\n",
    "    try:\n",
    "        div = a/b\n",
    "\n",
    "    except ZeroDivisionError:\n",
    "        print(\"Division by zero\")\n",
    "    \n",
    "    else:\n",
    "        print(f\"{div:.2f}\")\n",
    "    \n",
    "\n",
    "# input from user\n",
    "ip = input()\n",
    "\n",
    "# convert to str of lst\n",
    "str_lst_ip = ip.split()\n",
    "\n",
    "# asign value (like unpacking)\n",
    "a = str_lst_ip[0]\n",
    "b = str_lst_ip[1]\n",
    "\n",
    "# convert to integer\n",
    "a = int(a)\n",
    "b = int(b)\n",
    "\n",
    "safe_divide(a,b)\n",
    "\n"
   ]
  },
  {
   "cell_type": "markdown",
   "id": "8f17a382",
   "metadata": {},
   "source": [
    "### Question_4:\n",
    "\n",
    "- Find and print the longest word in a given sentence (if tie, print first one).\n",
    "\n",
    "- Input Format:\n",
    "    One line string\n",
    "\n",
    "- Output Format:\n",
    "    Longest word\n",
    "\n",
    "- Example:\n",
    "    Input: Python programming is enjoyable\n",
    "    Output: programming\n"
   ]
  },
  {
   "cell_type": "code",
   "execution_count": null,
   "id": "f2402d74",
   "metadata": {},
   "outputs": [],
   "source": [
    "# first way to slove\n",
    "sentence = input()\n",
    "\n",
    "# convert to list\n",
    "str_lst = sentence.split()\n",
    "\n",
    "# print(str_lst)\n",
    "# let\n",
    "long_word = str_lst[0]\n",
    "\n",
    "for i in str_lst:\n",
    "    if len(long_word) < len(i):\n",
    "        long_word = i\n",
    "    else:\n",
    "        long_word = long_word\n",
    "    \n",
    "print(long_word)  # Python programming is enjoyable\n"
   ]
  },
  {
   "cell_type": "code",
   "execution_count": null,
   "id": "1150d9d0",
   "metadata": {},
   "outputs": [
    {
     "name": "stdout",
     "output_type": "stream",
     "text": [
      "programminga\n"
     ]
    }
   ],
   "source": [
    "# another way to solve\n",
    "\n",
    "sentence = input().strip()  # input and remove whitespace from user input\n",
    "\n",
    "# print(sentence)\n",
    "\n",
    "# remove newline(\\n) character \n",
    "sentence = sentence.replace(\"\\\\n\", \"\")\n",
    "\n",
    "# convert to list\n",
    "str_lst = sentence.split()\n",
    "\n",
    "# print(str_lst)\n",
    "\n",
    "# let\n",
    "long_word = str_lst[0]\n",
    "\n",
    "for i in str_lst:\n",
    "    if len(long_word) < len(i):\n",
    "        long_word = i\n",
    "    else:\n",
    "        long_word = long_word\n",
    "    \n",
    "print(long_word)\n",
    "\n"
   ]
  },
  {
   "cell_type": "markdown",
   "id": "a01a5ed7",
   "metadata": {},
   "source": [
    "### Question_05: \n",
    "- A number is called strong if the sum of the factorial of its digits equals the number itself.\n",
    "\n",
    "        Example: 145 = 1! + 4! + 5!\n",
    "\n",
    "- Input Format:\n",
    "    Single integer\n",
    "\n",
    "- Output Format:\n",
    "    \"Strong Number\" or \"Not Strong Number\"\n",
    "\n",
    "- Example:\n",
    "    Input: 145\n",
    "    Output: Strong Number\n"
   ]
  },
  {
   "cell_type": "code",
   "execution_count": 44,
   "id": "982d92ef",
   "metadata": {},
   "outputs": [
    {
     "name": "stdout",
     "output_type": "stream",
     "text": [
      "145\n",
      "Strong Number\n"
     ]
    }
   ],
   "source": [
    "# Calculate factorial of all digit\n",
    "\n",
    "def fact(n):\n",
    "    if n == 0 or n == 1:\n",
    "        return 1\n",
    "    else:\n",
    "        return n * fact(n-1)\n",
    "\n",
    "\n",
    "\n",
    "# input integer form user\n",
    "num = int(input())\n",
    "\n",
    "temp = num\n",
    "\n",
    "print(num)\n",
    "summation = 0\n",
    "\n",
    "while num > 0:\n",
    "\n",
    "    digit = num %10 # give us every time last digit\n",
    "    \n",
    "\n",
    "    fact_ans = fact(digit)\n",
    "\n",
    "    # print(fact_ans)\n",
    "\n",
    "    summation += fact_ans\n",
    "\n",
    "    num = num // 10  # give us the floor result\n",
    "  \n",
    "    \n",
    "\n",
    "if temp == summation:\n",
    "    print(\"Strong Number\")\n",
    "else:\n",
    "    print(\"Not Strong Number\")\n",
    "\n"
   ]
  },
  {
   "cell_type": "markdown",
   "id": "6ffcf4dd",
   "metadata": {},
   "source": [
    "### Question_03:\n",
    "\n",
    "- Create a base class Shape with a method area() that returns 0.\n",
    "    Create subclasses:\n",
    "    Rectangle(w,h) → area = w × h\n",
    "\n",
    "\n",
    "    Circle(r) → area = π × r²\n",
    "\n",
    "\n",
    "- Read shape type and parameters, then print area (rounded to 2 decimals).\n",
    "    Input Format 1:\n",
    "    Rectangle 5 10\n",
    "\n",
    "    Output Format 1:\n",
    "    Area: 50.00\n",
    "\n",
    "\n",
    "    Input Format 2:\n",
    "    Circle 7\n",
    "\n",
    "    Output Format 2:\n",
    "    Area: 153.94\n",
    "\n"
   ]
  },
  {
   "cell_type": "code",
   "execution_count": 22,
   "id": "27aa6412",
   "metadata": {},
   "outputs": [],
   "source": [
    "# solve\n",
    "\n",
    "class Shape:\n",
    "    # def __ini__(self,a,b):\n",
    "    #     self.a = a\n",
    "    #     self.b = b\n",
    "\n",
    "    def area(self,a,b=0):\n",
    "        if b == 0:\n",
    "            return 3.1416 * a * a\n",
    "        else:\n",
    "            return a * b\n",
    "        \n",
    "\n",
    "class Rectagle(Shape):\n",
    "    def __init__(self,a,b):\n",
    "        self.a = a\n",
    "        self.b = b\n",
    "\n",
    "    def area(self):\n",
    "        return super().area(self.a, self.b)\n",
    "    \n",
    "\n",
    "class Circle(Shape):\n",
    "    def __init__(self,a):\n",
    "        self.a = a\n",
    "\n",
    "    def area(self):\n",
    "        return super().area(self.a)\n"
   ]
  },
  {
   "cell_type": "code",
   "execution_count": 24,
   "id": "99de2ec0",
   "metadata": {},
   "outputs": [
    {
     "name": "stdout",
     "output_type": "stream",
     "text": [
      "Area: 50.00\n",
      "Area: 153.94\n"
     ]
    }
   ],
   "source": [
    "obj = Rectagle(5,10)\n",
    "\n",
    "area_rectangle = obj.area()\n",
    "print(f\"Area: {area_rectangle:.2f}\")\n",
    "\n",
    "\n",
    "circel = Circle(7)\n",
    "\n",
    "area_circle = circel.area()\n",
    "\n",
    "print(f\"Area: {area_circle:.2f}\")"
   ]
  },
  {
   "cell_type": "code",
   "execution_count": null,
   "id": "5df04aa5",
   "metadata": {},
   "outputs": [
    {
     "name": "stdout",
     "output_type": "stream",
     "text": [
      "Area: 50.00\n",
      "Area : 153.94\n",
      "Area: 0.00\n"
     ]
    }
   ],
   "source": [
    "# Another way to Solve \n",
    "\n",
    "class Shape:\n",
    "    def area(self):\n",
    "        return 0\n",
    "\n",
    "class Rectagle(Shape):\n",
    "    def __init__(self,w,h):\n",
    "        self.w = w\n",
    "        self.h = h\n",
    "\n",
    "    def area(self):\n",
    "        return self.w * self.h\n",
    "\n",
    "\n",
    "class Circle(Shape):\n",
    "    def __init__(self,r):\n",
    "        self.r = r\n",
    "\n",
    "    def area(self):\n",
    "        return 3.1416 * self.r * self.r\n",
    "\n",
    "\n",
    "# object of Rectagle\n",
    "reg_obj = Rectagle(5,10)\n",
    "\n",
    "print(f\"Area: {reg_obj.area():.2f}\")\n",
    "\n",
    "\n",
    "# object of Circle\n",
    "cir_obj = Circle(7)\n",
    "\n",
    "print(f\"Area : {cir_obj.area():.2f}\")\n",
    "\n",
    "\n",
    "\n",
    "# object of parent calss(Shape)\n",
    "sp_obj = Shape()\n",
    "\n",
    "print(f\"Area: {sp_obj.area():.2f}\")\n",
    "\n"
   ]
  },
  {
   "cell_type": "code",
   "execution_count": null,
   "id": "259967c5",
   "metadata": {},
   "outputs": [],
   "source": []
  }
 ],
 "metadata": {
  "kernelspec": {
   "display_name": "base",
   "language": "python",
   "name": "python3"
  },
  "language_info": {
   "codemirror_mode": {
    "name": "ipython",
    "version": 3
   },
   "file_extension": ".py",
   "mimetype": "text/x-python",
   "name": "python",
   "nbconvert_exporter": "python",
   "pygments_lexer": "ipython3",
   "version": "3.13.5"
  }
 },
 "nbformat": 4,
 "nbformat_minor": 5
}
