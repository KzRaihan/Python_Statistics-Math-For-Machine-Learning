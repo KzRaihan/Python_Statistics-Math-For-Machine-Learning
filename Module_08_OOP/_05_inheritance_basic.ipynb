{
 "cells": [
  {
   "cell_type": "markdown",
   "id": "70f9ed28",
   "metadata": {},
   "source": [
    "## Topic: Basic of Inheritance"
   ]
  },
  {
   "cell_type": "markdown",
   "id": "0f70779f",
   "metadata": {},
   "source": [
    "### OUTCOMES\n",
    "\n",
    "- 1. Introdunction of Inheritance\n",
    "\n",
    "- 2. Example of inheritance \n",
    "\n",
    "- 3. Inheritance Class Diagram\n",
    "\n",
    "- 4. What gets inherited?\n",
    "\n",
    "- 5. Method Overriding\n",
    "\n",
    "- 6. Supper Keyword\n"
   ]
  },
  {
   "cell_type": "markdown",
   "id": "7cf6c201",
   "metadata": {},
   "source": [
    "### 1. Introdunction of Inheritance"
   ]
  },
  {
   "cell_type": "markdown",
   "id": "5387e363",
   "metadata": {},
   "source": [
    "- Definition:\n",
    "    -  The process by which one class(child/sub) inherits attributes and methods from another class(parent/super).\n",
    "\n",
    "\n",
    "- Benefit:\n",
    "    - Code Reuse\n",
    "\n",
    "    - Easy maintenance\n",
    "\n",
    "- syntax:\n",
    "    - class Parent:\n",
    "       - body -- of Parent\n",
    "\n",
    "    \n",
    "    - class Child(Parent):\n",
    "       - body of Child and Parent--"
   ]
  },
  {
   "cell_type": "markdown",
   "id": "20c886df",
   "metadata": {},
   "source": [
    "### 2. Example of inheritance "
   ]
  },
  {
   "cell_type": "code",
   "execution_count": 6,
   "id": "583705c6",
   "metadata": {},
   "outputs": [
    {
     "name": "stdout",
     "output_type": "stream",
     "text": [
      "Registeration is complete in udemy\n",
      "Login is succesfull\n",
      "Welcome - Kz\n",
      "Python course is successfully create\n",
      "Do you have any doubts\n"
     ]
    }
   ],
   "source": [
    "# Example - to Create inheritanc\n",
    "\n",
    "# udemy\n",
    "\n",
    "class User:\n",
    "    def __init__(self,name):\n",
    "        self.name = name\n",
    "\n",
    "    def register(self):\n",
    "        print(\"Registeration is complete in udemy\")\n",
    "\n",
    "    def login(self):\n",
    "        print(\"Login is succesfull\")\n",
    "        print(f\"Welcome - {self.name}\")\n",
    "\n",
    "\n",
    "# child class\n",
    "class Teacher(User):\n",
    "\n",
    "    def course(self):\n",
    "        print(\"Python course is successfully create\")\n",
    "    \n",
    "    def reply(self):\n",
    "        print(\"Do you have any doubts\")\n",
    "\n",
    "\n",
    "\n",
    "# object\n",
    "\n",
    "t1 = Teacher(\"Kz\")\n",
    "\n",
    "t1.register()\n",
    "t1.login()\n",
    "\n",
    "t1.course()\n",
    "t1.reply()\n",
    "\n"
   ]
  },
  {
   "cell_type": "code",
   "execution_count": null,
   "id": "e6588ce5",
   "metadata": {},
   "outputs": [],
   "source": [
    "# Example - 2:\n",
    "\n",
    "# parent class\n",
    "class User:\n",
    "\n",
    "    def register(self):\n",
    "        print(\"Registeration is complete in udemy\")\n",
    "\n",
    "    def login(self):\n",
    "        print(\"Login is succesfull\")\n",
    "        \n",
    "\n",
    "# child class\n",
    "class Teacher(User):\n",
    "    def __init__(self,name):\n",
    "        self.name = name\n",
    "        \n",
    "\n",
    "    def course(self):\n",
    "        print(\"Name: \", self.name)\n",
    "        print(\"Python course is successfully create\")\n",
    "    \n",
    "    def reply(self):\n",
    "        print(\"Do you have any doubts\")\n",
    "        print(f\"Welcome - {self.name}\")\n",
    "\n",
    "# child class\n",
    "class Student(User):\n",
    "    def __init__(self,name):\n",
    "        self.name = name\n",
    "       \n",
    "\n",
    "    def enroll(self):\n",
    "        print(\"Name: \", self.name)\n",
    "        print(\"Enroll the course\")\n",
    "\n",
    "    def review(self):\n",
    "        print(\"I have a question\")"
   ]
  },
  {
   "cell_type": "code",
   "execution_count": 10,
   "id": "d3435d62",
   "metadata": {},
   "outputs": [
    {
     "name": "stdout",
     "output_type": "stream",
     "text": [
      "Registeration is complete in udemy\n",
      "Login is succesfull\n",
      "Name:  Kz\n",
      "Python course is successfully create\n",
      "Do you have any doubts\n",
      "Welcome - Kz\n"
     ]
    }
   ],
   "source": [
    "# Teacher class object\n",
    "\n",
    "t1 = Teacher(\"Kz\")\n",
    "t1.register()\n",
    "t1.login()\n",
    "t1.course()\n",
    "t1.reply()\n"
   ]
  },
  {
   "cell_type": "code",
   "execution_count": 12,
   "id": "c519131b",
   "metadata": {},
   "outputs": [
    {
     "name": "stdout",
     "output_type": "stream",
     "text": [
      "Registeration is complete in udemy\n",
      "Login is succesfull\n",
      "Name:  Raihan\n",
      "Enroll the course\n",
      "I have a question\n"
     ]
    }
   ],
   "source": [
    "\n",
    "# Student class object\n",
    "\n",
    "s1 = Student(\"Raihan\")\n",
    "\n",
    "s1.register()\n",
    "s1.login()\n",
    "s1.enroll()\n",
    "s1.review()"
   ]
  },
  {
   "cell_type": "markdown",
   "id": "010477d5",
   "metadata": {},
   "source": [
    "### 3. What gets inherited?"
   ]
  },
  {
   "cell_type": "markdown",
   "id": "7f92d07b",
   "metadata": {},
   "source": [
    "- 1. Constructor\n",
    "    - ( if child class has no constructor then automatically call the parent class constructor)\n",
    "    - (if child class has a constructor then first execute the child class constructor then parent class constructor).\n",
    "\n",
    "- 2. Non Private attributes\n",
    "\n",
    "- 3. Non Private Methods\n",
    "\n",
    "\n"
   ]
  },
  {
   "cell_type": "markdown",
   "id": "6569b82a",
   "metadata": {},
   "source": [
    "#### inheritance constructor\n",
    "- if child class has no constructor then automatically call the parent class constructor"
   ]
  },
  {
   "cell_type": "code",
   "execution_count": 16,
   "id": "259dab29",
   "metadata": {},
   "outputs": [],
   "source": [
    "class Phone:\n",
    "    # constructor\n",
    "    def __init__(self, price, brand, camera):\n",
    "        self.price = price\n",
    "        self.brand = brand\n",
    "        self.camera = camera\n",
    "\n",
    "    \n",
    "    def info(self):\n",
    "        print(\"Brand: \", self.brand)\n",
    "        print(\"Price: \", self.price)\n",
    "        print(\"Camera: \", self.camera)\n",
    "\n",
    "    \n",
    "\n",
    "class SmartPhone(Phone):\n",
    "    def smrt_phone(self):\n",
    "        print(\"SmartPhone body\")\n",
    "\n"
   ]
  },
  {
   "cell_type": "code",
   "execution_count": null,
   "id": "e4d2a0f7",
   "metadata": {},
   "outputs": [
    {
     "ename": "TypeError",
     "evalue": "Phone.__init__() missing 3 required positional arguments: 'price', 'brand', and 'camera'",
     "output_type": "error",
     "traceback": [
      "\u001b[1;31m---------------------------------------------------------------------------\u001b[0m",
      "\u001b[1;31mTypeError\u001b[0m                                 Traceback (most recent call last)",
      "Cell \u001b[1;32mIn[14], line 3\u001b[0m\n\u001b[0;32m      1\u001b[0m \u001b[38;5;66;03m# object of SmartPhone\u001b[39;00m\n\u001b[1;32m----> 3\u001b[0m s1 \u001b[38;5;241m=\u001b[39m SmartPhone()\n",
      "\u001b[1;31mTypeError\u001b[0m: Phone.__init__() missing 3 required positional arguments: 'price', 'brand', and 'camera'"
     ]
    }
   ],
   "source": [
    "# object of SmartPhone\n",
    "\n",
    "s1 = SmartPhone()\n",
    "\n",
    "\n",
    "# if child class has no constructor then automatically call the parent class constructor\n",
    "# here parent class constructor has parameters"
   ]
  },
  {
   "cell_type": "code",
   "execution_count": null,
   "id": "e2c5644b",
   "metadata": {},
   "outputs": [
    {
     "name": "stdout",
     "output_type": "stream",
     "text": [
      "Brand:  Apple\n",
      "Price:  1010\n",
      "Camera:  14\n",
      "SmartPhone body\n"
     ]
    }
   ],
   "source": [
    "s2 = SmartPhone(1010, \"Apple\", 14)\n",
    "\n",
    "# parent class method\n",
    "s2.info()\n",
    "\n",
    "# own class method\n",
    "s2.smrt_phone()"
   ]
  },
  {
   "cell_type": "markdown",
   "id": "04295efa",
   "metadata": {},
   "source": [
    "#### Inheritance the constructor\n",
    "\n",
    "- if child class has a constructor then first execute the child class constructor then parent class constructor"
   ]
  },
  {
   "cell_type": "code",
   "execution_count": 21,
   "id": "7948aee4",
   "metadata": {},
   "outputs": [],
   "source": [
    "class Phone:\n",
    "    # constructor\n",
    "    def __init__(self, price, brand, camera):\n",
    "        self.price = price\n",
    "        self.brand = brand\n",
    "        self.camera = camera\n",
    "\n",
    "    \n",
    "    def info(self):\n",
    "        print(\"Brand: \", self.brand)\n",
    "        print(\"Price: \", self.price)\n",
    "        print(\"Camera: \", self.camera)\n",
    "\n",
    "    \n",
    "# child class\n",
    "class SmartPhone(Phone):\n",
    "    \n",
    "    def __init__(self,os,ram):\n",
    "        self.os = os\n",
    "        self.ram = ram\n",
    "\n",
    "    def smrt_phone_details(self):\n",
    "        print(\"OS: \", self.os)\n",
    "        print(\"RAM: \", self.ram)\n",
    "\n"
   ]
  },
  {
   "cell_type": "code",
   "execution_count": null,
   "id": "ad3e5f3e",
   "metadata": {},
   "outputs": [
    {
     "name": "stdout",
     "output_type": "stream",
     "text": [
      "OS:  Android\n",
      "RAM:  8\n"
     ]
    }
   ],
   "source": [
    "s1 = SmartPhone(\"Android\", 8)\n",
    "\n",
    "s1.smrt_phone_details()\n"
   ]
  },
  {
   "cell_type": "code",
   "execution_count": null,
   "id": "f579e016",
   "metadata": {},
   "outputs": [
    {
     "ename": "AttributeError",
     "evalue": "'SmartPhone' object has no attribute 'brand'",
     "output_type": "error",
     "traceback": [
      "\u001b[1;31m---------------------------------------------------------------------------\u001b[0m",
      "\u001b[1;31mAttributeError\u001b[0m                            Traceback (most recent call last)",
      "Cell \u001b[1;32mIn[24], line 3\u001b[0m\n\u001b[0;32m      1\u001b[0m \u001b[38;5;66;03m# what if?? -> try to access the parent class constructor\u001b[39;00m\n\u001b[1;32m----> 3\u001b[0m \u001b[38;5;28mprint\u001b[39m(\u001b[38;5;124m\"\u001b[39m\u001b[38;5;124mBrand: \u001b[39m\u001b[38;5;124m\"\u001b[39m, s1\u001b[38;5;241m.\u001b[39mbrand)\n\u001b[0;32m      4\u001b[0m \u001b[38;5;28mprint\u001b[39m(\u001b[38;5;124m\"\u001b[39m\u001b[38;5;124mBrand: \u001b[39m\u001b[38;5;124m\"\u001b[39m, s1\u001b[38;5;241m.\u001b[39mprice)\n\u001b[0;32m      5\u001b[0m \u001b[38;5;28mprint\u001b[39m(\u001b[38;5;124m\"\u001b[39m\u001b[38;5;124mBrand: \u001b[39m\u001b[38;5;124m\"\u001b[39m, s1\u001b[38;5;241m.\u001b[39mcamera)\n",
      "\u001b[1;31mAttributeError\u001b[0m: 'SmartPhone' object has no attribute 'brand'"
     ]
    }
   ],
   "source": [
    "# what if?? -> try to access the parent class constructor\n",
    "\n",
    "print(\"Brand: \", s1.brand)\n",
    "print(\"Brand: \", s1.price)\n",
    "print(\"Brand: \", s1.camera)\n",
    "\n",
    "\n",
    "'''     \n",
    "- Q.N: why Error?\n",
    "\n",
    "- Answer:\n",
    "    - when child class have a constructor then interpreter first execute the child class constructor body and interpreter don't go to parent class constructor.\n",
    "\n",
    "    - when interpreter don't go to parent class constructor then parent class attributes can't create(memory) or initialize.\n",
    "\n",
    "    - Therefore, when we try to acccess the parent class attribute then it's provide error.\n",
    "\n",
    "    - solution: using super() keyword\n",
    "\n",
    "\n",
    "'''\n"
   ]
  },
  {
   "cell_type": "code",
   "execution_count": 32,
   "id": "52c1cd3f",
   "metadata": {},
   "outputs": [],
   "source": [
    "# Example for clear what happen above program\n",
    "class Phone:\n",
    "    # constructor\n",
    "    def __init__(self, price, brand, camera):\n",
    "        self.price = price\n",
    "        self.brand = brand\n",
    "        self.camera = camera\n",
    "\n",
    "    \n",
    "    def info(self):\n",
    "        print(\"Brand: \", self.brand)\n",
    "        print(\"Price: \", self.price)\n",
    "        print(\"Camera: \", self.camera)\n",
    "\n",
    "    \n",
    "# child class\n",
    "class SmartPhone(Phone):\n",
    "\n",
    "    def display(self):\n",
    "        print(\"This is child class\")\n"
   ]
  },
  {
   "cell_type": "code",
   "execution_count": 35,
   "id": "ab771527",
   "metadata": {},
   "outputs": [
    {
     "ename": "TypeError",
     "evalue": "Phone.__init__() missing 3 required positional arguments: 'price', 'brand', and 'camera'",
     "output_type": "error",
     "traceback": [
      "\u001b[1;31m---------------------------------------------------------------------------\u001b[0m",
      "\u001b[1;31mTypeError\u001b[0m                                 Traceback (most recent call last)",
      "Cell \u001b[1;32mIn[35], line 1\u001b[0m\n\u001b[1;32m----> 1\u001b[0m s1 \u001b[38;5;241m=\u001b[39m SmartPhone()\n\u001b[0;32m      2\u001b[0m \u001b[38;5;28mprint\u001b[39m(s1\u001b[38;5;241m.\u001b[39mbrand)\n\u001b[0;32m      3\u001b[0m \u001b[38;5;28mprint\u001b[39m(s1\u001b[38;5;241m.\u001b[39mprice)\n",
      "\u001b[1;31mTypeError\u001b[0m: Phone.__init__() missing 3 required positional arguments: 'price', 'brand', and 'camera'"
     ]
    }
   ],
   "source": [
    "s1 = SmartPhone()\n",
    "print(s1.brand)\n",
    "print(s1.price)\n",
    "s1.display()"
   ]
  },
  {
   "cell_type": "code",
   "execution_count": 36,
   "id": "314b0a61",
   "metadata": {},
   "outputs": [
    {
     "name": "stdout",
     "output_type": "stream",
     "text": [
      "Brand:  Apple\n",
      "Price:  1111\n",
      "Camera:  13\n",
      "This is child class\n"
     ]
    }
   ],
   "source": [
    "s1 = SmartPhone(1111, \"Apple\", 13)\n",
    "\n",
    "s1.info()\n",
    "\n",
    "s1.display()"
   ]
  },
  {
   "cell_type": "markdown",
   "id": "c6b67aa8",
   "metadata": {},
   "source": [
    "#### Private Attributes"
   ]
  },
  {
   "cell_type": "code",
   "execution_count": 25,
   "id": "ccb1ca0d",
   "metadata": {},
   "outputs": [],
   "source": [
    "# chlild class can't access the parent class private attributes\n",
    "\n",
    "class Parent:\n",
    "    def __init__(self, val, num):\n",
    "        self.__val = val # private attribute\n",
    "        self.num = num\n",
    "\n",
    "    # getter method to access the private attribute\n",
    "    def get_val(self):\n",
    "        print(\"val: \", self.__val)\n",
    "\n",
    "\n",
    "# child class\n",
    "\n",
    "class Child(Parent):\n",
    "    def check(self):\n",
    "        print(\"Val:\",self.__val)  # Error"
   ]
  },
  {
   "cell_type": "code",
   "execution_count": null,
   "id": "1ead3552",
   "metadata": {},
   "outputs": [
    {
     "ename": "AttributeError",
     "evalue": "'Child' object has no attribute '_Child__val'",
     "output_type": "error",
     "traceback": [
      "\u001b[1;31m---------------------------------------------------------------------------\u001b[0m",
      "\u001b[1;31mAttributeError\u001b[0m                            Traceback (most recent call last)",
      "Cell \u001b[1;32mIn[26], line 5\u001b[0m\n\u001b[0;32m      1\u001b[0m \u001b[38;5;66;03m# object\u001b[39;00m\n\u001b[0;32m      3\u001b[0m c1 \u001b[38;5;241m=\u001b[39m Child(\u001b[38;5;241m1001\u001b[39m, \u001b[38;5;241m2002\u001b[39m)\n\u001b[1;32m----> 5\u001b[0m c1\u001b[38;5;241m.\u001b[39mcheck()\n",
      "Cell \u001b[1;32mIn[25], line 17\u001b[0m, in \u001b[0;36mChild.check\u001b[1;34m(self)\u001b[0m\n\u001b[0;32m     16\u001b[0m \u001b[38;5;28;01mdef\u001b[39;00m\u001b[38;5;250m \u001b[39m\u001b[38;5;21mcheck\u001b[39m(\u001b[38;5;28mself\u001b[39m):\n\u001b[1;32m---> 17\u001b[0m     \u001b[38;5;28mprint\u001b[39m(\u001b[38;5;124m\"\u001b[39m\u001b[38;5;124mVal:\u001b[39m\u001b[38;5;124m\"\u001b[39m,\u001b[38;5;28mself\u001b[39m\u001b[38;5;241m.\u001b[39m__val)\n",
      "\u001b[1;31mAttributeError\u001b[0m: 'Child' object has no attribute '_Child__val'"
     ]
    }
   ],
   "source": [
    "# object\n",
    "\n",
    "c1 = Child(1001, 2002)\n",
    "\n",
    "c1.check() # Try to access the private attributes"
   ]
  },
  {
   "cell_type": "code",
   "execution_count": null,
   "id": "cb320236",
   "metadata": {},
   "outputs": [
    {
     "name": "stdout",
     "output_type": "stream",
     "text": [
      "val:  1001\n"
     ]
    }
   ],
   "source": [
    "c1.get_val() # access private attribute using getter method"
   ]
  },
  {
   "cell_type": "code",
   "execution_count": 28,
   "id": "dfcb61da",
   "metadata": {},
   "outputs": [
    {
     "data": {
      "text/plain": [
       "2002"
      ]
     },
     "execution_count": 28,
     "metadata": {},
     "output_type": "execute_result"
    }
   ],
   "source": [
    "# public attribute\n",
    "c1.num"
   ]
  },
  {
   "cell_type": "markdown",
   "id": "f9860165",
   "metadata": {},
   "source": [
    "#### Public Method"
   ]
  },
  {
   "cell_type": "code",
   "execution_count": null,
   "id": "49e71166",
   "metadata": {},
   "outputs": [],
   "source": [
    "class A:\n",
    "    def __init__(self):\n",
    "        self.val = 100\n",
    "\n",
    "    def display1(self, var1):\n",
    "        print(\"Class A : \", var1) # own class (parent) class attribute\n",
    "\n",
    "\n",
    "class B(A):\n",
    "    \n",
    "    def display2(self):\n",
    "        print(\"Class B: \", self.val) # parent class attribute"
   ]
  },
  {
   "cell_type": "code",
   "execution_count": 30,
   "id": "d8900e82",
   "metadata": {},
   "outputs": [
    {
     "name": "stdout",
     "output_type": "stream",
     "text": [
      "Class A :  200\n",
      "Class B:  100\n"
     ]
    }
   ],
   "source": [
    "obj_b = B()\n",
    "\n",
    "obj_b.display1(200)\n",
    "obj_b.display2()"
   ]
  },
  {
   "cell_type": "markdown",
   "id": "16ee931b",
   "metadata": {},
   "source": [
    "#### Private Mehod"
   ]
  },
  {
   "cell_type": "code",
   "execution_count": 39,
   "id": "edfd8816",
   "metadata": {},
   "outputs": [],
   "source": [
    "class A:\n",
    "    def __init__(self):\n",
    "        self.__val = 100\n",
    "\n",
    "    # private method\n",
    "    def __display(self):\n",
    "        print(\"This is private Method\")\n",
    "\n",
    "\n",
    "    # public method\n",
    "    def info(self):\n",
    "        print(\"Val is : \",self.__val)\n",
    "\n",
    "\n",
    "class B(A):\n",
    "    # try to access the parent class private method\n",
    "    def display1(self):\n",
    "        print(\"Method private: \", self.__display)\n",
    "    \n",
    "    # try to access the public method in parent class\n",
    "\n",
    "    def display2(self):\n",
    "        return self.info()"
   ]
  },
  {
   "cell_type": "code",
   "execution_count": null,
   "id": "7137865f",
   "metadata": {},
   "outputs": [
    {
     "ename": "AttributeError",
     "evalue": "'B' object has no attribute '_B__display'",
     "output_type": "error",
     "traceback": [
      "\u001b[1;31m---------------------------------------------------------------------------\u001b[0m",
      "\u001b[1;31mAttributeError\u001b[0m                            Traceback (most recent call last)",
      "Cell \u001b[1;32mIn[40], line 3\u001b[0m\n\u001b[0;32m      1\u001b[0m obj \u001b[38;5;241m=\u001b[39m B()\n\u001b[1;32m----> 3\u001b[0m obj\u001b[38;5;241m.\u001b[39mdisplay1()\n",
      "Cell \u001b[1;32mIn[39], line 18\u001b[0m, in \u001b[0;36mB.display1\u001b[1;34m(self)\u001b[0m\n\u001b[0;32m     17\u001b[0m \u001b[38;5;28;01mdef\u001b[39;00m\u001b[38;5;250m \u001b[39m\u001b[38;5;21mdisplay1\u001b[39m(\u001b[38;5;28mself\u001b[39m):\n\u001b[1;32m---> 18\u001b[0m     \u001b[38;5;28mprint\u001b[39m(\u001b[38;5;124m\"\u001b[39m\u001b[38;5;124mMethod private: \u001b[39m\u001b[38;5;124m\"\u001b[39m, \u001b[38;5;28mself\u001b[39m\u001b[38;5;241m.\u001b[39m__display)\n",
      "\u001b[1;31mAttributeError\u001b[0m: 'B' object has no attribute '_B__display'"
     ]
    }
   ],
   "source": [
    "obj = B()\n",
    "\n",
    "obj.display1() # try to access private method\n"
   ]
  },
  {
   "cell_type": "code",
   "execution_count": 42,
   "id": "1f296e1e",
   "metadata": {},
   "outputs": [
    {
     "ename": "AttributeError",
     "evalue": "'B' object has no attribute '__display'",
     "output_type": "error",
     "traceback": [
      "\u001b[1;31m---------------------------------------------------------------------------\u001b[0m",
      "\u001b[1;31mAttributeError\u001b[0m                            Traceback (most recent call last)",
      "Cell \u001b[1;32mIn[42], line 1\u001b[0m\n\u001b[1;32m----> 1\u001b[0m obj\u001b[38;5;241m.\u001b[39m__display()\n",
      "\u001b[1;31mAttributeError\u001b[0m: 'B' object has no attribute '__display'"
     ]
    }
   ],
   "source": [
    "obj.__display()"
   ]
  },
  {
   "cell_type": "code",
   "execution_count": 41,
   "id": "ee525824",
   "metadata": {},
   "outputs": [
    {
     "name": "stdout",
     "output_type": "stream",
     "text": [
      "Val is :  100\n"
     ]
    }
   ],
   "source": [
    "obj.display2()"
   ]
  },
  {
   "cell_type": "code",
   "execution_count": 43,
   "id": "98362b03",
   "metadata": {},
   "outputs": [
    {
     "name": "stdout",
     "output_type": "stream",
     "text": [
      "Val is :  100\n"
     ]
    }
   ],
   "source": [
    "obj.info()"
   ]
  },
  {
   "cell_type": "markdown",
   "id": "90897791",
   "metadata": {},
   "source": [
    "### 5. Overriding"
   ]
  },
  {
   "cell_type": "markdown",
   "id": "76cfa4ff",
   "metadata": {},
   "source": [
    "- Child class and parent class have same name method.\n",
    "\n",
    "- occures when child class defines a method with the same name as one in it's parent class.\n",
    "\n",
    "-  Execution precedence of method:\n",
    "    - child class > parent class\n",
    "\n",
    "- why need?\n",
    "    - Customization of inheritance Behavior\n",
    "    - Code Reusability and Extension.\n",
    "    - Polymorphism mechanism."
   ]
  },
  {
   "cell_type": "code",
   "execution_count": 46,
   "id": "c11df8ec",
   "metadata": {},
   "outputs": [],
   "source": [
    "# Example of method overriding\n",
    "\n",
    "class Phone:\n",
    "    \n",
    "    def __init__(self, price, brand, camera):\n",
    "        print(\"Inside the Phone constructor\")\n",
    "        self.price = price\n",
    "        self.brand = brand\n",
    "        self.camera = camera\n",
    "\n",
    "\n",
    "    def buy(self):\n",
    "        print(\"Buying a Phone\")\n",
    "\n",
    "\n",
    "class SmartPhone(Phone):\n",
    "    def buy(self):\n",
    "        print(\"Buying a Smartphone\")\n",
    "    "
   ]
  },
  {
   "cell_type": "code",
   "execution_count": null,
   "id": "a5554e92",
   "metadata": {},
   "outputs": [
    {
     "name": "stdout",
     "output_type": "stream",
     "text": [
      "Inside the Phone constructor\n",
      "Buying a Smartphone\n",
      "Price:  1000\n"
     ]
    }
   ],
   "source": [
    "s1 = SmartPhone(1000,\"Apple\", 14)\n",
    "\n",
    "s1.buy() # child class method\n",
    "\n",
    "print(\"Price: \",s1.price) # parent class attribute\n",
    "\n",
    "# NOTE: \n",
    "# - outside the class we will call by object\n",
    "# - inside the class we call the attributes by object"
   ]
  },
  {
   "cell_type": "markdown",
   "id": "2d6b6438",
   "metadata": {},
   "source": [
    "### 6. Super Keyword"
   ]
  },
  {
   "cell_type": "markdown",
   "id": "a33d74b1",
   "metadata": {},
   "source": [
    "- A bridge to call parent methods or constructors.\n",
    "\n",
    "- use:\n",
    "    - super use inside the child class\n",
    "    - Access Parent Methods/constructor\n",
    "    - Reuse & extend parent functionality.\n",
    "    - Method overriding.\n",
    "\n",
    "- can't use:\n",
    "    - super can't fetch instance variable directly.\n",
    "    - super can't be use outside the class.\n"
   ]
  },
  {
   "cell_type": "markdown",
   "id": "57e922e8",
   "metadata": {},
   "source": [
    "#### super with constructor"
   ]
  },
  {
   "cell_type": "code",
   "execution_count": null,
   "id": "44e38725",
   "metadata": {},
   "outputs": [],
   "source": [
    "class Phone:\n",
    "    # constructor\n",
    "    def __init__(self,price,brand,camera):\n",
    "        print(\"Inside the phone constructor\")\n",
    "        self.price = price\n",
    "        self.brand = brand\n",
    "        self.camera = camera\n",
    "\n",
    "\n",
    "# child class\n",
    "class SmartPhone(Phone):\n",
    "    \n",
    "    def __init__(self,price,brand,camera,os,ram):\n",
    "        print(\"Inside the Smartphone constructor\")\n",
    "\n",
    "        super().__init__(price,brand,camera)  # call the parent constructor\n",
    "\n",
    "        self.os = os\n",
    "        self.ram = ram\n",
    "\n"
   ]
  },
  {
   "cell_type": "code",
   "execution_count": null,
   "id": "f83cdc6f",
   "metadata": {},
   "outputs": [
    {
     "name": "stdout",
     "output_type": "stream",
     "text": [
      "Inside the Smartphone constructor\n",
      "Inside the phone constructor\n",
      "1000\n",
      "Apple\n",
      "14\n",
      "Android\n",
      "8\n"
     ]
    }
   ],
   "source": [
    "# object\n",
    "s = SmartPhone(1000,\"Apple\",  14, \"Android\", 8)\n",
    "\n",
    "print(s.price)\n",
    "print(s.brand)\n",
    "print(s.camera)\n",
    "\n",
    "print(s.os)\n",
    "print(s.ram)\n"
   ]
  },
  {
   "cell_type": "markdown",
   "id": "b1c8cb2b",
   "metadata": {},
   "source": [
    "#### super with method"
   ]
  },
  {
   "cell_type": "code",
   "execution_count": null,
   "id": "4b568e63",
   "metadata": {},
   "outputs": [],
   "source": [
    "class Phone:\n",
    "    # constructor\n",
    "    def __init__(self,price,brand,camera):\n",
    "        print(\"Inside the phone constructor\")\n",
    "        self.price = price\n",
    "        self.brand = brand\n",
    "        self.camera = camera\n",
    "\n",
    "    def info(self):\n",
    "        print(\"Price: \", self.price)\n",
    "        print(\"Brand: \",self.brand)\n",
    "        \n",
    "\n",
    "# child class\n",
    "class SmartPhone(Phone):\n",
    "\n",
    "    def display(self):\n",
    "        super().info()   #call the parent method\n",
    "        print(\"Camera: \",self.camera)"
   ]
  },
  {
   "cell_type": "code",
   "execution_count": 53,
   "id": "1c65f907",
   "metadata": {},
   "outputs": [
    {
     "name": "stdout",
     "output_type": "stream",
     "text": [
      "Inside the phone constructor\n"
     ]
    }
   ],
   "source": [
    "s1 = SmartPhone(100,\"Apple\", 13)"
   ]
  },
  {
   "cell_type": "code",
   "execution_count": 54,
   "id": "88e30b50",
   "metadata": {},
   "outputs": [
    {
     "name": "stdout",
     "output_type": "stream",
     "text": [
      "Price:  100\n",
      "Brand:  Apple\n"
     ]
    }
   ],
   "source": [
    "s1.info()"
   ]
  },
  {
   "cell_type": "code",
   "execution_count": 55,
   "id": "729edbd7",
   "metadata": {},
   "outputs": [
    {
     "name": "stdout",
     "output_type": "stream",
     "text": [
      "Price:  100\n",
      "Brand:  Apple\n",
      "Camera:  13\n"
     ]
    }
   ],
   "source": [
    "s1.display()"
   ]
  },
  {
   "cell_type": "markdown",
   "id": "f6c96339",
   "metadata": {},
   "source": [
    "#### using super outside the class"
   ]
  },
  {
   "cell_type": "code",
   "execution_count": 56,
   "id": "287e7559",
   "metadata": {},
   "outputs": [],
   "source": [
    "class Phone:\n",
    "    # constructor\n",
    "    def __init__(self,price,brand,camera):\n",
    "        print(\"Inside the phone constructor\")\n",
    "        self.price = price\n",
    "        self.brand = brand\n",
    "        self.camera = camera\n",
    "\n",
    "    def info(self):\n",
    "        print(\"Price: \", self.price)\n",
    "        print(\"Brand: \",self.brand)\n",
    "        \n",
    "\n",
    "# child class\n",
    "class SmartPhone(Phone):\n",
    "\n",
    "    def display(self):\n",
    "        print(\"Camera: \",self.camera)"
   ]
  },
  {
   "cell_type": "code",
   "execution_count": 57,
   "id": "d6744275",
   "metadata": {},
   "outputs": [
    {
     "name": "stdout",
     "output_type": "stream",
     "text": [
      "Inside the phone constructor\n"
     ]
    }
   ],
   "source": [
    "s1 = SmartPhone(100,\"Apple\", 13)"
   ]
  },
  {
   "cell_type": "code",
   "execution_count": 58,
   "id": "615bead3",
   "metadata": {},
   "outputs": [
    {
     "ename": "RuntimeError",
     "evalue": "super(): no arguments",
     "output_type": "error",
     "traceback": [
      "\u001b[1;31m---------------------------------------------------------------------------\u001b[0m",
      "\u001b[1;31mRuntimeError\u001b[0m                              Traceback (most recent call last)",
      "Cell \u001b[1;32mIn[58], line 1\u001b[0m\n\u001b[1;32m----> 1\u001b[0m \u001b[38;5;28msuper\u001b[39m()\u001b[38;5;241m.\u001b[39minfo()\n",
      "\u001b[1;31mRuntimeError\u001b[0m: super(): no arguments"
     ]
    }
   ],
   "source": [
    "super().info()"
   ]
  },
  {
   "cell_type": "code",
   "execution_count": 59,
   "id": "fbe77e8c",
   "metadata": {},
   "outputs": [
    {
     "ename": "RuntimeError",
     "evalue": "super(): no arguments",
     "output_type": "error",
     "traceback": [
      "\u001b[1;31m---------------------------------------------------------------------------\u001b[0m",
      "\u001b[1;31mRuntimeError\u001b[0m                              Traceback (most recent call last)",
      "Cell \u001b[1;32mIn[59], line 1\u001b[0m\n\u001b[1;32m----> 1\u001b[0m \u001b[38;5;28msuper\u001b[39m()\u001b[38;5;241m.\u001b[39mdisplay()\n",
      "\u001b[1;31mRuntimeError\u001b[0m: super(): no arguments"
     ]
    }
   ],
   "source": [
    "super().display()"
   ]
  },
  {
   "cell_type": "code",
   "execution_count": 60,
   "id": "d66f32c3",
   "metadata": {},
   "outputs": [
    {
     "ename": "AttributeError",
     "evalue": "'SmartPhone' object has no attribute 'super'",
     "output_type": "error",
     "traceback": [
      "\u001b[1;31m---------------------------------------------------------------------------\u001b[0m",
      "\u001b[1;31mAttributeError\u001b[0m                            Traceback (most recent call last)",
      "Cell \u001b[1;32mIn[60], line 1\u001b[0m\n\u001b[1;32m----> 1\u001b[0m s1\u001b[38;5;241m.\u001b[39msuper()\u001b[38;5;241m.\u001b[39mdisplay()\n",
      "\u001b[1;31mAttributeError\u001b[0m: 'SmartPhone' object has no attribute 'super'"
     ]
    }
   ],
   "source": [
    "s1.super().display()"
   ]
  },
  {
   "cell_type": "markdown",
   "id": "22368e61",
   "metadata": {},
   "source": [
    "#### super can't directly access the parement calss data(attributes)"
   ]
  },
  {
   "cell_type": "code",
   "execution_count": 61,
   "id": "4cc52cbd",
   "metadata": {},
   "outputs": [],
   "source": [
    "class Phone:\n",
    "    # constructor\n",
    "    def __init__(self,price,brand,camera):\n",
    "        print(\"Inside the phone constructor\")\n",
    "        self.price = price\n",
    "        self.brand = brand\n",
    "        self.camera = camera\n",
    "\n",
    "    def info(self):\n",
    "        print(\"Price: \", self.price)\n",
    "        print(\"Brand: \",self.brand)\n",
    "        \n",
    "\n",
    "# child class\n",
    "class SmartPhone(Phone):\n",
    "\n",
    "    def display(self):\n",
    "        print(\"Camera: \",self.camera)\n",
    "        print(\"Data: \", super().brand)"
   ]
  },
  {
   "cell_type": "code",
   "execution_count": 62,
   "id": "63ab3698",
   "metadata": {},
   "outputs": [
    {
     "name": "stdout",
     "output_type": "stream",
     "text": [
      "Inside the phone constructor\n"
     ]
    }
   ],
   "source": [
    "s1 = SmartPhone(100,\"Apple\", 13)"
   ]
  },
  {
   "cell_type": "code",
   "execution_count": 63,
   "id": "37b40be6",
   "metadata": {},
   "outputs": [
    {
     "name": "stdout",
     "output_type": "stream",
     "text": [
      "Camera:  13\n"
     ]
    },
    {
     "ename": "AttributeError",
     "evalue": "'super' object has no attribute 'brand'",
     "output_type": "error",
     "traceback": [
      "\u001b[1;31m---------------------------------------------------------------------------\u001b[0m",
      "\u001b[1;31mAttributeError\u001b[0m                            Traceback (most recent call last)",
      "Cell \u001b[1;32mIn[63], line 1\u001b[0m\n\u001b[1;32m----> 1\u001b[0m s1\u001b[38;5;241m.\u001b[39mdisplay()\n",
      "Cell \u001b[1;32mIn[61], line 19\u001b[0m, in \u001b[0;36mSmartPhone.display\u001b[1;34m(self)\u001b[0m\n\u001b[0;32m     17\u001b[0m \u001b[38;5;28;01mdef\u001b[39;00m\u001b[38;5;250m \u001b[39m\u001b[38;5;21mdisplay\u001b[39m(\u001b[38;5;28mself\u001b[39m):\n\u001b[0;32m     18\u001b[0m     \u001b[38;5;28mprint\u001b[39m(\u001b[38;5;124m\"\u001b[39m\u001b[38;5;124mCamera: \u001b[39m\u001b[38;5;124m\"\u001b[39m,\u001b[38;5;28mself\u001b[39m\u001b[38;5;241m.\u001b[39mcamera)\n\u001b[1;32m---> 19\u001b[0m     \u001b[38;5;28mprint\u001b[39m(\u001b[38;5;124m\"\u001b[39m\u001b[38;5;124mData: \u001b[39m\u001b[38;5;124m\"\u001b[39m, \u001b[38;5;28msuper\u001b[39m()\u001b[38;5;241m.\u001b[39mbrand)\n",
      "\u001b[1;31mAttributeError\u001b[0m: 'super' object has no attribute 'brand'"
     ]
    }
   ],
   "source": [
    "s1.display()"
   ]
  },
  {
   "cell_type": "markdown",
   "id": "99766298",
   "metadata": {},
   "source": [
    "#### Practices of super()"
   ]
  },
  {
   "cell_type": "code",
   "execution_count": 64,
   "id": "0dacf2ae",
   "metadata": {},
   "outputs": [],
   "source": [
    "# Practices-01:\n",
    "\n",
    "class Parent:\n",
    "    def __init__(self,num):\n",
    "        self.__num = num\n",
    "\n",
    "    def get_num(self):\n",
    "        return self.__num\n",
    "    \n",
    "\n",
    "class Child(Parent):\n",
    "    def __init__(self,num,val):\n",
    "        super().__init__(num)\n",
    "\n",
    "        self.__val = val\n",
    "\n",
    "\n",
    "    def get_val(self):\n",
    "        return self.__val\n",
    "\n"
   ]
  },
  {
   "cell_type": "code",
   "execution_count": null,
   "id": "bfd23496",
   "metadata": {},
   "outputs": [
    {
     "name": "stdout",
     "output_type": "stream",
     "text": [
      "10\n",
      "500\n"
     ]
    }
   ],
   "source": [
    "son = Child(10, 500)\n",
    "\n",
    "print(son.get_num()) # parent class method\n",
    "print(son.get_val()) # child class method"
   ]
  },
  {
   "cell_type": "code",
   "execution_count": 80,
   "id": "550bf392",
   "metadata": {},
   "outputs": [],
   "source": [
    "class Parent:\n",
    "\n",
    "    def __init__(self):\n",
    "        self.num = 100\n",
    "\n",
    "   \n",
    "\n",
    "class Child(Parent):\n",
    "\n",
    "    def __init__(self):\n",
    "        super().__init__()\n",
    "        self.__var = 200\n",
    "\n",
    "    def display(self):\n",
    "        print(self.num)\n",
    "        print(self.__var)\n",
    "\n"
   ]
  },
  {
   "cell_type": "code",
   "execution_count": 81,
   "id": "bd9840ff",
   "metadata": {},
   "outputs": [
    {
     "name": "stdout",
     "output_type": "stream",
     "text": [
      "100\n",
      "200\n"
     ]
    }
   ],
   "source": [
    "son = Child()\n",
    "\n",
    "son.display()\n"
   ]
  },
  {
   "cell_type": "code",
   "execution_count": 82,
   "id": "f06ab4bf",
   "metadata": {},
   "outputs": [],
   "source": [
    "class A:\n",
    "    def __init__(self,num1):\n",
    "        self.__num1 = num1\n",
    "    \n",
    "    def get_num1(self):\n",
    "        return self.__num1\n",
    "    \n",
    "\n",
    "class B(A):\n",
    "    def __init__(self,num1,num2):\n",
    "        super().__init__(num1)\n",
    "        \n",
    "        self.__num2 = num2\n",
    "\n",
    "    def get_num2(self):\n",
    "        return self.__num2\n",
    "    "
   ]
  },
  {
   "cell_type": "code",
   "execution_count": 83,
   "id": "ebb648d5",
   "metadata": {},
   "outputs": [
    {
     "name": "stdout",
     "output_type": "stream",
     "text": [
      "10\n",
      "20\n"
     ]
    }
   ],
   "source": [
    "obj = B(10,20)\n",
    "\n",
    "print(obj.get_num1())\n",
    "\n",
    "print(obj.get_num2())\n"
   ]
  },
  {
   "cell_type": "code",
   "execution_count": null,
   "id": "684a6f81",
   "metadata": {},
   "outputs": [],
   "source": []
  }
 ],
 "metadata": {
  "kernelspec": {
   "display_name": "base",
   "language": "python",
   "name": "python3"
  },
  "language_info": {
   "codemirror_mode": {
    "name": "ipython",
    "version": 3
   },
   "file_extension": ".py",
   "mimetype": "text/x-python",
   "name": "python",
   "nbconvert_exporter": "python",
   "pygments_lexer": "ipython3",
   "version": "3.13.5"
  }
 },
 "nbformat": 4,
 "nbformat_minor": 5
}
