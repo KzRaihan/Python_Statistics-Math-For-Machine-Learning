{
 "cells": [
  {
   "cell_type": "markdown",
   "id": "70f9ed28",
   "metadata": {},
   "source": [
    "## Topic: Basic of Inheritance"
   ]
  },
  {
   "cell_type": "markdown",
   "id": "0f70779f",
   "metadata": {},
   "source": [
    "### OUTCOMES\n",
    "\n",
    "- 1. Introdunction of Inheritance\n",
    "\n",
    "- 2. Example of inheritance \n",
    "\n",
    "- 3. What gets inherited?\n"
   ]
  },
  {
   "cell_type": "markdown",
   "id": "7cf6c201",
   "metadata": {},
   "source": [
    "### 1. Introdunction of Inheritance"
   ]
  },
  {
   "cell_type": "markdown",
   "id": "5387e363",
   "metadata": {},
   "source": [
    "- Definition:\n",
    "    -  The process by which one class(child/sub) inherits attributes and methods from another class(parent/super).\n",
    "\n",
    "\n",
    "- Benefit:\n",
    "    - Code Reuse"
   ]
  },
  {
   "cell_type": "code",
   "execution_count": null,
   "id": "583705c6",
   "metadata": {},
   "outputs": [],
   "source": []
  },
  {
   "cell_type": "code",
   "execution_count": null,
   "id": "6c11f147",
   "metadata": {},
   "outputs": [],
   "source": []
  },
  {
   "cell_type": "markdown",
   "id": "0bd814ec",
   "metadata": {},
   "source": [
    "### 2. Example of inheritance "
   ]
  },
  {
   "cell_type": "code",
   "execution_count": null,
   "id": "e6588ce5",
   "metadata": {},
   "outputs": [],
   "source": []
  },
  {
   "cell_type": "code",
   "execution_count": null,
   "id": "d3435d62",
   "metadata": {},
   "outputs": [],
   "source": []
  },
  {
   "cell_type": "markdown",
   "id": "010477d5",
   "metadata": {},
   "source": [
    "### 3. What gets inherited?"
   ]
  },
  {
   "cell_type": "code",
   "execution_count": null,
   "id": "259dab29",
   "metadata": {},
   "outputs": [],
   "source": []
  },
  {
   "cell_type": "code",
   "execution_count": null,
   "id": "e4d2a0f7",
   "metadata": {},
   "outputs": [],
   "source": []
  },
  {
   "cell_type": "code",
   "execution_count": null,
   "id": "7948aee4",
   "metadata": {},
   "outputs": [],
   "source": []
  }
 ],
 "metadata": {
  "kernelspec": {
   "display_name": "base",
   "language": "python",
   "name": "python3"
  },
  "language_info": {
   "name": "python",
   "version": "3.13.5"
  }
 },
 "nbformat": 4,
 "nbformat_minor": 5
}
