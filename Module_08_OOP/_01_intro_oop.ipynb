{
 "cells": [
  {
   "cell_type": "markdown",
   "id": "7434bb89",
   "metadata": {},
   "source": [
    "## Topic: Introdunction of OOP"
   ]
  },
  {
   "cell_type": "markdown",
   "id": "1505673f",
   "metadata": {},
   "source": [
    "### OUTCOMES\n",
    "\n",
    "- 1.  Introduction to OOP\n",
    "\n",
    "- 2. Class and Object\n",
    "\n",
    "- 3. Class Diagram\n",
    "\n",
    "- 4. Class Variable and Instnce Variable\n",
    "\n",
    "- 4. Method in classes\n",
    "\n",
    "- 5. Practices"
   ]
  },
  {
   "cell_type": "markdown",
   "id": "7c93ba7b",
   "metadata": {},
   "source": [
    "### 1.  Introduction to Object Oriented Programming (OOP)"
   ]
  },
  {
   "cell_type": "markdown",
   "id": "f5cd5674",
   "metadata": {},
   "source": [
    "- OOP is a paradigm that organizes code into objects that contain data and behavior.\n",
    "\n",
    "- OOP has four core Principles\n",
    "    - 1. Encapsulation\n",
    "\n",
    "    - 2. Inheritance\n",
    "\n",
    "    - 3. Polymorphism\n",
    "\n",
    "    - 4. Abstraction\n",
    "\n",
    "- Apart form these conceptss\n",
    "    - classs and objects\n",
    "    - constructor\n",
    "    - Different Type of keywords(self,static,super)\n",
    "\n",
    "\n",
    "- Benefit:\n",
    "    - using OOP concepts we create our own data type.\n",
    "\n",
    "    - Easier to understand\n",
    "\n",
    "    - Reuable\n",
    "\n",
    "    - Organized and modular\n",
    "\n",
    "\n"
   ]
  },
  {
   "cell_type": "markdown",
   "id": "42d101e6",
   "metadata": {},
   "source": [
    "### 2. Class and Object"
   ]
  },
  {
   "cell_type": "markdown",
   "id": "4faad38e",
   "metadata": {},
   "source": [
    "- Class:\n",
    "    - A blueprint or template for creating objects.\n",
    "    - or class is a set of rules that follow an object.\n",
    "\n",
    "    - Inside class contain\n",
    "\n",
    "        - Data/property or attributes.\n",
    "        - Function/behavior or methods.\n",
    "        \n",
    "    - eg: Car or Mobile Phone, Animals etc.\n",
    "    \n",
    "    - Types of class\n",
    "    \n",
    "        - 1. Bulid-in class (int, list)\n",
    "        - 2. User-define class(own class)\n",
    "    "
   ]
  },
  {
   "cell_type": "code",
   "execution_count": null,
   "id": "414e364f",
   "metadata": {},
   "outputs": [],
   "source": [
    "# Basic class Structure\n",
    "# class_name :\n",
    "#   ---block of the class-----\n",
    "\"\"\"\n",
    "class Car:\n",
    "\n",
    "    color = \"Blue\"     # thise are the data or property or attribute \n",
    "    model = \"Sports\"\n",
    "\n",
    "    def cal_avg_speed(km,time):  # functionaly or method\n",
    "        # some code  \n",
    "\n",
    "\n",
    "\"\"\"\n",
    "# here\n",
    "# ->  class = Keyword\n",
    "# ->  Car = class name\n",
    "#  class name follow Pascal Case (eg: MyCar)"
   ]
  },
  {
   "cell_type": "markdown",
   "id": "81db9d9c",
   "metadata": {},
   "source": [
    "- Object:\n",
    "    - An instance of a class.(eg: Toyota, Tesla)\n",
    "    \n",
    "    - Syntax of create object\n",
    "        - object_name = class_name(arguments)\n",
    "\n",
    "        - eg: toyota = Car()\n",
    "\n",
    "   - Example of classes and objects\n",
    "        - class  | object\n",
    "        ---------------------------------\n",
    "        - Car    | toyota, tesla, BMW etc.\n",
    "        - phone  | samsung, iphone, nokia etc\n",
    "        - Animal | cat, dog, lion etc\n",
    "        \n",
    "        - Collage| student (own class and object) \n",
    "\n"
   ]
  },
  {
   "cell_type": "code",
   "execution_count": null,
   "id": "826d5fe0",
   "metadata": {},
   "outputs": [
    {
     "data": {
      "text/plain": [
       "list"
      ]
     },
     "execution_count": 5,
     "metadata": {},
     "output_type": "execute_result"
    }
   ],
   "source": [
    "lst = [1,2,3]\n",
    "\n",
    "print(type(lst)) # here lst is objects of list"
   ]
  },
  {
   "cell_type": "code",
   "execution_count": 6,
   "id": "5152ced5",
   "metadata": {},
   "outputs": [
    {
     "ename": "AttributeError",
     "evalue": "'list' object has no attribute 'upper'",
     "output_type": "error",
     "traceback": [
      "\u001b[1;31m---------------------------------------------------------------------------\u001b[0m",
      "\u001b[1;31mAttributeError\u001b[0m                            Traceback (most recent call last)",
      "Cell \u001b[1;32mIn[6], line 1\u001b[0m\n\u001b[1;32m----> 1\u001b[0m lst\u001b[38;5;241m.\u001b[39mupper()\n",
      "\u001b[1;31mAttributeError\u001b[0m: 'list' object has no attribute 'upper'"
     ]
    }
   ],
   "source": [
    "lst.upper()"
   ]
  },
  {
   "cell_type": "code",
   "execution_count": null,
   "id": "7200d728",
   "metadata": {},
   "outputs": [
    {
     "name": "stdout",
     "output_type": "stream",
     "text": [
      "Car class in Create object\n",
      "Toyota\n",
      "Bule\n"
     ]
    }
   ],
   "source": [
    "# Example of class and object\n",
    "\n",
    "class Car:\n",
    "    # class attributes\n",
    "    brand = \"Toyota\"\n",
    "    color = \"Bule\"\n",
    "\n",
    "    # method\n",
    "    def __init__(self):\n",
    "        print(\"Car class in Create object\")\n",
    "\n",
    "\n",
    "# Create first object\n",
    "toyota = Car()\n",
    "\n",
    "# access the car attribute (data)\n",
    "brand = toyota.brand\n",
    "print(brand)\n",
    "\n",
    "print(toyota.color)\n",
    "\n"
   ]
  },
  {
   "cell_type": "markdown",
   "id": "0d77e7d7",
   "metadata": {},
   "source": [
    "### 3. Class Diagram"
   ]
  },
  {
   "cell_type": "code",
   "execution_count": null,
   "id": "07765b11",
   "metadata": {},
   "outputs": [],
   "source": [
    "'''  \n",
    "┌─────────────────┐\n",
    "│      Car        │ --> Class name\n",
    "├─────────────────┤\n",
    "│ - brand         │\n",
    "│ - model         │ --> Attribut or data\n",
    "│ - year          │\n",
    "│ - is_running    │\n",
    "├─────────────────┤\n",
    "│ + __init__()    │ --> Method or functionality\n",
    "│ + start_engine()│\n",
    "│ + stop_engine() │\n",
    "└─────────────────┘\n",
    "       ▲\n",
    "       │\n",
    "┌───────────────────┐\n",
    "│ car1 = Car()      │\n",
    "│ car2 = Car()      │ --> Objects\n",
    "└───────────────────┘\n",
    "\n",
    "'''\n",
    "# (-) or negative means private \n",
    "# (+) or positive menas public"
   ]
  },
  {
   "cell_type": "markdown",
   "id": "451c43f2",
   "metadata": {},
   "source": [
    "### 4. Class Variable and Instance Variable"
   ]
  },
  {
   "cell_type": "markdown",
   "id": "0e37e03c",
   "metadata": {},
   "source": [
    "- Class Variable or attribute\n",
    "\n",
    "    - Declare Outside all methods but inside the class body.\n",
    "    - shared by all objects of the class (contant)\n",
    "    \n",
    "- Object attribute\n",
    "\n",
    "    - Declare inside the constructor(__init__) using self.\n",
    "    - Unique for each object"
   ]
  },
  {
   "cell_type": "code",
   "execution_count": 17,
   "id": "db74496a",
   "metadata": {},
   "outputs": [
    {
     "name": "stdout",
     "output_type": "stream",
     "text": [
      "University of Tübingen\n",
      "Kz\n",
      "1010\n"
     ]
    }
   ],
   "source": [
    "# Example : class attribute and instance attribute\n",
    "\n",
    "\n",
    "class Student:\n",
    "    # class attribute\n",
    "    universtiy = \"University of Tübingen\"\n",
    "\n",
    "    def __init__(self,name,id):\n",
    "        self.name = name  # instance attribute\n",
    "        self.id = id\n",
    "\n",
    "s1 = Student(\"Kz\", 1010)\n",
    "\n",
    "# access class attribut\n",
    "print(s1.universtiy)\n",
    "\n",
    "# Access instance attribute\n",
    "print(s1.name)\n",
    "print(s1.id)\n"
   ]
  },
  {
   "cell_type": "markdown",
   "id": "e7146399",
   "metadata": {},
   "source": [
    "### 5. Method in classes"
   ]
  },
  {
   "cell_type": "markdown",
   "id": "8e01b04f",
   "metadata": {},
   "source": [
    "- Inside an class a function call Method.\n",
    "\n",
    "- The functionality or behavior or action of an object.\n",
    "\n",
    "- To define object-specific actions.\n",
    "\n",
    "- Types of Method\n",
    "    - 1. Class Method  \n",
    "        - Use class methods for data common to all objects\n",
    "    \n",
    "    - 2. Object Method \n",
    "        - Use instance methods for object-specific data.\n",
    "    \n",
    "    - 3. Static Method \n",
    "        - Use static methods for independent utility logic.\n",
    "\n"
   ]
  },
  {
   "cell_type": "code",
   "execution_count": null,
   "id": "a0b0827c",
   "metadata": {},
   "outputs": [
    {
     "name": "stdout",
     "output_type": "stream",
     "text": [
      "Name of university:  AI an ML university\n",
      "Name:  Kz\n",
      "ID  :  101\n",
      "Mark:  [10, 20, 30]\n",
      "Welcome To Our university\n"
     ]
    }
   ],
   "source": [
    "# Example:\n",
    "\n",
    "class Student:\n",
    "    # class variable\n",
    "    university = \"AI an ML university\"\n",
    "\n",
    "    # constructor\n",
    "    def __init__(self, name, id, mark):\n",
    "        self.name = name\n",
    "        self.id = id        # instance attributes\n",
    "        self.mark = mark\n",
    "\n",
    "    # class method\n",
    "    @classmethod\n",
    "    def clss_method(cls):\n",
    "        print(\"Name of university: \", cls.university)\n",
    "\n",
    "    # object method\n",
    "    def show_info(self):\n",
    "        print(\"Name: \", self.name)\n",
    "        print(\"ID  : \", self.id)\n",
    "        print(\"Mark: \", self.mark)\n",
    "\n",
    "    # static method\n",
    "    @staticmethod\n",
    "    def greet():\n",
    "        print(\"Welcome To Our university\")\n",
    "\n",
    "\n",
    "\n",
    "# object 1\n",
    "\n",
    "s1 = Student(\"Kz\", \"101\", [10,20,30])\n",
    "\n",
    "# call class method\n",
    "cls_m = s1.clss_method()\n",
    "\n",
    "# call object method\n",
    "ob_m = s1.show_info()\n",
    "\n",
    "# call static method\n",
    "st_m = s1.greet()\n"
   ]
  },
  {
   "cell_type": "markdown",
   "id": "a7819b44",
   "metadata": {},
   "source": [
    "### Create a Phone class that have some attributes and functionalities"
   ]
  },
  {
   "cell_type": "code",
   "execution_count": null,
   "id": "69a6675a",
   "metadata": {},
   "outputs": [],
   "source": [
    "class Phone:\n",
    "    # class attribute\n",
    "    category = \"Electronics\"\n",
    "\n",
    "    # constructor\n",
    "    def __init__(self,model,battery,camera,battery_percentage=100):\n",
    "\n",
    "        self.model = model\n",
    "        self.battery = battery\n",
    "        self.camera = camera\n",
    "        self.battery_percentage = battery_percentage\n",
    "        self.change = 100\n",
    "    \n",
    "    # method\n",
    "    def charge(self,hour):\n",
    "        if (self.change == 100) :\n",
    "            print(f\"{self.model} change : {self.change}\")\n",
    "        else:\n",
    "            self.change += hour\n",
    "            print(f\"{self.model} change: {self.change}\")\n",
    "\n",
    "    # method\n",
    "    def capture(self,photo):\n",
    "\n",
    "        if (self.battery_percentage) <= 0:\n",
    "            print(\"No change\")\n",
    "        \n",
    "        else:\n",
    "            self.battery_percentage -= photo\n",
    "            print(f\"Photo capture {self.model} and photo quantity: {photo}\")\n",
    "\n",
    "    "
   ]
  },
  {
   "cell_type": "code",
   "execution_count": 66,
   "id": "1263ab13",
   "metadata": {},
   "outputs": [
    {
     "name": "stdout",
     "output_type": "stream",
     "text": [
      "M-17 change : 100\n",
      "Photo capture M-17 and photo quantity: 10\n",
      "M-17 battery percentage: 90\n",
      "S-24 battery percentage: 100\n"
     ]
    }
   ],
   "source": [
    "# create objects and access the class attribute and modify the class attribute\n",
    "\n",
    "samsung = Phone(\"S-24\", 5000, 50)  # here parameter-> model, battery, camera\n",
    "\n",
    "# print(samsung.category)\n",
    "\n",
    "iphone = Phone(\"IP-17\", 4000, 40)  # here parameter-> model, battery, camera\n",
    "\n",
    "iphone.category = \"Super Electronics\"  # change the class attribute\n",
    "\n",
    "# print(iphone.category)\n",
    "\n",
    "\n",
    "bluebery = Phone(\"B-17\", 3500, 30)  # here parameter-> model, battery, camera\n",
    "\n",
    "# print(bluebery.category)  # show the default or class attribute\n",
    "\n",
    "motorola = Phone(\"M-17\", 4000, 35)  # here parameter-> model, battery, camera\n",
    "\n",
    "\n",
    "## Access method \n",
    "change = motorola.charge(2)  # parameter -> hour\n",
    "\n",
    "motorola.capture(10)  # parameter -> numbers of photo\n",
    "\n",
    "# now after capture 10 photo the battery_percentage is change\n",
    "\n",
    "print(f\"{motorola.model} battery percentage: {motorola.battery_percentage}\")\n",
    "\n",
    "\n",
    "# but other obect can't take photo so battery_percentage is no change\n",
    "print(f\"{samsung.model} battery percentage: {samsung.battery_percentage}\")\n"
   ]
  },
  {
   "cell_type": "markdown",
   "id": "5951d33b",
   "metadata": {},
   "source": [
    "### Create ATM machine basic function code"
   ]
  },
  {
   "cell_type": "code",
   "execution_count": 2,
   "id": "555003f3",
   "metadata": {},
   "outputs": [],
   "source": [
    "class Atm:\n",
    "    machine = \"ATM\"\n",
    "\n",
    "    def __init__(self,pin,balance):\n",
    "        self.pin = \" \"\n",
    "        self.balance = 0\n",
    "\n",
    "        self.menu()\n",
    "    \n",
    "    def menu(self):\n",
    "        user_input = input(\n",
    "            '''\n",
    "            1. Press 1 to create pin\n",
    "            2. Press 2 to change pin\n",
    "            3. Press 3 to check balance\n",
    "            4. Press 4 to Withdraw\n",
    "            5. Press 5 to Exit\n",
    "            \n",
    "            '''\n",
    "        )\n",
    "        if user_input == \"1\":\n",
    "            # create pin\n",
    "            self.create_pin()\n",
    "\n",
    "        elif user_input == \"2\":\n",
    "            # change pin\n",
    "            self.change_pin()\n",
    "        elif user_input == \"3\":\n",
    "            # check_balance\n",
    "            self.check_balance()\n",
    "\n",
    "        elif user_input == \"4\":\n",
    "            self.withdraw()\n",
    "            \n",
    "        else:\n",
    "            exit()\n",
    "\n",
    "# Crate pin: 1\n",
    "    def create_pin(self):\n",
    "        user_pin = input(\"Enter you pin: \")\n",
    "        self.pin = user_pin\n",
    "\n",
    "        balance = int(input(\"Enter your Balance: \"))\n",
    "        self.balance = balance\n",
    "\n",
    "        self.menu()\n",
    "\n",
    "# Change pin: 2\n",
    "\n",
    "    def change_pin(self):\n",
    "        old_pin = input(\"Enter you old pin: \")\n",
    "\n",
    "        if old_pin == self.pin:\n",
    "            new_pin = input(\"Enter your new pin: \")\n",
    "            self.pin = new_pin\n",
    "            print(\"Pin Successful Create\")\n",
    "            self.menu()\n",
    "        else:\n",
    "            print(\"Incorrect pin Please try again...\")\n",
    "        \n",
    "        \n",
    "\n",
    "# check_balance: 3\n",
    "    def check_balance(self):\n",
    "        pin = input(\"Enter you pin: \")\n",
    "\n",
    "        if pin == self.pin:\n",
    "            print(f\"Your Balance: {self.balance}\")\n",
    "        else:\n",
    "            print(\"Pin in not correct\")\n",
    "\n",
    "\n",
    "# withdraw(): 4\n",
    "\n",
    "    def withdraw(self):\n",
    "        user_pin = input(\"Enter you pin: \")\n",
    "\n",
    "        if user_pin == self.pin:\n",
    "            # allow to withdraw\n",
    "            amount = int(input(\"Enter you amount: \"))\n",
    "\n",
    "            if amount <= self.balance:\n",
    "                self.balance -= amount\n",
    "                print(f\"Withdraw Successful. balance is: {self.balance}\")\n",
    "            else:\n",
    "                print(\"Balance is not enough.\")\n",
    "\n",
    "        else:\n",
    "            print(\"Invalid pin\")\n",
    "\n",
    "        self.menu()"
   ]
  },
  {
   "cell_type": "code",
   "execution_count": null,
   "id": "0696e039",
   "metadata": {},
   "outputs": [],
   "source": [
    "obj = Atm(123, 50000)"
   ]
  }
 ],
 "metadata": {
  "kernelspec": {
   "display_name": "base",
   "language": "python",
   "name": "python3"
  },
  "language_info": {
   "codemirror_mode": {
    "name": "ipython",
    "version": 3
   },
   "file_extension": ".py",
   "mimetype": "text/x-python",
   "name": "python",
   "nbconvert_exporter": "python",
   "pygments_lexer": "ipython3",
   "version": "3.13.5"
  }
 },
 "nbformat": 4,
 "nbformat_minor": 5
}
