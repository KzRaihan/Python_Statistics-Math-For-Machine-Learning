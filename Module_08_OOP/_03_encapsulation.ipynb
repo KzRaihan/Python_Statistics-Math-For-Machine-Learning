{
 "cells": [
  {
   "cell_type": "markdown",
   "id": "a3f16d32",
   "metadata": {},
   "source": [
    "## Topic: Encapsulation "
   ]
  },
  {
   "cell_type": "markdown",
   "id": "b3ea5267",
   "metadata": {},
   "source": [
    "### OUTCOMES\n",
    "\n",
    "- 1. Basics of Encapsulation\n",
    "\n",
    "- 2. Why Need Encapsulation\n",
    "\n",
    "- 3. Access Modify in Python\n",
    "\n",
    "- 4. Using Getter and Setter Methods\n",
    "\n",
    "- 4. Practices of real-life example"
   ]
  },
  {
   "cell_type": "markdown",
   "id": "50b553fb",
   "metadata": {},
   "source": [
    "### 1. Basics of Encapsulation"
   ]
  },
  {
   "cell_type": "markdown",
   "id": "267fb077",
   "metadata": {},
   "source": [
    "\n",
    "- Encapsulation = Data Protection and Controlled access\n",
    "\n",
    "- Wrapping data (attributes) and behavior (Methods) into a single logical unit.\n"
   ]
  },
  {
   "cell_type": "markdown",
   "id": "51c84d8b",
   "metadata": {},
   "source": [
    "### 2. Why Need Encapsulation"
   ]
  },
  {
   "cell_type": "markdown",
   "id": "43352e39",
   "metadata": {},
   "source": [
    "- > Data Protection and Hiding\n",
    "\n",
    "- > Controlling Access\n",
    "\n",
    "- > Security Improve"
   ]
  },
  {
   "cell_type": "markdown",
   "id": "955d4f0f",
   "metadata": {},
   "source": [
    "### 3. Access Modifiers in Python"
   ]
  },
  {
   "cell_type": "markdown",
   "id": "7852a20c",
   "metadata": {},
   "source": [
    "- Provides three levels of access to control Data\n",
    "\n",
    "    - 1. public \n",
    "\n",
    "    - 2. private \n",
    "\n",
    "    - 3. protected (Accessible in class and subclass)"
   ]
  },
  {
   "cell_type": "markdown",
   "id": "156c9319",
   "metadata": {},
   "source": [
    "#### 1. public \n",
    "- accessible anywhere"
   ]
  },
  {
   "cell_type": "code",
   "execution_count": 2,
   "id": "ecfc1f10",
   "metadata": {},
   "outputs": [
    {
     "name": "stdout",
     "output_type": "stream",
     "text": [
      "Kz\n",
      "24\n",
      "Name:  Kz\n",
      "Age :  24\n",
      "None\n",
      "KzRaihan\n"
     ]
    }
   ],
   "source": [
    "# Example: public access modifiers\n",
    "\n",
    "class  Student:  \n",
    "\n",
    "    def __init__(self):\n",
    "        self.name = \"Kz\"\n",
    "        self.age = 24\n",
    "\n",
    "    def info(self):\n",
    "        print(\"Name: \", self.name)\n",
    "        print(\"Age : \", self.age)\n",
    "\n",
    "\n",
    "# objets\n",
    "st_1 = Student()\n",
    "\n",
    "# access the data or behavior outside the class\n",
    "\n",
    "print(st_1.name)\n",
    "print(st_1.age)     # data\n",
    "\n",
    "print(st_1.info())  # behavior\n",
    "\n",
    "\n",
    "# we can also modify the data outside the class\n",
    "\n",
    "st_1.name = \"KzRaihan\"\n",
    "\n",
    "# to check it's modify or not?\n",
    "print(st_1.name)\n",
    "\n",
    "\n",
    "\n"
   ]
  },
  {
   "cell_type": "markdown",
   "id": "a5af3aec",
   "metadata": {},
   "source": [
    "#### Private Access Modifier"
   ]
  },
  {
   "cell_type": "markdown",
   "id": "5aa70564",
   "metadata": {},
   "source": [
    "- Accessible only within class.\n",
    "\n",
    "- Syntax to private attributes and method\n",
    "\n",
    "    - __attribuuteName    # double underscope before data\n",
    "\n",
    "    - __methodName\n",
    "\n",
    "- in this private attribute create in memory in the below form\n",
    "    -  _className__attributeName\n"
   ]
  },
  {
   "cell_type": "code",
   "execution_count": 75,
   "id": "0cda2586",
   "metadata": {},
   "outputs": [
    {
     "name": "stdout",
     "output_type": "stream",
     "text": [
      "Kz\n",
      "Name:  Kz\n",
      "Age :  24\n",
      "Age :  25\n",
      "140721152702120\n",
      "None\n",
      "25\n",
      "140721152702120\n"
     ]
    }
   ],
   "source": [
    "# Example: private access modifiers\n",
    "\n",
    "class  Student:  \n",
    "\n",
    "    def __init__(self):\n",
    "        self.name = \"Kz\"  # public attribute\n",
    "        self.__age = 24   # private attribute\n",
    "\n",
    "    def info(self):\n",
    "        print(\"Name: \", self.name)\n",
    "        print(\"Age : \", self.__age)\n",
    "    \n",
    "     # inside class to allow modify the private attribute\n",
    "        self.__age = 25\n",
    "        print(\"Age : \", self.__age)\n",
    "        print(id(self.__age))\n",
    "\n",
    "\n",
    "\n",
    "\n",
    "# objets\n",
    "st_1 = Student()\n",
    "\n",
    "# try to access the data outside the class\n",
    "print(st_1.name)   #  name = public data\n",
    "# print(st_1.__age)     # __age = private data(Error show)\n",
    "\n",
    "\n",
    "# try to access methods\n",
    "print(st_1.info())  # info () => public method\n",
    "\n",
    "\n",
    "# Try to modify the data outside the class\n",
    "\n",
    "st_1.__age = 25\n",
    "\n",
    "# to check it's modify or not?\n",
    "print(st_1.__age) \n",
    "\n",
    "print(id(st_1.__age))\n",
    "\n"
   ]
  },
  {
   "cell_type": "code",
   "execution_count": 76,
   "id": "e0798c3b",
   "metadata": {},
   "outputs": [
    {
     "name": "stdout",
     "output_type": "stream",
     "text": [
      "Name:  Kz\n",
      "Age :  24\n",
      "Age :  25\n",
      "140721152702120\n"
     ]
    }
   ],
   "source": [
    "class  Student:  \n",
    "\n",
    "    def __init__(self):\n",
    "        self.name = \"Kz\"  # public attribute\n",
    "        self.__age = 24   # private attribute\n",
    "\n",
    "    def info(self):\n",
    "        print(\"Name: \", self.name)\n",
    "        print(\"Age : \", self.__age)\n",
    "    \n",
    "     # inside class to allow modify the private attribute\n",
    "        self.__age = 25\n",
    "        print(\"Age : \", self.__age)\n",
    "        print(id(self.__age))\n",
    "\n",
    "\n",
    "obj = Student()\n",
    "\n",
    "obj.info()"
   ]
  },
  {
   "cell_type": "code",
   "execution_count": null,
   "id": "8bab770c",
   "metadata": {},
   "outputs": [],
   "source": [
    "# Explane the above code\n",
    "\"\"\"\n",
    "\n",
    "# Try to modify the data outside the class\n",
    "\n",
    "st_1.__age = 25\n",
    "\n",
    "# to check it's modify or not?\n",
    "print(st_1.__age)\n",
    "\n",
    "--> for this portion what happen?\n",
    "\n",
    "Step_01: \n",
    "    - here, __age is a private attribute.\n",
    "    - it's store in memory in the form of : _Student__age = 23\n",
    "\n",
    "\n",
    "Step_02:\n",
    "    - when we modify outside the class\n",
    "    - like : st_1.__age = 25 \n",
    "    - this st_1 object create new attribute that name __age and it's value = 25\n",
    "\n",
    "    - that means can't change the private attribute (__age) . it's only create a new data in class \n",
    "\n",
    "\"\"\""
   ]
  },
  {
   "cell_type": "markdown",
   "id": "8b50e91a",
   "metadata": {},
   "source": [
    "### 4. Getter and Setter Methods"
   ]
  },
  {
   "cell_type": "markdown",
   "id": "c7e010a2",
   "metadata": {},
   "source": [
    "- if we need to read or update the private values safely outside the class then we use two methods\n",
    "\n",
    "- 1. getter() method\n",
    "    - reads the private data safely\n",
    "\n",
    "- 2. setter() method\n",
    "    - modifies private data with validation\n",
    "\n",
    "- * NOTE: getter and setter is convention"
   ]
  },
  {
   "cell_type": "code",
   "execution_count": null,
   "id": "f0188144",
   "metadata": {},
   "outputs": [
    {
     "name": "stdout",
     "output_type": "stream",
     "text": [
      "Old Salary: 500000\n",
      "Invalid Salary\n",
      "Modify Salary: 500000\n",
      "Modify Salary: 800000\n"
     ]
    }
   ],
   "source": [
    "class Person:\n",
    "    def __init__(self,name,salary):\n",
    "        self.name = name\n",
    "        self.__salary = salary  # salary => private\n",
    "\n",
    "    # get method\n",
    "    def get_salary(self):\n",
    "        return self.__salary\n",
    "    \n",
    "\n",
    "    # set method\n",
    "    def set_salary(self,new_salary):\n",
    "        if isinstance(new_salary,int) and new_salary > 0:\n",
    "            self.__salary = new_salary\n",
    "        else:\n",
    "            print(\"Invalid Salary\")\n",
    "\n",
    "\n",
    "\n",
    "p1 = Person(\"Kz\", 500000)\n",
    "\n",
    "# without get method show error\n",
    "# print(p1.__salary)\n",
    "\n",
    "\n",
    "# using getter method to show current salary\n",
    "print(f\"Old Salary: {p1.get_salary()}\")\n",
    "\n",
    "\n",
    "# to modify using setter method\n",
    "p1.set_salary(\"salary\") # invalid salary\n",
    "\n",
    "# check salary is update or not\n",
    "print(f\"Modify Salary: {p1.get_salary()}\") # no update\n",
    "\n",
    "# to modify \n",
    "p1.set_salary(800000)\n",
    "\n",
    "print(f\"Modify Salary: {p1.get_salary()}\") # Yes update\n"
   ]
  },
  {
   "cell_type": "code",
   "execution_count": null,
   "id": "75f94f92",
   "metadata": {},
   "outputs": [],
   "source": [
    "# Class Diagram for public and private attributes and methods\n",
    "'''   \n",
    "-----------------------\n",
    "|      Employee       |\n",
    "|---------------------|\n",
    "| - __salary          |   ← Private data (hidden)\n",
    "|---------------------|\n",
    "| + get_salary()      |   ← Safe access\n",
    "| + set_salary(value) |   ← Safe modification\n",
    "-----------------------\n",
    "\n",
    "\n",
    "'''\n",
    "# Negative (-) => Private data\n",
    "# positive (+) => public data"
   ]
  },
  {
   "cell_type": "code",
   "execution_count": 22,
   "id": "6fda2638",
   "metadata": {},
   "outputs": [
    {
     "name": "stdout",
     "output_type": "stream",
     "text": [
      "Total Salary: Raihan - 55000.0\n"
     ]
    }
   ],
   "source": [
    "# Example : using a private method\n",
    "# - > Salary bonus\n",
    "\n",
    "class Employee:\n",
    "    def __init__(self,name,base_salary):\n",
    "        self.name = name\n",
    "        self.base_salary = base_salary\n",
    "\n",
    "\n",
    "    # private method to calcuate bonus\n",
    "    def __bonus_cal(self):\n",
    "        return self.base_salary * 0.10   # 10 % bouns\n",
    "    \n",
    "    # public method\n",
    "    def total_salary(self):\n",
    "        total = self.base_salary + self.__bonus_cal()\n",
    "\n",
    "        return f\"Total Salary: {self.name} - {total}\"\n",
    "    \n",
    "\n",
    "# object\n",
    "emp1 = Employee(\"Raihan\", 50000)\n",
    "\n",
    "# Access tho check bonus outside the class\n",
    "# emp1.__bonus_cal()  # error\n",
    "\n",
    "# Access public method\n",
    "print(emp1.total_salary())\n"
   ]
  },
  {
   "cell_type": "code",
   "execution_count": null,
   "id": "5ec9022b",
   "metadata": {},
   "outputs": [
    {
     "name": "stdout",
     "output_type": "stream",
     "text": [
      "5000.0\n"
     ]
    }
   ],
   "source": [
    "# there one another way to access public data or method\n",
    "# syntax: obj._className__data\n",
    "\n",
    "\n",
    "print(emp1._Employee__bonus_cal()) #  it's break the encpasulate\n",
    "\n",
    "### NOTE: -> Python Made for Adult People"
   ]
  },
  {
   "cell_type": "markdown",
   "id": "abc10c6b",
   "metadata": {},
   "source": [
    "### 4. Practices of real-life example"
   ]
  },
  {
   "cell_type": "code",
   "execution_count": 2,
   "id": "f569882d",
   "metadata": {},
   "outputs": [],
   "source": [
    "# Example_01: Atm machine\n",
    "\n",
    "\n",
    "\n",
    "class Atm:\n",
    "    # constructor\n",
    "    def __init__(self,user_name,user_pin,init_balance):\n",
    "\n",
    "        self.user_name = user_name\n",
    "        self.__user_pin = user_pin\n",
    "        self.__init_balance = init_balance\n",
    "        \n",
    "    # menu\n",
    "    def menu(self):\n",
    "        print(f\"\\nPress - 1: To see Profile\")\n",
    "        print(f\"Press - 2: To Change Pin\")\n",
    "        print(f\"Press - 3: To Check Balance\")\n",
    "        print(f\"Press - 4: To Deposite Banalce\")\n",
    "        print(f\"Press - 5: To Withdraw Balance\")\n",
    "        print(f\"Press - 6: Exix\\n\")\n",
    "    \n",
    "    def run(self):\n",
    "        while True:\n",
    "            self.menu()\n",
    "            choice = input(\"Enter your choice: \")\n",
    "\n",
    "                    \n",
    "            if choice == \"1\":\n",
    "                    self.profile()\n",
    "                    \n",
    "            elif choice == \"2\":\n",
    "                self.change_pin()\n",
    "\n",
    "            elif choice == \"3\":\n",
    "                self.check_balance()\n",
    "                        \n",
    "            elif choice == \"4\":\n",
    "                self.deposite()\n",
    "                        \n",
    "            elif choice == \"5\":\n",
    "                self.withdraw()\n",
    "\n",
    "            elif choice == \"6\":\n",
    "                print(\"Thanks for use Atm\")\n",
    "                \n",
    "                break\n",
    "            else:\n",
    "                \n",
    "                print(\"Invlaid Input!\")\n",
    "                \n",
    "           \n",
    "\n",
    "\n",
    "      # Profile  \n",
    "    def profile(self):\n",
    "        print(f\"Name: - {self.user_name}\")\n",
    "        # print(f\"Initial Balance: - {self.init_balance}\")\n",
    "\n",
    "    \n",
    "    # Press_02 functionality\n",
    "    def change_pin(self):\n",
    "            old_pin = input(\"Enter Your Old pin: \")\n",
    "\n",
    "            if self.__user_pin == old_pin:\n",
    "                new_pin = input(\"Enter Your New pin: \")\n",
    "                self.__user_pin = new_pin\n",
    "                print(\"\\n Pin is successsfully Changed\")\n",
    "            else:\n",
    "                print(\"Invalid Pin\")\n",
    "    \n",
    "    # Press - 3 functionality\n",
    "    def check_balance(self):\n",
    "\n",
    "        new_pin = input(\"Enter Your pin: \")\n",
    "\n",
    "        if self.__user_pin == new_pin:\n",
    "            print(f\"Balance: : {self.__init_balance}\")     \n",
    "        else:\n",
    "            print(\"Invalid Pin\")\n",
    "    \n",
    "    # Press - 4 functionality\n",
    "    def deposite(self):\n",
    "        new_pin = input(\"Enter Your pin: \")\n",
    "\n",
    "        if self.__user_pin == new_pin:\n",
    "            dep_bal = int(input(\"Enter Your balance: \"))\n",
    "\n",
    "            if 100 <= dep_bal < 1000000:\n",
    "                self.__init_balance += dep_bal\n",
    "                print(f\"Deposited Successfully : {dep_bal}\")\n",
    "            else:\n",
    "                print(\"Invalid Balance\")\n",
    "        else:\n",
    "            print(\"Invalid Pin\")\n",
    "\n",
    "    # Press - 5 withdraw\n",
    "\n",
    "    def withdraw(self):\n",
    "        new_pin = input(\"Enter Your pin: \")\n",
    "\n",
    "        if self.__user_pin == new_pin:\n",
    "            wd_bal = int(input(\"Enter Your balance: \"))\n",
    "\n",
    "            if 100 <= wd_bal < self.__init_balance:\n",
    "                self.__init_balance -= wd_bal\n",
    "                print(f\"Withdrawn is successfully : {wd_bal}\")\n",
    "            else:\n",
    "                print(\"Invalid amount\")\n",
    "        else:\n",
    "            print(\"Invalid Pin\")\n",
    "\n",
    "\n",
    "\n",
    "# outside class\n",
    "def register():\n",
    "    user_name = input(\"Enter Your Name: \")\n",
    "\n",
    "    user_pin = input(\"Set Your pin: \")\n",
    "\n",
    "    init_balance = int(input(\"Enter you Initial Banalnce Account: \"))\n",
    "\n",
    "    return user_name,user_pin,init_balance\n",
    "\n",
    "\n",
    "user_name,user_pin,init_balance = register()\n"
   ]
  },
  {
   "cell_type": "code",
   "execution_count": 3,
   "id": "94f8030a",
   "metadata": {},
   "outputs": [
    {
     "name": "stdout",
     "output_type": "stream",
     "text": [
      "\n",
      "Press - 1: To see Profile\n",
      "Press - 2: To Change Pin\n",
      "Press - 3: To Check Balance\n",
      "Press - 4: To Deposite Banalce\n",
      "Press - 5: To Withdraw Balance\n",
      "Press - 6: Exix\n",
      "\n",
      "Name: - Kamruzzaman\n",
      "\n",
      "Press - 1: To see Profile\n",
      "Press - 2: To Change Pin\n",
      "Press - 3: To Check Balance\n",
      "Press - 4: To Deposite Banalce\n",
      "Press - 5: To Withdraw Balance\n",
      "Press - 6: Exix\n",
      "\n",
      "\n",
      " Pin is successsfully Changed\n",
      "\n",
      "Press - 1: To see Profile\n",
      "Press - 2: To Change Pin\n",
      "Press - 3: To Check Balance\n",
      "Press - 4: To Deposite Banalce\n",
      "Press - 5: To Withdraw Balance\n",
      "Press - 6: Exix\n",
      "\n",
      "Balance: : 3000\n",
      "\n",
      "Press - 1: To see Profile\n",
      "Press - 2: To Change Pin\n",
      "Press - 3: To Check Balance\n",
      "Press - 4: To Deposite Banalce\n",
      "Press - 5: To Withdraw Balance\n",
      "Press - 6: Exix\n",
      "\n",
      "Thanks for use Atm\n"
     ]
    }
   ],
   "source": [
    "# create objects\n",
    "first_user = Atm(user_name,user_pin,init_balance)\n",
    "\n",
    "first_user.run()"
   ]
  },
  {
   "cell_type": "code",
   "execution_count": null,
   "id": "ab1b8de3",
   "metadata": {},
   "outputs": [],
   "source": []
  }
 ],
 "metadata": {
  "kernelspec": {
   "display_name": "base",
   "language": "python",
   "name": "python3"
  },
  "language_info": {
   "codemirror_mode": {
    "name": "ipython",
    "version": 3
   },
   "file_extension": ".py",
   "mimetype": "text/x-python",
   "name": "python",
   "nbconvert_exporter": "python",
   "pygments_lexer": "ipython3",
   "version": "3.13.5"
  }
 },
 "nbformat": 4,
 "nbformat_minor": 5
}
