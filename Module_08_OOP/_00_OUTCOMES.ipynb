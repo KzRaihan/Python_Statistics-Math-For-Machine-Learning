{
 "cells": [
  {
   "cell_type": "markdown",
   "id": "ff940bd7",
   "metadata": {},
   "source": [
    "## Topic: OOP in Python"
   ]
  },
  {
   "cell_type": "markdown",
   "id": "5b747315",
   "metadata": {},
   "source": [
    "### OUTCOMES\n",
    "\n",
    "- 1. Introdunction of OOP\n",
    "\n",
    "- 2. Object or Reference Variable\n",
    "\n",
    "\n"
   ]
  },
  {
   "cell_type": "markdown",
   "id": "494ac769",
   "metadata": {},
   "source": []
  }
 ],
 "metadata": {
  "language_info": {
   "name": "python"
  }
 },
 "nbformat": 4,
 "nbformat_minor": 5
}
