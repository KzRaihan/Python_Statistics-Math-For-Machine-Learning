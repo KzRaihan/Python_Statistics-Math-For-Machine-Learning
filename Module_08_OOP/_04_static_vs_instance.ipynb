{
 "cells": [
  {
   "cell_type": "markdown",
   "id": "2fb8c1a9",
   "metadata": {},
   "source": [
    "## Topic: Static vs Instance attributes and method\n"
   ]
  },
  {
   "cell_type": "markdown",
   "id": "a35583e6",
   "metadata": {},
   "source": [
    "### OUTCOMES\n",
    "\n",
    "- 1. Instance Attributes and methods\n",
    "\n",
    "- 2. Static Variable/attributes\n",
    "\n",
    "- 3. Static Method\n",
    "\n",
    "- 4. Different Between Static and instance attributes\n",
    "\n",
    "- 5. Practice Example"
   ]
  },
  {
   "cell_type": "markdown",
   "id": "6b26ba1e",
   "metadata": {},
   "source": [
    "### 1. Instance Variable/Attributes and methods"
   ]
  },
  {
   "cell_type": "markdown",
   "id": "e0423ca2",
   "metadata": {},
   "source": [
    "- Instance Attributes\n",
    "\n",
    "    - Instrance attributes are the objects attributes.\n",
    "\n",
    "    - Instance attributes are different for each objects.\n",
    "\n",
    "    - It is declare inside the constructor and access by self \n",
    "\n",
    "    - eg: \n",
    "        - customer name, balance\n",
    "        - student name, cpga\n",
    "\n",
    "\n",
    "- Instance Method\n",
    "    - Associated with Instances\n",
    "    - Access to Instance Data"
   ]
  },
  {
   "cell_type": "code",
   "execution_count": 4,
   "id": "503ee01a",
   "metadata": {},
   "outputs": [
    {
     "name": "stdout",
     "output_type": "stream",
     "text": [
      "1010\n",
      "123\n",
      "2020\n",
      "121\n"
     ]
    }
   ],
   "source": [
    "# Example of Instance attribute and method\n",
    "\n",
    "class Atm:\n",
    "\n",
    "    def __init__(self,pin,balance):\n",
    "        self.__pin = pin       # these are the instance variable or attributes\n",
    "        self.balance = balance\n",
    "\n",
    "    def get_pin(self):    #  instance method\n",
    "        return self.__pin\n",
    "    \n",
    "\n",
    "# create instance\n",
    "obj1 = Atm(\"123\",1010) # obj1 is first instance of Atm class\n",
    "\n",
    "print(obj1.balance)\n",
    "print(obj1.get_pin())\n",
    "\n",
    "obj2 = Atm(\"121\",2020)  # obj2 is second instance of Atm class\n",
    "\n",
    "print(obj2.balance)\n",
    "print(obj2.get_pin())\n"
   ]
  },
  {
   "cell_type": "markdown",
   "id": "bf31b75e",
   "metadata": {},
   "source": [
    "### 2. Static Variable/attributes"
   ]
  },
  {
   "cell_type": "markdown",
   "id": "6c5a063b",
   "metadata": {},
   "source": [
    "-  Static attributes are class attributes.\n",
    "\n",
    "- Static attributes are same for all objects\n",
    "\n",
    "- It is declare outside the all method but inside class body.\n",
    "\n",
    "- Access by static attributes by using class name\n",
    "    - eg: Atm.name\n",
    "\n",
    "- Eg:\n",
    "    - university name\n",
    "    - bank name"
   ]
  },
  {
   "cell_type": "code",
   "execution_count": null,
   "id": "6f311938",
   "metadata": {},
   "outputs": [
    {
     "name": "stdout",
     "output_type": "stream",
     "text": [
      "Name:  Kz\n",
      "ID:  101\n",
      "Total Student:  1\n",
      "Name:  Raihan\n",
      "ID:  102\n",
      "Total Student:  2\n",
      "Total Student:  3\n"
     ]
    }
   ],
   "source": [
    "# Example: static attribute\n",
    "\n",
    "class Student:\n",
    "    total_student = 0  # static attribue\n",
    "\n",
    "    def __init__(self,name,id):\n",
    "        self.name = name  # instance attribute\n",
    "        self.id = id\n",
    "\n",
    "        self.total_student = Student.total_student\n",
    "\n",
    "        Student.total_student += 1\n",
    "\n",
    "    def info(self):\n",
    "        print(\"Name: \", self.name)\n",
    "        print(\"ID: \", self.id)\n",
    "        print(\"Total Student: \", Student.total_student)\n",
    "\n",
    "    \n",
    "# create instance\n",
    "student1 = Student(\"Kz\", 101)\n",
    "student1.info()\n",
    "# print(\"Total Student: \", Student.total_student)\n",
    "\n",
    "\n",
    "# create 2nd instance\n",
    "student2 = Student(\"Raihan\", 102)\n",
    "student2.info()\n",
    "\n",
    "\n",
    "# Create 3th object\n",
    "student3 = Student(\"KzRaihan\",103)\n",
    "print(\"Total Student: \", Student.total_student)\n",
    "\n"
   ]
  },
  {
   "cell_type": "markdown",
   "id": "32cebe94",
   "metadata": {},
   "source": [
    "### 3. Static Method"
   ]
  },
  {
   "cell_type": "markdown",
   "id": "878aaed4",
   "metadata": {},
   "source": [
    "- No need to create any object to access static method.\n",
    "\n",
    "- Don't need use self parameter to access attributes (only static attributes)\n",
    "\n",
    "- It defined by @staticmethod decorator\n",
    "\n",
    "- access static method by using class name\n",
    "    - class_name.static_method()"
   ]
  },
  {
   "cell_type": "code",
   "execution_count": null,
   "id": "df0106e8",
   "metadata": {},
   "outputs": [
    {
     "name": "stdout",
     "output_type": "stream",
     "text": [
      "Name:  Kz\n",
      "ID:  101\n",
      "Total student:  1\n"
     ]
    },
    {
     "data": {
      "text/plain": [
       "1"
      ]
     },
     "execution_count": 21,
     "metadata": {},
     "output_type": "execute_result"
    }
   ],
   "source": [
    "# Example: Static method\n",
    "\n",
    "class Student:\n",
    "    __total_student = 0  # static attribue with private\n",
    "\n",
    "    def __init__(self,name,id):\n",
    "        self.name = name  # instance attribute\n",
    "        self.id = id\n",
    "\n",
    "        self.__otal_student = Student.__total_student\n",
    "\n",
    "        Student.__total_student += 1\n",
    "\n",
    "    def info(self):\n",
    "        print(\"Name: \", self.name)\n",
    "        print(\"ID: \", self.id)\n",
    "\n",
    "    # static method\n",
    "    @staticmethod\n",
    "    def get_total_student():\n",
    "        return Student.__total_student   # access the static private attribute \n",
    "    \n",
    "\n",
    "st = Student(\"Kz\",101)\n",
    "st.info()\n",
    "\n",
    "# access static method without object\n",
    "print(\"Total student: \",Student.get_total_student())\n",
    "        \n",
    "\n",
    "\n",
    " # NOTE -> if we try to access by using object-> yes it's allow \n",
    "st.get_total_student()   \n"
   ]
  },
  {
   "cell_type": "markdown",
   "id": "2384bd5c",
   "metadata": {},
   "source": [
    "### 4. Different Between Static and instance attributes"
   ]
  },
  {
   "cell_type": "markdown",
   "id": "40557c2a",
   "metadata": {},
   "source": [
    "- Static\n",
    "    - Static Attributes are the class attributes\n",
    "    - Static attributes declare outside the all method but inside the class body\n",
    "\n",
    "    - No Need to create an object to access static method\n",
    "\n",
    "\n",
    "- instance\n",
    "    - Instance attributes are the object attribute\n",
    "    - Instance attributes declare inside the constructor and access by self\n",
    "\n",
    "    - Instance method are associated with objets"
   ]
  },
  {
   "cell_type": "markdown",
   "id": "889a524f",
   "metadata": {},
   "source": [
    "### 5. Practice Example"
   ]
  },
  {
   "cell_type": "code",
   "execution_count": null,
   "id": "d77931b2",
   "metadata": {},
   "outputs": [],
   "source": []
  }
 ],
 "metadata": {
  "kernelspec": {
   "display_name": "base",
   "language": "python",
   "name": "python3"
  },
  "language_info": {
   "codemirror_mode": {
    "name": "ipython",
    "version": 3
   },
   "file_extension": ".py",
   "mimetype": "text/x-python",
   "name": "python",
   "nbconvert_exporter": "python",
   "pygments_lexer": "ipython3",
   "version": "3.13.5"
  }
 },
 "nbformat": 4,
 "nbformat_minor": 5
}
