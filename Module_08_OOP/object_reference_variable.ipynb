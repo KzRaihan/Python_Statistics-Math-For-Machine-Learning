{
 "cells": [
  {
   "cell_type": "markdown",
   "id": "edf09b1b",
   "metadata": {},
   "source": [
    "## Topic: Object vs Reference Variable"
   ]
  },
  {
   "cell_type": "markdown",
   "id": "6f113e52",
   "metadata": {},
   "source": [
    "### OUTCOMES\n",
    "\n",
    "- 1. How objects access attributes and method.\n",
    "\n",
    "- 2. Reference Variable\n",
    "\n",
    "- 3. Pass by Reference\n",
    "\n",
    "- 4. Object mutability Behavior\n"
   ]
  },
  {
   "cell_type": "markdown",
   "id": "63d2b3f9",
   "metadata": {},
   "source": [
    "### 1. How objects access attributes and method."
   ]
  },
  {
   "cell_type": "markdown",
   "id": "e9096cb8",
   "metadata": {},
   "source": [
    "- object power:\n",
    "    - object can access all inside it's class. \n",
    "\n",
    "    -  Objects have full access to all attributes and methods inside their class."
   ]
  },
  {
   "cell_type": "code",
   "execution_count": null,
   "id": "64dad61f",
   "metadata": {},
   "outputs": [
    {
     "name": "stdout",
     "output_type": "stream",
     "text": [
      "Kz\n",
      "Bangladesh\n",
      "Assalamu Alaikum Kz\n"
     ]
    }
   ],
   "source": [
    "# Example: Objects access\n",
    "\n",
    "class Person:\n",
    "\n",
    "    def __init__(self,name,country):             \n",
    "        self.name = name                         #   - here self.name and self.country are totally different\n",
    "        self.country = country\n",
    "\n",
    "    def greet(self):\n",
    "        \n",
    "        if self.country == \"Bangladesh\":\n",
    "            print(\"Assalamu Alaikum\", self.name)\n",
    "        \n",
    "        else:\n",
    "            print(\"Hello\", self.name)\n",
    "\n",
    "# create an objects\n",
    "p_obj = Person(\"Kz\", \"Bangladesh\")\n",
    "\n",
    "# access atributes\n",
    "print(p_obj.name)\n",
    "print(p_obj.country)\n",
    "\n",
    "# access method\n",
    "p_obj.greet()\n"
   ]
  },
  {
   "cell_type": "code",
   "execution_count": null,
   "id": "84058ce1",
   "metadata": {},
   "outputs": [],
   "source": [
    "'''   \n",
    "# NOTE for above program: \n",
    "\n",
    "    - Local Variables -> name and country\n",
    "\n",
    "        - They exist temporarily only inside the method when it is called.\n",
    "        - They are used to pass data to the object when creating it.\n",
    "\n",
    "    - Instance variable (Object Attributes) -> self.name and self.country\n",
    "        \n",
    "        - These belong to the object itself.\n",
    "        - Created using self keyword → means \" this object \"\n",
    "    \n",
    "\n",
    "'''"
   ]
  },
  {
   "cell_type": "code",
   "execution_count": 5,
   "id": "5a4a267a",
   "metadata": {},
   "outputs": [
    {
     "ename": "AttributeError",
     "evalue": "'Person' object has no attribute 'gender'",
     "output_type": "error",
     "traceback": [
      "\u001b[1;31m---------------------------------------------------------------------------\u001b[0m",
      "\u001b[1;31mAttributeError\u001b[0m                            Traceback (most recent call last)",
      "Cell \u001b[1;32mIn[5], line 3\u001b[0m\n\u001b[0;32m      1\u001b[0m \u001b[38;5;66;03m# What if i try to access non-existent attributes\u001b[39;00m\n\u001b[1;32m----> 3\u001b[0m \u001b[38;5;28mprint\u001b[39m(p_obj\u001b[38;5;241m.\u001b[39mgender)\n",
      "\u001b[1;31mAttributeError\u001b[0m: 'Person' object has no attribute 'gender'"
     ]
    }
   ],
   "source": [
    "# What if i try to access non-existent attributes\n",
    "\n",
    "print(p_obj.gender)\n",
    "\n",
    "# AttributeError: Person objct has no attribute gender"
   ]
  },
  {
   "cell_type": "code",
   "execution_count": null,
   "id": "94da99e3",
   "metadata": {},
   "outputs": [
    {
     "name": "stdout",
     "output_type": "stream",
     "text": [
      "Male\n"
     ]
    }
   ],
   "source": [
    "# Attribute creation for outside of the class\n",
    "\n",
    "p_obj.gender = \"Male\"\n",
    "\n",
    "print(p_obj.gender)\n"
   ]
  },
  {
   "cell_type": "markdown",
   "id": "8441b6d5",
   "metadata": {},
   "source": [
    "### 2. Reference Variable"
   ]
  },
  {
   "cell_type": "markdown",
   "id": "7fcc36df",
   "metadata": {},
   "source": [
    "- 1. reference variable hold the objects.\n",
    "\n",
    "- 2. we can create object without reference variable of well.\n",
    "\n",
    "- 3. An object can have multiple reference variables.\n",
    "\n",
    "- 4. Assigning a new reference variable to an existing object does not create a new object.\n",
    "\n",
    "    - change attribute value with the help of 2nd object\n",
    "\n"
   ]
  },
  {
   "cell_type": "markdown",
   "id": "4db43595",
   "metadata": {},
   "source": [
    "#### 1. reference variable hold the objects."
   ]
  },
  {
   "cell_type": "code",
   "execution_count": null,
   "id": "8de1b94f",
   "metadata": {},
   "outputs": [
    {
     "name": "stdout",
     "output_type": "stream",
     "text": [
      "Kz 23\n"
     ]
    }
   ],
   "source": [
    "class Person:\n",
    "    def __init__(self):\n",
    "        self.name = \"Kz\"\n",
    "        self.age = 23\n",
    "\n",
    "p = Person()\n",
    "print(p.name, p.age)\n",
    "\n",
    "# - NOTE: here, p is not an object.\n",
    "#  - p is a reference of the Person class object"
   ]
  },
  {
   "cell_type": "markdown",
   "id": "a2410edd",
   "metadata": {},
   "source": [
    "#### 2. we can create object without reference variable of well."
   ]
  },
  {
   "cell_type": "code",
   "execution_count": null,
   "id": "72f74b3e",
   "metadata": {},
   "outputs": [
    {
     "data": {
      "text/plain": [
       "<__main__.Person at 0x21eddfc86e0>"
      ]
     },
     "execution_count": 8,
     "metadata": {},
     "output_type": "execute_result"
    }
   ],
   "source": [
    "# without create a reference variable \n",
    "class Person:\n",
    "    def __init__(self):\n",
    "        self.name = \"Kz\"\n",
    "        self.age = 23\n",
    "\n",
    "Person()"
   ]
  },
  {
   "cell_type": "code",
   "execution_count": null,
   "id": "34cdf11b",
   "metadata": {},
   "outputs": [],
   "source": [
    "'''  \n",
    "# What happen of the above program?\n",
    "\n",
    "- Person() -> Person class create an object inside a memory(RAM). and show the memory location or address of the object.(0x21eddfc86e0>)\n",
    "\n",
    "'''\n",
    "### NOTE-> without create a reference variable the class can create an object inside the RAM."
   ]
  },
  {
   "cell_type": "code",
   "execution_count": null,
   "id": "4fd31a50",
   "metadata": {},
   "outputs": [
    {
     "name": "stdout",
     "output_type": "stream",
     "text": [
      "2331596592464\n"
     ]
    }
   ],
   "source": [
    "# create a reference variable\n",
    "class Person:\n",
    "    def __init__(self):\n",
    "        self.name = \"Kz\"\n",
    "        self.age = 23\n",
    "\n",
    "p1 = Person()  # NOTE -> here p1 is reference variable that hold the address of Person class object.\n",
    "\n",
    "print(id(p1))\n",
    "\n",
    "# here address of p1 and object of Person class are same."
   ]
  },
  {
   "cell_type": "markdown",
   "id": "d4bec9ea",
   "metadata": {},
   "source": [
    "#### 3. An object can have multiple reference variables."
   ]
  },
  {
   "cell_type": "code",
   "execution_count": null,
   "id": "7f107b0c",
   "metadata": {},
   "outputs": [
    {
     "name": "stdout",
     "output_type": "stream",
     "text": [
      "2331596592128\n",
      "2331597327888\n"
     ]
    }
   ],
   "source": [
    "# create multiple reference variable \n",
    "class Person:\n",
    "    def __init__(self):\n",
    "        self.name = \"Kz\"\n",
    "        self.age = 23\n",
    "\n",
    "p1 = Person()  # p1 is reference variable that hold the address of Person class object.\n",
    "\n",
    "p2 = Person()  # p2 is reference variable that hold the address of Person class object.\n",
    "\n",
    "print(id(p1))  \n",
    "print(id(p2))\n",
    "\n",
    "# Two reference variale can hold(addressing) the differnct memory location. \n"
   ]
  },
  {
   "cell_type": "markdown",
   "id": "ec665109",
   "metadata": {},
   "source": [
    "#### 4. Assigning a new reference variable to an existing object does not create a new object."
   ]
  },
  {
   "cell_type": "code",
   "execution_count": null,
   "id": "daa88b9c",
   "metadata": {},
   "outputs": [],
   "source": [
    "# Assigning new reference variable that refer to the another reference variable\n",
    "class Person:\n",
    "    def __init__(self):\n",
    "        self.name = \"Kz\"\n",
    "        self.age = 23\n",
    "\n",
    "p1 = Person()  # p1 is reference variable that hold the address of Person class object.\n",
    "\n",
    "q1 = p1    # q1 is also a reference variable that hold the p1 reference variable(means q1 also addressing the Person class object )\n",
    "\n",
    "print(id(p1))  \n",
    "print(id(q1))\n",
    "\n",
    "# Two reference variale can hold(addressing) the same memory location.\n"
   ]
  },
  {
   "cell_type": "markdown",
   "id": "2dda7e08",
   "metadata": {},
   "source": [
    "##### change attribute value with the help of 2nd object."
   ]
  },
  {
   "cell_type": "code",
   "execution_count": null,
   "id": "b86e44d0",
   "metadata": {},
   "outputs": [
    {
     "name": "stdout",
     "output_type": "stream",
     "text": [
      "KzRaihan\n",
      "KzRaihan\n"
     ]
    }
   ],
   "source": [
    "# change attribut value with 2nd reference variable\n",
    "class Person:\n",
    "    def __init__(self):\n",
    "        self.name = \"Kz\"\n",
    "        self.age = 23\n",
    "\n",
    "p1 = Person()  \n",
    "\n",
    "q1 = p1    \n",
    "\n",
    "q1.name = \"KzRaihan\"  # we can modify the class object attribute by using another reference variable\n",
    "\n",
    "print(p1.name)\n",
    "\n",
    "print(q1.name)\n",
    "\n",
    "\n",
    "# NOTE - ?\n",
    "# - p1 is reference the Person class object\n",
    "# - p1 = q1 then q1 also addressing the Person class object\n",
    "# - when we use q.name = \"KzRaihan\" the change the Person class object attribute\n",
    "# - * But p1 now addressing the Person class object attribute that is modify\n",
    "# That way the output are same\n",
    "\n",
    "# - NOTE: Ultra careful when create reference variables (object)."
   ]
  },
  {
   "cell_type": "markdown",
   "id": "8d4d118f",
   "metadata": {},
   "source": [
    "### 3. Pass by Reference"
   ]
  },
  {
   "cell_type": "markdown",
   "id": "648a4756",
   "metadata": {},
   "source": [
    "- reference variable (object) can be pass as a input of a function(outside the class).\n",
    "\n",
    "- reference variable (object) as a crate and output of a function.\n",
    "\n",
    "- inside a function we also modifty the object attributes and return a reference obect"
   ]
  },
  {
   "cell_type": "code",
   "execution_count": null,
   "id": "658a1d6e",
   "metadata": {},
   "outputs": [
    {
     "name": "stdout",
     "output_type": "stream",
     "text": [
      "Person name: Kz and age : 23\n"
     ]
    }
   ],
   "source": [
    "class Person:\n",
    "    def __init__(self):\n",
    "        self.name = \"Kz\"\n",
    "        self.age = 23\n",
    "\n",
    "\n",
    "# Outside of the Person class\n",
    "\n",
    "# create a function\n",
    "def greet(person):  \n",
    "    # access\n",
    "    print(f\"Person name: {person.name} and age : {person.age}\")\n",
    "\n",
    "p1 = Person()\n",
    "\n",
    "greet(p1) # reference variable (p1) can be pass as a input of a function greet.\n"
   ]
  },
  {
   "cell_type": "code",
   "execution_count": null,
   "id": "35f3148d",
   "metadata": {},
   "outputs": [
    {
     "name": "stdout",
     "output_type": "stream",
     "text": [
      "Kz\n",
      "23\n"
     ]
    }
   ],
   "source": [
    "###  reference variable (object) as a crate and output of a function.\n",
    "\n",
    "class Person:\n",
    "    def __init__(self):\n",
    "        self.name = \"Kz\"\n",
    "        self.age = 23\n",
    "\n",
    "\n",
    "# Outside of the Person class\n",
    "\n",
    "# create a function\n",
    "def greet():  \n",
    "    # create an reference variabel or object\n",
    "    p3 = Person()\n",
    "\n",
    "    print(p3.name)   # Acces the object attributes\n",
    "    print(p3.age)\n",
    "\n",
    "\n",
    "# call the greet function\n",
    "greet()\n"
   ]
  },
  {
   "cell_type": "code",
   "execution_count": null,
   "id": "14b6dd96",
   "metadata": {},
   "outputs": [
    {
     "name": "stdout",
     "output_type": "stream",
     "text": [
      "Kz\n",
      "ML AND AI\n",
      "23\n"
     ]
    }
   ],
   "source": [
    "# 1st -> create an reference variable(object) inside a function\n",
    "# 2nd -> Access the data in the class\n",
    "# 3th -> Modify the class data\n",
    "# 4th -> Return the class to another variable\n",
    "\n",
    "class University:\n",
    "    # class attribute\n",
    "    name = \"AI and ML University\"\n",
    "\n",
    "    def __init__(self):\n",
    "        self.name = \"Kz\"\n",
    "        self.age = 23\n",
    "        self.depart = \"CSE\"\n",
    "\n",
    "    \n",
    "# OUTSIDE THE CLASS\n",
    "\n",
    "# Crate function\n",
    "def info():\n",
    "    # 1. create object\n",
    "    student_1 = University()\n",
    "\n",
    "    # 2. Access Data/attributes\n",
    "    print(student_1.name)\n",
    "\n",
    "\n",
    "    # 3. Modify the Data/attribute\n",
    "    student_1.depart = \"ML AND AI\"\n",
    "    # print(student_1.depart)\n",
    "\n",
    "    # 4. return (inside function) object to another object\n",
    "\n",
    "    return student_1\n",
    "\n",
    "\n",
    "\n",
    "obj = info()\n",
    "\n",
    "print(obj.depart)\n",
    "print(obj.age)\n",
    "\n"
   ]
  },
  {
   "cell_type": "markdown",
   "id": "847dc9b7",
   "metadata": {},
   "source": [
    "### 4. Object mutable Behavior"
   ]
  },
  {
   "cell_type": "markdown",
   "id": "458a3030",
   "metadata": {},
   "source": [
    "- if we can change the attribute value by using reference variable that means class object is mutable."
   ]
  },
  {
   "cell_type": "code",
   "execution_count": null,
   "id": "7e07d0e3",
   "metadata": {},
   "outputs": [
    {
     "name": "stdout",
     "output_type": "stream",
     "text": [
      "23\n",
      "25\n",
      "140721259546752\n",
      "2331596598512\n"
     ]
    }
   ],
   "source": [
    "class Person:\n",
    "    def __init__(self):\n",
    "        self.name = \"Kz\"\n",
    "        self.age = 23\n",
    "\n",
    "\n",
    "# create a function\n",
    "def greet(person):  \n",
    "    print(person.age)\n",
    "\n",
    "    person.age = 25  # is that posible to modify the class data? -> ans: if yes then mutable\n",
    "\n",
    "    print(person.age)\n",
    "\n",
    "# call the greet function\n",
    "p4 = greet(obj)\n",
    "\n",
    "# create an obect\n",
    "obj = Person()\n",
    "\n",
    "print(id(p4))\n"
   ]
  }
 ],
 "metadata": {
  "kernelspec": {
   "display_name": "base",
   "language": "python",
   "name": "python3"
  },
  "language_info": {
   "codemirror_mode": {
    "name": "ipython",
    "version": 3
   },
   "file_extension": ".py",
   "mimetype": "text/x-python",
   "name": "python",
   "nbconvert_exporter": "python",
   "pygments_lexer": "ipython3",
   "version": "3.13.5"
  }
 },
 "nbformat": 4,
 "nbformat_minor": 5
}
