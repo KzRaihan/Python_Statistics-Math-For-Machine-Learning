{
 "cells": [
  {
   "cell_type": "markdown",
   "id": "9e345137",
   "metadata": {},
   "source": [
    "1. What is a tuple in Python?"
   ]
  },
  {
   "cell_type": "code",
   "execution_count": null,
   "id": "9e33ec7f",
   "metadata": {},
   "outputs": [],
   "source": [
    "2. What is a set in Python?"
   ]
  },
  {
   "cell_type": "markdown",
   "id": "e4bbf872",
   "metadata": {},
   "source": [
    "3. Which of the following correctly creates a dictionary?"
   ]
  },
  {
   "cell_type": "markdown",
   "id": "63a6b942",
   "metadata": {},
   "source": [
    "4. How do you add an element to a set?"
   ]
  },
  {
   "cell_type": "markdown",
   "id": "6840b6eb",
   "metadata": {},
   "source": [
    "5. Which function returns the number of items in a list, tuple, set, or dictionary?"
   ]
  },
  {
   "cell_type": "markdown",
   "id": "dcf68a8d",
   "metadata": {},
   "source": []
  },
  {
   "cell_type": "markdown",
   "id": "9f75e3b4",
   "metadata": {},
   "source": [
    "### No Idea!\n"
   ]
  },
  {
   "cell_type": "markdown",
   "id": "1577db94",
   "metadata": {},
   "source": [
    "#### Analyse and insights\n",
    "\n",
    "note: first i/p and second i/p is an one line\n",
    "- first i/p: \n",
    "    - n (no of list Element)\n",
    "    - m space input (no of set element)\n",
    "\n",
    " \n",
    "- second i/p:                        \n",
    "    - n (no of list Element in the form of single line with space)\n",
    "\n",
    "\n",
    "- third i/p:\n",
    "    - T (setA elements in the form of single line (space)) that is equal to m\n",
    "\n",
    "- fourth i/p:\n",
    "    - N (setB elements in the form of single line with space) tht is equlal to m\n",
    "\n",
    "- TasK:\n",
    "    - if setA elements are the memeber of list\n",
    "        - then count +=1\n",
    "\n",
    "    - elif setB elements are the member of list\n",
    "        - then count -=1\n",
    "\n",
    "- final outup: the count value"
   ]
  },
  {
   "cell_type": "code",
   "execution_count": 23,
   "id": "1c7515cf",
   "metadata": {},
   "outputs": [
    {
     "name": "stdout",
     "output_type": "stream",
     "text": [
      "1\n"
     ]
    }
   ],
   "source": [
    "# input_01: string two (3,2)\n",
    "inpt = input()\n",
    "\n",
    "# print(inpt)\n",
    "\n",
    "# convert into list ['3', '2']\n",
    "lst = inpt.split()\n",
    "# print(lst)\n",
    "\n",
    "# convert into integer\n",
    "lst_int = []\n",
    "for i in lst:\n",
    "    i = int(i)\n",
    "    lst_int.append(i)  # # [3, 2]\n",
    "\n",
    "# print(lst_int)  # [3, 2]\n",
    "\n",
    "\n",
    "# input_02: put the no of list\n",
    "\n",
    "lst_arr = []\n",
    "\n",
    "i = 0\n",
    "\n",
    "frist_elem = lst_int[0]\n",
    "\n",
    "# print(frist_elem)\n",
    "\n",
    "while i < frist_elem:\n",
    "    str_int = input()\n",
    "\n",
    "    # convert into str list\n",
    "    str_lst = str_int.split()\n",
    "\n",
    "    # conver into inteter array\n",
    "    new_list_arr = []\n",
    "\n",
    "    for i in str_lst:\n",
    "        i = int(i)\n",
    "        new_list_arr.append(i)\n",
    "\n",
    "    i += 1\n",
    "\n",
    "\n",
    "# 3th input\n",
    "\n",
    "lst_a = []\n",
    "\n",
    "i = 0\n",
    "\n",
    "second_elem = lst_int[1]\n",
    "\n",
    "# print(second_elem)\n",
    "\n",
    "while i < second_elem:\n",
    "    str_a = input()\n",
    "\n",
    "    # convert into str list\n",
    "    lst_str_a = str_a.split()\n",
    "\n",
    "    # conver into inteter array\n",
    "    set_a = set()\n",
    "\n",
    "    for i in lst_str_a:\n",
    "        i = int(i)\n",
    "        set_a.add(i)\n",
    "\n",
    "    i += 1\n",
    "\n",
    "# 4th input\n",
    "\n",
    "i = 0\n",
    "\n",
    "second_elem = lst_int[1]\n",
    "\n",
    "# print(second_elem)\n",
    "\n",
    "while i < second_elem:\n",
    "    str_b = input()\n",
    "\n",
    "    # convert into str list\n",
    "    lst_str_b = str_b.split()\n",
    "\n",
    "    # conver into inteter array\n",
    "    set_b = set()\n",
    "\n",
    "    for i in lst_str_b:\n",
    "        i = int(i)\n",
    "        set_b.add(i)\n",
    "\n",
    "    i += 1\n",
    "\n",
    "\n",
    "\n",
    "count = 0\n",
    "\n",
    "set_new = set(new_list_arr)\n",
    "i = 0\n",
    "\n",
    "\n",
    "for val in set_new:\n",
    "    if val in set_a:\n",
    "        count += 1\n",
    "    if val in set_b:\n",
    "        count -= 1\n",
    "        \n",
    "        \n",
    "print(count)"
   ]
  },
  {
   "cell_type": "code",
   "execution_count": null,
   "id": "93a295f5",
   "metadata": {},
   "outputs": [],
   "source": [
    "inpt = input()\n",
    "lst = inpt.split()\n",
    "lst_int = []\n",
    "for i in lst:\n",
    "    i = int(i)\n",
    "    lst_int.append(i) \n",
    "\n",
    "lst_arr = []\n",
    "\n",
    "i = 0\n",
    "\n",
    "frist_elem = lst_int[0]\n",
    "\n",
    "while i < frist_elem:\n",
    "    str_int = input()\n",
    "    str_lst = str_int.split()\n",
    "    new_list_arr = []\n",
    "    for i in str_lst:\n",
    "        i = int(i)\n",
    "        new_list_arr.append(i)\n",
    "\n",
    "    i += 1\n",
    "\n",
    "lst_a = []\n",
    "i = 0\n",
    "second_elem = lst_int[1]\n",
    "\n",
    "while i < second_elem:\n",
    "    str_a = input()\n",
    "    lst_str_a = str_a.split()\n",
    "    set_a = set()\n",
    "\n",
    "    for i in lst_str_a:\n",
    "        i = int(i)\n",
    "        set_a.add(i)\n",
    "\n",
    "    i += 1\n",
    "\n",
    "i = 0\n",
    "second_elem = lst_int[1]\n",
    "while i < second_elem:\n",
    "    str_b = input()\n",
    "    lst_str_b = str_b.split()\n",
    "    set_b = set()\n",
    "\n",
    "    for i in lst_str_b:\n",
    "        i = int(i)\n",
    "        set_b.add(i)\n",
    "\n",
    "    i += 1\n",
    "count = 0\n",
    "set_new = set(new_list_arr)\n",
    "i = 0\n",
    "for val in set_new:\n",
    "    if val in set_a:\n",
    "        count += 1\n",
    "    if val in set_b:\n",
    "        count -= 1      \n",
    "print(count)"
   ]
  },
  {
   "cell_type": "markdown",
   "id": "9bf3329e",
   "metadata": {},
   "source": [
    "Given a string S. Determine how many times does each letter occurred in S.\n",
    "\n",
    "Input\n",
    "Only one line contains the string S (1 ≤ |S| ≤ 107) where |S| is the length of the string and it consists of only lowercase English letters.\n",
    "\n",
    "Output\n",
    "For each character that appears in S, print a single line that contains the following format: \"X : Y\" where X is the letter and Y is the number of times that letter X occurred in S.\n",
    "\n",
    "Note: you must print letters in ascending order.\n",
    "\n",
    "aaabbc"
   ]
  },
  {
   "cell_type": "code",
   "execution_count": 42,
   "id": "4f918748",
   "metadata": {},
   "outputs": [
    {
     "name": "stdout",
     "output_type": "stream",
     "text": [
      "['alkjfalkfjaa'] <class 'list'>\n",
      "{'alkjfalkfjaa': 'alkjfalkfjaa'}\n"
     ]
    }
   ],
   "source": [
    "inp_str = input().lower()\n",
    "\n",
    "# convert into list\n",
    "\n",
    "lst = inp_str.split()\n",
    "\n",
    "\n",
    "print(lst, type(lst))\n",
    "\n",
    "\n",
    "dic = {}\n",
    "\n",
    "for i in lst:\n",
    "    dic[i] = i\n",
    "\n",
    "print(dic)"
   ]
  },
  {
   "cell_type": "markdown",
   "id": "852a40c1",
   "metadata": {},
   "source": []
  },
  {
   "cell_type": "code",
   "execution_count": null,
   "id": "f5fdc9a9",
   "metadata": {},
   "outputs": [],
   "source": []
  },
  {
   "cell_type": "code",
   "execution_count": null,
   "id": "5db17a74",
   "metadata": {},
   "outputs": [],
   "source": []
  },
  {
   "cell_type": "code",
   "execution_count": null,
   "id": "7db7b66c",
   "metadata": {},
   "outputs": [],
   "source": []
  },
  {
   "cell_type": "code",
   "execution_count": null,
   "metadata": {},
   "outputs": [],
   "source": []
  }
 ],
 "metadata": {
  "kernelspec": {
   "display_name": "base",
   "language": "python",
   "name": "python3"
  },
  "language_info": {
   "codemirror_mode": {
    "name": "ipython",
    "version": 3
   },
   "file_extension": ".py",
   "mimetype": "text/x-python",
   "name": "python",
   "nbconvert_exporter": "python",
   "pygments_lexer": "ipython3",
   "version": "3.13.5"
  }
 },
 "nbformat": 4,
 "nbformat_minor": 5
}
