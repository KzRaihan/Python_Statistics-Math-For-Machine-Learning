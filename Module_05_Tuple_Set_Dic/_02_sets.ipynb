{
 "cells": [
  {
   "cell_type": "markdown",
   "id": "f136a3fd",
   "metadata": {},
   "source": [
    "## Topic: Set in Python"
   ]
  },
  {
   "cell_type": "markdown",
   "id": "194ae89c",
   "metadata": {},
   "source": [
    "### OUTCOMES:\n",
    "\n",
    "- 1. Basic of set\n",
    "    - Introduction of sets\n",
    "\n",
    "- 2. Set Create\n",
    "    - empty set create\n",
    "    - unorder propertices\n",
    "    - mutable propertices\n",
    "\n",
    "- 3. Access the sets elements\n",
    "    - Membership Test\n",
    "    - iteration over sets\n",
    "\n",
    "- 4. Sets Method\n",
    "    - Basic method\n",
    "    - Mathematical Method"
   ]
  },
  {
   "cell_type": "markdown",
   "id": "e3cd16c0",
   "metadata": {},
   "source": [
    "### 1. Basic of set"
   ]
  },
  {
   "cell_type": "markdown",
   "id": "48967186",
   "metadata": {},
   "source": [
    "- Set Store Unique elements (ignore the duplicate values)\n",
    "\n",
    "- Set are Mutable (After declare set then it's allow to modify items)\n",
    "\n",
    "- Set are unorder (indexing and slicing are not Posible)"
   ]
  },
  {
   "cell_type": "markdown",
   "id": "0fe08ce9",
   "metadata": {},
   "source": [
    "### 2. Set Create"
   ]
  },
  {
   "cell_type": "code",
   "execution_count": null,
   "id": "c3429c32",
   "metadata": {},
   "outputs": [],
   "source": [
    "# Syntax of sets\n",
    "'''  \n",
    " set_name = {values...}\n",
    "\n",
    "'''"
   ]
  },
  {
   "cell_type": "code",
   "execution_count": 3,
   "id": "51191838",
   "metadata": {},
   "outputs": [
    {
     "name": "stdout",
     "output_type": "stream",
     "text": [
      "<class 'set'>\n",
      "<class 'dict'>\n"
     ]
    }
   ],
   "source": [
    "# Create Empty Sets\n",
    "\n",
    "emp_set = set()\n",
    "\n",
    "print(type(emp_set))\n",
    "\n",
    "# if we try another way\n",
    "\n",
    "null = {}\n",
    "print(type(null))  # this is a dictionary not set\n",
    "\n",
    "\n",
    "# To create an empty or null set must use set keyword\n"
   ]
  },
  {
   "cell_type": "code",
   "execution_count": 6,
   "id": "5aa67283",
   "metadata": {},
   "outputs": [
    {
     "name": "stdout",
     "output_type": "stream",
     "text": [
      "{'Kz', 20.99, True, 95}\n"
     ]
    }
   ],
   "source": [
    "# Create mix sets element\n",
    "\n",
    "mix_set = {\"Kz\", 20.99, 95, True}\n",
    "print(mix_set)\n",
    "\n",
    "# Set allow To store mix values"
   ]
  },
  {
   "cell_type": "code",
   "execution_count": 4,
   "id": "575e6621",
   "metadata": {},
   "outputs": [
    {
     "name": "stdout",
     "output_type": "stream",
     "text": [
      "{50, 20, 40, 10, 30}\n"
     ]
    }
   ],
   "source": [
    "# Create set with unorder Propertices and store unique values.\n",
    "\n",
    "s = {10, 20, 30, 40, 50, 10, 20, 30}\n",
    "\n",
    "print(s)  # only display unique value with unorder format.\n",
    "\n",
    "# Set store only Unique elmement"
   ]
  },
  {
   "cell_type": "code",
   "execution_count": 8,
   "id": "316a6b5f",
   "metadata": {},
   "outputs": [
    {
     "name": "stdout",
     "output_type": "stream",
     "text": [
      "{40, 10, 50, 20, 30}\n"
     ]
    }
   ],
   "source": [
    "# Create Set with Mutable Propertices\n",
    "# - change and modify the sets element\n",
    "\n",
    "s = {10, 20, 30, 40}\n",
    "s.add(50)\n",
    "\n",
    "print(s)\n"
   ]
  },
  {
   "cell_type": "code",
   "execution_count": 45,
   "id": "d56e124b",
   "metadata": {},
   "outputs": [
    {
     "ename": "TypeError",
     "evalue": "unhashable type: 'list'",
     "output_type": "error",
     "traceback": [
      "\u001b[1;31m---------------------------------------------------------------------------\u001b[0m",
      "\u001b[1;31mTypeError\u001b[0m                                 Traceback (most recent call last)",
      "Cell \u001b[1;32mIn[45], line 3\u001b[0m\n\u001b[0;32m      1\u001b[0m \u001b[38;5;66;03m# create set with immutable data type elemens\u001b[39;00m\n\u001b[1;32m----> 3\u001b[0m st \u001b[38;5;241m=\u001b[39m {\u001b[38;5;241m10\u001b[39m, \u001b[38;5;241m20\u001b[39m, \u001b[38;5;241m30\u001b[39m, [\u001b[38;5;241m50\u001b[39m, \u001b[38;5;241m60\u001b[39m, \u001b[38;5;241m70\u001b[39m]}\n\u001b[0;32m      5\u001b[0m \u001b[38;5;28mprint\u001b[39m(st)\n",
      "\u001b[1;31mTypeError\u001b[0m: unhashable type: 'list'"
     ]
    }
   ],
   "source": [
    "# create set with immutable data type elemens\n",
    "\n",
    "st = {10, 20, 30, [50, 60, 70]}\n",
    "\n",
    "print(st)\n",
    "\n",
    "# NOTE:\n",
    "#   - set can't store the list and dict(mutable data types values)"
   ]
  },
  {
   "cell_type": "code",
   "execution_count": 46,
   "id": "44d32a0b",
   "metadata": {},
   "outputs": [
    {
     "ename": "TypeError",
     "evalue": "unhashable type: 'set'",
     "output_type": "error",
     "traceback": [
      "\u001b[1;31m---------------------------------------------------------------------------\u001b[0m",
      "\u001b[1;31mTypeError\u001b[0m                                 Traceback (most recent call last)",
      "Cell \u001b[1;32mIn[46], line 3\u001b[0m\n\u001b[0;32m      1\u001b[0m \u001b[38;5;66;03m# Note: Nested set is not posible\u001b[39;00m\n\u001b[1;32m----> 3\u001b[0m st \u001b[38;5;241m=\u001b[39m {\u001b[38;5;241m10\u001b[39m, \u001b[38;5;241m20\u001b[39m, \u001b[38;5;241m30\u001b[39m, \u001b[38;5;241m40\u001b[39m, {\u001b[38;5;241m30\u001b[39m,\u001b[38;5;241m40\u001b[39m,\u001b[38;5;241m50\u001b[39m,\u001b[38;5;241m60\u001b[39m}}\n\u001b[0;32m      5\u001b[0m \u001b[38;5;28mprint\u001b[39m(st)\n",
      "\u001b[1;31mTypeError\u001b[0m: unhashable type: 'set'"
     ]
    }
   ],
   "source": [
    "# Note: Nested set is not posible\n",
    "\n",
    "st = {10, 20, 30, 40, {30,40,50,60}}\n",
    "\n",
    "print(st)\n"
   ]
  },
  {
   "cell_type": "markdown",
   "id": "84017700",
   "metadata": {},
   "source": [
    "### 3. Access the sets elements"
   ]
  },
  {
   "cell_type": "code",
   "execution_count": 13,
   "id": "26e24b3a",
   "metadata": {},
   "outputs": [
    {
     "name": "stdout",
     "output_type": "stream",
     "text": [
      "True\n",
      "False\n"
     ]
    }
   ],
   "source": [
    "# Membership Test\n",
    "# syntax: item in set\n",
    "#  - Return True if the item is present otherwise False.\n",
    "\n",
    "st = {10, 20, 30, 40}\n",
    "\n",
    "present = 10 in st\n",
    "print(present)\n",
    "\n",
    "not_present = 50 in st\n",
    "\n",
    "print(not_present)"
   ]
  },
  {
   "cell_type": "code",
   "execution_count": 44,
   "id": "2b7a00ad",
   "metadata": {},
   "outputs": [
    {
     "name": "stdout",
     "output_type": "stream",
     "text": [
      "20 is Present\n"
     ]
    }
   ],
   "source": [
    "# Membership Test with conditional statement\n",
    "\n",
    "st = {10, 20, 30, 40}\n",
    "\n",
    "if (20 in st):\n",
    "    print(\"20 is Present\")\n",
    "else:\n",
    "    print(\"Not Present\")"
   ]
  },
  {
   "cell_type": "code",
   "execution_count": 5,
   "id": "a5d1fc8c",
   "metadata": {},
   "outputs": [
    {
     "name": "stdout",
     "output_type": "stream",
     "text": [
      "NO\n",
      "NO\n",
      "NO\n"
     ]
    }
   ],
   "source": [
    "lst = [1,2,3]\n",
    "\n",
    "st = {2,3,4}\n",
    "\n",
    "new_st = set(lst)\n",
    "\n",
    "i = 0\n",
    "while i < len(new_st):\n",
    "\n",
    "    if (new_st in st):\n",
    "        print(\"Yes\")\n",
    "\n",
    "    else:\n",
    "        print(\"NO\")\n",
    "\n",
    "    i += 1"
   ]
  },
  {
   "cell_type": "code",
   "execution_count": 16,
   "id": "663a5807",
   "metadata": {},
   "outputs": [
    {
     "name": "stdout",
     "output_type": "stream",
     "text": [
      "40 10 20 30 "
     ]
    }
   ],
   "source": [
    "# iteration over set\n",
    "\n",
    "st = {10, 20, 30, 40,20}\n",
    "\n",
    "for item in st:\n",
    "    print(item, end = \" \")"
   ]
  },
  {
   "cell_type": "code",
   "execution_count": 47,
   "id": "6155b22b",
   "metadata": {},
   "outputs": [
    {
     "name": "stdout",
     "output_type": "stream",
     "text": [
      "100\n"
     ]
    }
   ],
   "source": [
    "sum = 0 \n",
    "for item in st:\n",
    "    sum += item\n",
    "print(sum)"
   ]
  },
  {
   "cell_type": "markdown",
   "id": "a58a2d55",
   "metadata": {},
   "source": [
    "### 4. Sets Method"
   ]
  },
  {
   "cell_type": "markdown",
   "id": "28a38318",
   "metadata": {},
   "source": [
    "#### Basic Set Method"
   ]
  },
  {
   "cell_type": "code",
   "execution_count": 19,
   "id": "91422a59",
   "metadata": {},
   "outputs": [
    {
     "name": "stdout",
     "output_type": "stream",
     "text": [
      "{50, 20, 40, 10, 60, 30}\n",
      "{50, 20, 40, 10, 60, 30}\n"
     ]
    }
   ],
   "source": [
    "# 1. set.add(item)\n",
    "# - add the item in set and ignore the duplicate item\n",
    "\n",
    "st = {10, 20, 30, 40, 50}\n",
    "\n",
    "st.add(60)\n",
    "\n",
    "print(st)\n",
    "\n",
    "# if we try to add duplicate item \n",
    "st.add(50)  # ignore\n",
    "print(st)\n"
   ]
  },
  {
   "cell_type": "code",
   "execution_count": 24,
   "id": "c2714672",
   "metadata": {},
   "outputs": [
    {
     "name": "stdout",
     "output_type": "stream",
     "text": [
      "{20, 40, 10, 30}\n",
      "50\n"
     ]
    }
   ],
   "source": [
    "# 2. set.pop()\n",
    "# - remove and return the random element in set\n",
    "\n",
    "st = {10, 20, 30, 40, 50}\n",
    "\n",
    "ran_item = st.pop()\n",
    "\n",
    "print(st)\n",
    "\n",
    "print(ran_item)\n",
    "\n",
    "\n"
   ]
  },
  {
   "cell_type": "code",
   "execution_count": 25,
   "id": "2a66959f",
   "metadata": {},
   "outputs": [
    {
     "name": "stdout",
     "output_type": "stream",
     "text": [
      "{50, 40, 10, 30}\n"
     ]
    }
   ],
   "source": [
    "# 3. set.remove(item)\n",
    "# remove the specific item\n",
    "\n",
    "st = {10, 20, 30, 40, 50}\n",
    "\n",
    "st.remove(20)\n",
    "\n",
    "print(st)"
   ]
  },
  {
   "cell_type": "code",
   "execution_count": 28,
   "id": "6a66ee7d",
   "metadata": {},
   "outputs": [
    {
     "name": "stdout",
     "output_type": "stream",
     "text": [
      "set()\n"
     ]
    }
   ],
   "source": [
    "# 4. set.clear()\n",
    "# clear all set items\n",
    "\n",
    "st.clear()\n",
    "print(st)"
   ]
  },
  {
   "cell_type": "markdown",
   "id": "64f4b806",
   "metadata": {},
   "source": [
    "#### Mathematical Method"
   ]
  },
  {
   "cell_type": "code",
   "execution_count": 32,
   "id": "562bc86e",
   "metadata": {},
   "outputs": [
    {
     "name": "stdout",
     "output_type": "stream",
     "text": [
      "{50, 20, 40, 10, 30}\n"
     ]
    }
   ],
   "source": [
    "# 5. set_1.union(set_2)\n",
    "# - Combine all items in set_1, set_2 and duplicate items count one.\n",
    "\n",
    "set_1 = {10, 20, 30}\n",
    "\n",
    "set_2 = {30, 40, 50}\n",
    "\n",
    "union_set = set_1.union(set_2)\n",
    "\n",
    "print(union_set)"
   ]
  },
  {
   "cell_type": "code",
   "execution_count": 33,
   "metadata": {},
   "outputs": [
    {
     "name": "stdout",
     "output_type": "stream",
     "text": [
      "{30}\n"
     ]
    }
   ],
   "source": [
    "# 6. set_1.intersection(set_2)\n",
    "# - combine only intersection part (common elements)\n",
    "\n",
    "set_1 = {10, 20, 30}\n",
    "\n",
    "set_2 = {30, 40, 50}\n",
    "\n",
    "print(set_1.intersection(set_2))"
   ]
  },
  {
   "cell_type": "code",
   "execution_count": 36,
   "id": "f7547658",
   "metadata": {},
   "outputs": [
    {
     "name": "stdout",
     "output_type": "stream",
     "text": [
      "True\n"
     ]
    }
   ],
   "source": [
    "# 7. set_1.isdisjoint(set_2)\n",
    "#  - return True if set_1 and set_2 is not intersection(not common items) otherwise return False\n",
    "\n",
    "\n",
    "set_1 = {10, 20, 30}\n",
    "\n",
    "set_2 = {60, 40, 50}\n",
    "\n",
    "new_set = set_1.isdisjoint(set_2)\n",
    "print(new_set)\n",
    "\n",
    "# O/P: True \n",
    "# - Because set_1 and set_2 is not insection\n",
    "#  - or set_1 and set_2 have no common items"
   ]
  },
  {
   "cell_type": "code",
   "execution_count": 37,
   "id": "4ac63d3f",
   "metadata": {},
   "outputs": [
    {
     "name": "stdout",
     "output_type": "stream",
     "text": [
      "False\n"
     ]
    }
   ],
   "source": [
    "# another example of set_1.isdisjoint(set_2)\n",
    "\n",
    "set_a = {10,5,15}\n",
    "\n",
    "set_b = {5,20,25}\n",
    "\n",
    "set_c = set_a.isdisjoint(set_b)\n",
    "\n",
    "print(set_c)\n",
    "\n",
    "# o/p: False\n",
    "# - because set_a and set_b have a common element, which is (5)."
   ]
  },
  {
   "cell_type": "code",
   "execution_count": 42,
   "id": "56527056",
   "metadata": {},
   "outputs": [
    {
     "name": "stdout",
     "output_type": "stream",
     "text": [
      "True\n"
     ]
    }
   ],
   "source": [
    "# 8. set_1.issubset(set_2)\n",
    "# - return True if set_1 all items is present in set_2 othewise False.\n",
    "\n",
    "set_1 = {10, 20, 30}\n",
    "\n",
    "set_2 = {10, 20, 30,40,50}\n",
    "\n",
    "sub_set_t = set_1.issubset(set_2)\n",
    "\n",
    "print(sub_set_t)  # set_1 all items is present in set_2\n",
    "\n"
   ]
  },
  {
   "cell_type": "code",
   "execution_count": 41,
   "id": "2c52220d",
   "metadata": {},
   "outputs": [
    {
     "name": "stdout",
     "output_type": "stream",
     "text": [
      "False\n"
     ]
    }
   ],
   "source": [
    "print(set_2.issubset(set_1))"
   ]
  },
  {
   "cell_type": "code",
   "execution_count": 43,
   "id": "e0412f0f",
   "metadata": {},
   "outputs": [
    {
     "name": "stdout",
     "output_type": "stream",
     "text": [
      "False\n"
     ]
    }
   ],
   "source": [
    "set_3 = {15,25,35,45,55, 65, 75}\n",
    "\n",
    "sub_set_f = set_1.issubset(set_3) # set_1 all items is not present in set_3\n",
    "\n",
    "print(sub_set_f)"
   ]
  }
 ],
 "metadata": {
  "kernelspec": {
   "display_name": "base",
   "language": "python",
   "name": "python3"
  },
  "language_info": {
   "codemirror_mode": {
    "name": "ipython",
    "version": 3
   },
   "file_extension": ".py",
   "mimetype": "text/x-python",
   "name": "python",
   "nbconvert_exporter": "python",
   "pygments_lexer": "ipython3",
   "version": "3.13.5"
  }
 },
 "nbformat": 4,
 "nbformat_minor": 5
}
