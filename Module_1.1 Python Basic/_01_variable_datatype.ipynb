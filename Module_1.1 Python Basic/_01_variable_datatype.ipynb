{
 "cells": [
  {
   "cell_type": "markdown",
   "id": "46c95e95",
   "metadata": {},
   "source": [
    "# Topic: Python Basic\n",
    "\n",
    "- OUTCOMES\n",
    "    - 1. Setup Resource\n",
    "    \n",
    "    - 2. Variable and Data Type"
   ]
  },
  {
   "cell_type": "markdown",
   "id": "3bdbd242",
   "metadata": {},
   "source": [
    "## 1. Setup Resource\n",
    "\n",
    "- Python : https://www.python.org/\n",
    "\n",
    "- VS Code: https://code.visualstudio.com/\n",
    "\n",
    "\n",
    "- Required Extensions for VS Code:\n",
    "\n",
    "    - Python \n",
    "    - Jupyter \n",
    "\n",
    "\n",
    "- Required Packages for Python:\n",
    "\n",
    "    - Jupyter\n",
    "    - Ipykernel\n"
   ]
  },
  {
   "cell_type": "markdown",
   "id": "dd5ae8da",
   "metadata": {},
   "source": [
    "## 2. Variable and Data Type\n"
   ]
  },
  {
   "cell_type": "markdown",
   "id": "a1fec738",
   "metadata": {},
   "source": [
    "### Variable"
   ]
  },
  {
   "cell_type": "code",
   "execution_count": null,
   "id": "8d518035",
   "metadata": {},
   "outputs": [
    {
     "name": "stdout",
     "output_type": "stream",
     "text": [
      "Hello, welcome to the new paradise\n",
      "101\n",
      "95.5\n",
      "True\n"
     ]
    }
   ],
   "source": [
    "# Variable is name given to the memeory location that store data\n",
    "\n",
    "# syntax : variable_name = variable value\n",
    "\n",
    "var = \"Hello, welcome to the new paradise\"\n",
    "student_id = 101\n",
    "average_score = 95.5\n",
    "is_valid = True\n",
    "\n",
    "# Display the variable value\n",
    "print(var)\n",
    "print(student_id)\n",
    "print(average_score)\n",
    "print(is_valid)"
   ]
  },
  {
   "cell_type": "code",
   "execution_count": 3,
   "id": "f6960939",
   "metadata": {},
   "outputs": [
    {
     "name": "stdout",
     "output_type": "stream",
     "text": [
      "Kz 24 5.6\n"
     ]
    }
   ],
   "source": [
    "# Assign multiple in single line\n",
    "name = \"Kz\"; age = 24; height = 5.6\n",
    "\n",
    "# Display in single line\n",
    "print(name, age, height)"
   ]
  },
  {
   "cell_type": "markdown",
   "id": "2f225c93",
   "metadata": {},
   "source": [
    "# Rules of Variable:\n",
    "- Variable are alpha-numeric(A-z or 0-9) and underscore(_)\n",
    "\n",
    "- Variable can't start with numbers or other special characters (!@$$%^&*).\n",
    "\n",
    "- Variables cannot contain predefined data types(int, float, bool, list, tuple, dic) or spaces( )."
   ]
  },
  {
   "cell_type": "code",
   "execution_count": null,
   "id": "07c31391",
   "metadata": {},
   "outputs": [],
   "source": [
    "# some invalid variable\n",
    "\n",
    "1_var = \"first\"  # number at first (1)\n",
    "\n",
    "@name = \"Ra\"   # special symbol (@) \n",
    "\n",
    "ban&eng = 90, 70    # special symbol (&)\n",
    "\n",
    "book price = \"Bangla\", 20.30  # spaces(in between book and price)\n"
   ]
  },
  {
   "cell_type": "markdown",
   "id": "61213238",
   "metadata": {},
   "source": [
    "### Data Type\n",
    "\n",
    "- Tell us which type of data store in memory or that we perform"
   ]
  },
  {
   "cell_type": "code",
   "execution_count": 8,
   "id": "d28451ed",
   "metadata": {},
   "outputs": [
    {
     "name": "stdout",
     "output_type": "stream",
     "text": [
      "Type of var:  <class 'str'>\n",
      "Type of student_id:  <class 'int'>\n",
      "Type of average_score:  <class 'float'>\n",
      "Type of is_valid:  <class 'bool'>\n"
     ]
    }
   ],
   "source": [
    "# Data type\n",
    "# Python dynamically detect the data type or do not need to explicitly declare.\n",
    "\n",
    "var = \"Hello, welcome to the new paradise\"\n",
    "student_id = 101\n",
    "average_score = 95.5\n",
    "is_valid = True\n",
    "\n",
    "\n",
    "# to see the data type by using predifine function: type()\n",
    "\n",
    "print(\"Type of var: \", type(var))\n",
    "print(\"Type of student_id: \", type(student_id))\n",
    "print(\"Type of average_score: \", type(average_score))\n",
    "print(\"Type of is_valid: \", type(is_valid))\n"
   ]
  }
 ],
 "metadata": {
  "kernelspec": {
   "display_name": "base",
   "language": "python",
   "name": "python3"
  },
  "language_info": {
   "codemirror_mode": {
    "name": "ipython",
    "version": 3
   },
   "file_extension": ".py",
   "mimetype": "text/x-python",
   "name": "python",
   "nbconvert_exporter": "python",
   "pygments_lexer": "ipython3",
   "version": "3.13.5"
  }
 },
 "nbformat": 4,
 "nbformat_minor": 5
}
