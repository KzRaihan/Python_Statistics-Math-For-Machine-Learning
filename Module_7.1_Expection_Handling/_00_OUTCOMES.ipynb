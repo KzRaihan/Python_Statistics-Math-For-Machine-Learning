{
 "cells": [
  {
   "cell_type": "markdown",
   "id": "16f4ce1e",
   "metadata": {},
   "source": [
    "## TOPIC: Expection Handling in Python"
   ]
  },
  {
   "cell_type": "markdown",
   "id": "4051d541",
   "metadata": {},
   "source": [
    "### OUTCOMES\n",
    "\n",
    "- 1. Intro and type of Errors \n",
    "\n",
    "- 3. Introduction of Expection Handling\n",
    "\n",
    "- 4. How to handle Exception \n",
    "\n",
    "- 5. Practices Problem"
   ]
  }
 ],
 "metadata": {
  "language_info": {
   "name": "python"
  }
 },
 "nbformat": 4,
 "nbformat_minor": 5
}
