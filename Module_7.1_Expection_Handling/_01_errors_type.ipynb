{
 "cells": [
  {
   "cell_type": "markdown",
   "id": "afc9c713",
   "metadata": {},
   "source": [
    "## Topic: Introduction of Errors and it's types"
   ]
  },
  {
   "cell_type": "markdown",
   "id": "6c830028",
   "metadata": {},
   "source": [
    "### OUTCOMES\n",
    "\n",
    "- 1. What is an Errors\n",
    "\n",
    "- 2. Diagram of Program Execution\n",
    "\n",
    "- 3. Types of Error\n"
   ]
  },
  {
   "cell_type": "markdown",
   "id": "b6f3bc46",
   "metadata": {},
   "source": [
    "### 1. What is an Errors"
   ]
  },
  {
   "cell_type": "markdown",
   "id": "5d1f36d0",
   "metadata": {},
   "source": [
    "- Define an error as an unexpected condition that stops or alters program execution."
   ]
  },
  {
   "cell_type": "markdown",
   "id": "cebf4620",
   "metadata": {},
   "source": [
    "### 2. Diagram of Program Execution"
   ]
  },
  {
   "cell_type": "code",
   "execution_count": null,
   "id": "98bee029",
   "metadata": {},
   "outputs": [],
   "source": [
    "'''  \n",
    "[Source Code]  \n",
    "      ↓  \n",
    "[Compiler/Interpreter] → [Syntax Errors] (if detected, execution stops)  \n",
    "      ↓  \n",
    "[Executable Program]  \n",
    "      ↓  \n",
    "[Runtime] → [Runtime Errors] (e.g., division by zero)  \n",
    "      ↓  \n",
    "[Logic Execution] → [Logical Errors] (incorrect output)  \n",
    "      ↓  \n",
    "[Program Output]\n",
    "\n",
    "\n",
    "'''"
   ]
  },
  {
   "cell_type": "markdown",
   "id": "1821391e",
   "metadata": {},
   "source": [
    "### 3. Types of Errors"
   ]
  },
  {
   "cell_type": "markdown",
   "id": "5a87ec6f",
   "metadata": {},
   "source": [
    "- Categorized into three types:\n",
    "\n",
    "    - 1. Syntax Errors\n",
    "    - 2. Runtime Errors\n",
    "    - 3. Logical Errors"
   ]
  },
  {
   "cell_type": "markdown",
   "id": "8a983e0f",
   "metadata": {},
   "source": [
    "#### 1. Syntax Errors"
   ]
  },
  {
   "cell_type": "markdown",
   "id": "52cd49ae",
   "metadata": {},
   "source": [
    "- Something in the program is not written according to the program grammar."
   ]
  },
  {
   "cell_type": "markdown",
   "id": "5a8d0490",
   "metadata": {},
   "source": [
    "### Types of Syntax Errors\n",
    "\n",
    "\n",
    "- 1. SyntaxError\n",
    "\n",
    "- 2. IndentaionError\n",
    "\n",
    "- 3. NameError\n",
    "\n",
    "- 4. ValueError\n",
    "\n",
    "- 5. TypeError\n",
    "\n",
    "- 6. IndexError\n",
    "\n",
    "- 7. KeyError\n",
    "\n",
    "- 8. AttributeError\n",
    "\n",
    "- 9. ModuleNotFoundError\n",
    "\n",
    "- 10. FileNotFoundError"
   ]
  },
  {
   "cell_type": "markdown",
   "id": "23a165e7",
   "metadata": {},
   "source": [
    "- WHY Occures Syntax Errors\n",
    "\n",
    "    - Leaving symbols like colon,brackets\n",
    "\n",
    "    - Misspelling a keyword\n",
    "\n",
    "    - Incorrect indentation\n",
    "\n",
    "    - empty if/else/loops/class/functions"
   ]
  },
  {
   "cell_type": "markdown",
   "id": "965a9c3e",
   "metadata": {},
   "source": [
    "#### 1. Syntax Errors"
   ]
  },
  {
   "cell_type": "code",
   "execution_count": 1,
   "id": "81b7e127",
   "metadata": {},
   "outputs": [
    {
     "ename": "SyntaxError",
     "evalue": "expected ':' (2350760034.py, line 7)",
     "output_type": "error",
     "traceback": [
      "\u001b[1;36m  Cell \u001b[1;32mIn[1], line 7\u001b[1;36m\u001b[0m\n\u001b[1;33m    if x > 15    # here mising colon\u001b[0m\n\u001b[1;37m                 ^\u001b[0m\n\u001b[1;31mSyntaxError\u001b[0m\u001b[1;31m:\u001b[0m expected ':'\n"
     ]
    }
   ],
   "source": [
    "# Example: Syntax Errors\n",
    "\n",
    "# leaving symbol like colon\n",
    "\n",
    "x = 10\n",
    "\n",
    "if x > 15    # here mising colon\n",
    "    print(\"x is greader than 15\")\n"
   ]
  },
  {
   "cell_type": "code",
   "execution_count": 2,
   "id": "976f947c",
   "metadata": {},
   "outputs": [
    {
     "ename": "SyntaxError",
     "evalue": "invalid syntax (2355338570.py, line 3)",
     "output_type": "error",
     "traceback": [
      "\u001b[1;36m  Cell \u001b[1;32mIn[2], line 3\u001b[1;36m\u001b[0m\n\u001b[1;33m    iff x > 15:\u001b[0m\n\u001b[1;37m        ^\u001b[0m\n\u001b[1;31mSyntaxError\u001b[0m\u001b[1;31m:\u001b[0m invalid syntax\n"
     ]
    }
   ],
   "source": [
    "## Example: Misspelling a keyword\n",
    "\n",
    "iff x > 15:\n",
    "    print(\"HI\")"
   ]
  },
  {
   "cell_type": "markdown",
   "id": "beb98d62",
   "metadata": {},
   "source": [
    "#### 2. indentation Errors\n"
   ]
  },
  {
   "cell_type": "code",
   "execution_count": 10,
   "id": "4849ce86",
   "metadata": {},
   "outputs": [
    {
     "ename": "IndentationError",
     "evalue": "expected an indented block after 'if' statement on line 3 (375409325.py, line 4)",
     "output_type": "error",
     "traceback": [
      "\u001b[1;36m  Cell \u001b[1;32mIn[10], line 4\u001b[1;36m\u001b[0m\n\u001b[1;33m    print(\"x is greader than 10\")\u001b[0m\n\u001b[1;37m    ^\u001b[0m\n\u001b[1;31mIndentationError\u001b[0m\u001b[1;31m:\u001b[0m expected an indented block after 'if' statement on line 3\n"
     ]
    }
   ],
   "source": [
    "\n",
    "x = 15\n",
    "\n",
    "if x > 10:\n",
    "print(\"x is greader than 10\")\n"
   ]
  },
  {
   "cell_type": "markdown",
   "id": "1f707ed7",
   "metadata": {},
   "source": [
    "#### 3. NameError\n",
    "- The NameError is thrown when an object could not be found."
   ]
  },
  {
   "cell_type": "code",
   "execution_count": 8,
   "id": "b0d11e75",
   "metadata": {},
   "outputs": [
    {
     "ename": "NameError",
     "evalue": "name 'x' is not defined",
     "output_type": "error",
     "traceback": [
      "\u001b[1;31m---------------------------------------------------------------------------\u001b[0m",
      "\u001b[1;31mNameError\u001b[0m                                 Traceback (most recent call last)",
      "Cell \u001b[1;32mIn[8], line 1\u001b[0m\n\u001b[1;32m----> 1\u001b[0m \u001b[38;5;28mprint\u001b[39m(x)\n",
      "\u001b[1;31mNameError\u001b[0m: name 'x' is not defined"
     ]
    }
   ],
   "source": [
    "x = y\n",
    "print(x)"
   ]
  },
  {
   "cell_type": "markdown",
   "id": "57f9a143",
   "metadata": {},
   "source": [
    "#### 4. ValueError\n",
    "\n",
    "- The ValueError is thrown when a function's argument is of an inappropriate type."
   ]
  },
  {
   "cell_type": "code",
   "execution_count": 7,
   "id": "7ef520ff",
   "metadata": {},
   "outputs": [
    {
     "ename": "ValueError",
     "evalue": "invalid literal for int() with base 10: 'a'",
     "output_type": "error",
     "traceback": [
      "\u001b[1;31m---------------------------------------------------------------------------\u001b[0m",
      "\u001b[1;31mValueError\u001b[0m                                Traceback (most recent call last)",
      "Cell \u001b[1;32mIn[7], line 1\u001b[0m\n\u001b[1;32m----> 1\u001b[0m x \u001b[38;5;241m=\u001b[39m \u001b[38;5;28mint\u001b[39m(\u001b[38;5;124m'\u001b[39m\u001b[38;5;124ma\u001b[39m\u001b[38;5;124m'\u001b[39m)\n\u001b[0;32m      3\u001b[0m \u001b[38;5;28mprint\u001b[39m(x)\n",
      "\u001b[1;31mValueError\u001b[0m: invalid literal for int() with base 10: 'a'"
     ]
    }
   ],
   "source": [
    "x = int('a')\n",
    "\n",
    "print(x)"
   ]
  },
  {
   "cell_type": "markdown",
   "id": "a9386306",
   "metadata": {},
   "source": [
    "#### 5. TypeError\n",
    "- The TypeError is thrown when an operation or function is applied to an object of an inappropriate type."
   ]
  },
  {
   "cell_type": "code",
   "execution_count": 9,
   "id": "3b2d86ba",
   "metadata": {},
   "outputs": [
    {
     "ename": "TypeError",
     "evalue": "can only concatenate str (not \"int\") to str",
     "output_type": "error",
     "traceback": [
      "\u001b[1;31m---------------------------------------------------------------------------\u001b[0m",
      "\u001b[1;31mTypeError\u001b[0m                                 Traceback (most recent call last)",
      "Cell \u001b[1;32mIn[9], line 1\u001b[0m\n\u001b[1;32m----> 1\u001b[0m ans \u001b[38;5;241m=\u001b[39m \u001b[38;5;124m'\u001b[39m\u001b[38;5;124ma\u001b[39m\u001b[38;5;124m'\u001b[39m \u001b[38;5;241m+\u001b[39m \u001b[38;5;241m10\u001b[39m\n\u001b[0;32m      3\u001b[0m \u001b[38;5;28mprint\u001b[39m(ans)\n",
      "\u001b[1;31mTypeError\u001b[0m: can only concatenate str (not \"int\") to str"
     ]
    }
   ],
   "source": [
    "ans = 'a' + 10\n",
    "\n",
    "print(ans)\n"
   ]
  },
  {
   "cell_type": "markdown",
   "id": "7403965c",
   "metadata": {},
   "source": [
    "#### 6. IndexError\n",
    "\n",
    "- The IndexError is thrown when trying to access an item at an invalid index."
   ]
  },
  {
   "cell_type": "code",
   "execution_count": 11,
   "id": "e12f5b07",
   "metadata": {},
   "outputs": [
    {
     "ename": "IndexError",
     "evalue": "list index out of range",
     "output_type": "error",
     "traceback": [
      "\u001b[1;31m---------------------------------------------------------------------------\u001b[0m",
      "\u001b[1;31mIndexError\u001b[0m                                Traceback (most recent call last)",
      "Cell \u001b[1;32mIn[11], line 3\u001b[0m\n\u001b[0;32m      1\u001b[0m lst \u001b[38;5;241m=\u001b[39m [\u001b[38;5;241m10\u001b[39m, \u001b[38;5;241m20\u001b[39m,\u001b[38;5;241m30\u001b[39m,\u001b[38;5;241m40\u001b[39m,\u001b[38;5;241m50\u001b[39m]\n\u001b[1;32m----> 3\u001b[0m \u001b[38;5;28mprint\u001b[39m(lst[\u001b[38;5;241m10\u001b[39m])\n",
      "\u001b[1;31mIndexError\u001b[0m: list index out of range"
     ]
    }
   ],
   "source": [
    "lst = [10, 20,30,40,50]\n",
    "\n",
    "print(lst[10]) # idx -> 10 is out of the range"
   ]
  },
  {
   "cell_type": "markdown",
   "id": "f6cf7c81",
   "metadata": {},
   "source": [
    "#### 7. KeyError\n",
    "\n",
    "- The KeyError is thrown when a key is not found"
   ]
  },
  {
   "cell_type": "code",
   "execution_count": 13,
   "id": "2dfa5025",
   "metadata": {},
   "outputs": [
    {
     "ename": "KeyError",
     "evalue": "'country'",
     "output_type": "error",
     "traceback": [
      "\u001b[1;31m---------------------------------------------------------------------------\u001b[0m",
      "\u001b[1;31mKeyError\u001b[0m                                  Traceback (most recent call last)",
      "Cell \u001b[1;32mIn[13], line 7\u001b[0m\n\u001b[0;32m      1\u001b[0m user \u001b[38;5;241m=\u001b[39m {\n\u001b[0;32m      2\u001b[0m     \u001b[38;5;124m\"\u001b[39m\u001b[38;5;124mname\u001b[39m\u001b[38;5;124m\"\u001b[39m : \u001b[38;5;124m\"\u001b[39m\u001b[38;5;124mKz\u001b[39m\u001b[38;5;124m\"\u001b[39m,\n\u001b[0;32m      3\u001b[0m     \u001b[38;5;124m\"\u001b[39m\u001b[38;5;124mage\u001b[39m\u001b[38;5;124m\"\u001b[39m : \u001b[38;5;241m17\u001b[39m,\n\u001b[0;32m      4\u001b[0m     \u001b[38;5;124m\"\u001b[39m\u001b[38;5;124mcls\u001b[39m\u001b[38;5;124m\"\u001b[39m : \u001b[38;5;241m10\u001b[39m\n\u001b[0;32m      5\u001b[0m }\n\u001b[1;32m----> 7\u001b[0m \u001b[38;5;28mprint\u001b[39m(user[\u001b[38;5;124m\"\u001b[39m\u001b[38;5;124mcountry\u001b[39m\u001b[38;5;124m\"\u001b[39m])\n",
      "\u001b[1;31mKeyError\u001b[0m: 'country'"
     ]
    }
   ],
   "source": [
    "user = {\n",
    "    \"name\" : \"Kz\",\n",
    "    \"age\" : 17,\n",
    "    \"cls\" : 10\n",
    "}\n",
    "\n",
    "print(user[\"country\"])"
   ]
  },
  {
   "cell_type": "markdown",
   "id": "db84a1dd",
   "metadata": {},
   "source": [
    "#### 8. AttributeError\n",
    "\n",
    "- if the method is not found for given data type"
   ]
  },
  {
   "cell_type": "code",
   "execution_count": 14,
   "id": "6fc05485",
   "metadata": {},
   "outputs": [
    {
     "ename": "AttributeError",
     "evalue": "'list' object has no attribute 'upper'",
     "output_type": "error",
     "traceback": [
      "\u001b[1;31m---------------------------------------------------------------------------\u001b[0m",
      "\u001b[1;31mAttributeError\u001b[0m                            Traceback (most recent call last)",
      "Cell \u001b[1;32mIn[14], line 3\u001b[0m\n\u001b[0;32m      1\u001b[0m lst \u001b[38;5;241m=\u001b[39m [\u001b[38;5;241m10\u001b[39m, \u001b[38;5;241m20\u001b[39m,\u001b[38;5;241m30\u001b[39m]\n\u001b[1;32m----> 3\u001b[0m \u001b[38;5;28mprint\u001b[39m(lst\u001b[38;5;241m.\u001b[39mupper())\n",
      "\u001b[1;31mAttributeError\u001b[0m: 'list' object has no attribute 'upper'"
     ]
    }
   ],
   "source": [
    "lst = [10, 20,30]\n",
    "\n",
    "print(lst.upper()) \n"
   ]
  },
  {
   "cell_type": "markdown",
   "id": "209ee61c",
   "metadata": {},
   "source": [
    "#### 9. ModuleNotFoundError\n",
    "\n",
    "- The NameError is thrown when an object could not be found."
   ]
  },
  {
   "cell_type": "code",
   "execution_count": 16,
   "id": "ab79cd3e",
   "metadata": {},
   "outputs": [
    {
     "ename": "ModuleNotFoundError",
     "evalue": "No module named 'mathi'",
     "output_type": "error",
     "traceback": [
      "\u001b[1;31m---------------------------------------------------------------------------\u001b[0m",
      "\u001b[1;31mModuleNotFoundError\u001b[0m                       Traceback (most recent call last)",
      "Cell \u001b[1;32mIn[16], line 1\u001b[0m\n\u001b[1;32m----> 1\u001b[0m \u001b[38;5;28;01mimport\u001b[39;00m\u001b[38;5;250m \u001b[39m\u001b[38;5;21;01mmathi\u001b[39;00m  \u001b[38;5;66;03m# math\u001b[39;00m\n\u001b[0;32m      3\u001b[0m \u001b[38;5;28mprint\u001b[39m(math\u001b[38;5;241m.\u001b[39mfloor(\u001b[38;5;241m5.642\u001b[39m))\n",
      "\u001b[1;31mModuleNotFoundError\u001b[0m: No module named 'mathi'"
     ]
    }
   ],
   "source": [
    "import mathi  # math\n",
    "\n",
    "print(math.floor(5.642))"
   ]
  },
  {
   "cell_type": "markdown",
   "id": "09cf85f2",
   "metadata": {},
   "source": [
    "#### 10. FileNotFoundError\n",
    "\n",
    "- when we read a file but it's not present in the directiory"
   ]
  },
  {
   "cell_type": "code",
   "execution_count": 17,
   "id": "a8a02ffc",
   "metadata": {},
   "outputs": [
    {
     "ename": "FileNotFoundError",
     "evalue": "[Errno 2] No such file or directory: 'one.txt'",
     "output_type": "error",
     "traceback": [
      "\u001b[1;31m---------------------------------------------------------------------------\u001b[0m",
      "\u001b[1;31mFileNotFoundError\u001b[0m                         Traceback (most recent call last)",
      "Cell \u001b[1;32mIn[17], line 1\u001b[0m\n\u001b[1;32m----> 1\u001b[0m \u001b[38;5;28;01mwith\u001b[39;00m \u001b[38;5;28mopen\u001b[39m(\u001b[38;5;124m\"\u001b[39m\u001b[38;5;124mone.txt\u001b[39m\u001b[38;5;124m\"\u001b[39m, \u001b[38;5;124m\"\u001b[39m\u001b[38;5;124mr\u001b[39m\u001b[38;5;124m\"\u001b[39m) \u001b[38;5;28;01mas\u001b[39;00m f:\n\u001b[0;32m      2\u001b[0m     f\u001b[38;5;241m.\u001b[39mread()\n",
      "File \u001b[1;32mc:\\Users\\HP\\anaconda3\\Lib\\site-packages\\IPython\\core\\interactiveshell.py:324\u001b[0m, in \u001b[0;36m_modified_open\u001b[1;34m(file, *args, **kwargs)\u001b[0m\n\u001b[0;32m    317\u001b[0m \u001b[38;5;28;01mif\u001b[39;00m file \u001b[38;5;129;01min\u001b[39;00m {\u001b[38;5;241m0\u001b[39m, \u001b[38;5;241m1\u001b[39m, \u001b[38;5;241m2\u001b[39m}:\n\u001b[0;32m    318\u001b[0m     \u001b[38;5;28;01mraise\u001b[39;00m \u001b[38;5;167;01mValueError\u001b[39;00m(\n\u001b[0;32m    319\u001b[0m         \u001b[38;5;124mf\u001b[39m\u001b[38;5;124m\"\u001b[39m\u001b[38;5;124mIPython won\u001b[39m\u001b[38;5;124m'\u001b[39m\u001b[38;5;124mt let you open fd=\u001b[39m\u001b[38;5;132;01m{\u001b[39;00mfile\u001b[38;5;132;01m}\u001b[39;00m\u001b[38;5;124m by default \u001b[39m\u001b[38;5;124m\"\u001b[39m\n\u001b[0;32m    320\u001b[0m         \u001b[38;5;124m\"\u001b[39m\u001b[38;5;124mas it is likely to crash IPython. If you know what you are doing, \u001b[39m\u001b[38;5;124m\"\u001b[39m\n\u001b[0;32m    321\u001b[0m         \u001b[38;5;124m\"\u001b[39m\u001b[38;5;124myou can use builtins\u001b[39m\u001b[38;5;124m'\u001b[39m\u001b[38;5;124m open.\u001b[39m\u001b[38;5;124m\"\u001b[39m\n\u001b[0;32m    322\u001b[0m     )\n\u001b[1;32m--> 324\u001b[0m \u001b[38;5;28;01mreturn\u001b[39;00m io_open(file, \u001b[38;5;241m*\u001b[39margs, \u001b[38;5;241m*\u001b[39m\u001b[38;5;241m*\u001b[39mkwargs)\n",
      "\u001b[1;31mFileNotFoundError\u001b[0m: [Errno 2] No such file or directory: 'one.txt'"
     ]
    }
   ],
   "source": [
    "with open(\"one.txt\", \"r\") as f:\n",
    "    f.read()"
   ]
  },
  {
   "cell_type": "markdown",
   "id": "f43ec9f9",
   "metadata": {},
   "source": [
    "### 2. Runtime Errors"
   ]
  },
  {
   "cell_type": "markdown",
   "id": "9686f4b9",
   "metadata": {},
   "source": [
    "- Exceptions are raised by python runtime\n",
    "\n",
    "- To sove this errors on the fly\n",
    "\n",
    "- To Handle this Runtime time Errors we use Exception handling\n"
   ]
  },
  {
   "cell_type": "code",
   "execution_count": 18,
   "id": "b5cc1e0b",
   "metadata": {},
   "outputs": [
    {
     "ename": "ZeroDivisionError",
     "evalue": "division by zero",
     "output_type": "error",
     "traceback": [
      "\u001b[1;31m---------------------------------------------------------------------------\u001b[0m",
      "\u001b[1;31mZeroDivisionError\u001b[0m                         Traceback (most recent call last)",
      "Cell \u001b[1;32mIn[18], line 5\u001b[0m\n\u001b[0;32m      1\u001b[0m \u001b[38;5;66;03m# Example_01: ZeroDivisionError\u001b[39;00m\n\u001b[0;32m      3\u001b[0m num1 \u001b[38;5;241m=\u001b[39m \u001b[38;5;241m10\u001b[39m; num2 \u001b[38;5;241m=\u001b[39m \u001b[38;5;241m0\u001b[39m\n\u001b[1;32m----> 5\u001b[0m div \u001b[38;5;241m=\u001b[39m num1\u001b[38;5;241m/\u001b[39mnum2\n\u001b[0;32m      7\u001b[0m \u001b[38;5;28mprint\u001b[39m(div)\n",
      "\u001b[1;31mZeroDivisionError\u001b[0m: division by zero"
     ]
    }
   ],
   "source": [
    "# Example_01: ZeroDivisionError\n",
    "\n",
    "num1 = 10; num2 = 0\n",
    "\n",
    "div = num1/num2\n",
    "\n",
    "print(div)\n",
    "\n",
    "# To handle this type of errors we use Expection handling."
   ]
  },
  {
   "cell_type": "markdown",
   "id": "3addc099",
   "metadata": {},
   "source": [
    "#### 3. Logical Errors"
   ]
  },
  {
   "cell_type": "markdown",
   "id": "ce58718e",
   "metadata": {},
   "source": [
    "- A logical error in Python, also known as a semantic error, occurs when the code is syntactically correct and runs without crashing, but it produces an incorrect or unintended result. "
   ]
  },
  {
   "cell_type": "code",
   "execution_count": 19,
   "id": "528c6e6a",
   "metadata": {},
   "outputs": [
    {
     "name": "stdout",
     "output_type": "stream",
     "text": [
      "The average is: 10.0\n"
     ]
    }
   ],
   "source": [
    "# Example: logical Error\n",
    "\n",
    "# calculate the average of two numbers\n",
    "num1 = 5\n",
    "num2 = 10\n",
    "\n",
    "average = num1 + num2 / 2  # Logical error: Division happens before addition (missing parentheses (should be (a+b)/2))\n",
    "\n",
    "print(f\"The average is: {average}\")"
   ]
  }
 ],
 "metadata": {
  "kernelspec": {
   "display_name": "base",
   "language": "python",
   "name": "python3"
  },
  "language_info": {
   "codemirror_mode": {
    "name": "ipython",
    "version": 3
   },
   "file_extension": ".py",
   "mimetype": "text/x-python",
   "name": "python",
   "nbconvert_exporter": "python",
   "pygments_lexer": "ipython3",
   "version": "3.13.5"
  }
 },
 "nbformat": 4,
 "nbformat_minor": 5
}
