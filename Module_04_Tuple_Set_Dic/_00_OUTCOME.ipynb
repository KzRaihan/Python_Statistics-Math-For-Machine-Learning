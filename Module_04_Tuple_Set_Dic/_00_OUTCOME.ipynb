{
 "cells": [
  {
   "cell_type": "markdown",
   "id": "cb355e99",
   "metadata": {},
   "source": [
    "## Topic: Tuples, Sets, Dictionaries"
   ]
  },
  {
   "cell_type": "markdown",
   "id": "85389a7f",
   "metadata": {},
   "source": [
    "### OUTCOMES\n",
    "\n",
    "- Tuples in python\n",
    "    - Basic of Tuple\n",
    "\n",
    "    - Tuples Method\n",
    "\n",
    "\n",
    "- Sets in python\n",
    "\n",
    "\n",
    "- Dictionaries in python"
   ]
  }
 ],
 "metadata": {
  "language_info": {
   "name": "python"
  }
 },
 "nbformat": 4,
 "nbformat_minor": 5
}
