{
 "cells": [
  {
   "cell_type": "markdown",
   "id": "0e2015a5",
   "metadata": {},
   "source": [
    "## Topic: Tuples in Python"
   ]
  },
  {
   "cell_type": "markdown",
   "id": "b5cff77d",
   "metadata": {},
   "source": [
    "### OUTCOMES\n",
    "\n",
    "- 1. Basic of Tuple\n",
    "\n",
    "    - Introduction of tuples\n",
    "\n",
    "    - Creating of tuple\n",
    "\n",
    "    - Difference between tuple and variable\n",
    "\n",
    "    - Access of tuple's elements\n",
    "        - indexing and slicing\n",
    "        - tuple immutability propertices\n",
    "        - conversion list to tuple\n",
    "\n",
    "- 2. Tuple's Method\n",
    "    - tpl.count(item) \n",
    "    - tpl.index(item)"
   ]
  },
  {
   "cell_type": "markdown",
   "id": "5e50cdb0",
   "metadata": {},
   "source": [
    "### 1. Basic of Tuple"
   ]
  },
  {
   "cell_type": "markdown",
   "id": "1d3a3285",
   "metadata": {},
   "source": [
    "- Introduction of tuples\n",
    "\n",
    "    -  Tuples are ordered,immutable collection of items."
   ]
  },
  {
   "cell_type": "markdown",
   "id": "3cc07c6c",
   "metadata": {},
   "source": [
    "#### Creating Tuples"
   ]
  },
  {
   "cell_type": "code",
   "execution_count": null,
   "id": "7a316056",
   "metadata": {},
   "outputs": [],
   "source": [
    "\n",
    "# Syntax of tuple\n",
    " \n",
    "'''  \n",
    "tuple_name = (values....)\n",
    "\n",
    "'''"
   ]
  },
  {
   "cell_type": "code",
   "execution_count": 3,
   "id": "90d55691",
   "metadata": {},
   "outputs": [
    {
     "name": "stdout",
     "output_type": "stream",
     "text": [
      "(10, 20, 30, 40) <class 'tuple'>\n"
     ]
    }
   ],
   "source": [
    "# Declaration of Tuple\n",
    "tpl = (10, 20, 30, 40) \n",
    "\n",
    "print(tpl, type(tpl))"
   ]
  },
  {
   "cell_type": "code",
   "execution_count": 38,
   "id": "137e3080",
   "metadata": {},
   "outputs": [
    {
     "name": "stdout",
     "output_type": "stream",
     "text": [
      "<class 'tuple'> <class 'int'>\n",
      "<class 'tuple'> <class 'float'>\n",
      "('Kz', 24, 5.67, True) <class 'tuple'>\n",
      "<class 'str'>\n",
      "<class 'bool'>\n"
     ]
    }
   ],
   "source": [
    "# Creating of different tuple\n",
    "\n",
    "# integer\n",
    "int_tpl = (10, 20, 30, 40, 50)\n",
    "print(type(int_tpl), type(int_tpl[0]))\n",
    "\n",
    "# float\n",
    "float_tpl = (10.10, 20.55, 30.44, 40.55, 50.99)\n",
    "print(type(float_tpl), type(float_tpl[0]))\n",
    "\n",
    "# mix \n",
    "mix_tpl = (\"Kz\", 24, 5.67,True)\n",
    "print(mix_tpl, type(mix_tpl))\n",
    "\n",
    "\n",
    "print(type(mix_tpl[0]))\n",
    "print(type(mix_tpl[-1]))\n"
   ]
  },
  {
   "cell_type": "markdown",
   "id": "b3c874e2",
   "metadata": {},
   "source": [
    "#### Difference between tuple and variable"
   ]
  },
  {
   "cell_type": "code",
   "execution_count": 12,
   "id": "eeed1b4d",
   "metadata": {},
   "outputs": [
    {
     "name": "stdout",
     "output_type": "stream",
     "text": [
      "<class 'tuple'>\n",
      "<class 'tuple'>\n"
     ]
    }
   ],
   "source": [
    "# create empty or null tuple\n",
    "\n",
    "emp_tpl = ()\n",
    "print(type(emp_tpl))\n",
    "\n",
    "# another way to create empty tuple using build-in data type(tuple)\n",
    "\n",
    "null_tpl = tuple()\n",
    "print(type(null_tpl))"
   ]
  },
  {
   "cell_type": "code",
   "execution_count": 14,
   "id": "9b780ad5",
   "metadata": {},
   "outputs": [
    {
     "name": "stdout",
     "output_type": "stream",
     "text": [
      "1 <class 'int'>\n",
      "(1,) <class 'tuple'>\n"
     ]
    }
   ],
   "source": [
    "# Creating tuple for only one variable\n",
    "\n",
    "var_one = (1)\n",
    "print(var_one, type(var_one))  \n",
    "\n",
    "tpl_one = (1,)\n",
    "print(tpl_one, type(tpl_one))\n",
    "\n",
    "# NOTE :\n",
    "#  - variable contain only one items and tuple contain collections of items.\n",
    "#  - for declare one in tuple item must follow (one_item,) comman separator otherwise it's count variable."
   ]
  },
  {
   "cell_type": "markdown",
   "id": "43308c8c",
   "metadata": {},
   "source": [
    "#### Access of tuple's elements"
   ]
  },
  {
   "cell_type": "markdown",
   "id": "39b82e8e",
   "metadata": {},
   "source": [
    "##### indexing and slicing"
   ]
  },
  {
   "cell_type": "code",
   "execution_count": 17,
   "id": "18c255d5",
   "metadata": {},
   "outputs": [
    {
     "name": "stdout",
     "output_type": "stream",
     "text": [
      "Kz\n",
      "Python\n",
      "True\n"
     ]
    }
   ],
   "source": [
    "tpl = (\"Kz\", 24, 99.99, True, \"Python\")\n",
    "\n",
    "# indexing \n",
    "# - access the single item\n",
    "first_ele = tpl[0]\n",
    "print(first_ele)\n",
    "\n",
    "print(tpl[-1]) # last element\n",
    "\n",
    "print(tpl[3]) # in between element\n"
   ]
  },
  {
   "cell_type": "code",
   "execution_count": 22,
   "id": "fb912b0d",
   "metadata": {},
   "outputs": [
    {
     "name": "stdout",
     "output_type": "stream",
     "text": [
      "('Kz', 24, 99.99)\n",
      "('Kz', 24, 99.99, True, 'Python')\n",
      "('Kz', 99.99, 'Python')\n",
      "('Python', True, 99.99, 24, 'Kz')\n"
     ]
    }
   ],
   "source": [
    "# slicing \n",
    "# - access the multiple items\n",
    "\n",
    "tpl = (\"Kz\", 24, 99.99, True, \"Python\")\n",
    "\n",
    "first_thrid = tpl[0:3]\n",
    "print(first_thrid)\n",
    "\n",
    "print(tpl[:]) # access all elements\n",
    "\n",
    "print(tpl[::2])\n",
    "\n",
    "print(tpl[::-1]) # reverse the tuple"
   ]
  },
  {
   "cell_type": "markdown",
   "id": "9c3b5e52",
   "metadata": {},
   "source": [
    "##### tuple immutability propertices"
   ]
  },
  {
   "cell_type": "code",
   "execution_count": 23,
   "id": "78a11ee0",
   "metadata": {},
   "outputs": [
    {
     "ename": "TypeError",
     "evalue": "'tuple' object does not support item assignment",
     "output_type": "error",
     "traceback": [
      "\u001b[1;31m---------------------------------------------------------------------------\u001b[0m",
      "\u001b[1;31mTypeError\u001b[0m                                 Traceback (most recent call last)",
      "Cell \u001b[1;32mIn[23], line 8\u001b[0m\n\u001b[0;32m      5\u001b[0m tpl \u001b[38;5;241m=\u001b[39m (\u001b[38;5;124m\"\u001b[39m\u001b[38;5;124mKz\u001b[39m\u001b[38;5;124m\"\u001b[39m, \u001b[38;5;241m24\u001b[39m, \u001b[38;5;241m99.99\u001b[39m, \u001b[38;5;28;01mTrue\u001b[39;00m, \u001b[38;5;124m\"\u001b[39m\u001b[38;5;124mPython\u001b[39m\u001b[38;5;124m\"\u001b[39m)\n\u001b[0;32m      7\u001b[0m \u001b[38;5;66;03m# Modify the first element\u001b[39;00m\n\u001b[1;32m----> 8\u001b[0m tpl[\u001b[38;5;241m0\u001b[39m] \u001b[38;5;241m=\u001b[39m \u001b[38;5;241m10\u001b[39m\n\u001b[0;32m      9\u001b[0m \u001b[38;5;28mprint\u001b[39m(tpl)\n",
      "\u001b[1;31mTypeError\u001b[0m: 'tuple' object does not support item assignment"
     ]
    }
   ],
   "source": [
    "# Tuple is immutable data type\n",
    "#  - not change and modify the tuple values\n",
    "\n",
    "\n",
    "tpl = (\"Kz\", 24, 99.99, True, \"Python\")\n",
    "\n",
    "# Modify the first element\n",
    "tpl[0] = 10\n",
    "\n",
    "print(tpl)  \n",
    "\n",
    "# Not Modify the tuple value"
   ]
  },
  {
   "cell_type": "markdown",
   "id": "ea3cf607",
   "metadata": {},
   "source": [
    "##### Convert list to tuple and vice-versa"
   ]
  },
  {
   "cell_type": "code",
   "execution_count": 29,
   "id": "f6ca8353",
   "metadata": {},
   "outputs": [
    {
     "name": "stdout",
     "output_type": "stream",
     "text": [
      "[10, 20, 30, 'kz', 3.14, 60] <class 'list'>\n",
      "(10, 20, 30, 'kz', 3.14, 60) <class 'tuple'>\n",
      "[10, 20, 30, 'kz', 3.14, 60] <class 'list'>\n"
     ]
    }
   ],
   "source": [
    "# list\n",
    "lst = [10, 20, 30, \"kz\", 3.14, 60]\n",
    "\n",
    "print(lst, type(lst))\n",
    "\n",
    "# convert to tuple\n",
    "tpl_new = tuple(lst)\n",
    "print(tpl_new, type(tpl_new))\n",
    "\n",
    "# again convert to list\n",
    "\n",
    "lst_new = list(tpl_new)\n",
    "print(lst_new, type(lst_new))\n"
   ]
  },
  {
   "cell_type": "code",
   "execution_count": 30,
   "id": "2c2a15fa",
   "metadata": {},
   "outputs": [
    {
     "name": "stdout",
     "output_type": "stream",
     "text": [
      "('Kz', 24, 99.99, True, 'Python')\n",
      "('KzRaihan', 24, 99.99, True, 'Python')\n"
     ]
    }
   ],
   "source": [
    "# modify the tuple element using above concept\n",
    "\n",
    "tpl = (\"Kz\", 24, 99.99, True, \"Python\")\n",
    "\n",
    "print(tpl)\n",
    "\n",
    "# convert into list\n",
    "lst = list(tpl)\n",
    "\n",
    "# modify the items \n",
    "\n",
    "lst[0] = \"KzRaihan\"\n",
    "\n",
    "# again convert to tuple\n",
    "\n",
    "tpl = tuple(lst)\n",
    "\n",
    "print(tpl)"
   ]
  },
  {
   "cell_type": "markdown",
   "id": "00869416",
   "metadata": {},
   "source": [
    "### 2. Tuple's Method"
   ]
  },
  {
   "cell_type": "code",
   "execution_count": 32,
   "id": "368585c2",
   "metadata": {},
   "outputs": [
    {
     "name": "stdout",
     "output_type": "stream",
     "text": [
      "1\n",
      "2\n"
     ]
    }
   ],
   "source": [
    "# 1. tpl.index(item)\n",
    "\n",
    "# - return the item idx that is first occurance.\n",
    "\n",
    "tpl = [10, 20, 40, 20, 50, 20, 60, 70, 40]\n",
    "\n",
    "print(tpl.index(20))\n",
    "\n",
    "print(tpl.index(40))"
   ]
  },
  {
   "cell_type": "code",
   "execution_count": 36,
   "id": "f03b3444",
   "metadata": {},
   "outputs": [
    {
     "name": "stdout",
     "output_type": "stream",
     "text": [
      "3\n",
      "2\n",
      "1\n"
     ]
    }
   ],
   "source": [
    "# 2. tpl.count(item)\n",
    "# - Count the total item frequency.\n",
    "\n",
    "tpl = [10, 20, 40, 20, 50, 20, 60, 70, 40]\n",
    "\n",
    "print(tpl.count(20))\n",
    "print(tpl.count(40))\n",
    "print(tpl.count(10))"
   ]
  }
 ],
 "metadata": {
  "kernelspec": {
   "display_name": "base",
   "language": "python",
   "name": "python3"
  },
  "language_info": {
   "codemirror_mode": {
    "name": "ipython",
    "version": 3
   },
   "file_extension": ".py",
   "mimetype": "text/x-python",
   "name": "python",
   "nbconvert_exporter": "python",
   "pygments_lexer": "ipython3",
   "version": "3.13.5"
  }
 },
 "nbformat": 4,
 "nbformat_minor": 5
}
