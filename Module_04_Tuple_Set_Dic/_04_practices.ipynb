{
 "cells": [
  {
   "cell_type": "markdown",
   "id": "9e345137",
   "metadata": {},
   "source": [
    "1. What is a tuple in Python?"
   ]
  },
  {
   "cell_type": "code",
   "execution_count": null,
   "id": "9e33ec7f",
   "metadata": {},
   "outputs": [],
   "source": [
    "2. What is a set in Python?"
   ]
  },
  {
   "cell_type": "markdown",
   "id": "e4bbf872",
   "metadata": {},
   "source": [
    "3. Which of the following correctly creates a dictionary?"
   ]
  },
  {
   "cell_type": "markdown",
   "id": "63a6b942",
   "metadata": {},
   "source": [
    "4. How do you add an element to a set?"
   ]
  },
  {
   "cell_type": "markdown",
   "id": "6840b6eb",
   "metadata": {},
   "source": [
    "5. Which function returns the number of items in a list, tuple, set, or dictionary?"
   ]
  },
  {
   "cell_type": "markdown",
   "id": "0d73bb11",
   "metadata": {},
   "source": []
  },
  {
   "cell_type": "markdown",
   "id": "ac74e01c",
   "metadata": {},
   "source": []
  },
  {
   "cell_type": "markdown",
   "id": "dcf68a8d",
   "metadata": {},
   "source": []
  }
 ],
 "metadata": {
  "language_info": {
   "name": "python"
  }
 },
 "nbformat": 4,
 "nbformat_minor": 5
}
