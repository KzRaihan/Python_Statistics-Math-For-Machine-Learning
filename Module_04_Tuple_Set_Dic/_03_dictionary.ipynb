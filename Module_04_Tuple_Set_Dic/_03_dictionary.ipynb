{
 "cells": [
  {
   "cell_type": "markdown",
   "id": "1c0c8a0c",
   "metadata": {},
   "source": [
    "## Topic: Dictionaries in Python"
   ]
  },
  {
   "cell_type": "markdown",
   "id": "7f552509",
   "metadata": {},
   "source": [
    "### OUTCOMES\n",
    "\n",
    "- 1. Introduction of Dictionaries\n",
    "\n",
    "- 2. Create Dictionaries \n",
    "\n",
    "- 3. Access, Insert, update, delete Dictionary element\n",
    "\n",
    "- 4. Dictionaries Method\n",
    "    - view method.\n",
    "    \n",
    "\n",
    "- 5. Iteration over Dictionaries\n",
    "\n",
    "- 6. Dictionaries Comprehension."
   ]
  },
  {
   "cell_type": "markdown",
   "id": "755edb53",
   "metadata": {},
   "source": [
    "### 1. Introduction of Dictionaries.\n",
    "\n",
    "- Dictionaries are ordered , mutable collections of items that store data in key-value pairs.\n",
    "\n",
    "- key:\n",
    "  - Key must be unique and immutable (eg. int, float, str, tuple)\n",
    "\n",
    "- value:\n",
    "  - Values can be any type."
   ]
  },
  {
   "cell_type": "markdown",
   "id": "e176569a",
   "metadata": {},
   "source": [
    "### 2. Create Dictionaries "
   ]
  },
  {
   "cell_type": "code",
   "execution_count": null,
   "id": "9178feef",
   "metadata": {},
   "outputs": [
    {
     "name": "stdout",
     "output_type": "stream",
     "text": [
      "<class 'dict'>\n",
      "<class 'dict'>\n"
     ]
    }
   ],
   "source": [
    "# Create empty or null dictionary\n",
    "emp_dic = {}\n",
    "\n",
    "print(type(emp_dic))\n",
    "\n",
    "# Null Dictionary\n",
    "null_dic = dict()\n",
    "\n",
    "print(type(null_dic))\n",
    "\n"
   ]
  },
  {
   "cell_type": "code",
   "execution_count": null,
   "id": "3dbb6f96",
   "metadata": {},
   "outputs": [],
   "source": [
    "### Syntax of Dictinary\n",
    "'''  \n",
    "dic_name = {\n",
    "    \"key1\" : Value1,\n",
    "    \"key2\" : value2,\n",
    "    --------------\n",
    "    --------\n",
    "}\n",
    "\n",
    "'''"
   ]
  },
  {
   "cell_type": "code",
   "execution_count": 25,
   "id": "c1067cfa",
   "metadata": {},
   "outputs": [
    {
     "name": "stdout",
     "output_type": "stream",
     "text": [
      "{'Key': 'value', 'name': 'Kz', 'age': 24, 'Height': 6.23, 'is_student': True} <class 'dict'>\n"
     ]
    }
   ],
   "source": [
    "# Create dictionary\n",
    "demo = {\n",
    "    \"Key\": \"value\",\n",
    "    \"name\": \"Kz\",\n",
    "    \"age\" : 24,\n",
    "    \"Height\": 6.23,\n",
    "    \"is_student\": True\n",
    "}\n",
    "\n",
    "print(demo, type(demo))"
   ]
  },
  {
   "cell_type": "code",
   "execution_count": null,
   "id": "d3a64ac5",
   "metadata": {},
   "outputs": [
    {
     "name": "stdout",
     "output_type": "stream",
     "text": [
      "{10: 'interger value', 3.14: 'PI value', 'name': 101, True: 'Yes', (98, 99, 97): 'Marks', 'lst': [10, 20, 30]}\n",
      "Yes\n",
      "Marks\n",
      "PI value\n"
     ]
    }
   ],
   "source": [
    "# key must be immutable data type and value can be any type\n",
    "\n",
    "demo = {\n",
    "    10: \"interger value\",\n",
    "\n",
    "    3.14 : \"PI value\",   # here key = float type\n",
    "\n",
    "    \"name\": 101,\n",
    "\n",
    "    True : \"Yes\",       # here key = boolen type\n",
    "\n",
    "    (98,99,97): \"Marks\",  # here key = tuple\n",
    "\n",
    "    \"lst\" : [10, 20, 30]  # here value = list\n",
    "    \n",
    "}\n",
    "\n",
    "print(demo)\n",
    "\n",
    "# access only value\n",
    "\n",
    "print(demo[True])\n",
    "print(demo[(98,99,97)])\n",
    "print(demo[3.14])\n"
   ]
  },
  {
   "cell_type": "code",
   "execution_count": null,
   "id": "9b8f2c4a",
   "metadata": {},
   "outputs": [
    {
     "ename": "SyntaxError",
     "evalue": "':' expected after dictionary key (1887483653.py, line 13)",
     "output_type": "error",
     "traceback": [
      "\u001b[1;36m  Cell \u001b[1;32mIn[34], line 13\u001b[1;36m\u001b[0m\n\u001b[1;33m    [\"Math\", \"eng\", \"ICT\"] = [60, 70, 40]\u001b[0m\n\u001b[1;37m                         ^\u001b[0m\n\u001b[1;31mSyntaxError\u001b[0m\u001b[1;31m:\u001b[0m ':' expected after dictionary key\n"
     ]
    }
   ],
   "source": [
    "# when key is mutable type\n",
    "demo = {\n",
    "    10: \"interger value\",\n",
    "\n",
    "    3.14 : \"PI value\",\n",
    "\n",
    "    \"name\": 101,\n",
    "\n",
    "    True : \"Yes\",\n",
    "\n",
    "    (98,99,97): \"Marks\",\n",
    "\n",
    "    [\"Math\", \"eng\", \"ICT\"] = [60, 70, 40]\n",
    "    \n",
    "}\n",
    "\n",
    "# key must be immutable type\n"
   ]
  },
  {
   "cell_type": "markdown",
   "id": "ee46f543",
   "metadata": {},
   "source": [
    "### 3. Access, update,Insert, delete Dictionary element"
   ]
  },
  {
   "cell_type": "code",
   "execution_count": 16,
   "id": "acf556b9",
   "metadata": {},
   "outputs": [
    {
     "name": "stdout",
     "output_type": "stream",
     "text": [
      "{'name': 'Kz', 'age': 24, 'course': 'Python'} <class 'dict'>\n",
      "Kz\n",
      "24\n"
     ]
    }
   ],
   "source": [
    "# Create dictionary\n",
    "dic = {\n",
    "    \"name\": \"Kz\",\n",
    "    \"age\": 24, \n",
    "    \"course\": \"Python\"\n",
    "    }\n",
    "\n",
    "print(dic, type(dic))\n",
    "\n",
    "\n",
    "# Access items\n",
    "# syntax: dic_name[key]\n",
    "\n",
    "print(dic[\"name\"])\n",
    "\n",
    "# Another way to access dic elements\n",
    "# dic.get(\"key\")\n",
    "print(dic.get(\"age\"))"
   ]
  },
  {
   "cell_type": "code",
   "execution_count": 22,
   "id": "e140f619",
   "metadata": {},
   "outputs": [
    {
     "name": "stdout",
     "output_type": "stream",
     "text": [
      "{'name': 'Kz', 'age': 24, 'course': 'Al/ML'}\n",
      "{'name': 'Kz', 'age': 24, 'course': 'Al/ML', 'Address': 'Dhaka'}\n"
     ]
    }
   ],
   "source": [
    "# update or Modify the dic elements\n",
    "\n",
    "dic = {\n",
    "    \"name\": \"Kz\",\n",
    "    \"age\": 24, \n",
    "    \"course\": \"Python\"\n",
    "    }\n",
    "\n",
    "\n",
    "dic[\"course\"] = \"Al/ML\"\n",
    "\n",
    "print(dic)\n",
    "\n",
    "# another way to update \n",
    "dic.update({\"Address\": \"Dhaka\"})\n",
    "\n",
    "print(dic)"
   ]
  },
  {
   "cell_type": "code",
   "execution_count": 19,
   "id": "a2e51b34",
   "metadata": {},
   "outputs": [
    {
     "name": "stdout",
     "output_type": "stream",
     "text": [
      "{'name': 'Kz', 'age': 24, 'course': 'Al/ML', 'Last_name': 'Raihan'}\n",
      "{'name': 'Md Kz', 'age': 24, 'course': 'Al/ML', 'Last_name': 'Raihan'}\n"
     ]
    }
   ],
   "source": [
    "# insert elements into dic \n",
    "dic[\"Last_name\"] = \"Raihan\"\n",
    "\n",
    "print(dic)\n",
    "\n",
    "\n",
    "# if we try to insert duplicate key values\n",
    "\n",
    "dic[\"name\"] = \"Md Kz\"\n",
    "print(dic)  \n",
    "\n",
    "# NOTE:\n",
    "# - Key must be unique; otherwise, value is updated by the last value."
   ]
  },
  {
   "cell_type": "code",
   "execution_count": 20,
   "id": "adb5e2ad",
   "metadata": {},
   "outputs": [
    {
     "name": "stdout",
     "output_type": "stream",
     "text": [
      "{'name': 'Md Kz', 'course': 'Al/ML', 'Last_name': 'Raihan'}\n"
     ]
    }
   ],
   "source": [
    "# delete dic items\n",
    "del dic[\"age\"]\n",
    "print(dic)"
   ]
  },
  {
   "cell_type": "code",
   "execution_count": 23,
   "id": "f860a021",
   "metadata": {},
   "outputs": [
    {
     "ename": "NameError",
     "evalue": "name 'dic' is not defined",
     "output_type": "error",
     "traceback": [
      "\u001b[1;31m---------------------------------------------------------------------------\u001b[0m",
      "\u001b[1;31mNameError\u001b[0m                                 Traceback (most recent call last)",
      "Cell \u001b[1;32mIn[23], line 3\u001b[0m\n\u001b[0;32m      1\u001b[0m \u001b[38;5;66;03m# delete entire dictionary\u001b[39;00m\n\u001b[0;32m      2\u001b[0m \u001b[38;5;28;01mdel\u001b[39;00m dic\n\u001b[1;32m----> 3\u001b[0m \u001b[38;5;28mprint\u001b[39m(dic)\n",
      "\u001b[1;31mNameError\u001b[0m: name 'dic' is not defined"
     ]
    }
   ],
   "source": [
    "# delete entire dictionary\n",
    "del dic\n",
    "print(dic)"
   ]
  },
  {
   "cell_type": "markdown",
   "id": "a6ec31d5",
   "metadata": {},
   "source": [
    "### 4. Dictionaries Method"
   ]
  },
  {
   "cell_type": "code",
   "execution_count": null,
   "id": "f286c2e7",
   "metadata": {},
   "outputs": [],
   "source": []
  },
  {
   "cell_type": "code",
   "execution_count": null,
   "id": "2f285f87",
   "metadata": {},
   "outputs": [],
   "source": []
  },
  {
   "cell_type": "markdown",
   "id": "6aa4f2ca",
   "metadata": {},
   "source": [
    "#### View method"
   ]
  },
  {
   "cell_type": "code",
   "execution_count": null,
   "id": "53eeca76",
   "metadata": {},
   "outputs": [
    {
     "name": "stdout",
     "output_type": "stream",
     "text": [
      "dict_keys(['name', 'age', 'course', 'Marks'])\n",
      "dict_keys(['name', 'age', 'course', 'Marks', 'last_name'])\n"
     ]
    }
   ],
   "source": [
    "### Views method(keys, values, items) to see the dic elements amd change or update the value in real time.\n",
    "\n",
    "# 1. dic.keys()\n",
    "## - return all keys in dictionary\n",
    "\n",
    "student_info = {\n",
    "    \"name\" : \"Kz\",\n",
    "\n",
    "    \"age\" : 24,\n",
    "\n",
    "    \"course\" : ['Python','AI', 'Ml', 'Dl'],\n",
    "\n",
    "    \"Marks\"  : (97,95,99,98)\n",
    "\n",
    "}\n",
    "\n",
    "keys = student_info.keys()\n",
    "\n",
    "print(keys)\n",
    "\n",
    "# add value\n",
    "student_info[\"last_name\"] = \"Raihan\"\n",
    "\n",
    "print(keys)  # key is update in real time."
   ]
  },
  {
   "cell_type": "code",
   "execution_count": null,
   "id": "2561094d",
   "metadata": {},
   "outputs": [
    {
     "name": "stdout",
     "output_type": "stream",
     "text": [
      "dict_values(['Kz', 24, ['Python', 'AI', 'Ml', 'Dl'], (97, 95, 99, 98)])\n",
      "dict_values(['Kz', 24, ['Python', 'AI', 'Ml', 'Dl'], (97, 95, 99, 98), 'Dhaka'])\n"
     ]
    }
   ],
   "source": [
    "# 2. dic.values()\n",
    "# - return all values in dictionary\n",
    "\n",
    "student_info = {\n",
    "    \"name\" : \"Kz\",\n",
    "\n",
    "    \"age\" : 24,\n",
    "\n",
    "    \"course\" : ['Python','AI', 'Ml', 'Dl'],\n",
    "\n",
    "    \"Marks\"  : (97,95,99,98)\n",
    "}\n",
    "\n",
    "values = student_info.values()\n",
    "\n",
    "print(values)\n",
    "\n",
    "# add a items\n",
    "student_info[\"address\"] = \"Dhaka\"\n",
    "\n",
    "print(values) # here value is update in real time (no need to assign again)"
   ]
  },
  {
   "cell_type": "code",
   "execution_count": null,
   "id": "30c1dcfe",
   "metadata": {},
   "outputs": [
    {
     "name": "stdout",
     "output_type": "stream",
     "text": [
      "dict_items([('name', 'Kz'), ('age', 24), ('course', ['Python', 'AI', 'Ml', 'Dl']), ('Marks', (97, 95, 99, 98))])\n",
      "dict_items([('name', 'Kz'), ('age', 24), ('course', ['Python', 'AI', 'Ml', 'Dl']), ('Marks', (97, 95, 99, 98)), ('math_mark', 90.99)])\n"
     ]
    }
   ],
   "source": [
    "# 3. dic.items()\n",
    "# - return all key and value pairs.\n",
    "\n",
    "student_info = {\n",
    "    \"name\" : \"Kz\",\n",
    "\n",
    "    \"age\" : 24,\n",
    "\n",
    "    \"course\" : ['Python','AI', 'Ml', 'Dl'],\n",
    "\n",
    "    \"Marks\"  : (97,95,99,98)\n",
    "}\n",
    "\n",
    "key_val = student_info.items()\n",
    "\n",
    "print(key_val)\n",
    "\n",
    "# update key,val\n",
    "student_info[\"math_mark\"] = 90.99\n",
    "\n",
    "print(key_val) # it's automatically update"
   ]
  },
  {
   "cell_type": "markdown",
   "id": "1a9dbbc5",
   "metadata": {},
   "source": [
    "- dictionary other method"
   ]
  },
  {
   "cell_type": "code",
   "execution_count": 49,
   "id": "0f259ff7",
   "metadata": {},
   "outputs": [
    {
     "name": "stdout",
     "output_type": "stream",
     "text": [
      "['Python', 'AI', 'Ml', 'Dl']\n",
      "(97, 95, 99, 98)\n",
      "None\n",
      "0\n",
      "Not Available\n"
     ]
    }
   ],
   "source": [
    "# 4. dic.get(key)\n",
    "# - return the key is value.\n",
    "\n",
    "student_info = {\n",
    "    \"name\" : \"Kz\",\n",
    "\n",
    "    \"age\" : 24,\n",
    "\n",
    "    \"course\" : ['Python','AI', 'Ml', 'Dl'],\n",
    "\n",
    "    \"Marks\"  : (97,95,99,98)\n",
    "}\n",
    "\n",
    "print(student_info.get(\"course\"))\n",
    "print(student_info.get(\"Marks\"))\n",
    "\n",
    "\n",
    "# if key is not available then return None\n",
    "print(student_info.get(\"Last_name\"))\n",
    "\n",
    "# customize the default value\n",
    "print(student_info.get(\"First_name\",0))\n",
    "\n",
    "print(student_info.get(\"First_name\",\"Not Available\"))\n",
    "\n"
   ]
  },
  {
   "cell_type": "code",
   "execution_count": 52,
   "id": "713aa7c5",
   "metadata": {},
   "outputs": [
    {
     "name": "stdout",
     "output_type": "stream",
     "text": [
      "{'name': 'Kz', 'age': 24, 'course': ['Python', 'AI', 'Ml', 'Dl'], 'Marks': (97, 95, 99, 98)}\n",
      "{'name': 'Kz', 'age': 24, 'course': ['Python', 'AI', 'Ml', 'Dl'], 'Marks': (97, 95, 99, 98)}\n"
     ]
    }
   ],
   "source": [
    "# 5. dic.copy()\n",
    "# - copy all items \n",
    "\n",
    "student_info = {\n",
    "    \"name\" : \"Kz\",\n",
    "\n",
    "    \"age\" : 24,\n",
    "\n",
    "    \"course\" : ['Python','AI', 'Ml', 'Dl'],\n",
    "\n",
    "    \"Marks\"  : (97,95,99,98)\n",
    "}\n",
    "\n",
    "print(student_info.copy())\n",
    "\n",
    "copy_info = student_info.copy()\n",
    "\n",
    "print(copy_info)\n"
   ]
  },
  {
   "cell_type": "markdown",
   "id": "bc58d87c",
   "metadata": {},
   "source": [
    "### 5. Iteration over Dictionaries"
   ]
  },
  {
   "cell_type": "code",
   "execution_count": 56,
   "id": "a9c06d94",
   "metadata": {},
   "outputs": [
    {
     "name": "stdout",
     "output_type": "stream",
     "text": [
      "name\n",
      "age\n",
      "course\n",
      "Marks\n"
     ]
    }
   ],
   "source": [
    "# Access dictionary using loop\n",
    "student_info = {\n",
    "    \"name\" : \"Kz\",\n",
    "\n",
    "    \"age\" : 24,\n",
    "\n",
    "    \"course\" : ['Python','AI', 'Ml', 'Dl'],\n",
    "\n",
    "    \"Marks\"  : (97,95,99,98)\n",
    "}\n",
    "\n",
    "for i in student_info:\n",
    "    print(i)\n",
    "\n",
    "\n"
   ]
  },
  {
   "cell_type": "code",
   "execution_count": 57,
   "id": "c154fd26",
   "metadata": {},
   "outputs": [
    {
     "name": "stdout",
     "output_type": "stream",
     "text": [
      "name Kz\n",
      "age 24\n",
      "course ['Python', 'AI', 'Ml', 'Dl']\n",
      "Marks (97, 95, 99, 98)\n"
     ]
    }
   ],
   "source": [
    "# another way\n",
    "for key,val in student_info.items():\n",
    "    print(key, val)\n"
   ]
  },
  {
   "cell_type": "code",
   "execution_count": 58,
   "id": "e1481214",
   "metadata": {},
   "outputs": [
    {
     "name": "stdout",
     "output_type": "stream",
     "text": [
      "Kz\n",
      "24\n",
      "['Python', 'AI', 'Ml', 'Dl']\n",
      "(97, 95, 99, 98)\n"
     ]
    }
   ],
   "source": [
    "# only iteration dictionary values\n",
    "\n",
    "for val in student_info.values():\n",
    "    print(val)"
   ]
  },
  {
   "cell_type": "markdown",
   "id": "988562ba",
   "metadata": {},
   "source": [
    "### 6. Dictionaries Comprehension."
   ]
  },
  {
   "cell_type": "markdown",
   "id": "54549282",
   "metadata": {},
   "source": [
    "#### Syntax of dictionary comprehension\n",
    "\n",
    "- {expression iterable condition}\n",
    "\n",
    "- expression: key:val\n",
    "\n",
    "- iterable : range(), list, tuple, dic\n",
    "\n",
    "- condition: conditional statement (if, else)"
   ]
  },
  {
   "cell_type": "code",
   "execution_count": 59,
   "metadata": {},
   "outputs": [
    {
     "name": "stdout",
     "output_type": "stream",
     "text": [
      "{2: 4, 4: 16, 6: 36, 8: 64, 10: 100}\n"
     ]
    }
   ],
   "source": [
    "# Example : Dictionaries Comprehension\n",
    "\n",
    "# range()\n",
    "\n",
    "square_num = {x:x**2 for x in range(1,11) if x % 2== 0}\n",
    "\n",
    "print(square_num)"
   ]
  },
  {
   "cell_type": "markdown",
   "id": "8f9648a4",
   "metadata": {},
   "source": [
    "#### zip(iterables)\n",
    "\n",
    "- combine or pair elements from multiple sequences (like lists, tuples, etc).\n",
    "\n",
    "- syntax:\n",
    "    - zip(iterable1, iterable2,...)\n"
   ]
  },
  {
   "cell_type": "code",
   "execution_count": 62,
   "id": "0573a8dd",
   "metadata": {},
   "outputs": [
    {
     "name": "stdout",
     "output_type": "stream",
     "text": [
      "[(10, 20.25), (20, 5, 25), (101, 102)]\n",
      "['Dhaka', 'Chattogram', 'Sylhet']\n",
      "{(10, 20.25): 'Dhaka', (20, 5, 25): 'Chattogram', (101, 102): 'Sylhet'}\n"
     ]
    }
   ],
   "source": [
    "# Example: zip()\n",
    "\n",
    "co_ordinates = [(10,20.25),(20,5,25),(101,102)]\n",
    "\n",
    "location = [\"Dhaka\", \"Chattogram\", \"Sylhet\"]\n",
    "\n",
    "exact_loc = {cor_or:loc for cor_or,loc in zip(co_ordinates,location)}\n",
    "\n",
    "print(co_ordinates)\n",
    "print(location)\n",
    "\n",
    "print(exact_loc)\n",
    "\n",
    "\n"
   ]
  }
 ],
 "metadata": {
  "kernelspec": {
   "display_name": "base",
   "language": "python",
   "name": "python3"
  },
  "language_info": {
   "codemirror_mode": {
    "name": "ipython",
    "version": 3
   },
   "file_extension": ".py",
   "mimetype": "text/x-python",
   "name": "python",
   "nbconvert_exporter": "python",
   "pygments_lexer": "ipython3",
   "version": "3.13.5"
  }
 },
 "nbformat": 4,
 "nbformat_minor": 5
}
