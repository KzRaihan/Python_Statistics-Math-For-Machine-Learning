{
 "cells": [
  {
   "cell_type": "markdown",
   "id": "da73da92",
   "metadata": {},
   "source": [
    "### Problem_01: \n",
    "Practice 1 :\n",
    "\n",
    "Get the text from sample.txt , and count the following\n",
    "\n",
    "    - 1. Number of lines\n",
    "\n",
    "    - 2. Number of words\n",
    "\n",
    "    - 3. Number of characters (without new line and whitespaces)\n",
    "\n",
    "    - 4. and save it to the counter_of_string.txt file"
   ]
  },
  {
   "cell_type": "code",
   "execution_count": 54,
   "id": "fa614198",
   "metadata": {},
   "outputs": [
    {
     "name": "stdout",
     "output_type": "stream",
     "text": [
      "Total number of Lines: 3\n",
      "86\n"
     ]
    }
   ],
   "source": [
    "# first create sample.txt\n",
    "from functools import reduce\n",
    "\n",
    "with open(\"sample.txt\", \"r\") as file:\n",
    "    # cursor position\n",
    "    # print(file.tell())\n",
    "\n",
    "    content = file.readlines()   # readlines() -> return the list of string \n",
    "\n",
    "    no_of_lines = len(content)\n",
    "    print(f\"Total number of Lines: {no_of_lines}\")\n",
    "\n",
    "\n",
    "    # 2. Number of words\n",
    "    nums = list(map(lambda x: len(x.split()),content))\n",
    "\n",
    "    nums_words = reduce(lambda x,y: x+y,nums)\n",
    "    # print(nums_words)\n",
    "\n",
    "    # 3. Number of characters \n",
    "\n",
    "    # remove new line using str.strip()\n",
    "    cls_remove = list(map(str.strip,content))\n",
    "    # print(cls_remove)\n",
    "\n",
    "    # replace whitespace\n",
    "    cls_whitespace = list(map(lambda x: x.replace(\" \", \"\"),cls_remove))\n",
    "    # print(cls_whitespace)\n",
    "\n",
    "    # conver string list to number list\n",
    "    nums_cls_lst = map(lambda x:len(x),cls_whitespace)\n",
    "\n",
    "    no_of_char = reduce(lambda x,y: x+y,nums_cls_lst)\n",
    "    print(no_of_char)\n",
    "\n",
    "with open(\"counter_of_string.txt\",\"w\") as file:\n",
    "    file.write(f\"Total no of Lines: - {no_of_lines}\\nTotal no of Words: - {nums_words}\\nTotal no of char: - {no_of_char}\")\n",
    "\n",
    "    \n"
   ]
  },
  {
   "cell_type": "markdown",
   "id": "8b8a5ed0",
   "metadata": {},
   "source": [
    "### Problem_02: \n",
    "- Create a text file named emails.txt containing multiple email addresses, some in uppercase and some repeated.\n",
    "Write a Python program to clean the data by converting all emails to lowercase, removing duplicates, sorting them alphabetically, and saving the cleaned list to a new file named unique_emails.txt."
   ]
  },
  {
   "cell_type": "markdown",
   "id": "ed1d907b",
   "metadata": {},
   "source": [
    "#### Analyze and extract necessay infomation\n",
    "\n",
    "- Step_01: Create a file name email.txt\n",
    "\n",
    "- Step_02: File contain multiple email address\n",
    "    - uppercase and some email is repeated.\n",
    "\n",
    "- Step_02: Task\n",
    "    - convert all emails to lowercase letter\n",
    "    - removing duplicate email form the file\n",
    "    - sort to accending order\n",
    "    \n",
    "- Step_03: Save the cleaned list(data or email) inot unique_emails.txt file "
   ]
  },
  {
   "cell_type": "code",
   "execution_count": null,
   "id": "6ab09ff7",
   "metadata": {},
   "outputs": [
    {
     "name": "stdout",
     "output_type": "stream",
     "text": [
      "12\n"
     ]
    }
   ],
   "source": [
    "# Step_01: Create file email.txt\n",
    "with open(\"email.txt\", \"a+\") as file:\n",
    "    file.write(\"Kz@gamil.com\")\n",
    "    print(file.tell())"
   ]
  },
  {
   "cell_type": "code",
   "execution_count": 58,
   "id": "4e98009c",
   "metadata": {},
   "outputs": [],
   "source": [
    "# Step_03: Task\n",
    "with open(\"email.txt\",\"r+\") as file:\n",
    "\n",
    "    all_email = file.read()\n",
    "\n",
    "    # convert all emails to lowercase letter\n",
    "\n",
    "    all_email = all_email.lower()   \n",
    "    # print(all_email, end= \" \")\n",
    "\n",
    "    # removing duplicate email form the file\n",
    "    lst_str = all_email.split()\n",
    "\n",
    "    # create a set \n",
    "    st = set()\n",
    "\n",
    "    for i in lst_str:\n",
    "        st.add(i)\n",
    "\n",
    "    # again convert set to list\n",
    "\n",
    "    lst = [x for x in st]\n",
    "    \n",
    "    # sort into ascending order\n",
    "    lst.sort()\n",
    "    \n",
    "\n",
    "\n",
    "# Step_03: Save the cleaned list(data or email) inot unique_emails.txt file \n",
    "\n",
    "with open(\"unique_emails1.txt\", \"w\") as file:\n",
    "    file.write(f\"Unique Email\\n{lst}\")\n",
    "\n",
    "\n"
   ]
  },
  {
   "cell_type": "markdown",
   "id": "0fdf179d",
   "metadata": {},
   "source": [
    "#### Another way to solve problem_02"
   ]
  },
  {
   "cell_type": "code",
   "execution_count": 47,
   "id": "fa8834d7",
   "metadata": {},
   "outputs": [
    {
     "name": "stdout",
     "output_type": "stream",
     "text": [
      "['kz@gamil.com', 'raihan.kz@gmail.com', 'md.raihan25@yahoo.com', 'raihan.tech.bd@proton.me', 'info_team@outlook.com', 'support.center@company.com', 'raihan.kz@gmail.com', 'admin@gmail.com', 'project.manager.bd@outlook.com', 'raihan.tech.bd@proton.me', 'md.raihan25@yahoo.com', 'info_team@outlook.com', 'helpdesk@company.com', 'raihan.kz@gmail.com', 'user_support@gmail.com', 'project.manager.bd@outlook.com'] \n",
      "Unique Email: ['admin@gmail.com', 'helpdesk@company.com', 'info_team@outlook.com', 'kz@gamil.com', 'md.raihan25@yahoo.com', 'project.manager.bd@outlook.com', 'raihan.kz@gmail.com', 'raihan.tech.bd@proton.me', 'support.center@company.com', 'user_support@gmail.com']\n"
     ]
    }
   ],
   "source": [
    "# Step_03: Task\n",
    "with open(\"email.txt\",\"r+\") as file:\n",
    "    all_email = file.read()\n",
    "    # print(all_email, type(all_email))\n",
    "\n",
    "    # way_01:\n",
    "    # convert all emails to lowercase letter\n",
    "    all_email = all_email.lower()\n",
    "    # print(all_email, end= \" \")\n",
    "\n",
    "    # removing duplicate email form the file\n",
    "    # print(all_email[0])\n",
    "\n",
    "    lst_str = []\n",
    "\n",
    "    lst_str = all_email.split()\n",
    "    # print(lst_str)\n",
    "\n",
    "    emp_str_lst = []\n",
    "\n",
    "    for i in lst_str:\n",
    "        # if lst_str[i] == lst_str[i+1]:\n",
    "        if i not in emp_str_lst:\n",
    "            emp_str_lst.append(i)\n",
    "            \n",
    "        else:\n",
    "            continue\n",
    "            \n",
    "\n",
    "    \n",
    "    # for i in emp_str_lst:\n",
    "    #     print(i, end = \" \")\n",
    "\n",
    "    # sort into accending order\n",
    "    emp_str_lst.sort()\n",
    "\n",
    "    print(lst_str, end= \" \")\n",
    "\n",
    "    print(f\"\\nUnique Email: {emp_str_lst}\")\n",
    "\n",
    "# Step_03: Save the cleaned list(data or email) inot unique_emails.txt file \n",
    "\n",
    "with open(\"unique_emails.txt\",\"w\") as file:\n",
    "    file.write(f\"All unique emails:\\n{emp_str_lst}\")\n",
    "\n"
   ]
  },
  {
   "cell_type": "markdown",
   "id": "450b4689",
   "metadata": {},
   "source": [
    "### Problem_03:\n",
    "- Create a text file named names.txt containing a list of names.\n",
    "Some names may have extra spaces, inconsistent capitalization (like “aLiCe” or “ bob ”), or appear more than once.\n",
    "Write a Python program to clean the data by:\n",
    "1.  Removing extra spaces.\n",
    "2.  Converting all names so that only the first letter is capitalized.\n",
    "3.  Removing duplicate names. \n",
    "4.  Sorting the names alphabetically.\n",
    "Finally, save the cleaned list into a new file named clean_names.txt.\n"
   ]
  },
  {
   "cell_type": "code",
   "execution_count": null,
   "id": "8ad72876",
   "metadata": {},
   "outputs": [
    {
     "name": "stdout",
     "output_type": "stream",
     "text": [
      "Kz\n"
     ]
    }
   ],
   "source": [
    "# Create name.txt file\n",
    "\n",
    "with open(\"name.txt\", \"w\") as file:\n",
    "    file.write(\"Kz\")"
   ]
  },
  {
   "cell_type": "code",
   "execution_count": null,
   "id": "0810669e",
   "metadata": {},
   "outputs": [
    {
     "name": "stdout",
     "output_type": "stream",
     "text": [
      "['\"Kz\",', '\"raHan\",', '\"soFIA\",', '\"JAMES\",', '\"emILY\",', '\"aLEx\",', '\"maria\",', '\"OlIvEr\",', '\"LUCAS\",', '\"SARAh\",', '\"jEssica\",', '\"adAm\",', '\"noAh\",', '\"Ava\",', '\"mIchael\",', '\"lIly\",', '\"dAVId\",', '\"grace\",', '\"DANiel\",', '\"soPhiA\",', '\"ELIjah\",', '\"charlotte\",', '\"WiLLiam\",', '\"Amelia\",', '\"ethan\",', '\"EMMA\",', '\"jAson\",', '\"olivia\",', '\"JACOB\",', '\"ChloE\",', '\"benJAMin\",', '\"zoe\",', '\"samuel\",', '\"mia\",', '\"logAn\",', '\"IsABELLA\",', '\"nAthAn\",', '\"Layla\",', '\"Aiden\",', '\"ELla\",', '\"joShua\",', '\"haRper\",', '\"alexAnder\",', '\"SCARlett\",', '\"liAm\",', '\"hannah\",', '\"MATThew\",', '\"sofiA\",', '\"CHRISTOPHER\",', '\"avery\",', '\"DaNiel\",', '\"abigAil\"']\n"
     ]
    }
   ],
   "source": [
    "\n",
    "with open(\"name.txt\", 'r') as file:\n",
    "    names = file.readlines()\n",
    "\n",
    "    # print(names, type(names))\n",
    "\n",
    "    # 1.  Removing extra spaces.\n",
    "\n",
    "    # remove new line\n",
    "    rv_new_line = list(map(lambda x:x.strip(),names))\n",
    "\n",
    "    # replace without whitespace\n",
    "    cls = list(map(lambda x: x.replace(\" \", \"\"),rv_new_line))\n",
    "    cls = list(map(lambda x: x.replace('''\" \"''', ''''''),cls))\n",
    "    print(cls)\n",
    "\n",
    "    # 2.  Converting all names so that only the first letter is capitalized.\n",
    "\n",
    "    # cap_l = list(map(lambda x : x.capitalize(), cls))\n",
    "\n",
    "\n",
    "    # print(cap_l)\n",
    "\n",
    "  \n",
    "    \n",
    "\n"
   ]
  },
  {
   "cell_type": "code",
   "execution_count": null,
   "id": "653c8b50",
   "metadata": {},
   "outputs": [],
   "source": []
  }
 ],
 "metadata": {
  "kernelspec": {
   "display_name": "base",
   "language": "python",
   "name": "python3"
  },
  "language_info": {
   "codemirror_mode": {
    "name": "ipython",
    "version": 3
   },
   "file_extension": ".py",
   "mimetype": "text/x-python",
   "name": "python",
   "nbconvert_exporter": "python",
   "pygments_lexer": "ipython3",
   "version": "3.13.5"
  }
 },
 "nbformat": 4,
 "nbformat_minor": 5
}
