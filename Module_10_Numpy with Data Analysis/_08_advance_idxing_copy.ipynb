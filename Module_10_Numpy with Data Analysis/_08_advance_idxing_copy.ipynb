{
 "cells": [
  {
   "cell_type": "markdown",
   "id": "fbf92135",
   "metadata": {},
   "source": [
    "## Topic: ndarray copy and Advance Indexing\n"
   ]
  },
  {
   "cell_type": "markdown",
   "id": "c611e1ee",
   "metadata": {},
   "source": [
    "### OUTCOMES\n",
    "\n",
    "- 1. Fancy Indexing\n",
    "\n",
    "- 2. Boolean Indexing\n",
    "\n",
    "- 3. np.where()\n",
    "\n",
    "- 4. np.any()\n",
    "\n",
    "- 5. np.all()\n",
    "\n",
    "\n"
   ]
  },
  {
   "cell_type": "markdown",
   "id": "74d482e2",
   "metadata": {},
   "source": [
    "### 1. Fancy Indexing\n"
   ]
  },
  {
   "cell_type": "markdown",
   "id": "8195f44e",
   "metadata": {},
   "source": [
    "- To access and modify the specific elements in a array in non-sequence way.\n",
    "\n",
    "- syntax for 1-d:\n",
    "    - arr_name[[indices]]"
   ]
  },
  {
   "cell_type": "code",
   "execution_count": 2,
   "id": "a8dfcc0d",
   "metadata": {},
   "outputs": [],
   "source": [
    "import numpy as np"
   ]
  },
  {
   "cell_type": "code",
   "execution_count": null,
   "id": "83a1a246",
   "metadata": {},
   "outputs": [
    {
     "name": "stdout",
     "output_type": "stream",
     "text": [
      "Original Array:  [10 11 12 13 14 15 16 17 18 19]\n",
      "\n",
      "Access specific element:  [15 13 12]\n",
      "\n",
      "Access specific element:  [16 12 17]\n"
     ]
    }
   ],
   "source": [
    "# Fancy indexing for 1-d array\n",
    "\n",
    "arr1 = np.arange(10,20)\n",
    "print(\"Original Array: \",arr1)\n",
    "\n",
    "# to access specific element\n",
    "print(\"\\nAccess specific idxs element: \", arr1[[5,3,2]])  # 1,2,3-> idx\n",
    "\n",
    "\n",
    "idxs = [6,2,7]\n",
    "\n",
    "print(\"\\nAccess specific idxs element: \", arr1[idxs])"
   ]
  },
  {
   "cell_type": "code",
   "execution_count": 19,
   "id": "a09a383b",
   "metadata": {},
   "outputs": [
    {
     "name": "stdout",
     "output_type": "stream",
     "text": [
      "Original Array: \n",
      " [[ 1  2  3  4  5]\n",
      " [ 6  7  8  9 10]\n",
      " [11 12 13 14 15]\n",
      " [16 17 18 19 20]]\n",
      "\n",
      "Select specific rows and columns: \n",
      "[20  3]\n"
     ]
    }
   ],
   "source": [
    "# fancy index for 2-d:\n",
    "# syntax: arr_name[[row_idxs][col_idxs]]\n",
    "\n",
    "arr2 = np.arange(1,21).reshape(4,5)\n",
    "print(\"Original Array: \\n\",arr2)\n",
    "\n",
    "# only specific rows and columns\n",
    "\n",
    "rows = [3,0]\n",
    "cols = [4,2]\n",
    "\n",
    "print(\"\\nSelect specific rows and columns: \")\n",
    "\n",
    "print(arr2[rows,cols])\n",
    "\n"
   ]
  },
  {
   "cell_type": "code",
   "execution_count": null,
   "id": "5020ed08",
   "metadata": {},
   "outputs": [],
   "source": [
    "# Explain\n",
    "'''\n",
    "Original Array: \n",
    "\n",
    "     columns\n",
    "   0  1  2  3  4  \n",
    "   .  .  .  .  . \n",
    "   v  v  v  v  v\n",
    " [ 1  2  3  4  5]  <-- 0  \n",
    " [ 6  7  8  9 10]  <-- 1   rows\n",
    " [11 12 13 14 15]  <-- 2\n",
    " [16 17 18 19 20]  <-- 3\n",
    "\n",
    "print(arr2[rows,cols])\n",
    "rows = [3,0]\n",
    "cols = [4,2]\n",
    "\n",
    "Step_01 : for row\n",
    "    rows = [3,0] =>   [16 17 18 19 20]  <-- 3\n",
    "                      [ 1  2  3  4  5]  <-- 0  \n",
    "\n",
    "Step_02 : for column\n",
    "    cols = [4,2] =>         2      4  \n",
    "                            .      . \n",
    "                            v      v\n",
    "                        [   3      5 ]  <-- 0  \n",
    "                        [   8     10 ]  \n",
    "                        [   13    15 ]\n",
    "                        [   18    20 ]  <-- 3\n",
    "Step_03 : for column\n",
    "                  next:\n",
    "                           (2nd)  (1st)\n",
    "                            2      4\n",
    "                            v      v\n",
    "                        [   3      5 ]  <-- 0 (2nd)\n",
    "                        [   18    20 ]  <-- 3 (1st)\n",
    "\n",
    "     here,\n",
    "     -  3,4 = 20\n",
    "     -  0,2 = 3\n",
    "\n",
    "\n",
    "output: [20, 3]\n",
    "          \n",
    "'''"
   ]
  },
  {
   "cell_type": "code",
   "execution_count": null,
   "id": "1fe39d54",
   "metadata": {},
   "outputs": [
    {
     "name": "stdout",
     "output_type": "stream",
     "text": [
      "Original Array: \n",
      " [[ 1  2  3  4  5]\n",
      " [ 6  7  8  9 10]\n",
      " [11 12 13 14 15]\n",
      " [16 17 18 19 20]]\n",
      "\n",
      " only rows: \n",
      "[[16 17 18 19 20]\n",
      " [ 1  2  3  4  5]\n",
      " [11 12 13 14 15]]\n"
     ]
    }
   ],
   "source": [
    "# only row access\n",
    "\n",
    "print(\"Original Array: \\n\",arr2)\n",
    "\n",
    "row = [3,0,2] \n",
    "\n",
    "print(\"\\n only rows: \")\n",
    "print(arr2[row])"
   ]
  },
  {
   "cell_type": "code",
   "execution_count": 27,
   "id": "019cf178",
   "metadata": {},
   "outputs": [
    {
     "name": "stdout",
     "output_type": "stream",
     "text": [
      "Original Array: \n",
      " [[ 1  2  3  4  5]\n",
      " [ 6  7  8  9 10]\n",
      " [11 12 13 14 15]\n",
      " [16 17 18 19 20]]\n",
      "\n",
      " only col: \n",
      "[[ 4  1  3]\n",
      " [ 9  6  8]\n",
      " [14 11 13]\n",
      " [19 16 18]]\n"
     ]
    }
   ],
   "source": [
    "# only column access\n",
    "\n",
    "print(\"Original Array: \\n\",arr2)\n",
    "\n",
    "cols = [3,0,2] \n",
    "\n",
    "print(\"\\n only col: \")\n",
    "print(arr2[:, cols])"
   ]
  },
  {
   "cell_type": "code",
   "execution_count": null,
   "id": "ba868702",
   "metadata": {},
   "outputs": [
    {
     "name": "stdout",
     "output_type": "stream",
     "text": [
      "Original array: \n",
      " [[20 21 22 23 24]\n",
      " [25 26 27 28 29]\n",
      " [30 31 32 33 34]\n",
      " [35 36 37 38 39]]\n",
      "Hightlight: \n",
      " [[  20   21   22   23   24]\n",
      " [  25   26 1000   28   29]\n",
      " [  30 1000   32   33   34]\n",
      " [  35   36   37 1000   39]]\n"
     ]
    }
   ],
   "source": [
    "# modify specific element\n",
    "# syntax: arr[[rows_idxs], [colns_idx]]\n",
    "\n",
    "arr2 = np.arange(20, 40).reshape(4,5)\n",
    "\n",
    "print(\"Original array: \\n\", arr2)\n",
    "\n",
    "# To hightlight spefice element in ndarray\n",
    "\n",
    "rows = [2,3,1]\n",
    "cols = [1,3,2]\n",
    "\n",
    "arr2[rows,cols] = 1000\n",
    "\n",
    "print(\"Hightlight: \\n\", arr2)\n"
   ]
  },
  {
   "cell_type": "code",
   "execution_count": 75,
   "id": "07d295d7",
   "metadata": {},
   "outputs": [
    {
     "name": "stdout",
     "output_type": "stream",
     "text": [
      "[ 3 10  6 20  8  5 30  4]\n"
     ]
    }
   ],
   "source": [
    "# Example : 1-d array modify using fancy idx\n",
    "\n",
    "array1 = np.array([3, 2, 6, 1, 8, 5, 7, 4])\n",
    "\n",
    "\n",
    "indices = [1, 3, 6]\n",
    "\n",
    "new_values = [10, 20, 30]\n",
    "\n",
    "\n",
    "array1[indices] = new_values\n",
    "\n",
    "print(array1)\n",
    "\n",
    "# Output: [ 3 10  6 20  8  5 30  4]"
   ]
  },
  {
   "cell_type": "code",
   "execution_count": 63,
   "id": "096fc53c",
   "metadata": {},
   "outputs": [
    {
     "name": "stdout",
     "output_type": "stream",
     "text": [
      "Original array: \n",
      " [[ 1  2  3  4]\n",
      " [ 5  6  7  8]\n",
      " [ 9 10 11 12]]\n",
      "Modify rows: \n",
      " [[  1   2   3   4]\n",
      " [500 500 500 500]\n",
      " [500 500 500 500]]\n"
     ]
    }
   ],
   "source": [
    "# specific rows modify\n",
    "\n",
    "arr2 = np.arange(1,13).reshape(3,4)\n",
    "\n",
    "print(\"Original array: \\n\", arr2)\n",
    "\n",
    "# modify row\n",
    "\n",
    "rows = [1,2]\n",
    "\n",
    "arr2[rows,:] = 500\n",
    "\n",
    "print(\"Modify rows: \\n\", arr2)\n",
    "\n",
    "\n"
   ]
  },
  {
   "cell_type": "code",
   "execution_count": null,
   "id": "aaeca544",
   "metadata": {},
   "outputs": [
    {
     "name": "stdout",
     "output_type": "stream",
     "text": [
      "Original array: \n",
      " [[50 51 52 53 54 55 56 57 58 59]\n",
      " [60 61 62 63 64 65 66 67 68 69]\n",
      " [70 71 72 73 74 75 76 77 78 79]\n",
      " [80 81 82 83 84 85 86 87 88 89]\n",
      " [90 91 92 93 94 95 96 97 98 99]]\n",
      "After modify the column: \n",
      " [[  50   51 1000   53   54 1000   56   57 1000   59]\n",
      " [  60   61 1000   63   64 1000   66   67 1000   69]\n",
      " [  70   71 1000   73   74 1000   76   77 1000   79]\n",
      " [  80   81 1000   83   84 1000   86   87 1000   89]\n",
      " [  90   91 1000   93   94 1000   96   97 1000   99]]\n"
     ]
    }
   ],
   "source": [
    "# specific column modify\n",
    "\n",
    "arr2 = np.arange(50,100).reshape(5,10)\n",
    "\n",
    "print(\"Original array: \\n\", arr2)\n",
    "\n",
    "# specific column update\n",
    "\n",
    "cols = [2,5,8]\n",
    "\n",
    "arr2[:,cols] = 1000\n",
    "\n",
    "print(\"After modify the column: \\n\", arr2)"
   ]
  },
  {
   "cell_type": "markdown",
   "id": "5dd56a20",
   "metadata": {},
   "source": [
    "### 2. Boolean Indexing"
   ]
  },
  {
   "cell_type": "markdown",
   "id": "cef3a26f",
   "metadata": {},
   "source": [
    "- To filter and modity elements of an array based on condition\n",
    "\n",
    "- return a new array\n",
    "\n",
    "- syntax:\n",
    "    - filter_array = array(codition)"
   ]
  },
  {
   "cell_type": "code",
   "execution_count": null,
   "id": "e204f128",
   "metadata": {},
   "outputs": [
    {
     "name": "stdout",
     "output_type": "stream",
     "text": [
      "[ 5 10 15 20 25]\n",
      "[ 5 10 20 25]\n"
     ]
    }
   ],
   "source": [
    "# 1-d array: Boolean Indexing\n",
    "\n",
    "arr1 = np.arange(5,30,5)\n",
    "\n",
    "print(arr1)\n",
    "\n",
    "# filter array elements which are greater than 15\n",
    "\n",
    "result = arr1[arr1 > 15]\n",
    "\n",
    "# print(result)\n",
    "\n",
    "res1 = arr1[(arr1 >= 10) & (arr1 < 20)]\n",
    "\n",
    "# print(res1)\n",
    "\n",
    "\n",
    "print(arr1[arr1 != 15])\n"
   ]
  },
  {
   "cell_type": "code",
   "execution_count": null,
   "id": "5ee08c42",
   "metadata": {},
   "outputs": [
    {
     "name": "stdout",
     "output_type": "stream",
     "text": [
      "OR array: \n",
      " [[ 0  1  2]\n",
      " [ 3  4  5]\n",
      " [ 6  7  8]\n",
      " [ 9 10 11]]\n",
      "Less than five: \n",
      " [0 1 2 3 4]\n",
      "Dimension:  1\n"
     ]
    }
   ],
   "source": [
    "# Boolean indexing in 2-d array\n",
    "\n",
    "arr2 = np.arange(12).reshape(4,3)\n",
    "\n",
    "print(\"OR array: \\n\", arr2)\n",
    "\n",
    "# to see the less than 5\n",
    "res = arr2[arr2 < 5]\n",
    "print(\"Less than five: \\n\",res)\n",
    "print(\"Dimension: \", res.ndim)"
   ]
  },
  {
   "cell_type": "code",
   "execution_count": 88,
   "id": "a9c314a4",
   "metadata": {},
   "outputs": [
    {
     "name": "stdout",
     "output_type": "stream",
     "text": [
      "[[100   1   2]\n",
      " [  3   4   5]\n",
      " [  6   7   8]\n",
      " [  9  10  11]]\n"
     ]
    }
   ],
   "source": [
    "# modifying array element using boolean idx\n",
    "\n",
    "# modify 0 to 100 \n",
    "\n",
    "arr2[arr2 == 0] = 100\n",
    "print(arr2)\n",
    "\n",
    "\n"
   ]
  },
  {
   "cell_type": "markdown",
   "id": "e884e6a6",
   "metadata": {},
   "source": [
    "\n",
    "### 3. np.where()"
   ]
  },
  {
   "cell_type": "markdown",
   "id": "66398672",
   "metadata": {},
   "source": [
    "- np.where can be used for conditional modifications, similar to if-else.\n",
    "\n",
    "- syntax:\n",
    "    np.where(condition, True_Result, False_Result)"
   ]
  },
  {
   "cell_type": "code",
   "execution_count": null,
   "id": "273aa287",
   "metadata": {},
   "outputs": [
    {
     "name": "stdout",
     "output_type": "stream",
     "text": [
      "[ 0  0  0  0 -1 -1 -1 -1 -1]\n",
      "[0 0 0 0 5 6 7 8 9]\n"
     ]
    }
   ],
   "source": [
    "# Example:\n",
    "\n",
    "arr = np.array([1,2,3,4,5,6,7,8,9])\n",
    "\n",
    "new_arr = np.where(arr < 5 , 0, -1)  \n",
    "\n",
    "print(new_arr)\n",
    "\n",
    "new_arr = np.where(arr < 5 , 0, arr)\n",
    "print(new_arr)\n",
    "\n",
    "\n"
   ]
  },
  {
   "cell_type": "markdown",
   "id": "a6c6df4f",
   "metadata": {},
   "source": [
    "### 4. np.any()"
   ]
  },
  {
   "cell_type": "markdown",
   "id": "f5fe77f9",
   "metadata": {},
   "source": [
    "- np.any: Checks if any element along an axis satisfies a condition.\n",
    "\n",
    "- syntax:\n",
    "    - "
   ]
  },
  {
   "cell_type": "code",
   "execution_count": null,
   "id": "e7900e83",
   "metadata": {},
   "outputs": [],
   "source": []
  },
  {
   "cell_type": "markdown",
   "id": "43d2c39c",
   "metadata": {},
   "source": [
    "### 5. np.all()\n"
   ]
  },
  {
   "cell_type": "markdown",
   "id": "bba6ebce",
   "metadata": {},
   "source": [
    "\n",
    "- np.all: Checks if all elements along an axis satisfy a condition."
   ]
  },
  {
   "cell_type": "code",
   "execution_count": null,
   "id": "82ebcd18",
   "metadata": {},
   "outputs": [],
   "source": []
  },
  {
   "cell_type": "markdown",
   "id": "bf503318",
   "metadata": {},
   "source": [
    "### 6. iteration over ndarray\n"
   ]
  },
  {
   "cell_type": "code",
   "execution_count": 2,
   "id": "b4fd5ce7",
   "metadata": {},
   "outputs": [],
   "source": [
    "import numpy as np"
   ]
  },
  {
   "cell_type": "code",
   "execution_count": 8,
   "id": "ddd3c139",
   "metadata": {},
   "outputs": [
    {
     "name": "stdout",
     "output_type": "stream",
     "text": [
      "[10 20 30]\n",
      "[ 5 40 50]\n",
      "10\n",
      "20\n",
      "30\n",
      "5\n",
      "40\n",
      "50\n",
      "\n",
      "Access each item using nditer\n",
      "10\n",
      "20\n",
      "30\n",
      "5\n",
      "40\n",
      "50\n"
     ]
    }
   ],
   "source": [
    "arr = np.array([\n",
    "    [10, 20, 30],\n",
    "    [5, 40, 50 ] \n",
    "     ])\n",
    "\n",
    "# basic way\n",
    "\n",
    "for i in arr:  # print rows way\n",
    "    print(i)\n",
    "\n",
    "\n",
    "# for each items\n",
    "for i in arr:\n",
    "    for j in i:\n",
    "        print(j)\n",
    "\n",
    "\n",
    "# np.nditer(arr) method\n",
    "print(\"\\nAccess each item using nditer\")\n",
    "for i in np.nditer(arr):\n",
    "    print(i)\n"
   ]
  },
  {
   "cell_type": "code",
   "execution_count": null,
   "id": "44353ba8",
   "metadata": {},
   "outputs": [],
   "source": []
  },
  {
   "cell_type": "code",
   "execution_count": null,
   "id": "73089ce6",
   "metadata": {},
   "outputs": [],
   "source": []
  },
  {
   "cell_type": "code",
   "execution_count": 123,
   "id": "6dd0572a",
   "metadata": {},
   "outputs": [],
   "source": [
    "### Practices "
   ]
  },
  {
   "cell_type": "code",
   "execution_count": null,
   "id": "1b9cf702",
   "metadata": {},
   "outputs": [],
   "source": [
    "\"\"\" \n",
    "\n",
    "Practices for boolean indexing:\n",
    "--------------------------------\n",
    " Features : id  | age  | salary   | year of Experience| \n",
    "\n",
    "dataset = (\n",
    "    [101, 25, 60000, 4],\n",
    "    [102, 24, 65000, 7], \n",
    "    [103, 35, 80000, 10],\n",
    "    [104, 20, 20000, Nan],\n",
    "    [105, 45, 45000, 3],\n",
    "    [10, 55, 55000, 8],\n",
    "    [107, Nan,35000, 6],\n",
    "    [108, 25, 60000, Nan]\n",
    ")\n",
    "\n",
    "TasK_01 : Extract rows where Salary > 60000\n",
    "\n",
    "Task_02 : Removing Outliers (Remove values less than 100 in id column )\n",
    "\n",
    "Task_03: Highlight the Hight salary \n",
    "\n",
    "Task_04: Remove Missing Data (Replace Nan to 0)\n",
    "\"\"\""
   ]
  },
  {
   "cell_type": "code",
   "execution_count": 113,
   "id": "9dbef59a",
   "metadata": {},
   "outputs": [
    {
     "name": "stdout",
     "output_type": "stream",
     "text": [
      "shape:  (8, 4)\n"
     ]
    }
   ],
   "source": [
    "dataset = np.array([\n",
    "    [101, 25, 60000, 4],\n",
    "    [102, 24, 65000, 7], \n",
    "    [103, 35, 80000, 10],\n",
    "    [104, 20, 20000, np.nan],\n",
    "    [105, 45, 45000, 3],\n",
    "    [10, 55, 55000, 8],\n",
    "    [107, np.nan,35000, 6],\n",
    "    [108, 25, 60000, np.nan]]\n",
    ")\n",
    "\n",
    "# print(dataset)\n",
    "# print(\"Element tyPe: \", dataset.dtype)\n",
    "# print(dataset.ndim)\n",
    "print(\"shape: \", dataset.shape)\n",
    "\n"
   ]
  },
  {
   "cell_type": "code",
   "execution_count": null,
   "id": "3a97d952",
   "metadata": {},
   "outputs": [
    {
     "name": "stdout",
     "output_type": "stream",
     "text": [
      "Salary is greater then 60000:  [65000. 80000.]\n"
     ]
    }
   ],
   "source": [
    "# TasK_01 : Extract rows where Salary > 60000\n",
    "\n",
    "\n",
    "# cols = [2]\n",
    "# print(dataset[:, cols])\n",
    "\n",
    "greater_value = dataset[dataset > 60000]\n",
    "\n",
    "print(\"Salary is greater then 60000: \",greater_value)\n"
   ]
  },
  {
   "cell_type": "code",
   "execution_count": 122,
   "id": "321e504a",
   "metadata": {},
   "outputs": [
    {
     "name": "stdout",
     "output_type": "stream",
     "text": [
      "[[1.01e+02 2.50e+01 6.00e+04 4.00e+00]\n",
      " [1.02e+02 2.40e+01 6.50e+04 7.00e+00]\n",
      " [1.03e+02 3.50e+01 8.00e+04 1.00e+01]\n",
      " [1.04e+02 2.00e+01 2.00e+04      nan]\n",
      " [1.05e+02 4.50e+01 4.50e+04 3.00e+00]\n",
      " [1.00e+01 5.50e+01 5.50e+04 8.00e+00]\n",
      " [1.07e+02      nan 3.50e+04 6.00e+00]\n",
      " [1.08e+02 2.50e+01 6.00e+04      nan]]\n",
      "Shape:  (8, 4)\n"
     ]
    }
   ],
   "source": [
    "# Task_02 : Removing Outliers (Remove values less than 100 in id column )\n",
    "\n",
    "\n",
    "# access or see the id column\n",
    "# print(dataset[:,0])\n",
    "\n",
    "# remove\n",
    "clear = dataset[dataset[:,0] > 100]\n",
    "\n",
    "# print(clear)\n",
    "print(dataset)\n",
    "\n",
    "\n",
    "print(\"Shape: \", dataset.shape)"
   ]
  },
  {
   "cell_type": "markdown",
   "id": "83cae45b",
   "metadata": {},
   "source": []
  },
  {
   "cell_type": "markdown",
   "id": "4dd80a15",
   "metadata": {},
   "source": [
    "# Dataset: Rows represent [Age, Salary, Bonus]\n",
    "data = np.array([\n",
    "    [25, 50000, 5000],  \n",
    "    [30, 60000, 6000],   \n",
    "    [35, 70000, 7000]])   \n",
    "\n",
    "# task_1: Update Salary for the first two employees\n",
    "# task_2: Replace all salaries below 60000 with the minimum threshold of 60000.\n",
    "# taks_03: highlight Employee who Salary below 60000 .  "
   ]
  },
  {
   "cell_type": "code",
   "execution_count": null,
   "id": "08ec88f8",
   "metadata": {},
   "outputs": [],
   "source": [
    "# slove Task_01: Update Salary for the first two employees\n",
    "\n",
    "# Dataset: Rows represent [Age, Salary, Bonus]\n",
    "data = np.array([\n",
    "    [25, 50000, 5000],  \n",
    "    [30, 60000, 6000],   \n",
    "    [35, 70000, 7000]])   \n",
    "\n",
    "print(f\"Original Data : \\n{data}\")\n",
    "print(f\"Original Salary : \\n{data[:,1]}\")\n",
    "\n",
    "\n",
    "# update slaray first two\n",
    "salary_row = [0,1]\n",
    "salary_col = [1,1]\n",
    "\n",
    "data[salary_row, salary_col] = [55000,65000]\n",
    "\n",
    "print(\"\\nAfter update: \\n\", data)\n"
   ]
  },
  {
   "cell_type": "code",
   "execution_count": null,
   "id": "80a6fed0",
   "metadata": {},
   "outputs": [],
   "source": [
    "# Task_2: Replace all salaries below 60000 with the minimum threshold of 60000.\n",
    "data = np.array([\n",
    "    [25, 50000, 5000],  \n",
    "    [30, 60000, 6000],   \n",
    "    [35, 70000, 7000]])   \n",
    "\n",
    "print(data)\n",
    "\n",
    "print(\"salary column: \", data[:,1])\n",
    "\n",
    "print(\"salary column: \\n\", data[data[:,1]>60000])\n",
    "\n",
    "\n"
   ]
  }
 ],
 "metadata": {
  "kernelspec": {
   "display_name": "base",
   "language": "python",
   "name": "python3"
  },
  "language_info": {
   "codemirror_mode": {
    "name": "ipython",
    "version": 3
   },
   "file_extension": ".py",
   "mimetype": "text/x-python",
   "name": "python",
   "nbconvert_exporter": "python",
   "pygments_lexer": "ipython3",
   "version": "3.13.5"
  }
 },
 "nbformat": 4,
 "nbformat_minor": 5
}
