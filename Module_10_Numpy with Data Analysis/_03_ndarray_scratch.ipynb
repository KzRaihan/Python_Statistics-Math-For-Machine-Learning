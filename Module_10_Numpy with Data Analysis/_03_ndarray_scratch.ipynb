{
 "cells": [
  {
   "cell_type": "markdown",
   "id": "1fde7794",
   "metadata": {},
   "source": [
    "## Topic: ndarray Creation from Scratch"
   ]
  },
  {
   "cell_type": "markdown",
   "id": "642f6b1f",
   "metadata": {},
   "source": [
    "### OUTCOMES\n",
    "\n",
    "- 1. np.zeros(shape) and np.zeros_like(existing_array)\n",
    "\n",
    "- 2. np.ones(shpae) and np.ones_like(existing_array)\n",
    "\n",
    "- 3. np.empty(shpae) and np.empty_like(existing_array)\n",
    "\n",
    "- 4. np.full(shape) and no.full_like(existing_array)\n"
   ]
  },
  {
   "cell_type": "markdown",
   "id": "e0dc3cee",
   "metadata": {},
   "source": [
    "### 1. np.zeros(shape) and np.zeros_like(existing_array)"
   ]
  },
  {
   "cell_type": "markdown",
   "id": "1455190a",
   "metadata": {},
   "source": [
    "- np.zeros(shape):\n",
    "\n",
    "    - Create ndarray with initialization zero.\n",
    "\n",
    "    - shape = shape of the array (2,3), (2,3,4), (1).\n",
    "\n",
    "- np.zeros_like()\n",
    "    - function returns a new array of zeros having the same shape, data type, and memory layout as a given input array.\n"
   ]
  },
  {
   "cell_type": "code",
   "execution_count": 2,
   "id": "3a7ae5e8",
   "metadata": {},
   "outputs": [],
   "source": [
    "import numpy as np"
   ]
  },
  {
   "cell_type": "code",
   "execution_count": null,
   "id": "8b54a025",
   "metadata": {},
   "outputs": [
    {
     "name": "stdout",
     "output_type": "stream",
     "text": [
      "[[0. 0. 0.]\n",
      " [0. 0. 0.]\n",
      " [0. 0. 0.]\n",
      " [0. 0. 0.]]\n",
      "Element type:  float64\n",
      "Element type:  int8\n",
      "Dimension:  2\n",
      "Shape:  (4, 3)\n",
      "Total Memory occupied:  12\n"
     ]
    }
   ],
   "source": [
    "# Example: np.zeros(shape)\n",
    "\n",
    "# 2-d array:\n",
    "\n",
    "arr = np.zeros((4,3))\n",
    "\n",
    "print(arr)\n",
    "\n",
    "print(\"Element type: \", arr.dtype)   # float64\n",
    "\n",
    "# convert float64 to int8\n",
    "\n",
    "arr = arr.astype(np.int8)\n",
    "print(\"Element type: \", arr.dtype) # int8\n",
    "\n",
    "print(\"Dimension: \", arr.ndim) \n",
    "print(\"Shape: \", arr.shape)\n",
    "\n",
    "print(\"Total Memory occupied: \", arr.nbytes)"
   ]
  },
  {
   "cell_type": "code",
   "execution_count": null,
   "id": "20851765",
   "metadata": {},
   "outputs": [
    {
     "name": "stdout",
     "output_type": "stream",
     "text": [
      "Elements type:  int64\n",
      "Shape:  (3, 3)\n",
      "[[0 0 0]\n",
      " [0 0 0]\n",
      " [0 0 0]]\n",
      "Elements type:  int64\n",
      "Shape:  (3, 3)\n"
     ]
    }
   ],
   "source": [
    "# Example: np.zeors_like(existing_array)\n",
    "# return existing_array shape, data type but all values are zero.\n",
    "\n",
    "arr2 = np.array([\n",
    "    [10, 20, 30],\n",
    "    [40, 50, 60],\n",
    "    [70, 80, 90]]\n",
    ")\n",
    "\n",
    "\n",
    "print(\"Elements type: \", arr2.dtype)\n",
    "print(\"Shape: \", arr2.shape)\n",
    "\n",
    "# convert arr2 all values into zero\n",
    "\n",
    "zero_arr2 = np.zeros_like(arr2)\n",
    "\n",
    "print(zero_arr2)\n",
    "\n",
    "print(\"Elements type: \", zero_arr2.dtype)\n",
    "print(\"Shape: \", zero_arr2.shape)\n",
    "\n",
    "\n",
    "\n",
    "### NOTE: \n",
    "#    np.zeros_like : return same shape and dtype "
   ]
  },
  {
   "cell_type": "markdown",
   "id": "fd1560c8",
   "metadata": {},
   "source": [
    "### 2. np.ones(shpae) and np.ones_like(existing_array)"
   ]
  },
  {
   "cell_type": "markdown",
   "id": "486fe39b",
   "metadata": {},
   "source": [
    "- np.ones(shape):\n",
    "    - Create array with initialization one"
   ]
  },
  {
   "cell_type": "code",
   "execution_count": null,
   "id": "892e1859",
   "metadata": {},
   "outputs": [
    {
     "name": "stdout",
     "output_type": "stream",
     "text": [
      "[1.]\n",
      "Dimension:  1\n",
      "Element type:  float64\n",
      "Element type: int32\n"
     ]
    }
   ],
   "source": [
    "# Example: np.ones(shape)\n",
    "\n",
    "# 1-d :\n",
    "arr1 = np.ones(1)\n",
    "print(arr1)\n",
    "\n",
    "print(\"Dimension: \", arr1.ndim)\n",
    "print(\"Element type: \", arr1.dtype)\n",
    "\n",
    "# convert float64 to int32\n",
    "\n",
    "arr1 = arr1.astype(np.int32)\n",
    "print(\"Element type:\", arr1.dtype)\n"
   ]
  },
  {
   "cell_type": "code",
   "execution_count": null,
   "id": "f091e18d",
   "metadata": {},
   "outputs": [
    {
     "name": "stdout",
     "output_type": "stream",
     "text": [
      "Arr2: [[10 20 30 40]\n",
      " [50 60 70 80]]\n",
      "Element type:  int64\n",
      "Shape:  (2, 4)\n",
      "[[1 1 1 1]\n",
      " [1 1 1 1]]\n",
      "Shape:  (2, 4)\n",
      "Element type:  int32\n"
     ]
    }
   ],
   "source": [
    "# np.ones_like(existing_array)\n",
    "# return same shape and dtype of existing array but all elements initialize one.\n",
    "\n",
    "arr2 = np.array([\n",
    "    [10, 20, 30, 40],\n",
    "    [50, 60, 70, 80]\n",
    "]\n",
    "\n",
    ")\n",
    "print(\"Arr2:\", arr2)\n",
    "print(\"Element type: \", arr2.dtype)\n",
    "print(\"Shape: \", arr2.shape)\n",
    "\n",
    "# now replace all elements to one but same shape, dtype int32\n",
    "\n",
    "arr2 = np.ones_like(arr2, dtype = np.int32)\n",
    "print(arr2)\n",
    "print(\"Shape: \", arr2.shape)\n",
    "print(\"Element type: \", arr2.dtype)\n"
   ]
  },
  {
   "cell_type": "markdown",
   "id": "41bb9617",
   "metadata": {},
   "source": [
    "### 3. np.empty(shpae) and np.empty_like(existing_array)"
   ]
  },
  {
   "cell_type": "markdown",
   "id": "825ac259",
   "metadata": {},
   "source": [
    "- Create an ndarray with initialization empty(near to zero)"
   ]
  },
  {
   "cell_type": "code",
   "execution_count": 32,
   "id": "f15a0bcb",
   "metadata": {},
   "outputs": [
    {
     "name": "stdout",
     "output_type": "stream",
     "text": [
      "[[[1.37962049e-306 1.24610791e-306 1.11260959e-306]\n",
      "  [1.69109959e-306 9.34603679e-307 1.42419802e-306]\n",
      "  [1.78019082e-306 4.45061456e-308 1.24612081e-306]]\n",
      "\n",
      " [[1.37962049e-306 9.34597567e-307 1.29061821e-306]\n",
      "  [1.78019625e-306 1.11255866e-306 8.90098127e-307]\n",
      "  [9.34609790e-307 3.91792279e-317 2.12199579e-314]]]\n"
     ]
    }
   ],
   "source": [
    "# np.empty(shape)\n",
    "\n",
    "arr = np.empty((2,3,3))\n",
    "print(arr)\n",
    "\n"
   ]
  },
  {
   "cell_type": "code",
   "execution_count": null,
   "id": "423dc3de",
   "metadata": {},
   "outputs": [
    {
     "name": "stdout",
     "output_type": "stream",
     "text": [
      "[[[    0     0     0]\n",
      "  [    0 13344 30446]\n",
      "  [  604     0 13824]]\n",
      "\n",
      " [[30446   604     0]\n",
      "  [13184 30446   604]\n",
      "  [    0 28258 11883]]]\n"
     ]
    }
   ],
   "source": [
    "# np.empty(existing_array)\n",
    "arr2 = np.empty_like(arr2, dtype = np.int16)\n",
    "print(arr2)\n",
    "\n",
    "# generate random values"
   ]
  },
  {
   "cell_type": "markdown",
   "id": "3b9d7814",
   "metadata": {},
   "source": [
    "### 4. np.full(shape) and no.full_like(existing_array)"
   ]
  },
  {
   "cell_type": "markdown",
   "id": "af7137e4",
   "metadata": {},
   "source": [
    "- np.full(shape,num):\n",
    "    - Create ndarray with specific number.\n"
   ]
  },
  {
   "cell_type": "code",
   "execution_count": 51,
   "id": "dd40d548",
   "metadata": {},
   "outputs": [
    {
     "name": "stdout",
     "output_type": "stream",
     "text": [
      "[[[6 6 6]\n",
      "  [6 6 6]\n",
      "  [6 6 6]\n",
      "  [6 6 6]]\n",
      "\n",
      " [[6 6 6]\n",
      "  [6 6 6]\n",
      "  [6 6 6]\n",
      "  [6 6 6]]]\n",
      "Shape:  (2, 4, 3)\n",
      "Element type:  int8\n",
      "Size :  24\n",
      "one element need:  1\n",
      "Total bytes:  24\n"
     ]
    }
   ],
   "source": [
    "# np.full(shape)\n",
    "\n",
    "arr3 = np.full((2,4,3),6, dtype = np.int8)\n",
    "\n",
    "print(arr3)\n",
    "print(\"Shape: \", arr3.shape)\n",
    "print(\"Element type: \", arr3.dtype)\n",
    "print(\"Size : \", arr3.size)\n",
    "print(\"one element need: \", arr3.itemsize)\n",
    "print(\"Total bytes: \", arr3.nbytes)"
   ]
  },
  {
   "cell_type": "code",
   "execution_count": null,
   "id": "84dafd07",
   "metadata": {},
   "outputs": [
    {
     "name": "stdout",
     "output_type": "stream",
     "text": [
      "[[[2. 2. 2.]\n",
      "  [2. 2. 2.]\n",
      "  [2. 2. 2.]\n",
      "  [2. 2. 2.]]\n",
      "\n",
      " [[2. 2. 2.]\n",
      "  [2. 2. 2.]\n",
      "  [2. 2. 2.]\n",
      "  [2. 2. 2.]]]\n",
      "Shape:  (2, 4, 3)\n",
      "size:  24\n",
      "Element type:  float32\n",
      "Each item memory occupied:  4\n",
      "Total Memory occupied:  96\n"
     ]
    }
   ],
   "source": [
    "# np.full_like(existing_array)\n",
    "\n",
    "arr = np.full_like(arr3,2,dtype= np.float32)\n",
    "\n",
    "print(arr)\n",
    "print(\"Shape: \", arr.shape)\n",
    "\n",
    "print(\"size: \", arr.size)\n",
    "\n",
    "print(\"Element type: \", arr.dtype)\n",
    "\n",
    "print(\"Each item memory occupied: \", arr.itemsize)\n",
    "\n",
    "print(\"Total Memory occupied: \", arr.nbytes)\n"
   ]
  },
  {
   "cell_type": "code",
   "execution_count": 64,
   "id": "c5b4c1e4",
   "metadata": {},
   "outputs": [
    {
     "name": "stdout",
     "output_type": "stream",
     "text": [
      "[[inf inf inf]\n",
      " [inf inf inf]]\n",
      "Dimension:  2\n",
      "Element type:  float64\n",
      "Size:  6\n",
      "individual Item:  8\n",
      "Total Memory occupied:  48\n"
     ]
    }
   ],
   "source": [
    "# Create create with initialization infinite values\n",
    "\n",
    "arr_inf = np.full((2,3),np.inf)\n",
    "\n",
    "print(arr_inf)\n",
    "\n",
    "print(\"Dimension: \", arr_inf.ndim)\n",
    "print(\"Element type: \", arr_inf.dtype)\n",
    "print(\"Size: \", arr_inf.size)\n",
    "print(\"individual Item: \", arr_inf.itemsize)\n",
    "print(\"Total Memory occupied: \", arr_inf.nbytes)\n"
   ]
  }
 ],
 "metadata": {
  "kernelspec": {
   "display_name": "base",
   "language": "python",
   "name": "python3"
  },
  "language_info": {
   "codemirror_mode": {
    "name": "ipython",
    "version": 3
   },
   "file_extension": ".py",
   "mimetype": "text/x-python",
   "name": "python",
   "nbconvert_exporter": "python",
   "pygments_lexer": "ipython3",
   "version": "3.13.5"
  }
 },
 "nbformat": 4,
 "nbformat_minor": 5
}
