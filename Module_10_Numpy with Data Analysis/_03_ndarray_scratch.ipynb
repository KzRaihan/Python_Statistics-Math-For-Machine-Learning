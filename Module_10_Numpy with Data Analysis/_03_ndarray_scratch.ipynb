{
 "cells": [
  {
   "cell_type": "markdown",
   "id": "1fde7794",
   "metadata": {},
   "source": [
    "## Topic: ndarray Creation from Scratch"
   ]
  },
  {
   "cell_type": "markdown",
   "id": "642f6b1f",
   "metadata": {},
   "source": [
    "### OUTCOMES\n",
    "\n",
    "- 1. np.zeros(shape) \n",
    "    - np.zeros_like(existing_array)\n",
    "\n",
    "- 2. np.ones(shape) \n",
    "    - np.ones_like(existing_array)\n",
    "\n",
    "- 3. np.empty(shape) \n",
    "    - np.empty_like(existing_array)\n",
    "\n",
    "- 4. np.full(shape,num) \n",
    "    - np.full_like(existing_array,num)\n"
   ]
  },
  {
   "cell_type": "markdown",
   "id": "e0dc3cee",
   "metadata": {},
   "source": [
    "### 1. np.zeros(shape) and np.zeros_like(existing_array)"
   ]
  },
  {
   "cell_type": "markdown",
   "id": "1455190a",
   "metadata": {},
   "source": [
    "- np.zeros(shape):\n",
    "\n",
    "    - Create ndarray with initialization zero.\n",
    "\n",
    "    - shape = shape of the array (2,3), (2,3,4), (1) in a tuple format.\n",
    "\n",
    "- np.zeros_like(existing array)\n",
    "    - function returns a new array of zeros having the same shape, data type, and memory layout as a given input array.\n"
   ]
  },
  {
   "cell_type": "code",
   "execution_count": 2,
   "id": "3a7ae5e8",
   "metadata": {},
   "outputs": [],
   "source": [
    "import numpy as np"
   ]
  },
  {
   "cell_type": "code",
   "execution_count": 4,
   "id": "8b54a025",
   "metadata": {},
   "outputs": [
    {
     "name": "stdout",
     "output_type": "stream",
     "text": [
      "[[0. 0. 0.]\n",
      " [0. 0. 0.]\n",
      " [0. 0. 0.]\n",
      " [0. 0. 0.]]\n",
      "Element type:  float64\n",
      "Element type:  int8\n",
      "Dimension:  2\n",
      "Shape:  (4, 3)\n",
      "Total Memory occupied:  12\n"
     ]
    }
   ],
   "source": [
    "# Example: np.zeros(shape)\n",
    "\n",
    "# 2-d array:\n",
    "\n",
    "arr = np.zeros((4,3))   # 4 = rows and 3 = columns\n",
    "\n",
    "print(arr)\n",
    "\n",
    "print(\"Element type: \", arr.dtype)   # Default type => float64\n",
    "\n",
    "# convert float64 to int8\n",
    "\n",
    "arr = arr.astype(np.int8)\n",
    "\n",
    "print(\"Element type: \", arr.dtype) # int8\n",
    "print(\"Dimension: \", arr.ndim) \n",
    "print(\"Shape: \", arr.shape)\n",
    "print(\"Total Memory occupied: \", arr.nbytes) "
   ]
  },
  {
   "cell_type": "code",
   "execution_count": null,
   "id": "20851765",
   "metadata": {},
   "outputs": [
    {
     "name": "stdout",
     "output_type": "stream",
     "text": [
      "Elements type:  int64\n",
      "Shape:  (3, 3)\n",
      "[[0 0 0]\n",
      " [0 0 0]\n",
      " [0 0 0]]\n",
      "Elements type:  int64\n",
      "Shape:  (3, 3)\n"
     ]
    }
   ],
   "source": [
    "# Example: np.zeors_like(existing_array)\n",
    "# return existing_array shape, data type but all values are initialization with zeros.\n",
    "\n",
    "arr2 = np.array([\n",
    "    [10, 20, 30],\n",
    "    [40, 50, 60],\n",
    "    [70, 80, 90]]\n",
    ")\n",
    "\n",
    "\n",
    "print(\"Elements type: \", arr2.dtype)\n",
    "print(\"Shape: \", arr2.shape)\n",
    "\n",
    "# convert arr2 all values into zero\n",
    "zero_arr2 = np.zeros_like(arr2)\n",
    "\n",
    "print(zero_arr2)\n",
    "\n",
    "print(\"Elements type: \", zero_arr2.dtype)\n",
    "print(\"Shape: \", zero_arr2.shape)\n",
    "\n",
    "\n",
    "\n",
    "### NOTE: \n",
    "#    np.zeros_like : return same shape and dtype "
   ]
  },
  {
   "cell_type": "markdown",
   "id": "fd1560c8",
   "metadata": {},
   "source": [
    "### 2. np.ones(shape) and np.ones_like(existing_array)"
   ]
  },
  {
   "cell_type": "markdown",
   "id": "486fe39b",
   "metadata": {},
   "source": [
    "- np.ones(shape):\n",
    "    - Create array with initialization one"
   ]
  },
  {
   "cell_type": "code",
   "execution_count": null,
   "id": "892e1859",
   "metadata": {},
   "outputs": [
    {
     "name": "stdout",
     "output_type": "stream",
     "text": [
      "[1.]\n",
      "Dimension:  1\n",
      "Element type:  float64\n",
      "Element type: int32\n"
     ]
    }
   ],
   "source": [
    "# Example: np.ones(shape)\n",
    "\n",
    "# 1-d :\n",
    "arr1 = np.ones(1)\n",
    "print(arr1)\n",
    "\n",
    "print(\"Dimension: \", arr1.ndim)\n",
    "print(\"Element type: \", arr1.dtype)\n",
    "\n",
    "# convert float64 to int32\n",
    "\n",
    "arr1 = arr1.astype(np.int32)\n",
    "print(\"Element type:\", arr1.dtype)\n"
   ]
  },
  {
   "cell_type": "code",
   "execution_count": 7,
   "id": "f091e18d",
   "metadata": {},
   "outputs": [
    {
     "name": "stdout",
     "output_type": "stream",
     "text": [
      "Array :\n",
      " [[10 20 30 40]\n",
      " [50 60 70 80]]\n",
      "Element type:  int64\n",
      "Shape:  (2, 4)\n",
      "Array one: \n",
      " [[1 1 1 1]\n",
      " [1 1 1 1]]\n",
      "Shape:  (2, 4)\n",
      "Element type:  int32\n"
     ]
    }
   ],
   "source": [
    "# np.ones_like(existing_array)\n",
    "# return same shape and dtype of existing array but all elements initialize one.\n",
    "\n",
    "arr2 = np.array([\n",
    "    [10, 20, 30, 40],\n",
    "    [50, 60, 70, 80]\n",
    "]\n",
    "\n",
    ")\n",
    "print(\"Array :\\n\", arr2)\n",
    "print(\"Element type: \", arr2.dtype)\n",
    "print(\"Shape: \", arr2.shape)\n",
    "\n",
    "# now replace all elements to one but same shape, dtype int32\n",
    "arr2 = np.ones_like(arr2, dtype = np.int32)\n",
    "\n",
    "print(\"Array one: \\n\", arr2)\n",
    "print(\"Shape: \", arr2.shape)\n",
    "print(\"Element type: \", arr2.dtype)\n"
   ]
  },
  {
   "cell_type": "markdown",
   "id": "41bb9617",
   "metadata": {},
   "source": [
    "### 3. np.empty(shape) and np.empty_like(existing_array)"
   ]
  },
  {
   "cell_type": "markdown",
   "id": "825ac259",
   "metadata": {},
   "source": [
    "- Create an ndarray with initialization empty(near to zero)"
   ]
  },
  {
   "cell_type": "code",
   "execution_count": null,
   "id": "f15a0bcb",
   "metadata": {},
   "outputs": [
    {
     "name": "stdout",
     "output_type": "stream",
     "text": [
      "[[[6.23042070e-307 4.67296746e-307 1.69121096e-306]\n",
      "  [6.23047842e-307 8.45593934e-307 7.56593017e-307]\n",
      "  [1.11258854e-306 1.11261502e-306 1.42410839e-306]]\n",
      "\n",
      " [[7.56597770e-307 6.23059726e-307 1.42419530e-306]\n",
      "  [1.11261027e-306 1.06809996e-306 1.37962456e-306]\n",
      "  [1.29060871e-306 1.29061414e-306 1.42410974e-306]]]\n",
      "Dimension:  3\n",
      "Shape:  (2, 3, 3)\n"
     ]
    }
   ],
   "source": [
    "# np.empty(shape)\n",
    "\n",
    "arr = np.empty((2,3,3))   # 2 = depth , 3 = each depth rows and 3 = each depth column\n",
    "print(arr)\n",
    "print(\"Dimension: \", arr.ndim)\n",
    "print(\"Shape: \", arr.shape)\n",
    "\n"
   ]
  },
  {
   "cell_type": "code",
   "execution_count": null,
   "id": "423dc3de",
   "metadata": {},
   "outputs": [
    {
     "name": "stdout",
     "output_type": "stream",
     "text": [
      "[[[    0     0     0]\n",
      "  [    0 13344 30446]\n",
      "  [  604     0 13824]]\n",
      "\n",
      " [[30446   604     0]\n",
      "  [13184 30446   604]\n",
      "  [    0 28258 11883]]]\n"
     ]
    }
   ],
   "source": [
    "# np.empty(existing_array)\n",
    "arr2 = np.empty_like(arr2, dtype = np.int16)\n",
    "print(arr2)\n",
    "\n",
    "# generate random values"
   ]
  },
  {
   "cell_type": "markdown",
   "id": "3b9d7814",
   "metadata": {},
   "source": [
    "### 4. np.full(shape) and np.full_like(existing_array)"
   ]
  },
  {
   "cell_type": "markdown",
   "id": "af7137e4",
   "metadata": {},
   "source": [
    "- np.full(shape,num):\n",
    "    - Create ndarray with specific number.\n"
   ]
  },
  {
   "cell_type": "code",
   "execution_count": null,
   "id": "dd40d548",
   "metadata": {},
   "outputs": [
    {
     "name": "stdout",
     "output_type": "stream",
     "text": [
      "[[[6 6 6]\n",
      "  [6 6 6]\n",
      "  [6 6 6]\n",
      "  [6 6 6]]\n",
      "\n",
      " [[6 6 6]\n",
      "  [6 6 6]\n",
      "  [6 6 6]\n",
      "  [6 6 6]]]\n",
      "Shape:  (2, 4, 3)\n",
      "Element type:  int8\n",
      "Size :  24\n",
      "one element need:  1\n",
      "Total bytes:  24\n"
     ]
    }
   ],
   "source": [
    "# np.full(shape)\n",
    "\n",
    "arr3 = np.full((2,4,3),6, dtype = np.int8) # all elements = 6\n",
    "\n",
    "print(arr3)\n",
    "print(\"Shape: \", arr3.shape)\n",
    "print(\"Element type: \", arr3.dtype)\n",
    "print(\"Size : \", arr3.size)\n",
    "print(\"one element need: \", arr3.itemsize)\n",
    "print(\"Total bytes: \", arr3.nbytes)"
   ]
  },
  {
   "cell_type": "code",
   "execution_count": null,
   "id": "84dafd07",
   "metadata": {},
   "outputs": [
    {
     "name": "stdout",
     "output_type": "stream",
     "text": [
      "[[[2. 2. 2.]\n",
      "  [2. 2. 2.]\n",
      "  [2. 2. 2.]\n",
      "  [2. 2. 2.]]\n",
      "\n",
      " [[2. 2. 2.]\n",
      "  [2. 2. 2.]\n",
      "  [2. 2. 2.]\n",
      "  [2. 2. 2.]]]\n",
      "Shape:  (2, 4, 3)\n",
      "size:  24\n",
      "Element type:  float32\n",
      "Each item memory occupied:  4\n",
      "Total Memory occupied:  96\n"
     ]
    }
   ],
   "source": [
    "# np.full_like(existing_array)\n",
    "\n",
    "arr = np.full_like(arr3,2,dtype= np.float32)  # existing array = arr3 and specific num = 2\n",
    "\n",
    "print(arr)\n",
    "print(\"Shape: \", arr.shape)\n",
    "\n",
    "print(\"size: \", arr.size)\n",
    "\n",
    "print(\"Element type: \", arr.dtype)\n",
    "\n",
    "print(\"Each item memory occupied: \", arr.itemsize)\n",
    "\n",
    "print(\"Total Memory occupied: \", arr.nbytes)\n"
   ]
  },
  {
   "cell_type": "code",
   "execution_count": null,
   "id": "c5b4c1e4",
   "metadata": {},
   "outputs": [
    {
     "name": "stdout",
     "output_type": "stream",
     "text": [
      "[[inf inf inf]\n",
      " [inf inf inf]]\n",
      "Dimension:  2\n",
      "Element type:  float64\n",
      "Size:  6\n",
      "individual Item:  8\n",
      "Total Memory occupied:  48\n"
     ]
    }
   ],
   "source": [
    "# Create with initialization infinite values\n",
    "\n",
    "arr_inf = np.full((2,3),np.inf)\n",
    "\n",
    "print(arr_inf)\n",
    "\n",
    "print(\"Dimension: \", arr_inf.ndim)\n",
    "print(\"Element type: \", arr_inf.dtype)\n",
    "print(\"Size: \", arr_inf.size)\n",
    "print(\"individual Item: \", arr_inf.itemsize)\n",
    "print(\"Total Memory occupied: \", arr_inf.nbytes)\n"
   ]
  },
  {
   "cell_type": "markdown",
   "id": "d0bc1b37",
   "metadata": {},
   "source": [
    "#### one short"
   ]
  },
  {
   "cell_type": "code",
   "execution_count": 18,
   "id": "30d2ceba",
   "metadata": {},
   "outputs": [
    {
     "name": "stdout",
     "output_type": "stream",
     "text": [
      "Array: \n",
      " [[10 20 30 40]\n",
      " [15 25 35 45]\n",
      " [50 60 70 80]\n",
      " [65 75 85 95]]\n",
      "Type:  <class 'numpy.ndarray'>\n",
      "Element type:  int64\n"
     ]
    }
   ],
   "source": [
    "# array\n",
    "arr2 = np.array([\n",
    "    [10, 20, 30, 40], \n",
    "    [15, 25, 35, 45],\n",
    "    [50, 60, 70, 80],\n",
    "    [65, 75, 85, 95]\n",
    "])\n",
    "\n",
    "print(\"Array: \\n\", arr2)\n",
    "print(\"Type: \", type(arr2))\n",
    "print(\"Element type: \", arr2.dtype)\n"
   ]
  },
  {
   "cell_type": "code",
   "execution_count": 12,
   "id": "7028df27",
   "metadata": {},
   "outputs": [
    {
     "name": "stdout",
     "output_type": "stream",
     "text": [
      "[[0. 0. 0.]\n",
      " [0. 0. 0.]]\n",
      "Element type:  float64\n"
     ]
    }
   ],
   "source": [
    "# zeros\n",
    "\n",
    "arr_zero = np.zeros((2,3))\n",
    "\n",
    "print(arr_zero)\n",
    "print(\"Element type: \", arr_zero.dtype)"
   ]
  },
  {
   "cell_type": "code",
   "execution_count": 14,
   "id": "60bf40bd",
   "metadata": {},
   "outputs": [
    {
     "name": "stdout",
     "output_type": "stream",
     "text": [
      "Arrary one: \n",
      " [[1 1 1 1]\n",
      " [1 1 1 1]\n",
      " [1 1 1 1]\n",
      " [1 1 1 1]]\n",
      "Element type:  int64\n"
     ]
    }
   ],
   "source": [
    "# ones_like\n",
    "arr_one = np.ones_like(arr2)\n",
    "\n",
    "print(\"Arrary one: \\n\", arr_one)\n",
    "print(\"Element type: \", arr_one.dtype)"
   ]
  },
  {
   "cell_type": "code",
   "execution_count": 16,
   "id": "2943f0b4",
   "metadata": {},
   "outputs": [
    {
     "name": "stdout",
     "output_type": "stream",
     "text": [
      "Array Full : \n",
      " [[10 10 10 10 10]\n",
      " [10 10 10 10 10]\n",
      " [10 10 10 10 10]]\n",
      "Element type:  int32\n"
     ]
    }
   ],
   "source": [
    "# full \n",
    "arr_full = np.full((3,5), 10, dtype=np.int32)\n",
    "\n",
    "print(\"Array Full : \\n\", arr_full)\n",
    "\n",
    "print(\"Element type: \", arr_full.dtype)"
   ]
  },
  {
   "cell_type": "code",
   "execution_count": 17,
   "id": "10e5439d",
   "metadata": {},
   "outputs": [
    {
     "name": "stdout",
     "output_type": "stream",
     "text": [
      "Array infinite: \n",
      " [[-9223372036854775808 -9223372036854775808 -9223372036854775808\n",
      "  -9223372036854775808]\n",
      " [-9223372036854775808 -9223372036854775808 -9223372036854775808\n",
      "  -9223372036854775808]\n",
      " [-9223372036854775808 -9223372036854775808 -9223372036854775808\n",
      "  -9223372036854775808]\n",
      " [-9223372036854775808 -9223372036854775808 -9223372036854775808\n",
      "  -9223372036854775808]]\n",
      "Element type:  int64\n"
     ]
    },
    {
     "name": "stderr",
     "output_type": "stream",
     "text": [
      "c:\\Users\\HP\\anaconda3\\Lib\\site-packages\\numpy\\_core\\numeric.py:457: RuntimeWarning: invalid value encountered in cast\n",
      "  multiarray.copyto(res, fill_value, casting='unsafe')\n"
     ]
    }
   ],
   "source": [
    "# inifinite \n",
    "\n",
    "arr_inf = np.full_like(arr2, np.inf)\n",
    "\n",
    "print(\"Array infinite: \\n\", arr_inf)\n",
    "\n",
    "print(\"Element type: \", arr_inf.dtype)"
   ]
  }
 ],
 "metadata": {
  "kernelspec": {
   "display_name": "base",
   "language": "python",
   "name": "python3"
  },
  "language_info": {
   "codemirror_mode": {
    "name": "ipython",
    "version": 3
   },
   "file_extension": ".py",
   "mimetype": "text/x-python",
   "name": "python",
   "nbconvert_exporter": "python",
   "pygments_lexer": "ipython3",
   "version": "3.13.5"
  }
 },
 "nbformat": 4,
 "nbformat_minor": 5
}
