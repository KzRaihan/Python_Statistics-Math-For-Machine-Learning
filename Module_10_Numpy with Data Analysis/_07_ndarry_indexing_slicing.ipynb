{
 "cells": [
  {
   "cell_type": "markdown",
   "id": "defc7cd7",
   "metadata": {},
   "source": [
    "## Topic: ndarray Indexing and Slicing"
   ]
  },
  {
   "cell_type": "markdown",
   "id": "bd63c4e5",
   "metadata": {},
   "source": [
    "### OUTCOMES\n",
    "\n",
    "- 1. Basic Indexing (1D, 2D, 3D)\n",
    "\n",
    "- 2. Negative Indexing \n",
    "\n",
    "- 3. Basic slicing (1D, 2D, 3D)\n",
    "\n",
    "- 4. .view() method\n",
    "\n",
    "- 5. .copy() method\n"
   ]
  },
  {
   "cell_type": "markdown",
   "id": "bd92c04b",
   "metadata": {},
   "source": [
    "### 1. Basic Indexing (1D, 2D, 3D)"
   ]
  },
  {
   "cell_type": "markdown",
   "id": "1daa36e0",
   "metadata": {},
   "source": [
    "- Indexing:\n",
    "    - Acces and modify the specific (single) element by using idexing."
   ]
  },
  {
   "cell_type": "code",
   "execution_count": 1,
   "id": "82e92a18",
   "metadata": {},
   "outputs": [],
   "source": [
    "import numpy as np"
   ]
  },
  {
   "cell_type": "markdown",
   "id": "7eadd4f6",
   "metadata": {},
   "source": [
    "#### 1-d array indexing"
   ]
  },
  {
   "cell_type": "code",
   "execution_count": null,
   "id": "8bd3ad04",
   "metadata": {},
   "outputs": [],
   "source": [
    "\"\"\"   \n",
    "   ----------------------------------------------\n",
    "   | 10 | 20 | 30 | 40 | 50 | 60 | 70 | 80 | 90 |     <-- Array elements\n",
    "   ------------------------------------------------\n",
    "   | 0  | 1  | 2  | 3  | 4  | 5  | 6  | 7  | 8  |      <------ Positive idx\n",
    "   -------------------------------------------------\n",
    "\n",
    "\n",
    "\"\"\""
   ]
  },
  {
   "cell_type": "code",
   "execution_count": null,
   "id": "7da84d9c",
   "metadata": {},
   "outputs": [
    {
     "name": "stdout",
     "output_type": "stream",
     "text": [
      "idx 2 element:  30\n",
      "Idx 4 element:  50\n",
      "Idx 5 element:  500\n",
      "Original array:  [ 10  20  30  40  50 500  70  80  90]\n",
      "After delete new array:  [10 20 30 40 50 70 80 90]\n"
     ]
    }
   ],
   "source": [
    "arr1 = np.array([10,20,30,40,50,60,70,80,90])\n",
    "\n",
    "# Access single specific element\n",
    "element_30 = arr1[2]  # here 2-> idx\n",
    "print(\"idx 2 element: \",element_30)\n",
    "\n",
    "print(\"Idx 4 element: \", arr1[4]) # 50\n",
    "\n",
    "\n",
    "# modify single element\n",
    "\n",
    "arr1[5] = 500\n",
    "\n",
    "print(\"Idx 5 element: \", arr1[5]) # 500\n",
    "\n",
    "\n",
    "# deleted a single elmeent in 1-d array\n",
    "\n",
    "arr_new = np.delete(arr1,5) # here, 5 - idx\n",
    "\n",
    "print(\"Original array: \", arr1)\n",
    "print(\"After delete new array: \", arr_new)\n",
    "\n"
   ]
  },
  {
   "cell_type": "code",
   "execution_count": null,
   "id": "e675c1b2",
   "metadata": {},
   "outputs": [
    {
     "name": "stdout",
     "output_type": "stream",
     "text": [
      "Original array:  [ 10  20  30  40  50 500  70  80  90]\n",
      "After delete new array:  [ 10  20  50 500  70  80  90]\n"
     ]
    }
   ],
   "source": [
    "# delete multiple elements\n",
    "\n",
    "arr = np.delete(arr1, [2,3])   # here 2, 3 are idx \n",
    "\n",
    "print(\"Original array: \", arr1)\n",
    "print(\"After delete new array: \", arr)\n"
   ]
  },
  {
   "cell_type": "markdown",
   "id": "4e78f44f",
   "metadata": {},
   "source": [
    "#### 2-d array indexing"
   ]
  },
  {
   "cell_type": "code",
   "execution_count": null,
   "id": "b44519f9",
   "metadata": {},
   "outputs": [
    {
     "name": "stdout",
     "output_type": "stream",
     "text": [
      "Original array: \n",
      " [[ 1  2  3  4]\n",
      " [ 5  6  7  8]\n",
      " [ 9 10 11 12]]\n"
     ]
    }
   ],
   "source": [
    "arr2 = np.arange(1,13).reshape(3,4)\n",
    "\n",
    "print(\"Original array: \\n\",arr2)\n"
   ]
  },
  {
   "cell_type": "code",
   "execution_count": null,
   "id": "46fc11ea",
   "metadata": {},
   "outputs": [
    {
     "name": "stdout",
     "output_type": "stream",
     "text": [
      "6\n",
      "7\n",
      "1\n"
     ]
    }
   ],
   "source": [
    "# access the 2-d array element\n",
    "\n",
    "# syntax : arr_name[row, column]\n",
    "\n",
    "print(arr2[1,1])  # 1 = row idx and 1 = column idx \n",
    "print(arr2[1,2])  # 1 = row idx and 2 = colum idx  \n",
    "print(arr2[0,0])\n",
    "\n",
    "\n",
    "### NOTE-> ndarray idx start 0 (0-base idxing)"
   ]
  },
  {
   "cell_type": "code",
   "execution_count": 28,
   "id": "f7a94976",
   "metadata": {},
   "outputs": [
    {
     "name": "stdout",
     "output_type": "stream",
     "text": [
      "100\n",
      "600\n",
      "Modify Array: \n",
      " [[100   2   3   4]\n",
      " [  5 600   7   8]\n",
      " [  9  10  11  12]]\n"
     ]
    }
   ],
   "source": [
    "# modify the 2-d array element\n",
    "\n",
    "arr2[0,0] = 100\n",
    "print(arr2[0,0])\n",
    "\n",
    "arr2[1,1] = 600\n",
    "print(arr2[1,1])\n",
    "\n",
    "\n",
    "print(\"Modify Array: \\n\", arr2)\n",
    "\n"
   ]
  },
  {
   "cell_type": "code",
   "execution_count": null,
   "id": "2c106d5b",
   "metadata": {},
   "outputs": [
    {
     "name": "stdout",
     "output_type": "stream",
     "text": [
      "Original array: \n",
      " [[10 20 30 40]\n",
      " [50 60 70 80]\n",
      " [15 25 35 45]]\n",
      "After delete row: \n",
      " [[50 60 70 80]\n",
      " [15 25 35 45]]\n"
     ]
    }
   ],
   "source": [
    "# 2-d arrray elmeent delete (single, multiple)\n",
    "\n",
    "# syntax : np.delete(arr,idx,axis)\n",
    "# axis => 0 means row\n",
    "# axis => 1 means column\n",
    "\n",
    "# Delete single 2-d array element\n",
    "\n",
    "arr2 = np.array([\n",
    "    [10, 20, 30, 40],\n",
    "    [50, 60, 70, 80],\n",
    "    [15, 25, 35, 45]\n",
    "])\n",
    "\n",
    "print(\"Original array: \\n\", arr2)\n",
    "\n",
    "\n",
    "# delete row\n",
    "new_arr = np.delete(arr2,0,axis=0)  # 0-> row delete\n",
    "\n",
    "\n",
    "print(\"After delete row: \\n\",new_arr)\n",
    "\n"
   ]
  },
  {
   "cell_type": "code",
   "execution_count": null,
   "id": "654b55c5",
   "metadata": {},
   "outputs": [
    {
     "name": "stdout",
     "output_type": "stream",
     "text": [
      "Original array: \n",
      " [[10 20 30 40]\n",
      " [50 60 70 80]\n",
      " [15 25 35 45]]\n",
      "After delete column: \n",
      " [[10 30 40]\n",
      " [50 70 80]\n",
      " [15 35 45]]\n"
     ]
    }
   ],
   "source": [
    "# 2-d arrray elmeent delete (single, multiple)\n",
    "\n",
    "# syntax : np.delete(arr,idx,axis)\n",
    "# axis => 0 means row\n",
    "# axis => 1 means column\n",
    "\n",
    "# Delete single 2-d array element\n",
    "\n",
    "arr2 = np.array([\n",
    "    [10, 20, 30, 40],\n",
    "    [50, 60, 70, 80],\n",
    "    [15, 25, 35, 45]\n",
    "])\n",
    "\n",
    "print(\"Original array: \\n\", arr2)\n",
    "\n",
    "# delete single column\n",
    "\n",
    "new_arr = np.delete(arr2,1,axis=1)  # 1 idx column is deleted\n",
    "\n",
    "print(\"After delete column: \\n\", new_arr)\n"
   ]
  },
  {
   "cell_type": "markdown",
   "id": "ab8bc632",
   "metadata": {},
   "source": [
    "### 2. Negative Indexing "
   ]
  },
  {
   "cell_type": "code",
   "execution_count": null,
   "id": "17a23e86",
   "metadata": {},
   "outputs": [],
   "source": [
    "\"\"\"   \n",
    "   -------------------------------------------------------\n",
    "   | 10   | 20 |  30 | 40  | 50  | 60  | 70  | 80  | 90  |     <-- Array elements\n",
    "   -------------------------------------------------------\n",
    "   | -9  | -8  | -7  | -6  | -5  | -4  | -3  | -2  | -1  |      <------ negative idx\n",
    "   --------------------------------------------------------\n",
    "\n",
    "\"\"\""
   ]
  },
  {
   "cell_type": "code",
   "execution_count": 45,
   "id": "ac133f7e",
   "metadata": {},
   "outputs": [
    {
     "name": "stdout",
     "output_type": "stream",
     "text": [
      "[10 20 30 40 50 60 70 80 90]\n",
      "90\n",
      "10\n",
      "After modify:  [900  20  30  40 500  60  70  80  90]\n",
      "After Deleted:  [900  20  30  40 500  60  70  80]\n"
     ]
    }
   ],
   "source": [
    "# negative index for 1-d array:\n",
    "# Negative idx start with -1\n",
    "\n",
    "arr1 = np.arange(10,91,10)\n",
    "\n",
    "print(arr1)\n",
    "# print(arr1.ndim)\n",
    "\n",
    "# access single element using negative idx\n",
    "\n",
    "print(arr1[-1]) # last element\n",
    "\n",
    "print(arr1[-9])\n",
    "\n",
    "\n",
    "# modify\n",
    "arr1[-9] = 900\n",
    "\n",
    "arr1[-5] = 500\n",
    "\n",
    "print(\"After modify: \", arr1)\n",
    "\n",
    "\n",
    "# delete\n",
    "arr_new = np.delete(arr1,-1)\n",
    "\n",
    "print(\"After Deleted: \", arr_new)"
   ]
  },
  {
   "cell_type": "markdown",
   "id": "6bb5cdae",
   "metadata": {},
   "source": [
    "### 3. Basic slicing (1D, 2D, 3D)"
   ]
  },
  {
   "cell_type": "markdown",
   "id": "9c0ffd73",
   "metadata": {},
   "source": [
    "- Access and modify the multiple array elements\n",
    "- Extract the subarray in the main array\n",
    "\n"
   ]
  },
  {
   "cell_type": "markdown",
   "id": "85ac7e7a",
   "metadata": {},
   "source": [
    "#### Slicing for 1-d array\n",
    "- syntax for 1-d:\n",
    "    - arr_name[start_idx: end_idx: steps]\n",
    "\n",
    "    - start_idx = 0 (default)\n",
    "    - end_idx = len(arr) [default]\n",
    "    - steps = 1 (default)\n",
    "\n",
    "- remember that: \n",
    "    - end_idx is not include (exclusive)\n",
    "\n",
    "    - ndarray follow 0-base indexing.\n"
   ]
  },
  {
   "cell_type": "code",
   "execution_count": 54,
   "id": "d249ab4e",
   "metadata": {},
   "outputs": [
    {
     "name": "stdout",
     "output_type": "stream",
     "text": [
      "Original array:  [1 2 3 4 5 6 7 8 9]\n",
      "[2 3 4 5 6]\n",
      "[6 7 8 9]\n",
      "[4 6 8]\n"
     ]
    }
   ],
   "source": [
    "# 1-d array for slicing:\n",
    "\n",
    "arr1 = np.array([1,2,3,4,5,6,7,8,9])\n",
    "\n",
    "print(\"Original array: \", arr1)\n",
    "\n",
    "# access the multiple array element or specific range or subarray\n",
    "\n",
    "sub_arr = arr1[1:6:1] # 1 = start idx ; 6 = end idx(exclusive) ; 1 = steps\n",
    "print(sub_arr)\n",
    "\n",
    "\n",
    "print(arr1[5:9])\n",
    "\n",
    "print(arr1[3:8:2])\n",
    "\n"
   ]
  },
  {
   "cell_type": "code",
   "execution_count": null,
   "id": "06782402",
   "metadata": {},
   "outputs": [
    {
     "name": "stdout",
     "output_type": "stream",
     "text": [
      "[1 2 3 4 5 6 7 8 9]\n",
      "[3 5 7 9]\n",
      "[1 2 3 4 5]\n"
     ]
    }
   ],
   "source": [
    "# omitting case -> when we can't provide the idx the it's automatically calcutate by using defautl value \n",
    "\n",
    "# access\n",
    "print(arr1[:]) # start_idx = 0  ; end_idx = len(arr1) ; step = 1 \n",
    "\n",
    "print(arr1[2::2]) # start_idx = 2; end_idx = len(arr1); steps = 2\n",
    "\n",
    "print(arr1[:5:]) # start_idx = 0 : end_idx = 5-1 ; step = 1\n"
   ]
  },
  {
   "cell_type": "markdown",
   "id": "acbe52c9",
   "metadata": {},
   "source": [
    "#### Slicing for 2-d array\n",
    "- syntax for 2-d:\n",
    "    \n",
    "    - arr_name[start_idx_row: end_idx_row: steps_row ,start_idx_col: end_idx_col: steps_col]\n",
    "\n",
    "        - start_idx_row = 0 (default)\n",
    "        - end_idx_row = total_row [default]\n",
    "        - steps_row = 1 (default)\n",
    "\n",
    "        - start_idx_col = 0 (default)\n",
    "        - end_idx_col = total_col [default]\n",
    "        - steps_col = 1 (default)\n",
    "\n",
    "- remember that: \n",
    "    - end_idx is not include (exclusive)\n",
    "\n",
    "    - ndarray follow 0-base indexing.\n"
   ]
  },
  {
   "cell_type": "code",
   "execution_count": null,
   "id": "c06da22b",
   "metadata": {},
   "outputs": [
    {
     "name": "stdout",
     "output_type": "stream",
     "text": [
      "Original Array: \n",
      " [[10 20 30 40]\n",
      " [50 60 70 80]\n",
      " [90 94 98 99]]\n",
      "After slicing..\n",
      "[[20 30]\n",
      " [60 70]]\n"
     ]
    }
   ],
   "source": [
    "arr2 = np.array([\n",
    "    [10, 20, 30, 40],\n",
    "    [50, 60, 70, 80],\n",
    "    [90, 94, 98, 99]\n",
    "])\n",
    "\n",
    "print(\"Original Array: \\n\", arr2)\n",
    "\n",
    "\n",
    "print(\"After slicing..\")\n",
    "# access\n",
    "print(arr2[0:2,1:3])  # start_row_idx = 0 ; end_row_idx = 2-1; step = 1\n",
    "                      # start_col_idx = 1 ; end_con_idx = 3-1 step = 1\n"
   ]
  },
  {
   "cell_type": "code",
   "execution_count": null,
   "id": "dd187c14",
   "metadata": {},
   "outputs": [
    {
     "name": "stdout",
     "output_type": "stream",
     "text": [
      "Original Array: \n",
      " [[10 20 30 40]\n",
      " [50 60 70 80]\n",
      " [90 94 98 99]]\n",
      "After slicing specific row\n",
      "[[50 60 70 80]\n",
      " [90 94 98 99]]\n",
      "After slicing specific column\n",
      "[[10 20 30]\n",
      " [50 60 70]\n",
      " [90 94 98]]\n",
      "After slicing \n",
      "[[10 20 30 40]\n",
      " [50 60 70 80]\n",
      " [90 94 98 99]]\n"
     ]
    }
   ],
   "source": [
    "# access only rows and columns\n",
    "\n",
    "\n",
    "# acces only row\n",
    "print(\"Original Array: \\n\", arr2)\n",
    "\n",
    "print(\"After slicing specific row\")\n",
    "\n",
    "print(arr2[1:3,])  # start_row_idx = 1 ; end_row_idx = 3-1 ; step = 1\n",
    "                    # start_col_idx = 0 ; end_con_idx = 4-1 step = 1 (select all columns)\n",
    "\n",
    "\n",
    "# access only column\n",
    "print(\"After slicing specific column\")\n",
    "\n",
    "print(arr2[::,:3])\n",
    "                    # start_row_idx = 0 ; end_row_idx = all ; step = 1 (select all rows)\n",
    "                    # start_col_idx = 0 ; end_con_idx = 3-1 step = 1 \n",
    "\n",
    "print(\"After slicing \")\n",
    "print(arr2[:, :])\n",
    "                    # start_row_idx = 0 ; end_row_idx = all ; step = 1 (select all rows)\n",
    "                    # start_col_idx = 0 ; end_con_idx = all ; step = 1 \n"
   ]
  },
  {
   "cell_type": "code",
   "execution_count": null,
   "id": "df9b7499",
   "metadata": {},
   "outputs": [
    {
     "name": "stdout",
     "output_type": "stream",
     "text": [
      "Original array:\n",
      " [[10 12 14 16]\n",
      " [18 20 22 24]\n",
      " [26 28 30 32]]\n",
      "\n",
      "Slicing with step size: \n",
      "[[10 14]\n",
      " [26 30]]\n",
      "\n",
      "Slicing with step size: \n",
      "[[10 16]]\n",
      "\n",
      "Slicing with step size: \n",
      "[[12]]\n"
     ]
    }
   ],
   "source": [
    "# access with steps size\n",
    "\n",
    "arr2 = np.arange(10,34,2).reshape(3,4)\n",
    "\n",
    "print(\"Original array:\\n\",arr2)\n",
    "\n",
    "\n",
    "print(\"\\nSlicing with step size: \")\n",
    "print(arr2[::2, ::2])\n",
    "\n",
    "print(\"\\nSlicing with step size: \")\n",
    "print(arr2[::3, ::3])\n",
    "\n",
    "print(\"\\nSlicing with step size: \")\n",
    "print(arr2[::3, 1::3])\n",
    "\n",
    "\n"
   ]
  },
  {
   "cell_type": "code",
   "execution_count": null,
   "id": "196cf1e7",
   "metadata": {},
   "outputs": [],
   "source": [
    "# what happen?\n",
    "'''   \n",
    "Original array:\n",
    " [10 12 14 16]\n",
    " [18 20 22 24]\n",
    " [26 28 30 32] \n",
    "\n",
    "\n",
    "print(\"\\nSlicing with step size: \")\n",
    "print(arr2[::3, 1::3])\n",
    "\n",
    "Step_01: for rows\n",
    "\n",
    "    start_idx_row = 0  =>  [10 12 14 16]\n",
    "\n",
    "    end_idx_row = len(arr) => 2\n",
    "\n",
    "    step = 3\n",
    "\n",
    "    \n",
    "Step_02: for columns\n",
    "\n",
    "    start_idx_col = 1  =>  [ 12 ]\n",
    "                           [ 20 ]\n",
    "                           [ 28 ] \n",
    "\n",
    "    end_idx_col = len(arr) => 3\n",
    "\n",
    "    step = 3   => [ 12 ]\n",
    "\n",
    "'''"
   ]
  },
  {
   "cell_type": "code",
   "execution_count": 91,
   "id": "b77224aa",
   "metadata": {},
   "outputs": [
    {
     "name": "stdout",
     "output_type": "stream",
     "text": [
      "Original array:\n",
      " [[10 20 30 40]\n",
      " [50 60 70 80]\n",
      " [90 94 98 99]]\n",
      "\n",
      "Slicing with modification: \n",
      "[[100 100 100 100]\n",
      " [100 100 100 100]\n",
      " [100 100 100 100]]\n"
     ]
    }
   ],
   "source": [
    "# 2-d array: modify the elmeent using slicing \n",
    "arr2 = np.array([\n",
    "    [10, 20, 30, 40],\n",
    "    [50, 60, 70, 80],\n",
    "    [90, 94, 98, 99]\n",
    "])\n",
    "\n",
    "print(\"Original array:\\n\",arr2)\n",
    "\n",
    "\n",
    "print(\"\\nSlicing with modification: \")\n",
    "\n",
    "arr2[0:3:1, 0:4:1] = 100  # here all element is replace with 100\n",
    "# arr2[::, ::] = 200\n",
    "\n",
    "print(arr2)\n",
    "\n",
    "\n"
   ]
  },
  {
   "cell_type": "code",
   "execution_count": null,
   "id": "bdf2a9e1",
   "metadata": {},
   "outputs": [
    {
     "name": "stdout",
     "output_type": "stream",
     "text": [
      "Original array:\n",
      " [[10 20 30 40]\n",
      " [50 60 70 80]\n",
      " [90 94 98 99]]\n",
      "\n",
      "Slicing with modification specific rows and columms: \n",
      "[[100  20  30 100]\n",
      " [ 50  60  70  80]\n",
      " [100  94  98 100]]\n"
     ]
    }
   ],
   "source": [
    "# 2-d array: modify the elmeent using slicing \n",
    "arr2 = np.array([\n",
    "    [10, 20, 30, 40],\n",
    "    [50, 60, 70, 80],\n",
    "    [90, 94, 98, 99]\n",
    "])\n",
    "print(\"Original array:\\n\",arr2)\n",
    "\n",
    "\n",
    "print(\"\\nSlicing with modification specific rows and columms: \")\n",
    "\n",
    "# arr2[1:3,:3] = 500\n",
    "# print(arr2)\n",
    "\n",
    "\n",
    "# arr2[1:, 1:] = 600\n",
    "\n",
    "# print(arr2)\n",
    "\n",
    "\n",
    "# arr2[:2, 1:3] = 200\n",
    "# print(arr2)\n",
    "\n",
    "arr2[::2,::3] = 100\n",
    "print(arr2)\n",
    "\n"
   ]
  },
  {
   "cell_type": "code",
   "execution_count": 99,
   "id": "c8c89450",
   "metadata": {},
   "outputs": [
    {
     "name": "stdout",
     "output_type": "stream",
     "text": [
      "Original array:\n",
      " [[10 20 30 40]\n",
      " [50 60 70 80]\n",
      " [90 94 98 99]]\n",
      "\n",
      "Slicing with modification specific rows: \n",
      "[[100 200 300 400]\n",
      " [ 50  60  70  80]\n",
      " [ 90  94  98  99]]\n"
     ]
    }
   ],
   "source": [
    "# specific row modify using slicing\n",
    "\n",
    "arr2 = np.array([\n",
    "    [10, 20, 30, 40],\n",
    "    [50, 60, 70, 80],\n",
    "    [90, 94, 98, 99]\n",
    "])\n",
    "print(\"Original array:\\n\",arr2)\n",
    "\n",
    "\n",
    "print(\"\\nSlicing with modification specific rows: \")\n",
    "\n",
    "# arr2[0:1,::] = 100\n",
    "# print(arr2)\n",
    "\n",
    "\n",
    "arr2[0:1,::] = [100, 200, 300, 400]\n",
    "print(arr2)\n",
    "\n"
   ]
  },
  {
   "cell_type": "code",
   "execution_count": 103,
   "id": "aab2219c",
   "metadata": {},
   "outputs": [
    {
     "name": "stdout",
     "output_type": "stream",
     "text": [
      "Original array:\n",
      " [[10 20 30 40]\n",
      " [50 60 70 80]\n",
      " [90 94 98 99]]\n",
      "\n",
      "Slicing with delete specific column: \n",
      "[[10 20 40]\n",
      " [50 60 80]\n",
      " [90 94 99]]\n"
     ]
    }
   ],
   "source": [
    "# specific row delete using slicing\n",
    "# np.delete(array, idx, axis)\n",
    "# axis = 0 : row\n",
    "# axis = 1 : column\n",
    "\n",
    "arr2 = np.array([\n",
    "    [10, 20, 30, 40],\n",
    "    [50, 60, 70, 80],\n",
    "    [90, 94, 98, 99]\n",
    "])\n",
    "print(\"Original array:\\n\",arr2)\n",
    "\n",
    "\n",
    "print(\"\\nSlicing with delete specific column: \")\n",
    "\n",
    "new_arr = np.delete(arr2,2,axis=1)\n",
    "print(new_arr)\n",
    "\n",
    "\n",
    "# print(\"\\nSlicing with delete specific row: \")\n",
    "\n",
    "# new_arr = np.delete(arr2,2,axis=0)\n",
    "# print(new_arr)\n",
    "\n",
    "\n",
    "\n"
   ]
  },
  {
   "cell_type": "markdown",
   "id": "f0f787bb",
   "metadata": {},
   "source": [
    "### 4. .view() Method"
   ]
  },
  {
   "cell_type": "markdown",
   "id": "943e5627",
   "metadata": {},
   "source": [
    "- Shallow Copy the main array.\n",
    "\n",
    "- Changing data affects both.\n",
    "\n",
    "- share data but not the object"
   ]
  },
  {
   "cell_type": "code",
   "execution_count": null,
   "id": "f99c4dec",
   "metadata": {},
   "outputs": [
    {
     "name": "stdout",
     "output_type": "stream",
     "text": [
      "Main Array:  [1 2 3 4 5 6 7 8 9]\n",
      "Sub Array:  [2 3 4 5 6]\n",
      "\n",
      "After modifying subArray: \n",
      "\n",
      "Main Array:  [  1   2 100   4   5 500   7   8   9]\n",
      "Sub Array:  [  2 100   4   5 500]\n"
     ]
    }
   ],
   "source": [
    "# for arrary slicing is similar to .view() method\n",
    "\n",
    "arr = np.array([1,2,3,4,5,6,7,8,9])\n",
    "\n",
    "sub_arr = arr[1:6]\n",
    "\n",
    "print(\"Main Array: \", arr)\n",
    "print(\"Sub Array: \", sub_arr)\n",
    "\n",
    "# change in subarray\n",
    "sub_arr[1] = 100\n",
    "sub_arr[4] = 500\n",
    "\n",
    "print(\"\\nAfter modifying subArray: \\n\")\n",
    "print(\"Main Array: \", arr)\n",
    "print(\"Sub Array: \", sub_arr)\n",
    "\n",
    "\n",
    "# NOTE: here Change the elements in both array"
   ]
  },
  {
   "cell_type": "code",
   "execution_count": 114,
   "id": "f5777aec",
   "metadata": {},
   "outputs": [
    {
     "name": "stdout",
     "output_type": "stream",
     "text": [
      "Main Array:  [1 2 3 4 5 6 7 8 9]\n",
      "copy_arr Array:  [1 2 3 4 5 6 7 8 9]\n",
      "\n",
      "After modify in copy array: \n",
      "Main Array:  [1010    2    3    4  400    6    7    8    9]\n",
      "copy_arr Array:  [1010    2    3    4  400    6    7    8    9]\n"
     ]
    }
   ],
   "source": [
    "# Now use .view() method\n",
    "arr = np.array([1,2,3,4,5,6,7,8,9])\n",
    "\n",
    "\n",
    "# copy using .view()\n",
    "copy_arr = arr.view()\n",
    "\n",
    "print(\"Main Array: \", arr)\n",
    "print(\"copy_arr Array: \", copy_arr) \n",
    "\n",
    "\n",
    "# modify the copy array\n",
    "copy_arr[4] = 400\n",
    "copy_arr[0] = 1010\n",
    "\n",
    "\n",
    "print(\"\\nAfter modify in copy array: \")\n",
    "\n",
    "print(\"Main Array: \", arr)\n",
    "print(\"copy_arr Array: \", copy_arr) \n"
   ]
  },
  {
   "cell_type": "markdown",
   "id": "7a1ffa1b",
   "metadata": {},
   "source": [
    "### 5. .copy() Method"
   ]
  },
  {
   "cell_type": "markdown",
   "id": "aeb0071c",
   "metadata": {},
   "source": [
    "- Deep Copy the main array\n",
    "\n",
    "- Changes in one do not affect the other"
   ]
  },
  {
   "cell_type": "code",
   "execution_count": null,
   "id": "fc0e860a",
   "metadata": {},
   "outputs": [
    {
     "name": "stdout",
     "output_type": "stream",
     "text": [
      "Main Array:  [1 2 3 4 5 6 7 8 9]\n",
      "copy_arr Array:  [1010    2    3    4  400    6    7    8    9]\n",
      "\n",
      "After modify in copy array: \n",
      "Main Array:  [1 2 3 4 5 6 7 8 9]\n",
      "copy_arr Array:  [100   2   3 300   5   6   7   8   9]\n"
     ]
    }
   ],
   "source": [
    "# arr.copy() \n",
    "\n",
    "arr = np.array([1,2,3,4,5,6,7,8,9])\n",
    "\n",
    "# deep copy\n",
    "\n",
    "deep_copy = arr.copy()\n",
    "\n",
    "print(\"Main Array: \", arr)\n",
    "print(\"copy_arr Array: \", copy_arr) \n",
    "\n",
    "# modify the deep copy array\n",
    "\n",
    "deep_copy[0] = 100\n",
    "deep_copy[3] = 300\n",
    "\n",
    "\n",
    "\n",
    "print(\"\\nAfter modify in copy array: \")\n",
    "\n",
    "print(\"Main Array: \", arr)\n",
    "print(\"copy_arr Array: \", deep_copy) \n",
    "\n",
    "\n",
    "# NOTE: only modify the deep copy array not main array"
   ]
  }
 ],
 "metadata": {
  "kernelspec": {
   "display_name": "base",
   "language": "python",
   "name": "python3"
  },
  "language_info": {
   "codemirror_mode": {
    "name": "ipython",
    "version": 3
   },
   "file_extension": ".py",
   "mimetype": "text/x-python",
   "name": "python",
   "nbconvert_exporter": "python",
   "pygments_lexer": "ipython3",
   "version": "3.13.5"
  }
 },
 "nbformat": 4,
 "nbformat_minor": 5
}
