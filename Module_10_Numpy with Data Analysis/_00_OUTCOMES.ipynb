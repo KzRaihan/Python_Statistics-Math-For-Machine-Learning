{
 "cells": [
  {
   "cell_type": "markdown",
   "id": "70dd0cd7",
   "metadata": {},
   "source": [
    "## Topic: Data Analysis With Numpy"
   ]
  },
  {
   "cell_type": "markdown",
   "id": "bc8c3c4a",
   "metadata": {},
   "source": [
    "- OUTCOMES\n",
    "\n",
    "- 1. Introduction of Numpy\n",
    "\n",
    "- 2. ndarray Creation form existing data type (list, dic, etc)\n",
    "\n",
    "- 3. ndarray Creation from Scratch\n",
    "\n",
    "- 4. ndarray generation/creation with random values\n",
    "\n",
    "- 5. ndaary for Creating diagonal and identity matrix\n",
    "\n",
    "- 6. ndarry indexing and Slicing\n",
    "\n",
    "- 7. ndarray copy and Advance Indexing\n",
    "\n",
    "- 8. ndarray Mathematical Operation and function"
   ]
  }
 ],
 "metadata": {
  "language_info": {
   "name": "python"
  }
 },
 "nbformat": 4,
 "nbformat_minor": 5
}
