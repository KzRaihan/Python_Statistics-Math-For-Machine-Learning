{
 "cells": [
  {
   "cell_type": "markdown",
   "id": "4bc86de8",
   "metadata": {},
   "source": [
    "## Topic: ndarray generation/creation with random values"
   ]
  },
  {
   "cell_type": "markdown",
   "id": "908717a2",
   "metadata": {},
   "source": [
    "### OUTCOMES\n",
    "\n",
    "- 1. np.random.rand() \n",
    "\n",
    "- 2. np.random.randint()\n",
    "\n",
    "- 3. np.random.uniform()\n"
   ]
  },
  {
   "cell_type": "code",
   "execution_count": 1,
   "id": "eb06e006",
   "metadata": {},
   "outputs": [],
   "source": [
    "import numpy as np"
   ]
  },
  {
   "cell_type": "markdown",
   "id": "f2dc235e",
   "metadata": {},
   "source": [
    "- These full function return random numbers and we can't predict the next numbers\n",
    "\n",
    "- Use in ML:\n",
    "    - initializing model weights.\n",
    "    - creating test datasets."
   ]
  },
  {
   "cell_type": "markdown",
   "id": "e3ec073d",
   "metadata": {},
   "source": [
    "### 1. np.random.rand() "
   ]
  },
  {
   "cell_type": "markdown",
   "id": "02c06e5e",
   "metadata": {},
   "source": [
    "- Generate random number float in between 0-1 that is uniform distribution."
   ]
  },
  {
   "cell_type": "code",
   "execution_count": null,
   "id": "926af6fb",
   "metadata": {},
   "outputs": [],
   "source": [
    "# syntax of : np.random.rand()\n",
    "'''  \n",
    " np.random.rand(shape) \n",
    "\n",
    "\n",
    "\n",
    "'''"
   ]
  },
  {
   "cell_type": "markdown",
   "id": "5915c4b4",
   "metadata": {},
   "source": [
    "### 2. np.random.randint()"
   ]
  },
  {
   "cell_type": "code",
   "execution_count": null,
   "id": "1b719fe6",
   "metadata": {},
   "outputs": [],
   "source": []
  },
  {
   "cell_type": "markdown",
   "id": "2db580a9",
   "metadata": {},
   "source": [
    "### 3. np.random.uniform()"
   ]
  }
 ],
 "metadata": {
  "kernelspec": {
   "display_name": "base",
   "language": "python",
   "name": "python3"
  },
  "language_info": {
   "codemirror_mode": {
    "name": "ipython",
    "version": 3
   },
   "file_extension": ".py",
   "mimetype": "text/x-python",
   "name": "python",
   "nbconvert_exporter": "python",
   "pygments_lexer": "ipython3",
   "version": "3.13.5"
  }
 },
 "nbformat": 4,
 "nbformat_minor": 5
}
