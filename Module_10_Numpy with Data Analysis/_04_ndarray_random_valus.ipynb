{
 "cells": [
  {
   "cell_type": "markdown",
   "id": "4bc86de8",
   "metadata": {},
   "source": [
    "## Topic: ndarray generates/creation with random values"
   ]
  },
  {
   "cell_type": "markdown",
   "id": "908717a2",
   "metadata": {},
   "source": [
    "### OUTCOMES\n",
    "\n",
    "- 1. np.random.rand(shape) \n",
    "\n",
    "- 2. np.random.randint(range, shape)\n",
    "\n",
    "- 3. np.random.uniform(range, shape)\n"
   ]
  },
  {
   "cell_type": "code",
   "execution_count": 3,
   "id": "eb06e006",
   "metadata": {},
   "outputs": [],
   "source": [
    "import numpy as np"
   ]
  },
  {
   "cell_type": "markdown",
   "id": "f2dc235e",
   "metadata": {},
   "source": [
    "- These full function return random numbers and we can't predict the next numbers.\n",
    "\n",
    "- Use in ML:\n",
    "    - initializing model weights.\n",
    "    - creating test datasets."
   ]
  },
  {
   "cell_type": "markdown",
   "id": "e3ec073d",
   "metadata": {},
   "source": [
    "### 1. np.random.rand() "
   ]
  },
  {
   "cell_type": "markdown",
   "id": "02c06e5e",
   "metadata": {},
   "source": [
    "- Generate random number float in between 0-1 that are uniform distribution."
   ]
  },
  {
   "cell_type": "code",
   "execution_count": 1,
   "id": "926af6fb",
   "metadata": {},
   "outputs": [
    {
     "data": {
      "text/plain": [
       "'  \\n - np.random.rand(shape) \\n \\n\\n'"
      ]
     },
     "execution_count": 1,
     "metadata": {},
     "output_type": "execute_result"
    }
   ],
   "source": [
    "# syntax of : np.random.rand()\n",
    "'''  \n",
    " - np.random.rand(shape) \n",
    " \n",
    "\n",
    "'''"
   ]
  },
  {
   "cell_type": "code",
   "execution_count": 15,
   "id": "09c96929",
   "metadata": {},
   "outputs": [
    {
     "name": "stdout",
     "output_type": "stream",
     "text": [
      "[0.26738608 0.78955838 0.32011379 0.80732581 0.10275981]\n",
      "<class 'numpy.ndarray'>\n",
      "Element type:  float64\n",
      "Dimension:  1\n",
      "shape:  (5,)\n"
     ]
    }
   ],
   "source": [
    "# Example: for 1-d \n",
    "\n",
    "arr1 = np.random.rand(5)  # generate 5 random numbers in between 0-1.\n",
    "\n",
    "print(arr1)\n",
    "print(type(arr1))\n",
    "\n",
    "print(\"Element type: \", arr1.dtype)\n",
    "print(\"Dimension: \", arr1.ndim)\n",
    "print(\"shape: \", arr1.shape)\n",
    "\n"
   ]
  },
  {
   "cell_type": "code",
   "execution_count": null,
   "id": "a4dbe050",
   "metadata": {},
   "outputs": [
    {
     "name": "stdout",
     "output_type": "stream",
     "text": [
      "[[0.8554755  0.22863295]\n",
      " [0.13697469 0.82734912]\n",
      " [0.43223457 0.7279741 ]]\n",
      "Dimension:  2\n",
      "shape:  (3, 2)\n"
     ]
    }
   ],
   "source": [
    "# Example: random.rand()-> for 2-d array\n",
    "# Each dimension is given as a separate argument.\n",
    "\n",
    "arr2 = np.random.rand(3,2)  # here 3 = rows and 2 = columns  \n",
    "\n",
    "print(arr2)\n",
    "\n",
    "print(\"Dimension: \", arr2.ndim)\n",
    "print(\"shape: \", arr2.shape)\n"
   ]
  },
  {
   "cell_type": "code",
   "execution_count": null,
   "id": "9f810d7f",
   "metadata": {},
   "outputs": [
    {
     "name": "stdout",
     "output_type": "stream",
     "text": [
      "[[[0.37344867 0.78819341 0.98956264 0.90477995]\n",
      "  [0.45568853 0.04968372 0.66505925 0.97447846]\n",
      "  [0.01251463 0.9547787  0.74746481 0.08636069]]\n",
      "\n",
      " [[0.20579619 0.45022228 0.97346389 0.44549889]\n",
      "  [0.85611179 0.12792555 0.72581758 0.01498471]\n",
      "  [0.00765873 0.84458092 0.09072249 0.86300601]]]\n",
      "Dimension:  3\n",
      "Shape:  (2, 3, 4)\n",
      "Element type:  float64\n"
     ]
    }
   ],
   "source": [
    "# np.random.rand(): for 3-d ndarray\n",
    "\n",
    "arr3 = np.random.rand(2,3,4)  # 2 = depth, 3 = each depth rows and 4 = each depth columns\n",
    "print(arr3)\n",
    "\n",
    "print(\"Dimension: \", arr3.ndim)\n",
    "print(\"Shape: \", arr3.shape)\n",
    "print(\"Element type: \", arr3.dtype)\n"
   ]
  },
  {
   "cell_type": "markdown",
   "id": "5915c4b4",
   "metadata": {},
   "source": [
    "### 2. np.random.randint()"
   ]
  },
  {
   "cell_type": "code",
   "execution_count": null,
   "id": "1b719fe6",
   "metadata": {},
   "outputs": [],
   "source": [
    "# syntax :\n",
    "''''  \n",
    "np.random.randint(start,end,size) -> create an interger random numbers in a given range.\n",
    "\n",
    "- here,\n",
    "    - start -> starting number to generated random numbers (include)\n",
    "    - end  -> end of the random number(no include)\n",
    "    - size -> size of the ndarray (in tuple format)\n",
    "\n",
    "'''"
   ]
  },
  {
   "cell_type": "code",
   "execution_count": 9,
   "id": "ca6ee34a",
   "metadata": {},
   "outputs": [
    {
     "name": "stdout",
     "output_type": "stream",
     "text": [
      "0\n",
      "<class 'int'>\n",
      "5\n"
     ]
    }
   ],
   "source": [
    "# Example: np.random.randint()\n",
    "\n",
    "# for integer numbers\n",
    "\n",
    "arr1 = np.random.randint(5)  # generate a random number 0-4 (5 is not include)\n",
    "\n",
    "print(arr1)\n",
    "# print(\"Dimension: \", arr1.ndim)\n",
    "print(type(arr1))\n",
    "\n",
    "\n",
    "# another way\n",
    "arr11 = np.random.randint(5,10)  # generate a random number 5-9.\n",
    "print(arr11)\n"
   ]
  },
  {
   "cell_type": "code",
   "execution_count": null,
   "id": "c37e6694",
   "metadata": {},
   "outputs": [
    {
     "name": "stdout",
     "output_type": "stream",
     "text": [
      "Array: \n",
      " [9]\n",
      "Type:  <class 'numpy.ndarray'>\n",
      "Dimension:  1\n",
      "Array: \n",
      " [26]\n",
      "Type:  <class 'numpy.ndarray'>\n"
     ]
    }
   ],
   "source": [
    "# for 1-d array\n",
    "\n",
    "arr1 = np.random.randint(10, size=(1,))\n",
    "\n",
    "print(\"Array: \\n\", arr1)\n",
    "print(\"Type: \", type(arr1))\n",
    "\n",
    "print(\"Dimension: \", arr1.ndim)\n",
    "\n",
    "\n",
    "# arr1 = np.random.randint(10,100, size=(1,))\n",
    "# print(\"Array: \\n\", arr1)\n",
    "# print(\"Type: \", type(arr1))"
   ]
  },
  {
   "cell_type": "code",
   "execution_count": null,
   "id": "8b6e4606",
   "metadata": {},
   "outputs": [
    {
     "name": "stdout",
     "output_type": "stream",
     "text": [
      "[[41 37 37 20 17]\n",
      " [33 16 10 43 26]\n",
      " [34 21 27 38 38]\n",
      " [20 21 10 43 42]]\n",
      "Dimension:  2\n",
      "Element data type:  int32\n"
     ]
    }
   ],
   "source": [
    "# for 2-d array: np.random.randint(start,end, size=)\n",
    "\n",
    "\n",
    "arr2 = np.random.randint(10,50,size= (4,5))  # generate (4,5) shape random numbers in range 10 to 49\n",
    "\n",
    "print(arr2)\n",
    "\n",
    "print(\"Dimension: \",arr2.ndim)\n",
    "print(\"Element data type: \", arr2.dtype)\n",
    "\n",
    "\n",
    "# NOTE\n",
    "# - np.random.randint() : create ndarray with random integer in specific Range."
   ]
  },
  {
   "cell_type": "markdown",
   "id": "2db580a9",
   "metadata": {},
   "source": [
    "### 3. np.random.uniform()"
   ]
  },
  {
   "cell_type": "markdown",
   "id": "adba52dd",
   "metadata": {},
   "source": [
    "- syntax:\n",
    "    - np.random.uniform(start,end, size)\n",
    "\n",
    "    - here : end = not include (exclusive)\n",
    "\n",
    "- Generate floating random numbers in range of start and end.\n",
    "- Returns: Array of random floats from uniform distribution"
   ]
  },
  {
   "cell_type": "code",
   "execution_count": null,
   "id": "0a8674de",
   "metadata": {},
   "outputs": [
    {
     "name": "stdout",
     "output_type": "stream",
     "text": [
      "4.91127382316472\n",
      "Type:  <class 'float'>\n"
     ]
    }
   ],
   "source": [
    "# Example: np.random.uniform(start,end,size)\n",
    "\n",
    "# for single number\n",
    "arr1 = np.random.uniform(6) # generate a float random number in between 0-5\n",
    "\n",
    "print(arr1)\n",
    "print(\"Type: \", type(arr1))"
   ]
  },
  {
   "cell_type": "code",
   "execution_count": null,
   "id": "07fc8aac",
   "metadata": {},
   "outputs": [
    {
     "name": "stdout",
     "output_type": "stream",
     "text": [
      "[[ 7.94808524  6.36409747  9.64832847 14.6897642 ]\n",
      " [18.26351372  7.5231286  19.55946357 19.26058361]\n",
      " [16.72590719 19.40965571 16.42150187 14.21718582]]\n",
      "Dimension:  2\n",
      "Element type:  float64\n",
      "[[ 7  6  9 14]\n",
      " [18  7 19 19]\n",
      " [16 19 16 14]]\n",
      "Dimension:  2\n",
      "Element type:  int32\n"
     ]
    }
   ],
   "source": [
    "# for 2-d array : np.random.uniform(start,end,size)\n",
    "\n",
    "arr2 = np.random.uniform(4,20,size = (3,4))  # 3 = rows and 4 = columns\n",
    "\n",
    "print(arr2)\n",
    "print(\"Dimension: \", arr2.ndim)\n",
    "print(\"Element type: \",arr2.dtype)\n",
    "\n",
    "# convert float64 to int32\n",
    "arr2 = arr2.astype(np.int32)\n",
    "\n",
    "print(arr2)\n",
    "print(\"Dimension: \", arr2.ndim)\n",
    "print(\"Element type: \", arr2.dtype)\n",
    "\n"
   ]
  },
  {
   "cell_type": "markdown",
   "id": "e2b47e6d",
   "metadata": {},
   "source": [
    "#### ONE SHORT"
   ]
  },
  {
   "cell_type": "code",
   "execution_count": null,
   "id": "ac205bf5",
   "metadata": {},
   "outputs": [],
   "source": [
    "# np.random.rand(n) -> generate n random number in between 0-1\n",
    "\n",
    "# np.random.randint(range, shape) -> generate integer random number in given range with specific shape\n",
    "\n",
    "# np.random.uniform() -> Generate float numbers in given range with specific shape"
   ]
  },
  {
   "cell_type": "code",
   "execution_count": 1,
   "id": "3969cfbf",
   "metadata": {},
   "outputs": [],
   "source": [
    "import numpy as np"
   ]
  },
  {
   "cell_type": "code",
   "execution_count": 13,
   "id": "dd535a16",
   "metadata": {},
   "outputs": [
    {
     "name": "stdout",
     "output_type": "stream",
     "text": [
      "[0.93223166 0.02078394 0.50662458 0.40129216 0.29127008 0.58181706]\n",
      "[[0.85705127 0.75639196]\n",
      " [0.97939984 0.03921237]\n",
      " [0.65487598 0.86957101]]\n"
     ]
    }
   ],
   "source": [
    "# np.random.rand(num)\n",
    "arr1 = np.random.rand(6)\n",
    "\n",
    "print(arr1)\n",
    "\n",
    "arr1 = np.random.rand(3,2)\n",
    "print(arr1)"
   ]
  },
  {
   "cell_type": "code",
   "execution_count": null,
   "id": "4a14e4d9",
   "metadata": {},
   "outputs": [
    {
     "data": {
      "text/plain": [
       "array([[12,  6,  6],\n",
       "       [ 9, 10,  8],\n",
       "       [19,  9,  5],\n",
       "       [14,  6, 12],\n",
       "       [18, 13,  9]], dtype=int32)"
      ]
     },
     "execution_count": 4,
     "metadata": {},
     "output_type": "execute_result"
    }
   ],
   "source": [
    "# np.random.randint(range, shape)\n",
    "arr2 = np.random.randint(5,20, size=(5,3))\n",
    "\n",
    "arr2"
   ]
  },
  {
   "cell_type": "code",
   "execution_count": null,
   "id": "3623e57e",
   "metadata": {},
   "outputs": [
    {
     "name": "stdout",
     "output_type": "stream",
     "text": [
      "[[ 8.59783215 14.09671121  9.05029662 13.63228109]\n",
      " [ 9.22922809 11.23858634  9.62692178  2.60542261]\n",
      " [13.37333083 12.67702897  9.6183683   5.90853802]\n",
      " [ 2.24020864  4.93898697 14.79393269  7.87463427]\n",
      " [ 5.5358617   5.74945036  2.82992577 12.79986335]\n",
      " [10.24299684  4.79729938 14.05974251 11.71549391]\n",
      " [ 8.10877941  3.61755972  9.30119216  4.3887609 ]]\n"
     ]
    }
   ],
   "source": [
    "# np.random.uniform(range,shape)\n",
    "\n",
    "arr = np.random.uniform(1,15, size=(7,4))\n",
    "\n",
    "print(arr)\n"
   ]
  }
 ],
 "metadata": {
  "kernelspec": {
   "display_name": "base",
   "language": "python",
   "name": "python3"
  },
  "language_info": {
   "codemirror_mode": {
    "name": "ipython",
    "version": 3
   },
   "file_extension": ".py",
   "mimetype": "text/x-python",
   "name": "python",
   "nbconvert_exporter": "python",
   "pygments_lexer": "ipython3",
   "version": "3.13.5"
  }
 },
 "nbformat": 4,
 "nbformat_minor": 5
}
