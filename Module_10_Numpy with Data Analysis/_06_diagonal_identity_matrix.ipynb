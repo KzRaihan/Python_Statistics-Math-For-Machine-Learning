{
 "cells": [
  {
   "cell_type": "markdown",
   "id": "dd92ab32",
   "metadata": {},
   "source": [
    "## Topic: Create Matrix for linear Algebra"
   ]
  },
  {
   "cell_type": "markdown",
   "id": "9d209b57",
   "metadata": {},
   "source": [
    "### OUTCOMES\n",
    "\n",
    "- 1. Diagonal Matrix\n",
    "\n",
    "- 2. Identity Matrix"
   ]
  },
  {
   "cell_type": "markdown",
   "id": "501d7f27",
   "metadata": {},
   "source": [
    "### - 1. Diagonal Matrix"
   ]
  },
  {
   "cell_type": "markdown",
   "id": "864454c2",
   "metadata": {},
   "source": [
    "- A square matrix with zeros everywhere except for the main diagonal.\n",
    "\n",
    "    - square matrix: numbers of rows and columns are equal\n",
    "\n",
    "- Syntax:\n",
    "    - np.diag( v, k = 0)\n",
    "\n",
    "    - here,     \n",
    "        - v = number of values\n",
    "        - k = 0 (Main diagonal)\n",
    "        - k > 0 (upper diagonal)-> shifted diagonal into upper(positive)\n",
    "        - k < 0 (lower diagonal)-> shifted diagonal into lowe (negative) "
   ]
  },
  {
   "cell_type": "code",
   "execution_count": null,
   "id": "5164e4f3",
   "metadata": {},
   "outputs": [],
   "source": [
    "# matrix Representation of Diagonal Marix:\n",
    "'''  \n",
    "| 2  0  0 |\n",
    "| 0  4  0 |\n",
    "| 0  0  6 |\n",
    " \n",
    "'''\n",
    "# here, main diagonal path -> 2 , 4, 6"
   ]
  },
  {
   "cell_type": "code",
   "execution_count": 1,
   "id": "f8089495",
   "metadata": {},
   "outputs": [],
   "source": [
    "import numpy as np"
   ]
  },
  {
   "cell_type": "code",
   "execution_count": null,
   "id": "a94af861",
   "metadata": {},
   "outputs": [
    {
     "name": "stdout",
     "output_type": "stream",
     "text": [
      "[[2 0 0]\n",
      " [0 4 0]\n",
      " [0 0 6]]\n",
      "Element type:  int64\n"
     ]
    }
   ],
   "source": [
    "# Example: Diagonal Matrix \n",
    "\n",
    "arr2 = np.diag([2,4,6], k=0)  # here, 2,4,6 => main diagonal values\n",
    "\n",
    "print(arr2)\n",
    "\n",
    "print(\"Element type: \", arr2.dtype)"
   ]
  },
  {
   "cell_type": "code",
   "execution_count": null,
   "id": "0bccb3d3",
   "metadata": {},
   "outputs": [
    {
     "name": "stdout",
     "output_type": "stream",
     "text": [
      "[[0 1 0 0 0]\n",
      " [0 0 2 0 0]\n",
      " [0 0 0 3 0]\n",
      " [0 0 0 0 4]\n",
      " [0 0 0 0 0]]\n"
     ]
    }
   ],
   "source": [
    "# Example : Shifted Diagonal upper\n",
    "\n",
    "arr2 = np.diag([1,2,3,4], k = 1)\n",
    "\n",
    "print(arr2)\n",
    "\n",
    "\n",
    "### NOTE:\n",
    "# - A diagonal matrix must be a square matrix\n",
    "# - here we only shift the values "
   ]
  },
  {
   "cell_type": "code",
   "execution_count": 9,
   "id": "88db1359",
   "metadata": {},
   "outputs": [
    {
     "name": "stdout",
     "output_type": "stream",
     "text": [
      "[[ 0  0  0  0]\n",
      " [10  0  0  0]\n",
      " [ 0 20  0  0]\n",
      " [ 0  0 30  0]]\n"
     ]
    }
   ],
   "source": [
    "# Shifted Diagonal lower\n",
    "\n",
    "# arr2 = np.diag([0,0,0],-1)\n",
    "\n",
    "arr2 = np.diag([10,20,30], -1)\n",
    "\n",
    "print(arr2)\n",
    "\n"
   ]
  },
  {
   "cell_type": "code",
   "execution_count": null,
   "id": "0113917e",
   "metadata": {},
   "outputs": [
    {
     "name": "stdout",
     "output_type": "stream",
     "text": [
      "Diagonal of arr:  [ 1  6 11]\n",
      "[[ 1  2  3  4]\n",
      " [ 5  6  7  8]\n",
      " [ 9 10 11 12]]\n"
     ]
    }
   ],
   "source": [
    "###  Extracting Diagonal from Matrix\n",
    "\n",
    "arr = np.arange(1,13).reshape(3,4)\n",
    "\n",
    "diagonal_arr = np.diag(arr)\n",
    "\n",
    "print(\"Diagonal of arr: \",diagonal_arr)\n",
    "\n",
    "print(arr)\n",
    "# arr is not a diagonal matrix"
   ]
  },
  {
   "cell_type": "code",
   "execution_count": null,
   "id": "2c7e1d6e",
   "metadata": {},
   "outputs": [
    {
     "name": "stdout",
     "output_type": "stream",
     "text": [
      "[[ 1  2  3  4]\n",
      " [ 5  6  7  8]\n",
      " [ 9 10 11 12]]\n",
      "Shape:  (3, 4)\n",
      "[ 1  6 11]\n"
     ]
    }
   ],
   "source": [
    "# Not diagonal matrix\n",
    "# NOTE: -> if the matrix is not square\n",
    "\n",
    "\n",
    "arr = np.arange(1,13).reshape(3,4)\n",
    "print(arr)\n",
    "\n",
    "print(\"Shape: \", arr.shape) # rows = 3 and columns = 4\n",
    "\n",
    "\n",
    "arr_dia = np.diag(arr)\n",
    "print(arr_dia)\n",
    "\n",
    "\n",
    "# NOTE: here arr is not diagonal matrix"
   ]
  },
  {
   "cell_type": "markdown",
   "id": "b83d0e97",
   "metadata": {},
   "source": [
    "### 2. Identity Matrix"
   ]
  },
  {
   "cell_type": "markdown",
   "id": "c1a147e0",
   "metadata": {},
   "source": [
    "- A special type of diagonal matrix where all main diagonal elements are 1.\n",
    "- off-diagonal elements are zero(0)\n",
    "\n",
    "- Must be a square matrix\n",
    "\n",
    "- syntax:\n",
    "    - 1. np.identity(n, dtype = float)\n",
    "\n",
    "    - 2. np.eye(n,k=0,dtype = float)\n",
    "\n"
   ]
  },
  {
   "cell_type": "code",
   "execution_count": null,
   "id": "0918364d",
   "metadata": {},
   "outputs": [
    {
     "name": "stdout",
     "output_type": "stream",
     "text": [
      "[[1. 0. 0.]\n",
      " [0. 1. 0.]\n",
      " [0. 0. 1.]]\n"
     ]
    }
   ],
   "source": [
    "# Example : Identity Matrix with np.identity(n)\n",
    "# np.identity(n)-> create square identity matrix\n",
    "\n",
    "identity_mat = np.identity(3)\n",
    "\n",
    "print(identity_mat)\n",
    "\n",
    "\n",
    "# np.identity(2,3)-> show error (because 3 count as dtype)"
   ]
  },
  {
   "cell_type": "code",
   "execution_count": null,
   "id": "73a42eae",
   "metadata": {},
   "outputs": [
    {
     "ename": "TypeError",
     "evalue": "only integer scalar arrays can be converted to a scalar index",
     "output_type": "error",
     "traceback": [
      "\u001b[1;31m---------------------------------------------------------------------------\u001b[0m",
      "\u001b[1;31mTypeError\u001b[0m                                 Traceback (most recent call last)",
      "Cell \u001b[1;32mIn[24], line 5\u001b[0m\n\u001b[0;32m      1\u001b[0m \u001b[38;5;66;03m###  Extracting Diagonal from Matrix\u001b[39;00m\n\u001b[0;32m      3\u001b[0m arr \u001b[38;5;241m=\u001b[39m np\u001b[38;5;241m.\u001b[39marange(\u001b[38;5;241m1\u001b[39m,\u001b[38;5;241m10\u001b[39m)\u001b[38;5;241m.\u001b[39mreshape(\u001b[38;5;241m3\u001b[39m,\u001b[38;5;241m3\u001b[39m)\n\u001b[1;32m----> 5\u001b[0m id_arr \u001b[38;5;241m=\u001b[39m np\u001b[38;5;241m.\u001b[39midentity(arr)\n\u001b[0;32m      7\u001b[0m \u001b[38;5;28mprint\u001b[39m(\u001b[38;5;124m\"\u001b[39m\u001b[38;5;124mDiagonal of arr: \u001b[39m\u001b[38;5;124m\"\u001b[39m,id_arr)\n\u001b[0;32m      9\u001b[0m \u001b[38;5;28mprint\u001b[39m(arr)\n",
      "File \u001b[1;32mc:\\Users\\HP\\anaconda3\\Lib\\site-packages\\numpy\\_core\\numeric.py:2243\u001b[0m, in \u001b[0;36midentity\u001b[1;34m(n, dtype, like)\u001b[0m\n\u001b[0;32m   2240\u001b[0m     \u001b[38;5;28;01mreturn\u001b[39;00m _identity_with_like(like, n, dtype\u001b[38;5;241m=\u001b[39mdtype)\n\u001b[0;32m   2242\u001b[0m \u001b[38;5;28;01mfrom\u001b[39;00m\u001b[38;5;250m \u001b[39m\u001b[38;5;21;01mnumpy\u001b[39;00m\u001b[38;5;250m \u001b[39m\u001b[38;5;28;01mimport\u001b[39;00m eye\n\u001b[1;32m-> 2243\u001b[0m \u001b[38;5;28;01mreturn\u001b[39;00m eye(n, dtype\u001b[38;5;241m=\u001b[39mdtype, like\u001b[38;5;241m=\u001b[39mlike)\n",
      "File \u001b[1;32mc:\\Users\\HP\\anaconda3\\Lib\\site-packages\\numpy\\lib\\_twodim_base_impl.py:224\u001b[0m, in \u001b[0;36meye\u001b[1;34m(N, M, k, dtype, order, device, like)\u001b[0m\n\u001b[0;32m    222\u001b[0m \u001b[38;5;28;01mif\u001b[39;00m M \u001b[38;5;129;01mis\u001b[39;00m \u001b[38;5;28;01mNone\u001b[39;00m:\n\u001b[0;32m    223\u001b[0m     M \u001b[38;5;241m=\u001b[39m N\n\u001b[1;32m--> 224\u001b[0m m \u001b[38;5;241m=\u001b[39m zeros((N, M), dtype\u001b[38;5;241m=\u001b[39mdtype, order\u001b[38;5;241m=\u001b[39morder, device\u001b[38;5;241m=\u001b[39mdevice)\n\u001b[0;32m    225\u001b[0m \u001b[38;5;28;01mif\u001b[39;00m k \u001b[38;5;241m>\u001b[39m\u001b[38;5;241m=\u001b[39m M:\n\u001b[0;32m    226\u001b[0m     \u001b[38;5;28;01mreturn\u001b[39;00m m\n",
      "\u001b[1;31mTypeError\u001b[0m: only integer scalar arrays can be converted to a scalar index"
     ]
    }
   ],
   "source": [
    "###  Extracting identity from Matrix is not work -> no-diagonal must be zero\n",
    "\n",
    "arr = np.arange(1,10).reshape(3,3)\n",
    "\n",
    "id_arr = np.identity(arr)\n",
    "\n",
    "print(\"Diagonal of arr: \",id_arr)\n",
    "\n",
    "print(arr)\n",
    "# arr is not a diagonal matrix"
   ]
  },
  {
   "cell_type": "markdown",
   "id": "bfa45db0",
   "metadata": {},
   "source": [
    "#### np.eye(n,k=0,dtype=float)\n",
    "\n",
    "- create square identity and non-square identity matrix"
   ]
  },
  {
   "cell_type": "code",
   "execution_count": 27,
   "id": "5b8316d0",
   "metadata": {},
   "outputs": [
    {
     "name": "stdout",
     "output_type": "stream",
     "text": [
      "[[1 0 0 0]\n",
      " [0 1 0 0]\n",
      " [0 0 1 0]\n",
      " [0 0 0 1]]\n",
      "Shape:  (4, 4)\n",
      "Element type:  int8\n"
     ]
    }
   ],
   "source": [
    "# Square identity: np.eye(n)\n",
    "\n",
    "square_identity = np.eye(4,k=0,dtype=np.int8)\n",
    "\n",
    "print(square_identity)\n",
    "print(\"Shape: \", square_identity.shape)\n",
    "print(\"Element type: \", square_identity.dtype)"
   ]
  },
  {
   "cell_type": "code",
   "execution_count": 31,
   "id": "610ce77e",
   "metadata": {},
   "outputs": [
    {
     "name": "stdout",
     "output_type": "stream",
     "text": [
      "[[0. 1. 0.]\n",
      " [0. 0. 1.]\n",
      " [0. 0. 0.]\n",
      " [0. 0. 0.]]\n",
      "shape:  (4, 3)\n"
     ]
    }
   ],
   "source": [
    "# shifted or non-square identity matrix\n",
    "\n",
    "arr = np.eye(4,3, k = 1) # shift to 2nd column (upper shifted)\n",
    "\n",
    "print(arr)\n",
    "print(\"shape: \", arr.shape)"
   ]
  },
  {
   "cell_type": "code",
   "execution_count": 32,
   "id": "72b8ba55",
   "metadata": {},
   "outputs": [
    {
     "name": "stdout",
     "output_type": "stream",
     "text": [
      "[[0 0 0]\n",
      " [1 0 0]\n",
      " [0 1 0]\n",
      " [0 0 1]]\n"
     ]
    }
   ],
   "source": [
    "# lower shifte \n",
    "arr = np.eye(4,3,k=-1,dtype=np.int8)\n",
    "print(arr)"
   ]
  }
 ],
 "metadata": {
  "kernelspec": {
   "display_name": "base",
   "language": "python",
   "name": "python3"
  },
  "language_info": {
   "codemirror_mode": {
    "name": "ipython",
    "version": 3
   },
   "file_extension": ".py",
   "mimetype": "text/x-python",
   "name": "python",
   "nbconvert_exporter": "python",
   "pygments_lexer": "ipython3",
   "version": "3.13.5"
  }
 },
 "nbformat": 4,
 "nbformat_minor": 5
}
