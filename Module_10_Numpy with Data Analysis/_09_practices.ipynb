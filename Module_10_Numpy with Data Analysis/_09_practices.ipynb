{
 "cells": [
  {
   "cell_type": "markdown",
   "id": "78c3c725",
   "metadata": {},
   "source": [
    "### 1. You have a list of temperatures recorded in Celsius. Your task is to:\n",
    "- Create a NumPy array from the given list.\n",
    "    - Convert all temperatures from Celsius to Fahrenheit. The formula is F = C* 1.8 + 32.\n",
    "    Print the new Fahrenheit array.\n",
    "\n",
    "\n"
   ]
  },
  {
   "cell_type": "code",
   "execution_count": 2,
   "id": "f2564bdb",
   "metadata": {},
   "outputs": [],
   "source": [
    "import numpy as np"
   ]
  },
  {
   "cell_type": "code",
   "execution_count": null,
   "id": "f268e23a",
   "metadata": {},
   "outputs": [
    {
     "name": "stdout",
     "output_type": "stream",
     "text": [
      "[76.1  79.   82.4  86.4  89.25 92.3  84.94 82.06 77.   72.9 ]\n"
     ]
    }
   ],
   "source": [
    "# Solve-1:\n",
    "# List of temperatures recorded in Celsius\n",
    "temp_celsius = [24.5, 26.1, 28.0, 30.2, 31.8, 33.5, 29.4, 27.8, 25.0, 22.7]\n",
    "\n",
    "# convert to ndarray\n",
    "\n",
    "temp_arr = np.array(temp_celsius)\n",
    "\n",
    "# print(temp_arr, type(temp_arr))\n",
    "\n",
    "# convert celsius to Fahrenheit  (F = C* 1.8 + 32).\n",
    "\n",
    "# create empty array\n",
    "far_lst = []\n",
    "\n",
    "\n",
    "for i in np.nditer(temp_arr):\n",
    "    i = i * 1.8 + 32\n",
    "    far_lst.append(i)\n",
    "\n",
    "# convert far_lst to far_arr\n",
    "\n",
    "far_arr = np.array(far_lst, dtype = np.float16)\n",
    "\n",
    "print(far_arr)\n",
    "\n"
   ]
  },
  {
   "cell_type": "markdown",
   "id": "c7633d95",
   "metadata": {},
   "source": [
    "### 2.  You have a Python list containing the lap times (in seconds) for an athlete.\n",
    "\n",
    "- Task:\n",
    "\n",
    "    - 1.  Convert the list into a NumPy array.\n",
    "    \n",
    "    - 2.  Print the array's shape, size, and data type.\n",
    "    \n",
    "    - 3.  The athlete wants to see their times in minutes. Create a new array by dividing all the lap times by 60.\n",
    "    \n",
    "    - 4.  Print the new array of lap times in minutes."
   ]
  },
  {
   "cell_type": "code",
   "execution_count": null,
   "id": "e7c4b0fd",
   "metadata": {},
   "outputs": [
    {
     "name": "stdout",
     "output_type": "stream",
     "text": [
      "Shape:  (8,)\n",
      "Size:  8\n",
      "Data Type:  float64\n",
      "[1.042 1.03  1.054 1.015 0.995 1.021 1.035 1.009]\n"
     ]
    }
   ],
   "source": [
    "# solve-2:\n",
    "# List of lap times (in seconds) for an athlete\n",
    "lap_times = [62.5, 61.8, 63.2, 60.9, 59.7, 61.3, 62.1, 60.5]\n",
    "\n",
    "\n",
    "# 1. convert lst to ndarray\n",
    "\n",
    "lap_arr = np.array(lap_times)\n",
    "\n",
    "# 2. array's shape, size, and data type\n",
    "\n",
    "# print(lap_arr, type(lap_arr))\n",
    "print(\"Shape: \", lap_arr.shape)\n",
    "print(\"Size: \", lap_arr.size)\n",
    "print(\"Data Type: \", lap_arr.dtype)\n",
    "\n",
    "\n",
    "# 3. lap time in minitues\n",
    "lap_min_lst = []\n",
    "\n",
    "for i in np.nditer(lap_arr):\n",
    "    i = i/60\n",
    "    lap_min_lst.append(i)\n",
    "\n",
    "# convert list to array\n",
    "\n",
    "lap_min_arr = np.array(lap_min_lst, dtype=np.float16)\n",
    "\n",
    "print(lap_min_arr)\n",
    "\n"
   ]
  },
  {
   "cell_type": "code",
   "execution_count": null,
   "id": "c8eb399f",
   "metadata": {},
   "outputs": [],
   "source": []
  }
 ],
 "metadata": {
  "kernelspec": {
   "display_name": "base",
   "language": "python",
   "name": "python3"
  },
  "language_info": {
   "codemirror_mode": {
    "name": "ipython",
    "version": 3
   },
   "file_extension": ".py",
   "mimetype": "text/x-python",
   "name": "python",
   "nbconvert_exporter": "python",
   "pygments_lexer": "ipython3",
   "version": "3.13.5"
  }
 },
 "nbformat": 4,
 "nbformat_minor": 5
}
