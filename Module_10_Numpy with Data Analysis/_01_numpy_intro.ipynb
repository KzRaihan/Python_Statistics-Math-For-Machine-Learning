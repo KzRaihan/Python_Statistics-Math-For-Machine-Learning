{
 "cells": [
  {
   "cell_type": "markdown",
   "id": "6698d891",
   "metadata": {},
   "source": [
    "## Topic: 1. Introduction of Numpy Array"
   ]
  },
  {
   "cell_type": "markdown",
   "id": "af220262",
   "metadata": {},
   "source": [
    "### OUTCOMES\n",
    "\n",
    "- 1. Introduction and Create ndarray\n",
    "\n",
    "- 2. ndarray and it's attributes\n",
    "\n",
    "- 3. Changing Data type.\n",
    "\n",
    "- 4. Numpy array vs. Python sequence"
   ]
  },
  {
   "cell_type": "markdown",
   "id": "30bbf3b1",
   "metadata": {},
   "source": [
    "### 1. Introduction and Create ndarray"
   ]
  },
  {
   "cell_type": "markdown",
   "id": "cd3d0f53",
   "metadata": {},
   "source": [
    "- Introduction:\n",
    "    - Numpy refers numerical python.\n",
    "    - it's a library that mainly focus on the numpy array (ndarray).\n",
    "\n",
    "\n",
    "- Definiton of Array:\n",
    "    - An Array is a linear static data structure that store a collection of elements, typically of the same data type in a contiguous block of memory.\n",
    "\n",
    "    - here,\n",
    "        - linear => in memory data to data relation/connection\n",
    "        - static => memory size is fixed.\n",
    "        - same data tyep => homogenous data\n",
    "\n",
    "- Type of array\n",
    "    - 1. 0-d array (scalar).\n",
    "    - 2. 1-d arrary (vector)\n",
    "    - 3. 2-d arrary (Matrics)\n",
    "    - 4. 3-d array (Tensor)\n",
    "    ...................\n",
    "    - nd array\n",
    "\n",
    "\n",
    "\n",
    "- Syntax of ndarra for create:\n",
    "    - arr_name = np.array(sequenc, dtype=none)\n",
    "\n",
    "    - here,\n",
    "        - arr_name like a variable\n",
    "        - np.array() is a function provided by the NumPy library that is used to create an ndarray.\n"
   ]
  },
  {
   "cell_type": "code",
   "execution_count": 3,
   "id": "2d37c576",
   "metadata": {},
   "outputs": [
    {
     "name": "stdout",
     "output_type": "stream",
     "text": [
      "[1 2 3 4 5]\n",
      "<class 'numpy.ndarray'>\n"
     ]
    }
   ],
   "source": [
    "# Example_01: create a ndarry\n",
    "import numpy as np\n",
    "\n",
    "arr = np.array([1,2,3,4,5])\n",
    "\n",
    "print(arr)\n",
    "print(type(arr))\n",
    "# print(arr.dtype)"
   ]
  },
  {
   "cell_type": "code",
   "execution_count": 4,
   "id": "4e938ae4",
   "metadata": {},
   "outputs": [
    {
     "name": "stdout",
     "output_type": "stream",
     "text": [
      "12\n",
      "<class 'numpy.ndarray'>\n"
     ]
    }
   ],
   "source": [
    "# Example: 0-d (scalar) array create\n",
    "# scalar -> A constant or single value that hold a piece of data.\n",
    "\n",
    "arr0 = np.array(12)\n",
    "\n",
    "print(arr0)\n",
    "print(type(arr0))\n",
    "\n",
    "# print(arr.dtype)\n",
    "# print(arr0.ndim)\n"
   ]
  },
  {
   "cell_type": "code",
   "execution_count": 5,
   "id": "211b24d3",
   "metadata": {},
   "outputs": [
    {
     "name": "stdout",
     "output_type": "stream",
     "text": [
      "[1 2 3 4 5 6]\n"
     ]
    }
   ],
   "source": [
    "# Example: 1-d array or vector create\n",
    "\n",
    "# Vector (1-d) : A linear array that holds elements in single row or column.\n",
    "# only one subscript []\n",
    "\n",
    "arr1 = np.array([1,2,3,4,5,6])\n",
    "\n",
    "print(arr1)\n",
    "\n",
    "# print(arr1.ndim)\n"
   ]
  },
  {
   "cell_type": "code",
   "execution_count": null,
   "id": "9c22c15d",
   "metadata": {},
   "outputs": [
    {
     "name": "stdout",
     "output_type": "stream",
     "text": [
      "[[1 2 3]\n",
      " [4 5 6]\n",
      " [7 8 9]]\n"
     ]
    }
   ],
   "source": [
    "# Example : 2-d or Matrix Create\n",
    "\n",
    "# Matrix(2-d): A grid-like structure that holds elements in rows and columns\n",
    "#  -> A Rectangular collection of elements \n",
    "# Represent: Two subsript [[]]\n",
    "\n",
    "\n",
    "arr2 = np.array(\n",
    "    [[1,2,3],\n",
    "    [4,5,6],      # here, rows = 3 and columns = 3\n",
    "    [7,8,9]]\n",
    " )\n",
    "\n",
    "print(arr2)\n",
    "\n",
    "# print(arr2.ndim)\n"
   ]
  },
  {
   "cell_type": "code",
   "execution_count": null,
   "id": "6924f4fa",
   "metadata": {},
   "outputs": [
    {
     "name": "stdout",
     "output_type": "stream",
     "text": [
      "[[[1 2 3]\n",
      "  [4 5 6]\n",
      "  [7 8 9]]\n",
      "\n",
      " [[1 2 3]\n",
      "  [4 5 6]\n",
      "  [7 8 9]]]\n",
      "(2, 3, 3)\n"
     ]
    }
   ],
   "source": [
    "# Example: 3-d or tensor \n",
    "# Tensor(3-d): A 3-d array is collection of 2-d arrays stacked along a third dimension.\n",
    "\n",
    "\n",
    "arr3 = np.array([\n",
    "    [[1,2,3],\n",
    "    [4,5,6],\n",
    "    [7,8,9]],\n",
    "\n",
    "    [[1,2,3],\n",
    "    [4,5,6],\n",
    "    [7,8,9]]\n",
    "\n",
    "\n",
    "])\n",
    "\n",
    "print(arr3)\n",
    "# print(arr3.ndim)\n",
    "# print(arr3.shape)\n",
    "\n",
    "\n",
    "\n",
    "# syntax of 3-d array:\n",
    "# first -> no of depth (2)\n",
    "# 2nd   -> no of rows of each depth (3)\n",
    "# 3rd   -> no of columns of each depth (3)"
   ]
  },
  {
   "cell_type": "markdown",
   "id": "12385dce",
   "metadata": {},
   "source": [
    "### 2. ndarray and it's attribute"
   ]
  },
  {
   "cell_type": "code",
   "execution_count": 14,
   "id": "4eb3dbf3",
   "metadata": {},
   "outputs": [
    {
     "name": "stdout",
     "output_type": "stream",
     "text": [
      "[1 2 3 4]\n",
      "1\n",
      "Array_2 : \n",
      " [[10 20 30]\n",
      " [40 50 60]\n",
      " [70 80 90]]\n",
      "Dimension:  2\n",
      "[[[1 2 3]]\n",
      "\n",
      " [[4 5 6]]]\n",
      "3\n"
     ]
    }
   ],
   "source": [
    "# 1. arr.ndim : return the number of dimension of ndarray\n",
    "\n",
    "arr1 = np.array([1,2,3,4])\n",
    "\n",
    "print(arr1)\n",
    "print(arr1.ndim)  # 1-d array \n",
    "\n",
    "\n",
    "# apply for 2-d \n",
    "\n",
    "arr2 = np.array([[10, 20, 30], [40, 50, 60, ], [70, 80, 90]])\n",
    "\n",
    "print(\"Array_2 : \\n\", arr2)\n",
    "print(\"Dimension: \", arr2.ndim)\n",
    "\n",
    "\n",
    "# apply for 3-d array\n",
    "\n",
    "arr3 = np.array([\n",
    "    [[1,2,3]],\n",
    "    [[4,5,6]]\n",
    "])\n",
    "\n",
    "print(arr3)\n",
    "\n",
    "print(arr3.ndim)"
   ]
  },
  {
   "cell_type": "code",
   "execution_count": null,
   "id": "40ec9496",
   "metadata": {},
   "outputs": [
    {
     "name": "stdout",
     "output_type": "stream",
     "text": [
      "(4,)\n",
      "(3, 3)\n",
      "(2, 1, 3)\n"
     ]
    }
   ],
   "source": [
    "# 2. arr.shape : shape of the ndarray\n",
    "\n",
    "# Example: 1-d\n",
    "\n",
    "print(arr1.shape)  # for 1-d : Return the number of elements\n",
    "\n",
    "# Example: 2-d\n",
    "\n",
    "print(arr2.shape)  # for 2-d: Return the no of rows and columns\n",
    "\n",
    "# Example: 3-d\n",
    "\n",
    "print(arr3.shape) # for 3-d: first depth then each depth no of rows and columns\n"
   ]
  },
  {
   "cell_type": "code",
   "execution_count": null,
   "id": "ee3ca309",
   "metadata": {},
   "outputs": [
    {
     "name": "stdout",
     "output_type": "stream",
     "text": [
      "1-d:  4\n",
      "2-d:  9\n",
      "3-d:  6\n"
     ]
    }
   ],
   "source": [
    "# 3. arr.size : Return totla numbers of element in ndarray\n",
    "\n",
    "print(\"1-d: \", arr1.size) # 4 -> total no of elements in 1-d array\n",
    "print(\"2-d: \", arr2.size) # 9 -> total no of elements in 2-d array\n",
    "print(\"3-d: \", arr3.size) # 6 -> total no of elements in 3-d array"
   ]
  },
  {
   "cell_type": "code",
   "execution_count": null,
   "id": "8426c71d",
   "metadata": {},
   "outputs": [
    {
     "name": "stdout",
     "output_type": "stream",
     "text": [
      "float64\n",
      "float64\n"
     ]
    }
   ],
   "source": [
    "# 4. arr.dtype : Return the type inside the ndarray elements\n",
    "\n",
    "arr_f = np.array([10.5,20.5, 30.2, 60.5])\n",
    "\n",
    "print(arr_f.dtype)\n",
    "\n",
    "# if combine \n",
    "\n",
    "arr_mix = np.array([10, 20.5, 55, 80.56]) # follow upcasting method\n",
    "\n",
    "print(arr_mix.dtype) # float is the bigger than integer"
   ]
  },
  {
   "cell_type": "code",
   "execution_count": null,
   "id": "024c1918",
   "metadata": {},
   "outputs": [
    {
     "name": "stdout",
     "output_type": "stream",
     "text": [
      "8\n",
      "128\n",
      "['10.5' '20.5' 'Hello']\n"
     ]
    }
   ],
   "source": [
    "# 5. arr.itemsize : Return the byte size of each items occupied in memory\n",
    "\n",
    "print(arr_mix.itemsize)  # 8 byte\n",
    "\n",
    "arr_m = np.array([10.5,20.5, \"Hello\"])\n",
    "\n",
    "print(arr_m.itemsize) \n",
    "print(arr_m) "
   ]
  },
  {
   "cell_type": "code",
   "execution_count": null,
   "id": "285dc2f7",
   "metadata": {},
   "outputs": [
    {
     "name": "stdout",
     "output_type": "stream",
     "text": [
      "arr1:  32\n",
      "arr2:  72\n",
      "arr3:  48\n",
      "arr_m:  384\n",
      "32\n"
     ]
    }
   ],
   "source": [
    "# 6. arr.nbytes: Return the total bytes consumed by the ndarray\n",
    "\n",
    "print(\"arr1: \", arr1.nbytes)\n",
    "print(\"arr2: \", arr2.nbytes)\n",
    "print(\"arr3: \", arr3.nbytes)\n",
    "\n",
    "print(\"arr_m: \", arr_m.nbytes)\n",
    "\n",
    "\n",
    "# nbytes: arr.size * arr.itemsize\n",
    "\n",
    "print(arr1.size * arr1.itemsize)"
   ]
  },
  {
   "cell_type": "markdown",
   "id": "429eb2fd",
   "metadata": {},
   "source": [
    "### 3. Changing Data type."
   ]
  },
  {
   "cell_type": "markdown",
   "id": "670af753",
   "metadata": {},
   "source": [
    "- Why need?\n",
    " \n",
    " - Different data types consume different amounts of memory\n",
    "\n",
    "    - int8  uses 1 byte per element\n",
    "    - int16 uses 2 bytes per element\n",
    "    - int32 uses 4 bytes per element.\n",
    "    - int64 uses 8 bytes per element.\n",
    "    - float64 uses 8 bytes, while float32 uses 4 bytes.\n",
    "\n",
    "- To optimise memory usage, we need to change the data types.\n",
    "\n",
    "- Two way to change Data type\n",
    "    - 1. np.array(sequence, dtype = np.int8) then input a sequece type of data is change.\n",
    "\n",
    "    - 2. arr.astype(np.int32) => using astype() function"
   ]
  },
  {
   "cell_type": "code",
   "execution_count": null,
   "id": "58613aa7",
   "metadata": {},
   "outputs": [
    {
     "name": "stdout",
     "output_type": "stream",
     "text": [
      "[10. 20. 30. 40.]\n"
     ]
    }
   ],
   "source": [
    "# Example - 1: np.array() : To convert default nature(int64) to float32\n",
    "\n",
    "lst = [10, 20, 30, 40]\n",
    "\n",
    "lst_float = np.array(lst, dtype= np.float32)  # upcasting to int64 to float32\n",
    "\n",
    "print(lst_float)"
   ]
  },
  {
   "cell_type": "code",
   "execution_count": null,
   "metadata": {},
   "outputs": [
    {
     "name": "stdout",
     "output_type": "stream",
     "text": [
      "[1 2 3 4 5 6]\n",
      "Each item consume memory:  8\n",
      "Total Memory Occupied:  48\n"
     ]
    }
   ],
   "source": [
    "# Example - 1: np.array(sequence, dtype = np.int8) \n",
    "\n",
    "arr = np.array([1,2,3,4,5,6])  # default data type int64\n",
    "\n",
    "print(arr)\n",
    "\n",
    "print(\"Each item consume memory: \", arr.itemsize)\n",
    "print(\"Total Memory Occupied: \", arr.nbytes)"
   ]
  },
  {
   "cell_type": "code",
   "execution_count": null,
   "id": "9b160c19",
   "metadata": {},
   "outputs": [
    {
     "name": "stdout",
     "output_type": "stream",
     "text": [
      "[1 2 3 4 5 6]\n",
      "Each item consume memory:  4\n",
      "Total Memory Occupied:  24\n"
     ]
    }
   ],
   "source": [
    "# Example - 1: np.array(sequence, dtype = np.int8)\n",
    "\n",
    "# upcasting int64 to int32\n",
    "arr = np.array([1,2,3,4,5,6],dtype = np.int32)\n",
    "\n",
    "print(arr)\n",
    "\n",
    "print(\"Each item consume memory: \", arr.itemsize)\n",
    "print(\"Total Memory Occupied: \", arr.nbytes)\n",
    "\n",
    "\n",
    "# This is the difference the above same program total memory consume memory 48 bytes\n",
    "# when we convert into int32 the total memory consume 24 bytes(which is half)"
   ]
  },
  {
   "cell_type": "code",
   "execution_count": null,
   "id": "fb42462d",
   "metadata": {},
   "outputs": [
    {
     "name": "stdout",
     "output_type": "stream",
     "text": [
      "[10.2 11.2 12.5 13.5 14.5]\n",
      "Each item consume memory:  8\n",
      "Total Memory Occupied:  40\n"
     ]
    }
   ],
   "source": [
    "# Example - 2: arr.astype(np.float32)\n",
    "\n",
    "arr64 = np.array([10.2, 11.2,  12.5, 13.5, 14.5])\n",
    "\n",
    "print(arr64)\n",
    "\n",
    "print(\"Each item consume memory: \", arr64.itemsize)\n",
    "print(\"Total Memory Occupied: \", arr64.nbytes)\n",
    "\n"
   ]
  },
  {
   "cell_type": "code",
   "execution_count": null,
   "id": "de5f8172",
   "metadata": {},
   "outputs": [
    {
     "name": "stdout",
     "output_type": "stream",
     "text": [
      "[10.2 11.2 12.5 13.5 14.5]\n",
      "Each item consume memory:  4\n",
      "Total Memory Occupied:  20\n"
     ]
    }
   ],
   "source": [
    "# Example - 2: arr.astype(np.float32)\n",
    "\n",
    "arr64 = np.array([10.2, 11.2,  12.5, 13.5, 14.5],dtype = np.float32)\n",
    "\n",
    "print(arr64)\n",
    "\n",
    "print(\"Each item consume memory: \", arr64.itemsize)\n",
    "print(\"Total Memory Occupied: \", arr64.nbytes)"
   ]
  },
  {
   "cell_type": "code",
   "execution_count": 66,
   "id": "6b4bca25",
   "metadata": {},
   "outputs": [
    {
     "name": "stdout",
     "output_type": "stream",
     "text": [
      "[1 2 3 4 5 6]\n",
      "Total Memoryt Consume:  48\n",
      "[1 2 3 4 5 6]\n",
      "After convert to int8 Total Memoryt Consume:  6\n"
     ]
    }
   ],
   "source": [
    "# Example - 2: arr.astype(np.int8)\n",
    "\n",
    "arr = np.array([1,2, 3,4,5,6])\n",
    "\n",
    "print(arr)\n",
    "print(\"Total Memoryt Consume: \", arr.nbytes)\n",
    "\n",
    "arr = arr.astype(np.int8)\n",
    "print(arr)\n",
    "print(\"After convert to int8 Total Memoryt Consume: \", arr.nbytes)"
   ]
  },
  {
   "cell_type": "code",
   "execution_count": 81,
   "id": "80c2f301",
   "metadata": {},
   "outputs": [
    {
     "name": "stdout",
     "output_type": "stream",
     "text": [
      "[  1 -56  44   4 127   6]\n",
      "After convert to int8 Total Memoryt Consume:  6\n",
      "int8\n"
     ]
    }
   ],
   "source": [
    "# Upcasting careful -> the range values that contain int8 (-127 to 128)\n",
    "ar = np.array([1,200, 300,4,-129,6])\n",
    "\n",
    "# if we try to convert int8 then it's generated\n",
    "\n",
    "ar = ar.astype(np.int8) \n",
    "\n",
    "print(ar)\n",
    "print(\"After convert to int8 Total Memoryt Consume: \", ar.nbytes)\n",
    "print(ar.dtype)\n",
    "\n"
   ]
  },
  {
   "cell_type": "code",
   "execution_count": null,
   "id": "9782a4c7",
   "metadata": {},
   "outputs": [
    {
     "ename": "ValueError",
     "evalue": "could not convert string to float: 'hello'",
     "output_type": "error",
     "traceback": [
      "\u001b[1;31m---------------------------------------------------------------------------\u001b[0m",
      "\u001b[1;31mValueError\u001b[0m                                Traceback (most recent call last)",
      "Cell \u001b[1;32mIn[75], line 5\u001b[0m\n\u001b[0;32m      1\u001b[0m \u001b[38;5;66;03m# upcasting to string\u001b[39;00m\n\u001b[0;32m      3\u001b[0m lst \u001b[38;5;241m=\u001b[39m [\u001b[38;5;241m1\u001b[39m,\u001b[38;5;241m2\u001b[39m,\u001b[38;5;241m3\u001b[39m,\u001b[38;5;241m4\u001b[39m, \u001b[38;5;124m\"\u001b[39m\u001b[38;5;124mhello\u001b[39m\u001b[38;5;124m\"\u001b[39m, \u001b[38;5;241m10.23\u001b[39m]\n\u001b[1;32m----> 5\u001b[0m arr_lst \u001b[38;5;241m=\u001b[39m np\u001b[38;5;241m.\u001b[39marray([lst], dtype\u001b[38;5;241m=\u001b[39mnp\u001b[38;5;241m.\u001b[39mfloat32)\n",
      "\u001b[1;31mValueError\u001b[0m: could not convert string to float: 'hello'"
     ]
    }
   ],
   "source": [
    "# upcasting to string\n",
    "\n",
    "lst = [1,2,3,4, \"hello\", 10.23]\n",
    "\n",
    "arr_lst = np.array([lst], dtype=np.float32) # generate ValueError\n",
    "\n"
   ]
  },
  {
   "cell_type": "code",
   "execution_count": 80,
   "id": "69e05045",
   "metadata": {},
   "outputs": [
    {
     "name": "stdout",
     "output_type": "stream",
     "text": [
      "[[ 1.    2.    3.    4.    2.   10.23]]\n",
      "float32\n"
     ]
    }
   ],
   "source": [
    "# upcasting string to float\n",
    "\n",
    "lst = [1,2,3,4, \"2\", 10.23]\n",
    "arr_lst = np.array([lst], dtype=np.float32) \n",
    "\n",
    "print(arr_lst)\n",
    "print(arr_lst.dtype)\n"
   ]
  },
  {
   "cell_type": "code",
   "execution_count": 79,
   "id": "bba062c1",
   "metadata": {},
   "outputs": [
    {
     "name": "stdout",
     "output_type": "stream",
     "text": [
      "['1' '2' '3' 'h' '10.5']\n",
      "<U32\n"
     ]
    }
   ],
   "source": [
    "# upcasting default data to string\n",
    "\n",
    "arr_str = np.array([1,2,3,'h', 10.50])\n",
    "print(arr_str)\n",
    "print(arr_str.dtype)"
   ]
  },
  {
   "cell_type": "markdown",
   "id": "a9378297",
   "metadata": {},
   "source": [
    "### 4. Numpy array vs Python sequence"
   ]
  },
  {
   "cell_type": "markdown",
   "id": "cbbb5f88",
   "metadata": {},
   "source": [
    "- python sequence (list):\n",
    "    - Heterogeous (not same data type)\n",
    "    - slower to large datasets (because data to data relation is non-linear)\n",
    "    - Perform basic indexing and slicing\n",
    "\n",
    "\n",
    "- ndarray (Numpy Array):\n",
    "    - Homogeneous (same data type of all elements)\n",
    "    - Faster compare to list (Because data to relation is linear)\n",
    "    - support advance indexing and slicing "
   ]
  },
  {
   "cell_type": "code",
   "execution_count": null,
   "id": "49951351",
   "metadata": {},
   "outputs": [
    {
     "name": "stdout",
     "output_type": "stream",
     "text": [
      "1760873581.8352532\n",
      "10\n",
      "20\n",
      "30\n",
      "40\n",
      "50\n",
      "60\n",
      "70\n",
      "80\n",
      "90\n",
      "100\n",
      "Required time to access list element:  0.0004718303680419922\n"
     ]
    }
   ],
   "source": [
    "# Check to list how many to access elements\n",
    "import time \n",
    "\n",
    "lst = [10, 20, 30, 40, 50, 60, 70, 80, 90, 100]\n",
    "\n",
    "current_time = time.time()\n",
    "print(current_time)\n",
    "\n",
    "# access list elements\n",
    "for i in lst:\n",
    "    print(i)\n",
    "now_time = time.time()\n",
    "\n",
    "print(\"Required time to access list element: \",now_time-current_time)"
   ]
  },
  {
   "cell_type": "code",
   "execution_count": null,
   "metadata": {},
   "outputs": [
    {
     "name": "stdout",
     "output_type": "stream",
     "text": [
      "[ 10  20  30  40  50  60  70  80  90 100]\n",
      "Required time to access ndarray element:  0.0003223419189453125\n"
     ]
    }
   ],
   "source": [
    "# Check to ndarray how many to access elements\n",
    "\n",
    "arr = np.array([10, 20, 30, 40, 50, 60, 70, 80, 90, 100])\n",
    "\n",
    "curr_time = time.time()\n",
    "\n",
    "# access element\n",
    "print(arr)\n",
    "\n",
    "n_time = time.time()\n",
    "print(\"Required time to access ndarray element: \",n_time-curr_time)\n",
    "\n",
    "\n",
    "\n"
   ]
  }
 ],
 "metadata": {
  "kernelspec": {
   "display_name": "base",
   "language": "python",
   "name": "python3"
  },
  "language_info": {
   "codemirror_mode": {
    "name": "ipython",
    "version": 3
   },
   "file_extension": ".py",
   "mimetype": "text/x-python",
   "name": "python",
   "nbconvert_exporter": "python",
   "pygments_lexer": "ipython3",
   "version": "3.13.5"
  }
 },
 "nbformat": 4,
 "nbformat_minor": 5
}
