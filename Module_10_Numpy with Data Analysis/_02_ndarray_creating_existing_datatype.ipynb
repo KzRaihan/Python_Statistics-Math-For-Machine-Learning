{
 "cells": [
  {
   "cell_type": "markdown",
   "id": "06e9d0a3",
   "metadata": {},
   "source": [
    "### 2. ndarray Creation form existing data type (list, dic, etc)"
   ]
  },
  {
   "cell_type": "markdown",
   "id": "d0b78f3e",
   "metadata": {},
   "source": [
    "### OUCOMES\n",
    "\n",
    "- 1. List to ndarray\n",
    "\n",
    "- 2. tuple to ndarray\n",
    "\n",
    "- 3. set to ndarry\n",
    "\n",
    "- 4. dic to ndarray\n"
   ]
  },
  {
   "cell_type": "markdown",
   "id": "e25baae6",
   "metadata": {},
   "source": [
    "### 1. List to ndarray"
   ]
  },
  {
   "cell_type": "code",
   "execution_count": 2,
   "id": "4782295f",
   "metadata": {},
   "outputs": [],
   "source": [
    "import numpy as np"
   ]
  },
  {
   "cell_type": "code",
   "execution_count": null,
   "id": "b5dff04f",
   "metadata": {},
   "outputs": [
    {
     "name": "stdout",
     "output_type": "stream",
     "text": [
      "[10 20 30 40 50]\n",
      "Type       :  <class 'numpy.ndarray'>\n",
      "Shape      :  (5,)\n",
      "Dimension  :  1\n",
      "Element type:  int32\n",
      "Memory Need:  20\n"
     ]
    }
   ],
   "source": [
    "# Example: list to ndarray Create\n",
    "\n",
    "lst = [10, 20, 30, 40, 50.44]\n",
    "\n",
    "arr = np.array(lst, dtype = np.int32)\n",
    "\n",
    "print(arr)\n",
    "print(\"Type       : \", type(arr))\n",
    "print(\"Shape      : \", arr.shape)\n",
    "print(\"Dimension  : \", arr.ndim)\n",
    "print(\"Element type: \", arr.dtype)\n",
    "print(\"Memory Need: \", arr.nbytes)\n",
    "\n"
   ]
  },
  {
   "cell_type": "code",
   "execution_count": 12,
   "id": "76c7e540",
   "metadata": {},
   "outputs": [
    {
     "name": "stdout",
     "output_type": "stream",
     "text": [
      "Dimension:  1\n",
      "Shape:  (4,)\n",
      "Size:  4\n",
      "Element type:  <U32\n",
      "Total memory Need:  512\n"
     ]
    }
   ],
   "source": [
    "# List to ndarray create\n",
    "\n",
    "mix_lst = [10, 50.55, \"Kz\", True]\n",
    "\n",
    "arr = np.array(mix_lst)\n",
    "\n",
    "# arr = arr.astype(int32) # -> this show error\n",
    "\n",
    "print(\"Dimension: \", arr.ndim)\n",
    "print(\"Shape: \", arr.shape)\n",
    "print(\"Size: \", arr.size)\n",
    "print(\"Element type: \", arr.dtype)   # <u32 \n",
    "\n",
    "print(\"Total memory Need: \", arr.nbytes)\n",
    "\n",
    "\n"
   ]
  },
  {
   "cell_type": "code",
   "execution_count": null,
   "id": "fbfa4e49",
   "metadata": {},
   "outputs": [
    {
     "ename": "ValueError",
     "evalue": "setting an array element with a sequence. The requested array has an inhomogeneous shape after 1 dimensions. The detected shape was (5,) + inhomogeneous part.",
     "output_type": "error",
     "traceback": [
      "\u001b[1;31m---------------------------------------------------------------------------\u001b[0m",
      "\u001b[1;31mValueError\u001b[0m                                Traceback (most recent call last)",
      "Cell \u001b[1;32mIn[13], line 5\u001b[0m\n\u001b[0;32m      1\u001b[0m \u001b[38;5;66;03m# Example: List to ndarray\u001b[39;00m\n\u001b[0;32m      3\u001b[0m lst_mix \u001b[38;5;241m=\u001b[39m [\u001b[38;5;241m10\u001b[39m, \u001b[38;5;241m20\u001b[39m, [\u001b[38;5;241m30.5\u001b[39m, \u001b[38;5;241m40.5\u001b[39m, \u001b[38;5;241m50.5\u001b[39m], \u001b[38;5;241m60\u001b[39m, \u001b[38;5;241m70\u001b[39m]\n\u001b[1;32m----> 5\u001b[0m arr \u001b[38;5;241m=\u001b[39m np\u001b[38;5;241m.\u001b[39marray(lst_mix)\n\u001b[0;32m      7\u001b[0m \u001b[38;5;28mprint\u001b[39m(arr)\n",
      "\u001b[1;31mValueError\u001b[0m: setting an array element with a sequence. The requested array has an inhomogeneous shape after 1 dimensions. The detected shape was (5,) + inhomogeneous part."
     ]
    }
   ],
   "source": [
    "# Example: List to ndarray\n",
    "\n",
    "lst_mix = [10, 20, [30.5, 40.5, 50.5], 60, 70]\n",
    "\n",
    "arr = np.array(lst_mix)  # ValueError\n",
    "\n",
    "print(arr)\n",
    "\n"
   ]
  },
  {
   "cell_type": "code",
   "execution_count": 19,
   "id": "bf5cbd00",
   "metadata": {},
   "outputs": [
    {
     "name": "stdout",
     "output_type": "stream",
     "text": [
      "[[10 20 30]\n",
      " [40 40 60]]\n",
      "Dimension:  2\n",
      "Shape:  (2, 3)\n",
      "Size:  6\n",
      "Element type:  int32\n",
      "Totla memory:  24\n"
     ]
    }
   ],
   "source": [
    "# Example: List to ndarray\n",
    "\n",
    "matrix = [\n",
    "    [10, 20, 30],\n",
    "    [40, 40, 60]\n",
    "]\n",
    "\n",
    "arr = np.array(matrix, dtype = np.int32)\n",
    "print(arr)\n",
    "\n",
    "print(\"Dimension: \", arr.ndim)\n",
    "print(\"Shape: \", arr.shape)\n",
    "\n",
    "print(\"Size: \", arr.size)\n",
    "print(\"Element type: \", arr.dtype)\n",
    "print(\"Totla memory: \", arr.nbytes)\n"
   ]
  },
  {
   "cell_type": "markdown",
   "id": "01e08b04",
   "metadata": {},
   "source": [
    "### 2. tuple to ndarray"
   ]
  },
  {
   "cell_type": "code",
   "execution_count": 26,
   "id": "abe7ef1c",
   "metadata": {},
   "outputs": [
    {
     "name": "stdout",
     "output_type": "stream",
     "text": [
      "[10 20 30 40 50]\n",
      "<class 'numpy.ndarray'>\n",
      "Element type:  int8\n"
     ]
    }
   ],
   "source": [
    "# tuple to ndarray:\n",
    "\n",
    "tpl = (10, 20, 30, 40, 50)\n",
    "\n",
    "arr = np.array(tpl, dtype = np.int8)\n",
    "print(arr)\n",
    "print(type(arr))\n",
    "\n",
    "print(\"Element type: \", arr.dtype)"
   ]
  },
  {
   "cell_type": "markdown",
   "id": "f31dcb0b",
   "metadata": {},
   "source": [
    "### 3. set to ndarry"
   ]
  },
  {
   "cell_type": "code",
   "execution_count": null,
   "id": "11ac3481",
   "metadata": {},
   "outputs": [
    {
     "name": "stdout",
     "output_type": "stream",
     "text": [
      "{1, 2, 3, 4}\n",
      "Shape:  ()\n",
      "Dimension:  0\n",
      "Element type:  object\n"
     ]
    },
    {
     "ename": "TypeError",
     "evalue": "int() argument must be a string, a bytes-like object or a real number, not 'set'",
     "output_type": "error",
     "traceback": [
      "\u001b[1;31m---------------------------------------------------------------------------\u001b[0m",
      "\u001b[1;31mTypeError\u001b[0m                                 Traceback (most recent call last)",
      "Cell \u001b[1;32mIn[32], line 17\u001b[0m\n\u001b[0;32m     12\u001b[0m \u001b[38;5;28mprint\u001b[39m(\u001b[38;5;124m\"\u001b[39m\u001b[38;5;124mElement type: \u001b[39m\u001b[38;5;124m\"\u001b[39m, arr\u001b[38;5;241m.\u001b[39mdtype) \u001b[38;5;66;03m# object\u001b[39;00m\n\u001b[0;32m     14\u001b[0m \u001b[38;5;66;03m# object to convert to int64\u001b[39;00m\n\u001b[0;32m     15\u001b[0m \u001b[38;5;66;03m# if we try to convert another type then it's generate error\u001b[39;00m\n\u001b[1;32m---> 17\u001b[0m arr \u001b[38;5;241m=\u001b[39m arr\u001b[38;5;241m.\u001b[39mastype(np\u001b[38;5;241m.\u001b[39mint64)\n\u001b[0;32m     18\u001b[0m prit(arr)\n",
      "\u001b[1;31mTypeError\u001b[0m: int() argument must be a string, a bytes-like object or a real number, not 'set'"
     ]
    }
   ],
   "source": [
    "# Set to ndarray\n",
    "\n",
    "# - ndarray -> set's all element count a single elment.\n",
    "\n",
    "st = {1,2,3,4}\n",
    "\n",
    "arr = np.array(st)\n",
    "\n",
    "print(arr)  # print as single value\n",
    "print(\"Shape: \", arr.shape)\n",
    "print(\"Dimension: \", arr.ndim)\n",
    "print(\"Element type: \", arr.dtype) # object\n",
    "\n",
    "\n",
    "# object to convert to int64\n",
    "# if we try to convert another type then it's generate error\n",
    "\n",
    "arr = arr.astype(np.int64)\n",
    "prit(arr)\n"
   ]
  },
  {
   "cell_type": "code",
   "execution_count": null,
   "id": "73e71d1f",
   "metadata": {},
   "outputs": [
    {
     "name": "stdout",
     "output_type": "stream",
     "text": [
      "[1 2 3 4]\n",
      "Element type:  int64\n",
      "[1. 2. 3. 4.]\n",
      "Element type:  float32\n"
     ]
    }
   ],
   "source": [
    "# To solve the above problem(convert set to int64)\n",
    "\n",
    "# 1st convert set to list \n",
    "\n",
    "st = {1,2,3,4}\n",
    "\n",
    "arr = np.array(list(st))\n",
    "\n",
    "print(arr)\n",
    "print(\"Element type: \", arr.dtype)\n",
    "\n",
    "# convert int64 to float32\n",
    "\n",
    "arr = arr.astype(np.float32)\n",
    "print(arr)\n",
    "print(\"Element type: \", arr.dtype)\n",
    "\n",
    "\n",
    "### NOTE-> in set we can't directly convert one data type to another"
   ]
  },
  {
   "cell_type": "markdown",
   "id": "872ad46a",
   "metadata": {},
   "source": [
    "### 4. dic to ndarray"
   ]
  },
  {
   "cell_type": "code",
   "execution_count": 53,
   "id": "2ce3e343",
   "metadata": {},
   "outputs": [
    {
     "name": "stdout",
     "output_type": "stream",
     "text": [
      "['a' 'b' 'c']\n",
      "Element type:  <U1\n",
      "[10 20 30]\n",
      "Elment type of value:  int64\n"
     ]
    }
   ],
   "source": [
    "# dic to ndarray\n",
    "\n",
    "# dic has keys, values , items\n",
    "\n",
    "dct = {\n",
    "    \"a\": 10,\n",
    "    \"b\": 20,\n",
    "    \"c\": 30\n",
    "}\n",
    "\n",
    "# first keys to ndarray\n",
    "# for keys first convert to list\n",
    "keys = dct.keys()\n",
    "arr_keys = np.array(list(keys))\n",
    "\n",
    "print(arr_keys)\n",
    "\n",
    "print(\"Element type: \", arr_keys.dtype)  # <u1 (The keys contain one charcters)\n",
    "\n",
    "\n",
    "# values to ndarray\n",
    "values = dct.values()\n",
    "\n",
    "arr_vals = np.array(list(values))\n",
    "print(arr_vals)\n",
    "print(\"Elment type of value: \", arr_vals.dtype)\n"
   ]
  },
  {
   "cell_type": "code",
   "execution_count": null,
   "id": "4bc7d811",
   "metadata": {},
   "outputs": [],
   "source": []
  },
  {
   "cell_type": "code",
   "execution_count": 54,
   "id": "ae5072c0",
   "metadata": {},
   "outputs": [
    {
     "name": "stdout",
     "output_type": "stream",
     "text": [
      "['ab' 'b' 'c']\n",
      "Element type:  <U2\n",
      "[10. 20. 30.]\n",
      "Elment type of value:  float64\n"
     ]
    }
   ],
   "source": [
    "# dic to ndarray\n",
    "\n",
    "# dic has keys, values , items\n",
    "\n",
    "dct = {\n",
    "    \"ab\": 10,\n",
    "    \"b\": 20,\n",
    "    \"c\": 30.0\n",
    "}\n",
    "\n",
    "# first keys to ndarray\n",
    "# for keys first convert to list\n",
    "keys = dct.keys()\n",
    "arr_keys = np.array(list(keys))\n",
    "\n",
    "print(arr_keys)\n",
    "\n",
    "print(\"Element type: \", arr_keys.dtype)  # <u2 (Because the keys contain 2 characters)\n",
    "\n",
    "\n",
    "# values to ndarray\n",
    "values = dct.values()\n",
    "\n",
    "arr_vals = np.array(list(values))  # float64 (values has a float value)\n",
    "print(arr_vals)\n",
    "print(\"Elment type of value: \", arr_vals.dtype)\n"
   ]
  },
  {
   "cell_type": "code",
   "execution_count": null,
   "id": "8ca7a0c1",
   "metadata": {},
   "outputs": [],
   "source": []
  },
  {
   "cell_type": "code",
   "execution_count": null,
   "id": "6df34cd1",
   "metadata": {},
   "outputs": [
    {
     "name": "stdout",
     "output_type": "stream",
     "text": [
      "['ab' 'b' 'ccc']\n",
      "Element type:  <U3\n"
     ]
    },
    {
     "ename": "ValueError",
     "evalue": "invalid literal for int() with base 10: 'h'",
     "output_type": "error",
     "traceback": [
      "\u001b[1;31m---------------------------------------------------------------------------\u001b[0m",
      "\u001b[1;31mValueError\u001b[0m                                Traceback (most recent call last)",
      "Cell \u001b[1;32mIn[55], line 24\u001b[0m\n\u001b[0;32m     21\u001b[0m \u001b[38;5;66;03m# values to ndarray\u001b[39;00m\n\u001b[0;32m     22\u001b[0m values \u001b[38;5;241m=\u001b[39m dct\u001b[38;5;241m.\u001b[39mvalues()\n\u001b[1;32m---> 24\u001b[0m arr_vals \u001b[38;5;241m=\u001b[39m np\u001b[38;5;241m.\u001b[39marray(\u001b[38;5;28mlist\u001b[39m(values), dtype \u001b[38;5;241m=\u001b[39m np\u001b[38;5;241m.\u001b[39mint32)\n\u001b[0;32m     25\u001b[0m \u001b[38;5;28mprint\u001b[39m(arr_vals)\n\u001b[0;32m     26\u001b[0m \u001b[38;5;28mprint\u001b[39m(\u001b[38;5;124m\"\u001b[39m\u001b[38;5;124mElment type of value: \u001b[39m\u001b[38;5;124m\"\u001b[39m, arr_vals\u001b[38;5;241m.\u001b[39mdtype)\n",
      "\u001b[1;31mValueError\u001b[0m: invalid literal for int() with base 10: 'h'"
     ]
    }
   ],
   "source": [
    "# dic to ndarray\n",
    "\n",
    "# dic has keys, values , items\n",
    "\n",
    "dct = {\n",
    "    \"ab\": 10,\n",
    "    \"b\": \"h\",\n",
    "    \"ccc\": 30.0\n",
    "}\n",
    "\n",
    "# first keys to ndarray\n",
    "# for keys first convert to list\n",
    "keys = dct.keys()\n",
    "arr_keys = np.array(list(keys))\n",
    "\n",
    "print(arr_keys)\n",
    "\n",
    "print(\"Element type: \", arr_keys.dtype)  # <u3 (keys contains 3 characters)\n",
    "\n",
    "\n",
    "# values to ndarray\n",
    "values = dct.values()\n",
    "\n",
    "arr_vals = np.array(list(values), dtype = np.int32)  # we can't convert string to int32\n",
    "print(arr_vals)\n",
    "print(\"Elment type of value: \", arr_vals.dtype)\n"
   ]
  }
 ],
 "metadata": {
  "kernelspec": {
   "display_name": "base",
   "language": "python",
   "name": "python3"
  },
  "language_info": {
   "codemirror_mode": {
    "name": "ipython",
    "version": 3
   },
   "file_extension": ".py",
   "mimetype": "text/x-python",
   "name": "python",
   "nbconvert_exporter": "python",
   "pygments_lexer": "ipython3",
   "version": "3.13.5"
  }
 },
 "nbformat": 4,
 "nbformat_minor": 5
}
