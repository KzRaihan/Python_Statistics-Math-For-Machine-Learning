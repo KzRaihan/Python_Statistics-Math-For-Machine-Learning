{
 "cells": [
  {
   "cell_type": "markdown",
   "id": "41f8bb8b",
   "metadata": {},
   "source": [
    "## Topic: ndarry generates with range"
   ]
  },
  {
   "cell_type": "markdown",
   "id": "0e75a0ef",
   "metadata": {},
   "source": [
    "### OUTCOMES\n",
    "\n",
    "- 1. np.arange()\n",
    "\n",
    "- 2. np.arange() with reshape()\n",
    "\n",
    "- 3. np.linspace()\n",
    "\n",
    "- 4. np.lognspace()"
   ]
  },
  {
   "cell_type": "markdown",
   "id": "8ca80b56",
   "metadata": {},
   "source": [
    "### 1. np.arange()"
   ]
  },
  {
   "cell_type": "markdown",
   "id": "342fafbc",
   "metadata": {},
   "source": [
    "- Generate deterministic sequences (we can predict the next numbers)\n",
    "\n",
    "- syntax:\n",
    "    - np.range(start,end,step,dtype= none)\n",
    "\n",
    "    - here,\n",
    "        - start => 0 (by defalut) and is't include\n",
    "        - end   => len(array) and it's not include (exclusive)\n",
    "        - step  => 1  \n",
    "\n",
    "- np.arange() return 1-d array.\n",
    "- it's can't provide the 2-d array. if we need 2-d array then we use .reshape() function"
   ]
  },
  {
   "cell_type": "code",
   "execution_count": 1,
   "id": "8313ed83",
   "metadata": {},
   "outputs": [],
   "source": [
    "import numpy as np"
   ]
  },
  {
   "cell_type": "code",
   "execution_count": null,
   "id": "d40a9f55",
   "metadata": {},
   "outputs": [
    {
     "name": "stdout",
     "output_type": "stream",
     "text": [
      "[1 2 3 4 5 6 7 8 9]\n",
      "Dimension:  1\n",
      "Size:  9\n",
      "Element type:  int64\n",
      "[ 2  4  6  8 10 12 14 16 18]\n",
      "Dimension:  1\n",
      "Size:  9\n",
      "Element type:  int8\n"
     ]
    }
   ],
   "source": [
    "# np.arange() -> similare to range \n",
    "\n",
    "# 1-d:\n",
    "arr1 = np.arange(1,10)  # give the numbers in between 1-9\n",
    "print(arr1)\n",
    "\n",
    "print(\"Dimension: \", arr1.ndim)\n",
    "\n",
    "print(\"Size: \", arr1.size)\n",
    "print(\"Element type: \", arr1.dtype) # default behavior\n",
    "\n",
    "\n",
    "# case - 2 for steps\n",
    "arr1 = np.arange(2,20,2, dtype = np.int8)  # steps = 2\n",
    "print(arr1) \n",
    "\n",
    "print(\"Dimension: \", arr1.ndim)\n",
    "\n",
    "print(\"Size: \", arr1.size)\n",
    "print(\"Element type: \", arr1.dtype) # customize the default behavior\n",
    "\n"
   ]
  },
  {
   "cell_type": "code",
   "execution_count": null,
   "id": "4d33178d",
   "metadata": {},
   "outputs": [
    {
     "ename": "TypeError",
     "evalue": "Cannot interpret '2' as a data type",
     "output_type": "error",
     "traceback": [
      "\u001b[1;31m---------------------------------------------------------------------------\u001b[0m",
      "\u001b[1;31mTypeError\u001b[0m                                 Traceback (most recent call last)",
      "Cell \u001b[1;32mIn[15], line 3\u001b[0m\n\u001b[0;32m      1\u001b[0m \u001b[38;5;66;03m# 2-d : for np.arange()\u001b[39;00m\n\u001b[1;32m----> 3\u001b[0m arr2 \u001b[38;5;241m=\u001b[39m np\u001b[38;5;241m.\u001b[39marange(\u001b[38;5;241m1\u001b[39m,\u001b[38;5;241m11\u001b[39m,\u001b[38;5;241m1\u001b[39m, (\u001b[38;5;241m2\u001b[39m,\u001b[38;5;241m5\u001b[39m))\n\u001b[0;32m      5\u001b[0m \u001b[38;5;28mprint\u001b[39m(arr2)\n",
      "\u001b[1;31mTypeError\u001b[0m: Cannot interpret '2' as a data type"
     ]
    }
   ],
   "source": [
    "# 2-d : for np.arange()\n",
    "\n",
    "arr2 = np.arange(1,11,1, (2,5))\n",
    "\n",
    "print(arr2)\n",
    "\n",
    "\n",
    "# NOTE: \n",
    "# - We can't directly create 2-d array by using np.arange()"
   ]
  },
  {
   "cell_type": "markdown",
   "id": "0d3acab2",
   "metadata": {},
   "source": [
    "### 2. np.range() with reshape()"
   ]
  },
  {
   "cell_type": "code",
   "execution_count": null,
   "id": "6a280b60",
   "metadata": {},
   "outputs": [
    {
     "name": "stdout",
     "output_type": "stream",
     "text": [
      "Array1 : \n",
      " [1 2 3 4 5 6 7 8 9]\n",
      "Dimension:  1\n",
      "Array2: \n",
      " [[1 2 3]\n",
      " [4 5 6]\n",
      " [7 8 9]]\n",
      "Dimension:  2\n"
     ]
    }
   ],
   "source": [
    "# reshape() -> changing the structure of an array without chaning it's data.\n",
    "\n",
    "# example: \n",
    "arr = np.array([1,2,3,4,5,6,7,8,9])\n",
    "\n",
    "print(\"Array1 : \\n\", arr)\n",
    "print(\"Dimension: \", arr.ndim)\n",
    "\n",
    "# use reshape\n",
    "\n",
    "arr1 = arr.reshape(3,3)  # 3 = rows and 3 = columns\n",
    "\n",
    "print(\"Array2: \\n\",arr1)\n",
    "print(\"Dimension: \", arr1.ndim)\n",
    "\n",
    "# the other posible way to reshape\n",
    "# arr1 = arr.reshape(1,9)\n",
    "# arr1 = arr.reshape(9,1)\n",
    "\n",
    "# NOTE:\n",
    "# - reshape(rows, cols) must be equal to the total numbers of elements"
   ]
  },
  {
   "cell_type": "code",
   "execution_count": null,
   "id": "58acd2d8",
   "metadata": {},
   "outputs": [
    {
     "name": "stdout",
     "output_type": "stream",
     "text": [
      "[[ 1  2  3  4]\n",
      " [ 5  6  7  8]\n",
      " [ 9 10 11 12]]\n",
      "Dimension:  2\n",
      "shape:  (3, 4)\n",
      "Element data type:  int64\n"
     ]
    }
   ],
   "source": [
    "# reshape with np.arange()\n",
    "# 2-d\n",
    "arr2 = np.arange(1,13).reshape(3,4)   # start num = 1 and end num = 12 and step = 1\n",
    "\n",
    "print(arr2)\n",
    "print(\"Dimension: \", arr2.ndim)\n",
    "print(\"shape: \", arr2.shape)\n",
    "print(\"Element data type: \", arr2.dtype)\n"
   ]
  },
  {
   "cell_type": "code",
   "execution_count": null,
   "id": "7080a57c",
   "metadata": {},
   "outputs": [
    {
     "name": "stdout",
     "output_type": "stream",
     "text": [
      "[[[ 1  2  3  4]\n",
      "  [ 5  6  7  8]\n",
      "  [ 9 10 11 12]]\n",
      "\n",
      " [[13 14 15 16]\n",
      "  [17 18 19 20]\n",
      "  [21 22 23 24]]]\n",
      "Dimension:  3\n",
      "size:  24\n",
      "Element type:  int16\n"
     ]
    }
   ],
   "source": [
    "# reshape with np.arange()\n",
    "\n",
    "# 3-d\n",
    "\n",
    "arr3 = np.arange(1,25,dtype = np.int16).reshape(2,3,4)   # 2 = depth , 3 = each depth rows and 4 = each depth columns\n",
    "\n",
    "print(arr3)\n",
    "print(\"Dimension: \", arr3.ndim)\n",
    "print(\"size: \", arr3.size)\n",
    "print(\"Element type: \", arr3.dtype)"
   ]
  },
  {
   "cell_type": "code",
   "execution_count": 33,
   "id": "c87cabb0",
   "metadata": {},
   "outputs": [
    {
     "name": "stdout",
     "output_type": "stream",
     "text": [
      "[ 2  4  6  8 10 12 14 16 18 20]\n",
      "Dimension:  1\n",
      "[[ 2  4  6  8 10]\n",
      " [12 14 16 18 20]]\n",
      "Dimension:  2\n",
      "Shape:  (2, 5)\n"
     ]
    }
   ],
   "source": [
    "# reshape with np.arange()\n",
    "\n",
    "arr2 = np.arange(2,21,2)\n",
    "\n",
    "print(arr2)\n",
    "print(\"Dimension: \", arr2.ndim)\n",
    "\n",
    "\n",
    "# apply reshape\n",
    "\n",
    "arr2 = arr2.reshape(2,5)\n",
    "print(arr2)\n",
    "print(\"Dimension: \", arr2.ndim)\n",
    "print(\"Shape: \", arr2.shape)\n"
   ]
  },
  {
   "cell_type": "markdown",
   "id": "f8d9d3f4",
   "metadata": {},
   "source": [
    "### 3. np.linspace(range, num = n)"
   ]
  },
  {
   "cell_type": "markdown",
   "id": "0377a950",
   "metadata": {},
   "source": [
    "- linearly generated numbers\n",
    "\n",
    "- syntax:\n",
    "    - np.linspace(start,stop,step,total_num)\n",
    "\n",
    "    - here,\n",
    "        - start = 0 (include)\n",
    "        - stop = length of array (include)\n",
    "        - total_num = Numbers that we want to generated\n"
   ]
  },
  {
   "cell_type": "code",
   "execution_count": 35,
   "id": "44c00f71",
   "metadata": {},
   "outputs": [
    {
     "name": "stdout",
     "output_type": "stream",
     "text": [
      "[1. 2. 3. 4. 5.]\n",
      "Dimension:  1\n"
     ]
    }
   ],
   "source": [
    "# Example: np.linspace(star,stop,step, total_num)\n",
    "\n",
    "\n",
    "arr1 = np.linspace(1,5,5) # start = 1, stop = 5 and total number genrator = 5\n",
    "print(arr1)\n",
    "\n",
    "print(\"Dimension: \", arr1.ndim)\n"
   ]
  },
  {
   "cell_type": "code",
   "execution_count": 5,
   "id": "428d58d7",
   "metadata": {},
   "outputs": [
    {
     "name": "stdout",
     "output_type": "stream",
     "text": [
      "[1. 3. 5.]\n"
     ]
    }
   ],
   "source": [
    "arr = np.linspace(1,5,num = 3)\n",
    "print(arr)"
   ]
  },
  {
   "cell_type": "code",
   "execution_count": 4,
   "id": "cf9eb97d",
   "metadata": {},
   "outputs": [
    {
     "name": "stdout",
     "output_type": "stream",
     "text": [
      "[ 1.    3.25  5.5   7.75 10.  ]\n"
     ]
    }
   ],
   "source": [
    "arr = np.linspace(1,10, num = 5)\n",
    "print(arr)  # generate 5 numbers in between 1-10 but nums are linearly seperator."
   ]
  },
  {
   "cell_type": "code",
   "execution_count": 37,
   "id": "6b2d681a",
   "metadata": {},
   "outputs": [
    {
     "name": "stdout",
     "output_type": "stream",
     "text": [
      "[[ 1.  2.  3.  4.]\n",
      " [ 5.  6.  7.  8.]\n",
      " [ 9. 10. 11. 12.]]\n"
     ]
    }
   ],
   "source": [
    "# 2-d ndarray\n",
    "\n",
    "arr2 = np.linspace(1,12,num = 12).reshape(3,4)\n",
    "\n",
    "print(arr2)\n"
   ]
  },
  {
   "cell_type": "code",
   "execution_count": null,
   "id": "f6232f4b",
   "metadata": {},
   "outputs": [],
   "source": [
    "'''  \n",
    "start = 0 (include)\n",
    "end = 10  (include)\n",
    "total number = 5\n",
    "\n",
    "- Two numbers are include (star - 0 and end- 10) \n",
    "5 - 2 = 3\n",
    "\n",
    "| 0  | 2.5 | 5.0 | 7.5 | 10 |\n",
    "\n",
    "\n",
    "- here, \n",
    "  2.5 - 0 = 2.5\n",
    "  5.0 - 2.5 = 2.5\n",
    "  7.5 - 2.5 = 5.0\n",
    "  10.0 - 2.5 = 7.5\n",
    "  7.5 + 2. 5 = 10.0\n",
    "\n",
    "\n",
    "'''"
   ]
  },
  {
   "cell_type": "code",
   "execution_count": 9,
   "id": "bbac9eaf",
   "metadata": {},
   "outputs": [
    {
     "ename": "ValueError",
     "evalue": "cannot reshape array of size 5 into shape (3,4)",
     "output_type": "error",
     "traceback": [
      "\u001b[1;31m---------------------------------------------------------------------------\u001b[0m",
      "\u001b[1;31mValueError\u001b[0m                                Traceback (most recent call last)",
      "Cell \u001b[1;32mIn[9], line 1\u001b[0m\n\u001b[1;32m----> 1\u001b[0m arr2 \u001b[38;5;241m=\u001b[39m np\u001b[38;5;241m.\u001b[39mlinspace(\u001b[38;5;241m1\u001b[39m, \u001b[38;5;241m12\u001b[39m,num\u001b[38;5;241m=\u001b[39m\u001b[38;5;241m5\u001b[39m)\u001b[38;5;241m.\u001b[39mreshape(\u001b[38;5;241m3\u001b[39m,\u001b[38;5;241m4\u001b[39m)\n\u001b[0;32m      3\u001b[0m \u001b[38;5;28mprint\u001b[39m(arr2)\n",
      "\u001b[1;31mValueError\u001b[0m: cannot reshape array of size 5 into shape (3,4)"
     ]
    }
   ],
   "source": [
    "arr2 = np.linspace(1, 12,num=5).reshape(3,4)\n",
    "\n",
    "print(arr2)"
   ]
  },
  {
   "cell_type": "markdown",
   "id": "18363166",
   "metadata": {},
   "source": [
    "### 4. np.lognspace()"
   ]
  },
  {
   "cell_type": "code",
   "execution_count": null,
   "id": "c8938da9",
   "metadata": {},
   "outputs": [
    {
     "name": "stdout",
     "output_type": "stream",
     "text": [
      "[1.e+00 1.e+01 1.e+02 1.e+03 1.e+04]\n"
     ]
    }
   ],
   "source": [
    "# Syntax of np.lognspace()\n",
    "# np.lognspace(start,stop,total_nums, base=10)\n",
    "# stop -> include\n",
    "\n",
    "arr = np.logspace(0,4,5)\n",
    "print(arr)\n",
    "\n",
    "'''\n",
    "start num = 0 (include)\n",
    "\n",
    "stop num = 10\n",
    "\n",
    "wihtin 0 to 10 creates 5 , 10 base log\n",
    "\n",
    "''' \n",
    "\n"
   ]
  },
  {
   "cell_type": "code",
   "execution_count": 10,
   "id": "d71d570f",
   "metadata": {},
   "outputs": [
    {
     "name": "stdout",
     "output_type": "stream",
     "text": [
      "[[1.000e+00 4.000e+00 1.600e+01]\n",
      " [6.400e+01 2.560e+02 1.024e+03]]\n",
      "Dimension:  2\n",
      "Element type : float64\n",
      "Shape :  (2, 3)\n"
     ]
    }
   ],
   "source": [
    "# when change the default base to 2\n",
    "\n",
    "arr2 = np.logspace(0,10,num = 6, base = 2).reshape(2,3)\n",
    "\n",
    "print(arr2)\n",
    "\n",
    "print(\"Dimension: \", arr2.ndim)\n",
    "\n",
    "print(\"Element type :\", arr2.dtype)\n",
    "\n",
    "print(\"Shape : \", arr2.shape)\n",
    "\n"
   ]
  },
  {
   "cell_type": "markdown",
   "id": "9e2410d8",
   "metadata": {},
   "source": [
    "### ONE SHORT\n",
    "\n",
    "- These are function create or return 1-d array and we will determine the next generate numbers.\n",
    "- if we need to convert 1-d array to 2-d array then we use reshape()\n",
    "- when use reshape() then be carefull because number of generated nums must be same (in 1-d and 2-d)."
   ]
  },
  {
   "cell_type": "code",
   "execution_count": 11,
   "id": "65efecb0",
   "metadata": {},
   "outputs": [
    {
     "name": "stdout",
     "output_type": "stream",
     "text": [
      "[1 2 3 4 5 6 7 8 9]\n"
     ]
    }
   ],
   "source": [
    "# np.arange(range)\n",
    "\n",
    "arr1 = np.arange(1,10)\n",
    "print(arr1)"
   ]
  },
  {
   "cell_type": "code",
   "execution_count": 15,
   "id": "36db95f4",
   "metadata": {},
   "outputs": [
    {
     "name": "stdout",
     "output_type": "stream",
     "text": [
      "[[ 1  2  3  4  5]\n",
      " [ 6  7  8  9 10]]\n"
     ]
    }
   ],
   "source": [
    "# np.arange(range).reshape()\n",
    "\n",
    "arr1 = np.arange(1,11).reshape(2,5)\n",
    "print(arr1)"
   ]
  },
  {
   "cell_type": "code",
   "execution_count": 18,
   "id": "24b8ba58",
   "metadata": {},
   "outputs": [
    {
     "name": "stdout",
     "output_type": "stream",
     "text": [
      "[ 2.   5.6  9.2 12.8 16.4 20. ]\n"
     ]
    }
   ],
   "source": [
    "# np.linspace(range, num=n)\n",
    "\n",
    "arr2 = np.linspace(2,20, num = 6)\n",
    "\n",
    "print(arr2)"
   ]
  },
  {
   "cell_type": "code",
   "execution_count": null,
   "id": "d8274e50",
   "metadata": {},
   "outputs": [
    {
     "name": "stdout",
     "output_type": "stream",
     "text": [
      "Array: \n",
      " [[ 1.          1.65517241  2.31034483  2.96551724  3.62068966  4.27586207]\n",
      " [ 4.93103448  5.5862069   6.24137931  6.89655172  7.55172414  8.20689655]\n",
      " [ 8.86206897  9.51724138 10.17241379 10.82758621 11.48275862 12.13793103]\n",
      " [12.79310345 13.44827586 14.10344828 14.75862069 15.4137931  16.06896552]\n",
      " [16.72413793 17.37931034 18.03448276 18.68965517 19.34482759 20.        ]]\n",
      "\n",
      "Total numbers:  30\n"
     ]
    }
   ],
   "source": [
    "# np.linspace(range, num= n).reshape()\n",
    "\n",
    "arr2 = np.linspace(1,20, num = 30).reshape(5,6)\n",
    "\n",
    "print(\"Array: \\n\", arr2)\n",
    "print(\"\\nTotal numbers: \", arr2.size)\n",
    "\n",
    "# num == shape\n",
    "# here = 30\n",
    "# shape = 5,6  (5*6 = 30)\n",
    "\n",
    "# 30 == 30 (it's posible)"
   ]
  },
  {
   "cell_type": "code",
   "execution_count": 24,
   "id": "d2e4aca8",
   "metadata": {},
   "outputs": [
    {
     "name": "stdout",
     "output_type": "stream",
     "text": [
      "[1.00000000e+01 1.77827941e+03 3.16227766e+05 5.62341325e+07\n",
      " 1.00000000e+10]\n"
     ]
    }
   ],
   "source": [
    "# np.logspace(range, num = n, base = 10)\n",
    "\n",
    "arr1 = np.logspace(1,10, num=5, base= 10)\n",
    "\n",
    "print(arr1)"
   ]
  },
  {
   "cell_type": "code",
   "execution_count": null,
   "id": "ed4f234c",
   "metadata": {},
   "outputs": [
    {
     "name": "stdout",
     "output_type": "stream",
     "text": [
      "[[4.00000000e+00 6.42728981e+00 1.03275136e+01 1.65944807e+01\n",
      "  2.66643842e+01]\n",
      " [4.28449312e+01 6.88441975e+01 1.10620402e+02 1.77747346e+02\n",
      "  2.85608427e+02]\n",
      " [4.58922033e+02 7.37406227e+02 1.18488088e+03 1.90389321e+03\n",
      "  3.05921835e+03]\n",
      " [4.91562074e+03 7.89852978e+03 1.26915350e+04 2.03930434e+04\n",
      "  3.27680000e+04]]\n"
     ]
    }
   ],
   "source": [
    "# np.logspace(range, num = n, base = 10).reshape()\n",
    "\n",
    "\n",
    "arr2 = np.logspace(2, 15, num = 20, base = 2).reshape(4,5)\n",
    "\n",
    "print(arr2)\n",
    "\n",
    "\n",
    "# start num = 2 and end num = 15 and step = 1\n",
    "\n",
    "# total generate nums = 15\n",
    "\n",
    "# reshape = 4,5 (so 4*5 = 20)\n"
   ]
  },
  {
   "cell_type": "code",
   "execution_count": null,
   "id": "6b221c88",
   "metadata": {},
   "outputs": [],
   "source": [
    "# Quiz:\n",
    "''' \n",
    "\n",
    "What is the output of list(filter(lambda x: x%2==0, [1,2,3,4]))?\n",
    "\n",
    "A. [1,3]\n",
    "\n",
    "B. [2,4]\n",
    "\n",
    "C. [1,2,3,4]\n",
    "\n",
    "D . []\n",
    "\n",
    "'''"
   ]
  }
 ],
 "metadata": {
  "kernelspec": {
   "display_name": "base",
   "language": "python",
   "name": "python3"
  },
  "language_info": {
   "codemirror_mode": {
    "name": "ipython",
    "version": 3
   },
   "file_extension": ".py",
   "mimetype": "text/x-python",
   "name": "python",
   "nbconvert_exporter": "python",
   "pygments_lexer": "ipython3",
   "version": "3.13.5"
  }
 },
 "nbformat": 4,
 "nbformat_minor": 5
}
