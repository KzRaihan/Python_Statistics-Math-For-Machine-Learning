{
 "cells": [
  {
   "cell_type": "markdown",
   "id": "41f8bb8b",
   "metadata": {},
   "source": [
    "## Topic: 5. ndarry generation with range"
   ]
  },
  {
   "cell_type": "markdown",
   "id": "0e75a0ef",
   "metadata": {},
   "source": [
    "### OUTCOMES\n",
    "\n",
    "- 1. np.arange()\n",
    "\n",
    "- 2. np.arange() with reshape()\n",
    "\n",
    "- 3. np.linspace()\n",
    "\n",
    "- 4. np.lognspace()"
   ]
  },
  {
   "cell_type": "markdown",
   "id": "8ca80b56",
   "metadata": {},
   "source": [
    "### 1. np.arange()"
   ]
  },
  {
   "cell_type": "markdown",
   "id": "342fafbc",
   "metadata": {},
   "source": [
    "- Generate deterministic sequences\n",
    "\n",
    "- syntax:\n",
    "    - np.range(start,end,step,dtype= none)\n",
    "\n",
    "    - here,\n",
    "        - start => 0 (by defalut) and is't include\n",
    "        - end   => len(array) and it's not include (exclusive)\n",
    "        - step  => 1  \n",
    "\n",
    "- np.arange() return 1-d array.\n",
    "- it's can't product the 2-d array. if we need 2-d array then we use .reshape()."
   ]
  },
  {
   "cell_type": "code",
   "execution_count": 1,
   "id": "8313ed83",
   "metadata": {},
   "outputs": [],
   "source": [
    "import numpy as np"
   ]
  },
  {
   "cell_type": "code",
   "execution_count": null,
   "id": "d40a9f55",
   "metadata": {},
   "outputs": [
    {
     "name": "stdout",
     "output_type": "stream",
     "text": [
      "[1 2 3 4 5 6 7 8 9]\n",
      "Dimension:  1\n",
      "Size:  9\n",
      "Element type:  int64\n",
      "[ 1  3  5  7  9 11 13 15 17 19]\n",
      "Dimension:  1\n",
      "Size:  10\n",
      "Element type:  int8\n"
     ]
    }
   ],
   "source": [
    "# np.arange() -> similare to range \n",
    "\n",
    "# 1-d:\n",
    "arr1 = np.arange(1,10)  # give the numbers in between 1-9\n",
    "print(arr1)\n",
    "\n",
    "print(\"Dimension: \", arr1.ndim)\n",
    "\n",
    "print(\"Size: \", arr1.size)\n",
    "print(\"Element type: \", arr1.dtype)\n",
    "\n",
    "\n",
    "# case - 2 for steps\n",
    "arr1 = np.arange(1,20,2, dtype = np.int8)  # steps = 2\n",
    "print(arr1)\n",
    "\n",
    "print(\"Dimension: \", arr1.ndim)\n",
    "\n",
    "print(\"Size: \", arr1.size)\n",
    "print(\"Element type: \", arr1.dtype)\n",
    "\n"
   ]
  },
  {
   "cell_type": "code",
   "execution_count": null,
   "id": "4d33178d",
   "metadata": {},
   "outputs": [
    {
     "ename": "TypeError",
     "evalue": "Cannot interpret '2' as a data type",
     "output_type": "error",
     "traceback": [
      "\u001b[1;31m---------------------------------------------------------------------------\u001b[0m",
      "\u001b[1;31mTypeError\u001b[0m                                 Traceback (most recent call last)",
      "Cell \u001b[1;32mIn[15], line 3\u001b[0m\n\u001b[0;32m      1\u001b[0m \u001b[38;5;66;03m# 2-d : for np.arange()\u001b[39;00m\n\u001b[1;32m----> 3\u001b[0m arr2 \u001b[38;5;241m=\u001b[39m np\u001b[38;5;241m.\u001b[39marange(\u001b[38;5;241m1\u001b[39m,\u001b[38;5;241m11\u001b[39m,\u001b[38;5;241m1\u001b[39m, (\u001b[38;5;241m2\u001b[39m,\u001b[38;5;241m5\u001b[39m))\n\u001b[0;32m      5\u001b[0m \u001b[38;5;28mprint\u001b[39m(arr2)\n",
      "\u001b[1;31mTypeError\u001b[0m: Cannot interpret '2' as a data type"
     ]
    }
   ],
   "source": [
    "# 2-d : for np.arange()\n",
    "\n",
    "arr2 = np.arange(1,11,1, (2,5))\n",
    "\n",
    "print(arr2)\n",
    "\n",
    "\n",
    "# NOTE: \n",
    "# - We can't directly create 2-d array by using np.arange()"
   ]
  },
  {
   "cell_type": "markdown",
   "id": "0d3acab2",
   "metadata": {},
   "source": [
    "### 2. np.range() with reshape()"
   ]
  },
  {
   "cell_type": "code",
   "execution_count": null,
   "id": "6a280b60",
   "metadata": {},
   "outputs": [
    {
     "name": "stdout",
     "output_type": "stream",
     "text": [
      "[1 2 3 4 5 6 7 8 9]\n",
      "Dimension:  1\n",
      "[[1 2 3]\n",
      " [4 5 6]\n",
      " [7 8 9]]\n",
      "Dimension:  2\n"
     ]
    }
   ],
   "source": [
    "# reshape() -> changing the structure of an array without chaning it's data.\n",
    "\n",
    "# example: \n",
    "arr = np.array([1,2,3,4,5,6,7,8,9])\n",
    "\n",
    "print(arr)\n",
    "print(\"Dimension: \", arr.ndim)\n",
    "\n",
    "# use reshape\n",
    "\n",
    "arr1 = arr.reshape(3,3)  # 3 = rows and 3 = columns\n",
    "\n",
    "print(arr1)\n",
    "print(\"Dimension: \", arr1.ndim)\n",
    "\n",
    "\n",
    "# NOTE:\n",
    "# - reshape(rows, cols) must be equal to the total numbers of elements"
   ]
  },
  {
   "cell_type": "code",
   "execution_count": null,
   "id": "58acd2d8",
   "metadata": {},
   "outputs": [
    {
     "name": "stdout",
     "output_type": "stream",
     "text": [
      "[[ 1  2  3  4]\n",
      " [ 5  6  7  8]\n",
      " [ 9 10 11 12]]\n",
      "Dimension:  2\n",
      "shape:  (3, 4)\n",
      "Element data type:  int64\n"
     ]
    }
   ],
   "source": [
    "# reshape with np.arange()\n",
    "# 2-d\n",
    "arr2 = np.arange(1,13).reshape(3,4)\n",
    "\n",
    "print(arr2)\n",
    "print(\"Dimension: \", arr2.ndim)\n",
    "print(\"shape: \", arr2.shape)\n",
    "print(\"Element data type: \", arr2.dtype)\n"
   ]
  },
  {
   "cell_type": "code",
   "execution_count": null,
   "id": "7080a57c",
   "metadata": {},
   "outputs": [
    {
     "name": "stdout",
     "output_type": "stream",
     "text": [
      "[[[ 1  2  3  4]\n",
      "  [ 5  6  7  8]\n",
      "  [ 9 10 11 12]]\n",
      "\n",
      " [[13 14 15 16]\n",
      "  [17 18 19 20]\n",
      "  [21 22 23 24]]]\n",
      "Dimension:  3\n",
      "size:  24\n",
      "Element type:  int16\n"
     ]
    }
   ],
   "source": [
    "# reshape with np.arange()\n",
    "\n",
    "# 3-d\n",
    "\n",
    "arr3 = np.arange(1,25,dtype = np.int16).reshape(2,3,4)   # 2 = depth , 3 = each depth rows and 4 = each depth columns\n",
    "\n",
    "print(arr3)\n",
    "print(\"Dimension: \", arr3.ndim)\n",
    "print(\"size: \", arr3.size)\n",
    "print(\"Element type: \", arr3.dtype)"
   ]
  },
  {
   "cell_type": "code",
   "execution_count": 33,
   "id": "c87cabb0",
   "metadata": {},
   "outputs": [
    {
     "name": "stdout",
     "output_type": "stream",
     "text": [
      "[ 2  4  6  8 10 12 14 16 18 20]\n",
      "Dimension:  1\n",
      "[[ 2  4  6  8 10]\n",
      " [12 14 16 18 20]]\n",
      "Dimension:  2\n",
      "Shape:  (2, 5)\n"
     ]
    }
   ],
   "source": [
    "# reshape with np.arange()\n",
    "\n",
    "arr2 = np.arange(2,21,2)\n",
    "\n",
    "print(arr2)\n",
    "print(\"Dimension: \", arr2.ndim)\n",
    "\n",
    "\n",
    "# apply reshape\n",
    "\n",
    "arr2 = arr2.reshape(2,5)\n",
    "print(arr2)\n",
    "print(\"Dimension: \", arr2.ndim)\n",
    "print(\"Shape: \", arr2.shape)\n"
   ]
  },
  {
   "cell_type": "markdown",
   "id": "f8d9d3f4",
   "metadata": {},
   "source": [
    "### 3. np.linspace()"
   ]
  },
  {
   "cell_type": "markdown",
   "id": "0377a950",
   "metadata": {},
   "source": [
    "- linearly generated numbers\n",
    "\n",
    "- syntax:\n",
    "    - np.linspace(start,stop,step,total_num)\n",
    "\n",
    "    - here,\n",
    "        - start = 0 (include)\n",
    "        - stop = length of array (include)\n",
    "        - total_num = Numbers that we want to generated\n"
   ]
  },
  {
   "cell_type": "code",
   "execution_count": 35,
   "id": "44c00f71",
   "metadata": {},
   "outputs": [
    {
     "name": "stdout",
     "output_type": "stream",
     "text": [
      "[1. 2. 3. 4. 5.]\n",
      "Dimension:  1\n"
     ]
    }
   ],
   "source": [
    "# Example: np.linspace(star,stop,step, total_num)\n",
    "\n",
    "\n",
    "arr1 = np.linspace(1,5,5) # start = 1, stop = 5 and total number genrator = 5\n",
    "print(arr1)\n",
    "\n",
    "print(\"Dimension: \", arr1.ndim)\n"
   ]
  },
  {
   "cell_type": "code",
   "execution_count": 37,
   "id": "6b2d681a",
   "metadata": {},
   "outputs": [
    {
     "name": "stdout",
     "output_type": "stream",
     "text": [
      "[[ 1.  2.  3.  4.]\n",
      " [ 5.  6.  7.  8.]\n",
      " [ 9. 10. 11. 12.]]\n"
     ]
    }
   ],
   "source": [
    "# 2-d ndarray\n",
    "\n",
    "arr2 = np.linspace(1,12,num = 12).reshape(3,4)\n",
    "\n",
    "print(arr2)\n"
   ]
  },
  {
   "cell_type": "code",
   "execution_count": null,
   "id": "1022c944",
   "metadata": {},
   "outputs": [
    {
     "name": "stdout",
     "output_type": "stream",
     "text": [
      "[ 1.    3.25  5.5   7.75 10.  ]\n"
     ]
    }
   ],
   "source": [
    "arr = np.linspace(1,10, num = 5)\n",
    "print(arr)  # generate 5 numbers in between 1-10 but nums are linearly seperator."
   ]
  },
  {
   "cell_type": "code",
   "execution_count": 39,
   "id": "237f67a1",
   "metadata": {},
   "outputs": [
    {
     "name": "stdout",
     "output_type": "stream",
     "text": [
      "[ 0.   2.5  5.   7.5 10. ]\n"
     ]
    }
   ],
   "source": [
    "arr = np.linspace(0,10,5)\n",
    "print(arr)"
   ]
  },
  {
   "cell_type": "code",
   "execution_count": null,
   "id": "f6232f4b",
   "metadata": {},
   "outputs": [],
   "source": [
    "'''  \n",
    "start = 0 (include)\n",
    "end = 10  (include)\n",
    "total number = 5\n",
    "\n",
    "5 - 2 = 3\n",
    "\n",
    "| 0  | 2.5 | 5.0 | 7.5 | 10 |\n",
    "\n",
    "\n",
    "- here, \n",
    "  2.5 - 0 = 2.5\n",
    "  5.0 - 2.5 = 2.5\n",
    "  7.5 - 2.5 = 5.0\n",
    "  10.0 - 2.5 = 7.5\n",
    "  7.5 + 2. 5 = 10.0\n",
    "\n",
    "\n",
    "'''"
   ]
  },
  {
   "cell_type": "markdown",
   "id": "18363166",
   "metadata": {},
   "source": [
    "### 4. np.lognspace()"
   ]
  },
  {
   "cell_type": "code",
   "execution_count": null,
   "id": "c8938da9",
   "metadata": {},
   "outputs": [
    {
     "name": "stdout",
     "output_type": "stream",
     "text": [
      "[1.e+00 1.e+01 1.e+02 1.e+03 1.e+04]\n"
     ]
    }
   ],
   "source": [
    "# Syntax of np.lognspace()\n",
    "# np.lognspace(start,stop,total_nums, base=10)\n",
    "# stop -> include\n",
    "\n",
    "arr = np.logspace(0,4,5)\n",
    "print(arr)\n",
    "\n",
    "'''\n",
    "start num = 0 (include)\n",
    "\n",
    "stop num = 10\n",
    "\n",
    "wihtin 0 to 10 creates 5 , 10 base log\n",
    "\n",
    "''' \n",
    "\n"
   ]
  },
  {
   "cell_type": "code",
   "execution_count": 8,
   "id": "d71d570f",
   "metadata": {},
   "outputs": [
    {
     "name": "stdout",
     "output_type": "stream",
     "text": [
      "[[1.000e+00 4.000e+00 1.600e+01]\n",
      " [6.400e+01 2.560e+02 1.024e+03]]\n",
      "Dimension:  2\n",
      "Element type : float64\n",
      "Shape :  (2, 3)\n"
     ]
    }
   ],
   "source": [
    "# when change the default base to 2\n",
    "\n",
    "arr2 = np.logspace(0,10,6, base = 2).reshape(2,3)\n",
    "\n",
    "print(arr2)\n",
    "\n",
    "print(\"Dimension: \", arr2.ndim)\n",
    "\n",
    "print(\"Element type :\", arr2.dtype)\n",
    "\n",
    "print(\"Shape : \", arr2.shape)\n",
    "\n"
   ]
  }
 ],
 "metadata": {
  "kernelspec": {
   "display_name": "base",
   "language": "python",
   "name": "python3"
  },
  "language_info": {
   "codemirror_mode": {
    "name": "ipython",
    "version": 3
   },
   "file_extension": ".py",
   "mimetype": "text/x-python",
   "name": "python",
   "nbconvert_exporter": "python",
   "pygments_lexer": "ipython3",
   "version": "3.13.5"
  }
 },
 "nbformat": 4,
 "nbformat_minor": 5
}
