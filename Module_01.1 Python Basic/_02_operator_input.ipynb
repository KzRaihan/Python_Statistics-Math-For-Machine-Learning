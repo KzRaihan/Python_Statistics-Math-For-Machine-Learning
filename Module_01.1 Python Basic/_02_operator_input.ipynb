{
 "cells": [
  {
   "cell_type": "markdown",
   "id": "22c35ac2",
   "metadata": {},
   "source": [
    "# Topic: Python Operators \n",
    "\n",
    "- 1. Taking input in python\n",
    "    \n",
    "- 2. Operators in python\n",
    "    \n",
    "- 3. Precendence and Associativity \n",
    "    \n",
    "- 4. Problem Solve"
   ]
  },
  {
   "cell_type": "markdown",
   "id": "f061f48d",
   "metadata": {},
   "source": [
    "## 1. Taking input in python"
   ]
  },
  {
   "cell_type": "code",
   "execution_count": null,
   "id": "752dd774",
   "metadata": {},
   "outputs": [
    {
     "name": "stdout",
     "output_type": "stream",
     "text": [
      "Kz\n",
      "<class 'str'>\n"
     ]
    }
   ],
   "source": [
    "# Take input from user\n",
    "# - Every input store in string format in python.\n",
    "\n",
    "input_user = input(\"Enter your name: \")\n",
    "\n",
    "print(input_user)\n",
    "print(type(input_user))\n"
   ]
  },
  {
   "cell_type": "code",
   "execution_count": 2,
   "id": "00a437a7",
   "metadata": {},
   "outputs": [
    {
     "name": "stdout",
     "output_type": "stream",
     "text": [
      "101\n",
      "<class 'str'>\n"
     ]
    }
   ],
   "source": [
    "# Take input from user\n",
    "\n",
    "input_user = input(\"Enter your number: \")\n",
    "\n",
    "print(input_user)\n",
    "print(type(input_user))\n"
   ]
  },
  {
   "cell_type": "code",
   "execution_count": 5,
   "id": "493c6a00",
   "metadata": {},
   "outputs": [
    {
     "name": "stdout",
     "output_type": "stream",
     "text": [
      "1\n",
      "<class 'int'>\n"
     ]
    }
   ],
   "source": [
    "# Typecase or type conversion\n",
    "# syntax : target_type(given type)\n",
    "\n",
    "input_user1 = input(\"Enter your number: \")\n",
    "\n",
    "# type conversion\n",
    "input_user1 = int(input_user1)\n",
    "\n",
    "print(input_user1)\n",
    "print(type(input_user1))"
   ]
  },
  {
   "cell_type": "code",
   "execution_count": 8,
   "id": "ae4ad8ed",
   "metadata": {},
   "outputs": [
    {
     "name": "stdout",
     "output_type": "stream",
     "text": [
      "20 30\n",
      "Summation:  50\n"
     ]
    }
   ],
   "source": [
    "# sum of two number\n",
    "\n",
    "num1 = int(input(\"Enter 1st number: \"))\n",
    "\n",
    "num2 = int(input(\"Enter 2nd number: \"))\n",
    "\n",
    "sum = num1 + num2\n",
    "\n",
    "print(num1 , num2)\n",
    "print(\"Summation: \", sum)"
   ]
  },
  {
   "cell_type": "markdown",
   "id": "ed43e0ba",
   "metadata": {},
   "source": [
    "## 2. Operators in python"
   ]
  },
  {
   "cell_type": "markdown",
   "id": "ef0d47db",
   "metadata": {},
   "source": [
    "- Type of Operators\n",
    " - 1. Arithmetic operators \n",
    " - 2. Assignment operators \n",
    " - 3. Comparison operators \n",
    " - 4. logical operators \n"
   ]
  },
  {
   "cell_type": "markdown",
   "id": "b081edc9",
   "metadata": {},
   "source": [
    "### 1. Arithmetic operators "
   ]
  },
  {
   "cell_type": "code",
   "execution_count": null,
   "id": "78bc21d3",
   "metadata": {},
   "outputs": [
    {
     "name": "stdout",
     "output_type": "stream",
     "text": [
      "Addition:  17\n",
      "subtraction: 3\n",
      "Multiplication:  70\n",
      "Division:  1.4285714285714286\n",
      "Modules 3\n",
      "Round the divisio  1.43\n"
     ]
    }
   ],
   "source": [
    "# 1. Arithmetic operators (+, -, *, /, %)\n",
    "# Perform mathematical operations. \n",
    "\n",
    "num1 = 10\n",
    "num2 = 7\n",
    "\n",
    "add = num1 + num2\n",
    "sub = num1 - num2\n",
    "mul = num1 * num2\n",
    "div = num1 / num2\n",
    "mod = num1 % num2\n",
    "\n",
    "\n",
    "# display\n",
    "print(\"Addition: \", add)\n",
    "print(\"subtraction:\", sub)\n",
    "print(\"Multiplication: \",mul)\n",
    "print(\"Division: \", div)\n",
    "print(\"Modules\", mod)\n"
   ]
  },
  {
   "cell_type": "markdown",
   "id": "d47c3a30",
   "metadata": {},
   "source": [
    "####  Types of rounding in Python are:\n"
   ]
  },
  {
   "cell_type": "code",
   "execution_count": null,
   "id": "135a446d",
   "metadata": {},
   "outputs": [],
   "source": [
    "# -  round() → nearest\n",
    "# -  floor() → down\n",
    "# -  ceil()  → up"
   ]
  },
  {
   "cell_type": "code",
   "execution_count": 25,
   "id": "72ceb065",
   "metadata": {},
   "outputs": [
    {
     "name": "stdout",
     "output_type": "stream",
     "text": [
      "1st : 8.68\n",
      "2nd :  6\n",
      "3th :  6\n",
      "4th :  7\n"
     ]
    }
   ],
   "source": [
    "# round():\n",
    "# Syntax: round(number, ndigits)\n",
    "\n",
    "# number: The number we want to round.\n",
    "# ndigits (optional): How many digits to round after the decimal point. If not provided, it rounds to the nearest whole number.\n",
    "\n",
    "# fractional part ≥ 0.5 → rounds up\n",
    "# fractional part < 0.5 → rounds down\n",
    "\n",
    "print(\"1st :\", round(8.678,2))\n",
    "print(\"2nd : \", round(5.55))\n",
    "print(\"3th : \", round(6.5))\n",
    "print(\"4th : \", round(6.56))\n"
   ]
  },
  {
   "cell_type": "code",
   "execution_count": 18,
   "id": "6234c6e6",
   "metadata": {},
   "outputs": [
    {
     "name": "stdout",
     "output_type": "stream",
     "text": [
      "Round the division  1.43\n"
     ]
    }
   ],
   "source": [
    "num1 = 10\n",
    "num2 = 7\n",
    "div = num1/num2\n",
    "\n",
    "div = round(div,2)\n",
    "print(\"Round the division \", div)"
   ]
  },
  {
   "cell_type": "code",
   "execution_count": 28,
   "id": "04b47f63",
   "metadata": {},
   "outputs": [
    {
     "name": "stdout",
     "output_type": "stream",
     "text": [
      "Normal divison:  1.4285714285714286\n",
      "Floor divison:  1\n"
     ]
    }
   ],
   "source": [
    "# floor() : Round Down (Always Lower Integer)\n",
    "import math\n",
    "# syntax: math.floor(number)\n",
    "\n",
    "\n",
    "num1 = 10\n",
    "num2 = 7 \n",
    "\n",
    "div = num1 / num2\n",
    "\n",
    "print(\"Normal divison: \", div)\n",
    "print(\"Floor divison: \", math.floor(div))"
   ]
  },
  {
   "cell_type": "code",
   "execution_count": null,
   "id": "02d41dc8",
   "metadata": {},
   "outputs": [
    {
     "name": "stdout",
     "output_type": "stream",
     "text": [
      "5\n",
      "6\n",
      "8\n",
      "-6\n"
     ]
    }
   ],
   "source": [
    "import math\n",
    "\n",
    "print(math.floor(5.5))\n",
    "print(math.floor(6.6))\n",
    "print(math.floor(8.9))\n",
    "print(math.floor(-5.5)) # - 6 < -5"
   ]
  },
  {
   "cell_type": "code",
   "execution_count": 33,
   "id": "7d8eef95",
   "metadata": {},
   "outputs": [
    {
     "name": "stdout",
     "output_type": "stream",
     "text": [
      "Normal divison:  1.4285714285714286\n",
      "Ceil divison:  2\n"
     ]
    }
   ],
   "source": [
    "# 3. ceil() — Round Up (Always Higher Integer)\n",
    "# syntax: math.ceil(num)\n",
    "\n",
    "import math\n",
    "\n",
    "\n",
    "num1 = 10\n",
    "num2 = 7 \n",
    "\n",
    "div = num1 / num2\n",
    "\n",
    "print(\"Normal divison: \", div)\n",
    "print(\"Ceil divison: \", math.ceil(div))\n",
    "\n"
   ]
  },
  {
   "cell_type": "code",
   "execution_count": null,
   "id": "f4b56112",
   "metadata": {},
   "outputs": [
    {
     "name": "stdout",
     "output_type": "stream",
     "text": [
      "2\n",
      "3\n",
      "6\n",
      "-1\n"
     ]
    }
   ],
   "source": [
    "import math\n",
    "\n",
    "print(math.ceil(1.1))\n",
    "print(math.ceil(2.9))\n",
    "print(math.ceil(5.5))\n",
    "print(math.ceil(-1.5))  # -1 > -1.5"
   ]
  },
  {
   "cell_type": "code",
   "execution_count": null,
   "id": "a6628501",
   "metadata": {},
   "outputs": [
    {
     "name": "stdout",
     "output_type": "stream",
     "text": [
      "6\n",
      "8\n"
     ]
    }
   ],
   "source": [
    "# Note : Python uses *Banker’s rounding* (also called round half to even).\n",
    "# it rounds to the nearest even integer:\n",
    "# round(6.5)\n",
    "# Between 6 and 7 here, 6 is even so result 6\n",
    "# Between 7 and 8 here, 8 is even so result 8\n",
    "\n",
    "print(round(6.5))\n",
    "print(round(7.5))\n",
    "\n",
    "\n",
    "# 6 -------------------- 6.5 -------------------- 7\n",
    "# The even number between 6 and 7 is 6.\n",
    "# So round(6.5) → 6"
   ]
  },
  {
   "cell_type": "markdown",
   "id": "66d023af",
   "metadata": {},
   "source": [
    "###  2. Assignment operators"
   ]
  },
  {
   "cell_type": "code",
   "execution_count": 41,
   "id": "ed29d8cb",
   "metadata": {},
   "outputs": [
    {
     "name": "stdout",
     "output_type": "stream",
     "text": [
      "Addition:  17\n"
     ]
    }
   ],
   "source": [
    "#  2. Assignment operators (=, +=, -=, *=, /=, %=)\n",
    "# Assign values to variables. \n",
    "\n",
    "num1 = 10\n",
    "num2 = 7\n",
    "\n",
    "# Add and assign\n",
    "num1 += num2\n",
    "print(\"Addition: \",num1 )\n",
    "\n",
    "\n"
   ]
  },
  {
   "cell_type": "code",
   "execution_count": 42,
   "id": "0d67c4d7",
   "metadata": {},
   "outputs": [
    {
     "name": "stdout",
     "output_type": "stream",
     "text": [
      "subtraction: 3\n"
     ]
    }
   ],
   "source": [
    "# sub and assign\n",
    "\n",
    "num1 = 10\n",
    "num2 = 7 \n",
    "\n",
    "num1 -= num2\n",
    "print(\"subtraction:\", num1)\n"
   ]
  },
  {
   "cell_type": "code",
   "execution_count": 43,
   "id": "fcda64f5",
   "metadata": {},
   "outputs": [
    {
     "name": "stdout",
     "output_type": "stream",
     "text": [
      "Multiplication:  70\n"
     ]
    }
   ],
   "source": [
    "# mul and assign\n",
    "\n",
    "num1 = 10\n",
    "num2 = 7\n",
    "\n",
    "num1 *= num2\n",
    "print(\"Multiplication: \",num1)\n"
   ]
  },
  {
   "cell_type": "code",
   "execution_count": 46,
   "id": "a735a2eb",
   "metadata": {},
   "outputs": [
    {
     "name": "stdout",
     "output_type": "stream",
     "text": [
      "Division:  1.43\n"
     ]
    }
   ],
   "source": [
    "\n",
    "# div and assign\n",
    "\n",
    "num1 = 10\n",
    "num2 = 7\n",
    "\n",
    "num1 /= num2\n",
    "print(\"Division: \", round(num1,2))\n",
    "\n"
   ]
  },
  {
   "cell_type": "code",
   "execution_count": 47,
   "id": "1381fae5",
   "metadata": {},
   "outputs": [
    {
     "name": "stdout",
     "output_type": "stream",
     "text": [
      "Modules 3\n"
     ]
    }
   ],
   "source": [
    "# mod and assign\n",
    "num1 = 10\n",
    "num2 = 7\n",
    "num1 %= num2\n",
    "print(\"Modules\", num1)"
   ]
  },
  {
   "cell_type": "markdown",
   "id": "201645b0",
   "metadata": {},
   "source": [
    "### 3. Comparison operators"
   ]
  },
  {
   "cell_type": "code",
   "execution_count": 60,
   "id": "70c78221",
   "metadata": {},
   "outputs": [
    {
     "name": "stdout",
     "output_type": "stream",
     "text": [
      "Numbers are:  10 10 30\n",
      "Equal to (==): True\n",
      "Not Equal to (!=):  True\n",
      "less than (<) :  False\n",
      "less than equal (<=):  False\n",
      "Greater than (>):  True\n",
      "Greater than or equal(>=):  True\n"
     ]
    }
   ],
   "source": [
    "# Comparison operator (==, !=, < , <=, > , >= )\n",
    "# Compare two values and return a Boolean result (true or false). \n",
    "\n",
    "num1 = 10; num2 = 10; num3 = 30\n",
    "\n",
    "# numbers\n",
    "print(\"Numbers are: \", num1, num2, num3)\n",
    "\n",
    "# Equal to (==)\n",
    "print(\"Equal to (==):\", num1 == num2)\n",
    "\n",
    "# Not Equal to (!=)\n",
    "print(\"Not Equal to (!=): \", num2 != num3)\n",
    "\n",
    "# less than (<)\n",
    "print(\"less than (<) : \", num1 < num2)\n",
    "\n",
    "# less than equal (<=)\n",
    "print(\"less than equal (<=): \", num3 <= num1)\n",
    "\n",
    "# Greater than (>)\n",
    "print(\"Greater than (>): \", num3 > num2)\n",
    "\n",
    "# Greater than or equal(>=)\n",
    "print(\"Greater than or equal(>=): \", num1 >= num2)\n",
    "\n"
   ]
  },
  {
   "cell_type": "markdown",
   "id": "ed442899",
   "metadata": {},
   "source": [
    "### 4. logical operators "
   ]
  },
  {
   "cell_type": "code",
   "execution_count": null,
   "id": "3b10895a",
   "metadata": {},
   "outputs": [
    {
     "name": "stdout",
     "output_type": "stream",
     "text": [
      "True\n",
      "False\n"
     ]
    }
   ],
   "source": [
    "# Logical operator (and, or not)\n",
    "# Perform logical operations on Boolean values or expressions.\n",
    "\n",
    "# and -> output: True if both condition must be True \n",
    "\n",
    "num1 = 10; num2 = 5; num3 = 15\n",
    "\n",
    "print(num1> num2 and num2 < num3)\n",
    "print(num1 > num2 and num2 > num3) # num2 is less than num3\n",
    "\n",
    "\n"
   ]
  },
  {
   "cell_type": "code",
   "execution_count": 64,
   "id": "610405ca",
   "metadata": {},
   "outputs": [
    {
     "name": "stdout",
     "output_type": "stream",
     "text": [
      "True\n",
      "False\n"
     ]
    }
   ],
   "source": [
    "# logical or\n",
    "# Ouput: True if only one codition is True\n",
    "num1 = 10; num2 = 5; num3 = 15\n",
    "\n",
    "print(num1 < num2 or num2 < num3)\n",
    "print(num1 < num2 or num2 > num3)\n",
    "\n"
   ]
  },
  {
   "cell_type": "code",
   "execution_count": 68,
   "id": "e1a8ca9c",
   "metadata": {},
   "outputs": [
    {
     "name": "stdout",
     "output_type": "stream",
     "text": [
      "False\n",
      "True\n"
     ]
    }
   ],
   "source": [
    "# logical not\n",
    "# Reverse the value\n",
    "\n",
    "num1 = True\n",
    "\n",
    "print(not num1)\n",
    "\n",
    "num2 = 0  # 0 means False\n",
    "\n",
    "ans = not num2\n",
    "print(ans)\n"
   ]
  },
  {
   "cell_type": "markdown",
   "id": "cfaeb77b",
   "metadata": {},
   "source": [
    "##  3. Precendence and Associativity of Operators"
   ]
  },
  {
   "cell_type": "markdown",
   "id": "20b2e5d9",
   "metadata": {},
   "source": [
    "- Operator Precedence : Defines which operator is executed first.\n",
    "  - ORDER:\n",
    "    - 1. Parentheses ()\n",
    "    - 2. Exponentiation **\n",
    "    - 3. Arithmetic operator \n",
    "    - 4. Comparison operator\n",
    "    - 5. Logical Operator\n",
    "    - 6. Assignment operator\n",
    "\n",
    "- Associativity: Defines which direction to evaluate when operators have same precedence.\n",
    "    - Right to Left if multiple operators are same precedence"
   ]
  },
  {
   "cell_type": "code",
   "execution_count": 70,
   "id": "3b8f0eac",
   "metadata": {},
   "outputs": [
    {
     "name": "stdout",
     "output_type": "stream",
     "text": [
      "Result:  20\n",
      "answer:  13\n"
     ]
    }
   ],
   "source": [
    "# Example of Operator Precedence\n",
    "\n",
    "result = 10 + 2 * 5\n",
    "\n",
    "print(\"Result: \", result)\n",
    "\n",
    "ans = 4 ** 2 + (2+5) - 10\n",
    "\n",
    "print(\"answer: \", ans)"
   ]
  },
  {
   "cell_type": "code",
   "execution_count": 71,
   "id": "81eef96b",
   "metadata": {},
   "outputs": [
    {
     "name": "stdout",
     "output_type": "stream",
     "text": [
      "16.0\n"
     ]
    }
   ],
   "source": [
    "result = 10 + 3 * 2 ** 2 / (5 - 3)\n",
    "\n",
    "print(result)"
   ]
  },
  {
   "cell_type": "code",
   "execution_count": null,
   "id": "39673d1d",
   "metadata": {},
   "outputs": [],
   "source": [
    "# Explain the  result = 10 + 3 * 2 ** 2 / (5 - 3)\n",
    "''' \n",
    "Execute process..\n",
    "\n",
    "result = 10 + 3 * 2 ** 2 / (5 - 3) # first execute : (5-2)\n",
    "       = 10 + 3 * 2 ** 2 / 2    # second execute : 2 ** 2 \n",
    "       = 10 + 3 * 4 / 2   # 3th execute : 3 * 4\n",
    "       = 10 + 12 / 2    # 4th execute : 12/2 \n",
    "       = 10 + 16      \n",
    "       = 16\n",
    "\n",
    "result =  16\n",
    "'''"
   ]
  },
  {
   "cell_type": "markdown",
   "id": "fb5a3d52",
   "metadata": {},
   "source": [
    "## 4. Problem Solve"
   ]
  },
  {
   "cell_type": "code",
   "execution_count": 74,
   "id": "22f93a9a",
   "metadata": {},
   "outputs": [
    {
     "name": "stdout",
     "output_type": "stream",
     "text": [
      "5\n"
     ]
    }
   ],
   "source": [
    "# Given tow numbers N and M . print the summation of their last digit.\n",
    "# input: 12 13\n",
    "# output: 5\n",
    "\n",
    "# first way\n",
    "num1 = int(input())\n",
    "num2 = int(input())\n",
    "\n",
    "# find the last the last digit\n",
    "\n",
    "last_digit_num1 = num1 % 10\n",
    "\n",
    "last_digit_num2 = num2 % 10\n",
    "\n",
    "\n",
    "sum = last_digit_num1 + last_digit_num2\n",
    "\n",
    "print(sum)"
   ]
  },
  {
   "cell_type": "code",
   "execution_count": null,
   "id": "0bf10691",
   "metadata": {},
   "outputs": [
    {
     "name": "stdout",
     "output_type": "stream",
     "text": [
      "5\n"
     ]
    }
   ],
   "source": [
    "# Actual way to solve this problem\n",
    "# input from user\n",
    "input_num = input()\n",
    "\n",
    "# split input data \n",
    "nums = input_num.split()\n",
    "\n",
    "# store and convert split data\n",
    "num1 = int(nums[0])\n",
    "num2 = int(nums[1])\n",
    "\n",
    "# find the last digit\n",
    "last_digit_num11 = num1 % 10\n",
    "last_digit_num21 = num2 % 10\n",
    "\n",
    "# calculation sum\n",
    "sum = last_digit_num11 + last_digit_num21\n",
    "\n",
    "print(sum)\n"
   ]
  },
  {
   "cell_type": "code",
   "execution_count": 91,
   "id": "35f56857",
   "metadata": {},
   "outputs": [
    {
     "name": "stdout",
     "output_type": "stream",
     "text": [
      "Weird\n"
     ]
    }
   ],
   "source": [
    "\"\"\" Task\n",
    "Given an integer, , perform the following conditional actions:\n",
    "\n",
    "If  is odd, print Weird\n",
    "If  is even and in the inclusive range of 2 to 5 , print Not Weird\n",
    "If  is even and in the inclusive range of 6 to 20, print Weird\n",
    "If  is even and greater 20 than , print Not Weird\n",
    "\n",
    "\"\"\"\n",
    "\n",
    "num = int(input())\n",
    "\n",
    "if num%2 == 0:\n",
    "    if num >= 2 and num <= 5:\n",
    "        print(\"Not Weird\")\n",
    "    elif num >= 6 and num <= 20:\n",
    "        print(\"Weird\")\n",
    "    else:\n",
    "        print(\"Not Weird\")\n",
    "else:\n",
    "    print(\"Weird\")"
   ]
  },
  {
   "cell_type": "code",
   "execution_count": 93,
   "id": "b220c319",
   "metadata": {},
   "outputs": [
    {
     "name": "stdout",
     "output_type": "stream",
     "text": [
      "5\n",
      "1\n",
      "6\n"
     ]
    }
   ],
   "source": [
    "'''  \n",
    "Task\n",
    "The provided code stub reads two integers from STDIN,  and . Add code to print three lines where:\n",
    "\n",
    "The first line contains the sum of the two numbers.\n",
    "The second line contains the difference of the two numbers (first - second).\n",
    "The third line contains the product of the two numbers.\n",
    "\n",
    "\n",
    "'''\n",
    "num1 = int(input())\n",
    "num2 = int(input())\n",
    "\n",
    "\n",
    "print(num1 + num2)\n",
    "print(num1 - num2)\n",
    "print(num1 * num2)"
   ]
  }
 ],
 "metadata": {
  "kernelspec": {
   "display_name": "base",
   "language": "python",
   "name": "python3"
  },
  "language_info": {
   "codemirror_mode": {
    "name": "ipython",
    "version": 3
   },
   "file_extension": ".py",
   "mimetype": "text/x-python",
   "name": "python",
   "nbconvert_exporter": "python",
   "pygments_lexer": "ipython3",
   "version": "3.13.5"
  }
 },
 "nbformat": 4,
 "nbformat_minor": 5
}
