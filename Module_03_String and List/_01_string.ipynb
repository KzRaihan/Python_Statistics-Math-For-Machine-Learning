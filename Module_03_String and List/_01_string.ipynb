{
 "cells": [
  {
   "cell_type": "markdown",
   "id": "6a7b8cf9",
   "metadata": {},
   "source": [
    "## Topic: String in Python"
   ]
  },
  {
   "cell_type": "markdown",
   "id": "a54ea1f6",
   "metadata": {},
   "source": [
    "### OUTCOMES\n",
    "\n",
    "- 1. Basic of String.\n",
    "\n",
    "- 2. String Indexing and Slcing.\n",
    "\n",
    "- 3. String's Method.\n",
    "\n",
    "- 4. String Spliting, joining and Formatting.\n",
    "\n",
    "- 5. Practices Example.\n"
   ]
  },
  {
   "cell_type": "markdown",
   "id": "2f1e47fc",
   "metadata": {},
   "source": [
    "### 1. Basic of String."
   ]
  },
  {
   "cell_type": "markdown",
   "id": "b98b39f4",
   "metadata": {},
   "source": [
    "- String is a data type that store a sequence of character.\n",
    "\n",
    "- String is Immutable(Not chanage) data type.\n",
    "\n",
    "- String elements arranged in sequentially manner."
   ]
  },
  {
   "cell_type": "code",
   "execution_count": 4,
   "id": "b57596f9",
   "metadata": {},
   "outputs": [
    {
     "name": "stdout",
     "output_type": "stream",
     "text": [
      "What is your name ? <class 'str'>\n",
      "MY name is Kz <class 'str'>\n",
      " \n",
      "    Tell me about yourself?\n",
      "    What is the issues you've been facing while learing to code?\n",
      "    How are you tacking them?\n",
      " <class 'str'>\n"
     ]
    }
   ],
   "source": [
    "# Syntax of String:\n",
    "# str_name = \"values\"\n",
    "\n",
    "\n",
    "# There are three way to Express\n",
    "\n",
    "# 1st string express with single quotation(''):\n",
    "strl = 'What is your name ?'\n",
    "\n",
    "# 2nd : Double Quotation(\"\")\n",
    "name = \"MY name is Kz\"\n",
    "\n",
    "# 3th: Thirpal Quotation(''' ''' or \"\"\"  \"\"\")\n",
    "\n",
    "message = \"\"\" \n",
    "    Tell me about yourself?\n",
    "    What is the issues you've been facing while learing to code?\n",
    "    How are you tacking them?\n",
    "\"\"\"\n",
    "\n",
    "print(strl, type(strl))\n",
    "\n",
    "print(name, type(name))\n",
    "\n",
    "print(message, type(message))"
   ]
  },
  {
   "cell_type": "code",
   "execution_count": 5,
   "id": "cd27c5e1",
   "metadata": {},
   "outputs": [
    {
     "name": "stdout",
     "output_type": "stream",
     "text": [
      "KzRaihan\n"
     ]
    }
   ],
   "source": [
    "# Basic string operation:\n",
    "\n",
    "# String concatenation (combine or add two or more string)\n",
    "\n",
    "first_name = \"Kz\"\n",
    "\n",
    "last_name = \"Raihan\"\n",
    "\n",
    "user_name = first_name + last_name\n",
    "\n",
    "print(user_name)"
   ]
  },
  {
   "cell_type": "code",
   "execution_count": null,
   "id": "5071f7f5",
   "metadata": {},
   "outputs": [
    {
     "ename": "TypeError",
     "evalue": "can only concatenate str (not \"int\") to str",
     "output_type": "error",
     "traceback": [
      "\u001b[1;31m---------------------------------------------------------------------------\u001b[0m",
      "\u001b[1;31mTypeError\u001b[0m                                 Traceback (most recent call last)",
      "Cell \u001b[1;32mIn[6], line 6\u001b[0m\n\u001b[0;32m      2\u001b[0m num1 \u001b[38;5;241m=\u001b[39m \u001b[38;5;241m10\u001b[39m\n\u001b[0;32m      4\u001b[0m strl \u001b[38;5;241m=\u001b[39m \u001b[38;5;124m\"\u001b[39m\u001b[38;5;124mKz\u001b[39m\u001b[38;5;124m\"\u001b[39m\n\u001b[1;32m----> 6\u001b[0m add \u001b[38;5;241m=\u001b[39m strl \u001b[38;5;241m+\u001b[39m num1\n\u001b[0;32m      8\u001b[0m \u001b[38;5;28mprint\u001b[39m(add)\n",
      "\u001b[1;31mTypeError\u001b[0m: can only concatenate str (not \"int\") to str"
     ]
    }
   ],
   "source": [
    "# Example of string concatenation:\n",
    "num1 = 10\n",
    "\n",
    "strl = \"Kz\"\n",
    "\n",
    "add = strl + num1\n",
    "\n",
    "print(add)\n",
    "\n",
    "# con't be concatenation integer and string value"
   ]
  },
  {
   "cell_type": "code",
   "execution_count": 8,
   "id": "b31916fa",
   "metadata": {},
   "outputs": [
    {
     "name": "stdout",
     "output_type": "stream",
     "text": [
      "Kz10\n",
      "<class 'str'>\n"
     ]
    }
   ],
   "source": [
    "# Type conversion to sovle this problem\n",
    "\n",
    "num1 = 10\n",
    "\n",
    "strl = \"Kz\"\n",
    "\n",
    "add = strl + str(num1)\n",
    "\n",
    "print(add)\n",
    "print(type(add))"
   ]
  },
  {
   "cell_type": "code",
   "execution_count": 12,
   "id": "3491c29e",
   "metadata": {},
   "outputs": [
    {
     "name": "stdout",
     "output_type": "stream",
     "text": [
      " <class 'str'>\n",
      " <class 'str'>\n"
     ]
    }
   ],
   "source": [
    "# Create empty string\n",
    "\n",
    "# 1st way\n",
    "\n",
    "empty_str = str()\n",
    "\n",
    "print(empty_str, type(empty_str))\n",
    "\n",
    "# 2nd way to crete null string\n",
    "null_str = \"\"\n",
    "print(null_str, type(null_str))"
   ]
  },
  {
   "cell_type": "markdown",
   "id": "443a4455",
   "metadata": {},
   "source": [
    "### 2. String Indexing and Slicing."
   ]
  },
  {
   "cell_type": "markdown",
   "id": "d5b8cd2d",
   "metadata": {},
   "source": [
    "#### Indexing"
   ]
  },
  {
   "cell_type": "markdown",
   "id": "27ea1e3d",
   "metadata": {},
   "source": [
    "- indexing refers to the position of the character that inside the string\n",
    "\n",
    "- Access the string elements\n",
    "\n",
    "- String follow 0-base idexing"
   ]
  },
  {
   "cell_type": "code",
   "execution_count": null,
   "id": "54cb99fc",
   "metadata": {},
   "outputs": [
    {
     "name": "stdout",
     "output_type": "stream",
     "text": [
      "M\n",
      "a\n",
      "z\n"
     ]
    }
   ],
   "source": [
    "# indexing\n",
    "\n",
    "promt = \"My name is Kz\"\n",
    "\n",
    "# how it's look like \n",
    "\n",
    "'''  \n",
    "_________________________________________________________\n",
    "| 0 | 1 | 2 | 3 | 4 | 5 | 6 | 7 | 8 | 9 | 10 | 11 | 12 |   <- this is positive idx\n",
    "_________________________________________________________\n",
    "| M | y |   | n | a | m | e |   | i | s |    | K  | z  |\n",
    "__________________________________________________________\n",
    "\n",
    "'''\n",
    "\n",
    "# access\n",
    "print(promt[0])\n",
    "\n",
    "print(promt[4])\n",
    "\n",
    "print(promt[12])"
   ]
  },
  {
   "cell_type": "code",
   "execution_count": null,
   "id": "825d8e58",
   "metadata": {},
   "outputs": [
    {
     "ename": "TypeError",
     "evalue": "'str' object does not support item assignment",
     "output_type": "error",
     "traceback": [
      "\u001b[1;31m---------------------------------------------------------------------------\u001b[0m",
      "\u001b[1;31mTypeError\u001b[0m                                 Traceback (most recent call last)",
      "Cell \u001b[1;32mIn[14], line 4\u001b[0m\n\u001b[0;32m      1\u001b[0m \u001b[38;5;66;03m# String is Immutable(Not chanage) data type?\u001b[39;00m\n\u001b[0;32m      2\u001b[0m \u001b[38;5;66;03m# String value can't be change\u001b[39;00m\n\u001b[1;32m----> 4\u001b[0m promt[\u001b[38;5;241m0\u001b[39m] \u001b[38;5;241m=\u001b[39m \u001b[38;5;124m\"\u001b[39m\u001b[38;5;124mH\u001b[39m\u001b[38;5;124m\"\u001b[39m\n\u001b[0;32m      6\u001b[0m \u001b[38;5;28mprint\u001b[39m(promt[\u001b[38;5;241m0\u001b[39m])\n",
      "\u001b[1;31mTypeError\u001b[0m: 'str' object does not support item assignment"
     ]
    }
   ],
   "source": [
    "# String is Immutable(Not chanage) data type?\n",
    "# String value can't be change\n",
    "\n",
    "promt[0] = \"H\"  # this is not support \n",
    "\n",
    "print(promt[0])  "
   ]
  },
  {
   "cell_type": "code",
   "execution_count": null,
   "id": "87919c98",
   "metadata": {},
   "outputs": [
    {
     "name": "stdout",
     "output_type": "stream",
     "text": [
      "z\n",
      "n\n",
      "M\n"
     ]
    }
   ],
   "source": [
    "# Access the string element using negative idx\n",
    "# negative idx start at the end of the string.\n",
    "\n",
    "# how it's look \n",
    "\n",
    "'''  \n",
    "________________________________________________________________________\n",
    "| -13 | -12 | -11 | -10 | -9 | -8 | -7 | -6 | -5 | -4 | -3 | -2 | -1 |   <- this is Negative idx\n",
    "________________________________________________________________________\n",
    "| M   | y   |     | n   | a  | m  | e  |    | i  | s  |    | K  | z  |\n",
    "___________________________________________________________________________\n",
    "\n",
    "'''\n",
    "\n",
    "print(promt[-1])\n",
    "print(promt[-10])\n",
    "print(promt[-13])\n"
   ]
  },
  {
   "cell_type": "markdown",
   "id": "7d01abc1",
   "metadata": {},
   "source": [
    "#### Slicing"
   ]
  },
  {
   "cell_type": "markdown",
   "id": "46440df9",
   "metadata": {},
   "source": [
    "- Access Substring in a string.\n",
    "\n",
    "- syntax:\n",
    "    str_name[start: end: step]\n",
    "\n",
    "    - start = starting idx(By default 0).\n",
    "    \n",
    "    - end = ending idx (By defalut length of the string). and it's is not include.\n",
    "\n",
    "    - step = steps size (By defalut 1)"
   ]
  },
  {
   "cell_type": "code",
   "execution_count": null,
   "id": "1f1cb0fd",
   "metadata": {},
   "outputs": [],
   "source": [
    "'''\n",
    "_______________________________________________________________________\n",
    "|  0  |  1  |  2   |  3 |  4 |  5 |  6 |  7 |  8 |  9 | 10 | 11 | 12 |   <- this is positive idx\n",
    "_______________________________________________________________________\n",
    "|  M  |   y |      |  n |  a |  m |  e |    |  i |  s |    | K  | z  |_______________________________________________________________________\n",
    "\n",
    "\n",
    "''' "
   ]
  },
  {
   "cell_type": "code",
   "execution_count": null,
   "id": "cbce92bd",
   "metadata": {},
   "outputs": [
    {
     "name": "stdout",
     "output_type": "stream",
     "text": [
      "My name is Kz\n",
      "My name is Kz\n",
      "My name is Kz\n",
      "me is\n",
      "nm sK\n"
     ]
    }
   ],
   "source": [
    "# Example : Slicing with positive idx\n",
    "\n",
    "promt = \"My name is Kz\"\n",
    "\n",
    "print(promt[0:len(promt):1])\n",
    "\n",
    "print(promt[:])\n",
    "\n",
    "print(promt[::])\n",
    "\n",
    "print(promt[5:10])\n",
    "\n",
    "sub_str = promt[3:12:2]\n",
    "print(sub_str)\n",
    "\n"
   ]
  },
  {
   "cell_type": "code",
   "execution_count": null,
   "id": "0e35f4ff",
   "metadata": {},
   "outputs": [],
   "source": [
    "# Example : Slicing with negative idx\n",
    "# promt = \"My name is Kz\"\n",
    "\n",
    "'''\n",
    "_______________________________________________________________________\n",
    "|  M  |   y |      |  n |  a |  m |  e |    |  i |  s |    | K  | z  |_______________________________________________________________________\n",
    "| -13 | -12 | -11 | -10 | -9 | -8 | -7 | -6 | -5 | -4 | -3 | -2 | -1 |   <- this is Negative idx\n",
    "\n",
    "'''"
   ]
  },
  {
   "cell_type": "code",
   "execution_count": 32,
   "id": "ad32a7c9",
   "metadata": {},
   "outputs": [
    {
     "name": "stdout",
     "output_type": "stream",
     "text": [
      "zK si eman yM\n",
      "zK si eman yM\n"
     ]
    }
   ],
   "source": [
    "first_sub_str = promt[-1:-14:-1]  # here -14 is not include\n",
    "\n",
    "print(first_sub_str)\n",
    "\n",
    "print(promt[::-1])\n",
    "\n",
    "# note : by defautl step size is poisitive"
   ]
  },
  {
   "cell_type": "code",
   "execution_count": 34,
   "id": "e715f45a",
   "metadata": {},
   "outputs": [
    {
     "name": "stdout",
     "output_type": "stream",
     "text": [
      "si eman\n",
      "name is \n",
      "nm s\n",
      "zsenM\n"
     ]
    }
   ],
   "source": [
    "print(promt[-4:-11:-1])\n",
    "\n",
    "# start = negative; end = negative ; step = positive\n",
    "\n",
    "print(promt[-10:-2])  # here step size is positive\n",
    "\n",
    "print(promt[-10:-2:2])\n",
    "\n",
    "print(promt[::-3])\n",
    "\n"
   ]
  },
  {
   "cell_type": "markdown",
   "id": "4e225a7d",
   "metadata": {},
   "source": [
    "### 3. String's Method."
   ]
  },
  {
   "cell_type": "markdown",
   "id": "b40a932d",
   "metadata": {},
   "source": [
    "#### Basic String's Method"
   ]
  },
  {
   "cell_type": "code",
   "execution_count": null,
   "id": "b1ed1b9f",
   "metadata": {},
   "outputs": [
    {
     "name": "stdout",
     "output_type": "stream",
     "text": [
      "17\n"
     ]
    }
   ],
   "source": [
    "# 1. len(str)\n",
    "\n",
    "## - Return the length of the string\n",
    "\n",
    "strl = \"Welcome to python\"\n",
    "\n",
    "print(len(strl))  # Total number of characters in strl"
   ]
  },
  {
   "cell_type": "code",
   "execution_count": 43,
   "id": "a96140e6",
   "metadata": {},
   "outputs": [
    {
     "name": "stdout",
     "output_type": "stream",
     "text": [
      "welcome to python\n",
      "welcome to python\n",
      "Welcome to python\n"
     ]
    }
   ],
   "source": [
    "# 2. str.lower()\n",
    "\n",
    "## - convert all characters into lower case characters.\n",
    "\n",
    "new_str = strl.lower()\n",
    "\n",
    "print(new_str)\n",
    "\n",
    "# another way\n",
    "print(strl.lower())\n",
    "\n",
    "# But main string(strl) is not change\n",
    "print(strl)"
   ]
  },
  {
   "cell_type": "code",
   "execution_count": 46,
   "id": "5778bb79",
   "metadata": {},
   "outputs": [
    {
     "name": "stdout",
     "output_type": "stream",
     "text": [
      "WELCOME TO PYTHON\n"
     ]
    }
   ],
   "source": [
    "# 3. str.upper()\n",
    "\n",
    "## - convert all characters into upper case characters and return the new string.\n",
    "\n",
    "print(strl.upper())"
   ]
  },
  {
   "cell_type": "code",
   "execution_count": null,
   "id": "b803c039",
   "metadata": {},
   "outputs": [
    {
     "name": "stdout",
     "output_type": "stream",
     "text": [
      "Hellow everyone how are you today?\n"
     ]
    }
   ],
   "source": [
    "# 4. str.capitalize()\n",
    "\n",
    "## - convert only first world into upper case.\n",
    "\n",
    "message = \"hellow everyone how are you today?\"\n",
    "\n",
    "print(message.capitalize())"
   ]
  },
  {
   "cell_type": "code",
   "execution_count": 48,
   "id": "39afaeb8",
   "metadata": {},
   "outputs": [
    {
     "name": "stdout",
     "output_type": "stream",
     "text": [
      "Hellow Everyone How Are You Today?\n"
     ]
    }
   ],
   "source": [
    "# 5. str.title()\n",
    "\n",
    "## - convert only all first world into upper case.\n",
    "\n",
    "print(message.title())"
   ]
  },
  {
   "cell_type": "markdown",
   "id": "f80e1ee1",
   "metadata": {},
   "source": [
    "#### Advance String's Method"
   ]
  },
  {
   "cell_type": "code",
   "execution_count": null,
   "id": "6702698e",
   "metadata": {},
   "outputs": [
    {
     "name": "stdout",
     "output_type": "stream",
     "text": [
      "True\n",
      "False\n"
     ]
    }
   ],
   "source": [
    "# 6. str.endswith(\"sub_str\")\n",
    "\n",
    "## Return True if string is end with sub_str otherwise False\n",
    "\n",
    "print(message.endswith(\"?\")) # True\n",
    "print(message.endswith(\".\"))"
   ]
  },
  {
   "cell_type": "code",
   "execution_count": null,
   "id": "7685e1dd",
   "metadata": {},
   "outputs": [
    {
     "name": "stdout",
     "output_type": "stream",
     "text": [
      "7\n",
      "7\n"
     ]
    }
   ],
   "source": [
    "# 7. str.index(\"sub_str\")\n",
    "\n",
    "## - return the idx of sub_str only for first occurance.\n",
    "\n",
    "text = \"Thanks you! I am fine today.\"\n",
    "\n",
    "print(text.index(\"you\"))\n",
    "print(text.index(\"y\"))\n",
    "\n"
   ]
  },
  {
   "cell_type": "code",
   "execution_count": null,
   "id": "4682ae68",
   "metadata": {},
   "outputs": [
    {
     "ename": "ValueError",
     "evalue": "substring not found",
     "output_type": "error",
     "traceback": [
      "\u001b[1;31m---------------------------------------------------------------------------\u001b[0m",
      "\u001b[1;31mValueError\u001b[0m                                Traceback (most recent call last)",
      "Cell \u001b[1;32mIn[58], line 3\u001b[0m\n\u001b[0;32m      1\u001b[0m \u001b[38;5;66;03m# if substring is not present in the string then it's generate error.\u001b[39;00m\n\u001b[1;32m----> 3\u001b[0m \u001b[38;5;28mprint\u001b[39m(text\u001b[38;5;241m.\u001b[39mindex(\u001b[38;5;124m\"\u001b[39m\u001b[38;5;124mIam\u001b[39m\u001b[38;5;124m\"\u001b[39m))\n",
      "\u001b[1;31mValueError\u001b[0m: substring not found"
     ]
    }
   ],
   "source": [
    "# if substring is not present in the string then it's generate error.\n",
    "print(text.index(\"Hello\"))\n",
    "print(text.index(\"Iam\")) "
   ]
  },
  {
   "cell_type": "code",
   "execution_count": null,
   "id": "afa7555a",
   "metadata": {},
   "outputs": [
    {
     "name": "stdout",
     "output_type": "stream",
     "text": [
      "0\n"
     ]
    }
   ],
   "source": [
    "# 8. str.find(\"sub_str\")\n",
    "\n",
    "## Return the idx of the sub_str in 1st occurance.\n",
    "\n",
    "sentence = \"Day by Day, John’s health improved.\"\n",
    "\n",
    "print(sentence.find(\"Day\"))  # 0"
   ]
  },
  {
   "cell_type": "code",
   "execution_count": null,
   "id": "06a94c03",
   "metadata": {},
   "outputs": [
    {
     "name": "stdout",
     "output_type": "stream",
     "text": [
      "-1\n"
     ]
    }
   ],
   "source": [
    "# if the sub_str in not present then it's return -1.\n",
    "print(sentence.find(\"Day1\"))  # -1"
   ]
  },
  {
   "cell_type": "code",
   "execution_count": 62,
   "id": "54729363",
   "metadata": {},
   "outputs": [
    {
     "name": "stdout",
     "output_type": "stream",
     "text": [
      "2\n"
     ]
    }
   ],
   "source": [
    "# 9. str.count(\"sub_str\")\n",
    "\n",
    "## - count the total substring in a string.\n",
    "print(sentence.count(\"Day\"))"
   ]
  },
  {
   "cell_type": "code",
   "execution_count": null,
   "id": "7c1b7cc4",
   "metadata": {},
   "outputs": [
    {
     "name": "stdout",
     "output_type": "stream",
     "text": [
      "0\n"
     ]
    }
   ],
   "source": [
    "# if the sub_str in not present then it's return 0.\n",
    "\n",
    "print(sentence.count(\"Day1\"))\n",
    "print(sentence.count(\"day\"))  # this count() is case-sensitive."
   ]
  },
  {
   "cell_type": "code",
   "execution_count": 65,
   "id": "89dc00ce",
   "metadata": {},
   "outputs": [
    {
     "name": "stdout",
     "output_type": "stream",
     "text": [
      "Hello Raiham\n"
     ]
    }
   ],
   "source": [
    "# 10. str.replace(\"old_str\", \"new_sub_str\")\n",
    "\n",
    "## - replace the old_str into new_sub_str\n",
    "\n",
    "strl = \"Hello Kz\"\n",
    "\n",
    "print(strl.replace(\"Kz\", \"Raiham\"))"
   ]
  },
  {
   "cell_type": "code",
   "execution_count": 70,
   "id": "a5191080",
   "metadata": {},
   "outputs": [
    {
     "name": "stdout",
     "output_type": "stream",
     "text": [
      "The idx of '?':  19\n",
      "Total occurance '?':  3\n"
     ]
    }
   ],
   "source": [
    "# Practices Example_01:\n",
    "\n",
    "# WAP to to find '?' and also the the occurances of the given string.\n",
    "\n",
    "# given string\n",
    "sentence = \"\"\" \n",
    "What is your name?\n",
    "What are you doing?\n",
    "Are you free today?\n",
    "\"\"\"\n",
    "\n",
    "# find '?'\n",
    "idx_str = sentence.find(\"?\")\n",
    "print(\"The idx of '?': \", idx_str)\n",
    "\n",
    "# the total occurance\n",
    "\n",
    "total_str = sentence.count(\"?\")\n",
    "\n",
    "print(\"Total occurance '?': \",total_str)\n"
   ]
  },
  {
   "cell_type": "markdown",
   "id": "5b3de819",
   "metadata": {},
   "source": [
    "### 4. String Spliting, joining and Formatting."
   ]
  },
  {
   "cell_type": "markdown",
   "id": "80a3df4d",
   "metadata": {},
   "source": [
    "#### String Spliting"
   ]
  },
  {
   "cell_type": "markdown",
   "id": "3a652f15",
   "metadata": {},
   "source": [
    "- This is another method of string.\n",
    "\n",
    "- Divides a string into a list of substrings, based on a separator (delimiter).\n",
    "\n",
    "- syntax:\n",
    "    - str.split(seperator)\n",
    "\n",
    "    - seperator = where the split happens. Default = whitespace ()."
   ]
  },
  {
   "cell_type": "code",
   "execution_count": null,
   "id": "c48d6a94",
   "metadata": {},
   "outputs": [
    {
     "name": "stdout",
     "output_type": "stream",
     "text": [
      "['What', 'is', 'Python?'] <class 'list'>\n",
      "What is Python?\n"
     ]
    }
   ],
   "source": [
    "# Exmaple: split()\n",
    "\n",
    "promt = \"What is Python?\"\n",
    "\n",
    "lst_promt = promt.split()  #  by default seperator is whitespace\n",
    "\n",
    "print(lst_promt, type(lst_promt)) # convert into list of substring\n",
    "\n",
    "print(promt)"
   ]
  },
  {
   "cell_type": "code",
   "execution_count": null,
   "id": "79a5965c",
   "metadata": {},
   "outputs": [
    {
     "name": "stdout",
     "output_type": "stream",
     "text": [
      "['Today', 'date', '8', '10', '2025']\n"
     ]
    }
   ],
   "source": [
    "# Spefifying the seperator\n",
    "\n",
    "text = \"Today-date-8-10-2025\"\n",
    "\n",
    "tokens = text.split(\"-\")  # seperator = '-'\n",
    "\n",
    "print(tokens)"
   ]
  },
  {
   "cell_type": "code",
   "execution_count": 76,
   "id": "94dd6dc4",
   "metadata": {},
   "outputs": [
    {
     "name": "stdout",
     "output_type": "stream",
     "text": [
      "['apple', 'banna', 'cherry', 'mango']\n"
     ]
    }
   ],
   "source": [
    "# Example: split() with specifying the seperator\n",
    "\n",
    "fruits = \"apple,banna,cherry,mango\"\n",
    "\n",
    "print(fruits.split(\",\"))"
   ]
  },
  {
   "cell_type": "code",
   "execution_count": null,
   "id": "7e6a24eb",
   "metadata": {},
   "outputs": [
    {
     "name": "stdout",
     "output_type": "stream",
     "text": [
      "['C:', 'Users', 'Admin', 'Documents']\n"
     ]
    }
   ],
   "source": [
    "## Extra example:\n",
    "path = \"C:/Users/Admin/Documents\"\n",
    "folders = path.split(\"/\")\n",
    "print(folders)"
   ]
  },
  {
   "cell_type": "code",
   "execution_count": null,
   "id": "52dd3b4c",
   "metadata": {},
   "outputs": [
    {
     "name": "stdout",
     "output_type": "stream",
     "text": [
      "['I love my Country']\n"
     ]
    }
   ],
   "source": [
    "# if the seperator is not present in the string\n",
    "\n",
    "# then returns a list with the entire string.\n",
    "\n",
    "sentence = \"I love my Country\"\n",
    "\n",
    "print(sentence.split(\"-\"))"
   ]
  },
  {
   "cell_type": "markdown",
   "id": "67c586d8",
   "metadata": {},
   "source": [
    "#### joining "
   ]
  },
  {
   "cell_type": "markdown",
   "id": "be7e82a4",
   "metadata": {},
   "source": [
    "- Used to combine (join) the elements of an iterable (like a list or tuple) into a single string.\n",
    "\n",
    "- Syntax of join()\n",
    "    - 'separator'.join(iterable)"
   ]
  },
  {
   "cell_type": "code",
   "execution_count": 86,
   "id": "a4628291",
   "metadata": {},
   "outputs": [
    {
     "name": "stdout",
     "output_type": "stream",
     "text": [
      "Kz Raihan Hello\n",
      "<class 'str'>\n",
      "<class 'list'>\n"
     ]
    }
   ],
   "source": [
    "# Example : join() with space\n",
    "\n",
    "tokens = [\"Kz\",\"Raihan\", \"Hello\"]\n",
    "\n",
    "new_str = ' '.join(tokens)\n",
    "\n",
    "print(new_str)\n",
    "print(type(new_str))\n",
    "print(type(tokens))\n"
   ]
  },
  {
   "cell_type": "code",
   "execution_count": null,
   "id": "0914b36d",
   "metadata": {},
   "outputs": [
    {
     "name": "stdout",
     "output_type": "stream",
     "text": [
      "c and python and java\n"
     ]
    }
   ],
   "source": [
    "# Example join() with ' and ' text(before and after two spaces)\n",
    "\n",
    "words = [\"c\", \"python\", \"java\"]\n",
    "\n",
    "result = \" and \".join(words)\n",
    "\n",
    "print(result)\n",
    "\n"
   ]
  },
  {
   "cell_type": "code",
   "execution_count": 89,
   "id": "f13c08e6",
   "metadata": {},
   "outputs": [
    {
     "name": "stdout",
     "output_type": "stream",
     "text": [
      "Apple,Banna,Mango\n"
     ]
    }
   ],
   "source": [
    "# Example : join with comma(,)\n",
    "\n",
    "items = [\"Apple\", \"Banna\", \"Mango\"]\n",
    "\n",
    "print(\",\".join(items))\n"
   ]
  },
  {
   "cell_type": "markdown",
   "id": "97325ba9",
   "metadata": {},
   "source": [
    "- The key difference between split() and .join()\n",
    "\n",
    "- split() -> breaks and join() -> rebuilds "
   ]
  },
  {
   "cell_type": "code",
   "execution_count": null,
   "id": "f933a711",
   "metadata": {},
   "outputs": [
    {
     "name": "stdout",
     "output_type": "stream",
     "text": [
      "kzraihan@00.com\n"
     ]
    }
   ],
   "source": [
    "# Example: join with email usernames\n",
    "\n",
    "user = [\"kz\", \"raihan\", \"00\", \"com\"]\n",
    "\n",
    "name = ''.join(user[0:2])  # kzraihan (join without space)\n",
    "\n",
    "domain = '.'.join(user[2:])  # 00.com (join with comma.) or also use:'.'.join(user[2:4])\n",
    "\n",
    "email = '@'.join([name,domain])\n",
    "\n",
    "\n",
    "print(email)"
   ]
  },
  {
   "cell_type": "markdown",
   "id": "f09da525",
   "metadata": {},
   "source": [
    "#### Formatting of string"
   ]
  },
  {
   "cell_type": "markdown",
   "id": "55b9808b",
   "metadata": {},
   "source": [
    "- There are there way to format the string\n",
    "\n",
    "- 1. in general way\n",
    "\n",
    "- 2. using f-string \n",
    "\n",
    "- 3. .format() function"
   ]
  },
  {
   "cell_type": "code",
   "execution_count": null,
   "id": "a1c55780",
   "metadata": {},
   "outputs": [
    {
     "name": "stdout",
     "output_type": "stream",
     "text": [
      "Name:  KzRaihan \n",
      " age:  24\n",
      "5.666667 Feet\n",
      "Student:  True\n"
     ]
    }
   ],
   "source": [
    "# 1. in general way\n",
    "\n",
    "name = \"KzRaihan\"\n",
    "age = 24\n",
    "height = 5.666667\n",
    "is_student = True\n",
    "\n",
    "print(\"Name: \", name,\"\\n\", \"age: \", age)\n",
    "\n",
    "print(height, \"Feet\")\n",
    "print(\"Student: \", is_student)\n",
    "\n"
   ]
  },
  {
   "cell_type": "code",
   "execution_count": 111,
   "id": "fc8c424a",
   "metadata": {},
   "outputs": [
    {
     "name": "stdout",
     "output_type": "stream",
     "text": [
      "Student Information: \n",
      "Name: KZRAIHAN\n",
      "Age: 24\n",
      "Height: 5.67\n",
      "Student: True\n"
     ]
    }
   ],
   "source": [
    "# 2. using f-string \n",
    "\n",
    "name = \"KzRaihan\"\n",
    "age = 24\n",
    "height = 5.666667\n",
    "is_student = True\n",
    "\n",
    "\n",
    "info = f\"Name: {name.upper()}\\nAge: {age}\\nHeight: {height:.2f}\\nStudent: {is_student}\"\n",
    "\n",
    "print(f\"Student Information: \\n{info}\")\n"
   ]
  },
  {
   "cell_type": "code",
   "execution_count": 127,
   "id": "5046d748",
   "metadata": {},
   "outputs": [
    {
     "name": "stdout",
     "output_type": "stream",
     "text": [
      "The Model Accuracy: 98.85%\n",
      "The Model Accuracy: 99%\n"
     ]
    }
   ],
   "source": [
    "# Example of f-string formating\n",
    "model_accuracy = 0.9884789\n",
    "\n",
    "print(f\"The Model Accuracy: {model_accuracy:.2%}\") # convert into percentage format\n",
    "\n",
    "print(f\"The Model Accuracy: {model_accuracy:.0%}\")"
   ]
  },
  {
   "cell_type": "code",
   "execution_count": 113,
   "id": "4c070a4b",
   "metadata": {},
   "outputs": [
    {
     "name": "stdout",
     "output_type": "stream",
     "text": [
      "Name : KzRaihan\n",
      "Age: 24\n",
      "Height: 5.666667\n",
      "Student: True\n",
      "\n",
      "Another way\n",
      "Name : KzRaihan\n",
      "Age: 24\n",
      "Height: 5.666667\n",
      "Student: True\n",
      "\n",
      "Another way\n",
      "5.67, 24, True, KzRaihan\n"
     ]
    }
   ],
   "source": [
    "# 3. .format() function\n",
    "\n",
    "name = \"KzRaihan\"\n",
    "age = 24\n",
    "height = 5.666667\n",
    "is_student = True\n",
    "\n",
    "print(\"Name : {}\\nAge: {}\\nHeight: {}\\nStudent: {}\".format(name, age, height,is_student))\n",
    "\n",
    "print(\"\\nAnother way\")\n",
    "print(\"Name : {0}\\nAge: {1}\\nHeight: {2}\\nStudent: {3}\".format(name, age, height,is_student))\n",
    "\n",
    "\n",
    "print(\"\\nAnother way\")\n",
    "print(\"{height:.2f}, {age}, {is_student}, {name}\".format(name = name, age = age, height = height, is_student= is_student))\n",
    "\n"
   ]
  }
 ],
 "metadata": {
  "kernelspec": {
   "display_name": "base",
   "language": "python",
   "name": "python3"
  },
  "language_info": {
   "codemirror_mode": {
    "name": "ipython",
    "version": 3
   },
   "file_extension": ".py",
   "mimetype": "text/x-python",
   "name": "python",
   "nbconvert_exporter": "python",
   "pygments_lexer": "ipython3",
   "version": "3.13.5"
  }
 },
 "nbformat": 4,
 "nbformat_minor": 5
}
