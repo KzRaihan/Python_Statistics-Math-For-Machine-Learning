{
 "cells": [
  {
   "cell_type": "markdown",
   "id": "fbb6afa0",
   "metadata": {},
   "source": [
    "## Topic: List in python"
   ]
  },
  {
   "cell_type": "markdown",
   "id": "1f2265f5",
   "metadata": {},
   "source": [
    "# OUTCOMES\n",
    "\n",
    "- 1. list Basic.\n",
    "\n",
    "- 2. List's Method.\n",
    "\n",
    "- 3. List as stack and queue.\n",
    "\n",
    "- 4. list comprehension.\n",
    "\n",
    "- 5. list comprehension with list of string."
   ]
  },
  {
   "cell_type": "markdown",
   "id": "862f919c",
   "metadata": {},
   "source": [
    "### 1. list Basic"
   ]
  },
  {
   "cell_type": "markdown",
   "id": "207f6373",
   "metadata": {},
   "source": [
    "- list is order, mutable collection of data.\n",
    "\n",
    "- To store multiple different types of data type."
   ]
  },
  {
   "cell_type": "code",
   "execution_count": null,
   "id": "ed843929",
   "metadata": {},
   "outputs": [],
   "source": [
    "# Syntax of list\n",
    "\n",
    "''' \n",
    "list_name = [value1, value2, value3,.....]  # square brackets.\n",
    "\n",
    "'''"
   ]
  },
  {
   "cell_type": "code",
   "execution_count": null,
   "id": "973645ba",
   "metadata": {},
   "outputs": [],
   "source": [
    "# Declaration of list:\n",
    "\n",
    "# empty list\n",
    "empty_lst = [] # 1st way\n",
    "\n",
    "# null list \n",
    "null_lst = list() # 2nd way\n",
    "\n",
    "# integer list\n",
    "int_lst = [10, 20, 30, 40, 50, 60] \n",
    "\n",
    "# float list\n",
    "float_lst = [10.12, 20.44, 50,22, 60.77]\n",
    "\n",
    "# mix list\n",
    "mix_lst = [10, 3.14, \"Kz\", True]\n",
    "\n",
    "# nested list\n",
    "nested_lst = [[10, 20, 30], [\"Kz\", \"Raihan\"], [3.14, 8.56, 9.66, 99.99]]\n"
   ]
  },
  {
   "cell_type": "code",
   "execution_count": 13,
   "id": "f72c48f4",
   "metadata": {},
   "outputs": [
    {
     "name": "stdout",
     "output_type": "stream",
     "text": [
      "Empty list:  [] Type:  <class 'list'>\n",
      "Null list:  [] <class 'list'>\n",
      "Integer list: [10, 20, 30, 40, 50, 60] <class 'list'>\n",
      "Mix list: [10, 3.14, 'Kz', True]\n",
      "Nested list: [[10, 20, 30], ['Kz', 'Raihan'], [3.14, 8.56, 9.66, 99.99]]\n",
      "Inside Nested list: [10, 20, 30]\n",
      "Inside Nested list element: Raihan\n",
      "Inside Nested list element: 99.99\n"
     ]
    }
   ],
   "source": [
    "# display\n",
    "print(\"Empty list: \", empty_lst, \"Type: \", type(empty_lst))\n",
    "\n",
    "print(\"Null list: \", null_lst, type(null_lst))\n",
    "\n",
    "print(f\"Integer list: {int_lst}\", type(int_lst))\n",
    "\n",
    "print(f\"Mix list: {mix_lst}\")\n",
    "\n",
    "print(f\"Nested list: {nested_lst}\")\n",
    "\n",
    "print(f\"Inside Nested list: {nested_lst[0]}\")\n",
    "\n",
    "print(f\"Inside Nested list element: {nested_lst[1][1]}\")\n",
    "\n",
    "print(f\"Inside Nested list element: {nested_lst[-1][-1]}\")\n"
   ]
  },
  {
   "cell_type": "markdown",
   "id": "e1620bbf",
   "metadata": {},
   "source": [
    "#### Indexing"
   ]
  },
  {
   "cell_type": "code",
   "execution_count": 18,
   "id": "52cf2c29",
   "metadata": {},
   "outputs": [
    {
     "name": "stdout",
     "output_type": "stream",
     "text": [
      "['Kz', 24, 5.67, True, 98.88]\n",
      "Kz\n",
      "98.88\n",
      "True\n",
      "5.67\n"
     ]
    }
   ],
   "source": [
    "# Access the list element\n",
    "\n",
    "lst = [\"Kz\", 24, 5.67, True, 98.88]\n",
    "\n",
    "print(lst)\n",
    "\n",
    "# Using idx\n",
    "print(lst[0]) # first element\n",
    "\n",
    "print(lst[-1]) # last element\n",
    "\n",
    "print(lst[3])\n",
    "\n",
    "print(lst[-3])"
   ]
  },
  {
   "cell_type": "markdown",
   "id": "ef18e795",
   "metadata": {},
   "source": [
    "#### mutable properties"
   ]
  },
  {
   "cell_type": "code",
   "execution_count": null,
   "id": "ff31b992",
   "metadata": {},
   "outputs": [
    {
     "ename": "IndexError",
     "evalue": "list assignment index out of range",
     "output_type": "error",
     "traceback": [
      "\u001b[1;31m---------------------------------------------------------------------------\u001b[0m",
      "\u001b[1;31mIndexError\u001b[0m                                Traceback (most recent call last)",
      "Cell \u001b[1;32mIn[26], line 7\u001b[0m\n\u001b[0;32m      4\u001b[0m lst \u001b[38;5;241m=\u001b[39m [\u001b[38;5;124m\"\u001b[39m\u001b[38;5;124mKz\u001b[39m\u001b[38;5;124m\"\u001b[39m, \u001b[38;5;241m24\u001b[39m, \u001b[38;5;241m5.67\u001b[39m, \u001b[38;5;28;01mTrue\u001b[39;00m, \u001b[38;5;241m98.88\u001b[39m]\n\u001b[0;32m      6\u001b[0m \u001b[38;5;66;03m# add using idx\u001b[39;00m\n\u001b[1;32m----> 7\u001b[0m lst[\u001b[38;5;241m5\u001b[39m] \u001b[38;5;241m=\u001b[39m \u001b[38;5;241m100\u001b[39m\n\u001b[0;32m      8\u001b[0m \u001b[38;5;28mprint\u001b[39m(lst)\n\u001b[0;32m     10\u001b[0m lst[\u001b[38;5;241m6\u001b[39m] \u001b[38;5;241m=\u001b[39m \u001b[38;5;124m\"\u001b[39m\u001b[38;5;124mRaihan\u001b[39m\u001b[38;5;124m\"\u001b[39m\n",
      "\u001b[1;31mIndexError\u001b[0m: list assignment index out of range"
     ]
    }
   ],
   "source": [
    "# list is a mutable properties\n",
    "# we can add, insert, delete\n",
    "\n",
    "lst = [\"Kz\", 24, 5.67, True, 98.88]\n",
    "\n",
    "# add using idx\n",
    "lst[5] = 100\n",
    "print(lst)\n",
    "\n",
    "lst[6] = \"Raihan\"\n",
    "print(lst)\n",
    " \n",
    " # Note : we can't add the value or item using idx"
   ]
  },
  {
   "cell_type": "code",
   "execution_count": 30,
   "id": "f94d9629",
   "metadata": {},
   "outputs": [],
   "source": [
    "lst = [\"Kz\", 24, 5.67, True, 98.88]"
   ]
  },
  {
   "cell_type": "code",
   "execution_count": 31,
   "id": "f88927d0",
   "metadata": {},
   "outputs": [
    {
     "name": "stdout",
     "output_type": "stream",
     "text": [
      "['Kz', 26, 5.67, True, 98.88]\n",
      "['Kz', 26, 5.67, False, 98.88]\n"
     ]
    }
   ],
   "source": [
    "# insert using idx\n",
    "lst[1] = 26\n",
    "print(lst)\n",
    "\n",
    "lst[-2] = False\n",
    "print(lst)"
   ]
  },
  {
   "cell_type": "code",
   "execution_count": null,
   "id": "97f33b78",
   "metadata": {},
   "outputs": [
    {
     "name": "stdout",
     "output_type": "stream",
     "text": [
      "[26, 5.67, False, 98.88]\n"
     ]
    }
   ],
   "source": [
    "# delete the list element with del keyword\n",
    "del lst[0]\n",
    "print(lst)"
   ]
  },
  {
   "cell_type": "markdown",
   "id": "07b5e7ee",
   "metadata": {},
   "source": [
    "#### Slicing"
   ]
  },
  {
   "cell_type": "code",
   "execution_count": 42,
   "id": "21c4e2ee",
   "metadata": {},
   "outputs": [
    {
     "name": "stdout",
     "output_type": "stream",
     "text": [
      "['Kz', 24, 5.67, True]\n",
      "[5.67, True, 98.88]\n",
      "['Kz', 24, 5.67, True, 98.88]\n",
      "['Kz', 24, 5.67, True]\n",
      "['Kz', 24, 5.67, True, 98.88]\n",
      "[98.88, True, 5.67, 24, 'Kz']\n",
      "['Kz', 5.67, 98.88]\n",
      "[5.67, 98.88]\n",
      "['Kz', 24, 5.67, True, 98.88]\n"
     ]
    }
   ],
   "source": [
    "# Access and modify the multiple list items.\n",
    "\n",
    "lst = [\"Kz\", 24, 5.67, True, 98.88]\n",
    "\n",
    "# Access the multiple items \n",
    "print(lst[0:4])\n",
    "\n",
    "print(lst[2:]) # here , start_idx = 2; end_idx = len(lst); step = 1\n",
    "\n",
    "print(lst[:])\n",
    "print(lst[:-1]) # after last element; here, start = 0; end = -1; step = 1\n",
    "print(lst[::1])\n",
    "\n",
    "print(lst[::-1]) # last to first ; here, start = -1, end = -6; step = -1\n",
    "\n",
    "print(lst[::2])\n",
    "print(lst[2::2])\n",
    "\n",
    "print(lst)"
   ]
  },
  {
   "cell_type": "markdown",
   "id": "255fcb89",
   "metadata": {},
   "source": [
    "##### Note that: Problem"
   ]
  },
  {
   "cell_type": "code",
   "execution_count": 47,
   "id": "41f57773",
   "metadata": {},
   "outputs": [
    {
     "name": "stdout",
     "output_type": "stream",
     "text": [
      "['Kz', 28, 6.59, True, 98.88]\n",
      "['Kz', 28, 6.59, True, 100.11, False, 10.12, 98.88]\n"
     ]
    }
   ],
   "source": [
    "# modify the multiple items \n",
    "lst = [\"Kz\", 24, 5.67, True, 98.88]\n",
    "\n",
    "lst[1:3] = [28,6.59]\n",
    "print(lst)\n",
    "\n",
    "lst[-1:-4] = [100.11, False, 10.12]  # what happen? here step = 1 (pos)\n",
    "print(lst)"
   ]
  },
  {
   "cell_type": "code",
   "execution_count": 98,
   "id": "7a98fb93",
   "metadata": {},
   "outputs": [
    {
     "name": "stdout",
     "output_type": "stream",
     "text": [
      "['Kz', 10, 3.14]\n"
     ]
    }
   ],
   "source": [
    "emp_slc = []\n",
    "emp_slc[:] = [\"Kz\", 10, 3.14]\n",
    "print(emp_slc)\n",
    "\n"
   ]
  },
  {
   "cell_type": "markdown",
   "id": "89fe69c5",
   "metadata": {},
   "source": [
    "### 2. List's Method."
   ]
  },
  {
   "cell_type": "markdown",
   "id": "2facc367",
   "metadata": {},
   "source": [
    "#### add method"
   ]
  },
  {
   "cell_type": "code",
   "execution_count": null,
   "id": "778e4e3d",
   "metadata": {},
   "outputs": [
    {
     "name": "stdout",
     "output_type": "stream",
     "text": [
      "[10, 20, 30, 40, 50, 80]\n"
     ]
    }
   ],
   "source": [
    "# 1st_method: list.append(item)\n",
    "# Add an item to the end of the list.\n",
    "\n",
    "nums = [10, 20, 30, 40, 50]\n",
    "\n",
    "nums.append(80)\n",
    "\n",
    "print(nums)"
   ]
  },
  {
   "cell_type": "code",
   "execution_count": null,
   "id": "ae752921",
   "metadata": {},
   "outputs": [
    {
     "name": "stdout",
     "output_type": "stream",
     "text": [
      "[10, 20, 30, 40, 50, 80, 85, 90]\n"
     ]
    }
   ],
   "source": [
    "# 2th method : list.extend([item1, item2, item3]) \n",
    "\n",
    "# Add multiple items at the end of the list\n",
    "\n",
    "nums.extend([85, 90])\n",
    "\n",
    "print(nums)\n"
   ]
  },
  {
   "cell_type": "markdown",
   "id": "2e05e3b4",
   "metadata": {},
   "source": [
    "#### insert"
   ]
  },
  {
   "cell_type": "code",
   "execution_count": null,
   "id": "83452012",
   "metadata": {},
   "outputs": [
    {
     "name": "stdout",
     "output_type": "stream",
     "text": [
      "[10, 20, 25, 30, 40, 50]\n"
     ]
    }
   ],
   "source": [
    "# 3th method: list.insert(idx,item)\n",
    "# insert an item any position to the list.\n",
    "\n",
    "nums = [10, 20, 30, 40, 50]\n",
    "\n",
    "nums.insert(2,25)\n",
    "\n",
    "print(nums)\n"
   ]
  },
  {
   "cell_type": "markdown",
   "id": "7ac532e6",
   "metadata": {},
   "source": [
    "#### delete"
   ]
  },
  {
   "cell_type": "code",
   "execution_count": 54,
   "id": "a8beef39",
   "metadata": {},
   "outputs": [
    {
     "name": "stdout",
     "output_type": "stream",
     "text": [
      "[10, 20, 30, 40]\n",
      "50\n"
     ]
    }
   ],
   "source": [
    "# 4th method: list.pop()\n",
    "# return and remove the last element\n",
    "nums = [10, 20, 30, 40, 50]\n",
    "\n",
    "last_ele = nums.pop()\n",
    "\n",
    "print(nums)\n",
    "\n",
    "print(last_ele)\n"
   ]
  },
  {
   "cell_type": "code",
   "execution_count": null,
   "id": "a1f71b6e",
   "metadata": {},
   "outputs": [
    {
     "name": "stdout",
     "output_type": "stream",
     "text": [
      "[10, 20, 40, 50]\n",
      "30\n"
     ]
    }
   ],
   "source": [
    "# another way: list.pop(idx)\n",
    "# return and remove the idx item (specific item)\n",
    "\n",
    "nums = [10, 20, 30, 40, 50]\n",
    "\n",
    "remove_30 = nums.pop(2) # here 2 is an index.\n",
    "\n",
    "print(nums)\n",
    "\n",
    "print(remove_30)\n"
   ]
  },
  {
   "cell_type": "code",
   "execution_count": null,
   "id": "2c1edfda",
   "metadata": {},
   "outputs": [
    {
     "name": "stdout",
     "output_type": "stream",
     "text": [
      "[10, 20, 30, 50]\n"
     ]
    }
   ],
   "source": [
    "# for negative idx\n",
    "nums = [10, 20, 30, 40, 50]\n",
    "\n",
    "remove_30 = nums.pop(-2) # here -2 is an index.\n",
    "print(nums)"
   ]
  },
  {
   "cell_type": "code",
   "execution_count": null,
   "id": "020720fd",
   "metadata": {},
   "outputs": [
    {
     "ename": "IndexError",
     "evalue": "pop index out of range",
     "output_type": "error",
     "traceback": [
      "\u001b[1;31m---------------------------------------------------------------------------\u001b[0m",
      "\u001b[1;31mIndexError\u001b[0m                                Traceback (most recent call last)",
      "Cell \u001b[1;32mIn[85], line 3\u001b[0m\n\u001b[0;32m      1\u001b[0m \u001b[38;5;66;03m# if the pop idx out of the range\u001b[39;00m\n\u001b[0;32m      2\u001b[0m nums \u001b[38;5;241m=\u001b[39m [\u001b[38;5;241m10\u001b[39m, \u001b[38;5;241m20\u001b[39m, \u001b[38;5;241m30\u001b[39m, \u001b[38;5;241m40\u001b[39m, \u001b[38;5;241m50\u001b[39m]\n\u001b[1;32m----> 3\u001b[0m remove_30 \u001b[38;5;241m=\u001b[39m nums\u001b[38;5;241m.\u001b[39mpop(\u001b[38;5;241m-\u001b[39m\u001b[38;5;241m20\u001b[39m) \u001b[38;5;66;03m# here -2 is an index.\u001b[39;00m\n\u001b[0;32m      4\u001b[0m \u001b[38;5;28mprint\u001b[39m(nums)\n",
      "\u001b[1;31mIndexError\u001b[0m: pop index out of range"
     ]
    }
   ],
   "source": [
    "# if the pop idx out of the range then return IndexError\n",
    "nums = [10, 20, 30, 40, 50]\n",
    "remove_30 = nums.pop(-20) # here -2 is an index.\n",
    "print(nums)"
   ]
  },
  {
   "cell_type": "code",
   "execution_count": 77,
   "id": "ffeb3432",
   "metadata": {},
   "outputs": [
    {
     "name": "stdout",
     "output_type": "stream",
     "text": [
      "[20, 30, 40, 50, 20, 10]\n"
     ]
    }
   ],
   "source": [
    "# 5th method: list.remove(\"item\")\n",
    "# remove the item at first occurance\n",
    "\n",
    "nums = [10, 20, 30, 40, 50, 20, 10]\n",
    "\n",
    "nums.remove(10) # first 10 is remove in the list\n",
    "\n",
    "print(nums)\n"
   ]
  },
  {
   "cell_type": "code",
   "execution_count": null,
   "id": "724d7810",
   "metadata": {},
   "outputs": [
    {
     "ename": "ValueError",
     "evalue": "list.remove(x): x not in list",
     "output_type": "error",
     "traceback": [
      "\u001b[1;31m---------------------------------------------------------------------------\u001b[0m",
      "\u001b[1;31mValueError\u001b[0m                                Traceback (most recent call last)",
      "Cell \u001b[1;32mIn[78], line 2\u001b[0m\n\u001b[0;32m      1\u001b[0m \u001b[38;5;66;03m# if the remove item is not found then return\u001b[39;00m\n\u001b[1;32m----> 2\u001b[0m nums\u001b[38;5;241m.\u001b[39mremove(\u001b[38;5;241m100\u001b[39m)\n",
      "\u001b[1;31mValueError\u001b[0m: list.remove(x): x not in list"
     ]
    }
   ],
   "source": [
    "# if the remove item is not found in list then return ValueError\n",
    "nums.remove(100) "
   ]
  },
  {
   "cell_type": "code",
   "execution_count": 59,
   "id": "e25a5fc2",
   "metadata": {},
   "outputs": [
    {
     "name": "stdout",
     "output_type": "stream",
     "text": [
      "[]\n"
     ]
    }
   ],
   "source": [
    "# 6th: list.clear()\n",
    "# Remove all items in the list.\n",
    "\n",
    "nums = [10, 20, 30, 40, 50, 20, 10]\n",
    "\n",
    "nums.clear()\n",
    "\n",
    "print(nums)\n"
   ]
  },
  {
   "cell_type": "markdown",
   "id": "8461c78a",
   "metadata": {},
   "source": [
    "#### sorting"
   ]
  },
  {
   "cell_type": "code",
   "execution_count": 70,
   "id": "c2cfe4a1",
   "metadata": {},
   "outputs": [
    {
     "name": "stdout",
     "output_type": "stream",
     "text": [
      "[10, 10, 20, 20, 30, 40, 50]\n"
     ]
    }
   ],
   "source": [
    "# 7th Method : list.sort() \n",
    "# sort the list in ascending order.\n",
    "\n",
    "nums = [10, 20, 30, 40, 50, 20, 10]\n",
    "\n",
    "nums.sort()\n",
    "\n",
    "print(nums)"
   ]
  },
  {
   "cell_type": "code",
   "execution_count": 71,
   "id": "226b285c",
   "metadata": {},
   "outputs": [
    {
     "name": "stdout",
     "output_type": "stream",
     "text": [
      "[10, 10, 20, 20, 30, 40, 50]\n",
      "[50, 40, 30, 20, 20, 10, 10]\n"
     ]
    }
   ],
   "source": [
    "# 8th Method : decending order\n",
    "# 1 way: list.reverse() -> reverse the list.\n",
    "\n",
    "nums = [10, 20, 30, 40, 50, 20, 10]\n",
    "\n",
    "nums.sort()\n",
    "\n",
    "print(nums)\n",
    "\n",
    "# reverse the sorted list\n",
    "nums.reverse()\n",
    "\n",
    "print(nums)"
   ]
  },
  {
   "cell_type": "code",
   "execution_count": 73,
   "id": "60ea0818",
   "metadata": {},
   "outputs": [
    {
     "name": "stdout",
     "output_type": "stream",
     "text": [
      "[50, 40, 30, 20, 20, 10, 10]\n"
     ]
    }
   ],
   "source": [
    "# 2 way : list.sort(reverse = True)\n",
    "\n",
    "nums = [10, 20, 30, 40, 50, 20, 10]\n",
    "\n",
    "nums.sort(reverse=True)\n",
    "\n",
    "print(nums)\n"
   ]
  },
  {
   "cell_type": "markdown",
   "id": "cd73ceac",
   "metadata": {},
   "source": [
    "#### Some Extra list's Method"
   ]
  },
  {
   "cell_type": "code",
   "execution_count": null,
   "id": "f80868e4",
   "metadata": {},
   "outputs": [
    {
     "name": "stdout",
     "output_type": "stream",
     "text": [
      "2\n"
     ]
    }
   ],
   "source": [
    "# 9th: list.index(\"Item\")\n",
    "# return the item index of the first occurance\n",
    "\n",
    "fruits = ['Apple', 'Mango', 'banana', 'cherry', 'kiwi']\n",
    "\n",
    "print(fruits.index(\"banana\"))\n"
   ]
  },
  {
   "cell_type": "code",
   "execution_count": null,
   "id": "db10011a",
   "metadata": {},
   "outputs": [
    {
     "ename": "ValueError",
     "evalue": "'Watermelon' is not in list",
     "output_type": "error",
     "traceback": [
      "\u001b[1;31m---------------------------------------------------------------------------\u001b[0m",
      "\u001b[1;31mValueError\u001b[0m                                Traceback (most recent call last)",
      "Cell \u001b[1;32mIn[75], line 3\u001b[0m\n\u001b[0;32m      1\u001b[0m \u001b[38;5;66;03m# if the item is not found then return \u001b[39;00m\n\u001b[1;32m----> 3\u001b[0m \u001b[38;5;28mprint\u001b[39m(fruits\u001b[38;5;241m.\u001b[39mindex(\u001b[38;5;124m\"\u001b[39m\u001b[38;5;124mWatermelon\u001b[39m\u001b[38;5;124m\"\u001b[39m))\n",
      "\u001b[1;31mValueError\u001b[0m: 'Watermelon' is not in list"
     ]
    }
   ],
   "source": [
    "# if the item is not found then return ValueError\n",
    "print(fruits.index(\"Watermelon\"))"
   ]
  },
  {
   "cell_type": "code",
   "execution_count": null,
   "id": "c84b4a5a",
   "metadata": {},
   "outputs": [
    {
     "name": "stdout",
     "output_type": "stream",
     "text": [
      "Total Mango in fruits: 2\n",
      "Total Apple in fruits: 1\n"
     ]
    }
   ],
   "source": [
    "# 10th Method : count(\"item\") \n",
    "##  counting the item that inside the list\n",
    "\n",
    "fruits = ['Apple', 'Mango', 'banana', 'cherry', 'kiwi', 'Mango', \"apple\"]\n",
    "\n",
    "# count Mango\n",
    "count_mango = fruits.count(\"Mango\")\n",
    "print(f\"Total Mango in fruits: {count_mango}\")\n",
    "\n",
    "\n",
    "# count Apple\n",
    "count_apple = fruits.count(\"Apple\")\n",
    "print(f\"Total Apple in fruits: {count_apple}\")\n",
    "\n",
    "# count() is a case-sensitive\n"
   ]
  },
  {
   "cell_type": "code",
   "execution_count": 91,
   "id": "8b6d3585",
   "metadata": {},
   "outputs": [
    {
     "name": "stdout",
     "output_type": "stream",
     "text": [
      "Copy Fruits: ['Apple', 'Mango', 'banana', 'cherry', 'kiwi']\n",
      "Main Fruits: ['Apple', 'Mango', 'banana', 'cherry', 'kiwi']\n"
     ]
    }
   ],
   "source": [
    "# 11th Method : copy()\n",
    "# copy all list items\n",
    "\n",
    "fruits = ['Apple', 'Mango', 'banana', 'cherry', 'kiwi']\n",
    "\n",
    "copy_fruits = fruits.copy()\n",
    "\n",
    "print(f\"Copy Fruits: {copy_fruits}\")\n",
    "\n",
    "# main fruits\n",
    "print(f\"Main Fruits: {fruits}\")"
   ]
  },
  {
   "cell_type": "markdown",
   "id": "f7e84897",
   "metadata": {},
   "source": [
    "### 3. List as stack and queue."
   ]
  },
  {
   "cell_type": "markdown",
   "id": "1fb05a7a",
   "metadata": {},
   "source": [
    "#### List as Stack"
   ]
  },
  {
   "cell_type": "code",
   "execution_count": null,
   "id": "9a4df756",
   "metadata": {},
   "outputs": [
    {
     "name": "stdout",
     "output_type": "stream",
     "text": [
      "[10, 20, 30, 40, 50]\n",
      "Top Element: 50\n",
      "Top Element idx: 4\n",
      "For first pop  element: 50\n",
      "Now Top Element: 40\n",
      "Top Element idx: 3\n"
     ]
    }
   ],
   "source": [
    "# Stack: stack is a linear data structure that follows the Last-In, First-Out (LIFO) principle.\n",
    "\n",
    "stack = []\n",
    "\n",
    "# push value in stack or inserting..\n",
    "stack.append(10)\n",
    "stack.append(20)\n",
    "stack.append(30)\n",
    "stack.append(40)\n",
    "stack.append(50)\n",
    "\n",
    "# now stack\n",
    "print(stack)\n",
    "\n",
    "# To check the top element or last element(insert) in stack\n",
    "top_element = stack[-1]\n",
    "print(f\"Top Element: {top_element}\")\n",
    "\n",
    "# idx of the current top element\n",
    "print(f\"Top Element idx: {stack.index(top_element)}\")\n",
    "\n",
    "\n",
    "# pop or remove or getting the top element\n",
    "print(f\"For first pop  element: {stack.pop()}\")\n",
    "\n",
    "# now top element after first pop element\n",
    "current_top = stack[-1]\n",
    "print(f\"Now Top Element: {current_top}\")\n",
    "\n",
    "# idx of the current top element\n",
    "print(f\"Top Element idx: {stack.index(current_top)}\")\n",
    "\n",
    "# NOTE: here, index is automatically change"
   ]
  },
  {
   "cell_type": "code",
   "execution_count": 145,
   "id": "d68a2218",
   "metadata": {},
   "outputs": [
    {
     "name": "stdout",
     "output_type": "stream",
     "text": [
      "[10, 20, 30, 40, 50]\n",
      "The Current Top Element in Stack: 50\n",
      "Idx of Currrent Top Element: 4\n",
      "[10, 20, 30, 40, 50]\n",
      "Pop the top elements and store into new list\n",
      "[50, 40, 30, 20, 10]\n"
     ]
    }
   ],
   "source": [
    "# another way\n",
    "stack = []\n",
    "\n",
    "# push value in stack or inserting..\n",
    "for i in range(10,51,10):\n",
    "    stack.append(i)\n",
    "print(stack)\n",
    "\n",
    "# first Stack Top Element\n",
    "current_top = stack[-1] # this last element\n",
    "\n",
    "print(f\"The Current Top Element in Stack: {current_top}\")\n",
    "print(f\"Idx of Currrent Top Element: {stack.index(current_top)}\")\n",
    "\n",
    "\n",
    "print(stack)\n",
    "\n",
    "# pop or remove or getting the values\n",
    "\n",
    "stack = [10, 20, 30, 40, 50]\n",
    "\n",
    "length = len(stack)\n",
    "get_value = []\n",
    "value = 0\n",
    "\n",
    "print(\"Pop the top elements and store into new list\")\n",
    "i = 1\n",
    "while i <= length:\n",
    "     value = stack.pop()\n",
    "     get_value.append(value)\n",
    "\n",
    "     i += 1\n",
    "     \n",
    "print(get_value) "
   ]
  },
  {
   "cell_type": "markdown",
   "id": "39b1557f",
   "metadata": {},
   "source": [
    "#### List as Queue"
   ]
  },
  {
   "cell_type": "code",
   "execution_count": null,
   "id": "d0262778",
   "metadata": {},
   "outputs": [
    {
     "name": "stdout",
     "output_type": "stream",
     "text": [
      "[10, 20, 30, 40, 50]\n",
      "Front Element: 10\n",
      "Delete the Front Element: 10\n",
      "[20, 30, 40, 50]\n"
     ]
    }
   ],
   "source": [
    "# Queue is a linear data structure that follows the First-In, First-Out (FIFO) principle.\n",
    "\n",
    "queue = []\n",
    "\n",
    "# add value in the queue\n",
    "queue.append(10)\n",
    "queue.append(20)\n",
    "queue.append(30)\n",
    "queue.append(40)\n",
    "queue.append(50)\n",
    "\n",
    "# Display the queue\n",
    "print(queue)\n",
    "\n",
    "# To see the top element in the queue\n",
    "front_ele = queue[0]\n",
    "print(f\"Front Element: {front_ele}\")\n",
    "\n",
    "# delete the top element\n",
    "del_front_ele = queue.pop(0)\n",
    "print(f\"Delete the Front Element: {del_front_ele}\")\n",
    "\n",
    "# now queue elements\n",
    "print(queue)\n"
   ]
  },
  {
   "cell_type": "markdown",
   "id": "7438d7df",
   "metadata": {},
   "source": [
    "### 4. list comprehension."
   ]
  },
  {
   "cell_type": "code",
   "execution_count": 166,
   "id": "56df6e54",
   "metadata": {},
   "outputs": [
    {
     "name": "stdout",
     "output_type": "stream",
     "text": [
      "[11, 12, 13, 14, 15, 16, 17, 18, 19, 20, 21, 22, 23, 24, 25, 26, 27, 28, 29, 30, 31, 32, 33, 34, 35, 36, 37, 38, 39, 40, 41, 42, 43, 44, 45, 46, 47, 48, 49, 50, 51, 52, 53, 54, 55, 56, 57, 58, 59, 60]\n",
      "[11, 12, 13, 14, 15, 16, 17, 18, 19, 20, 21, 22, 23, 24, 25, 26, 27, 28, 29, 30, 31, 32, 33, 34, 35, 36, 37, 38, 39, 40, 41, 42, 43, 44, 45, 46, 47, 48, 49, 50, 51, 52, 53, 54, 55, 56, 57, 58, 59, 60]\n"
     ]
    }
   ],
   "source": [
    "# list comprehension \n",
    "# -> allow to create list operation in concise way.\n",
    "# -> list comprehension is faster then the traditional loops.\n",
    "\n",
    "# 1. Basic Syntax of list comprehension\n",
    "#   - new_lst = [expression for item in sequence]\n",
    "\n",
    "# Example :To print 1 to 50 with plus 10\n",
    "# naive way\n",
    "\n",
    "nums = []\n",
    "\n",
    "for i in range(1,51):\n",
    "    nums.append(i+10)\n",
    "print(nums)\n",
    "\n",
    "# convert this into list comprehension\n",
    "\n",
    "random_lst = [i+10 for i in range(1,51)]\n",
    "print(random_lst)"
   ]
  },
  {
   "cell_type": "code",
   "execution_count": 168,
   "id": "243195cb",
   "metadata": {},
   "outputs": [
    {
     "name": "stdout",
     "output_type": "stream",
     "text": [
      "[2, 4, 6, 8, 10, 12, 14, 16, 18, 20, 22, 24, 26, 28, 30, 32, 34, 36, 38, 40, 42, 44, 46, 48, 50]\n",
      "[2, 4, 6, 8, 10, 12, 14, 16, 18, 20, 22, 24, 26, 28, 30, 32, 34, 36, 38, 40, 42, 44, 46, 48, 50]\n"
     ]
    }
   ],
   "source": [
    "# 2. list comprehension with condition cds\n",
    "\n",
    "# print from 1 to 50 even nums \n",
    "\n",
    "# naive way\n",
    "even_nums = []\n",
    "\n",
    "for i in range(1,51):\n",
    "    if i %2 == 0:\n",
    "        even_nums.append(i)\n",
    "\n",
    "print(even_nums)\n",
    "\n",
    "# Apply list comprehension \n",
    "even = [item for item in range(1,51) if item %2 == 0]\n",
    "print(even)"
   ]
  },
  {
   "cell_type": "markdown",
   "id": "7e872450",
   "metadata": {},
   "source": [
    "### 5. list comprehension with list of string."
   ]
  },
  {
   "cell_type": "code",
   "execution_count": 171,
   "id": "73403d0d",
   "metadata": {},
   "outputs": [
    {
     "ename": "AttributeError",
     "evalue": "'list' object has no attribute 'lower'",
     "output_type": "error",
     "traceback": [
      "\u001b[1;31m---------------------------------------------------------------------------\u001b[0m",
      "\u001b[1;31mAttributeError\u001b[0m                            Traceback (most recent call last)",
      "Cell \u001b[1;32mIn[171], line 4\u001b[0m\n\u001b[0;32m      1\u001b[0m fruits \u001b[38;5;241m=\u001b[39m [\u001b[38;5;124m\"\u001b[39m\u001b[38;5;124mApply\u001b[39m\u001b[38;5;124m\"\u001b[39m, \u001b[38;5;124m\"\u001b[39m\u001b[38;5;124mOrange\u001b[39m\u001b[38;5;124m\"\u001b[39m, \u001b[38;5;124m\"\u001b[39m\u001b[38;5;124mLICHi\u001b[39m\u001b[38;5;124m\"\u001b[39m]\n\u001b[0;32m      3\u001b[0m \u001b[38;5;66;03m# naive way to upper case of all list of string\u001b[39;00m\n\u001b[1;32m----> 4\u001b[0m new_fruit \u001b[38;5;241m=\u001b[39m fruits\u001b[38;5;241m.\u001b[39mlower()\n\u001b[0;32m      6\u001b[0m \u001b[38;5;28mprint\u001b[39m(new_fruit)\n",
      "\u001b[1;31mAttributeError\u001b[0m: 'list' object has no attribute 'lower'"
     ]
    }
   ],
   "source": [
    "fruits = [\"Apply\", \"Orange\", \"LICHi\"]\n",
    "\n",
    "# naive way to upper case of all list of string\n",
    "new_fruit = fruits.lower()\n",
    "\n",
    "print(new_fruit)"
   ]
  },
  {
   "cell_type": "code",
   "execution_count": null,
   "id": "e025d7b0",
   "metadata": {},
   "outputs": [
    {
     "name": "stdout",
     "output_type": "stream",
     "text": [
      "['APPLY', 'ORANGE', 'LICHI']\n"
     ]
    }
   ],
   "source": [
    "# solve\n",
    "fruits = [\"Apply\", \"Orange\", \"LICHi\"]\n",
    "\n",
    "upper_lst = []\n",
    "\n",
    "for fruit in fruits:\n",
    "    upper_lst.append(fruit.upper())\n",
    "\n",
    "print(upper_lst)"
   ]
  },
  {
   "cell_type": "code",
   "execution_count": 173,
   "id": "d446ee47",
   "metadata": {},
   "outputs": [
    {
     "name": "stdout",
     "output_type": "stream",
     "text": [
      "['apply', 'orange', 'lichi']\n"
     ]
    }
   ],
   "source": [
    "# apply list comprehension of string of list\n",
    "\n",
    "fruits = [\"Apply\", \"Orange\", \"LICHi\"]\n",
    "\n",
    "lower_lst = [item.lower() for item in fruits]\n",
    "\n",
    "print(lower_lst)"
   ]
  },
  {
   "cell_type": "code",
   "execution_count": 174,
   "id": "f9fbdc34",
   "metadata": {},
   "outputs": [
    {
     "name": "stdout",
     "output_type": "stream",
     "text": [
      "i\n"
     ]
    }
   ],
   "source": [
    "### Practices Examples\n",
    "# 1. What will be the output of the following code?\n",
    "\n",
    "word = \"Pythonista\"\n",
    "print(word[-4])"
   ]
  },
  {
   "cell_type": "code",
   "execution_count": 175,
   "id": "0849334d",
   "metadata": {},
   "outputs": [
    {
     "name": "stdout",
     "output_type": "stream",
     "text": [
      "loo\n"
     ]
    }
   ],
   "source": [
    "# 2. What will the code print?\n",
    "\n",
    "s = \"HelloWorld\"\n",
    "print(s[2:8:2])\n"
   ]
  },
  {
   "cell_type": "code",
   "execution_count": 176,
   "id": "645f246a",
   "metadata": {},
   "outputs": [
    {
     "name": "stdout",
     "output_type": "stream",
     "text": [
      "2\n"
     ]
    }
   ],
   "source": [
    "# 3. What will be the output?\n",
    "\n",
    "text = \"banana bandana\"\n",
    "\n",
    "print(text.count(\"ana\"))\n"
   ]
  },
  {
   "cell_type": "code",
   "execution_count": 178,
   "id": "fb7739f2",
   "metadata": {},
   "outputs": [
    {
     "name": "stdout",
     "output_type": "stream",
     "text": [
      "['red', 'green', 'blue']\n",
      "blue-green-red\n"
     ]
    }
   ],
   "source": [
    "# 4. What will be the output?\n",
    "msg = \"red,green,blue\"\n",
    "\n",
    "colors = msg.split(\",\")\n",
    "print(colors)\n",
    "\n",
    "print(\"-\".join(colors[::-1]))"
   ]
  },
  {
   "cell_type": "code",
   "execution_count": 179,
   "id": "3fcb927a",
   "metadata": {},
   "outputs": [
    {
     "name": "stdout",
     "output_type": "stream",
     "text": [
      "[2, 4, 12, 8, 10]\n"
     ]
    }
   ],
   "source": [
    "# 5. What will be the output?\n",
    "\n",
    "nums = [2,4,6,8,10]\n",
    "\n",
    "nums[2] = nums[2] * nums[0]\n",
    "print(nums)"
   ]
  },
  {
   "cell_type": "code",
   "execution_count": 180,
   "id": "aa1bff19",
   "metadata": {},
   "outputs": [
    {
     "name": "stdout",
     "output_type": "stream",
     "text": [
      "['d', 'b']\n"
     ]
    }
   ],
   "source": [
    "# 6.What will be the output?\n",
    "\n",
    "letters = ['a', 'b', 'c', 'd', 'e']\n",
    "\n",
    "print(letters[1:4][::-2])"
   ]
  },
  {
   "cell_type": "code",
   "execution_count": 181,
   "id": "66171fca",
   "metadata": {},
   "outputs": [
    {
     "name": "stdout",
     "output_type": "stream",
     "text": [
      "2\n"
     ]
    }
   ],
   "source": [
    "# 7. What will be the output?\n",
    "\n",
    "stack = []\n",
    "\n",
    "for i in range(1,4):\n",
    "    stack.append(i)\n",
    "\n",
    "stack.pop()\n",
    "\n",
    "print(stack[-1])"
   ]
  },
  {
   "cell_type": "code",
   "execution_count": 182,
   "id": "37932357",
   "metadata": {},
   "outputs": [
    {
     "name": "stdout",
     "output_type": "stream",
     "text": [
      "30\n"
     ]
    }
   ],
   "source": [
    "# 8. What will be the output?\n",
    "\n",
    "queue = [10, 20, 30, 40]\n",
    "\n",
    "queue.pop(1)\n",
    "\n",
    "queue.append(50)\n",
    "\n",
    "queue.pop(0)\n",
    "\n",
    "print(queue[0])"
   ]
  },
  {
   "cell_type": "code",
   "execution_count": 183,
   "id": "18924f25",
   "metadata": {},
   "outputs": [
    {
     "name": "stdout",
     "output_type": "stream",
     "text": [
      "[4, 16]\n"
     ]
    }
   ],
   "source": [
    "# 9. What will be the output?\n",
    "\n",
    "nums = [1,2,3,4]\n",
    "\n",
    "squares = [x**2 for x in nums if x % 2 == 0]\n",
    "print(squares)"
   ]
  },
  {
   "cell_type": "code",
   "execution_count": 184,
   "id": "89fc09ef",
   "metadata": {},
   "outputs": [
    {
     "name": "stdout",
     "output_type": "stream",
     "text": [
      "[1, 2, 3]\n"
     ]
    }
   ],
   "source": [
    "# 10. What will be the output?\n",
    "\n",
    "x = [1,2,3,2,4]\n",
    "\n",
    "x.remove(4)\n",
    "\n",
    "x.pop()\n",
    "\n",
    "print(x)"
   ]
  },
  {
   "cell_type": "code",
   "execution_count": null,
   "id": "cc9c0d81",
   "metadata": {},
   "outputs": [],
   "source": [
    "# E. Lowest Number\n",
    "# Given a number N and an array A of N numbers. Print the lowest number and its position.\n",
    "'''\n",
    " Input\n",
    "5\n",
    "5 6 2 3 2\n",
    "Output\n",
    "2 3\n",
    "\n",
    "'''"
   ]
  },
  {
   "cell_type": "code",
   "execution_count": 6,
   "id": "8f3cd4e1",
   "metadata": {},
   "outputs": [
    {
     "ename": "TypeError",
     "evalue": "object of type 'int' has no len()",
     "output_type": "error",
     "traceback": [
      "\u001b[1;31m---------------------------------------------------------------------------\u001b[0m",
      "\u001b[1;31mTypeError\u001b[0m                                 Traceback (most recent call last)",
      "Cell \u001b[1;32mIn[6], line 10\u001b[0m\n\u001b[0;32m      7\u001b[0m lst \u001b[38;5;241m=\u001b[39m int_nums_str\u001b[38;5;241m.\u001b[39msplit()\n\u001b[0;32m      9\u001b[0m i \u001b[38;5;241m=\u001b[39m \u001b[38;5;241m0\u001b[39m\n\u001b[1;32m---> 10\u001b[0m \u001b[38;5;28;01mwhile\u001b[39;00m i \u001b[38;5;241m<\u001b[39m\u001b[38;5;241m=\u001b[39m \u001b[38;5;28mlen\u001b[39m(lst):\n\u001b[0;32m     11\u001b[0m     lst \u001b[38;5;241m=\u001b[39m \u001b[38;5;28mint\u001b[39m(i)\n\u001b[0;32m     13\u001b[0m     i \u001b[38;5;241m+\u001b[39m\u001b[38;5;241m=\u001b[39m \u001b[38;5;241m1\u001b[39m\n",
      "\u001b[1;31mTypeError\u001b[0m: object of type 'int' has no len()"
     ]
    }
   ],
   "source": [
    "num = int(input())\n",
    "\n",
    "# input numbers\n",
    "int_nums_str = input()\n",
    "\n",
    "# convert into int_nums\n",
    "lst = int_nums_str.split()\n",
    "\n",
    "i = 0\n",
    "while i <= len(lst):\n",
    "    lst = int(i)\n",
    "\n",
    "    i += 1\n",
    "    \n",
    "\n",
    "print(lst)"
   ]
  },
  {
   "cell_type": "code",
   "execution_count": null,
   "id": "591e4ab4",
   "metadata": {},
   "outputs": [],
   "source": []
  }
 ],
 "metadata": {
  "kernelspec": {
   "display_name": "base",
   "language": "python",
   "name": "python3"
  },
  "language_info": {
   "codemirror_mode": {
    "name": "ipython",
    "version": 3
   },
   "file_extension": ".py",
   "mimetype": "text/x-python",
   "name": "python",
   "nbconvert_exporter": "python",
   "pygments_lexer": "ipython3",
   "version": "3.13.5"
  }
 },
 "nbformat": 4,
 "nbformat_minor": 5
}
