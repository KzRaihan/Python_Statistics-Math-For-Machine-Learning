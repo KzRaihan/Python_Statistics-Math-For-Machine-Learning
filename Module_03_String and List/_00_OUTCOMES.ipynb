{
 "cells": [
  {
   "cell_type": "markdown",
   "id": "58c6192f",
   "metadata": {},
   "source": [
    "## Topic: String and List in python"
   ]
  },
  {
   "cell_type": "markdown",
   "id": "8c4a45c7",
   "metadata": {},
   "source": [
    "### OUTCOMES\n",
    "\n",
    "#### String\n",
    "- 1. Basic of String.\n",
    "\n",
    "- 2. String Indexing and Slcing.\n",
    "\n",
    "- 3. String's Method.\n",
    "\n",
    "- 4. String Spliting, joining and Formatting.\n",
    "\n",
    "- 5. Practices Example.\n",
    "\n",
    "\n",
    "##### List \n",
    "- 1. list Basic.\n",
    "\n",
    "- 2. List's Method.\n",
    "\n",
    "- 3. List as stack and queue.\n",
    "\n",
    "- 4. list comprehension.\n",
    "\n",
    "- 5. list comprehension with list of string.\n"
   ]
  }
 ],
 "metadata": {
  "language_info": {
   "name": "python"
  }
 },
 "nbformat": 4,
 "nbformat_minor": 5
}
