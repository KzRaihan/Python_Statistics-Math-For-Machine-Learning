{
 "cells": [
  {
   "cell_type": "markdown",
   "id": "10bf45f6",
   "metadata": {},
   "source": [
    "## Topic: Conditional Statements in python"
   ]
  },
  {
   "cell_type": "markdown",
   "id": "080fa8f0",
   "metadata": {},
   "source": [
    "### Introduction of Conditional Statement\n",
    "\n",
    "- Controlling the flow of execution in a program.\n",
    "- use to make decision in our codes."
   ]
  },
  {
   "cell_type": "markdown",
   "id": "ed62c68b",
   "metadata": {},
   "source": [
    "### Type of conditional statement in python\n",
    "\n",
    "- if cds\n",
    "- elif cds \n",
    "- else cds\n",
    "\n",
    "\n",
    "- syntax of conditional statements\n",
    "- Conditional statement condtion:\n",
    "            ---body of cds---\n"
   ]
  },
  {
   "cell_type": "code",
   "execution_count": 1,
   "id": "35b2a2d2",
   "metadata": {},
   "outputs": [
    {
     "name": "stdout",
     "output_type": "stream",
     "text": [
      "Raincoat is Necessary\n",
      "Caution\n"
     ]
    }
   ],
   "source": [
    "# Example_01: Weather\n",
    "raining = True\n",
    "\n",
    "if raining == True:\n",
    "    print(\"Raincoat is Necessary\")\n",
    "    print(\"Caution\")\n",
    "\n",
    "else:\n",
    "    print(\"Go without a Raincoat\")\n",
    "    print(\"This is a sunny day\")"
   ]
  },
  {
   "cell_type": "code",
   "execution_count": 5,
   "id": "7142aa32",
   "metadata": {},
   "outputs": [
    {
     "name": "stdout",
     "output_type": "stream",
     "text": [
      "This is sunny day\n",
      "Picnics and barbecues\n"
     ]
    }
   ],
   "source": [
    "# Example_02: Nested Conditional statement\n",
    "\n",
    "raining = False\n",
    "muddy = False\n",
    "\n",
    "if raining == True:\n",
    "    print(\"Raincoat is Necessary\")\n",
    "\n",
    "    if muddy == True:\n",
    "        print(\"Sandal is Necessary\")\n",
    "    else:\n",
    "        print(\"Bring Snekers\")\n",
    "else:\n",
    "    print(\"This is sunny day\")\n",
    "    print(\"Picnics and barbecues\")\n",
    "\n"
   ]
  },
  {
   "cell_type": "code",
   "execution_count": null,
   "id": "d3c1ba0d",
   "metadata": {},
   "outputs": [
    {
     "name": "stdout",
     "output_type": "stream",
     "text": [
      "Ghurte Jabo..\n"
     ]
    }
   ],
   "source": [
    "# Example_03: if, elif, else\n",
    "\n",
    "taka = 1000\n",
    "\n",
    "if taka > 500:\n",
    "    print(\"Ghurte Jabo..\")\n",
    "elif taka > 400:\n",
    "    print(\"Bashai Order Korbo\")\n",
    "elif taka > 300:\n",
    "    print(\"Food Court a Jabo\")\n",
    "else:\n",
    "    print(\"Saving the taka\")\n",
    "\n",
    "# Note : only a time check one codition when if conditon is False then only go to the elif condition and similare for others."
   ]
  },
  {
   "cell_type": "code",
   "execution_count": 13,
   "id": "ee8e3f8a",
   "metadata": {},
   "outputs": [
    {
     "name": "stdout",
     "output_type": "stream",
     "text": [
      "Saving the Taka\n"
     ]
    }
   ],
   "source": [
    "# Example_04: Multiple condition\n",
    "taka = 1000\n",
    "raining = True\n",
    "\n",
    "if (taka > 500) and (raining == False):\n",
    "    print(\"Go to outside\")\n",
    "else:\n",
    "    print(\"Saving the Taka\")"
   ]
  },
  {
   "cell_type": "code",
   "execution_count": null,
   "id": "ea301570",
   "metadata": {},
   "outputs": [],
   "source": []
  }
 ],
 "metadata": {
  "kernelspec": {
   "display_name": "base",
   "language": "python",
   "name": "python3"
  },
  "language_info": {
   "codemirror_mode": {
    "name": "ipython",
    "version": 3
   },
   "file_extension": ".py",
   "mimetype": "text/x-python",
   "name": "python",
   "nbconvert_exporter": "python",
   "pygments_lexer": "ipython3",
   "version": "3.13.5"
  }
 },
 "nbformat": 4,
 "nbformat_minor": 5
}
