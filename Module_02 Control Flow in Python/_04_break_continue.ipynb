{
 "cells": [
  {
   "cell_type": "markdown",
   "id": "d2f50c10",
   "metadata": {},
   "source": [
    "## Topic: break and continue Statements"
   ]
  },
  {
   "cell_type": "markdown",
   "id": "9c277364",
   "metadata": {},
   "source": [
    "- also know as loop control statements\n"
   ]
  },
  {
   "cell_type": "markdown",
   "id": "1d27c4e6",
   "metadata": {},
   "source": [
    "###  Continue statement\n",
    "- Skip the current iteration and continue to the next iterations."
   ]
  },
  {
   "cell_type": "code",
   "execution_count": null,
   "id": "4a972561",
   "metadata": {},
   "outputs": [
    {
     "name": "stdout",
     "output_type": "stream",
     "text": [
      "1 is add to the sum\n",
      "3 is add to the sum\n",
      "5 is add to the sum\n",
      "7 is add to the sum\n",
      "9 is add to the sum\n",
      "Summation:  25\n"
     ]
    }
   ],
   "source": [
    "# Example_01: continue statement\n",
    "\n",
    "# only sum odd numbers from 1 to 10\n",
    "\n",
    "sum = 0\n",
    "\n",
    "for i in range(11):\n",
    "    if i%2== 0:  # even numbers\n",
    "        continue\n",
    "\n",
    "    sum += i\n",
    "    print(i, \"is add to the sum\")\n",
    "\n",
    "print(\"Summation: \", sum)"
   ]
  },
  {
   "cell_type": "code",
   "execution_count": 8,
   "id": "ec479413",
   "metadata": {},
   "outputs": [
    {
     "name": "stdout",
     "output_type": "stream",
     "text": [
      "2 is add\n",
      "4 is add\n",
      "6 is add\n",
      "8 is add\n",
      "10 is add\n",
      "Multiplication of even number(1-10): 3840\n"
     ]
    }
   ],
   "source": [
    "# multiply only even numbers for 1-10\n",
    "\n",
    "i = 1\n",
    "mul = 1\n",
    "\n",
    "while i <= 10:\n",
    "    if (i%2 != 0): # odd numbers\n",
    "        i += 1\n",
    "        continue\n",
    "\n",
    "    mul *= i\n",
    "    print(i, \"is add\")\n",
    "\n",
    "    i += 1\n",
    "\n",
    "print(\"Multiplication of even number(1-10):\", mul)"
   ]
  },
  {
   "cell_type": "code",
   "execution_count": 11,
   "id": "80714ddb",
   "metadata": {},
   "outputs": [
    {
     "name": "stdout",
     "output_type": "stream",
     "text": [
      "Kz\n",
      "Ra\n"
     ]
    }
   ],
   "source": [
    "# continue with list \n",
    "lst = [\"Kz\", \"\", \"Ra\"]\n",
    "\n",
    "for i in lst:\n",
    "    if i == \"\":\n",
    "        continue\n",
    "\n",
    "    print(i)"
   ]
  },
  {
   "cell_type": "markdown",
   "id": "d61239d9",
   "metadata": {},
   "source": [
    "### break statement"
   ]
  },
  {
   "cell_type": "markdown",
   "id": "1174cb84",
   "metadata": {},
   "source": [
    "- Exits the loops prematurely."
   ]
  },
  {
   "cell_type": "code",
   "execution_count": 12,
   "id": "068aa1e0",
   "metadata": {},
   "outputs": [
    {
     "name": "stdout",
     "output_type": "stream",
     "text": [
      "0\n",
      "1\n",
      "2\n",
      "3\n",
      "4\n"
     ]
    }
   ],
   "source": [
    "# Example_01: break statement\n",
    "\n",
    "for i in range(11):\n",
    "    if i == 5:\n",
    "        break\n",
    "\n",
    "    print(i)"
   ]
  },
  {
   "cell_type": "code",
   "execution_count": 16,
   "id": "66afedcd",
   "metadata": {},
   "outputs": [
    {
     "name": "stdout",
     "output_type": "stream",
     "text": [
      "94 Accuracy of the model\n",
      "95 Accuracy of the model\n",
      "96 Accuracy of the model\n",
      "97 Accuracy of the model\n",
      "98 Accuracy of the model\n",
      "99 Accuracy of the model\n",
      "100 Accuracy of the model\n"
     ]
    }
   ],
   "source": [
    "# Example_02: break statement\n",
    "# if a model gain 100 accuracy then stop for model train.\n",
    "\n",
    "\n",
    "accuracy = 93 # let, initial accuracy\n",
    "\n",
    "for i in range(25):   # here train the model is 25 times\n",
    "    accuracy += 1\n",
    "\n",
    "    print(accuracy, \"Accuracy of the model\")\n",
    "\n",
    "    if accuracy == 100:\n",
    "        break"
   ]
  },
  {
   "cell_type": "code",
   "execution_count": null,
   "metadata": {},
   "outputs": [
    {
     "name": "stdout",
     "output_type": "stream",
     "text": [
      "Accuracy :  93\n",
      "Accuracy :  94\n",
      "Accuracy :  95\n",
      "Accuracy :  96\n",
      "Accuracy :  97\n",
      "Accuracy :  98\n",
      "Accuracy :  99\n",
      "Accuracy :  100\n"
     ]
    }
   ],
   "source": [
    "# using while loop\n",
    "\n",
    "accuracy = 92\n",
    "\n",
    "while True: # this is infinite loop(infinite times training condition)\n",
    "    if accuracy == 100:\n",
    "        break\n",
    "\n",
    "    accuracy += 1 \n",
    "    print(\"Accuracy : \", accuracy)\n"
   ]
  },
  {
   "cell_type": "code",
   "execution_count": 23,
   "id": "3bcaf8af",
   "metadata": {},
   "outputs": [
    {
     "name": "stdout",
     "output_type": "stream",
     "text": [
      "Model accuracy:  95\n",
      "Model accuracy:  96\n",
      "Model accuracy:  97\n",
      "Model accuracy:  98\n",
      "Model accuracy:  99\n"
     ]
    }
   ],
   "source": [
    "# Example_03: \n",
    "\n",
    "accuracy = 95 # let initial accuracy\n",
    "\n",
    "change_or_not = True\n",
    "prv_acc = 0 # previous accuracy\n",
    "\n",
    "while True:\n",
    "    if (change_or_not == False) or (accuracy == 100):\n",
    "        break\n",
    "\n",
    "    if prv_acc >= accuracy:\n",
    "        change_or_not = False\n",
    "\n",
    "    print(\"Model accuracy: \", accuracy)\n",
    "    \n",
    "    prv_acc = accuracy\n",
    "    accuracy += 1\n",
    "    \n",
    "\n",
    "    "
   ]
  },
  {
   "cell_type": "code",
   "execution_count": 24,
   "id": "17144b93",
   "metadata": {},
   "outputs": [
    {
     "name": "stdout",
     "output_type": "stream",
     "text": [
      "Done\n"
     ]
    }
   ],
   "source": [
    "# Example\n",
    "i = 0\n",
    "while i < 3:\n",
    "    i += 1\n",
    "\n",
    "    if i == 2:\n",
    "        break\n",
    "print(\"Done\")"
   ]
  },
  {
   "cell_type": "code",
   "execution_count": 25,
   "id": "f4c66bef",
   "metadata": {},
   "outputs": [
    {
     "name": "stdout",
     "output_type": "stream",
     "text": [
      "0 0\n",
      "1 0\n"
     ]
    }
   ],
   "source": [
    "for i in range(2):\n",
    "    for j in range(3):\n",
    "        if j == 1:\n",
    "            break\n",
    "        print(i,j)"
   ]
  },
  {
   "cell_type": "code",
   "execution_count": 26,
   "id": "dd30eaf7",
   "metadata": {},
   "outputs": [
    {
     "name": "stdout",
     "output_type": "stream",
     "text": [
      "0\n"
     ]
    }
   ],
   "source": [
    "for i in range(3):\n",
    "    if i == 1:\n",
    "        break\n",
    "    print(i)"
   ]
  },
  {
   "cell_type": "code",
   "execution_count": 27,
   "id": "b38ae631",
   "metadata": {},
   "outputs": [
    {
     "name": "stdout",
     "output_type": "stream",
     "text": [
      "01"
     ]
    }
   ],
   "source": [
    "for i in range(5):\n",
    "    if i == 2:\n",
    "        break\n",
    "    print(i, end=\"\")"
   ]
  },
  {
   "cell_type": "code",
   "execution_count": 28,
   "id": "636e8f07",
   "metadata": {},
   "outputs": [
    {
     "name": "stdout",
     "output_type": "stream",
     "text": [
      "2\n"
     ]
    }
   ],
   "source": [
    "count = 0\n",
    "\n",
    "for i in [1, 2, 3, 4,5]:\n",
    "    if i % 2 !=0:\n",
    "        continue\n",
    "    count +=1\n",
    "print(count)"
   ]
  },
  {
   "cell_type": "code",
   "execution_count": 29,
   "id": "3e32a752",
   "metadata": {},
   "outputs": [
    {
     "name": "stdout",
     "output_type": "stream",
     "text": [
      "2\n"
     ]
    }
   ],
   "source": [
    "s = 0\n",
    "for i in range(1,5):\n",
    "    if i % 2 == 0:\n",
    "        s += i\n",
    "    else:\n",
    "        s -= i\n",
    "print(s)"
   ]
  },
  {
   "cell_type": "code",
   "execution_count": 30,
   "id": "a583d0d6",
   "metadata": {},
   "outputs": [
    {
     "name": "stdout",
     "output_type": "stream",
     "text": [
      "5"
     ]
    }
   ],
   "source": [
    "for i in range(5,0,-1):\n",
    "    if i%2==0:\n",
    "        continue\n",
    "    if i == 3:\n",
    "        break\n",
    "    print(i, end=\"\")\n",
    "\n"
   ]
  }
 ],
 "metadata": {
  "kernelspec": {
   "display_name": "base",
   "language": "python",
   "name": "python3"
  },
  "language_info": {
   "codemirror_mode": {
    "name": "ipython",
    "version": 3
   },
   "file_extension": ".py",
   "mimetype": "text/x-python",
   "name": "python",
   "nbconvert_exporter": "python",
   "pygments_lexer": "ipython3",
   "version": "3.13.5"
  }
 },
 "nbformat": 4,
 "nbformat_minor": 5
}
