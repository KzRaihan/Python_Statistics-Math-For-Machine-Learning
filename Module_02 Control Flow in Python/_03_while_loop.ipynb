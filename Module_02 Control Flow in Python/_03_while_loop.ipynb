{
 "cells": [
  {
   "cell_type": "markdown",
   "id": "33374633",
   "metadata": {},
   "source": [
    "## Topic: While loop"
   ]
  },
  {
   "cell_type": "markdown",
   "id": "87458df1",
   "metadata": {},
   "source": [
    "- While loop are executes as long as the condition is true."
   ]
  },
  {
   "cell_type": "code",
   "execution_count": null,
   "id": "54088053",
   "metadata": {},
   "outputs": [],
   "source": [
    "# Syntax of while loop\n",
    "\n",
    "'''  \n",
    "# initialization \n",
    "\n",
    "while condition:\n",
    "    -- set of instructions--\n",
    "\n",
    "    - condition change/update-\n",
    "\n",
    "'''"
   ]
  },
  {
   "cell_type": "code",
   "execution_count": 1,
   "id": "0e28528e",
   "metadata": {},
   "outputs": [
    {
     "name": "stdout",
     "output_type": "stream",
     "text": [
      "1 Kz\n",
      "2 Kz\n",
      "3 Kz\n",
      "4 Kz\n",
      "5 Kz\n",
      "6 Kz\n",
      "7 Kz\n",
      "8 Kz\n",
      "9 Kz\n",
      "10 Kz\n"
     ]
    }
   ],
   "source": [
    "# Example_01: while loop\n",
    "\n",
    "count = 1\n",
    "\n",
    "while count <= 10:\n",
    "    print(count, \"Kz\")\n",
    "\n",
    "    count += 1"
   ]
  },
  {
   "cell_type": "code",
   "execution_count": null,
   "id": "82abce61",
   "metadata": {},
   "outputs": [],
   "source": [
    "# Example_02: infinite loop\n",
    "i = 1\n",
    "\n",
    "while i>-1:\n",
    "    print(\"infinite loop....\")\n",
    "\n",
    "    i += 1"
   ]
  },
  {
   "cell_type": "code",
   "execution_count": null,
   "id": "1316c1d2",
   "metadata": {},
   "outputs": [],
   "source": [
    "# infinite loop\n",
    "\n",
    "i = 2 \n",
    "\n",
    "while i <= 10:\n",
    "    print(\"infinite loop...\")\n",
    "\n",
    "    i -= 1"
   ]
  },
  {
   "cell_type": "code",
   "execution_count": 5,
   "id": "e1e9ca10",
   "metadata": {},
   "outputs": [
    {
     "name": "stdout",
     "output_type": "stream",
     "text": [
      "2 is a even number\n",
      "4 is a even number\n",
      "6 is a even number\n",
      "8 is a even number\n",
      "10 is a even number\n"
     ]
    }
   ],
   "source": [
    "# find the even number from 1 to 10\n",
    "\n",
    "i = 1\n",
    " \n",
    "while i <= 10:\n",
    "    if i%2==0:\n",
    "        print(i, \"is a even number\")\n",
    "        \n",
    "    i += 1\n"
   ]
  },
  {
   "cell_type": "code",
   "execution_count": 8,
   "id": "e07a8a4d",
   "metadata": {},
   "outputs": [
    {
     "name": "stdout",
     "output_type": "stream",
     "text": [
      "5 divisor by 5\n",
      "10 divisor by 5\n"
     ]
    }
   ],
   "source": [
    "# find those numbers from 1-10 which has divisior by 5\n",
    "\n",
    "i = 1\n",
    "\n",
    "while i <= 10:\n",
    "    if (i % 5 == 0):\n",
    "        print(i, \"divisor by 5\")\n",
    "\n",
    "    i +=1"
   ]
  }
 ],
 "metadata": {
  "kernelspec": {
   "display_name": "base",
   "language": "python",
   "name": "python3"
  },
  "language_info": {
   "codemirror_mode": {
    "name": "ipython",
    "version": 3
   },
   "file_extension": ".py",
   "mimetype": "text/x-python",
   "name": "python",
   "nbconvert_exporter": "python",
   "pygments_lexer": "ipython3",
   "version": "3.13.5"
  }
 },
 "nbformat": 4,
 "nbformat_minor": 5
}
