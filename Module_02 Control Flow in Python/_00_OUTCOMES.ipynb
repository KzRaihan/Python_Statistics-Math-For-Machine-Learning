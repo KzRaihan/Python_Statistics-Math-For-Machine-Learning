{
 "cells": [
  {
   "cell_type": "markdown",
   "id": "fc05a3b2",
   "metadata": {},
   "source": [
    "### Topic: Control Flow in Python"
   ]
  },
  {
   "cell_type": "markdown",
   "id": "9ec63bd4",
   "metadata": {},
   "source": [
    "### OUTCOMES\n",
    "\n",
    "- 1. Conditional Statement\n",
    "- 2. For loop\n",
    "- 3. while loop\n",
    "- 4. break and continue statement\n",
    "- 5. Practical Problems"
   ]
  }
 ],
 "metadata": {
  "language_info": {
   "name": "python"
  }
 },
 "nbformat": 4,
 "nbformat_minor": 5
}
