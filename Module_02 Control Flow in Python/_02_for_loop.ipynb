{
 "cells": [
  {
   "cell_type": "markdown",
   "id": "cee1f9ae",
   "metadata": {},
   "source": [
    "## Topic: for loop\n"
   ]
  },
  {
   "cell_type": "markdown",
   "id": "702f3e41",
   "metadata": {},
   "source": [
    "- loop are use to repeat instructions\n",
    "\n",
    "- for loop\n",
    "    - use to iterating over a sequence(range(), list, tuple)\n"
   ]
  },
  {
   "cell_type": "code",
   "execution_count": null,
   "id": "3c34fadb",
   "metadata": {},
   "outputs": [],
   "source": [
    "# syntax of for loop\n",
    "\n",
    "'''  \n",
    "for i in sequence:\n",
    "    -- body of for loop--\n",
    "\n",
    "'''"
   ]
  },
  {
   "cell_type": "markdown",
   "id": "3182a026",
   "metadata": {},
   "source": [
    "### for loop iterating over a range()"
   ]
  },
  {
   "cell_type": "code",
   "execution_count": null,
   "id": "cace188d",
   "metadata": {},
   "outputs": [],
   "source": [
    "''' \n",
    "range()\n",
    "\n",
    "- range() function return a sequence of numbers.\n",
    "\n",
    "- syntax of range():\n",
    "    range(start, end, steps)\n",
    "\n",
    "    - start = 0 (by default) and it's optional\n",
    "    - end = user input - 1 (must)\n",
    "    - steps = 1 (by default) and it's optional\n",
    "\n",
    "'''"
   ]
  },
  {
   "cell_type": "code",
   "execution_count": null,
   "id": "79215e51",
   "metadata": {},
   "outputs": [
    {
     "data": {
      "text/plain": [
       "range(1, 11)"
      ]
     },
     "execution_count": 3,
     "metadata": {},
     "output_type": "execute_result"
    }
   ],
   "source": [
    "range(1,11,1)\n",
    "\n",
    "# start = 1\n",
    "# end = 11 - 1 \n",
    "# step = 1"
   ]
  },
  {
   "cell_type": "code",
   "execution_count": null,
   "id": "53f809c9",
   "metadata": {},
   "outputs": [
    {
     "name": "stdout",
     "output_type": "stream",
     "text": [
      "[1, 2, 3, 4, 5, 6, 7, 8, 9, 10]\n"
     ]
    }
   ],
   "source": [
    "# if type conversion into list\n",
    "\n",
    "lst = list(range(1,11))\n",
    "print(lst)"
   ]
  },
  {
   "cell_type": "code",
   "execution_count": 7,
   "id": "50127be5",
   "metadata": {},
   "outputs": [
    {
     "name": "stdout",
     "output_type": "stream",
     "text": [
      "1 Hello Dear!\n",
      "2 Hello Dear!\n",
      "3 Hello Dear!\n",
      "4 Hello Dear!\n",
      "5 Hello Dear!\n",
      "6 Hello Dear!\n",
      "7 Hello Dear!\n",
      "8 Hello Dear!\n",
      "9 Hello Dear!\n"
     ]
    }
   ],
   "source": [
    "# Example_01: for loop with range()\n",
    "\n",
    "for i in range(1,10,1):\n",
    "    print(i, \"Hello Dear!\")"
   ]
  },
  {
   "cell_type": "code",
   "execution_count": 8,
   "id": "2149090c",
   "metadata": {},
   "outputs": [
    {
     "name": "stdout",
     "output_type": "stream",
     "text": [
      "0\n",
      "1\n",
      "2\n",
      "3\n",
      "4\n",
      "5\n"
     ]
    }
   ],
   "source": [
    "# Example_02: for loop with range()\n",
    "\n",
    "for i in range(6):\n",
    "    print(i)"
   ]
  },
  {
   "cell_type": "code",
   "execution_count": 11,
   "id": "26bd4528",
   "metadata": {},
   "outputs": [
    {
     "name": "stdout",
     "output_type": "stream",
     "text": [
      "1 Kz\n",
      "2 Kz\n",
      "3 Kz\n",
      "4 Kz\n",
      "5 Kz\n"
     ]
    }
   ],
   "source": [
    "# Example_03: for loop with range()\n",
    "for i in range(1,6):\n",
    "    print(i, \"Kz\")\n"
   ]
  },
  {
   "cell_type": "code",
   "execution_count": null,
   "id": "f9330904",
   "metadata": {},
   "outputs": [
    {
     "name": "stdout",
     "output_type": "stream",
     "text": [
      "1 odd\n",
      "3 odd\n",
      "5 odd\n",
      "7 odd\n",
      "9 odd\n"
     ]
    }
   ],
   "source": [
    "# Example_03: for loop with range() \n",
    "for i in range(1,11,2):\n",
    "    print(i, \"odd\")\n"
   ]
  },
  {
   "cell_type": "code",
   "execution_count": 24,
   "id": "c33fbb7b",
   "metadata": {},
   "outputs": [
    {
     "name": "stdout",
     "output_type": "stream",
     "text": [
      "1 is added to the sum\n",
      "2 is added to the sum\n",
      "3 is added to the sum\n",
      "4 is added to the sum\n",
      "5 is added to the sum\n",
      "6 is added to the sum\n",
      "7 is added to the sum\n",
      "8 is added to the sum\n",
      "9 is added to the sum\n",
      "10 is added to the sum\n",
      "\n",
      "Summation(1-10):  55\n"
     ]
    }
   ],
   "source": [
    "# Example_04: Practical problem\n",
    "# sum form 1 to 10\n",
    "\n",
    "sum = 0\n",
    "\n",
    "for i in range(1,11):\n",
    "    sum += i\n",
    "    print(i, \"is added to the sum\")\n",
    "\n",
    "print(\"\\nSummation(1-10): \", sum)    "
   ]
  },
  {
   "cell_type": "markdown",
   "id": "07300681",
   "metadata": {},
   "source": [
    "### Nested for loop"
   ]
  },
  {
   "cell_type": "code",
   "execution_count": 15,
   "id": "7f5587c8",
   "metadata": {},
   "outputs": [
    {
     "name": "stdout",
     "output_type": "stream",
     "text": [
      "1 1\n",
      "1 2\n",
      "2 1\n",
      "2 2\n",
      "3 1\n",
      "3 2\n",
      "4 1\n",
      "4 2\n",
      "5 1\n",
      "5 2\n"
     ]
    }
   ],
   "source": [
    "# nested loop: loop inside another loops\n",
    "\n",
    "for i in range(1,6):\n",
    "    for j in range(1,3):\n",
    "        print(i, j)"
   ]
  },
  {
   "cell_type": "markdown",
   "id": "33d1f0bc",
   "metadata": {},
   "source": [
    "### for loop iterating over string"
   ]
  },
  {
   "cell_type": "code",
   "execution_count": 16,
   "id": "2af807c4",
   "metadata": {},
   "outputs": [
    {
     "name": "stdout",
     "output_type": "stream",
     "text": [
      "G\n",
      "o\n",
      "o\n",
      "d\n",
      " \n",
      "M\n",
      "o\n",
      "r\n",
      "n\n",
      "i\n",
      "n\n",
      "g\n",
      " \n",
      "E\n",
      "v\n",
      "e\n",
      "r\n",
      "y\n",
      "o\n",
      "n\n",
      "e\n"
     ]
    }
   ],
   "source": [
    "text = \"Good Morning Everyone\"\n",
    "\n",
    "for i in text:\n",
    "    print(i)"
   ]
  },
  {
   "cell_type": "markdown",
   "id": "9fed72fa",
   "metadata": {},
   "source": [
    "### for loop iterating over list"
   ]
  },
  {
   "cell_type": "code",
   "execution_count": null,
   "id": "bf52d0b1",
   "metadata": {},
   "outputs": [
    {
     "name": "stdout",
     "output_type": "stream",
     "text": [
      "10 <class 'int'>\n",
      "20 <class 'int'>\n",
      "30 <class 'int'>\n",
      "40 <class 'int'>\n",
      "50 <class 'int'>\n",
      "[10, 20, 30, 40, 50] <class 'list'>\n"
     ]
    }
   ],
   "source": [
    "lst = [10, 20, 30, 40, 50]\n",
    "\n",
    "for i in lst:\n",
    "    print(i, type(i))\n",
    "    \n",
    "    \n",
    "print(lst, type(lst))"
   ]
  }
 ],
 "metadata": {
  "kernelspec": {
   "display_name": "base",
   "language": "python",
   "name": "python3"
  },
  "language_info": {
   "codemirror_mode": {
    "name": "ipython",
    "version": 3
   },
   "file_extension": ".py",
   "mimetype": "text/x-python",
   "name": "python",
   "nbconvert_exporter": "python",
   "pygments_lexer": "ipython3",
   "version": "3.13.5"
  }
 },
 "nbformat": 4,
 "nbformat_minor": 5
}
