{
 "cells": [
  {
   "cell_type": "markdown",
   "id": "b70ba3c0",
   "metadata": {},
   "source": [
    "### 1. K. Max and Min\n",
    "- Input\n",
    "   - Only one line containing 3 numbers A, B and C ( - 105 ≤ A, B, C ≤ 105)\n",
    "\n",
    "- Output \n",
    "   - Print the minimum number followed by a single space then print the maximum number.\n",
    "\n",
    "\n",
    "Examples\n",
    "Input\n",
    "1 2 3\n",
    "Output\n",
    "1 3\n"
   ]
  },
  {
   "cell_type": "code",
   "execution_count": null,
   "id": "8d4e68fb",
   "metadata": {},
   "outputs": [
    {
     "name": "stdout",
     "output_type": "stream",
     "text": [
      "10 30\n"
     ]
    }
   ],
   "source": [
    "# input from user as a string\n",
    "input_num = input()\n",
    "\n",
    "# split string\n",
    "nums = input_num.split()\n",
    "\n",
    "# store and conver into int\n",
    "num1 = int(nums[0])\n",
    "num2 = int(nums[1])\n",
    "num3 = int(nums[2])\n",
    "\n",
    "# Assume min , max\n",
    "\n",
    "min = num1; max = num1\n",
    "\n",
    "# compare\n",
    "if min > num2:\n",
    "    min = num2\n",
    "\n",
    "if min > num3:\n",
    "    min = num3\n",
    "\n",
    "if max < num2:\n",
    "    max = num2\n",
    "\n",
    "if max < num3:\n",
    "    max = num3\n",
    "\n",
    "print(min, max)\n",
    "\n",
    "\n"
   ]
  },
  {
   "cell_type": "markdown",
   "id": "141d04dc",
   "metadata": {},
   "source": [
    "### C. Even, Odd, Positive and Negative\n",
    "- Given N numbers. Count how many of these values are even, odd, positive and negative.\n",
    "\n",
    "Example\n",
    "\n",
    "Input:\n",
    "\n",
    "5\n",
    "-5 0 -3 -4 12\n",
    "\n",
    "Output:\n",
    "\n",
    "Even: 3\n",
    "Odd: 2\n",
    "Positive: 1\n",
    "Negative: 3"
   ]
  },
  {
   "cell_type": "code",
   "execution_count": 24,
   "id": "11dc8fbb",
   "metadata": {},
   "outputs": [
    {
     "name": "stdout",
     "output_type": "stream",
     "text": [
      "Even: 1\n",
      "Odd: 1\n",
      "Positive: 1\n",
      "Negative: 1\n"
     ]
    }
   ],
   "source": [
    "numbers = int(input())\n",
    "\n",
    "ip_nums = input()\n",
    "\n",
    "nums = ip_nums.split()\n",
    "\n",
    "even = 0\n",
    "odd = 0\n",
    "pos = 0\n",
    "neg = 0\n",
    "\n",
    "\n",
    "for i in range(numbers):\n",
    "    num = int(nums[i])\n",
    "\n",
    "    if (num>0):\n",
    "        pos += 1\n",
    "    elif (num<0):\n",
    "        neg += 1\n",
    "\n",
    "    if num%2==0:\n",
    "        even += 1\n",
    "    else:\n",
    "        odd += 1\n",
    "\n",
    "print(\"Even:\", even)\n",
    "print(\"Odd:\", odd)\n",
    "print(\"Positive:\", pos)\n",
    "print(\"Negative:\", neg)\n"
   ]
  },
  {
   "cell_type": "markdown",
   "id": "9e654c4b",
   "metadata": {},
   "source": [
    "### Q. Digits\n",
    "Input\n",
    "First line contains a number T (1 ≤ T ≤ 10) number of test cases.\n",
    "\n",
    "Next T lines will contain a number N (0 ≤ N ≤ 109)\n",
    "\n",
    "Output\n",
    "For each test case print a single line contains the digits of the number separated by space.\n",
    "\n",
    "\n",
    "\n",
    "Example\n",
    "Input: \n",
    "4\n",
    "121\n",
    "39\n",
    "123456\n",
    "1200\n",
    "\n",
    "Output:\n",
    "1 2 1\n",
    "9 3\n",
    "6 5 4 3 2 1\n",
    "0 0 2 1"
   ]
  },
  {
   "cell_type": "code",
   "execution_count": null,
   "id": "449d5793",
   "metadata": {},
   "outputs": [],
   "source": [
    "text_case = int(input())\n",
    "\n",
    "for i in range(text_case):\n",
    "    nums = int(input())\n",
    "\n",
    "    if nums == 0:\n",
    "        print(0)\n",
    "        continue\n",
    "\n",
    "    while nums > 0:\n",
    "        print(nums%10, end =\" \")\n",
    "\n",
    "        nums = nums // 10\n",
    "    \n",
    "    print()"
   ]
  }
 ],
 "metadata": {
  "kernelspec": {
   "display_name": "base",
   "language": "python",
   "name": "python3"
  },
  "language_info": {
   "codemirror_mode": {
    "name": "ipython",
    "version": 3
   },
   "file_extension": ".py",
   "mimetype": "text/x-python",
   "name": "python",
   "nbconvert_exporter": "python",
   "pygments_lexer": "ipython3",
   "version": "3.13.5"
  }
 },
 "nbformat": 4,
 "nbformat_minor": 5
}
