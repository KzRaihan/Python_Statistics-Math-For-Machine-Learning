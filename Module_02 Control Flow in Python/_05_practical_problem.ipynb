{
 "cells": [
  {
   "cell_type": "markdown",
   "id": "b70ba3c0",
   "metadata": {},
   "source": [
    "### 1. K. Max and Min\n",
    "- Input\n",
    "   - Only one line containing 3 numbers A, B and C ( - 105 ≤ A, B, C ≤ 105)\n",
    "\n",
    "- Output \n",
    "   - Print the minimum number followed by a single space then print the maximum number.\n",
    "\n",
    "\n",
    "Examples\n",
    "Input\n",
    "1 2 3\n",
    "Output\n",
    "1 3\n"
   ]
  },
  {
   "cell_type": "code",
   "execution_count": null,
   "id": "8d4e68fb",
   "metadata": {},
   "outputs": [
    {
     "name": "stdout",
     "output_type": "stream",
     "text": [
      "10 30\n"
     ]
    }
   ],
   "source": [
    "# input from user as a string\n",
    "input_num = input()\n",
    "\n",
    "# split string to list\n",
    "nums = input_num.split()\n",
    "\n",
    "# store and conver into int\n",
    "num1 = int(nums[0])\n",
    "num2 = int(nums[1])\n",
    "num3 = int(nums[2])\n",
    "\n",
    "# Assume min , max\n",
    "\n",
    "min = num1; max = num1\n",
    "\n",
    "# compare\n",
    "if min > num2:\n",
    "    min = num2\n",
    "\n",
    "if min > num3:\n",
    "    min = num3\n",
    "\n",
    "if max < num2:\n",
    "    max = num2\n",
    "\n",
    "if max < num3:\n",
    "    max = num3\n",
    "\n",
    "print(min, max)\n",
    "\n",
    "\n"
   ]
  },
  {
   "cell_type": "markdown",
   "id": "141d04dc",
   "metadata": {},
   "source": [
    "### C. Even, Odd, Positive and Negative\n",
    "- Given N numbers. Count how many of these values are even, odd, positive and negative.\n",
    "\n",
    "Example\n",
    "\n",
    "Input:\n",
    "\n",
    "5\n",
    "-5 0 -3 -4 12\n",
    "\n",
    "Output:\n",
    "\n",
    "Even: 3\n",
    "Odd: 2\n",
    "Positive: 1\n",
    "Negative: 3"
   ]
  },
  {
   "cell_type": "code",
   "execution_count": 24,
   "id": "11dc8fbb",
   "metadata": {},
   "outputs": [
    {
     "name": "stdout",
     "output_type": "stream",
     "text": [
      "Even: 1\n",
      "Odd: 1\n",
      "Positive: 1\n",
      "Negative: 1\n"
     ]
    }
   ],
   "source": [
    "numbers = int(input())\n",
    "\n",
    "ip_nums = input()\n",
    "\n",
    "nums = ip_nums.split()\n",
    "\n",
    "even = 0\n",
    "odd = 0\n",
    "pos = 0\n",
    "neg = 0\n",
    "\n",
    "\n",
    "for i in range(numbers):\n",
    "    num = int(nums[i])\n",
    "\n",
    "    if (num>0):\n",
    "        pos += 1\n",
    "    elif (num<0):\n",
    "        neg += 1\n",
    "\n",
    "    if num%2==0:\n",
    "        even += 1\n",
    "    else:\n",
    "        odd += 1\n",
    "\n",
    "print(\"Even:\", even)\n",
    "print(\"Odd:\", odd)\n",
    "print(\"Positive:\", pos)\n",
    "print(\"Negative:\", neg)\n"
   ]
  },
  {
   "cell_type": "markdown",
   "id": "9e654c4b",
   "metadata": {},
   "source": [
    "### Q. Digits\n",
    "Input\n",
    "First line contains a number T (1 ≤ T ≤ 10) number of test cases.\n",
    "\n",
    "Next T lines will contain a number N (0 ≤ N ≤ 109)\n",
    "\n",
    "Output\n",
    "For each test case print a single line contains the digits of the number separated by space.\n",
    "\n",
    "\n",
    "\n",
    "Example\n",
    "Input: \n",
    "4\n",
    "121\n",
    "39\n",
    "123456\n",
    "1200\n",
    "\n",
    "Output:\n",
    "1 2 1\n",
    "9 3\n",
    "6 5 4 3 2 1\n",
    "0 0 2 1"
   ]
  },
  {
   "cell_type": "code",
   "execution_count": null,
   "id": "449d5793",
   "metadata": {},
   "outputs": [],
   "source": [
    "text_case = int(input())\n",
    "\n",
    "for i in range(text_case):\n",
    "    nums = int(input())\n",
    "\n",
    "    if nums == 0:\n",
    "        print(0)\n",
    "        continue\n",
    "\n",
    "    while nums > 0:\n",
    "        print(nums%10, end =\" \")\n",
    "\n",
    "        nums = nums // 10\n",
    "    \n",
    "    print()"
   ]
  },
  {
   "cell_type": "markdown",
   "id": "81617a49",
   "metadata": {},
   "source": [
    "### Smart Light Pilot\n",
    "\n",
    "- You are given two real numbers: the current brightness and a threshold. If brightness ≥ threshold, print ON; otherwise print OFF.\n",
    "\n",
    "- Sample Input \n",
    "60 50\n",
    "- Sample Output \n",
    "ON"
   ]
  },
  {
   "cell_type": "code",
   "execution_count": null,
   "id": "1ca273c3",
   "metadata": {},
   "outputs": [
    {
     "name": "stdout",
     "output_type": "stream",
     "text": [
      "['10', '20'] <class 'list'>\n",
      "10 <class 'int'>\n"
     ]
    }
   ],
   "source": [
    "# input form user as a string format  \n",
    "smart_light = input()   # i/p: 10 20\n",
    "\n",
    "# split to two part\n",
    "nums = smart_light.split()   # nums = ['10', '20']\n",
    "\n",
    "# print \n",
    "print(nums, type(nums))  # type : list\n",
    "\n",
    "# convert str to int\n",
    "num_1 = int(nums[0])  # num_1 = 10\n",
    "num_2 = int(nums[1])  # num_2 = 20\n",
    "\n",
    "# show the num_1 and num_2 and it's type\n",
    "print(num_1, type(num_1))\n",
    "\n",
    "# now perform the operation\n",
    "\n",
    "if num_1 >= num_2:\n",
    "    print(\"ON\")\n",
    "else:\n",
    "    print(\"OFF\")\n",
    "\n"
   ]
  },
  {
   "cell_type": "code",
   "execution_count": 9,
   "id": "fa9f0f50",
   "metadata": {},
   "outputs": [
    {
     "name": "stdout",
     "output_type": "stream",
     "text": [
      "OFF\n"
     ]
    }
   ],
   "source": [
    " \n",
    "num_1,num_2 = input().split() \n",
    "\n",
    "num1 = int(num_1)\n",
    "num2 = int(num_2)\n",
    "\n",
    "if num1 >= num2:\n",
    "    print(\"ON\")\n",
    "else:\n",
    "    print(\"OFF\")\n"
   ]
  },
  {
   "cell_type": "code",
   "execution_count": null,
   "id": "eb14e8f6",
   "metadata": {},
   "outputs": [],
   "source": []
  },
  {
   "cell_type": "code",
   "execution_count": null,
   "id": "32d0b185",
   "metadata": {},
   "outputs": [],
   "source": [
    "### Al Keyword Counter\n",
    "'''  \n",
    "Given that: or input\n",
    "   user_mess = \"I \"\n",
    "   ai_keyword = [ai, data, model, learn, train, neural]\n",
    "\n",
    "\n",
    "work: perform\n",
    "    count how many ai_keyword appear in the user_mess\n",
    "\n",
    "    if count of user_mess >= 2 of ai_keyword\n",
    "        then display -> AI Detected\n",
    "    else:\n",
    "        displa -> Not AI Related\n",
    "'''"
   ]
  },
  {
   "cell_type": "code",
   "execution_count": null,
   "id": "dd43d2bd",
   "metadata": {},
   "outputs": [],
   "source": [
    "# input:\n",
    "# -  i like reading books"
   ]
  },
  {
   "cell_type": "code",
   "execution_count": null,
   "id": "b26eb83f",
   "metadata": {},
   "outputs": [
    {
     "name": "stdout",
     "output_type": "stream",
     "text": [
      "i like reading books\n",
      "Not AI Related\n"
     ]
    }
   ],
   "source": [
    "user_mess = input().lower()\n",
    "\n",
    "# print(user_mess)\n",
    "\n",
    "user_lst_mess = user_mess.split()\n",
    "\n",
    "# print(user_lst_mess)\n",
    "\n",
    "ai_keyword = ['ai', 'data', 'model', 'learn', 'train', 'neural']\n",
    "\n",
    "# print(ai_keyword)\n",
    "\n",
    "count = 0\n",
    "level = \"Not AI Related\"\n",
    "\n",
    "for i in user_lst_mess:\n",
    "    for j in ai_keyword:\n",
    "        # print(f\"i - {i} and j - {j}\")\n",
    "        if i == j:\n",
    "            count += 1\n",
    "            # print(f\"count: - {count}\")\n",
    "            # print(f\"same - {i} and - {j}\")\n",
    "\n",
    "            if count >= 2:\n",
    "                level = \"AI Detected\"\n",
    "                # print(f\"count: - {count}\")\n",
    "\n",
    "            else:\n",
    "                level = \"Not AI Related\"\n",
    "\n",
    "        # else:\n",
    "        #     level = \"Not AI Related\"\n",
    "\n",
    "\n",
    "\n",
    "print(level)"
   ]
  },
  {
   "cell_type": "markdown",
   "id": "877fd36b",
   "metadata": {},
   "source": [
    "### Mini Loss Tracker\n",
    "\n",
    "# link: https://www.hackerrank.com/contests/ai-ml-module-4-practice-day-1/challenges/b4-mini-loss-tracker-average-monitor\n",
    " \n",
    " Read how many values to process, then read that many losses and compute the average. If the average loss is ≤ target, print PASS; otherwise print RETRY.\n",
    "\n",
    "Input Format\n",
    "\n",
    "First line: an integer N (how many losses) Second line: a real number target Next N lines: each a real number loss_i\n",
    "\n",
    "N\n",
    "target\n",
    "loss_1\n",
    "loss_2\n",
    "...\n",
    "loss_N"
   ]
  },
  {
   "cell_type": "markdown",
   "id": "e770dcff",
   "metadata": {},
   "source": [
    "#### find the inside of the above problem\n",
    "\n",
    "- input: \n",
    "    - 1st input: how many loss (loss_n)\n",
    "\n",
    "    - 2nd input: Target value (tar_value)\n",
    "\n",
    "    - 3th input: input from user total loss items or values\n",
    "\n",
    "- perform work(tasK):\n",
    "    - find the average loss and compare to the target value\n",
    "\n",
    "    - if average loss <= Target value\n",
    "        - Display PASS\n",
    "    - else\n",
    "        - RETRY\n",
    "\n",
    "\n",
    "- Sample Input \n",
    "    3\n",
    "    0.35\n",
    "    0.20\n",
    "    0.30\n",
    "    0.40\n",
    "\n",
    "- Sample Output \n",
    "    PASS\n",
    "\n",
    "- Sample Input 1\n",
    "    5\n",
    "    0.40\n",
    "    0.45\n",
    "    0.42\n",
    "    0.39\n",
    "    0.41\n",
    "    0.44\n",
    "    \n",
    "- Sample Output 1\n",
    "\n",
    "    RETRY\n"
   ]
  },
  {
   "cell_type": "code",
   "execution_count": 71,
   "id": "25fe2fee",
   "metadata": {},
   "outputs": [
    {
     "name": "stdout",
     "output_type": "stream",
     "text": [
      "RETRY\n"
     ]
    }
   ],
   "source": [
    "# solve : Mini Loss Tracker\n",
    "loss_n = int(input())  # Total loss items\n",
    "\n",
    "tar_value = float(input()) # Target value\n",
    "\n",
    "sum_total_loss = 0\n",
    "\n",
    "i = 1\n",
    "while i <= loss_n:\n",
    "    loss_nums = float(input())\n",
    "\n",
    "    sum_total_loss += loss_nums\n",
    "\n",
    "    avg_loss = (sum_total_loss/loss_n)\n",
    "\n",
    "    i += 1\n",
    "\n",
    "if avg_loss <= tar_value:\n",
    "    print(\"PASS\")\n",
    "else:\n",
    "    print(\"RETRY\")\n"
   ]
  },
  {
   "cell_type": "markdown",
   "id": "dfa32d58",
   "metadata": {},
   "source": [
    "### Majority Vote Gate\n",
    "\n",
    "- You’re simulating an ensemble of mini-models that each vote YES or NO on admitting a user. Read how many votes there are, then read each vote. If the number of YES votes is greater than or equal to the number of NO votes, print ACCEPT; otherwise print REJECT.\n",
    "\n",
    "- Input Format\n",
    "\n",
    "    First line: integer N (number of votes) Next N lines: each is YES or NO (uppercase)\n",
    "\n",
    "    N\n",
    "    YES\n",
    "    NO\n",
    "    ...\n",
    "\n",
    "    Output Format\n",
    "\n",
    "    Print exactly one word:\n",
    "\n",
    "    ACCEPT\n",
    "\n",
    "\n",
    "- Sample Input 0\n",
    "\n",
    "    1\n",
    "    YES\n",
    "    Sample Output 0\n",
    "\n",
    "    ACCEPT"
   ]
  },
  {
   "cell_type": "markdown",
   "id": "a72e34fe",
   "metadata": {},
   "source": [
    "#### analyse the problem and find the insights\n",
    "\n",
    "There are a vote counter model that count the votes.\n",
    "\n",
    "- input:\n",
    "    - 1st i/p: Numbers of votes that provide users\n",
    "\n",
    "    - 2nd i/p: Enter each users votes in ther form you (YES/NO)\n",
    "\n",
    "- TasK:\n",
    "    - IF numbers of YES >= number of NO votes\n",
    "        - Display: ACCEPT\n",
    "    - ELSE:\n",
    "        - Display: REJECT"
   ]
  },
  {
   "cell_type": "code",
   "execution_count": 77,
   "id": "490d3a5e",
   "metadata": {},
   "outputs": [
    {
     "name": "stdout",
     "output_type": "stream",
     "text": [
      "ACCEPT\n"
     ]
    }
   ],
   "source": [
    "total_votes = int(input())\n",
    "\n",
    "count_yes = 0\n",
    "count_no = 0\n",
    "\n",
    "i = 1\n",
    "while i <= total_votes:\n",
    "    user_vote = input().upper()\n",
    "\n",
    "    if user_vote == \"YES\":\n",
    "        count_yes += 1\n",
    "    else:\n",
    "        count_no += 1\n",
    "    \n",
    "    i += 1\n",
    "\n",
    "if count_yes >= count_no:\n",
    "    print(\"ACCEPT\")\n",
    "\n",
    "else:\n",
    "    print(\"REJECT\")\n"
   ]
  },
  {
   "cell_type": "markdown",
   "id": "33a855f3",
   "metadata": {},
   "source": [
    "### AI Mood Detector\n",
    "- link: https://www.hackerrank.com/contests/ai-ml-module-4-practice-day-1/challenges/ai-mood-detector\n",
    "\n",
    "\n",
    "\n",
    "- You are given a sentence that represents a user's message. Your job is to guess if the mood is happy, sad, or neutral using simple logic:\n",
    "\n",
    "    - If the message contains words like happy, joy, or smile, print Happy Mood.\n",
    "    - If it contains words like sad, cry, or angry, print Sad Mood.\n",
    "    - Otherwise, print Neutral Mood.\n",
    "\n",
    "\n",
    "- Input Format\n",
    "\n",
    "    - A single string representing a user's message.\n",
    "\n",
    "- Output Format\n",
    "\n",
    "    - Print one line: either Happy Mood, Sad Mood, or Neutral Mood.\n",
    "\n",
    "\n",
    "- Sample Input \n",
    "\n",
    "happy birthday\n",
    "\n",
    "- Sample Output \n",
    "Happy Mood"
   ]
  },
  {
   "cell_type": "markdown",
   "id": "79d38ac9",
   "metadata": {},
   "source": [
    "#### analyse the problem AI Mood Detector and find the insights\n",
    "\n",
    "- input:\n",
    "    - user enter the input with lowercase characters(user_message).\n",
    "\n",
    "- tasK:\n",
    "    - if user_message contain (happy, joy, or smile) ; here note: or menas -> if only one is present then output is true\n",
    "        - Display: Happy Mode\n",
    "    \n",
    "    - elif user_message contain (sad, cry, or angry)\n",
    "        - Display: Sad Mode\n",
    "    \n",
    "    - else\n",
    "        - Display: Neutral Mode."
   ]
  },
  {
   "cell_type": "code",
   "execution_count": null,
   "id": "2431dd70",
   "metadata": {},
   "outputs": [
    {
     "name": "stdout",
     "output_type": "stream",
     "text": [
      "Happy Mode\n"
     ]
    }
   ],
   "source": [
    "# slove : AI Mode Detector\n",
    "# input\n",
    "user_text = input().lower()\n",
    "\n",
    "# split into list of string\n",
    "text_lst = user_text.split()\n",
    "\n",
    "# happy mode list\n",
    "happy_mode = [\"happy\", \"joy\", \"smile\"]\n",
    "\n",
    "# sad mode list\n",
    "sad_mode = [\"sad\", \"cry\", \"angry\"]\n",
    "\n",
    "\n",
    "level = \"Neutral Mode\"\n",
    "\n",
    "for i in text_lst:\n",
    "    if i in happy_mode:\n",
    "        level = \"Happy Mode\"\n",
    "        break\n",
    "    elif i in sad_mode:\n",
    "        level = \"Sad Mode\"\n",
    "        break\n",
    "print(level)\n"
   ]
  },
  {
   "cell_type": "code",
   "execution_count": null,
   "id": "85fbb7f1",
   "metadata": {},
   "outputs": [
    {
     "name": "stdout",
     "output_type": "stream",
     "text": [
      "happy birthday \n",
      "Happy Mode\n"
     ]
    }
   ],
   "source": [
    "# not solve: AI Mood Detector\n",
    "\n",
    "user_message = input().lower()\n",
    "\n",
    "print(user_message)\n",
    "\n",
    "lst_user_message = user_message.split()\n",
    "\n",
    "\n",
    "happy_mode = ['happy', 'joy', 'smile']\n",
    "sad_mode = ['sad', 'cry', 'angry']\n",
    "\n",
    "\n",
    "level = \"Neutral Mode\"\n",
    "\n",
    "for i in lst_user_message:\n",
    "\n",
    "    # happy mode\n",
    "    for j in happy_mode:\n",
    "        \n",
    "        if i == j:\n",
    "            level = \"Happy Mode\"\n",
    "            break\n",
    "\n",
    "     # sad mode   \n",
    "    for k in sad_mode:\n",
    "        if i == k:\n",
    "            level = \"Sad Mode\"\n",
    "            break\n",
    "\n",
    "    \n",
    "print(level)"
   ]
  },
  {
   "cell_type": "code",
   "execution_count": null,
   "id": "77cdc293",
   "metadata": {},
   "outputs": [
    {
     "name": "stdout",
     "output_type": "stream",
     "text": [
      "Neutral Mode\n"
     ]
    }
   ],
   "source": [
    "# not solve: AI Mood Detector (problem)\n",
    "\n",
    "user_message = input().lower()\n",
    "\n",
    "lst_user_message = user_message.split()\n",
    "\n",
    "# happy_mode = ['happy', 'joy', 'smile']\n",
    "# say_mode = ['sad', 'cry', 'angry']\n",
    "\n",
    "level = \"Neutral Mode\"\n",
    "\n",
    "for i in lst_user_message:\n",
    "\n",
    "    if (i == 'happy') or (i == 'joy') or (i == 'smile'):\n",
    "\n",
    "        level = \"Happy Mode\"\n",
    "        break\n",
    "\n",
    "    elif (i == 'sad') or (i == 'cry') or (i == 'angry'):\n",
    "        levle = \"Sad Mode\" \n",
    "        \n",
    "\n",
    "print(level)"
   ]
  },
  {
   "cell_type": "code",
   "execution_count": null,
   "id": "cd736dd0",
   "metadata": {},
   "outputs": [
    {
     "name": "stdout",
     "output_type": "stream",
     "text": [
      "10 20 30\n"
     ]
    }
   ],
   "source": [
    "\n",
    "nums = [input()]\n",
    "\n",
    "\n",
    "print(nums[0])\n",
    "\n"
   ]
  },
  {
   "cell_type": "markdown",
   "id": "de5cd6c7",
   "metadata": {},
   "source": [
    "### AI Brightness Analyzer\n",
    "- link: https://www.hackerrank.com/contests/ai-ml-module-4-practice-day-1/challenges/p2-a2-ai-brightness-analyzer\n",
    "\n",
    "- You are given a list of integers representing pixel brightness values. Your task is to find the average brightness and decide whether the image is Dark, Normal, or Bright.\n",
    "\n",
    "    - If the average brightness < 85 → print Dark Image\n",
    "    - If 85 ≤ average brightness ≤ 170 → print Normal Image\n",
    "    - If average brightness > 170 → print Bright Image\n",
    "\n",
    "\n",
    "- Sample Input 1\n",
    "\n",
    "    100 150 120 90\n",
    "\n",
    "- Sample Output 1\n",
    "\n",
    "    Normal Image\n"
   ]
  },
  {
   "cell_type": "markdown",
   "id": "5dec012f",
   "metadata": {},
   "source": [
    "#### Analyse the Problem (AI Brightness Analyzer) and find the insights\n",
    "\n",
    "- input:\n",
    "    - integer number of lists(this is brightness value).\n",
    "\n",
    "- TasK:\n",
    "    - find the average of the brightness\n",
    "        - if avg_brightness < 85:\n",
    "            - Display: 'Dark image'\n",
    "        - elif avg_brightness >= 85 and avg_brightness <= 170:\n",
    "            - Display: 'Normal image'\n",
    "        \n",
    "        - else (avg_brightness >=170):\n",
    "            - Display: 'Bright image'\n"
   ]
  },
  {
   "cell_type": "code",
   "execution_count": null,
   "id": "594ab610",
   "metadata": {},
   "outputs": [
    {
     "name": "stdout",
     "output_type": "stream",
     "text": [
      "Dark Image\n"
     ]
    }
   ],
   "source": [
    "# AI Brightness Analyzer\n",
    "num = input()\n",
    "\n",
    "nums = num.split()\n",
    "\n",
    "# input brightness (0-255)\n",
    "\n",
    "sum = 0\n",
    "avg_bright = 0\n",
    "\n",
    "for i in nums:\n",
    "    i = int(i)\n",
    "    # print(i, type(i))\n",
    "\n",
    "    sum += i\n",
    "\n",
    "    avg_bright = (sum/len(nums))\n",
    "\n",
    "if avg_bright > 170:\n",
    "    print(\"Bright Image\")\n",
    "\n",
    "elif avg_bright< 170 and avg_bright >=85:\n",
    "    print(\"Normal Image\")\n",
    "\n",
    "else:\n",
    "    print(\"Dark Image\")\n",
    "\n"
   ]
  },
  {
   "cell_type": "code",
   "execution_count": null,
   "id": "80d6085d",
   "metadata": {},
   "outputs": [],
   "source": []
  }
 ],
 "metadata": {
  "kernelspec": {
   "display_name": "base",
   "language": "python",
   "name": "python3"
  },
  "language_info": {
   "codemirror_mode": {
    "name": "ipython",
    "version": 3
   },
   "file_extension": ".py",
   "mimetype": "text/x-python",
   "name": "python",
   "nbconvert_exporter": "python",
   "pygments_lexer": "ipython3",
   "version": "3.13.5"
  }
 },
 "nbformat": 4,
 "nbformat_minor": 5
}
